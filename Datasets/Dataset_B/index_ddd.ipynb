{
 "cells": [
  {
   "cell_type": "code",
   "execution_count": 1,
   "id": "978a3ed8",
   "metadata": {},
   "outputs": [],
   "source": [
    "import pandas as pd\n",
    "import numpy as np\n",
    "from PIL import Image, ImageOps \n",
    "import matplotlib.pyplot as plt\n",
    "import random\n",
    "import cv2"
   ]
  },
  {
   "cell_type": "code",
   "execution_count": 26,
   "id": "be0ba15c",
   "metadata": {},
   "outputs": [],
   "source": [
    "df = pd.read_pickle(\"../Dataset_B_resized_256.pkl\")"
   ]
  },
  {
   "cell_type": "code",
   "execution_count": 3,
   "id": "9382f57f",
   "metadata": {},
   "outputs": [
    {
     "data": {
      "text/html": [
       "<div>\n",
       "<style scoped>\n",
       "    .dataframe tbody tr th:only-of-type {\n",
       "        vertical-align: middle;\n",
       "    }\n",
       "\n",
       "    .dataframe tbody tr th {\n",
       "        vertical-align: top;\n",
       "    }\n",
       "\n",
       "    .dataframe thead th {\n",
       "        text-align: right;\n",
       "    }\n",
       "</style>\n",
       "<table border=\"1\" class=\"dataframe\">\n",
       "  <thead>\n",
       "    <tr style=\"text-align: right;\">\n",
       "      <th></th>\n",
       "      <th>PID</th>\n",
       "      <th>Label</th>\n",
       "      <th>Image</th>\n",
       "      <th>File</th>\n",
       "    </tr>\n",
       "  </thead>\n",
       "  <tbody>\n",
       "    <tr>\n",
       "      <th>0</th>\n",
       "      <td>900-00-1961</td>\n",
       "      <td>Glioma II</td>\n",
       "      <td>[[2, 1, 1, 1, 0, 0, 0, 1, 1, 1, 0, 0, 0, 0, 0,...</td>\n",
       "      <td>D:\\Datasets\\manifest-tXudPFfp43472957274060920...</td>\n",
       "    </tr>\n",
       "    <tr>\n",
       "      <th>1</th>\n",
       "      <td>900-00-1961</td>\n",
       "      <td>Glioma II</td>\n",
       "      <td>[[3, 3, 1, 0, 0, 1, 2, 1, 0, 1, 0, 1, 1, 2, 2,...</td>\n",
       "      <td>D:\\Datasets\\manifest-tXudPFfp43472957274060920...</td>\n",
       "    </tr>\n",
       "    <tr>\n",
       "      <th>2</th>\n",
       "      <td>900-00-1961</td>\n",
       "      <td>Glioma II</td>\n",
       "      <td>[[1, 2, 5, 5, 4, 2, 2, 4, 4, 3, 0, 0, 1, 3, 2,...</td>\n",
       "      <td>D:\\Datasets\\manifest-tXudPFfp43472957274060920...</td>\n",
       "    </tr>\n",
       "    <tr>\n",
       "      <th>3</th>\n",
       "      <td>900-00-5382</td>\n",
       "      <td>Glioma II</td>\n",
       "      <td>[[0, 0, 0, 0, 0, 0, 0, 0, 0, 0, 0, 0, 0, 0, 0,...</td>\n",
       "      <td>D:\\Datasets\\manifest-tXudPFfp43472957274060920...</td>\n",
       "    </tr>\n",
       "    <tr>\n",
       "      <th>4</th>\n",
       "      <td>900-00-5382</td>\n",
       "      <td>Glioma II</td>\n",
       "      <td>[[0, 0, 0, 0, 0, 0, 0, 0, 0, 0, 0, 0, 0, 0, 0,...</td>\n",
       "      <td>D:\\Datasets\\manifest-tXudPFfp43472957274060920...</td>\n",
       "    </tr>\n",
       "  </tbody>\n",
       "</table>\n",
       "</div>"
      ],
      "text/plain": [
       "           PID      Label                                              Image  \\\n",
       "0  900-00-1961  Glioma II  [[2, 1, 1, 1, 0, 0, 0, 1, 1, 1, 0, 0, 0, 0, 0,...   \n",
       "1  900-00-1961  Glioma II  [[3, 3, 1, 0, 0, 1, 2, 1, 0, 1, 0, 1, 1, 2, 2,...   \n",
       "2  900-00-1961  Glioma II  [[1, 2, 5, 5, 4, 2, 2, 4, 4, 3, 0, 0, 1, 3, 2,...   \n",
       "3  900-00-5382  Glioma II  [[0, 0, 0, 0, 0, 0, 0, 0, 0, 0, 0, 0, 0, 0, 0,...   \n",
       "4  900-00-5382  Glioma II  [[0, 0, 0, 0, 0, 0, 0, 0, 0, 0, 0, 0, 0, 0, 0,...   \n",
       "\n",
       "                                                File  \n",
       "0  D:\\Datasets\\manifest-tXudPFfp43472957274060920...  \n",
       "1  D:\\Datasets\\manifest-tXudPFfp43472957274060920...  \n",
       "2  D:\\Datasets\\manifest-tXudPFfp43472957274060920...  \n",
       "3  D:\\Datasets\\manifest-tXudPFfp43472957274060920...  \n",
       "4  D:\\Datasets\\manifest-tXudPFfp43472957274060920...  "
      ]
     },
     "execution_count": 3,
     "metadata": {},
     "output_type": "execute_result"
    }
   ],
   "source": [
    "df.head()"
   ]
  },
  {
   "cell_type": "code",
   "execution_count": 4,
   "id": "afbb535f",
   "metadata": {},
   "outputs": [],
   "source": [
    "seed = 42"
   ]
  },
  {
   "cell_type": "code",
   "execution_count": 5,
   "id": "886d7419",
   "metadata": {},
   "outputs": [],
   "source": [
    "## Splitting Data to : 75% Train set, 15% Test set, and 10% Validation set\n",
    "\n",
    "train_DF = df.sample(frac=0.75, random_state=seed) #random state is a seed value\n",
    "test_val_DF  = df.drop(train_DF.index)\n",
    "\n",
    "test_DF = test_val_DF.sample(frac=0.6, random_state=seed) #random state is a seed value\n",
    "val_DF = test_val_DF.drop(test_DF.index)"
   ]
  },
  {
   "cell_type": "code",
   "execution_count": 6,
   "id": "854d0dcd",
   "metadata": {},
   "outputs": [
    {
     "name": "stdout",
     "output_type": "stream",
     "text": [
      "train_DF size:  74.99297555493116\n",
      "val_DF size  :  10.002809778027535\n",
      "test_DF size :  15.004214667041305\n"
     ]
    }
   ],
   "source": [
    "print(\"train_DF size: \", len(train_DF)/len(df)*100)\n",
    "print(\"val_DF size  : \", len(val_DF)/len(df)*100)\n",
    "print(\"test_DF size : \", len(test_DF)/len(df)*100)"
   ]
  },
  {
   "cell_type": "code",
   "execution_count": 7,
   "id": "6c6ff037",
   "metadata": {},
   "outputs": [
    {
     "data": {
      "text/html": [
       "<div>\n",
       "<style scoped>\n",
       "    .dataframe tbody tr th:only-of-type {\n",
       "        vertical-align: middle;\n",
       "    }\n",
       "\n",
       "    .dataframe tbody tr th {\n",
       "        vertical-align: top;\n",
       "    }\n",
       "\n",
       "    .dataframe thead th {\n",
       "        text-align: right;\n",
       "    }\n",
       "</style>\n",
       "<table border=\"1\" class=\"dataframe\">\n",
       "  <thead>\n",
       "    <tr style=\"text-align: right;\">\n",
       "      <th></th>\n",
       "      <th>PID</th>\n",
       "      <th>Label</th>\n",
       "      <th>Image</th>\n",
       "      <th>File</th>\n",
       "    </tr>\n",
       "  </thead>\n",
       "  <tbody>\n",
       "    <tr>\n",
       "      <th>1139</th>\n",
       "      <td>HF1490</td>\n",
       "      <td>Glioma III</td>\n",
       "      <td>[[0, 0, 0, 0, 0, 0, 0, 0, 0, 0, 0, 0, 0, 0, 0,...</td>\n",
       "      <td>D:\\Datasets\\manifest-tXudPFfp43472957274060920...</td>\n",
       "    </tr>\n",
       "    <tr>\n",
       "      <th>1715</th>\n",
       "      <td>HF1397</td>\n",
       "      <td>Glioma VI</td>\n",
       "      <td>[[0, 0, 0, 0, 0, 0, 0, 0, 0, 0, 0, 0, 0, 0, 0,...</td>\n",
       "      <td>D:\\Datasets\\manifest-tXudPFfp43472957274060920...</td>\n",
       "    </tr>\n",
       "    <tr>\n",
       "      <th>154</th>\n",
       "      <td>HF1000</td>\n",
       "      <td>Glioma II</td>\n",
       "      <td>[[0, 0, 0, 0, 0, 0, 0, 0, 0, 0, 0, 0, 0, 0, 0,...</td>\n",
       "      <td>D:\\Datasets\\manifest-tXudPFfp43472957274060920...</td>\n",
       "    </tr>\n",
       "    <tr>\n",
       "      <th>1676</th>\n",
       "      <td>HF1397</td>\n",
       "      <td>Glioma VI</td>\n",
       "      <td>[[0, 0, 0, 0, 0, 0, 0, 0, 0, 0, 0, 0, 0, 0, 0,...</td>\n",
       "      <td>D:\\Datasets\\manifest-tXudPFfp43472957274060920...</td>\n",
       "    </tr>\n",
       "    <tr>\n",
       "      <th>2368</th>\n",
       "      <td>97461</td>\n",
       "      <td>Pituitary</td>\n",
       "      <td>[[0, 0, 0, 0, 0, 0, 0, 0, 0, 0, 0, 0, 0, 0, 0,...</td>\n",
       "      <td>1400.mat</td>\n",
       "    </tr>\n",
       "  </tbody>\n",
       "</table>\n",
       "</div>"
      ],
      "text/plain": [
       "         PID       Label                                              Image  \\\n",
       "1139  HF1490  Glioma III  [[0, 0, 0, 0, 0, 0, 0, 0, 0, 0, 0, 0, 0, 0, 0,...   \n",
       "1715  HF1397   Glioma VI  [[0, 0, 0, 0, 0, 0, 0, 0, 0, 0, 0, 0, 0, 0, 0,...   \n",
       "154   HF1000   Glioma II  [[0, 0, 0, 0, 0, 0, 0, 0, 0, 0, 0, 0, 0, 0, 0,...   \n",
       "1676  HF1397   Glioma VI  [[0, 0, 0, 0, 0, 0, 0, 0, 0, 0, 0, 0, 0, 0, 0,...   \n",
       "2368   97461   Pituitary  [[0, 0, 0, 0, 0, 0, 0, 0, 0, 0, 0, 0, 0, 0, 0,...   \n",
       "\n",
       "                                                   File  \n",
       "1139  D:\\Datasets\\manifest-tXudPFfp43472957274060920...  \n",
       "1715  D:\\Datasets\\manifest-tXudPFfp43472957274060920...  \n",
       "154   D:\\Datasets\\manifest-tXudPFfp43472957274060920...  \n",
       "1676  D:\\Datasets\\manifest-tXudPFfp43472957274060920...  \n",
       "2368                                           1400.mat  "
      ]
     },
     "execution_count": 7,
     "metadata": {},
     "output_type": "execute_result"
    }
   ],
   "source": [
    "test_DF.head()"
   ]
  },
  {
   "cell_type": "code",
   "execution_count": 8,
   "id": "041be252",
   "metadata": {},
   "outputs": [
    {
     "data": {
      "text/plain": [
       "PID      97\n",
       "Label    97\n",
       "Image    97\n",
       "File     97\n",
       "dtype: int64"
      ]
     },
     "execution_count": 8,
     "metadata": {},
     "output_type": "execute_result"
    }
   ],
   "source": [
    "val_DF[val_DF[\"Label\"]=='Pituitary'].count()"
   ]
  },
  {
   "cell_type": "code",
   "execution_count": 9,
   "id": "327424dd",
   "metadata": {},
   "outputs": [
    {
     "data": {
      "text/plain": [
       "0.21348314606741572"
      ]
     },
     "execution_count": 9,
     "metadata": {},
     "output_type": "execute_result"
    }
   ],
   "source": [
    "len(test_DF[test_DF[\"Label\"]=='Meningioma'])/ len(test_DF)"
   ]
  },
  {
   "cell_type": "code",
   "execution_count": 10,
   "id": "75568e23",
   "metadata": {},
   "outputs": [
    {
     "data": {
      "text/plain": [
       "0.21910112359550563"
      ]
     },
     "execution_count": 10,
     "metadata": {},
     "output_type": "execute_result"
    }
   ],
   "source": [
    "len(val_DF[val_DF[\"Label\"]=='Meningioma'])/len(val_DF)"
   ]
  },
  {
   "cell_type": "code",
   "execution_count": 11,
   "id": "28110746",
   "metadata": {},
   "outputs": [
    {
     "data": {
      "text/plain": [
       "0.19333083551892094"
      ]
     },
     "execution_count": 11,
     "metadata": {},
     "output_type": "execute_result"
    }
   ],
   "source": [
    "len(train_DF[train_DF[\"Label\"]=='Meningioma'])/len(train_DF)"
   ]
  },
  {
   "cell_type": "code",
   "execution_count": 12,
   "id": "2a5b1b4f",
   "metadata": {},
   "outputs": [],
   "source": [
    "## Augmentation:\n",
    "\n",
    "import skimage\n",
    "import skimage.transform\n",
    "\n",
    "def mirrors(np_im):\n",
    "    np_im = Image.fromarray(np_im)\n",
    "    im_agu = ImageOps.mirror(np_im)\n",
    "    return np.asanyarray(im_agu)\n",
    "\n",
    "## flips an image \n",
    "def flips(np_im):\n",
    "    np_im = Image.fromarray(np_im)\n",
    "    im_agu = ImageOps.flip(np_im)\n",
    "    return np.asanyarray(im_agu)\n",
    "\n",
    "def rotate(np_im, deg):\n",
    "    return skimage.transform.rotate(np_im, deg, resize=False)\n",
    "    "
   ]
  },
  {
   "cell_type": "code",
   "execution_count": 13,
   "id": "19593926",
   "metadata": {},
   "outputs": [],
   "source": [
    "mirrored_df  = train_DF.copy()\n",
    "fliped_df    = train_DF.copy()\n",
    "rotated_df   = train_DF.copy()\n",
    "\n",
    "mirrored_df['Image'] = mirrored_df['Image'].apply(mirrors)\n",
    "\n",
    "fliped_df['Image'] = fliped_df['Image'].apply(mirrors)\n",
    "\n",
    "for index, row in rotated_df.iterrows():\n",
    "    deg = random.randint(-45 ,45)\n",
    "    row[\"Image\"] = rotate(row[\"Image\"], deg)\n",
    "    \n",
    "\n",
    "aug_train_DF = pd.concat([train_DF, mirrored_df, fliped_df, rotated_df], axis=0, ignore_index = True)\n",
    "del mirrored_df\n",
    "del fliped_df\n",
    "del rotated_df\n"
   ]
  },
  {
   "cell_type": "code",
   "execution_count": 14,
   "id": "fa15957b",
   "metadata": {},
   "outputs": [],
   "source": [
    "mirrored_df  = val_DF.copy()\n",
    "fliped_df    = val_DF.copy()\n",
    "rotated_df   = val_DF.copy()\n",
    "\n",
    "mirrored_df['Image'] = mirrored_df['Image'].apply(mirrors)\n",
    "\n",
    "fliped_df['Image'] = fliped_df['Image'].apply(mirrors)\n",
    "\n",
    "for index, row in rotated_df.iterrows():\n",
    "    deg = random.randint(-45 ,45)\n",
    "    row[\"Image\"] = rotate(row[\"Image\"], deg)\n",
    "\n",
    "aug_val_DF = pd.concat([val_DF, mirrored_df, fliped_df, rotated_df], axis=0, ignore_index = True)\n",
    "del mirrored_df\n",
    "del fliped_df\n",
    "del rotated_df\n"
   ]
  },
  {
   "cell_type": "code",
   "execution_count": 15,
   "id": "bc868db5",
   "metadata": {},
   "outputs": [],
   "source": [
    "mirrored_df  = test_DF.copy()\n",
    "fliped_df    = test_DF.copy()\n",
    "rotated_df   = test_DF.copy()\n",
    "\n",
    "mirrored_df['Image'] = mirrored_df['Image'].apply(mirrors)\n",
    "\n",
    "fliped_df['Image'] = fliped_df['Image'].apply(mirrors)\n",
    "\n",
    "\n",
    "for index, row in rotated_df.iterrows():\n",
    "    deg = random.randint(-45 ,45)\n",
    "    row[\"Image\"] = rotate(row[\"Image\"], deg)\n",
    "\n",
    "aug_test_DF = pd.concat([test_DF, mirrored_df, fliped_df, rotated_df], axis=0, ignore_index = True)\n",
    "del mirrored_df\n",
    "del fliped_df\n",
    "del rotated_df"
   ]
  },
  {
   "cell_type": "code",
   "execution_count": 16,
   "id": "a21cda72",
   "metadata": {},
   "outputs": [],
   "source": [
    "#shuffle agumented dataframe\n",
    "aug_train_DF = aug_train_DF.sample(frac=1).reset_index(drop=True) #Use if you want to reset index order\n",
    "aug_val_DF = aug_val_DF.sample(frac=1).reset_index(drop=True) #Use if you want to reset index order\n",
    "aug_test_DF = aug_test_DF.sample(frac=1).reset_index(drop=True) #Use if you want to reset index order"
   ]
  },
  {
   "cell_type": "code",
   "execution_count": 17,
   "id": "28a9b7f4",
   "metadata": {},
   "outputs": [],
   "source": [
    "# aug_train_DF.to_pickle(\"aug_train_DF.pkl\")\n",
    "# val_DF.to_pickle(\"val_DF.pkl\")\n",
    "# test_DF.to_pickle(\"test_DF.pkl\")"
   ]
  },
  {
   "cell_type": "code",
   "execution_count": 18,
   "id": "21148af7",
   "metadata": {},
   "outputs": [],
   "source": [
    "SIZE_X = 128 \n",
    "SIZE_Y = 128"
   ]
  },
  {
   "cell_type": "code",
   "execution_count": 19,
   "id": "be5d1e00",
   "metadata": {},
   "outputs": [],
   "source": [
    "def imgResize(img):\n",
    "    wt, ht = SIZE_X, SIZE_Y\n",
    "    h, w = img.shape\n",
    "    f = min(wt / w, ht / h)\n",
    "    tx = (wt - w * f) / 2\n",
    "    ty = (ht - h * f) / 2\n",
    "\n",
    "    # map image into target image\n",
    "    M = np.float32([[f, 0, tx], [0, f, ty]])\n",
    "    target = np.ones([ht, wt]) * 255\n",
    "    img = cv2.warpAffine(img, M, dsize=(wt, ht), dst=target, borderMode=cv2.BORDER_TRANSPARENT)\n",
    "    return img"
   ]
  },
  {
   "cell_type": "code",
   "execution_count": 20,
   "id": "53a3e804",
   "metadata": {},
   "outputs": [],
   "source": [
    "aug_train_DF[\"Image\"] = aug_train_DF[\"Image\"].apply(imgResize)\n",
    "aug_val_DF[\"Image\"] = aug_val_DF[\"Image\"].apply(imgResize)\n",
    "aug_test_DF[\"Image\"] = aug_test_DF[\"Image\"].apply(imgResize)"
   ]
  },
  {
   "cell_type": "code",
   "execution_count": 21,
   "id": "979d0231",
   "metadata": {},
   "outputs": [],
   "source": [
    "train_DF[\"Image\"] = train_DF[\"Image\"].apply(imgResize)\n",
    "val_DF[\"Image\"] = val_DF[\"Image\"].apply(imgResize)\n",
    "test_DF[\"Image\"] = test_DF[\"Image\"].apply(imgResize)"
   ]
  },
  {
   "cell_type": "code",
   "execution_count": 22,
   "id": "12352dd8",
   "metadata": {},
   "outputs": [],
   "source": [
    "train_DF.to_pickle(\"train_DF_{}.pkl\".format(SIZE_X))\n",
    "val_DF.to_pickle(\"val_DF_{}.pkl\".format(SIZE_X))\n",
    "test_DF.to_pickle(\"test_DF_{}.pkl\".format(SIZE_X))"
   ]
  },
  {
   "cell_type": "code",
   "execution_count": 23,
   "id": "b46a52da",
   "metadata": {},
   "outputs": [],
   "source": [
    "aug_train_DF.to_pickle(\"aug_train_DF_{}.pkl\".format(SIZE_X))\n",
    "aug_val_DF.to_pickle(\"aug_val_DF_{}.pkl\".format(SIZE_X))\n",
    "aug_test_DF.to_pickle(\"aug_test_DF_{}.pkl\".format(SIZE_X))"
   ]
  },
  {
   "cell_type": "code",
   "execution_count": 24,
   "id": "8da46f70",
   "metadata": {},
   "outputs": [
    {
     "data": {
      "text/html": [
       "<div>\n",
       "<style scoped>\n",
       "    .dataframe tbody tr th:only-of-type {\n",
       "        vertical-align: middle;\n",
       "    }\n",
       "\n",
       "    .dataframe tbody tr th {\n",
       "        vertical-align: top;\n",
       "    }\n",
       "\n",
       "    .dataframe thead th {\n",
       "        text-align: right;\n",
       "    }\n",
       "</style>\n",
       "<table border=\"1\" class=\"dataframe\">\n",
       "  <thead>\n",
       "    <tr style=\"text-align: right;\">\n",
       "      <th></th>\n",
       "      <th>PID</th>\n",
       "      <th>Label</th>\n",
       "      <th>Image</th>\n",
       "      <th>File</th>\n",
       "    </tr>\n",
       "  </thead>\n",
       "  <tbody>\n",
       "    <tr>\n",
       "      <th>0</th>\n",
       "      <td>HF1397</td>\n",
       "      <td>Glioma VI</td>\n",
       "      <td>[[0, 0, 0, 0, 0, 0, 0, 0, 0, 0, 0, 0, 0, 0, 0,...</td>\n",
       "      <td>D:\\Datasets\\manifest-tXudPFfp43472957274060920...</td>\n",
       "    </tr>\n",
       "    <tr>\n",
       "      <th>1</th>\n",
       "      <td>107495</td>\n",
       "      <td>Pituitary</td>\n",
       "      <td>[[0, 0, 0, 0, 0, 0, 0, 0, 0, 0, 0, 0, 0, 0, 0,...</td>\n",
       "      <td>1180.mat</td>\n",
       "    </tr>\n",
       "    <tr>\n",
       "      <th>2</th>\n",
       "      <td>HF1156</td>\n",
       "      <td>Glioma II</td>\n",
       "      <td>[[0.0, 0.0, 0.0, 0.0, 0.0, 0.0, 0.0, 0.0, 0.0,...</td>\n",
       "      <td>D:\\Datasets\\manifest-tXudPFfp43472957274060920...</td>\n",
       "    </tr>\n",
       "    <tr>\n",
       "      <th>3</th>\n",
       "      <td>105936</td>\n",
       "      <td>Pituitary</td>\n",
       "      <td>[[0.0, 0.0, 0.0, 0.0, 0.0, 0.0, 0.0, 0.0, 0.0,...</td>\n",
       "      <td>710.mat</td>\n",
       "    </tr>\n",
       "    <tr>\n",
       "      <th>4</th>\n",
       "      <td>HF0966</td>\n",
       "      <td>Glioma III</td>\n",
       "      <td>[[0, 0, 0, 0, 0, 0, 0, 0, 0, 0, 0, 0, 0, 0, 0,...</td>\n",
       "      <td>D:\\Datasets\\manifest-tXudPFfp43472957274060920...</td>\n",
       "    </tr>\n",
       "  </tbody>\n",
       "</table>\n",
       "</div>"
      ],
      "text/plain": [
       "      PID       Label                                              Image  \\\n",
       "0  HF1397   Glioma VI  [[0, 0, 0, 0, 0, 0, 0, 0, 0, 0, 0, 0, 0, 0, 0,...   \n",
       "1  107495   Pituitary  [[0, 0, 0, 0, 0, 0, 0, 0, 0, 0, 0, 0, 0, 0, 0,...   \n",
       "2  HF1156   Glioma II  [[0.0, 0.0, 0.0, 0.0, 0.0, 0.0, 0.0, 0.0, 0.0,...   \n",
       "3  105936   Pituitary  [[0.0, 0.0, 0.0, 0.0, 0.0, 0.0, 0.0, 0.0, 0.0,...   \n",
       "4  HF0966  Glioma III  [[0, 0, 0, 0, 0, 0, 0, 0, 0, 0, 0, 0, 0, 0, 0,...   \n",
       "\n",
       "                                                File  \n",
       "0  D:\\Datasets\\manifest-tXudPFfp43472957274060920...  \n",
       "1                                           1180.mat  \n",
       "2  D:\\Datasets\\manifest-tXudPFfp43472957274060920...  \n",
       "3                                            710.mat  \n",
       "4  D:\\Datasets\\manifest-tXudPFfp43472957274060920...  "
      ]
     },
     "execution_count": 24,
     "metadata": {},
     "output_type": "execute_result"
    }
   ],
   "source": [
    "aug_train_DF.head()"
   ]
  },
  {
   "cell_type": "code",
   "execution_count": 25,
   "id": "3eebc4c4",
   "metadata": {},
   "outputs": [
    {
     "name": "stdout",
     "output_type": "stream",
     "text": [
      "aug_train_DF size:  0.7499297555493116\n",
      "aug_val_DF size  :  0.10002809778027535\n",
      "aug_test_DF size :  0.15004214667041305\n"
     ]
    }
   ],
   "source": [
    "print(\"aug_train_DF size: \", len(aug_train_DF)/(len(df)*4))\n",
    "print(\"aug_val_DF size  : \", len(aug_val_DF)/(len(df)*4))\n",
    "print(\"aug_test_DF size : \", len(aug_test_DF)/(len(df)*4))"
   ]
  },
  {
   "cell_type": "code",
   "execution_count": null,
   "id": "ab84a781",
   "metadata": {},
   "outputs": [],
   "source": []
  }
 ],
 "metadata": {
  "kernelspec": {
   "display_name": "Python 3 (ipykernel)",
   "language": "python",
   "name": "python3"
  },
  "language_info": {
   "codemirror_mode": {
    "name": "ipython",
    "version": 3
   },
   "file_extension": ".py",
   "mimetype": "text/x-python",
   "name": "python",
   "nbconvert_exporter": "python",
   "pygments_lexer": "ipython3",
   "version": "3.9.7"
  }
 },
 "nbformat": 4,
 "nbformat_minor": 5
}
