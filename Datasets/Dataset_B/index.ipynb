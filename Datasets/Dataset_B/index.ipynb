{
 "cells": [
  {
   "cell_type": "code",
   "execution_count": 31,
   "id": "978a3ed8",
   "metadata": {},
   "outputs": [],
   "source": [
    "import pandas as pd\n",
    "import numpy as np\n",
    "from PIL import Image, ImageOps \n",
    "import matplotlib.pyplot as plt\n",
    "from matplotlib.pyplot import cm\n",
    "import random\n",
    "import cv2\n",
    "import seaborn as sns\n",
    "import os"
   ]
  },
  {
   "cell_type": "code",
   "execution_count": 2,
   "id": "be0ba15c",
   "metadata": {},
   "outputs": [],
   "source": [
    "tumor_df = pd.read_pickle(\"../Dataset_B_resized_256.pkl\")\n",
    "healthy_df = pd.read_pickle(r\"./Healthy_dataset.pkl\")\n",
    "df = pd.concat([tumor_df, healthy_df])"
   ]
  },
  {
   "cell_type": "code",
   "execution_count": 3,
   "id": "9382f57f",
   "metadata": {},
   "outputs": [
    {
     "data": {
      "text/html": [
       "<div>\n",
       "<style scoped>\n",
       "    .dataframe tbody tr th:only-of-type {\n",
       "        vertical-align: middle;\n",
       "    }\n",
       "\n",
       "    .dataframe tbody tr th {\n",
       "        vertical-align: top;\n",
       "    }\n",
       "\n",
       "    .dataframe thead th {\n",
       "        text-align: right;\n",
       "    }\n",
       "</style>\n",
       "<table border=\"1\" class=\"dataframe\">\n",
       "  <thead>\n",
       "    <tr style=\"text-align: right;\">\n",
       "      <th></th>\n",
       "      <th>PID</th>\n",
       "      <th>Label</th>\n",
       "      <th>Image</th>\n",
       "      <th>File</th>\n",
       "    </tr>\n",
       "  </thead>\n",
       "  <tbody>\n",
       "    <tr>\n",
       "      <th>0</th>\n",
       "      <td>900-00-1961</td>\n",
       "      <td>Glioma II</td>\n",
       "      <td>[[2, 1, 1, 1, 0, 0, 0, 1, 1, 1, 0, 0, 0, 0, 0,...</td>\n",
       "      <td>D:\\Datasets\\manifest-tXudPFfp43472957274060920...</td>\n",
       "    </tr>\n",
       "    <tr>\n",
       "      <th>1</th>\n",
       "      <td>900-00-1961</td>\n",
       "      <td>Glioma II</td>\n",
       "      <td>[[3, 3, 1, 0, 0, 1, 2, 1, 0, 1, 0, 1, 1, 2, 2,...</td>\n",
       "      <td>D:\\Datasets\\manifest-tXudPFfp43472957274060920...</td>\n",
       "    </tr>\n",
       "    <tr>\n",
       "      <th>2</th>\n",
       "      <td>900-00-1961</td>\n",
       "      <td>Glioma II</td>\n",
       "      <td>[[1, 2, 5, 5, 4, 2, 2, 4, 4, 3, 0, 0, 1, 3, 2,...</td>\n",
       "      <td>D:\\Datasets\\manifest-tXudPFfp43472957274060920...</td>\n",
       "    </tr>\n",
       "    <tr>\n",
       "      <th>3</th>\n",
       "      <td>900-00-5382</td>\n",
       "      <td>Glioma II</td>\n",
       "      <td>[[0, 0, 0, 0, 0, 0, 0, 0, 0, 0, 0, 0, 0, 0, 0,...</td>\n",
       "      <td>D:\\Datasets\\manifest-tXudPFfp43472957274060920...</td>\n",
       "    </tr>\n",
       "    <tr>\n",
       "      <th>4</th>\n",
       "      <td>900-00-5382</td>\n",
       "      <td>Glioma II</td>\n",
       "      <td>[[0, 0, 0, 0, 0, 0, 0, 0, 0, 0, 0, 0, 0, 0, 0,...</td>\n",
       "      <td>D:\\Datasets\\manifest-tXudPFfp43472957274060920...</td>\n",
       "    </tr>\n",
       "  </tbody>\n",
       "</table>\n",
       "</div>"
      ],
      "text/plain": [
       "           PID      Label                                              Image  \\\n",
       "0  900-00-1961  Glioma II  [[2, 1, 1, 1, 0, 0, 0, 1, 1, 1, 0, 0, 0, 0, 0,...   \n",
       "1  900-00-1961  Glioma II  [[3, 3, 1, 0, 0, 1, 2, 1, 0, 1, 0, 1, 1, 2, 2,...   \n",
       "2  900-00-1961  Glioma II  [[1, 2, 5, 5, 4, 2, 2, 4, 4, 3, 0, 0, 1, 3, 2,...   \n",
       "3  900-00-5382  Glioma II  [[0, 0, 0, 0, 0, 0, 0, 0, 0, 0, 0, 0, 0, 0, 0,...   \n",
       "4  900-00-5382  Glioma II  [[0, 0, 0, 0, 0, 0, 0, 0, 0, 0, 0, 0, 0, 0, 0,...   \n",
       "\n",
       "                                                File  \n",
       "0  D:\\Datasets\\manifest-tXudPFfp43472957274060920...  \n",
       "1  D:\\Datasets\\manifest-tXudPFfp43472957274060920...  \n",
       "2  D:\\Datasets\\manifest-tXudPFfp43472957274060920...  \n",
       "3  D:\\Datasets\\manifest-tXudPFfp43472957274060920...  \n",
       "4  D:\\Datasets\\manifest-tXudPFfp43472957274060920...  "
      ]
     },
     "execution_count": 3,
     "metadata": {},
     "output_type": "execute_result"
    }
   ],
   "source": [
    "df.head()"
   ]
  },
  {
   "cell_type": "code",
   "execution_count": 4,
   "id": "9340431e",
   "metadata": {},
   "outputs": [
    {
     "data": {
      "text/plain": [
       "array(['Glioma II', 'Glioma III', 'Glioma VI', 'Meningioma', 'Pituitary',\n",
       "       'Healthy'], dtype=object)"
      ]
     },
     "execution_count": 4,
     "metadata": {},
     "output_type": "execute_result"
    }
   ],
   "source": [
    "df.Label.unique()"
   ]
  },
  {
   "cell_type": "code",
   "execution_count": 5,
   "id": "afbb535f",
   "metadata": {},
   "outputs": [],
   "source": [
    "seed = 42"
   ]
  },
  {
   "cell_type": "code",
   "execution_count": 6,
   "id": "886d7419",
   "metadata": {},
   "outputs": [],
   "source": [
    "## Splitting Data to : 75% Train set, 15% Test set, and 10% Validation set\n",
    "\n",
    "train_DF = df.sample(frac=0.75, random_state=seed) #random state is a seed value\n",
    "test_val_DF  = df.drop(train_DF.index)\n",
    "\n",
    "test_DF = test_val_DF.sample(frac=0.6, random_state=seed) #random state is a seed value\n",
    "val_DF = test_val_DF.drop(test_DF.index)"
   ]
  },
  {
   "cell_type": "code",
   "execution_count": 7,
   "id": "854d0dcd",
   "metadata": {},
   "outputs": [
    {
     "name": "stdout",
     "output_type": "stream",
     "text": [
      "train_DF size:  75.0053728777133\n",
      "val_DF size  :  5.974640017193209\n",
      "test_DF size :  10.251450676982591\n"
     ]
    }
   ],
   "source": [
    "print(\"train_DF size: \", len(train_DF)/len(df)*100)\n",
    "print(\"val_DF size  : \", len(val_DF)/len(df)*100)\n",
    "print(\"test_DF size : \", len(test_DF)/len(df)*100)"
   ]
  },
  {
   "cell_type": "code",
   "execution_count": 8,
   "id": "6c6ff037",
   "metadata": {},
   "outputs": [
    {
     "data": {
      "text/html": [
       "<div>\n",
       "<style scoped>\n",
       "    .dataframe tbody tr th:only-of-type {\n",
       "        vertical-align: middle;\n",
       "    }\n",
       "\n",
       "    .dataframe tbody tr th {\n",
       "        vertical-align: top;\n",
       "    }\n",
       "\n",
       "    .dataframe thead th {\n",
       "        text-align: right;\n",
       "    }\n",
       "</style>\n",
       "<table border=\"1\" class=\"dataframe\">\n",
       "  <thead>\n",
       "    <tr style=\"text-align: right;\">\n",
       "      <th></th>\n",
       "      <th>PID</th>\n",
       "      <th>Label</th>\n",
       "      <th>Image</th>\n",
       "      <th>File</th>\n",
       "    </tr>\n",
       "  </thead>\n",
       "  <tbody>\n",
       "    <tr>\n",
       "      <th>3482</th>\n",
       "      <td>107248</td>\n",
       "      <td>Meningioma</td>\n",
       "      <td>[[0, 0, 0, 0, 0, 0, 0, 0, 0, 0, 0, 0, 0, 0, 0,...</td>\n",
       "      <td>93.mat</td>\n",
       "    </tr>\n",
       "    <tr>\n",
       "      <th>3374</th>\n",
       "      <td>106284</td>\n",
       "      <td>Meningioma</td>\n",
       "      <td>[[0, 0, 0, 0, 0, 0, 0, 0, 0, 0, 0, 0, 0, 0, 0,...</td>\n",
       "      <td>65.mat</td>\n",
       "    </tr>\n",
       "    <tr>\n",
       "      <th>853</th>\n",
       "      <td>HF1185</td>\n",
       "      <td>Glioma III</td>\n",
       "      <td>[[0, 0, 0, 0, 0, 0, 0, 0, 0, 0, 0, 0, 0, 0, 0,...</td>\n",
       "      <td>D:\\Datasets\\manifest-tXudPFfp43472957274060920...</td>\n",
       "    </tr>\n",
       "    <tr>\n",
       "      <th>2895</th>\n",
       "      <td>100572</td>\n",
       "      <td>Meningioma</td>\n",
       "      <td>[[0, 0, 0, 0, 0, 0, 0, 0, 0, 0, 0, 0, 0, 0, 0,...</td>\n",
       "      <td>220.mat</td>\n",
       "    </tr>\n",
       "    <tr>\n",
       "      <th>880</th>\n",
       "      <td>HF1185</td>\n",
       "      <td>Glioma III</td>\n",
       "      <td>[[0, 0, 0, 0, 0, 0, 0, 0, 0, 0, 0, 0, 0, 0, 0,...</td>\n",
       "      <td>D:\\Datasets\\manifest-tXudPFfp43472957274060920...</td>\n",
       "    </tr>\n",
       "  </tbody>\n",
       "</table>\n",
       "</div>"
      ],
      "text/plain": [
       "         PID       Label                                              Image  \\\n",
       "3482  107248  Meningioma  [[0, 0, 0, 0, 0, 0, 0, 0, 0, 0, 0, 0, 0, 0, 0,...   \n",
       "3374  106284  Meningioma  [[0, 0, 0, 0, 0, 0, 0, 0, 0, 0, 0, 0, 0, 0, 0,...   \n",
       "853   HF1185  Glioma III  [[0, 0, 0, 0, 0, 0, 0, 0, 0, 0, 0, 0, 0, 0, 0,...   \n",
       "2895  100572  Meningioma  [[0, 0, 0, 0, 0, 0, 0, 0, 0, 0, 0, 0, 0, 0, 0,...   \n",
       "880   HF1185  Glioma III  [[0, 0, 0, 0, 0, 0, 0, 0, 0, 0, 0, 0, 0, 0, 0,...   \n",
       "\n",
       "                                                   File  \n",
       "3482                                             93.mat  \n",
       "3374                                             65.mat  \n",
       "853   D:\\Datasets\\manifest-tXudPFfp43472957274060920...  \n",
       "2895                                            220.mat  \n",
       "880   D:\\Datasets\\manifest-tXudPFfp43472957274060920...  "
      ]
     },
     "execution_count": 8,
     "metadata": {},
     "output_type": "execute_result"
    }
   ],
   "source": [
    "test_DF.head()"
   ]
  },
  {
   "cell_type": "code",
   "execution_count": 9,
   "id": "041be252",
   "metadata": {},
   "outputs": [
    {
     "data": {
      "text/plain": [
       "PID      95\n",
       "Label    95\n",
       "Image    95\n",
       "File     95\n",
       "dtype: int64"
      ]
     },
     "execution_count": 9,
     "metadata": {},
     "output_type": "execute_result"
    }
   ],
   "source": [
    "val_DF[val_DF[\"Label\"]=='Pituitary'].count()"
   ]
  },
  {
   "cell_type": "code",
   "execution_count": 10,
   "id": "327424dd",
   "metadata": {},
   "outputs": [
    {
     "data": {
      "text/plain": [
       "0.22641509433962265"
      ]
     },
     "execution_count": 10,
     "metadata": {},
     "output_type": "execute_result"
    }
   ],
   "source": [
    "len(test_DF[test_DF[\"Label\"]=='Meningioma'])/ len(test_DF)"
   ]
  },
  {
   "cell_type": "code",
   "execution_count": 11,
   "id": "75568e23",
   "metadata": {},
   "outputs": [
    {
     "data": {
      "text/plain": [
       "0.2949640287769784"
      ]
     },
     "execution_count": 11,
     "metadata": {},
     "output_type": "execute_result"
    }
   ],
   "source": [
    "len(val_DF[val_DF[\"Label\"]=='Meningioma'])/len(val_DF)"
   ]
  },
  {
   "cell_type": "code",
   "execution_count": 12,
   "id": "28110746",
   "metadata": {},
   "outputs": [
    {
     "data": {
      "text/plain": [
       "0.1484240687679083"
      ]
     },
     "execution_count": 12,
     "metadata": {},
     "output_type": "execute_result"
    }
   ],
   "source": [
    "len(train_DF[train_DF[\"Label\"]=='Meningioma'])/len(train_DF)"
   ]
  },
  {
   "cell_type": "code",
   "execution_count": 13,
   "id": "2a5b1b4f",
   "metadata": {},
   "outputs": [],
   "source": [
    "## Augmentation:\n",
    "\n",
    "import skimage\n",
    "import skimage.transform\n",
    "\n",
    "def mirrors(np_im):\n",
    "    np_im = Image.fromarray(np_im)\n",
    "    im_agu = ImageOps.mirror(np_im)\n",
    "    return np.asanyarray(im_agu)\n",
    "\n",
    "## flips an image \n",
    "def flips(np_im):\n",
    "    np_im = Image.fromarray(np_im)\n",
    "    im_agu = ImageOps.flip(np_im)\n",
    "    return np.asanyarray(im_agu)\n",
    "\n",
    "def rotate(np_im, deg):\n",
    "    return skimage.transform.rotate(np_im, deg, resize=False)\n",
    "    "
   ]
  },
  {
   "cell_type": "code",
   "execution_count": 14,
   "id": "19593926",
   "metadata": {},
   "outputs": [],
   "source": [
    "mirrored_df  = train_DF.copy()\n",
    "fliped_df    = train_DF.copy()\n",
    "rotated_df   = train_DF.copy()\n",
    "\n",
    "mirrored_df['Image'] = mirrored_df['Image'].apply(mirrors)\n",
    "\n",
    "fliped_df['Image'] = fliped_df['Image'].apply(mirrors)\n",
    "\n",
    "for index, row in rotated_df.iterrows():\n",
    "    deg = random.randint(-45 ,45)\n",
    "    row[\"Image\"] = rotate(row[\"Image\"], deg)\n",
    "    \n",
    "\n",
    "aug_train_DF = pd.concat([train_DF, mirrored_df, fliped_df, rotated_df], axis=0, ignore_index = True)\n",
    "del mirrored_df\n",
    "del fliped_df\n",
    "del rotated_df\n"
   ]
  },
  {
   "cell_type": "code",
   "execution_count": 15,
   "id": "fa15957b",
   "metadata": {},
   "outputs": [],
   "source": [
    "mirrored_df  = val_DF.copy()\n",
    "fliped_df    = val_DF.copy()\n",
    "rotated_df   = val_DF.copy()\n",
    "\n",
    "mirrored_df['Image'] = mirrored_df['Image'].apply(mirrors)\n",
    "\n",
    "fliped_df['Image'] = fliped_df['Image'].apply(mirrors)\n",
    "\n",
    "for index, row in rotated_df.iterrows():\n",
    "    deg = random.randint(-45 ,45)\n",
    "    row[\"Image\"] = rotate(row[\"Image\"], deg)\n",
    "\n",
    "aug_val_DF = pd.concat([val_DF, mirrored_df, fliped_df, rotated_df], axis=0, ignore_index = True)\n",
    "del mirrored_df\n",
    "del fliped_df\n",
    "del rotated_df\n"
   ]
  },
  {
   "cell_type": "code",
   "execution_count": 16,
   "id": "bc868db5",
   "metadata": {},
   "outputs": [],
   "source": [
    "mirrored_df  = test_DF.copy()\n",
    "fliped_df    = test_DF.copy()\n",
    "rotated_df   = test_DF.copy()\n",
    "\n",
    "mirrored_df['Image'] = mirrored_df['Image'].apply(mirrors)\n",
    "\n",
    "fliped_df['Image'] = fliped_df['Image'].apply(mirrors)\n",
    "\n",
    "\n",
    "for index, row in rotated_df.iterrows():\n",
    "    deg = random.randint(-45 ,45)\n",
    "    row[\"Image\"] = rotate(row[\"Image\"], deg)\n",
    "\n",
    "aug_test_DF = pd.concat([test_DF, mirrored_df, fliped_df, rotated_df], axis=0, ignore_index = True)\n",
    "del mirrored_df\n",
    "del fliped_df\n",
    "del rotated_df"
   ]
  },
  {
   "cell_type": "code",
   "execution_count": 17,
   "id": "a21cda72",
   "metadata": {},
   "outputs": [],
   "source": [
    "#shuffle agumented dataframe\n",
    "aug_train_DF = aug_train_DF.sample(frac=1).reset_index(drop=True) #Use if you want to reset index order\n",
    "aug_val_DF = aug_val_DF.sample(frac=1).reset_index(drop=True) #Use if you want to reset index order\n",
    "aug_test_DF = aug_test_DF.sample(frac=1).reset_index(drop=True) #Use if you want to reset index order"
   ]
  },
  {
   "cell_type": "code",
   "execution_count": 18,
   "id": "28a9b7f4",
   "metadata": {},
   "outputs": [],
   "source": [
    "# aug_train_DF.to_pickle(\"aug_train_DF.pkl\")\n",
    "# val_DF.to_pickle(\"val_DF.pkl\")\n",
    "# test_DF.to_pickle(\"test_DF.pkl\")"
   ]
  },
  {
   "cell_type": "code",
   "execution_count": 19,
   "id": "21148af7",
   "metadata": {},
   "outputs": [],
   "source": [
    "SIZE_X = 128 \n",
    "SIZE_Y = 128"
   ]
  },
  {
   "cell_type": "code",
   "execution_count": 20,
   "id": "be5d1e00",
   "metadata": {},
   "outputs": [],
   "source": [
    "from skimage.transform import resize\n",
    "def imgResize(img):\n",
    "      return resize(img,(SIZE_X, SIZE_Y))"
   ]
  },
  {
   "cell_type": "code",
   "execution_count": 21,
   "id": "53a3e804",
   "metadata": {},
   "outputs": [],
   "source": [
    "aug_train_DF[\"Image\"] = aug_train_DF[\"Image\"].apply(imgResize)\n",
    "aug_val_DF[\"Image\"] = aug_val_DF[\"Image\"].apply(imgResize)\n",
    "aug_test_DF[\"Image\"] = aug_test_DF[\"Image\"].apply(imgResize)"
   ]
  },
  {
   "cell_type": "code",
   "execution_count": 22,
   "id": "b46a52da",
   "metadata": {},
   "outputs": [],
   "source": [
    "# aug_train_DF.to_pickle(\"aug_train_DF_{}.pkl\".format(SIZE_X))\n",
    "# aug_val_DF.to_pickle(\"aug_val_DF_{}.pkl\".format(SIZE_X))\n",
    "# aug_test_DF.to_pickle(\"aug_test_DF_{}.pkl\".format(SIZE_X))"
   ]
  },
  {
   "cell_type": "code",
   "execution_count": 23,
   "id": "8da46f70",
   "metadata": {},
   "outputs": [
    {
     "data": {
      "text/html": [
       "<div>\n",
       "<style scoped>\n",
       "    .dataframe tbody tr th:only-of-type {\n",
       "        vertical-align: middle;\n",
       "    }\n",
       "\n",
       "    .dataframe tbody tr th {\n",
       "        vertical-align: top;\n",
       "    }\n",
       "\n",
       "    .dataframe thead th {\n",
       "        text-align: right;\n",
       "    }\n",
       "</style>\n",
       "<table border=\"1\" class=\"dataframe\">\n",
       "  <thead>\n",
       "    <tr style=\"text-align: right;\">\n",
       "      <th></th>\n",
       "      <th>PID</th>\n",
       "      <th>Label</th>\n",
       "      <th>Image</th>\n",
       "      <th>File</th>\n",
       "    </tr>\n",
       "  </thead>\n",
       "  <tbody>\n",
       "    <tr>\n",
       "      <th>0</th>\n",
       "      <td>103582</td>\n",
       "      <td>Pituitary</td>\n",
       "      <td>[[0.0, 0.0, 0.0, 0.0, 0.0, 0.0, 0.0, 0.0, 0.0,...</td>\n",
       "      <td>1507.mat</td>\n",
       "    </tr>\n",
       "    <tr>\n",
       "      <th>1</th>\n",
       "      <td>Heatly_dataset_#998</td>\n",
       "      <td>Healthy</td>\n",
       "      <td>[[0.0, 0.0, 0.0, 0.0, 0.0, 0.0, 0.0, 0.0, 0.0,...</td>\n",
       "      <td>no44.jpg</td>\n",
       "    </tr>\n",
       "    <tr>\n",
       "      <th>2</th>\n",
       "      <td>110537</td>\n",
       "      <td>Pituitary</td>\n",
       "      <td>[[0.0019607843137256016, 0.0019607843137256016...</td>\n",
       "      <td>1228.mat</td>\n",
       "    </tr>\n",
       "    <tr>\n",
       "      <th>3</th>\n",
       "      <td>101017</td>\n",
       "      <td>Pituitary</td>\n",
       "      <td>[[0.0, 0.0, 0.0, 0.0, 0.0, 0.0, 0.0, 0.0, 0.0,...</td>\n",
       "      <td>1026.mat</td>\n",
       "    </tr>\n",
       "    <tr>\n",
       "      <th>4</th>\n",
       "      <td>HF1489</td>\n",
       "      <td>Glioma II</td>\n",
       "      <td>[[0.0, 0.0, 0.0, 0.0, 0.0, 0.0, 0.0, 0.0, 0.0,...</td>\n",
       "      <td>D:\\Datasets\\manifest-tXudPFfp43472957274060920...</td>\n",
       "    </tr>\n",
       "  </tbody>\n",
       "</table>\n",
       "</div>"
      ],
      "text/plain": [
       "                   PID      Label  \\\n",
       "0               103582  Pituitary   \n",
       "1  Heatly_dataset_#998    Healthy   \n",
       "2               110537  Pituitary   \n",
       "3               101017  Pituitary   \n",
       "4               HF1489  Glioma II   \n",
       "\n",
       "                                               Image  \\\n",
       "0  [[0.0, 0.0, 0.0, 0.0, 0.0, 0.0, 0.0, 0.0, 0.0,...   \n",
       "1  [[0.0, 0.0, 0.0, 0.0, 0.0, 0.0, 0.0, 0.0, 0.0,...   \n",
       "2  [[0.0019607843137256016, 0.0019607843137256016...   \n",
       "3  [[0.0, 0.0, 0.0, 0.0, 0.0, 0.0, 0.0, 0.0, 0.0,...   \n",
       "4  [[0.0, 0.0, 0.0, 0.0, 0.0, 0.0, 0.0, 0.0, 0.0,...   \n",
       "\n",
       "                                                File  \n",
       "0                                           1507.mat  \n",
       "1                                           no44.jpg  \n",
       "2                                           1228.mat  \n",
       "3                                           1026.mat  \n",
       "4  D:\\Datasets\\manifest-tXudPFfp43472957274060920...  "
      ]
     },
     "execution_count": 23,
     "metadata": {},
     "output_type": "execute_result"
    }
   ],
   "source": [
    "aug_train_DF.head()"
   ]
  },
  {
   "cell_type": "code",
   "execution_count": 24,
   "id": "3eebc4c4",
   "metadata": {},
   "outputs": [
    {
     "name": "stdout",
     "output_type": "stream",
     "text": [
      "aug_train_DF size:  0.750053728777133\n",
      "aug_val_DF size  :  0.059746400171932085\n",
      "aug_test_DF size :  0.10251450676982592\n"
     ]
    }
   ],
   "source": [
    "print(\"aug_train_DF size: \", len(aug_train_DF)/(len(df)*4))\n",
    "print(\"aug_val_DF size  : \", len(aug_val_DF)/(len(df)*4))\n",
    "print(\"aug_test_DF size : \", len(aug_test_DF)/(len(df)*4))"
   ]
  },
  {
   "cell_type": "code",
   "execution_count": null,
   "id": "ab84a781",
   "metadata": {},
   "outputs": [],
   "source": []
  },
  {
   "cell_type": "code",
   "execution_count": 35,
   "id": "4436f6e7",
   "metadata": {},
   "outputs": [],
   "source": [
    "dest = r\"./Sample_2\"\n",
    "count = 1\n",
    "for index, row in test_DF.sample(20, random_state=seed).iterrows():\n",
    "    img_name = \"{}_{}.png\".format(count, row[\"Label\"])\n",
    "    plt.imsave(os.path.join(dest, img_name), row[\"Image\"], cmap=cm.gray)\n",
    "    count +=1\n"
   ]
  },
  {
   "cell_type": "code",
   "execution_count": 28,
   "id": "cc0d855b",
   "metadata": {},
   "outputs": [
    {
     "data": {
      "text/plain": [
       "'./Sample\\\\adfas.png'"
      ]
     },
     "execution_count": 28,
     "metadata": {},
     "output_type": "execute_result"
    }
   ],
   "source": []
  },
  {
   "cell_type": "code",
   "execution_count": null,
   "id": "ffcdae7b",
   "metadata": {},
   "outputs": [],
   "source": []
  }
 ],
 "metadata": {
  "kernelspec": {
   "display_name": "Python 3 (ipykernel)",
   "language": "python",
   "name": "python3"
  },
  "language_info": {
   "codemirror_mode": {
    "name": "ipython",
    "version": 3
   },
   "file_extension": ".py",
   "mimetype": "text/x-python",
   "name": "python",
   "nbconvert_exporter": "python",
   "pygments_lexer": "ipython3",
   "version": "3.9.7"
  }
 },
 "nbformat": 4,
 "nbformat_minor": 5
}
