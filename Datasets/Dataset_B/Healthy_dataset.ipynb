{
 "cells": [
  {
   "cell_type": "code",
   "execution_count": 1,
   "id": "5f58fa00",
   "metadata": {},
   "outputs": [],
   "source": [
    "import pandas as pd\n",
    "import numpy as np\n",
    "from PIL import Image, ImageOps \n",
    "import matplotlib.pyplot as plt\n",
    "import random\n",
    "import cv2\n",
    "import os "
   ]
  },
  {
   "cell_type": "code",
   "execution_count": 2,
   "id": "ead526e7",
   "metadata": {},
   "outputs": [],
   "source": [
    "imgs_names = os.listdir(\"no\")"
   ]
  },
  {
   "cell_type": "code",
   "execution_count": 3,
   "id": "2f5e5204",
   "metadata": {},
   "outputs": [],
   "source": [
    "images = []\n",
    "labels = []\n",
    "file_name = []\n",
    "img_shape = []\n",
    "PID = []\n",
    "for i,name in enumerate(imgs_names):\n",
    "    img = cv2.imread(os.path.join(\"no\", name))[:, :, 0]\n",
    "    img_num = name.replace(\"no\", \"\").replace(\".jpg\", \"\")\n",
    "    \n",
    "    img_shape.append(img.shape)\n",
    "    images.append(img)\n",
    "    file_name.append(name)\n",
    "    labels.append(\"Healthy\")\n",
    "    PID = (\"Heatly_dataset_#\"+img_num)\n",
    "\n",
    "data = {\"PID\":PID, 'Label':labels, 'Image':images,\"Image Shape\":img_shape, 'File': file_name}\n",
    "df = pd.DataFrame(data)"
   ]
  },
  {
   "cell_type": "code",
   "execution_count": 4,
   "id": "e64533d5",
   "metadata": {},
   "outputs": [
    {
     "data": {
      "text/html": [
       "<div>\n",
       "<style scoped>\n",
       "    .dataframe tbody tr th:only-of-type {\n",
       "        vertical-align: middle;\n",
       "    }\n",
       "\n",
       "    .dataframe tbody tr th {\n",
       "        vertical-align: top;\n",
       "    }\n",
       "\n",
       "    .dataframe thead th {\n",
       "        text-align: right;\n",
       "    }\n",
       "</style>\n",
       "<table border=\"1\" class=\"dataframe\">\n",
       "  <thead>\n",
       "    <tr style=\"text-align: right;\">\n",
       "      <th></th>\n",
       "      <th>PID</th>\n",
       "      <th>Label</th>\n",
       "      <th>Image</th>\n",
       "      <th>Image Shape</th>\n",
       "      <th>File</th>\n",
       "    </tr>\n",
       "  </thead>\n",
       "  <tbody>\n",
       "    <tr>\n",
       "      <th>0</th>\n",
       "      <td>Heatly_dataset_#998</td>\n",
       "      <td>Healthy</td>\n",
       "      <td>[[0, 0, 0, 0, 0, 0, 0, 0, 0, 0, 0, 0, 0, 0, 0,...</td>\n",
       "      <td>(630, 630)</td>\n",
       "      <td>no0.jpg</td>\n",
       "    </tr>\n",
       "    <tr>\n",
       "      <th>1</th>\n",
       "      <td>Heatly_dataset_#998</td>\n",
       "      <td>Healthy</td>\n",
       "      <td>[[0, 0, 0, 0, 0, 0, 0, 0, 0, 0, 0, 0, 0, 0, 0,...</td>\n",
       "      <td>(198, 150)</td>\n",
       "      <td>no1.jpg</td>\n",
       "    </tr>\n",
       "    <tr>\n",
       "      <th>2</th>\n",
       "      <td>Heatly_dataset_#998</td>\n",
       "      <td>Healthy</td>\n",
       "      <td>[[16, 16, 16, 16, 16, 16, 16, 16, 16, 16, 16, ...</td>\n",
       "      <td>(225, 225)</td>\n",
       "      <td>no10.jpg</td>\n",
       "    </tr>\n",
       "    <tr>\n",
       "      <th>3</th>\n",
       "      <td>Heatly_dataset_#998</td>\n",
       "      <td>Healthy</td>\n",
       "      <td>[[0, 0, 0, 0, 0, 0, 0, 0, 0, 0, 0, 0, 0, 0, 0,...</td>\n",
       "      <td>(530, 380)</td>\n",
       "      <td>no1004.jpg</td>\n",
       "    </tr>\n",
       "    <tr>\n",
       "      <th>4</th>\n",
       "      <td>Heatly_dataset_#998</td>\n",
       "      <td>Healthy</td>\n",
       "      <td>[[0, 0, 0, 0, 0, 0, 0, 0, 0, 0, 1, 1, 1, 2, 2,...</td>\n",
       "      <td>(225, 225)</td>\n",
       "      <td>no1005.jpg</td>\n",
       "    </tr>\n",
       "  </tbody>\n",
       "</table>\n",
       "</div>"
      ],
      "text/plain": [
       "                   PID    Label  \\\n",
       "0  Heatly_dataset_#998  Healthy   \n",
       "1  Heatly_dataset_#998  Healthy   \n",
       "2  Heatly_dataset_#998  Healthy   \n",
       "3  Heatly_dataset_#998  Healthy   \n",
       "4  Heatly_dataset_#998  Healthy   \n",
       "\n",
       "                                               Image Image Shape        File  \n",
       "0  [[0, 0, 0, 0, 0, 0, 0, 0, 0, 0, 0, 0, 0, 0, 0,...  (630, 630)     no0.jpg  \n",
       "1  [[0, 0, 0, 0, 0, 0, 0, 0, 0, 0, 0, 0, 0, 0, 0,...  (198, 150)     no1.jpg  \n",
       "2  [[16, 16, 16, 16, 16, 16, 16, 16, 16, 16, 16, ...  (225, 225)    no10.jpg  \n",
       "3  [[0, 0, 0, 0, 0, 0, 0, 0, 0, 0, 0, 0, 0, 0, 0,...  (530, 380)  no1004.jpg  \n",
       "4  [[0, 0, 0, 0, 0, 0, 0, 0, 0, 0, 1, 1, 1, 2, 2,...  (225, 225)  no1005.jpg  "
      ]
     },
     "execution_count": 4,
     "metadata": {},
     "output_type": "execute_result"
    }
   ],
   "source": [
    "df.head()"
   ]
  },
  {
   "cell_type": "code",
   "execution_count": 5,
   "id": "dcb54fef",
   "metadata": {},
   "outputs": [
    {
     "data": {
      "text/plain": [
       "array([(630, 630), (198, 150), (225, 225), (530, 380), (222, 227),\n",
       "       (192, 192), (417, 428), (251, 201), (201, 173), (197, 177),\n",
       "       (221, 228), (243, 207), (242, 208), (217, 232), (252, 200),\n",
       "       (231, 218), (442, 441), (282, 230), (262, 227), (326, 276),\n",
       "       (250, 201), (257, 196), (236, 214), (442, 400), (664, 550),\n",
       "       (442, 442), (512, 512), (400, 393), (454, 442), (680, 680),\n",
       "       (444, 468), (449, 359), (238, 212), (393, 350), (540, 504),\n",
       "       (214, 235), (234, 215), (213, 236), (168, 300), (244, 206),\n",
       "       (248, 208), (275, 220), (259, 194), (183, 275), (418, 364),\n",
       "       (295, 236), (225, 207), (229, 235), (236, 236), (234, 218),\n",
       "       (225, 234), (257, 236), (231, 236), (273, 236), (443, 354),\n",
       "       (263, 236), (224, 234), (592, 562), (1024, 1024), (301, 275),\n",
       "       (725, 728), (442, 409), (537, 472), (340, 339), (509, 452),\n",
       "       (406, 331), (212, 220), (613, 605), (501, 411), (286, 224),\n",
       "       (452, 355), (600, 494), (290, 236), (260, 236), (227, 235),\n",
       "       (243, 236), (225, 208), (350, 350), (424, 417), (512, 416),\n",
       "       (380, 336), (222, 212), (848, 785), (851, 724), (575, 626),\n",
       "       (1075, 890), (328, 267), (218, 236), (605, 600), (228, 236),\n",
       "       (300, 227), (236, 212), (496, 414), (496, 411), (252, 222),\n",
       "       (261, 235), (228, 235), (218, 234), (309, 236), (262, 236),\n",
       "       (474, 356), (280, 420)], dtype=object)"
      ]
     },
     "execution_count": 5,
     "metadata": {},
     "output_type": "execute_result"
    }
   ],
   "source": [
    "df[\"Image Shape\"].unique()"
   ]
  },
  {
   "cell_type": "code",
   "execution_count": 6,
   "id": "314741f5",
   "metadata": {},
   "outputs": [],
   "source": [
    "SIZE_X, SIZE_Y = (256, 256)\n",
    "\n",
    "from skimage.transform import resize\n",
    "def imgResize(img):\n",
    "      return resize(img,(SIZE_X, SIZE_Y))\n"
   ]
  },
  {
   "cell_type": "code",
   "execution_count": 7,
   "id": "10ce2b4c",
   "metadata": {},
   "outputs": [],
   "source": [
    "df.Image = df.Image.apply(imgResize)\n",
    "df[\"Image Shape\"] = df.Image.apply(lambda img: img.shape)"
   ]
  },
  {
   "cell_type": "code",
   "execution_count": 8,
   "id": "b3f5f9a2",
   "metadata": {},
   "outputs": [
    {
     "data": {
      "text/html": [
       "<div>\n",
       "<style scoped>\n",
       "    .dataframe tbody tr th:only-of-type {\n",
       "        vertical-align: middle;\n",
       "    }\n",
       "\n",
       "    .dataframe tbody tr th {\n",
       "        vertical-align: top;\n",
       "    }\n",
       "\n",
       "    .dataframe thead th {\n",
       "        text-align: right;\n",
       "    }\n",
       "</style>\n",
       "<table border=\"1\" class=\"dataframe\">\n",
       "  <thead>\n",
       "    <tr style=\"text-align: right;\">\n",
       "      <th></th>\n",
       "      <th>PID</th>\n",
       "      <th>Label</th>\n",
       "      <th>Image</th>\n",
       "      <th>Image Shape</th>\n",
       "      <th>File</th>\n",
       "    </tr>\n",
       "  </thead>\n",
       "  <tbody>\n",
       "    <tr>\n",
       "      <th>0</th>\n",
       "      <td>Heatly_dataset_#998</td>\n",
       "      <td>Healthy</td>\n",
       "      <td>[[0.0, 0.0, 0.0, 0.0, 0.0, 0.0, 0.0, 0.0, 0.0,...</td>\n",
       "      <td>(256, 256)</td>\n",
       "      <td>no0.jpg</td>\n",
       "    </tr>\n",
       "    <tr>\n",
       "      <th>1</th>\n",
       "      <td>Heatly_dataset_#998</td>\n",
       "      <td>Healthy</td>\n",
       "      <td>[[0.0, 0.0, 0.0, 0.0, 0.0, 0.0, 0.0, 0.0, 0.0,...</td>\n",
       "      <td>(256, 256)</td>\n",
       "      <td>no1.jpg</td>\n",
       "    </tr>\n",
       "    <tr>\n",
       "      <th>2</th>\n",
       "      <td>Heatly_dataset_#998</td>\n",
       "      <td>Healthy</td>\n",
       "      <td>[[0.06274509803921569, 0.06274509803921569, 0....</td>\n",
       "      <td>(256, 256)</td>\n",
       "      <td>no10.jpg</td>\n",
       "    </tr>\n",
       "    <tr>\n",
       "      <th>3</th>\n",
       "      <td>Heatly_dataset_#998</td>\n",
       "      <td>Healthy</td>\n",
       "      <td>[[0.0, 0.0, 0.0, 0.0, 0.0, 0.0, 0.0, 0.0, 0.0,...</td>\n",
       "      <td>(256, 256)</td>\n",
       "      <td>no1004.jpg</td>\n",
       "    </tr>\n",
       "    <tr>\n",
       "      <th>4</th>\n",
       "      <td>Heatly_dataset_#998</td>\n",
       "      <td>Healthy</td>\n",
       "      <td>[[0.0, 0.0, 0.0, 0.0, 0.0, 0.0, 0.0, 0.0, 0.0,...</td>\n",
       "      <td>(256, 256)</td>\n",
       "      <td>no1005.jpg</td>\n",
       "    </tr>\n",
       "  </tbody>\n",
       "</table>\n",
       "</div>"
      ],
      "text/plain": [
       "                   PID    Label  \\\n",
       "0  Heatly_dataset_#998  Healthy   \n",
       "1  Heatly_dataset_#998  Healthy   \n",
       "2  Heatly_dataset_#998  Healthy   \n",
       "3  Heatly_dataset_#998  Healthy   \n",
       "4  Heatly_dataset_#998  Healthy   \n",
       "\n",
       "                                               Image Image Shape        File  \n",
       "0  [[0.0, 0.0, 0.0, 0.0, 0.0, 0.0, 0.0, 0.0, 0.0,...  (256, 256)     no0.jpg  \n",
       "1  [[0.0, 0.0, 0.0, 0.0, 0.0, 0.0, 0.0, 0.0, 0.0,...  (256, 256)     no1.jpg  \n",
       "2  [[0.06274509803921569, 0.06274509803921569, 0....  (256, 256)    no10.jpg  \n",
       "3  [[0.0, 0.0, 0.0, 0.0, 0.0, 0.0, 0.0, 0.0, 0.0,...  (256, 256)  no1004.jpg  \n",
       "4  [[0.0, 0.0, 0.0, 0.0, 0.0, 0.0, 0.0, 0.0, 0.0,...  (256, 256)  no1005.jpg  "
      ]
     },
     "execution_count": 8,
     "metadata": {},
     "output_type": "execute_result"
    }
   ],
   "source": [
    "df.head()"
   ]
  },
  {
   "cell_type": "code",
   "execution_count": 24,
   "id": "49717395",
   "metadata": {},
   "outputs": [
    {
     "data": {
      "image/png": "[encoded data removed]",
      "text/plain": [
       "<Figure size 432x288 with 1 Axes>"
      ]
     },
     "metadata": {
      "needs_background": "light"
     },
     "output_type": "display_data"
    }
   ],
   "source": [
    "randInt =  np.random.randint(0, len(df))\n",
    "\n",
    "plt.imshow(df.Image[randInt], 'gray')\n",
    "plt.show()"
   ]
  },
  {
   "cell_type": "code",
   "execution_count": 26,
   "id": "e6448a19",
   "metadata": {},
   "outputs": [],
   "source": [
    "df.drop('Image Shape', inplace=True, axis=1)"
   ]
  },
  {
   "cell_type": "code",
   "execution_count": 27,
   "id": "41eb8242",
   "metadata": {},
   "outputs": [
    {
     "data": {
      "text/html": [
       "<div>\n",
       "<style scoped>\n",
       "    .dataframe tbody tr th:only-of-type {\n",
       "        vertical-align: middle;\n",
       "    }\n",
       "\n",
       "    .dataframe tbody tr th {\n",
       "        vertical-align: top;\n",
       "    }\n",
       "\n",
       "    .dataframe thead th {\n",
       "        text-align: right;\n",
       "    }\n",
       "</style>\n",
       "<table border=\"1\" class=\"dataframe\">\n",
       "  <thead>\n",
       "    <tr style=\"text-align: right;\">\n",
       "      <th></th>\n",
       "      <th>PID</th>\n",
       "      <th>Label</th>\n",
       "      <th>Image</th>\n",
       "      <th>File</th>\n",
       "    </tr>\n",
       "  </thead>\n",
       "  <tbody>\n",
       "    <tr>\n",
       "      <th>0</th>\n",
       "      <td>Heatly_dataset_#998</td>\n",
       "      <td>Healthy</td>\n",
       "      <td>[[0.0, 0.0, 0.0, 0.0, 0.0, 0.0, 0.0, 0.0, 0.0,...</td>\n",
       "      <td>no0.jpg</td>\n",
       "    </tr>\n",
       "    <tr>\n",
       "      <th>1</th>\n",
       "      <td>Heatly_dataset_#998</td>\n",
       "      <td>Healthy</td>\n",
       "      <td>[[0.0, 0.0, 0.0, 0.0, 0.0, 0.0, 0.0, 0.0, 0.0,...</td>\n",
       "      <td>no1.jpg</td>\n",
       "    </tr>\n",
       "    <tr>\n",
       "      <th>2</th>\n",
       "      <td>Heatly_dataset_#998</td>\n",
       "      <td>Healthy</td>\n",
       "      <td>[[0.06274509803921569, 0.06274509803921569, 0....</td>\n",
       "      <td>no10.jpg</td>\n",
       "    </tr>\n",
       "    <tr>\n",
       "      <th>3</th>\n",
       "      <td>Heatly_dataset_#998</td>\n",
       "      <td>Healthy</td>\n",
       "      <td>[[0.0, 0.0, 0.0, 0.0, 0.0, 0.0, 0.0, 0.0, 0.0,...</td>\n",
       "      <td>no1004.jpg</td>\n",
       "    </tr>\n",
       "    <tr>\n",
       "      <th>4</th>\n",
       "      <td>Heatly_dataset_#998</td>\n",
       "      <td>Healthy</td>\n",
       "      <td>[[0.0, 0.0, 0.0, 0.0, 0.0, 0.0, 0.0, 0.0, 0.0,...</td>\n",
       "      <td>no1005.jpg</td>\n",
       "    </tr>\n",
       "  </tbody>\n",
       "</table>\n",
       "</div>"
      ],
      "text/plain": [
       "                   PID    Label  \\\n",
       "0  Heatly_dataset_#998  Healthy   \n",
       "1  Heatly_dataset_#998  Healthy   \n",
       "2  Heatly_dataset_#998  Healthy   \n",
       "3  Heatly_dataset_#998  Healthy   \n",
       "4  Heatly_dataset_#998  Healthy   \n",
       "\n",
       "                                               Image        File  \n",
       "0  [[0.0, 0.0, 0.0, 0.0, 0.0, 0.0, 0.0, 0.0, 0.0,...     no0.jpg  \n",
       "1  [[0.0, 0.0, 0.0, 0.0, 0.0, 0.0, 0.0, 0.0, 0.0,...     no1.jpg  \n",
       "2  [[0.06274509803921569, 0.06274509803921569, 0....    no10.jpg  \n",
       "3  [[0.0, 0.0, 0.0, 0.0, 0.0, 0.0, 0.0, 0.0, 0.0,...  no1004.jpg  \n",
       "4  [[0.0, 0.0, 0.0, 0.0, 0.0, 0.0, 0.0, 0.0, 0.0,...  no1005.jpg  "
      ]
     },
     "execution_count": 27,
     "metadata": {},
     "output_type": "execute_result"
    }
   ],
   "source": [
    "df.head()"
   ]
  },
  {
   "cell_type": "code",
   "execution_count": 28,
   "id": "a15b1ab6",
   "metadata": {},
   "outputs": [],
   "source": [
    "df.to_pickle(\"Healthy_dataset.pkl\")"
   ]
  },
  {
   "cell_type": "code",
   "execution_count": null,
   "id": "f140e451",
   "metadata": {},
   "outputs": [],
   "source": []
  }
 ],
 "metadata": {
  "kernelspec": {
   "display_name": "Python 3 (ipykernel)",
   "language": "python",
   "name": "python3"
  },
  "language_info": {
   "codemirror_mode": {
    "name": "ipython",
    "version": 3
   },
   "file_extension": ".py",
   "mimetype": "text/x-python",
   "name": "python",
   "nbconvert_exporter": "python",
   "pygments_lexer": "ipython3",
   "version": "3.9.7"
  }
 },
 "nbformat": 4,
 "nbformat_minor": 5
}
