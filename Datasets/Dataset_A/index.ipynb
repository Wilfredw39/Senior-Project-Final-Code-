{
 "cells": [
  {
   "cell_type": "code",
   "execution_count": 1,
   "id": "978a3ed8",
   "metadata": {},
   "outputs": [],
   "source": [
    "import pandas as pd\n",
    "import numpy as np\n",
    "from PIL import Image, ImageOps \n",
    "import matplotlib.pyplot as plt\n",
    "import random\n",
    "import cv2"
   ]
  },
  {
   "cell_type": "code",
   "execution_count": 2,
   "id": "be0ba15c",
   "metadata": {},
   "outputs": [],
   "source": [
    "df = pd.read_pickle(\"../Dataset_A_resized_256.pkl\")"
   ]
  },
  {
   "cell_type": "code",
   "execution_count": 3,
   "id": "9382f57f",
   "metadata": {},
   "outputs": [
    {
     "data": {
      "text/html": [
       "<div>\n",
       "<style scoped>\n",
       "    .dataframe tbody tr th:only-of-type {\n",
       "        vertical-align: middle;\n",
       "    }\n",
       "\n",
       "    .dataframe tbody tr th {\n",
       "        vertical-align: top;\n",
       "    }\n",
       "\n",
       "    .dataframe thead th {\n",
       "        text-align: right;\n",
       "    }\n",
       "</style>\n",
       "<table border=\"1\" class=\"dataframe\">\n",
       "  <thead>\n",
       "    <tr style=\"text-align: right;\">\n",
       "      <th></th>\n",
       "      <th>PID</th>\n",
       "      <th>Images</th>\n",
       "      <th>Tumor Mask</th>\n",
       "      <th>Tumor Border</th>\n",
       "      <th>Labels</th>\n",
       "      <th>File name</th>\n",
       "    </tr>\n",
       "  </thead>\n",
       "  <tbody>\n",
       "    <tr>\n",
       "      <th>0</th>\n",
       "      <td>100360</td>\n",
       "      <td>[[1.5259021896696422e-05, 1.5259021896696422e-...</td>\n",
       "      <td>[[0.0, 0.0, 0.0, 0.0, 0.0, 0.0, 0.0, 0.0, 0.0,...</td>\n",
       "      <td>[267.6152450090744, 231.37568058076226, 277.83...</td>\n",
       "      <td>Meningioma</td>\n",
       "      <td>1.mat</td>\n",
       "    </tr>\n",
       "    <tr>\n",
       "      <th>1</th>\n",
       "      <td>101016</td>\n",
       "      <td>[[1.5259021896696422e-05, 1.5259021896696422e-...</td>\n",
       "      <td>[[0.0, 0.0, 0.0, 0.0, 0.0, 0.0, 0.0, 0.0, 0.0,...</td>\n",
       "      <td>[248.86411149825784, 256.89198606271776, 238.1...</td>\n",
       "      <td>Meningioma</td>\n",
       "      <td>10.mat</td>\n",
       "    </tr>\n",
       "    <tr>\n",
       "      <th>2</th>\n",
       "      <td>107494</td>\n",
       "      <td>[[1.5259021896696422e-05, 1.5259021896696422e-...</td>\n",
       "      <td>[[0.0, 0.0, 0.0, 0.0, 0.0, 0.0, 0.0, 0.0, 0.0,...</td>\n",
       "      <td>[193.26370732550265, 175.8076305348121, 185.15...</td>\n",
       "      <td>Meningioma</td>\n",
       "      <td>100.mat</td>\n",
       "    </tr>\n",
       "    <tr>\n",
       "      <th>3</th>\n",
       "      <td>112649</td>\n",
       "      <td>[[1.5259021896696422e-05, 1.5259021896696422e-...</td>\n",
       "      <td>[[0.0, 0.0, 0.0, 0.0, 0.0, 0.0, 0.0, 0.0, 0.0,...</td>\n",
       "      <td>[225.95188511210213, 231.1718956592464, 233.40...</td>\n",
       "      <td>Pituitary</td>\n",
       "      <td>1000.mat</td>\n",
       "    </tr>\n",
       "    <tr>\n",
       "      <th>4</th>\n",
       "      <td>112649</td>\n",
       "      <td>[[1.5259021896696422e-05, 1.5259021896696422e-...</td>\n",
       "      <td>[[0.0, 0.0, 0.0, 0.0, 0.0, 0.0, 0.0, 0.0, 0.0,...</td>\n",
       "      <td>[231.61100841767436, 237.4012836281162, 241.02...</td>\n",
       "      <td>Pituitary</td>\n",
       "      <td>1001.mat</td>\n",
       "    </tr>\n",
       "  </tbody>\n",
       "</table>\n",
       "</div>"
      ],
      "text/plain": [
       "      PID                                             Images  \\\n",
       "0  100360  [[1.5259021896696422e-05, 1.5259021896696422e-...   \n",
       "1  101016  [[1.5259021896696422e-05, 1.5259021896696422e-...   \n",
       "2  107494  [[1.5259021896696422e-05, 1.5259021896696422e-...   \n",
       "3  112649  [[1.5259021896696422e-05, 1.5259021896696422e-...   \n",
       "4  112649  [[1.5259021896696422e-05, 1.5259021896696422e-...   \n",
       "\n",
       "                                          Tumor Mask  \\\n",
       "0  [[0.0, 0.0, 0.0, 0.0, 0.0, 0.0, 0.0, 0.0, 0.0,...   \n",
       "1  [[0.0, 0.0, 0.0, 0.0, 0.0, 0.0, 0.0, 0.0, 0.0,...   \n",
       "2  [[0.0, 0.0, 0.0, 0.0, 0.0, 0.0, 0.0, 0.0, 0.0,...   \n",
       "3  [[0.0, 0.0, 0.0, 0.0, 0.0, 0.0, 0.0, 0.0, 0.0,...   \n",
       "4  [[0.0, 0.0, 0.0, 0.0, 0.0, 0.0, 0.0, 0.0, 0.0,...   \n",
       "\n",
       "                                        Tumor Border      Labels File name  \n",
       "0  [267.6152450090744, 231.37568058076226, 277.83...  Meningioma     1.mat  \n",
       "1  [248.86411149825784, 256.89198606271776, 238.1...  Meningioma    10.mat  \n",
       "2  [193.26370732550265, 175.8076305348121, 185.15...  Meningioma   100.mat  \n",
       "3  [225.95188511210213, 231.1718956592464, 233.40...   Pituitary  1000.mat  \n",
       "4  [231.61100841767436, 237.4012836281162, 241.02...   Pituitary  1001.mat  "
      ]
     },
     "execution_count": 3,
     "metadata": {},
     "output_type": "execute_result"
    }
   ],
   "source": [
    "df.head()"
   ]
  },
  {
   "cell_type": "code",
   "execution_count": 4,
   "id": "eda763be",
   "metadata": {},
   "outputs": [],
   "source": [
    "df = df.loc[:, [\"PID\", \"Images\", \"Tumor Mask\", \"Labels\"]]"
   ]
  },
  {
   "cell_type": "code",
   "execution_count": 5,
   "id": "afbb535f",
   "metadata": {},
   "outputs": [],
   "source": [
    "seed = 42"
   ]
  },
  {
   "cell_type": "code",
   "execution_count": 6,
   "id": "886d7419",
   "metadata": {},
   "outputs": [],
   "source": [
    "## Splitting Data to : 75% Train set, 15% Test set, and 10% Validation set\n",
    "\n",
    "train_DF = df.sample(frac=0.75, random_state=seed) #random state is a seed value\n",
    "test_val_DF  = df.drop(train_DF.index)\n",
    "\n",
    "test_DF = test_val_DF.sample(frac=0.6, random_state=seed) #random state is a seed value\n",
    "val_DF = test_val_DF.drop(test_DF.index)"
   ]
  },
  {
   "cell_type": "code",
   "execution_count": 7,
   "id": "854d0dcd",
   "metadata": {},
   "outputs": [
    {
     "name": "stdout",
     "output_type": "stream",
     "text": [
      "train_DF size:  75.0\n",
      "val_DF size  :  9.986945169712794\n",
      "test_DF size :  15.013054830287206\n"
     ]
    }
   ],
   "source": [
    "print(\"train_DF size: \", len(train_DF)/len(df)*100)\n",
    "print(\"val_DF size  : \", len(val_DF)/len(df)*100)\n",
    "print(\"test_DF size : \", len(test_DF)/len(df)*100)"
   ]
  },
  {
   "cell_type": "code",
   "execution_count": 8,
   "id": "6c6ff037",
   "metadata": {},
   "outputs": [
    {
     "data": {
      "text/html": [
       "<div>\n",
       "<style scoped>\n",
       "    .dataframe tbody tr th:only-of-type {\n",
       "        vertical-align: middle;\n",
       "    }\n",
       "\n",
       "    .dataframe tbody tr th {\n",
       "        vertical-align: top;\n",
       "    }\n",
       "\n",
       "    .dataframe thead th {\n",
       "        text-align: right;\n",
       "    }\n",
       "</style>\n",
       "<table border=\"1\" class=\"dataframe\">\n",
       "  <thead>\n",
       "    <tr style=\"text-align: right;\">\n",
       "      <th></th>\n",
       "      <th>PID</th>\n",
       "      <th>Images</th>\n",
       "      <th>Tumor Mask</th>\n",
       "      <th>Labels</th>\n",
       "    </tr>\n",
       "  </thead>\n",
       "  <tbody>\n",
       "    <tr>\n",
       "      <th>1696</th>\n",
       "      <td>MR017260F</td>\n",
       "      <td>[[1.5259021896696422e-05, 1.5259021896696422e-...</td>\n",
       "      <td>[[0.0, 0.0, 0.0, 0.0, 0.0, 0.0, 0.0, 0.0, 0.0,...</td>\n",
       "      <td>Glioma</td>\n",
       "    </tr>\n",
       "    <tr>\n",
       "      <th>2653</th>\n",
       "      <td>113435</td>\n",
       "      <td>[[1.5259021896696422e-05, 1.5259021896696422e-...</td>\n",
       "      <td>[[0.0, 0.0, 0.0, 0.0, 0.0, 0.0, 0.0, 0.0, 0.0,...</td>\n",
       "      <td>Meningioma</td>\n",
       "    </tr>\n",
       "    <tr>\n",
       "      <th>1408</th>\n",
       "      <td>MR049358</td>\n",
       "      <td>[[1.5259021896696422e-05, 1.5259021896696422e-...</td>\n",
       "      <td>[[0.0, 0.0, 0.0, 0.0, 0.0, 0.0, 0.0, 0.0, 0.0,...</td>\n",
       "      <td>Glioma</td>\n",
       "    </tr>\n",
       "    <tr>\n",
       "      <th>2300</th>\n",
       "      <td>106720</td>\n",
       "      <td>[[1.5259021896696422e-05, 1.5259021896696422e-...</td>\n",
       "      <td>[[0.0, 0.0, 0.0, 0.0, 0.0, 0.0, 0.0, 0.0, 0.0,...</td>\n",
       "      <td>Meningioma</td>\n",
       "    </tr>\n",
       "    <tr>\n",
       "      <th>1348</th>\n",
       "      <td>MR040240B</td>\n",
       "      <td>[[1.5259021896696422e-05, 1.5259021896696422e-...</td>\n",
       "      <td>[[0.0, 0.0, 0.0, 0.0, 0.0, 0.0, 0.0, 0.0, 0.0,...</td>\n",
       "      <td>Glioma</td>\n",
       "    </tr>\n",
       "  </tbody>\n",
       "</table>\n",
       "</div>"
      ],
      "text/plain": [
       "            PID                                             Images  \\\n",
       "1696  MR017260F  [[1.5259021896696422e-05, 1.5259021896696422e-...   \n",
       "2653     113435  [[1.5259021896696422e-05, 1.5259021896696422e-...   \n",
       "1408   MR049358  [[1.5259021896696422e-05, 1.5259021896696422e-...   \n",
       "2300     106720  [[1.5259021896696422e-05, 1.5259021896696422e-...   \n",
       "1348  MR040240B  [[1.5259021896696422e-05, 1.5259021896696422e-...   \n",
       "\n",
       "                                             Tumor Mask      Labels  \n",
       "1696  [[0.0, 0.0, 0.0, 0.0, 0.0, 0.0, 0.0, 0.0, 0.0,...      Glioma  \n",
       "2653  [[0.0, 0.0, 0.0, 0.0, 0.0, 0.0, 0.0, 0.0, 0.0,...  Meningioma  \n",
       "1408  [[0.0, 0.0, 0.0, 0.0, 0.0, 0.0, 0.0, 0.0, 0.0,...      Glioma  \n",
       "2300  [[0.0, 0.0, 0.0, 0.0, 0.0, 0.0, 0.0, 0.0, 0.0,...  Meningioma  \n",
       "1348  [[0.0, 0.0, 0.0, 0.0, 0.0, 0.0, 0.0, 0.0, 0.0,...      Glioma  "
      ]
     },
     "execution_count": 8,
     "metadata": {},
     "output_type": "execute_result"
    }
   ],
   "source": [
    "test_DF.head()"
   ]
  },
  {
   "cell_type": "code",
   "execution_count": 9,
   "id": "041be252",
   "metadata": {},
   "outputs": [
    {
     "data": {
      "text/plain": [
       "PID           90\n",
       "Images        90\n",
       "Tumor Mask    90\n",
       "Labels        90\n",
       "dtype: int64"
      ]
     },
     "execution_count": 9,
     "metadata": {},
     "output_type": "execute_result"
    }
   ],
   "source": [
    "val_DF[val_DF[\"Labels\"]=='Pituitary'].count()"
   ]
  },
  {
   "cell_type": "code",
   "execution_count": 10,
   "id": "327424dd",
   "metadata": {},
   "outputs": [
    {
     "data": {
      "text/plain": [
       "0.21956521739130436"
      ]
     },
     "execution_count": 10,
     "metadata": {},
     "output_type": "execute_result"
    }
   ],
   "source": [
    "len(test_DF[test_DF[\"Labels\"]=='Meningioma'])/ len(test_DF)"
   ]
  },
  {
   "cell_type": "code",
   "execution_count": 11,
   "id": "75568e23",
   "metadata": {},
   "outputs": [
    {
     "data": {
      "text/plain": [
       "0.2222222222222222"
      ]
     },
     "execution_count": 11,
     "metadata": {},
     "output_type": "execute_result"
    }
   ],
   "source": [
    "len(val_DF[val_DF[\"Labels\"]=='Meningioma'])/len(val_DF)"
   ]
  },
  {
   "cell_type": "code",
   "execution_count": 12,
   "id": "28110746",
   "metadata": {},
   "outputs": [
    {
     "data": {
      "text/plain": [
       "0.23455178416013925"
      ]
     },
     "execution_count": 12,
     "metadata": {},
     "output_type": "execute_result"
    }
   ],
   "source": [
    "len(train_DF[train_DF[\"Labels\"]=='Meningioma'])/len(train_DF)"
   ]
  },
  {
   "cell_type": "code",
   "execution_count": 13,
   "id": "2a5b1b4f",
   "metadata": {},
   "outputs": [],
   "source": [
    "## Augmentation:\n",
    "\n",
    "import skimage\n",
    "import skimage.transform\n",
    "\n",
    "def mirrors(np_im):\n",
    "    np_im = Image.fromarray(np_im)\n",
    "    im_agu = ImageOps.mirror(np_im)\n",
    "    return np.asanyarray(im_agu)\n",
    "\n",
    "## flips an image \n",
    "def flips(np_im):\n",
    "    np_im = Image.fromarray(np_im)\n",
    "    im_agu = ImageOps.flip(np_im)\n",
    "    return np.asanyarray(im_agu)\n",
    "\n",
    "def rotate(np_im, deg):\n",
    "    return skimage.transform.rotate(np_im, deg, resize=False)\n",
    "    "
   ]
  },
  {
   "cell_type": "code",
   "execution_count": 14,
   "id": "afc93553",
   "metadata": {},
   "outputs": [],
   "source": [
    "img = df[\"Images\"][0]\n",
    "mask = df[\"Tumor Mask\"][0]"
   ]
  },
  {
   "cell_type": "code",
   "execution_count": 15,
   "id": "19593926",
   "metadata": {},
   "outputs": [],
   "source": [
    "mirrored_df  = train_DF.copy()\n",
    "fliped_df    = train_DF.copy()\n",
    "rotated_df   = train_DF.copy()\n",
    "\n",
    "mirrored_df['Images'] = mirrored_df['Images'].apply(mirrors)\n",
    "mirrored_df['Tumor Mask'] = mirrored_df['Tumor Mask'].apply(mirrors)\n",
    "\n",
    "fliped_df['Images'] = fliped_df['Images'].apply(mirrors)\n",
    "fliped_df['Tumor Mask'] = fliped_df['Tumor Mask'].apply(mirrors)\n",
    "\n",
    "\n",
    "for index, row in rotated_df.iterrows():\n",
    "    deg = random.randint(-45 ,45)\n",
    "    row[\"Images\"] = rotate(row[\"Images\"], deg)\n",
    "    row[\"Tumor Mask\"] = np.round(rotate(row[\"Tumor Mask\"], deg))\n",
    "\n",
    "aug_train_DF = pd.concat([train_DF, mirrored_df, fliped_df, rotated_df], axis=0, ignore_index = True)\n",
    "del mirrored_df\n",
    "del fliped_df\n",
    "del rotated_df\n"
   ]
  },
  {
   "cell_type": "code",
   "execution_count": 16,
   "id": "fa15957b",
   "metadata": {},
   "outputs": [],
   "source": [
    "mirrored_df  = val_DF.copy()\n",
    "fliped_df    = val_DF.copy()\n",
    "rotated_df   = val_DF.copy()\n",
    "\n",
    "mirrored_df['Images'] = mirrored_df['Images'].apply(mirrors)\n",
    "mirrored_df['Tumor Mask'] = mirrored_df['Tumor Mask'].apply(mirrors)\n",
    "\n",
    "fliped_df['Images'] = fliped_df['Images'].apply(mirrors)\n",
    "fliped_df['Tumor Mask'] = fliped_df['Tumor Mask'].apply(mirrors)\n",
    "\n",
    "\n",
    "for index, row in rotated_df.iterrows():\n",
    "    deg = random.randint(-45 ,45)\n",
    "    row[\"Images\"] = rotate(row[\"Images\"], deg)\n",
    "    row[\"Tumor Mask\"] = np.round(rotate(row[\"Tumor Mask\"], deg))\n",
    "\n",
    "aug_val_DF = pd.concat([val_DF, mirrored_df, fliped_df, rotated_df], axis=0, ignore_index = True)\n",
    "del mirrored_df\n",
    "del fliped_df\n",
    "del rotated_df\n"
   ]
  },
  {
   "cell_type": "code",
   "execution_count": 17,
   "id": "bc868db5",
   "metadata": {},
   "outputs": [],
   "source": [
    "mirrored_df  = test_DF.copy()\n",
    "fliped_df    = test_DF.copy()\n",
    "rotated_df   = test_DF.copy()\n",
    "\n",
    "mirrored_df['Images'] = mirrored_df['Images'].apply(mirrors)\n",
    "mirrored_df['Tumor Mask'] = mirrored_df['Tumor Mask'].apply(mirrors)\n",
    "\n",
    "fliped_df['Images'] = fliped_df['Images'].apply(mirrors)\n",
    "fliped_df['Tumor Mask'] = fliped_df['Tumor Mask'].apply(mirrors)\n",
    "\n",
    "\n",
    "for index, row in rotated_df.iterrows():\n",
    "    deg = random.randint(-45 ,45)\n",
    "    row[\"Images\"] = rotate(row[\"Images\"], deg)\n",
    "    row[\"Tumor Mask\"] = np.round(rotate(row[\"Tumor Mask\"], deg))\n",
    "\n",
    "aug_test_DF = pd.concat([test_DF, mirrored_df, fliped_df, rotated_df], axis=0, ignore_index = True)\n",
    "del mirrored_df\n",
    "del fliped_df\n",
    "del rotated_df\n"
   ]
  },
  {
   "cell_type": "code",
   "execution_count": 18,
   "id": "a21cda72",
   "metadata": {},
   "outputs": [],
   "source": [
    "#shuffle agumented dataframe\n",
    "aug_train_DF = aug_train_DF.sample(frac=1).reset_index(drop=True) #Use if you want to reset index order\n",
    "aug_val_DF = aug_val_DF.sample(frac=1).reset_index(drop=True) #Use if you want to reset index order\n",
    "aug_test_DF = aug_test_DF.sample(frac=1).reset_index(drop=True) #Use if you want to reset index order"
   ]
  },
  {
   "cell_type": "code",
   "execution_count": 19,
   "id": "28a9b7f4",
   "metadata": {},
   "outputs": [],
   "source": [
    "# aug_train_DF.to_pickle(\"aug_train_DF.pkl\")\n",
    "# val_DF.to_pickle(\"val_DF.pkl\")\n",
    "# test_DF.to_pickle(\"test_DF.pkl\")"
   ]
  },
  {
   "cell_type": "code",
   "execution_count": 20,
   "id": "21148af7",
   "metadata": {},
   "outputs": [],
   "source": [
    "SIZE_X = 128 \n",
    "SIZE_Y = 128"
   ]
  },
  {
   "cell_type": "code",
   "execution_count": 21,
   "id": "be5d1e00",
   "metadata": {},
   "outputs": [],
   "source": [
    "def imgResize(img):\n",
    "    wt, ht = SIZE_X, SIZE_Y\n",
    "    h, w = img.shape\n",
    "    f = min(wt / w, ht / h)\n",
    "    tx = (wt - w * f) / 2\n",
    "    ty = (ht - h * f) / 2\n",
    "\n",
    "    # map image into target image\n",
    "    M = np.float32([[f, 0, tx], [0, f, ty]])\n",
    "    target = np.ones([ht, wt]) * 255\n",
    "    img = cv2.warpAffine(img, M, dsize=(wt, ht), dst=target, borderMode=cv2.BORDER_TRANSPARENT)\n",
    "    return img"
   ]
  },
  {
   "cell_type": "code",
   "execution_count": 22,
   "id": "53a3e804",
   "metadata": {},
   "outputs": [],
   "source": [
    "aug_train_DF[\"Images\"] = aug_train_DF[\"Images\"].apply(imgResize)\n",
    "aug_train_DF[\"Tumor Mask\"] = aug_train_DF[\"Tumor Mask\"].apply(imgResize)"
   ]
  },
  {
   "cell_type": "code",
   "execution_count": 23,
   "id": "1279f8aa",
   "metadata": {},
   "outputs": [],
   "source": [
    "aug_val_DF[\"Images\"] = aug_val_DF[\"Images\"].apply(imgResize)\n",
    "aug_val_DF[\"Tumor Mask\"] = aug_val_DF[\"Tumor Mask\"].apply(imgResize)"
   ]
  },
  {
   "cell_type": "code",
   "execution_count": 24,
   "id": "4ddc197b",
   "metadata": {},
   "outputs": [],
   "source": [
    "aug_test_DF[\"Images\"] = aug_test_DF[\"Images\"].apply(imgResize)\n",
    "aug_test_DF[\"Tumor Mask\"] = aug_test_DF[\"Tumor Mask\"].apply(imgResize)"
   ]
  },
  {
   "cell_type": "code",
   "execution_count": 25,
   "id": "979d0231",
   "metadata": {},
   "outputs": [],
   "source": [
    "train_DF[\"Images\"] = train_DF[\"Images\"].apply(imgResize)\n",
    "train_DF[\"Tumor Mask\"] = train_DF[\"Tumor Mask\"].apply(imgResize)"
   ]
  },
  {
   "cell_type": "code",
   "execution_count": 26,
   "id": "6c826931",
   "metadata": {},
   "outputs": [],
   "source": [
    "val_DF[\"Images\"] = val_DF[\"Images\"].apply(imgResize)\n",
    "val_DF[\"Tumor Mask\"] = val_DF[\"Tumor Mask\"].apply(imgResize)"
   ]
  },
  {
   "cell_type": "code",
   "execution_count": 27,
   "id": "4cd0879f",
   "metadata": {},
   "outputs": [],
   "source": [
    "test_DF[\"Images\"] = test_DF[\"Images\"].apply(imgResize)\n",
    "test_DF[\"Tumor Mask\"] = test_DF[\"Tumor Mask\"].apply(imgResize)"
   ]
  },
  {
   "cell_type": "code",
   "execution_count": 28,
   "id": "437794b3",
   "metadata": {},
   "outputs": [
    {
     "data": {
      "text/plain": [
       "array([0., 1.])"
      ]
     },
     "execution_count": 28,
     "metadata": {},
     "output_type": "execute_result"
    }
   ],
   "source": [
    "np.unique(aug_train_DF[\"Tumor Mask\"].tolist())"
   ]
  },
  {
   "cell_type": "code",
   "execution_count": 29,
   "id": "a308ca67",
   "metadata": {},
   "outputs": [
    {
     "data": {
      "text/plain": [
       "array([0., 1.])"
      ]
     },
     "execution_count": 29,
     "metadata": {},
     "output_type": "execute_result"
    }
   ],
   "source": [
    "np.unique(aug_val_DF[\"Tumor Mask\"].tolist())"
   ]
  },
  {
   "cell_type": "code",
   "execution_count": 30,
   "id": "4afdd480",
   "metadata": {},
   "outputs": [
    {
     "data": {
      "text/plain": [
       "array([0., 1.])"
      ]
     },
     "execution_count": 30,
     "metadata": {},
     "output_type": "execute_result"
    }
   ],
   "source": [
    "np.unique(aug_test_DF[\"Tumor Mask\"].tolist())"
   ]
  },
  {
   "cell_type": "code",
   "execution_count": 31,
   "id": "12352dd8",
   "metadata": {},
   "outputs": [],
   "source": [
    "train_DF.to_pickle(\"train_DF_{}.pkl\".format(SIZE_X))\n",
    "val_DF.to_pickle(\"val_DF_{}.pkl\".format(SIZE_X))\n",
    "test_DF.to_pickle(\"test_DF_{}.pkl\".format(SIZE_X))"
   ]
  },
  {
   "cell_type": "code",
   "execution_count": 32,
   "id": "b46a52da",
   "metadata": {},
   "outputs": [],
   "source": [
    "aug_train_DF.to_pickle(\"aug_train_DF_{}.pkl\".format(SIZE_X))\n",
    "aug_val_DF.to_pickle(\"aug_val_DF_{}.pkl\".format(SIZE_X))\n",
    "aug_test_DF.to_pickle(\"aug_test_DF_{}.pkl\".format(SIZE_X))"
   ]
  },
  {
   "cell_type": "code",
   "execution_count": 33,
   "id": "8da46f70",
   "metadata": {},
   "outputs": [
    {
     "data": {
      "text/html": [
       "<div>\n",
       "<style scoped>\n",
       "    .dataframe tbody tr th:only-of-type {\n",
       "        vertical-align: middle;\n",
       "    }\n",
       "\n",
       "    .dataframe tbody tr th {\n",
       "        vertical-align: top;\n",
       "    }\n",
       "\n",
       "    .dataframe thead th {\n",
       "        text-align: right;\n",
       "    }\n",
       "</style>\n",
       "<table border=\"1\" class=\"dataframe\">\n",
       "  <thead>\n",
       "    <tr style=\"text-align: right;\">\n",
       "      <th></th>\n",
       "      <th>PID</th>\n",
       "      <th>Images</th>\n",
       "      <th>Tumor Mask</th>\n",
       "      <th>Labels</th>\n",
       "    </tr>\n",
       "  </thead>\n",
       "  <tbody>\n",
       "    <tr>\n",
       "      <th>0</th>\n",
       "      <td>101016</td>\n",
       "      <td>[[1.5259022e-05, 1.5259022e-05, 1.5259022e-05,...</td>\n",
       "      <td>[[0.0, 0.0, 0.0, 0.0, 0.0, 0.0, 0.0, 0.0, 0.0,...</td>\n",
       "      <td>Meningioma</td>\n",
       "    </tr>\n",
       "    <tr>\n",
       "      <th>1</th>\n",
       "      <td>100820</td>\n",
       "      <td>[[1.5259022e-05, 1.5259022e-05, 1.5259022e-05,...</td>\n",
       "      <td>[[0.0, 0.0, 0.0, 0.0, 0.0, 0.0, 0.0, 0.0, 0.0,...</td>\n",
       "      <td>Glioma</td>\n",
       "    </tr>\n",
       "    <tr>\n",
       "      <th>2</th>\n",
       "      <td>103670</td>\n",
       "      <td>[[1.5259022e-05, 1.5259022e-05, 1.5259022e-05,...</td>\n",
       "      <td>[[0.0, 0.0, 0.0, 0.0, 0.0, 0.0, 0.0, 0.0, 0.0,...</td>\n",
       "      <td>Pituitary</td>\n",
       "    </tr>\n",
       "    <tr>\n",
       "      <th>3</th>\n",
       "      <td>103671</td>\n",
       "      <td>[[1.5259022e-05, 4.5777066e-05, 4.5777066e-05,...</td>\n",
       "      <td>[[0.0, 0.0, 0.0, 0.0, 0.0, 0.0, 0.0, 0.0, 0.0,...</td>\n",
       "      <td>Pituitary</td>\n",
       "    </tr>\n",
       "    <tr>\n",
       "      <th>4</th>\n",
       "      <td>105374</td>\n",
       "      <td>[[1.5259022e-05, 1.5259022e-05, 1.5259022e-05,...</td>\n",
       "      <td>[[0.0, 0.0, 0.0, 0.0, 0.0, 0.0, 0.0, 0.0, 0.0,...</td>\n",
       "      <td>Meningioma</td>\n",
       "    </tr>\n",
       "  </tbody>\n",
       "</table>\n",
       "</div>"
      ],
      "text/plain": [
       "      PID                                             Images  \\\n",
       "0  101016  [[1.5259022e-05, 1.5259022e-05, 1.5259022e-05,...   \n",
       "1  100820  [[1.5259022e-05, 1.5259022e-05, 1.5259022e-05,...   \n",
       "2  103670  [[1.5259022e-05, 1.5259022e-05, 1.5259022e-05,...   \n",
       "3  103671  [[1.5259022e-05, 4.5777066e-05, 4.5777066e-05,...   \n",
       "4  105374  [[1.5259022e-05, 1.5259022e-05, 1.5259022e-05,...   \n",
       "\n",
       "                                          Tumor Mask      Labels  \n",
       "0  [[0.0, 0.0, 0.0, 0.0, 0.0, 0.0, 0.0, 0.0, 0.0,...  Meningioma  \n",
       "1  [[0.0, 0.0, 0.0, 0.0, 0.0, 0.0, 0.0, 0.0, 0.0,...      Glioma  \n",
       "2  [[0.0, 0.0, 0.0, 0.0, 0.0, 0.0, 0.0, 0.0, 0.0,...   Pituitary  \n",
       "3  [[0.0, 0.0, 0.0, 0.0, 0.0, 0.0, 0.0, 0.0, 0.0,...   Pituitary  \n",
       "4  [[0.0, 0.0, 0.0, 0.0, 0.0, 0.0, 0.0, 0.0, 0.0,...  Meningioma  "
      ]
     },
     "execution_count": 33,
     "metadata": {},
     "output_type": "execute_result"
    }
   ],
   "source": [
    "aug_train_DF.head()"
   ]
  },
  {
   "cell_type": "code",
   "execution_count": 37,
   "id": "3eebc4c4",
   "metadata": {},
   "outputs": [
    {
     "name": "stdout",
     "output_type": "stream",
     "text": [
      "aug_train_DF size:  0.75\n",
      "aug_val_DF size  :  0.09986945169712794\n",
      "aug_test_DF size :  0.15013054830287206\n"
     ]
    }
   ],
   "source": [
    "print(\"aug_train_DF size: \", len(aug_train_DF)/(len(df)*4))\n",
    "print(\"aug_val_DF size  : \", len(aug_val_DF)/(len(df)*4))\n",
    "print(\"aug_test_DF size : \", len(aug_test_DF)/(len(df)*4))"
   ]
  },
  {
   "cell_type": "code",
   "execution_count": null,
   "id": "ab84a781",
   "metadata": {},
   "outputs": [],
   "source": []
  }
 ],
 "metadata": {
  "kernelspec": {
   "display_name": "Python 3 (ipykernel)",
   "language": "python",
   "name": "python3"
  },
  "language_info": {
   "codemirror_mode": {
    "name": "ipython",
    "version": 3
   },
   "file_extension": ".py",
   "mimetype": "text/x-python",
   "name": "python",
   "nbconvert_exporter": "python",
   "pygments_lexer": "ipython3",
   "version": "3.9.7"
  }
 },
 "nbformat": 4,
 "nbformat_minor": 5
}
