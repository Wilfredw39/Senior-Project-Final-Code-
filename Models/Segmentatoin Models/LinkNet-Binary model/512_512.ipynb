{
 "cells": [
  {
   "cell_type": "code",
   "execution_count": 1,
   "metadata": {},
   "outputs": [],
   "source": [
    "# Import all the dependencies\n",
    "import nilearn\n",
    "import matplotlib.pyplot as plt\n",
    "import pandas as pd\n",
    "import numpy as np \n",
    "import matplotlib.pyplot as plt\n",
    "import seaborn as sns\n",
    "import os \n",
    "from tqdm.notebook import tqdm_notebook as tqdm\n",
    "import cv2\n",
    "import skimage\n",
    "from skimage.transform import resize\n",
    "import tensorflow as tf\n",
    "import keras\n",
    "from keras.models import Model\n",
    "from keras.layers import Input, Conv2D, MaxPooling2D, UpSampling2D, concatenate, Conv2DTranspose, BatchNormalization, Dropout, Lambda\n",
    "from keras.layers import Activation, MaxPool2D, Concatenate\n",
    "from tensorflow.keras.optimizers import Adam"
   ]
  },
  {
   "cell_type": "code",
   "execution_count": 2,
   "metadata": {},
   "outputs": [
    {
     "name": "stdout",
     "output_type": "stream",
     "text": [
      "[PhysicalDevice(name='/physical_device:GPU:0', device_type='GPU')]\n"
     ]
    }
   ],
   "source": [
    "physical_devices = tf.config.experimental.list_physical_devices('GPU')\n",
    "print(physical_devices)\n",
    "if physical_devices:\n",
    "    tf.config.experimental.set_memory_growth(physical_devices[0], True)"
   ]
  },
  {
   "cell_type": "code",
   "execution_count": 3,
   "metadata": {},
   "outputs": [
    {
     "data": {
      "text/html": [
       "<div>\n",
       "<style scoped>\n",
       "    .dataframe tbody tr th:only-of-type {\n",
       "        vertical-align: middle;\n",
       "    }\n",
       "\n",
       "    .dataframe tbody tr th {\n",
       "        vertical-align: top;\n",
       "    }\n",
       "\n",
       "    .dataframe thead th {\n",
       "        text-align: right;\n",
       "    }\n",
       "</style>\n",
       "<table border=\"1\" class=\"dataframe\">\n",
       "  <thead>\n",
       "    <tr style=\"text-align: right;\">\n",
       "      <th></th>\n",
       "      <th>PID</th>\n",
       "      <th>Images</th>\n",
       "      <th>Tumor Mask</th>\n",
       "      <th>Tumor Border</th>\n",
       "      <th>Labels</th>\n",
       "      <th>File name</th>\n",
       "    </tr>\n",
       "  </thead>\n",
       "  <tbody>\n",
       "    <tr>\n",
       "      <th>2120</th>\n",
       "      <td>MR050791B</td>\n",
       "      <td>[[1.5259021896696422e-05, 1.5259021896696422e-...</td>\n",
       "      <td>[[0.0, 0.0, 0.0, 0.0, 0.0, 0.0, 0.0, 0.0, 0.0,...</td>\n",
       "      <td>[280.9756097560976, 277.4076655052265, 289.895...</td>\n",
       "      <td>Glioma</td>\n",
       "      <td>2907.mat</td>\n",
       "    </tr>\n",
       "    <tr>\n",
       "      <th>577</th>\n",
       "      <td>103671</td>\n",
       "      <td>[[1.5259021896696422e-05, 1.5259021896696422e-...</td>\n",
       "      <td>[[0.0, 0.0, 0.0, 0.0, 0.0, 0.0, 0.0, 0.0, 0.0,...</td>\n",
       "      <td>[233.70034843205576, 290.78745644599303, 229.2...</td>\n",
       "      <td>Pituitary</td>\n",
       "      <td>1518.mat</td>\n",
       "    </tr>\n",
       "    <tr>\n",
       "      <th>349</th>\n",
       "      <td>103478</td>\n",
       "      <td>[[1.5259021896696422e-05, 1.5259021896696422e-...</td>\n",
       "      <td>[[0.0, 0.0, 0.0, 0.0, 0.0, 0.0, 0.0, 0.0, 0.0,...</td>\n",
       "      <td>[242.62020905923345, 174.82926829268294, 234.5...</td>\n",
       "      <td>Pituitary</td>\n",
       "      <td>1312.mat</td>\n",
       "    </tr>\n",
       "    <tr>\n",
       "      <th>318</th>\n",
       "      <td>101145</td>\n",
       "      <td>[[1.5259021896696422e-05, 1.5259021896696422e-...</td>\n",
       "      <td>[[0.0, 0.0, 0.0, 0.0, 0.0, 0.0, 0.0, 0.0, 0.0,...</td>\n",
       "      <td>[253.32404181184668, 209.61672473867597, 241.7...</td>\n",
       "      <td>Pituitary</td>\n",
       "      <td>1285.mat</td>\n",
       "    </tr>\n",
       "    <tr>\n",
       "      <th>22</th>\n",
       "      <td>114361</td>\n",
       "      <td>[[1.5259021896696422e-05, 1.5259021896696422e-...</td>\n",
       "      <td>[[0.0, 0.0, 0.0, 0.0, 0.0, 0.0, 0.0, 0.0, 0.0,...</td>\n",
       "      <td>[225.11533591612212, 238.17663526961726, 235.8...</td>\n",
       "      <td>Pituitary</td>\n",
       "      <td>1018.mat</td>\n",
       "    </tr>\n",
       "  </tbody>\n",
       "</table>\n",
       "</div>"
      ],
      "text/plain": [
       "            PID                                             Images  \\\n",
       "2120  MR050791B  [[1.5259021896696422e-05, 1.5259021896696422e-...   \n",
       "577      103671  [[1.5259021896696422e-05, 1.5259021896696422e-...   \n",
       "349      103478  [[1.5259021896696422e-05, 1.5259021896696422e-...   \n",
       "318      101145  [[1.5259021896696422e-05, 1.5259021896696422e-...   \n",
       "22       114361  [[1.5259021896696422e-05, 1.5259021896696422e-...   \n",
       "\n",
       "                                             Tumor Mask  \\\n",
       "2120  [[0.0, 0.0, 0.0, 0.0, 0.0, 0.0, 0.0, 0.0, 0.0,...   \n",
       "577   [[0.0, 0.0, 0.0, 0.0, 0.0, 0.0, 0.0, 0.0, 0.0,...   \n",
       "349   [[0.0, 0.0, 0.0, 0.0, 0.0, 0.0, 0.0, 0.0, 0.0,...   \n",
       "318   [[0.0, 0.0, 0.0, 0.0, 0.0, 0.0, 0.0, 0.0, 0.0,...   \n",
       "22    [[0.0, 0.0, 0.0, 0.0, 0.0, 0.0, 0.0, 0.0, 0.0,...   \n",
       "\n",
       "                                           Tumor Border     Labels File name  \n",
       "2120  [280.9756097560976, 277.4076655052265, 289.895...     Glioma  2907.mat  \n",
       "577   [233.70034843205576, 290.78745644599303, 229.2...  Pituitary  1518.mat  \n",
       "349   [242.62020905923345, 174.82926829268294, 234.5...  Pituitary  1312.mat  \n",
       "318   [253.32404181184668, 209.61672473867597, 241.7...  Pituitary  1285.mat  \n",
       "22    [225.11533591612212, 238.17663526961726, 235.8...  Pituitary  1018.mat  "
      ]
     },
     "execution_count": 3,
     "metadata": {},
     "output_type": "execute_result"
    }
   ],
   "source": [
    "# Import the dataset. \n",
    "df_loc = r\"resized_df_256_256.pkl\"\n",
    "resized_df = pd.read_pickle(df_loc)\n",
    "resized_df.sample(5)"
   ]
  },
  {
   "cell_type": "code",
   "execution_count": 4,
   "metadata": {},
   "outputs": [],
   "source": [
    "# ## This code block displays a random MR Image & Tumor Mask\n",
    "\n",
    "# randInt = np.random.randint(0,len(resized_df))\n",
    "\n",
    "# # create figure\n",
    "# fig = plt.figure(figsize=(10, 7))\n",
    "  \n",
    "# # setting values to rows and column variables\n",
    "# rows = 1\n",
    "# columns = 2\n",
    "\n",
    "# img  = resized_df.Images[randInt]\n",
    "# mask = resized_df[\"Tumor Mask\"][randInt]\n",
    "# tumorBorder = resized_df[\"Tumor Border\"][randInt]\n",
    "\n",
    "\n",
    "# # Display Original Image\n",
    "# fig.add_subplot(rows, columns, 1)\n",
    "# plt.imshow(img, cmap='gray')\n",
    "# plt.title('Original Image ({})'.format(resized_df.Labels[randInt]))\n",
    "# plt.axis('off')\n",
    "  \n",
    "# # Display Tumor Mask\n",
    "# fig.add_subplot(rows, columns, 2)\n",
    "# plt.imshow(mask, cmap='gray')\n",
    "# plt.title('Tumor Mask ({})'.format(resized_df.Labels[randInt]))\n",
    "# plt.axis('off')\n",
    "# plt.show()"
   ]
  },
  {
   "cell_type": "code",
   "execution_count": 5,
   "metadata": {},
   "outputs": [],
   "source": [
    "# # 1. Resize images and masks\n",
    "# ## Image Resizing from (512, 512) pixals to (128, 128)\n",
    "img_shape  = 256\n",
    "mask_shape = 256\n",
    "\n",
    "# def imgResize(img):\n",
    "#     return resize(img,(img_shape, img_shape))\n",
    "\n",
    "# resized_df['Images'] = resized_df['Images'].apply(imgResize)\n",
    "# resized_df['Tumor Mask'] = resized_df['Tumor Mask'].apply(imgResize)"
   ]
  },
  {
   "cell_type": "code",
   "execution_count": 6,
   "metadata": {},
   "outputs": [],
   "source": [
    "# ## This code block displays a random MR Image & Tumor Mask\n",
    "\n",
    "# randInt = np.random.randint(0,len(df))\n",
    "\n",
    "# # create figure\n",
    "# fig = plt.figure(figsize=(24, 12))\n",
    "  \n",
    "# # setting values to rows and column variables\n",
    "# rows = 1\n",
    "# columns = 4\n",
    "\n",
    "# ori_img  = df.Images[randInt]\n",
    "# ori_mask = df[\"Tumor Mask\"][randInt]\n",
    "# resized_img  = resized_df.Images[randInt]\n",
    "# resized_mask = resized_df[\"Tumor Mask\"][randInt]\n",
    "\n",
    "# # Display Original Image\n",
    "# fig.add_subplot(rows, columns, 1)\n",
    "# plt.imshow(ori_img, cmap='gray')\n",
    "# plt.title('Original Image ({})'.format(df.Labels[randInt]))\n",
    "# plt.axis('off')\n",
    "  \n",
    "# # Display Tumor Mask\n",
    "# fig.add_subplot(rows, columns, 2)\n",
    "# plt.imshow(resized_img, cmap='gray')\n",
    "# plt.title('Resized Image ({})'.format(df.Labels[randInt]))\n",
    "# plt.axis('off')\n",
    "\n",
    "# # Display Original Image\n",
    "# fig.add_subplot(rows, columns, 3)\n",
    "# plt.imshow(ori_mask, cmap='gray')\n",
    "# plt.title('Original Tumor mask ({})'.format(df.Labels[randInt]))\n",
    "# plt.axis('off')\n",
    "  \n",
    "# # Display Tumor Mask\n",
    "# fig.add_subplot(rows, columns, 4)\n",
    "# plt.imshow(resized_mask, cmap='gray')\n",
    "# plt.title('Resized Tumor Mask ({})'.format(df.Labels[randInt]))\n",
    "# plt.axis('off')\n",
    "\n",
    "# plt.show()\n",
    "# del df"
   ]
  },
  {
   "cell_type": "code",
   "execution_count": 7,
   "metadata": {},
   "outputs": [
    {
     "name": "stdout",
     "output_type": "stream",
     "text": [
      "shape of Images: (3064, 256, 256, 1), shape of the labels (3064, 256, 256, 1)\n"
     ]
    }
   ],
   "source": [
    "## Splitting Images form masks\n",
    "Y = resized_df[\"Tumor Mask\"].tolist()\n",
    "X = resized_df['Images'].tolist()\n",
    "\n",
    "## Adding extra Color channel to the grayscale images\n",
    "Y = np.array(Y).reshape(-1, mask_shape, mask_shape, 1)\n",
    "Y = Y.astype(float)\n",
    "\n",
    "X = np.array(X).reshape(-1, img_shape, img_shape, 1)\n",
    "X = X*255\n",
    "\n",
    "print(f\"shape of Images: {X.shape}, shape of the labels {Y.shape}\")"
   ]
  },
  {
   "cell_type": "code",
   "execution_count": 9,
   "metadata": {},
   "outputs": [],
   "source": [
    "# copy = X[0]*255"
   ]
  },
  {
   "cell_type": "code",
   "execution_count": 10,
   "metadata": {},
   "outputs": [],
   "source": [
    "# copy.min()"
   ]
  },
  {
   "cell_type": "code",
   "execution_count": 11,
   "metadata": {},
   "outputs": [],
   "source": [
    "# plt.imshow(X[0].reshape(img_shape, img_shape), cmap='gray')\n",
    "# plt.show()"
   ]
  },
  {
   "cell_type": "code",
   "execution_count": 8,
   "metadata": {},
   "outputs": [],
   "source": [
    "## Splitting Data to : 75% Train set, 15% Test set, and 10% Validation set\n",
    "from sklearn.model_selection import train_test_split\n",
    "X_train, X_test, Y_train, Y_test = train_test_split(X, Y, test_size=0.25, random_state=42)\n",
    "X_test, X_val, Y_test, Y_val = train_test_split(X_test,Y_test, test_size=0.40, random_state=42)"
   ]
  },
  {
   "cell_type": "code",
   "execution_count": 9,
   "metadata": {},
   "outputs": [
    {
     "name": "stdout",
     "output_type": "stream",
     "text": [
      "X_train shape: (2298, 256, 256, 1) | Y_train shape: (2298, 256, 256, 1)\n",
      "X_test shape :  (459, 256, 256, 1) | Y_test shape :  (459, 256, 256, 1)\n",
      "X_val shape  :  (307, 256, 256, 1) | Y_val shape  :  (307, 256, 256, 1)\n",
      "\n",
      "Total Data:  3064\n"
     ]
    }
   ],
   "source": [
    "print(\"X_train shape:\", X_train.shape,\"| Y_train shape:\", Y_train.shape)\n",
    "print(\"X_test shape : \",X_test.shape,\"| Y_test shape : \", Y_test.shape)\n",
    "print(\"X_val shape  : \",X_val.shape,\"| Y_val shape  : \", Y_val.shape)\n",
    "print(\"\\nTotal Data: \", len(resized_df))"
   ]
  },
  {
   "cell_type": "code",
   "execution_count": 10,
   "metadata": {},
   "outputs": [],
   "source": [
    "# # Building Unet by dividing encoder and decoder into blocks\n",
    "\n",
    "# def conv_block(input, num_filters):\n",
    "#     x = Conv2D(num_filters, 3, padding=\"same\")(input)\n",
    "#     x = BatchNormalization()(x)   #Not in the original network. \n",
    "#     x = Activation(\"relu\")(x)\n",
    "\n",
    "#     x = Conv2D(num_filters, 3, padding=\"same\")(x)\n",
    "#     x = BatchNormalization()(x)  #Not in the original network\n",
    "#     x = Activation(\"relu\")(x)\n",
    "\n",
    "#     return x\n",
    "\n",
    "# #Encoder block: Conv block followed by maxpooling\n",
    "\n",
    "\n",
    "# def encoder_block(input, num_filters):\n",
    "#     x = conv_block(input, num_filters)\n",
    "#     p = MaxPool2D((2, 2))(x)\n",
    "#     return x, p   \n",
    "\n",
    "# #Decoder block\n",
    "# #skip features gets input from encoder for concatenation\n",
    "\n",
    "# def decoder_block(input, skip_features, num_filters):\n",
    "#     x = Conv2DTranspose(num_filters, (2, 2), strides=2, padding=\"same\")(input)\n",
    "#     x = Concatenate()([x, skip_features])\n",
    "#     x = conv_block(x, num_filters)\n",
    "#     return x\n",
    "\n",
    "# #Build Unet using the blocks\n",
    "# def build_unet(input_shape):\n",
    "#     inputs = Input(input_shape)\n",
    "\n",
    "#     s1, p1 = encoder_block(inputs, 64)\n",
    "#     s2, p2 = encoder_block(p1, 128)\n",
    "#     s3, p3 = encoder_block(p2, 256)\n",
    "#     s4, p4 = encoder_block(p3, 512)\n",
    "\n",
    "#     b1 = conv_block(p4, 1024) #Bridge\n",
    "\n",
    "#     d1 = decoder_block(b1, s4, 512)\n",
    "#     d2 = decoder_block(d1, s3, 256)\n",
    "#     d3 = decoder_block(d2, s2, 128)\n",
    "#     d4 = decoder_block(d3, s1, 64)\n",
    "\n",
    "#     outputs = Conv2D(1, 1, padding=\"same\", activation=\"sigmoid\")(d4)  #Binary (can be multiclass)\n",
    "\n",
    "#     model = Model(inputs, outputs, name=\"U-Net\")\n",
    "#     return model\n"
   ]
  },
  {
   "cell_type": "code",
   "execution_count": 11,
   "metadata": {},
   "outputs": [],
   "source": [
    "# IMG_HEIGHT = img_shape\n",
    "# IMG_WIDTH  = img_shape\n",
    "# IMG_CHANNELS = 1\n",
    "# batch_size= 8\n",
    "\n",
    "# steps_per_epoch = 3*(len(X_train))//batch_size\n",
    "\n",
    "\n",
    "# input_shape = (IMG_HEIGHT, IMG_WIDTH, IMG_CHANNELS)\n",
    "# model = build_unet(input_shape)\n",
    "# model.compile(optimizer=Adam(learning_rate = 1e-3), loss='binary_crossentropy', metrics=['accuracy'])\n",
    "# model.summary()"
   ]
  },
  {
   "cell_type": "code",
   "execution_count": 12,
   "metadata": {},
   "outputs": [],
   "source": [
    "seed=24\n",
    "from keras.preprocessing.image import ImageDataGenerator\n",
    "\n",
    "img_data_gen_args = dict(rotation_range=90,\n",
    "                     width_shift_range=0.3,\n",
    "                     height_shift_range=0.3,\n",
    "                     shear_range=0.5,\n",
    "                     zoom_range=0.3,\n",
    "                     horizontal_flip=True,\n",
    "                     vertical_flip=True,\n",
    "                     fill_mode='reflect')\n",
    "\n",
    "mask_data_gen_args = dict(rotation_range=90,\n",
    "                     width_shift_range=0.3,\n",
    "                     height_shift_range=0.3,\n",
    "                     shear_range=0.5,\n",
    "                     zoom_range=0.3,\n",
    "                     horizontal_flip=True,\n",
    "                     vertical_flip=True,\n",
    "                     fill_mode='reflect',\n",
    "                     preprocessing_function = lambda x: np.where(x>0, 1, 0).astype(x.dtype)) #Binarize the output again. \n",
    "\n",
    "image_data_generator = ImageDataGenerator(**img_data_gen_args)"
   ]
  },
  {
   "cell_type": "code",
   "execution_count": 13,
   "metadata": {},
   "outputs": [],
   "source": [
    "# batch_size= 8\n",
    "\n",
    "# image_generator = image_data_generator.flow(X_train, seed=seed, batch_size=batch_size)\n",
    "# valid_img_generator = image_data_generator.flow(X_test, seed=seed, batch_size=batch_size) #Default batch size 32, if not specified here\n",
    "\n",
    "# mask_data_generator = ImageDataGenerator(**mask_data_gen_args)\n",
    "# #mask_data_generator.fit(y_train, augment=True, seed=seed)\n",
    "# mask_generator = mask_data_generator.flow(Y_train, seed=seed, batch_size=batch_size)\n",
    "# valid_mask_generator = mask_data_generator.flow(Y_test, seed=seed, batch_size=batch_size)  #Default batch size 32, if not specified here\n",
    "\n",
    "# def my_image_mask_generator(image_generator, mask_generator):\n",
    "#     train_generator = zip(image_generator, mask_generator)\n",
    "#     for (img, mask) in train_generator:\n",
    "#         yield (img, mask)\n",
    "\n",
    "# my_generator = my_image_mask_generator(image_generator, mask_generator)\n",
    "\n",
    "# validation_datagen = my_image_mask_generator(valid_img_generator, valid_mask_generator)\n",
    "\n",
    "\n",
    "# x = image_generator.next()\n",
    "# y = mask_generator.next()\n",
    "# for i in range(0,1):\n",
    "#     image = x[i]\n",
    "#     mask = y[i]\n",
    "#     plt.subplot(1,2,1)\n",
    "#     plt.imshow(image[:,:,0], cmap='gray')\n",
    "#     plt.subplot(1,2,2)\n",
    "#     plt.imshow(mask[:,:,0])\n",
    "#     plt.show()\n",
    "\n",
    "\n",
    "# steps_per_epoch = 3*(len(X_train))//batch_size\n",
    "\n",
    "# from keras.callbacks import ModelCheckpoint\n",
    "# model_checkpoint_callback = ModelCheckpoint(\n",
    "#     filepath=\"best.h5\",\n",
    "#     monitor='val_accuracy', \n",
    "#     verbose=1, \n",
    "#     save_best_only=False, \n",
    "#     mode='max')\n",
    "# history = model.fit_generator(my_generator, validation_data=validation_datagen, \n",
    "#                     steps_per_epoch=steps_per_epoch, \n",
    "#                     validation_steps=steps_per_epoch,\n",
    "#                     callbacks=[model_checkpoint_callback],\n",
    "#                     epochs=60)"
   ]
  },
  {
   "cell_type": "code",
   "execution_count": 18,
   "metadata": {},
   "outputs": [],
   "source": [
    "model_path = r'.\\model_IoU_0.7241164201646112_.h5' \n",
    "metrics_path = r'.\\metrics_IoU_0.7241164201646112_.pkl'\n",
    "model = tf.keras.models.load_model(model_path)\n",
    "metrics = pd.read_pickle(metrics_path)"
   ]
  },
  {
   "cell_type": "code",
   "execution_count": 18,
   "metadata": {},
   "outputs": [],
   "source": [
    "# metrics = history.history\n"
   ]
  },
  {
   "cell_type": "code",
   "execution_count": null,
   "metadata": {},
   "outputs": [],
   "source": [
    "model.evaluate(X_test, Y_test)"
   ]
  },
  {
   "cell_type": "code",
   "execution_count": 15,
   "metadata": {},
   "outputs": [
    {
     "data": {
      "image/png": "[encoded data removed]",
      "text/plain": [
       "<Figure size 720x504 with 1 Axes>"
      ]
     },
     "metadata": {
      "needs_background": "light"
     },
     "output_type": "display_data"
    },
    {
     "data": {
      "image/png": "[encoded data removed]",
      "text/plain": [
       "<Figure size 720x504 with 1 Axes>"
      ]
     },
     "metadata": {
      "needs_background": "light"
     },
     "output_type": "display_data"
    }
   ],
   "source": [
    "## Dispaly the plot of \n",
    "rows = 2\n",
    "columns = 1\n",
    "  \n",
    "# Display Train loss vs Validation loss at each Epoch\n",
    "fig = plt.figure(figsize=(10, 7))\n",
    "fig.add_subplot(rows, columns, 1)\n",
    "plt.plot(metrics['loss'])\n",
    "plt.plot(metrics['val_loss'])\n",
    "plt.title('Model Lossy')\n",
    "plt.ylabel('loss')\n",
    "plt.xlabel('epoch')\n",
    "plt.legend(['train', 'val'], loc='upper left')\n",
    "plt.show()\n",
    "  \n",
    "# Display Train loss vs Validation loss at each Epoch\n",
    "fig = plt.figure(figsize=(10, 7))\n",
    "fig.add_subplot(rows, columns, 2)\n",
    "plt.plot(metrics['accuracy'])\n",
    "plt.plot(metrics['val_accuracy'])\n",
    "plt.title('Model Accuracy')\n",
    "plt.ylabel('accuracy')\n",
    "plt.xlabel('epoch')\n",
    "plt.legend(['train', 'val'], loc='upper left')\n",
    "plt.show()\n"
   ]
  },
  {
   "cell_type": "code",
   "execution_count": null,
   "metadata": {},
   "outputs": [],
   "source": [
    "y_pred=model.predict(X_test)\n",
    "y_pred_thresholded = y_pred > 0.5\n",
    "\n",
    "intersection = np.logical_and(Y_test, y_pred_thresholded)\n",
    "union = np.logical_or(Y_test, y_pred_thresholded)\n",
    "iou_score = np.sum(intersection) / np.sum(union)\n",
    "print(\"IoU socre is: \", iou_score)"
   ]
  },
  {
   "cell_type": "code",
   "execution_count": null,
   "metadata": {},
   "outputs": [],
   "source": [
    "# model.save(\"model_IoU_\"+str(iou_score)+\"_.h5\")"
   ]
  },
  {
   "cell_type": "code",
   "execution_count": null,
   "metadata": {},
   "outputs": [],
   "source": [
    "# pd.DataFrame(metrics).to_pickle(\"metrics_IoU_\"+str(iou_score)+\"_.pkl\")"
   ]
  },
  {
   "cell_type": "code",
   "execution_count": null,
   "metadata": {},
   "outputs": [],
   "source": [
    "test_img.shape"
   ]
  },
  {
   "cell_type": "code",
   "execution_count": null,
   "metadata": {},
   "outputs": [],
   "source": [
    "test_img_number = np.random.randint(0, len(X_test))\n",
    "test_img = X_test[test_img_number]\n",
    "ground_truth=Y_test[test_img_number]\n",
    "test_img_norm=test_img[:,:,0][:,:,None]\n",
    "test_img_input=np.expand_dims(test_img_norm, 0)\n",
    "prediction = (model.predict(test_img_input)[0,:,:,0] > 0.2).astype(np.uint8)\n",
    "\n",
    "intersection = np.logical_and(Y_test, y_pred_thresholded)\n",
    "union = np.logical_or(Y_test, y_pred_thresholded)\n",
    "iou_score = np.sum(intersection) / np.sum(union)\n",
    "\n",
    "plt.figure(figsize=(16, 8))\n",
    "\n",
    "intersection = np.logical_and(ground_truth[:,:,0], prediction)\n",
    "union = np.logical_or(ground_truth[:,:,0], prediction)\n",
    "iou_score = np.sum(intersection) / np.sum(union)\n",
    "\n",
    "accuracy = str(round(iou_score * 100, 1))\n",
    "\n",
    "plt.subplot(231)\n",
    "plt.title('Testing Image')\n",
    "plt.imshow(test_img[:,:,0], cmap='gray')\n",
    "\n",
    "plt.subplot(232)\n",
    "plt.title('Testing Label')\n",
    "plt.imshow(ground_truth[:,:,0], cmap='gray')\n",
    "\n",
    "plt.subplot(233)\n",
    "plt.title('Prediction on test image \\n {}%'.format(accuracy))\n",
    "plt.imshow(prediction, cmap='gray')\n",
    "\n",
    "plt.show()"
   ]
  },
  {
   "cell_type": "code",
   "execution_count": null,
   "metadata": {},
   "outputs": [],
   "source": [
    "ground_truth.shape"
   ]
  },
  {
   "cell_type": "code",
   "execution_count": null,
   "metadata": {},
   "outputs": [],
   "source": [
    "test_img_norm.shape"
   ]
  },
  {
   "cell_type": "code",
   "execution_count": null,
   "metadata": {},
   "outputs": [],
   "source": [
    "test_img[:,:,0].shape"
   ]
  },
  {
   "cell_type": "code",
   "execution_count": null,
   "metadata": {},
   "outputs": [],
   "source": [
    "test_img[:,:,0][:,:,None].shape"
   ]
  },
  {
   "cell_type": "code",
   "execution_count": null,
   "metadata": {},
   "outputs": [],
   "source": [
    "prediction"
   ]
  },
  {
   "cell_type": "code",
   "execution_count": null,
   "metadata": {},
   "outputs": [],
   "source": []
  }
 ],
 "metadata": {
  "kernelspec": {
   "display_name": "Python 3 (ipykernel)",
   "language": "python",
   "name": "python3"
  },
  "language_info": {
   "codemirror_mode": {
    "name": "ipython",
    "version": 3
   },
   "file_extension": ".py",
   "mimetype": "text/x-python",
   "name": "python",
   "nbconvert_exporter": "python",
   "pygments_lexer": "ipython3",
   "version": "3.9.7"
  }
 },
 "nbformat": 4,
 "nbformat_minor": 2
}
