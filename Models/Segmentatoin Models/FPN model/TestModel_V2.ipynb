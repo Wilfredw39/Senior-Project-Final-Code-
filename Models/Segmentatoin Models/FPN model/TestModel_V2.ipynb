{
 "cells": [
  {
   "cell_type": "code",
   "execution_count": 1,
   "id": "84dd9fc1",
   "metadata": {},
   "outputs": [
    {
     "name": "stdout",
     "output_type": "stream",
     "text": [
      "Segmentation Models: using `keras` framework.\n"
     ]
    }
   ],
   "source": [
    "import tensorflow as tf\n",
    "import segmentation_models as sm\n",
    "import cv2\n",
    "import os\n",
    "import numpy as np\n",
    "import pandas as pd\n",
    "from matplotlib import pyplot as plt\n",
    "import keras \n",
    "from tensorflow.keras.utils import normalize\n",
    "from tensorflow.keras.metrics import MeanIoU\n",
    "from skimage.transform import resize"
   ]
  },
  {
   "cell_type": "code",
   "execution_count": 2,
   "id": "db586727",
   "metadata": {},
   "outputs": [
    {
     "name": "stdout",
     "output_type": "stream",
     "text": [
      "[PhysicalDevice(name='/physical_device:GPU:0', device_type='GPU')]\n"
     ]
    }
   ],
   "source": [
    "physical_devices = tf.config.experimental.list_physical_devices('GPU')\n",
    "print(physical_devices)\n",
    "if physical_devices:\n",
    "    tf.config.experimental.set_memory_growth(physical_devices[0], True)"
   ]
  },
  {
   "cell_type": "code",
   "execution_count": 3,
   "id": "0619f3f5",
   "metadata": {},
   "outputs": [],
   "source": [
    "classes_dict = {\"Not Tumor\": 0, \"Meningioma\": 1, \"Glioma\": 2, \"Pituitary\": 3}"
   ]
  },
  {
   "cell_type": "code",
   "execution_count": 4,
   "id": "c69f4f4e",
   "metadata": {},
   "outputs": [
    {
     "name": "stdout",
     "output_type": "stream",
     "text": [
      "X_test shape: (1840, 128, 128, 1)\n",
      "y_test shape: (1840, 128, 128, 1)\n",
      "\n",
      "Total Data:  3680\n"
     ]
    }
   ],
   "source": [
    "size = 128\n",
    "test_DF = pd.read_pickle(r\"../../../Datasets/Dataset_A/aug_test_DF_{}.pkl\".format(size))\n",
    "\n",
    "def normalize(img):\n",
    "    plt.imsave('DR.png', img, cmap='gray')\n",
    "    return cv2.imread('DR.png')[:, :, 0]\n",
    "\n",
    "test_DF[\"Images\"] = test_DF[\"Images\"].apply(normalize)\n",
    "\n",
    "for index, row in test_DF.iterrows():\n",
    "    row[\"Tumor Mask\"] = row[\"Tumor Mask\"] * classes_dict[row[\"Labels\"]]\n",
    "    \n",
    "\n",
    "y_test = test_DF[\"Tumor Mask\"].tolist()\n",
    "X_test = test_DF['Images'].tolist()\n",
    "y_test = np.array(y_test).reshape(-1, size, size)\n",
    "X_test = np.array(X_test).reshape(-1, size, size)\n",
    "\n",
    "y_test = np.expand_dims(y_test, axis=3)\n",
    "X_test = np.expand_dims(X_test, axis=3)\n",
    "X_test = X_test/255\n",
    "\n",
    "\n",
    "print(\"X_test shape:\", X_test.shape)\n",
    "print(\"y_test shape:\",y_test.shape)\n",
    "\n",
    "print(\"\\nTotal Data: \", (len(y_test)+len(X_test)))"
   ]
  },
  {
   "cell_type": "code",
   "execution_count": 5,
   "id": "33223773",
   "metadata": {},
   "outputs": [
    {
     "ename": "FileNotFoundError",
     "evalue": "[Errno 2] No such file or directory: 'class_weights.npy'",
     "output_type": "error",
     "traceback": [
      "\u001b[1;31m---------------------------------------------------------------------------\u001b[0m",
      "\u001b[1;31mFileNotFoundError\u001b[0m                         Traceback (most recent call last)",
      "\u001b[1;32m~\\AppData\\Local\\Temp/ipykernel_34820/2531632878.py\u001b[0m in \u001b[0;36m<module>\u001b[1;34m\u001b[0m\n\u001b[1;32m----> 1\u001b[1;33m \u001b[0mclass_weights\u001b[0m \u001b[1;33m=\u001b[0m \u001b[0mnp\u001b[0m\u001b[1;33m.\u001b[0m\u001b[0mload\u001b[0m\u001b[1;33m(\u001b[0m\u001b[1;34m\"class_weights.npy\"\u001b[0m\u001b[1;33m)\u001b[0m\u001b[1;33m\u001b[0m\u001b[1;33m\u001b[0m\u001b[0m\n\u001b[0m\u001b[0;32m      2\u001b[0m \u001b[0mdice_loss\u001b[0m \u001b[1;33m=\u001b[0m \u001b[0msm\u001b[0m\u001b[1;33m.\u001b[0m\u001b[0mlosses\u001b[0m\u001b[1;33m.\u001b[0m\u001b[0mDiceLoss\u001b[0m\u001b[1;33m(\u001b[0m\u001b[0mclass_weights\u001b[0m\u001b[1;33m)\u001b[0m\u001b[1;33m\u001b[0m\u001b[1;33m\u001b[0m\u001b[0m\n\u001b[0;32m      3\u001b[0m \u001b[0mfocal_loss\u001b[0m \u001b[1;33m=\u001b[0m \u001b[0msm\u001b[0m\u001b[1;33m.\u001b[0m\u001b[0mlosses\u001b[0m\u001b[1;33m.\u001b[0m\u001b[0mCategoricalFocalLoss\u001b[0m\u001b[1;33m(\u001b[0m\u001b[1;33m)\u001b[0m\u001b[1;33m\u001b[0m\u001b[1;33m\u001b[0m\u001b[0m\n\u001b[0;32m      4\u001b[0m \u001b[0mtotal_loss\u001b[0m \u001b[1;33m=\u001b[0m \u001b[0mdice_loss\u001b[0m \u001b[1;33m+\u001b[0m \u001b[1;33m(\u001b[0m\u001b[1;36m1\u001b[0m \u001b[1;33m*\u001b[0m \u001b[0mfocal_loss\u001b[0m\u001b[1;33m)\u001b[0m\u001b[1;33m\u001b[0m\u001b[1;33m\u001b[0m\u001b[0m\n\u001b[0;32m      5\u001b[0m \u001b[1;33m\u001b[0m\u001b[0m\n",
      "\u001b[1;32m~\\AppData\\Roaming\\Python\\Python39\\site-packages\\numpy\\lib\\npyio.py\u001b[0m in \u001b[0;36mload\u001b[1;34m(file, mmap_mode, allow_pickle, fix_imports, encoding)\u001b[0m\n\u001b[0;32m    414\u001b[0m             \u001b[0mown_fid\u001b[0m \u001b[1;33m=\u001b[0m \u001b[1;32mFalse\u001b[0m\u001b[1;33m\u001b[0m\u001b[1;33m\u001b[0m\u001b[0m\n\u001b[0;32m    415\u001b[0m         \u001b[1;32melse\u001b[0m\u001b[1;33m:\u001b[0m\u001b[1;33m\u001b[0m\u001b[1;33m\u001b[0m\u001b[0m\n\u001b[1;32m--> 416\u001b[1;33m             \u001b[0mfid\u001b[0m \u001b[1;33m=\u001b[0m \u001b[0mstack\u001b[0m\u001b[1;33m.\u001b[0m\u001b[0menter_context\u001b[0m\u001b[1;33m(\u001b[0m\u001b[0mopen\u001b[0m\u001b[1;33m(\u001b[0m\u001b[0mos_fspath\u001b[0m\u001b[1;33m(\u001b[0m\u001b[0mfile\u001b[0m\u001b[1;33m)\u001b[0m\u001b[1;33m,\u001b[0m \u001b[1;34m\"rb\"\u001b[0m\u001b[1;33m)\u001b[0m\u001b[1;33m)\u001b[0m\u001b[1;33m\u001b[0m\u001b[1;33m\u001b[0m\u001b[0m\n\u001b[0m\u001b[0;32m    417\u001b[0m             \u001b[0mown_fid\u001b[0m \u001b[1;33m=\u001b[0m \u001b[1;32mTrue\u001b[0m\u001b[1;33m\u001b[0m\u001b[1;33m\u001b[0m\u001b[0m\n\u001b[0;32m    418\u001b[0m \u001b[1;33m\u001b[0m\u001b[0m\n",
      "\u001b[1;31mFileNotFoundError\u001b[0m: [Errno 2] No such file or directory: 'class_weights.npy'"
     ]
    }
   ],
   "source": [
    "class_weights = np.load(\"class_weights.npy\")\n",
    "dice_loss = sm.losses.DiceLoss(class_weights) \n",
    "focal_loss = sm.losses.CategoricalFocalLoss()\n",
    "total_loss = dice_loss + (1 * focal_loss)\n",
    "\n",
    "\n",
    "metrics_obj = {\"dice_loss_plus_1focal_loss\": total_loss,\n",
    "               \"iou_score\": sm.metrics.IOUScore(threshold=0.5),\n",
    "              \"f1-score\": sm.metrics.FScore(threshold=0.5)}\n"
   ]
  },
  {
   "cell_type": "code",
   "execution_count": null,
   "id": "d1e31b09",
   "metadata": {},
   "outputs": [],
   "source": [
    "exp_number = 3\n",
    "model = tf.keras.models.load_model(r\".\\experiments\\exp#{}\\weights\\First_Mulit_UNet.h5\".format(exp_number),  custom_objects=metrics_obj)\n",
    "metrics = pd.read_pickle(r\".\\experiments\\exp#{}\\results\\metrics.pkl\".format(exp_number))"
   ]
  },
  {
   "cell_type": "code",
   "execution_count": null,
   "id": "9808782f",
   "metadata": {},
   "outputs": [],
   "source": []
  },
  {
   "cell_type": "code",
   "execution_count": null,
   "id": "6f3a42c0",
   "metadata": {},
   "outputs": [],
   "source": []
  },
  {
   "cell_type": "code",
   "execution_count": null,
   "id": "0157e81f",
   "metadata": {},
   "outputs": [],
   "source": [
    "loss = metrics['loss']\n",
    "val_loss = metrics['val_loss']\n",
    "epochs = range(1, len(loss) + 1)\n",
    "plt.plot(epochs, loss, 'y', label='Training loss')\n",
    "plt.plot(epochs, val_loss, 'r', label='Validation loss')\n",
    "plt.title('Training and validation loss')\n",
    "plt.xlabel('Epochs')\n",
    "plt.ylabel('Loss')\n",
    "plt.legend()\n",
    "plt.show()\n",
    "\n",
    "acc = metrics['iou_score']\n",
    "val_acc = metrics['val_iou_score']\n",
    "\n",
    "plt.plot(epochs, acc, 'y', label='Training IOU')\n",
    "plt.plot(epochs, val_acc, 'r', label='Validation IOU')\n",
    "plt.title('Training and validation IOU')\n",
    "plt.xlabel('Epochs')\n",
    "plt.ylabel('IOU')\n",
    "plt.legend()\n",
    "plt.show()"
   ]
  },
  {
   "cell_type": "code",
   "execution_count": null,
   "id": "7ce2e959",
   "metadata": {},
   "outputs": [],
   "source": [
    "#IOU\n",
    "y_pred=model.predict(X_test)\n",
    "y_pred_argmax=np.argmax(y_pred, axis=3)\n",
    "\n",
    "##################################################\n",
    "\n",
    "#Using built in keras function\n",
    "from keras.metrics import MeanIoU\n",
    "n_classes = 4\n",
    "IOU_keras = MeanIoU(num_classes=n_classes)  \n",
    "IOU_keras.update_state(y_test[:,:,:,0], y_pred_argmax)\n",
    "print(\"Mean IoU =\", IOU_keras.result().numpy())\n",
    "\n",
    "\n",
    "#To calculate I0U for each class...\n",
    "values = np.array(IOU_keras.get_weights()).reshape(n_classes, n_classes)\n",
    "class1_IoU = values[0,0]/(values[0,0] + values[0,1] + values[0,2] + values[0,3] + values[1,0]+ values[2,0]+ values[3,0])\n",
    "class2_IoU = values[1,1]/(values[1,1] + values[1,0] + values[1,2] + values[1,3] + values[0,1]+ values[2,1]+ values[3,1])\n",
    "class3_IoU = values[2,2]/(values[2,2] + values[2,0] + values[2,1] + values[2,3] + values[0,2]+ values[1,2]+ values[3,2])\n",
    "class4_IoU = values[3,3]/(values[3,3] + values[3,0] + values[3,1] + values[3,2] + values[0,3]+ values[1,3]+ values[2,3])\n",
    "\n",
    "print(\"IoU for class1 is: \", class1_IoU)\n",
    "print(\"IoU for class2 is: \", class2_IoU)\n",
    "print(\"IoU for class3 is: \", class3_IoU)\n",
    "print(\"IoU for class4 is: \", class4_IoU)"
   ]
  },
  {
   "cell_type": "code",
   "execution_count": null,
   "id": "dec34e48",
   "metadata": {},
   "outputs": [],
   "source": [
    "def prob_class(predicted_img, class_dic):\n",
    "    rev_classes_dict = dict([(value, key) for key, value in class_dic.items()])\n",
    "    result = \"\"\n",
    "    if len(np.unique(predicted_img)) == 1:\n",
    "        result = \"(No Tumor)\"\n",
    "    else:\n",
    "        for cls in np.unique(predicted_img):\n",
    "            if cls != 0:\n",
    "                prob = (predicted_img == cls).sum() / (0 != predicted_img).sum() \n",
    "                result += \"({} {}%) \".format(rev_classes_dict[cls], str( round(prob*100, 2) ))\n",
    "\n",
    "    return result\n",
    "\n",
    "def get_IoU(ground_truth_img, predicted_img):\n",
    "    intersection = np.logical_and(ground_truth_img, predicted_img)\n",
    "    union = np.logical_or(ground_truth_img, predicted_img)\n",
    "    return round(np.sum(intersection) / np.sum(union), 2)\n",
    "\n",
    "def pred_class(mask):\n",
    "    background = (mask == classes_dict[\"Not Tumor\"]).sum() \n",
    "    meningioma = (mask == classes_dict[\"Meningioma\"]).sum() \n",
    "    glioma = (mask == classes_dict[\"Glioma\"]).sum() \n",
    "    pituitary = (mask == classes_dict[\"Pituitary\"]).sum()\n",
    "    \n",
    "    return np.array([background, meningioma, glioma, pituitary])"
   ]
  },
  {
   "cell_type": "code",
   "execution_count": null,
   "id": "f41d6d0e",
   "metadata": {},
   "outputs": [],
   "source": [
    "import random\n",
    "test_img_number = random.randint(0, len(X_test))\n",
    "rev_classes_dict = dict([(value, key) for key, value in classes_dict.items()])\n",
    "\n",
    "\n",
    "\n",
    "test_img = X_test[test_img_number]\n",
    "ground_truth=y_test[test_img_number]\n",
    "\n",
    "test_img_norm=test_img[:,:,0][:,:,None]\n",
    "test_img_input=np.expand_dims(test_img_norm, 0)\n",
    "prediction = (model.predict(test_img_input))\n",
    "predicted_img=np.argmax(prediction, axis=3)[0,:,:]\n",
    "\n",
    "\n",
    "ground_truth_label = np.unique(ground_truth)[1]\n",
    "\n",
    "\n",
    "tumor_IoU = get_IoU(ground_truth[:, :, 0], predicted_img)\n",
    "tumor_type_IoU = get_IoU(ground_truth[:, :, 0], (predicted_img == ground_truth_label))\n",
    "\n",
    "\n",
    "\n",
    "\n",
    "plt.figure(figsize=(12, 8))\n",
    "plt.subplot(231)\n",
    "plt.title('Testing Image')\n",
    "plt.imshow(test_img[:,:,0], cmap='gray')\n",
    "\n",
    "plt.subplot(232)\n",
    "plt.title('Testing Label\\nClasses: ({})'.format(rev_classes_dict[ground_truth_label]))\n",
    "plt.imshow(ground_truth[:,:,0], cmap='jet')\n",
    "\n",
    "plt.subplot(233)\n",
    "plt.title('Prediction on test image\\nClasses: {}\\nTumor IoU: {}\\n{} IoU: {}'.format(prob_class(predicted_img, classes_dict), tumor_IoU, rev_classes_dict[ground_truth_label], tumor_type_IoU))\n",
    "plt.imshow(predicted_img, cmap='jet')\n",
    "plt.show()"
   ]
  },
  {
   "cell_type": "code",
   "execution_count": null,
   "id": "db43d8db",
   "metadata": {},
   "outputs": [],
   "source": [
    "def eval(model, X_test, y_test, threshold=0.5):\n",
    "    good_iou = 0\n",
    "    total_num = len(X_test)\n",
    "    for i in range(total_num):\n",
    "        ground_truth_label = np.unique(y_test[i, :, :, 0])[1]\n",
    "        mask = y_test[i, :, :, 0]\n",
    "        \n",
    "        img = np.expand_dims(X_test[i, :, :, :], 0)\n",
    "        prediction = (model.predict(img))\n",
    "        predicted_img = np.argmax(prediction, axis=3)[0,:,:]\n",
    "        if get_IoU((predicted_img == ground_truth_label), mask) >= 0.5:\n",
    "            good_iou += 1\n",
    "    return good_iou / total_num\n",
    "\n",
    "\n",
    "def accuracy(model, X_test, y_test, threshold=0.5):\n",
    "    correct_class = 0\n",
    "    total_num = len(X_test)\n",
    "    \n",
    "    for i in range(total_num):\n",
    "        mask = y_test[i, :, :, 0]    \n",
    "        img = np.expand_dims(X_test[i, :, :, :], 0)\n",
    "        prediction = (model.predict(img))\n",
    "        predicted_img = np.argmax(prediction, axis=3)[0,:,:]\n",
    "        \n",
    "        ground_truth_label = np.unique(mask)[1]\n",
    "        predicted_lable = np.argmax(pred_class(predicted_img)[1:]) + 1\n",
    "        \n",
    "        if predicted_lable == ground_truth_label:\n",
    "            correct_class += 1\n",
    "            \n",
    "    return correct_class / total_num"
   ]
  },
  {
   "cell_type": "code",
   "execution_count": null,
   "id": "2bb4da24",
   "metadata": {
    "scrolled": true
   },
   "outputs": [],
   "source": [
    "accuracy(model, X_test, y_test)"
   ]
  },
  {
   "cell_type": "code",
   "execution_count": null,
   "id": "0a4396e4",
   "metadata": {},
   "outputs": [],
   "source": [
    "eval(model, X_test, y_test)"
   ]
  },
  {
   "cell_type": "code",
   "execution_count": null,
   "id": "39a071db",
   "metadata": {},
   "outputs": [],
   "source": []
  }
 ],
 "metadata": {
  "kernelspec": {
   "display_name": "Python 3 (ipykernel)",
   "language": "python",
   "name": "python3"
  },
  "language_info": {
   "codemirror_mode": {
    "name": "ipython",
    "version": 3
   },
   "file_extension": ".py",
   "mimetype": "text/x-python",
   "name": "python",
   "nbconvert_exporter": "python",
   "pygments_lexer": "ipython3",
   "version": "3.9.7"
  }
 },
 "nbformat": 4,
 "nbformat_minor": 5
}
