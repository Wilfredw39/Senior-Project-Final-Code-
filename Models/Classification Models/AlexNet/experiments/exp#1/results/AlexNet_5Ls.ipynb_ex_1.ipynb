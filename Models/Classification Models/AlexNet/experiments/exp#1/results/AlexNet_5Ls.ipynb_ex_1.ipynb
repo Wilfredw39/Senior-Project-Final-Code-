{
 "cells": [
  {
   "cell_type": "markdown",
   "metadata": {
    "id": "vt51_KACTdGf"
   },
   "source": [
    "## 0. Setting up the Environment\n"
   ]
  },
  {
   "cell_type": "code",
   "execution_count": 17,
   "metadata": {
    "colab": {
     "base_uri": "https://localhost:8080/"
    },
    "id": "D4Z6Zv3PSOcg",
    "outputId": "b87040f7-50f1-4633-bcd9-415194d37d2e"
   },
   "outputs": [],
   "source": [
    "## impoort labaries \n",
    "import os \n",
    "import cv2\n",
    "import mat73\n",
    "import time\n",
    "import keras\n",
    "import pandas as pd\n",
    "import numpy as np \n",
    "import seaborn as sns\n",
    "import skimage\n",
    "import tensorflow as tf\n",
    "import matplotlib.pyplot as plt\n",
    "from PIL import Image, ImageOps \n",
    "from skimage.transform import resize\n",
    "from keras.models import Sequential\n",
    "from tensorflow.keras import optimizers\n",
    "from tqdm.notebook import tqdm_notebook as tqdm\n",
    "from sklearn.metrics import classification_report, confusion_matrix\n",
    "from keras.layers import Conv2D, MaxPooling2D, Flatten, Dense, Dropout, BatchNormalization,  Convolution2D"
   ]
  },
  {
   "cell_type": "markdown",
   "metadata": {
    "id": "sYWmkuxOWtm4"
   },
   "source": [
    "## 1. Data Importing "
   ]
  },
  {
   "cell_type": "code",
   "execution_count": 2,
   "metadata": {},
   "outputs": [],
   "source": [
    "SIZE_X = 128\n",
    "SIZE_Y = 128\n",
    "\n",
    "aug_train_DF = pd.read_pickle(r\"../../../Datasets/Dataset_B/aug_train_DF_{}.pkl\".format(SIZE_X))\n",
    "aug_val_DF = pd.read_pickle(r\"../../../Datasets/Dataset_B/aug_val_DF_{}.pkl\".format(SIZE_X))\n",
    "aug_test_DF = pd.read_pickle(r\"../../../Datasets/Dataset_B/aug_test_DF_{}.pkl\".format(SIZE_X))"
   ]
  },
  {
   "cell_type": "code",
   "execution_count": 3,
   "metadata": {
    "colab": {
     "background_save": true
    },
    "id": "kaaNJb4nR5Z5",
    "outputId": "229fd2a5-846a-4168-abdf-2db9f91c282d"
   },
   "outputs": [
    {
     "data": {
      "text/html": [
       "<div>\n",
       "<style scoped>\n",
       "    .dataframe tbody tr th:only-of-type {\n",
       "        vertical-align: middle;\n",
       "    }\n",
       "\n",
       "    .dataframe tbody tr th {\n",
       "        vertical-align: top;\n",
       "    }\n",
       "\n",
       "    .dataframe thead th {\n",
       "        text-align: right;\n",
       "    }\n",
       "</style>\n",
       "<table border=\"1\" class=\"dataframe\">\n",
       "  <thead>\n",
       "    <tr style=\"text-align: right;\">\n",
       "      <th></th>\n",
       "      <th>PID</th>\n",
       "      <th>Label</th>\n",
       "      <th>Image</th>\n",
       "      <th>File</th>\n",
       "    </tr>\n",
       "  </thead>\n",
       "  <tbody>\n",
       "    <tr>\n",
       "      <th>11401</th>\n",
       "      <td>109769</td>\n",
       "      <td>Pituitary</td>\n",
       "      <td>[[0, 0, 0, 0, 0, 0, 0, 0, 0, 0, 0, 0, 1, 0, 1,...</td>\n",
       "      <td>1085.mat</td>\n",
       "    </tr>\n",
       "    <tr>\n",
       "      <th>11280</th>\n",
       "      <td>900-00-5339</td>\n",
       "      <td>Glioma VI</td>\n",
       "      <td>[[0, 0, 0, 0, 0, 0, 0, 0, 0, 0, 0, 0, 0, 0, 0,...</td>\n",
       "      <td>D:\\Datasets\\manifest-tXudPFfp43472957274060920...</td>\n",
       "    </tr>\n",
       "    <tr>\n",
       "      <th>10097</th>\n",
       "      <td>107429</td>\n",
       "      <td>Pituitary</td>\n",
       "      <td>[[0, 0, 0, 0, 0, 0, 0, 0, 0, 0, 0, 0, 0, 0, 0,...</td>\n",
       "      <td>1183.mat</td>\n",
       "    </tr>\n",
       "    <tr>\n",
       "      <th>2324</th>\n",
       "      <td>111785</td>\n",
       "      <td>Pituitary</td>\n",
       "      <td>[[0, 0, 0, 0, 0, 0, 0, 0, 0, 0, 0, 0, 0, 0, 0,...</td>\n",
       "      <td>993.mat</td>\n",
       "    </tr>\n",
       "    <tr>\n",
       "      <th>13735</th>\n",
       "      <td>HF1397</td>\n",
       "      <td>Glioma VI</td>\n",
       "      <td>[[0, 0, 0, 0, 0, 0, 0, 0, 0, 0, 0, 0, 0, 0, 0,...</td>\n",
       "      <td>D:\\Datasets\\manifest-tXudPFfp43472957274060920...</td>\n",
       "    </tr>\n",
       "  </tbody>\n",
       "</table>\n",
       "</div>"
      ],
      "text/plain": [
       "               PID      Label  \\\n",
       "11401       109769  Pituitary   \n",
       "11280  900-00-5339  Glioma VI   \n",
       "10097       107429  Pituitary   \n",
       "2324        111785  Pituitary   \n",
       "13735       HF1397  Glioma VI   \n",
       "\n",
       "                                                   Image  \\\n",
       "11401  [[0, 0, 0, 0, 0, 0, 0, 0, 0, 0, 0, 0, 1, 0, 1,...   \n",
       "11280  [[0, 0, 0, 0, 0, 0, 0, 0, 0, 0, 0, 0, 0, 0, 0,...   \n",
       "10097  [[0, 0, 0, 0, 0, 0, 0, 0, 0, 0, 0, 0, 0, 0, 0,...   \n",
       "2324   [[0, 0, 0, 0, 0, 0, 0, 0, 0, 0, 0, 0, 0, 0, 0,...   \n",
       "13735  [[0, 0, 0, 0, 0, 0, 0, 0, 0, 0, 0, 0, 0, 0, 0,...   \n",
       "\n",
       "                                                    File  \n",
       "11401                                           1085.mat  \n",
       "11280  D:\\Datasets\\manifest-tXudPFfp43472957274060920...  \n",
       "10097                                           1183.mat  \n",
       "2324                                             993.mat  \n",
       "13735  D:\\Datasets\\manifest-tXudPFfp43472957274060920...  "
      ]
     },
     "execution_count": 3,
     "metadata": {},
     "output_type": "execute_result"
    }
   ],
   "source": [
    "## Combain the df with the Pitutary & Meningioma types with the dataframe of the Glioma grades (I, II,, IV).\n",
    "\n",
    "pd.concat([aug_train_DF, aug_val_DF, aug_test_DF], axis=0, ignore_index = True).sample(5)"
   ]
  },
  {
   "cell_type": "code",
   "execution_count": 4,
   "metadata": {
    "colab": {
     "background_save": true
    },
    "id": "uJEttBBOU9IN",
    "outputId": "d176e92f-d35f-4f92-a264-ead1e87244e6"
   },
   "outputs": [
    {
     "name": "stderr",
     "output_type": "stream",
     "text": [
      "C:\\Users\\Ma7moud\\anaconda3\\envs\\T-UNet\\lib\\site-packages\\seaborn\\_decorators.py:36: FutureWarning: Pass the following variable as a keyword arg: x. From version 0.12, the only valid positional argument will be `data`, and passing other arguments without an explicit keyword will result in an error or misinterpretation.\n",
      "  warnings.warn(\n"
     ]
    },
    {
     "data": {
      "image/png": "[encoded data removed]",
      "text/plain": [
       "<Figure size 432x288 with 1 Axes>"
      ]
     },
     "metadata": {
      "needs_background": "light"
     },
     "output_type": "display_data"
    }
   ],
   "source": [
    "sns.countplot(pd.concat([aug_train_DF, aug_val_DF, aug_test_DF], axis=0, ignore_index = True).Label)\n",
    "plt.show()"
   ]
  },
  {
   "cell_type": "code",
   "execution_count": 5,
   "metadata": {
    "colab": {
     "background_save": true
    },
    "id": "AWLSJpw6WVVo",
    "outputId": "348d3fee-c3a5-442d-96af-5711dec23128"
   },
   "outputs": [
    {
     "data": {
      "image/png": "[encoded data removed]",
      "text/plain": [
       "<Figure size 432x288 with 1 Axes>"
      ]
     },
     "metadata": {},
     "output_type": "display_data"
    }
   ],
   "source": [
    "data = pd.concat([aug_train_DF, aug_val_DF, aug_test_DF], axis=0, ignore_index = True).groupby(\"Label\")[\"Label\"].count()\n",
    "data.plot.pie(autopct=\"%.1f%%\");"
   ]
  },
  {
   "cell_type": "markdown",
   "metadata": {
    "id": "Zf3vh4d7w3ZP"
   },
   "source": [
    "## 2. Data-Preprocessing "
   ]
  },
  {
   "cell_type": "markdown",
   "metadata": {
    "id": "Kd502KoZONei"
   },
   "source": [
    "### 2.1 Image Resizing \n"
   ]
  },
  {
   "cell_type": "markdown",
   "metadata": {
    "id": "oDIYJ9-3OWho"
   },
   "source": [
    "### 2.2 Data Augmentation"
   ]
  },
  {
   "cell_type": "markdown",
   "metadata": {},
   "source": [
    "### 2.3 Grayscale to RGB"
   ]
  },
  {
   "cell_type": "code",
   "execution_count": 6,
   "metadata": {
    "colab": {
     "background_save": true
    },
    "id": "hzz5yapeG-M7",
    "outputId": "0d2f1eb1-953a-4141-8ab9-4cb02b8519e8"
   },
   "outputs": [],
   "source": [
    "def normalize(img):\n",
    "    plt.imsave('DR.png', img, cmap='gray')\n",
    "    return cv2.imread('DR.png')"
   ]
  },
  {
   "cell_type": "code",
   "execution_count": 7,
   "metadata": {},
   "outputs": [],
   "source": [
    "aug_train_DF[\"Image\"] = aug_train_DF[\"Image\"].apply(normalize)\n",
    "aug_val_DF[\"Image\"] = aug_val_DF[\"Image\"].apply(normalize)\n",
    "aug_test_DF[\"Image\"] = aug_test_DF[\"Image\"].apply(normalize)"
   ]
  },
  {
   "cell_type": "markdown",
   "metadata": {
    "id": "yg8moTnTaNeT"
   },
   "source": [
    "### 2.4 Splitting Data into Train, Test, and Validation Sets"
   ]
  },
  {
   "cell_type": "code",
   "execution_count": 8,
   "metadata": {},
   "outputs": [],
   "source": [
    "y_train = aug_train_DF[\"Label\"]\n",
    "X_train = aug_train_DF['Image'].tolist()\n",
    "X_train = np.array(X_train).reshape(-1, SIZE_X, SIZE_Y, 3)\n",
    "\n",
    "\n",
    "y_val = aug_val_DF[\"Label\"]\n",
    "X_val = aug_val_DF['Image'].tolist()\n",
    "X_val = np.array(X_val).reshape(-1, SIZE_X, SIZE_Y, 3)\n",
    "\n",
    "y_test = aug_test_DF[\"Label\"]\n",
    "X_test = aug_test_DF['Image'].tolist()\n",
    "X_test = np.array(X_test).reshape(-1, SIZE_X, SIZE_Y, 3)\n"
   ]
  },
  {
   "cell_type": "code",
   "execution_count": 9,
   "metadata": {},
   "outputs": [
    {
     "name": "stdout",
     "output_type": "stream",
     "text": [
      "X_train shape: (10676, 128, 128, 3) | y_train shape: (10676,)\n",
      "X_val shape  : (1424, 128, 128, 3)  | y_test shape :  (1424,)\n",
      "X_test shape : (2136, 128, 128, 3)  | y_test shape :  (2136,)\n"
     ]
    }
   ],
   "source": [
    "print(\"X_train shape:\", X_train.shape,\"| y_train shape:\", y_train.shape)\n",
    "print(\"X_val shape  :\",X_val.shape,\" | y_test shape : \", y_val.shape)\n",
    "print(\"X_test shape :\",X_test.shape,\" | y_test shape : \", y_test.shape)"
   ]
  },
  {
   "cell_type": "markdown",
   "metadata": {},
   "source": [
    "### 2.5 One-Hot Encode the labels "
   ]
  },
  {
   "cell_type": "code",
   "execution_count": 10,
   "metadata": {
    "colab": {
     "background_save": true
    },
    "id": "uR_Cv0khfpyS",
    "outputId": "0fa96dd1-5899-45b2-9d73-5fcbc132a797"
   },
   "outputs": [],
   "source": [
    "# saving a copy of the testing labels before one hot encoding\n",
    "y_test_eval = y_test\n",
    "# one hot endcoding the labels \n",
    "y_train = pd.get_dummies(y_train)\n",
    "y_test  = pd.get_dummies(y_test)\n",
    "y_val   = pd.get_dummies(y_val)"
   ]
  },
  {
   "cell_type": "code",
   "execution_count": 11,
   "metadata": {},
   "outputs": [
    {
     "name": "stdout",
     "output_type": "stream",
     "text": [
      "X_train shape: (10676, 128, 128, 3) | y_train shape: (10676, 5)\n",
      "X_test shape : (2136, 128, 128, 3)  | y_test shape:  (2136, 5)\n",
      "X_val shape  : (1424, 128, 128, 3)  | y_val shape :  (1424, 5)\n",
      "\n",
      "Total number: 14236\n"
     ]
    }
   ],
   "source": [
    "print(\"X_train shape:\", X_train.shape,\"| y_train shape:\", y_train.shape)\n",
    "print(\"X_test shape :\",X_test.shape,\" | y_test shape: \", y_test.shape)\n",
    "print(\"X_val shape  :\",X_val.shape,\" | y_val shape : \", y_val.shape)\n",
    "print(\"\\nTotal number: {}\".format(len(aug_train_DF)+len(aug_val_DF)+len(aug_test_DF)))"
   ]
  },
  {
   "cell_type": "code",
   "execution_count": 12,
   "metadata": {
    "colab": {
     "background_save": true
    },
    "id": "3DctvR_fVPlF",
    "outputId": "bdf93bfa-b00d-49a3-99c8-f2bde2731658"
   },
   "outputs": [
    {
     "data": {
      "text/html": [
       "<div>\n",
       "<style scoped>\n",
       "    .dataframe tbody tr th:only-of-type {\n",
       "        vertical-align: middle;\n",
       "    }\n",
       "\n",
       "    .dataframe tbody tr th {\n",
       "        vertical-align: top;\n",
       "    }\n",
       "\n",
       "    .dataframe thead th {\n",
       "        text-align: right;\n",
       "    }\n",
       "</style>\n",
       "<table border=\"1\" class=\"dataframe\">\n",
       "  <thead>\n",
       "    <tr style=\"text-align: right;\">\n",
       "      <th></th>\n",
       "      <th>Glioma II</th>\n",
       "      <th>Glioma III</th>\n",
       "      <th>Glioma VI</th>\n",
       "      <th>Meningioma</th>\n",
       "      <th>Pituitary</th>\n",
       "    </tr>\n",
       "  </thead>\n",
       "  <tbody>\n",
       "    <tr>\n",
       "      <th>0</th>\n",
       "      <td>1</td>\n",
       "      <td>0</td>\n",
       "      <td>0</td>\n",
       "      <td>0</td>\n",
       "      <td>0</td>\n",
       "    </tr>\n",
       "    <tr>\n",
       "      <th>1</th>\n",
       "      <td>0</td>\n",
       "      <td>0</td>\n",
       "      <td>0</td>\n",
       "      <td>0</td>\n",
       "      <td>1</td>\n",
       "    </tr>\n",
       "    <tr>\n",
       "      <th>2</th>\n",
       "      <td>1</td>\n",
       "      <td>0</td>\n",
       "      <td>0</td>\n",
       "      <td>0</td>\n",
       "      <td>0</td>\n",
       "    </tr>\n",
       "    <tr>\n",
       "      <th>3</th>\n",
       "      <td>0</td>\n",
       "      <td>0</td>\n",
       "      <td>0</td>\n",
       "      <td>1</td>\n",
       "      <td>0</td>\n",
       "    </tr>\n",
       "    <tr>\n",
       "      <th>4</th>\n",
       "      <td>0</td>\n",
       "      <td>0</td>\n",
       "      <td>0</td>\n",
       "      <td>0</td>\n",
       "      <td>1</td>\n",
       "    </tr>\n",
       "    <tr>\n",
       "      <th>...</th>\n",
       "      <td>...</td>\n",
       "      <td>...</td>\n",
       "      <td>...</td>\n",
       "      <td>...</td>\n",
       "      <td>...</td>\n",
       "    </tr>\n",
       "    <tr>\n",
       "      <th>2131</th>\n",
       "      <td>0</td>\n",
       "      <td>0</td>\n",
       "      <td>0</td>\n",
       "      <td>0</td>\n",
       "      <td>1</td>\n",
       "    </tr>\n",
       "    <tr>\n",
       "      <th>2132</th>\n",
       "      <td>1</td>\n",
       "      <td>0</td>\n",
       "      <td>0</td>\n",
       "      <td>0</td>\n",
       "      <td>0</td>\n",
       "    </tr>\n",
       "    <tr>\n",
       "      <th>2133</th>\n",
       "      <td>0</td>\n",
       "      <td>0</td>\n",
       "      <td>0</td>\n",
       "      <td>0</td>\n",
       "      <td>1</td>\n",
       "    </tr>\n",
       "    <tr>\n",
       "      <th>2134</th>\n",
       "      <td>0</td>\n",
       "      <td>0</td>\n",
       "      <td>1</td>\n",
       "      <td>0</td>\n",
       "      <td>0</td>\n",
       "    </tr>\n",
       "    <tr>\n",
       "      <th>2135</th>\n",
       "      <td>0</td>\n",
       "      <td>0</td>\n",
       "      <td>0</td>\n",
       "      <td>1</td>\n",
       "      <td>0</td>\n",
       "    </tr>\n",
       "  </tbody>\n",
       "</table>\n",
       "<p>2136 rows × 5 columns</p>\n",
       "</div>"
      ],
      "text/plain": [
       "      Glioma II  Glioma III  Glioma VI  Meningioma  Pituitary\n",
       "0             1           0          0           0          0\n",
       "1             0           0          0           0          1\n",
       "2             1           0          0           0          0\n",
       "3             0           0          0           1          0\n",
       "4             0           0          0           0          1\n",
       "...         ...         ...        ...         ...        ...\n",
       "2131          0           0          0           0          1\n",
       "2132          1           0          0           0          0\n",
       "2133          0           0          0           0          1\n",
       "2134          0           0          1           0          0\n",
       "2135          0           0          0           1          0\n",
       "\n",
       "[2136 rows x 5 columns]"
      ]
     },
     "execution_count": 12,
     "metadata": {},
     "output_type": "execute_result"
    }
   ],
   "source": [
    "y_test"
   ]
  },
  {
   "cell_type": "markdown",
   "metadata": {},
   "source": [
    "### 2.6 Image Normalizatoin"
   ]
  },
  {
   "cell_type": "code",
   "execution_count": 13,
   "metadata": {},
   "outputs": [],
   "source": [
    "X_train = X_train / 255\n",
    "X_val   = X_val / 255\n",
    "X_test  = X_test / 255"
   ]
  },
  {
   "cell_type": "code",
   "execution_count": 14,
   "metadata": {
    "colab": {
     "background_save": true
    },
    "id": "jWFIvPjtiNio"
   },
   "outputs": [],
   "source": [
    "## This Dictionary is used to decode the model's predicted values.  \n",
    "decode_dict = {0 : \"Glioma II\", 1 : \"Glioma III\", 2 : \"Glioma VI\", 3: \"Meningioma\", 4: \"Pituitary\"}"
   ]
  },
  {
   "cell_type": "code",
   "execution_count": 15,
   "metadata": {
    "colab": {
     "background_save": true
    },
    "id": "PcsCoY3jggfU",
    "outputId": "3b3c30b0-a9af-4923-a318-cea2b5587807"
   },
   "outputs": [
    {
     "data": {
      "image/png": "[encoded data removed]",
      "text/plain": [
       "<Figure size 936x576 with 1 Axes>"
      ]
     },
     "metadata": {},
     "output_type": "display_data"
    }
   ],
   "source": [
    "import matplotlib.pyplot as plt\n",
    "import numpy as np\n",
    "##  Creating a Pie chart illustrating the percentage of the train, validation, test sets.\n",
    "Data = np.array([len(y_train), len(y_test), len(y_val)])\n",
    "mylabels = [\"Test Set\", \"Test Set\", \"Validation Set\"]\n",
    "plt.figure(figsize=(13, 8))\n",
    "plt.pie(Data, labels = mylabels, autopct=\"%.1f%%\", )\n",
    "plt.legend()\n",
    "plt.show() "
   ]
  },
  {
   "cell_type": "markdown",
   "metadata": {
    "id": "zDCzea2Klw_1"
   },
   "source": [
    "## 3. Models Creation\n"
   ]
  },
  {
   "cell_type": "code",
   "execution_count": 18,
   "metadata": {
    "colab": {
     "background_save": true
    },
    "id": "K58Sn8Gt_6v9"
   },
   "outputs": [
    {
     "name": "stdout",
     "output_type": "stream",
     "text": [
      "Model: \"sequential\"\n",
      "_________________________________________________________________\n",
      "Layer (type)                 Output Shape              Param #   \n",
      "=================================================================\n",
      "conv2d (Conv2D)              (None, 30, 30, 96)        34944     \n",
      "_________________________________________________________________\n",
      "batch_normalization (BatchNo (None, 30, 30, 96)        384       \n",
      "_________________________________________________________________\n",
      "max_pooling2d (MaxPooling2D) (None, 14, 14, 96)        0         \n",
      "_________________________________________________________________\n",
      "conv2d_1 (Conv2D)            (None, 14, 14, 256)       614656    \n",
      "_________________________________________________________________\n",
      "batch_normalization_1 (Batch (None, 14, 14, 256)       1024      \n",
      "_________________________________________________________________\n",
      "max_pooling2d_1 (MaxPooling2 (None, 6, 6, 256)         0         \n",
      "_________________________________________________________________\n",
      "conv2d_2 (Conv2D)            (None, 6, 6, 384)         885120    \n",
      "_________________________________________________________________\n",
      "batch_normalization_2 (Batch (None, 6, 6, 384)         1536      \n",
      "_________________________________________________________________\n",
      "conv2d_3 (Conv2D)            (None, 6, 6, 384)         1327488   \n",
      "_________________________________________________________________\n",
      "batch_normalization_3 (Batch (None, 6, 6, 384)         1536      \n",
      "_________________________________________________________________\n",
      "conv2d_4 (Conv2D)            (None, 6, 6, 256)         884992    \n",
      "_________________________________________________________________\n",
      "batch_normalization_4 (Batch (None, 6, 6, 256)         1024      \n",
      "_________________________________________________________________\n",
      "max_pooling2d_2 (MaxPooling2 (None, 2, 2, 256)         0         \n",
      "_________________________________________________________________\n",
      "flatten (Flatten)            (None, 1024)              0         \n",
      "_________________________________________________________________\n",
      "dense (Dense)                (None, 4096)              4198400   \n",
      "_________________________________________________________________\n",
      "dropout (Dropout)            (None, 4096)              0         \n",
      "_________________________________________________________________\n",
      "dense_1 (Dense)              (None, 4096)              16781312  \n",
      "_________________________________________________________________\n",
      "dropout_1 (Dropout)          (None, 4096)              0         \n",
      "_________________________________________________________________\n",
      "dense_2 (Dense)              (None, 5)                 20485     \n",
      "=================================================================\n",
      "Total params: 24,752,901\n",
      "Trainable params: 24,750,149\n",
      "Non-trainable params: 2,752\n",
      "_________________________________________________________________\n"
     ]
    }
   ],
   "source": [
    "\n",
    "\n",
    "m1 = keras.models.Sequential([\n",
    "    keras.layers.Conv2D(filters=96, kernel_size=(11,11), strides=(4,4), activation='relu', input_shape=(SIZE_X, SIZE_Y, 3)),\n",
    "    keras.layers.BatchNormalization(),\n",
    "    keras.layers.MaxPool2D(pool_size=(3,3), strides=(2,2)),\n",
    "    keras.layers.Conv2D(filters=256, kernel_size=(5,5), strides=(1,1), activation='relu', padding=\"same\"),\n",
    "    keras.layers.BatchNormalization(),\n",
    "    keras.layers.MaxPool2D(pool_size=(3,3), strides=(2,2)),\n",
    "    keras.layers.Conv2D(filters=384, kernel_size=(3,3), strides=(1,1), activation='relu', padding=\"same\"),\n",
    "    keras.layers.BatchNormalization(),\n",
    "    keras.layers.Conv2D(filters=384, kernel_size=(3,3), strides=(1,1), activation='relu', padding=\"same\"),\n",
    "    keras.layers.BatchNormalization(),\n",
    "    keras.layers.Conv2D(filters=256, kernel_size=(3,3), strides=(1,1), activation='relu', padding=\"same\"),\n",
    "    keras.layers.BatchNormalization(),\n",
    "    keras.layers.MaxPool2D(pool_size=(3,3), strides=(2,2)),\n",
    "    keras.layers.Flatten(),\n",
    "    keras.layers.Dense(4096, activation='relu'),\n",
    "    keras.layers.Dropout(0.5),\n",
    "    keras.layers.Dense(4096, activation='relu'),\n",
    "    keras.layers.Dropout(0.5),\n",
    "    keras.layers.Dense(5, activation='softmax')\n",
    "])\n",
    "\n",
    "\n",
    "m1.summary()\n",
    "m1.compile(loss='categorical_crossentropy', optimizer='adam', metrics=['accuracy'])"
   ]
  },
  {
   "cell_type": "code",
   "execution_count": null,
   "metadata": {},
   "outputs": [],
   "source": []
  },
  {
   "cell_type": "markdown",
   "metadata": {
    "id": "6aAVYS26t6c3"
   },
   "source": [
    "### 4. Model Training\n"
   ]
  },
  {
   "cell_type": "code",
   "execution_count": 19,
   "metadata": {
    "id": "LGT4MVY3tkyz"
   },
   "outputs": [
    {
     "name": "stdout",
     "output_type": "stream",
     "text": [
      "Epoch 1/150\n",
      "334/334 [==============================] - 8s 15ms/step - loss: 1.3766 - accuracy: 0.5547 - val_loss: 1.3404 - val_accuracy: 0.4831\n",
      "Epoch 2/150\n",
      "334/334 [==============================] - 4s 13ms/step - loss: 0.7423 - accuracy: 0.6796 - val_loss: 2.8297 - val_accuracy: 0.4600\n",
      "Epoch 3/150\n",
      "334/334 [==============================] - 4s 13ms/step - loss: 0.6125 - accuracy: 0.7394 - val_loss: 0.7104 - val_accuracy: 0.7346\n",
      "Epoch 4/150\n",
      "334/334 [==============================] - 4s 13ms/step - loss: 0.5107 - accuracy: 0.7901 - val_loss: 2.4816 - val_accuracy: 0.3146\n",
      "Epoch 5/150\n",
      "334/334 [==============================] - 4s 13ms/step - loss: 0.4615 - accuracy: 0.8111 - val_loss: 0.8114 - val_accuracy: 0.7282\n",
      "Epoch 6/150\n",
      "334/334 [==============================] - 4s 13ms/step - loss: 0.3965 - accuracy: 0.8402 - val_loss: 0.5922 - val_accuracy: 0.7963\n",
      "Epoch 7/150\n",
      "334/334 [==============================] - 4s 13ms/step - loss: 0.3506 - accuracy: 0.8612 - val_loss: 0.4478 - val_accuracy: 0.8188\n",
      "Epoch 8/150\n",
      "334/334 [==============================] - 4s 13ms/step - loss: 0.3307 - accuracy: 0.8724 - val_loss: 0.4849 - val_accuracy: 0.8195\n",
      "Epoch 9/150\n",
      "334/334 [==============================] - 4s 13ms/step - loss: 0.3028 - accuracy: 0.8880 - val_loss: 0.4259 - val_accuracy: 0.8469\n",
      "Epoch 10/150\n",
      "334/334 [==============================] - 4s 13ms/step - loss: 0.2425 - accuracy: 0.9045 - val_loss: 0.6698 - val_accuracy: 0.7837\n",
      "Epoch 11/150\n",
      "334/334 [==============================] - 4s 13ms/step - loss: 0.2351 - accuracy: 0.9132 - val_loss: 0.4036 - val_accuracy: 0.8596\n",
      "Epoch 12/150\n",
      "334/334 [==============================] - 4s 13ms/step - loss: 0.1959 - accuracy: 0.9248 - val_loss: 0.5260 - val_accuracy: 0.8560\n",
      "Epoch 13/150\n",
      "334/334 [==============================] - 4s 13ms/step - loss: 0.1821 - accuracy: 0.9361 - val_loss: 0.3560 - val_accuracy: 0.8792\n",
      "Epoch 14/150\n",
      "334/334 [==============================] - 4s 13ms/step - loss: 0.2017 - accuracy: 0.9303 - val_loss: 0.4962 - val_accuracy: 0.8518\n",
      "Epoch 15/150\n",
      "334/334 [==============================] - 4s 13ms/step - loss: 0.1676 - accuracy: 0.9380 - val_loss: 0.3649 - val_accuracy: 0.8912\n",
      "Epoch 16/150\n",
      "334/334 [==============================] - 4s 13ms/step - loss: 0.1515 - accuracy: 0.9442 - val_loss: 0.3096 - val_accuracy: 0.9017\n",
      "Epoch 17/150\n",
      "334/334 [==============================] - 4s 13ms/step - loss: 0.1515 - accuracy: 0.9440 - val_loss: 0.4425 - val_accuracy: 0.8890\n",
      "Epoch 18/150\n",
      "334/334 [==============================] - 4s 13ms/step - loss: 0.1108 - accuracy: 0.9597 - val_loss: 0.3281 - val_accuracy: 0.9185\n",
      "Epoch 19/150\n",
      "334/334 [==============================] - 4s 13ms/step - loss: 0.1059 - accuracy: 0.9634 - val_loss: 0.3306 - val_accuracy: 0.9249\n",
      "Epoch 20/150\n",
      "334/334 [==============================] - 4s 13ms/step - loss: 0.1095 - accuracy: 0.9631 - val_loss: 0.3774 - val_accuracy: 0.8954\n",
      "Epoch 21/150\n",
      "334/334 [==============================] - 4s 13ms/step - loss: 0.1239 - accuracy: 0.9584 - val_loss: 0.3390 - val_accuracy: 0.9115\n",
      "Epoch 22/150\n",
      "334/334 [==============================] - 4s 13ms/step - loss: 0.0821 - accuracy: 0.9716 - val_loss: 0.3723 - val_accuracy: 0.9087\n",
      "Epoch 23/150\n",
      "334/334 [==============================] - 4s 13ms/step - loss: 0.1006 - accuracy: 0.9695 - val_loss: 0.4488 - val_accuracy: 0.9066\n",
      "Epoch 24/150\n",
      "334/334 [==============================] - 4s 13ms/step - loss: 0.0953 - accuracy: 0.9694 - val_loss: 0.5415 - val_accuracy: 0.8736\n",
      "Epoch 25/150\n",
      "334/334 [==============================] - 4s 13ms/step - loss: 0.0699 - accuracy: 0.9774 - val_loss: 0.4676 - val_accuracy: 0.9031\n",
      "Epoch 26/150\n",
      "334/334 [==============================] - 4s 13ms/step - loss: 0.0938 - accuracy: 0.9726 - val_loss: 0.4814 - val_accuracy: 0.8588\n",
      "Epoch 27/150\n",
      "334/334 [==============================] - 4s 13ms/step - loss: 0.0799 - accuracy: 0.9748 - val_loss: 0.2724 - val_accuracy: 0.9361\n",
      "Epoch 28/150\n",
      "334/334 [==============================] - 4s 13ms/step - loss: 0.0656 - accuracy: 0.9791 - val_loss: 0.4183 - val_accuracy: 0.9157\n",
      "Epoch 29/150\n",
      "334/334 [==============================] - 4s 13ms/step - loss: 0.0963 - accuracy: 0.9723 - val_loss: 0.5815 - val_accuracy: 0.8588\n",
      "Epoch 30/150\n",
      "334/334 [==============================] - 4s 13ms/step - loss: 0.0856 - accuracy: 0.9730 - val_loss: 0.3308 - val_accuracy: 0.9178\n",
      "Epoch 31/150\n",
      "334/334 [==============================] - 4s 13ms/step - loss: 0.0660 - accuracy: 0.9797 - val_loss: 0.4696 - val_accuracy: 0.9003\n",
      "Epoch 32/150\n",
      "334/334 [==============================] - 4s 13ms/step - loss: 0.0497 - accuracy: 0.9846 - val_loss: 0.3439 - val_accuracy: 0.9157\n",
      "Epoch 33/150\n",
      "334/334 [==============================] - 4s 13ms/step - loss: 0.0578 - accuracy: 0.9836 - val_loss: 0.6033 - val_accuracy: 0.8961\n",
      "Epoch 34/150\n",
      "334/334 [==============================] - 4s 13ms/step - loss: 0.0615 - accuracy: 0.9830 - val_loss: 0.3797 - val_accuracy: 0.9312\n",
      "Epoch 35/150\n",
      "334/334 [==============================] - 4s 13ms/step - loss: 0.0531 - accuracy: 0.9846 - val_loss: 0.2387 - val_accuracy: 0.9375\n",
      "Epoch 36/150\n",
      "334/334 [==============================] - 4s 13ms/step - loss: 0.0297 - accuracy: 0.9906 - val_loss: 0.3204 - val_accuracy: 0.9480\n",
      "Epoch 37/150\n",
      "334/334 [==============================] - 4s 13ms/step - loss: 0.0577 - accuracy: 0.9848 - val_loss: 0.3479 - val_accuracy: 0.9270\n",
      "Epoch 38/150\n",
      "334/334 [==============================] - 4s 13ms/step - loss: 0.0625 - accuracy: 0.9825 - val_loss: 1.8383 - val_accuracy: 0.7584\n",
      "Epoch 39/150\n",
      "334/334 [==============================] - 4s 13ms/step - loss: 0.0669 - accuracy: 0.9808 - val_loss: 0.3690 - val_accuracy: 0.9305\n",
      "Epoch 40/150\n",
      "334/334 [==============================] - 4s 13ms/step - loss: 0.0544 - accuracy: 0.9876 - val_loss: 0.4252 - val_accuracy: 0.9192\n",
      "Epoch 41/150\n",
      "334/334 [==============================] - 4s 13ms/step - loss: 0.0612 - accuracy: 0.9862 - val_loss: 0.2526 - val_accuracy: 0.9347\n",
      "Epoch 42/150\n",
      "334/334 [==============================] - 4s 13ms/step - loss: 0.0233 - accuracy: 0.9928 - val_loss: 0.4265 - val_accuracy: 0.9319\n",
      "Epoch 43/150\n",
      "334/334 [==============================] - 4s 13ms/step - loss: 0.0324 - accuracy: 0.9913 - val_loss: 0.5354 - val_accuracy: 0.9326\n",
      "Epoch 44/150\n",
      "334/334 [==============================] - 4s 13ms/step - loss: 0.0586 - accuracy: 0.9852 - val_loss: 0.3476 - val_accuracy: 0.9340\n",
      "Epoch 45/150\n",
      "334/334 [==============================] - 4s 13ms/step - loss: 0.0521 - accuracy: 0.9876 - val_loss: 0.4869 - val_accuracy: 0.9312\n",
      "Epoch 46/150\n",
      "334/334 [==============================] - 4s 13ms/step - loss: 0.0356 - accuracy: 0.9897 - val_loss: 0.7237 - val_accuracy: 0.9305\n",
      "Epoch 47/150\n",
      "334/334 [==============================] - 4s 13ms/step - loss: 0.0423 - accuracy: 0.9891 - val_loss: 0.3671 - val_accuracy: 0.9347\n",
      "Epoch 48/150\n",
      "334/334 [==============================] - 4s 13ms/step - loss: 0.0343 - accuracy: 0.9922 - val_loss: 0.5044 - val_accuracy: 0.9115\n",
      "Epoch 49/150\n",
      "334/334 [==============================] - 4s 13ms/step - loss: 0.0400 - accuracy: 0.9903 - val_loss: 0.5597 - val_accuracy: 0.9073\n",
      "Epoch 50/150\n",
      "334/334 [==============================] - 4s 13ms/step - loss: 0.0457 - accuracy: 0.9898 - val_loss: 0.4809 - val_accuracy: 0.9122\n",
      "Epoch 51/150\n",
      "334/334 [==============================] - 4s 13ms/step - loss: 0.0378 - accuracy: 0.9908 - val_loss: 0.3253 - val_accuracy: 0.9396\n",
      "Epoch 52/150\n",
      "334/334 [==============================] - 4s 13ms/step - loss: 0.0356 - accuracy: 0.9908 - val_loss: 0.2255 - val_accuracy: 0.9522\n",
      "Epoch 53/150\n",
      "334/334 [==============================] - 4s 13ms/step - loss: 0.0328 - accuracy: 0.9921 - val_loss: 0.3094 - val_accuracy: 0.9340\n",
      "Epoch 54/150\n",
      "334/334 [==============================] - 4s 13ms/step - loss: 0.0311 - accuracy: 0.9920 - val_loss: 0.5702 - val_accuracy: 0.9291\n",
      "Epoch 55/150\n",
      "334/334 [==============================] - 4s 13ms/step - loss: 0.0397 - accuracy: 0.9909 - val_loss: 0.3381 - val_accuracy: 0.9466\n",
      "Epoch 56/150\n",
      "334/334 [==============================] - 4s 13ms/step - loss: 0.0285 - accuracy: 0.9929 - val_loss: 0.3285 - val_accuracy: 0.9431\n",
      "Epoch 57/150\n",
      "334/334 [==============================] - 4s 13ms/step - loss: 0.0272 - accuracy: 0.9938 - val_loss: 0.4059 - val_accuracy: 0.9410\n"
     ]
    },
    {
     "data": {
      "text/plain": [
       "<keras.callbacks.History at 0x17a8f457dc0>"
      ]
     },
     "execution_count": 19,
     "metadata": {},
     "output_type": "execute_result"
    }
   ],
   "source": [
    "from tensorflow.keras.callbacks import EarlyStopping\n",
    "early_stop = EarlyStopping(monitor = 'loss', patience = 15 )\n",
    "\n",
    "m1.fit(X_train,y_train,epochs=150,batch_size=32, validation_data=(X_val,y_val), callbacks = [early_stop], verbose=1)"
   ]
  },
  {
   "cell_type": "code",
   "execution_count": 20,
   "metadata": {
    "id": "d6OA7oX-yByT"
   },
   "outputs": [],
   "source": [
    "# Get training history\n",
    "metrics = pd.DataFrame(m1.history.history)"
   ]
  },
  {
   "cell_type": "code",
   "execution_count": 21,
   "metadata": {},
   "outputs": [],
   "source": [
    "import os\n",
    "exp_num = []\n",
    "if not os.path.exists(\"./experiments\"):\n",
    "    os.mkdir(\"./experiments\")\n",
    "folders = os.listdir(\"./experiments\")\n",
    "for folder in folders:\n",
    "    exp_num.append(int(folder.split(\"#\")[1]))\n",
    "\n",
    "\n",
    "if len(exp_num) == 0:\n",
    "    exp_path = r\"./experiments/exp#1\"\n",
    "else:\n",
    "    exp_path = r\"./experiments/exp#\"+str(max(exp_num)+1)\n",
    "\n",
    "\n",
    "\n",
    "\n",
    "os.mkdir(exp_path)\n",
    "os.mkdir(os.path.join(exp_path, \"results\"))\n",
    "os.mkdir(os.path.join(exp_path, \"weights\"))\n",
    "\n",
    "results = os.path.join(exp_path, \"results\")\n",
    "weights = os.path.join(exp_path, \"weights\")"
   ]
  },
  {
   "cell_type": "code",
   "execution_count": 22,
   "metadata": {},
   "outputs": [
    {
     "name": "stdout",
     "output_type": "stream",
     "text": [
      "./experiments/exp#1\\results\n"
     ]
    }
   ],
   "source": [
    "print(results)"
   ]
  },
  {
   "cell_type": "code",
   "execution_count": 23,
   "metadata": {
    "id": "vs5CCwj993FX"
   },
   "outputs": [
    {
     "name": "stdout",
     "output_type": "stream",
     "text": [
      "67/67 [==============================] - 1s 7ms/step - loss: 0.4083 - accuracy: 0.9316\n"
     ]
    }
   ],
   "source": [
    "# Save The Trained model along with it training history   \n",
    "Accuracy = m1.evaluate(X_test, y_test)[-1]\n",
    "name = str(round(Accuracy, 4))\n",
    "\n",
    "metrics.to_pickle(os.path.join(results, name+'.pkl'))\n",
    "m1.save(os.path.join(weights, name + '.h5'))"
   ]
  },
  {
   "cell_type": "code",
   "execution_count": 24,
   "metadata": {
    "id": "5F7i-oCwytup",
    "scrolled": true
   },
   "outputs": [
    {
     "data": {
      "image/png": "[encoded data removed]",
      "text/plain": [
       "<Figure size 720x504 with 1 Axes>"
      ]
     },
     "metadata": {
      "needs_background": "light"
     },
     "output_type": "display_data"
    },
    {
     "data": {
      "image/png": "[encoded data removed]",
      "text/plain": [
       "<Figure size 720x504 with 1 Axes>"
      ]
     },
     "metadata": {
      "needs_background": "light"
     },
     "output_type": "display_data"
    }
   ],
   "source": [
    "## Dispaly the plot of \n",
    "rows = 2\n",
    "columns = 1\n",
    "  \n",
    "# Display Train loss vs Validation loss at each Epoch\n",
    "fig = plt.figure(figsize=(10, 7))\n",
    "fig.add_subplot(rows, columns, 1)\n",
    "plt.plot(metrics['loss'])\n",
    "plt.plot(metrics['val_loss'])\n",
    "plt.title('Model Loss')\n",
    "plt.ylabel('loss')\n",
    "plt.xlabel('epoch')\n",
    "plt.legend(['train', 'val'], loc='upper left')\n",
    "plt.savefig(os.path.join(results, 'loss_epoch.png'))\n",
    "plt.show()\n",
    "\n",
    "  \n",
    "# Display Train loss vs Validation loss at each Epoch\n",
    "fig = plt.figure(figsize=(10, 7))\n",
    "fig.add_subplot(rows, columns, 2)\n",
    "plt.plot(metrics['accuracy'])\n",
    "plt.plot(metrics['val_accuracy'])\n",
    "plt.title('Model Accuracy')\n",
    "plt.ylabel('accuracy')\n",
    "plt.xlabel('epoch')\n",
    "plt.legend(['train', 'val'], loc='upper left')\n",
    "plt.savefig(os.path.join(results, 'acc_epoch.png'))\n",
    "plt.show()\n",
    "\n"
   ]
  },
  {
   "cell_type": "code",
   "execution_count": 25,
   "metadata": {
    "id": "HQOKaA8zfv4K"
   },
   "outputs": [],
   "source": [
    "## Get the \n",
    "predict_x = m1.predict(X_test) \n",
    "predictions = np.argmax(predict_x,axis=1) "
   ]
  },
  {
   "cell_type": "code",
   "execution_count": 26,
   "metadata": {
    "id": "xy9_ZzsYkByi"
   },
   "outputs": [],
   "source": [
    "# Decode the Model's predections  (from [0,1,0,2..] to ['Glioma','Meningioma'...]) of the Test set using the the dictionary 'decode_dict' \n",
    "predictions = np.vectorize(decode_dict.get)(predictions)"
   ]
  },
  {
   "cell_type": "code",
   "execution_count": 27,
   "metadata": {
    "id": "IVYX1MCzjx00"
   },
   "outputs": [
    {
     "name": "stdout",
     "output_type": "stream",
     "text": [
      "              precision    recall  f1-score   support\n",
      "\n",
      "   Glioma II       0.86      0.89      0.87       428\n",
      "  Glioma III       0.94      0.83      0.88       356\n",
      "   Glioma VI       0.89      0.93      0.91       420\n",
      "  Meningioma       0.97      1.00      0.98       456\n",
      "   Pituitary       0.99      0.99      0.99       476\n",
      "\n",
      "    accuracy                           0.93      2136\n",
      "   macro avg       0.93      0.93      0.93      2136\n",
      "weighted avg       0.93      0.93      0.93      2136\n",
      "\n"
     ]
    }
   ],
   "source": [
    "print(classification_report(y_test_eval, predictions))"
   ]
  },
  {
   "cell_type": "code",
   "execution_count": 28,
   "metadata": {
    "id": "HOVPJjy0udhD"
   },
   "outputs": [
    {
     "data": {
      "image/png": "[encoded data removed]",
      "text/plain": [
       "<Figure size 720x504 with 2 Axes>"
      ]
     },
     "metadata": {
      "needs_background": "light"
     },
     "output_type": "display_data"
    }
   ],
   "source": [
    "labels = sorted([\"Glioma II\", \"Glioma III\", \"Glioma VI\", \"Meningioma\", \"Pituitary\"])\n",
    "\n",
    "cm = pd.DataFrame(confusion_matrix(y_test_eval, predictions), index=labels, columns=labels)\n",
    "plt.figure(figsize = (10,7))\n",
    "plt.title('Confusion matrix')\n",
    "sns.heatmap(cm, annot=True, cmap=\"PuBu\",fmt = 'd')\n",
    "plt.ylabel('True labels')\n",
    "plt.xlabel('Predicted labels')\n",
    "plt.savefig(os.path.join(results, 'confusion_matrix.png'))\n",
    "plt.show()"
   ]
  },
  {
   "cell_type": "code",
   "execution_count": null,
   "metadata": {
    "id": "7_fru9v4mHup"
   },
   "outputs": [],
   "source": []
  },
  {
   "cell_type": "code",
   "execution_count": null,
   "metadata": {},
   "outputs": [],
   "source": []
  },
  {
   "cell_type": "code",
   "execution_count": null,
   "metadata": {},
   "outputs": [],
   "source": []
  }
 ],
 "metadata": {
  "accelerator": "GPU",
  "colab": {
   "collapsed_sections": [],
   "name": "5_labels_model_v1.ipynb",
   "provenance": []
  },
  "kernelspec": {
   "display_name": "Python 3 (ipykernel)",
   "language": "python",
   "name": "python3"
  },
  "language_info": {
   "codemirror_mode": {
    "name": "ipython",
    "version": 3
   },
   "file_extension": ".py",
   "mimetype": "text/x-python",
   "name": "python",
   "nbconvert_exporter": "python",
   "pygments_lexer": "ipython3",
   "version": "3.9.7"
  }
 },
 "nbformat": 4,
 "nbformat_minor": 1
}
