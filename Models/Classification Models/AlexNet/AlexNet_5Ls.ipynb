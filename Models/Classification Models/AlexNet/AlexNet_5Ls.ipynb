{
 "cells": [
  {
   "cell_type": "markdown",
   "metadata": {
    "id": "vt51_KACTdGf"
   },
   "source": [
    "## 0. Setting up the Environment\n"
   ]
  },
  {
   "cell_type": "code",
   "execution_count": 1,
   "metadata": {
    "colab": {
     "base_uri": "https://localhost:8080/"
    },
    "id": "D4Z6Zv3PSOcg",
    "outputId": "b87040f7-50f1-4633-bcd9-415194d37d2e"
   },
   "outputs": [],
   "source": [
    "## impoort labaries \n",
    "import os \n",
    "import cv2\n",
    "import mat73\n",
    "import time\n",
    "import keras\n",
    "import pandas as pd\n",
    "import numpy as np \n",
    "import seaborn as sns\n",
    "import skimage\n",
    "import tensorflow as tf\n",
    "import matplotlib.pyplot as plt\n",
    "from PIL import Image, ImageOps \n",
    "from skimage.transform import resize\n",
    "from keras.models import Sequential\n",
    "from tensorflow.keras import optimizers\n",
    "from tqdm.notebook import tqdm_notebook as tqdm\n",
    "from sklearn.metrics import classification_report, confusion_matrix\n",
    "from keras.layers import Conv2D, MaxPooling2D, Flatten, Dense, Dropout, BatchNormalization,  Convolution2D"
   ]
  },
  {
   "cell_type": "markdown",
   "metadata": {
    "id": "sYWmkuxOWtm4"
   },
   "source": [
    "## 1. Data Importing "
   ]
  },
  {
   "cell_type": "code",
   "execution_count": 2,
   "metadata": {},
   "outputs": [],
   "source": [
    "SIZE_X = 128\n",
    "SIZE_Y = 128\n",
    "\n",
    "aug_train_DF = pd.read_pickle(r\"../../../Datasets/Dataset_B/aug_train_DF_{}.pkl\".format(SIZE_X))\n",
    "aug_val_DF = pd.read_pickle(r\"../../../Datasets/Dataset_B/aug_val_DF_{}.pkl\".format(SIZE_X))\n",
    "aug_test_DF = pd.read_pickle(r\"../../../Datasets/Dataset_B/aug_test_DF_{}.pkl\".format(SIZE_X))"
   ]
  },
  {
   "cell_type": "code",
   "execution_count": 3,
   "metadata": {
    "colab": {
     "background_save": true
    },
    "id": "kaaNJb4nR5Z5",
    "outputId": "229fd2a5-846a-4168-abdf-2db9f91c282d"
   },
   "outputs": [
    {
     "data": {
      "text/html": [
       "<div>\n",
       "<style scoped>\n",
       "    .dataframe tbody tr th:only-of-type {\n",
       "        vertical-align: middle;\n",
       "    }\n",
       "\n",
       "    .dataframe tbody tr th {\n",
       "        vertical-align: top;\n",
       "    }\n",
       "\n",
       "    .dataframe thead th {\n",
       "        text-align: right;\n",
       "    }\n",
       "</style>\n",
       "<table border=\"1\" class=\"dataframe\">\n",
       "  <thead>\n",
       "    <tr style=\"text-align: right;\">\n",
       "      <th></th>\n",
       "      <th>PID</th>\n",
       "      <th>Label</th>\n",
       "      <th>Image</th>\n",
       "      <th>File</th>\n",
       "    </tr>\n",
       "  </thead>\n",
       "  <tbody>\n",
       "    <tr>\n",
       "      <th>13348</th>\n",
       "      <td>114359</td>\n",
       "      <td>Meningioma</td>\n",
       "      <td>[[0.0, 0.0, 0.0, 0.0, 0.0, 0.0, 0.0, 0.0, 0.0,...</td>\n",
       "      <td>399.mat</td>\n",
       "    </tr>\n",
       "    <tr>\n",
       "      <th>5008</th>\n",
       "      <td>98241</td>\n",
       "      <td>Meningioma</td>\n",
       "      <td>[[0.0, 0.0, 0.0, 0.0, 0.0, 0.0, 0.0, 0.0, 0.0,...</td>\n",
       "      <td>423.mat</td>\n",
       "    </tr>\n",
       "    <tr>\n",
       "      <th>2139</th>\n",
       "      <td>HF1139</td>\n",
       "      <td>Glioma VI</td>\n",
       "      <td>[[0.0, 0.0, 0.0, 0.0, 0.0, 0.0, 0.0, 0.0, 0.0,...</td>\n",
       "      <td>D:\\Datasets\\manifest-tXudPFfp43472957274060920...</td>\n",
       "    </tr>\n",
       "    <tr>\n",
       "      <th>665</th>\n",
       "      <td>HF1398</td>\n",
       "      <td>Glioma III</td>\n",
       "      <td>[[0.0, 0.0, 0.0, 0.0, 0.0, 0.0, 0.0, 0.0, 0.0,...</td>\n",
       "      <td>D:\\Datasets\\manifest-tXudPFfp43472957274060920...</td>\n",
       "    </tr>\n",
       "    <tr>\n",
       "      <th>3385</th>\n",
       "      <td>103478</td>\n",
       "      <td>Pituitary</td>\n",
       "      <td>[[0.0, 0.0, 0.0, 0.0, 0.0, 0.0, 0.0, 0.0, 0.0,...</td>\n",
       "      <td>1504.mat</td>\n",
       "    </tr>\n",
       "  </tbody>\n",
       "</table>\n",
       "</div>"
      ],
      "text/plain": [
       "          PID       Label                                              Image  \\\n",
       "13348  114359  Meningioma  [[0.0, 0.0, 0.0, 0.0, 0.0, 0.0, 0.0, 0.0, 0.0,...   \n",
       "5008    98241  Meningioma  [[0.0, 0.0, 0.0, 0.0, 0.0, 0.0, 0.0, 0.0, 0.0,...   \n",
       "2139   HF1139   Glioma VI  [[0.0, 0.0, 0.0, 0.0, 0.0, 0.0, 0.0, 0.0, 0.0,...   \n",
       "665    HF1398  Glioma III  [[0.0, 0.0, 0.0, 0.0, 0.0, 0.0, 0.0, 0.0, 0.0,...   \n",
       "3385   103478   Pituitary  [[0.0, 0.0, 0.0, 0.0, 0.0, 0.0, 0.0, 0.0, 0.0,...   \n",
       "\n",
       "                                                    File  \n",
       "13348                                            399.mat  \n",
       "5008                                             423.mat  \n",
       "2139   D:\\Datasets\\manifest-tXudPFfp43472957274060920...  \n",
       "665    D:\\Datasets\\manifest-tXudPFfp43472957274060920...  \n",
       "3385                                            1504.mat  "
      ]
     },
     "execution_count": 3,
     "metadata": {},
     "output_type": "execute_result"
    }
   ],
   "source": [
    "## Combain the df with the Pitutary & Meningioma types with the dataframe of the Glioma grades (I, II,, IV).\n",
    "\n",
    "pd.concat([aug_train_DF, aug_val_DF, aug_test_DF], axis=0, ignore_index = True).sample(5)"
   ]
  },
  {
   "cell_type": "code",
   "execution_count": 4,
   "metadata": {
    "colab": {
     "background_save": true
    },
    "id": "uJEttBBOU9IN",
    "outputId": "d176e92f-d35f-4f92-a264-ead1e87244e6"
   },
   "outputs": [
    {
     "name": "stderr",
     "output_type": "stream",
     "text": [
      "C:\\Users\\Ma7moud\\anaconda3\\envs\\T-UNet\\lib\\site-packages\\seaborn\\_decorators.py:36: FutureWarning: Pass the following variable as a keyword arg: x. From version 0.12, the only valid positional argument will be `data`, and passing other arguments without an explicit keyword will result in an error or misinterpretation.\n",
      "  warnings.warn(\n"
     ]
    },
    {
     "data": {
      "image/png": "[encoded data removed]",
      "text/plain": [
       "<Figure size 432x288 with 1 Axes>"
      ]
     },
     "metadata": {
      "needs_background": "light"
     },
     "output_type": "display_data"
    }
   ],
   "source": [
    "sns.countplot(pd.concat([aug_train_DF, aug_val_DF, aug_test_DF], axis=0, ignore_index = True).Label)\n",
    "plt.show()"
   ]
  },
  {
   "cell_type": "code",
   "execution_count": 5,
   "metadata": {
    "colab": {
     "background_save": true
    },
    "id": "AWLSJpw6WVVo",
    "outputId": "348d3fee-c3a5-442d-96af-5711dec23128"
   },
   "outputs": [
    {
     "data": {
      "image/png": "[encoded data removed]",
      "text/plain": [
       "<Figure size 432x288 with 1 Axes>"
      ]
     },
     "metadata": {},
     "output_type": "display_data"
    }
   ],
   "source": [
    "data = pd.concat([aug_train_DF, aug_val_DF, aug_test_DF], axis=0, ignore_index = True).groupby(\"Label\")[\"Label\"].count()\n",
    "data.plot.pie(autopct=\"%.1f%%\");"
   ]
  },
  {
   "cell_type": "markdown",
   "metadata": {
    "id": "Zf3vh4d7w3ZP"
   },
   "source": [
    "## 2. Data-Preprocessing "
   ]
  },
  {
   "cell_type": "markdown",
   "metadata": {
    "id": "Kd502KoZONei"
   },
   "source": [
    "### 2.1 Image Resizing \n"
   ]
  },
  {
   "cell_type": "markdown",
   "metadata": {
    "id": "oDIYJ9-3OWho"
   },
   "source": [
    "### 2.2 Data Augmentation"
   ]
  },
  {
   "cell_type": "markdown",
   "metadata": {},
   "source": [
    "### 2.3 Grayscale to RGB"
   ]
  },
  {
   "cell_type": "code",
   "execution_count": 6,
   "metadata": {
    "colab": {
     "background_save": true
    },
    "id": "hzz5yapeG-M7",
    "outputId": "0d2f1eb1-953a-4141-8ab9-4cb02b8519e8"
   },
   "outputs": [],
   "source": [
    "def normalize(img):\n",
    "    plt.imsave('DR.png', img, cmap='gray')\n",
    "    return cv2.imread('DR.png')"
   ]
  },
  {
   "cell_type": "code",
   "execution_count": 7,
   "metadata": {},
   "outputs": [],
   "source": [
    "aug_train_DF[\"Image\"] = aug_train_DF[\"Image\"].apply(normalize)\n",
    "aug_val_DF[\"Image\"] = aug_val_DF[\"Image\"].apply(normalize)\n",
    "aug_test_DF[\"Image\"] = aug_test_DF[\"Image\"].apply(normalize)"
   ]
  },
  {
   "cell_type": "markdown",
   "metadata": {
    "id": "yg8moTnTaNeT"
   },
   "source": [
    "### 2.4 Splitting Data into Train, Test, and Validation Sets"
   ]
  },
  {
   "cell_type": "code",
   "execution_count": 8,
   "metadata": {},
   "outputs": [],
   "source": [
    "y_train = aug_train_DF[\"Label\"]\n",
    "X_train = aug_train_DF['Image'].tolist()\n",
    "X_train = np.array(X_train).reshape(-1, SIZE_X, SIZE_Y, 3)\n",
    "\n",
    "\n",
    "y_val = aug_val_DF[\"Label\"]\n",
    "X_val = aug_val_DF['Image'].tolist()\n",
    "X_val = np.array(X_val).reshape(-1, SIZE_X, SIZE_Y, 3)\n",
    "\n",
    "y_test = aug_test_DF[\"Label\"]\n",
    "X_test = aug_test_DF['Image'].tolist()\n",
    "X_test = np.array(X_test).reshape(-1, SIZE_X, SIZE_Y, 3)\n"
   ]
  },
  {
   "cell_type": "code",
   "execution_count": 9,
   "metadata": {},
   "outputs": [
    {
     "name": "stdout",
     "output_type": "stream",
     "text": [
      "X_train shape: (10676, 128, 128, 3) | y_train shape: (10676,)\n",
      "X_val shape  : (1424, 128, 128, 3)  | y_test shape :  (1424,)\n",
      "X_test shape : (2136, 128, 128, 3)  | y_test shape :  (2136,)\n"
     ]
    }
   ],
   "source": [
    "print(\"X_train shape:\", X_train.shape,\"| y_train shape:\", y_train.shape)\n",
    "print(\"X_val shape  :\",X_val.shape,\" | y_test shape : \", y_val.shape)\n",
    "print(\"X_test shape :\",X_test.shape,\" | y_test shape : \", y_test.shape)"
   ]
  },
  {
   "cell_type": "markdown",
   "metadata": {},
   "source": [
    "### 2.5 One-Hot Encode the labels "
   ]
  },
  {
   "cell_type": "code",
   "execution_count": 10,
   "metadata": {
    "colab": {
     "background_save": true
    },
    "id": "uR_Cv0khfpyS",
    "outputId": "0fa96dd1-5899-45b2-9d73-5fcbc132a797"
   },
   "outputs": [],
   "source": [
    "# saving a copy of the testing labels before one hot encoding\n",
    "y_test_eval = y_test\n",
    "# one hot endcoding the labels \n",
    "y_train = pd.get_dummies(y_train)\n",
    "y_test  = pd.get_dummies(y_test)\n",
    "y_val   = pd.get_dummies(y_val)"
   ]
  },
  {
   "cell_type": "code",
   "execution_count": 11,
   "metadata": {},
   "outputs": [
    {
     "name": "stdout",
     "output_type": "stream",
     "text": [
      "X_train shape: (10676, 128, 128, 3) | y_train shape: (10676, 5)\n",
      "X_test shape : (2136, 128, 128, 3)  | y_test shape:  (2136, 5)\n",
      "X_val shape  : (1424, 128, 128, 3)  | y_val shape :  (1424, 5)\n",
      "\n",
      "Total number: 14236\n"
     ]
    }
   ],
   "source": [
    "print(\"X_train shape:\", X_train.shape,\"| y_train shape:\", y_train.shape)\n",
    "print(\"X_test shape :\",X_test.shape,\" | y_test shape: \", y_test.shape)\n",
    "print(\"X_val shape  :\",X_val.shape,\" | y_val shape : \", y_val.shape)\n",
    "print(\"\\nTotal number: {}\".format(len(aug_train_DF)+len(aug_val_DF)+len(aug_test_DF)))"
   ]
  },
  {
   "cell_type": "code",
   "execution_count": 12,
   "metadata": {
    "colab": {
     "background_save": true
    },
    "id": "3DctvR_fVPlF",
    "outputId": "bdf93bfa-b00d-49a3-99c8-f2bde2731658"
   },
   "outputs": [
    {
     "data": {
      "text/html": [
       "<div>\n",
       "<style scoped>\n",
       "    .dataframe tbody tr th:only-of-type {\n",
       "        vertical-align: middle;\n",
       "    }\n",
       "\n",
       "    .dataframe tbody tr th {\n",
       "        vertical-align: top;\n",
       "    }\n",
       "\n",
       "    .dataframe thead th {\n",
       "        text-align: right;\n",
       "    }\n",
       "</style>\n",
       "<table border=\"1\" class=\"dataframe\">\n",
       "  <thead>\n",
       "    <tr style=\"text-align: right;\">\n",
       "      <th></th>\n",
       "      <th>Glioma II</th>\n",
       "      <th>Glioma III</th>\n",
       "      <th>Glioma VI</th>\n",
       "      <th>Meningioma</th>\n",
       "      <th>Pituitary</th>\n",
       "    </tr>\n",
       "  </thead>\n",
       "  <tbody>\n",
       "    <tr>\n",
       "      <th>0</th>\n",
       "      <td>1</td>\n",
       "      <td>0</td>\n",
       "      <td>0</td>\n",
       "      <td>0</td>\n",
       "      <td>0</td>\n",
       "    </tr>\n",
       "    <tr>\n",
       "      <th>1</th>\n",
       "      <td>0</td>\n",
       "      <td>0</td>\n",
       "      <td>0</td>\n",
       "      <td>0</td>\n",
       "      <td>1</td>\n",
       "    </tr>\n",
       "    <tr>\n",
       "      <th>2</th>\n",
       "      <td>1</td>\n",
       "      <td>0</td>\n",
       "      <td>0</td>\n",
       "      <td>0</td>\n",
       "      <td>0</td>\n",
       "    </tr>\n",
       "    <tr>\n",
       "      <th>3</th>\n",
       "      <td>0</td>\n",
       "      <td>0</td>\n",
       "      <td>0</td>\n",
       "      <td>1</td>\n",
       "      <td>0</td>\n",
       "    </tr>\n",
       "    <tr>\n",
       "      <th>4</th>\n",
       "      <td>0</td>\n",
       "      <td>0</td>\n",
       "      <td>0</td>\n",
       "      <td>0</td>\n",
       "      <td>1</td>\n",
       "    </tr>\n",
       "    <tr>\n",
       "      <th>...</th>\n",
       "      <td>...</td>\n",
       "      <td>...</td>\n",
       "      <td>...</td>\n",
       "      <td>...</td>\n",
       "      <td>...</td>\n",
       "    </tr>\n",
       "    <tr>\n",
       "      <th>2131</th>\n",
       "      <td>0</td>\n",
       "      <td>0</td>\n",
       "      <td>0</td>\n",
       "      <td>0</td>\n",
       "      <td>1</td>\n",
       "    </tr>\n",
       "    <tr>\n",
       "      <th>2132</th>\n",
       "      <td>1</td>\n",
       "      <td>0</td>\n",
       "      <td>0</td>\n",
       "      <td>0</td>\n",
       "      <td>0</td>\n",
       "    </tr>\n",
       "    <tr>\n",
       "      <th>2133</th>\n",
       "      <td>0</td>\n",
       "      <td>0</td>\n",
       "      <td>0</td>\n",
       "      <td>0</td>\n",
       "      <td>1</td>\n",
       "    </tr>\n",
       "    <tr>\n",
       "      <th>2134</th>\n",
       "      <td>0</td>\n",
       "      <td>0</td>\n",
       "      <td>1</td>\n",
       "      <td>0</td>\n",
       "      <td>0</td>\n",
       "    </tr>\n",
       "    <tr>\n",
       "      <th>2135</th>\n",
       "      <td>0</td>\n",
       "      <td>0</td>\n",
       "      <td>0</td>\n",
       "      <td>1</td>\n",
       "      <td>0</td>\n",
       "    </tr>\n",
       "  </tbody>\n",
       "</table>\n",
       "<p>2136 rows × 5 columns</p>\n",
       "</div>"
      ],
      "text/plain": [
       "      Glioma II  Glioma III  Glioma VI  Meningioma  Pituitary\n",
       "0             1           0          0           0          0\n",
       "1             0           0          0           0          1\n",
       "2             1           0          0           0          0\n",
       "3             0           0          0           1          0\n",
       "4             0           0          0           0          1\n",
       "...         ...         ...        ...         ...        ...\n",
       "2131          0           0          0           0          1\n",
       "2132          1           0          0           0          0\n",
       "2133          0           0          0           0          1\n",
       "2134          0           0          1           0          0\n",
       "2135          0           0          0           1          0\n",
       "\n",
       "[2136 rows x 5 columns]"
      ]
     },
     "execution_count": 12,
     "metadata": {},
     "output_type": "execute_result"
    }
   ],
   "source": [
    "y_test"
   ]
  },
  {
   "cell_type": "markdown",
   "metadata": {},
   "source": [
    "### 2.6 Image Normalizatoin"
   ]
  },
  {
   "cell_type": "code",
   "execution_count": 13,
   "metadata": {},
   "outputs": [],
   "source": [
    "X_train = X_train / 255\n",
    "X_val   = X_val / 255\n",
    "X_test  = X_test / 255"
   ]
  },
  {
   "cell_type": "code",
   "execution_count": 14,
   "metadata": {
    "colab": {
     "background_save": true
    },
    "id": "jWFIvPjtiNio"
   },
   "outputs": [],
   "source": [
    "## This Dictionary is used to decode the model's predicted values.  \n",
    "decode_dict = {0 : \"Glioma II\", 1 : \"Glioma III\", 2 : \"Glioma VI\", 3: \"Meningioma\", 4: \"Pituitary\"}"
   ]
  },
  {
   "cell_type": "code",
   "execution_count": 15,
   "metadata": {
    "colab": {
     "background_save": true
    },
    "id": "PcsCoY3jggfU",
    "outputId": "3b3c30b0-a9af-4923-a318-cea2b5587807"
   },
   "outputs": [
    {
     "data": {
      "image/png": "[encoded data removed]",
      "text/plain": [
       "<Figure size 936x576 with 1 Axes>"
      ]
     },
     "metadata": {},
     "output_type": "display_data"
    }
   ],
   "source": [
    "import matplotlib.pyplot as plt\n",
    "import numpy as np\n",
    "##  Creating a Pie chart illustrating the percentage of the train, validation, test sets.\n",
    "Data = np.array([len(y_train), len(y_test), len(y_val)])\n",
    "mylabels = [\"Test Set\", \"Test Set\", \"Validation Set\"]\n",
    "plt.figure(figsize=(13, 8))\n",
    "plt.pie(Data, labels = mylabels, autopct=\"%.1f%%\", )\n",
    "plt.legend()\n",
    "plt.show() "
   ]
  },
  {
   "cell_type": "markdown",
   "metadata": {
    "id": "zDCzea2Klw_1"
   },
   "source": [
    "## 3. Models Creation\n"
   ]
  },
  {
   "cell_type": "code",
   "execution_count": 16,
   "metadata": {
    "colab": {
     "background_save": true
    },
    "id": "K58Sn8Gt_6v9"
   },
   "outputs": [
    {
     "name": "stdout",
     "output_type": "stream",
     "text": [
      "Model: \"sequential\"\n",
      "_________________________________________________________________\n",
      "Layer (type)                 Output Shape              Param #   \n",
      "=================================================================\n",
      "conv2d (Conv2D)              (None, 30, 30, 96)        34944     \n",
      "_________________________________________________________________\n",
      "batch_normalization (BatchNo (None, 30, 30, 96)        384       \n",
      "_________________________________________________________________\n",
      "max_pooling2d (MaxPooling2D) (None, 14, 14, 96)        0         \n",
      "_________________________________________________________________\n",
      "conv2d_1 (Conv2D)            (None, 14, 14, 256)       614656    \n",
      "_________________________________________________________________\n",
      "batch_normalization_1 (Batch (None, 14, 14, 256)       1024      \n",
      "_________________________________________________________________\n",
      "max_pooling2d_1 (MaxPooling2 (None, 6, 6, 256)         0         \n",
      "_________________________________________________________________\n",
      "conv2d_2 (Conv2D)            (None, 6, 6, 384)         885120    \n",
      "_________________________________________________________________\n",
      "batch_normalization_2 (Batch (None, 6, 6, 384)         1536      \n",
      "_________________________________________________________________\n",
      "conv2d_3 (Conv2D)            (None, 6, 6, 384)         1327488   \n",
      "_________________________________________________________________\n",
      "batch_normalization_3 (Batch (None, 6, 6, 384)         1536      \n",
      "_________________________________________________________________\n",
      "conv2d_4 (Conv2D)            (None, 6, 6, 256)         884992    \n",
      "_________________________________________________________________\n",
      "batch_normalization_4 (Batch (None, 6, 6, 256)         1024      \n",
      "_________________________________________________________________\n",
      "max_pooling2d_2 (MaxPooling2 (None, 2, 2, 256)         0         \n",
      "_________________________________________________________________\n",
      "flatten (Flatten)            (None, 1024)              0         \n",
      "_________________________________________________________________\n",
      "dense (Dense)                (None, 4096)              4198400   \n",
      "_________________________________________________________________\n",
      "dropout (Dropout)            (None, 4096)              0         \n",
      "_________________________________________________________________\n",
      "dense_1 (Dense)              (None, 4096)              16781312  \n",
      "_________________________________________________________________\n",
      "dropout_1 (Dropout)          (None, 4096)              0         \n",
      "_________________________________________________________________\n",
      "dense_2 (Dense)              (None, 5)                 20485     \n",
      "=================================================================\n",
      "Total params: 24,752,901\n",
      "Trainable params: 24,750,149\n",
      "Non-trainable params: 2,752\n",
      "_________________________________________________________________\n"
     ]
    }
   ],
   "source": [
    "\n",
    "\n",
    "m1 = keras.models.Sequential([\n",
    "    keras.layers.Conv2D(filters=96, kernel_size=(11,11), strides=(4,4), activation='relu', input_shape=(SIZE_X, SIZE_Y, 3)),\n",
    "    keras.layers.BatchNormalization(),\n",
    "    keras.layers.MaxPool2D(pool_size=(3,3), strides=(2,2)),\n",
    "    keras.layers.Conv2D(filters=256, kernel_size=(5,5), strides=(1,1), activation='relu', padding=\"same\"),\n",
    "    keras.layers.BatchNormalization(),\n",
    "    keras.layers.MaxPool2D(pool_size=(3,3), strides=(2,2)),\n",
    "    keras.layers.Conv2D(filters=384, kernel_size=(3,3), strides=(1,1), activation='relu', padding=\"same\"),\n",
    "    keras.layers.BatchNormalization(),\n",
    "    keras.layers.Conv2D(filters=384, kernel_size=(3,3), strides=(1,1), activation='relu', padding=\"same\"),\n",
    "    keras.layers.BatchNormalization(),\n",
    "    keras.layers.Conv2D(filters=256, kernel_size=(3,3), strides=(1,1), activation='relu', padding=\"same\"),\n",
    "    keras.layers.BatchNormalization(),\n",
    "    keras.layers.MaxPool2D(pool_size=(3,3), strides=(2,2)),\n",
    "    keras.layers.Flatten(),\n",
    "    keras.layers.Dense(4096, activation='relu'),\n",
    "    keras.layers.Dropout(0.5),\n",
    "    keras.layers.Dense(4096, activation='relu'),\n",
    "    keras.layers.Dropout(0.5),\n",
    "    keras.layers.Dense(5, activation='softmax')\n",
    "])\n",
    "\n",
    "\n",
    "m1.summary()\n",
    "m1.compile(loss='categorical_crossentropy', optimizer='adam', metrics=['accuracy'])"
   ]
  },
  {
   "cell_type": "code",
   "execution_count": null,
   "metadata": {},
   "outputs": [],
   "source": []
  },
  {
   "cell_type": "markdown",
   "metadata": {
    "id": "6aAVYS26t6c3"
   },
   "source": [
    "### 4. Model Training\n"
   ]
  },
  {
   "cell_type": "code",
   "execution_count": 17,
   "metadata": {
    "id": "LGT4MVY3tkyz"
   },
   "outputs": [
    {
     "name": "stdout",
     "output_type": "stream",
     "text": [
      "Epoch 1/150\n",
      "334/334 [==============================] - 8s 15ms/step - loss: 1.5107 - accuracy: 0.5457 - val_loss: 0.8774 - val_accuracy: 0.6215\n",
      "Epoch 2/150\n",
      "334/334 [==============================] - 4s 13ms/step - loss: 0.7389 - accuracy: 0.6827 - val_loss: 0.8117 - val_accuracy: 0.6622\n",
      "Epoch 3/150\n",
      "334/334 [==============================] - 4s 13ms/step - loss: 0.6218 - accuracy: 0.7398 - val_loss: 0.8755 - val_accuracy: 0.6798\n",
      "Epoch 4/150\n",
      "334/334 [==============================] - 4s 13ms/step - loss: 0.5257 - accuracy: 0.7853 - val_loss: 1.0498 - val_accuracy: 0.6594\n",
      "Epoch 5/150\n",
      "334/334 [==============================] - 4s 13ms/step - loss: 0.4439 - accuracy: 0.8206 - val_loss: 0.5941 - val_accuracy: 0.7809\n",
      "Epoch 6/150\n",
      "334/334 [==============================] - 4s 13ms/step - loss: 0.3976 - accuracy: 0.8388 - val_loss: 0.9064 - val_accuracy: 0.6847\n",
      "Epoch 7/150\n",
      "334/334 [==============================] - 4s 13ms/step - loss: 0.3380 - accuracy: 0.8648 - val_loss: 0.3432 - val_accuracy: 0.8546\n",
      "Epoch 8/150\n",
      "334/334 [==============================] - 4s 13ms/step - loss: 0.3138 - accuracy: 0.8752 - val_loss: 0.4848 - val_accuracy: 0.8427\n",
      "Epoch 9/150\n",
      "334/334 [==============================] - 4s 13ms/step - loss: 0.2889 - accuracy: 0.8868 - val_loss: 0.4386 - val_accuracy: 0.8624\n",
      "Epoch 10/150\n",
      "334/334 [==============================] - 4s 13ms/step - loss: 0.2501 - accuracy: 0.9070 - val_loss: 0.3737 - val_accuracy: 0.8581\n",
      "Epoch 11/150\n",
      "334/334 [==============================] - 4s 13ms/step - loss: 0.2319 - accuracy: 0.9146 - val_loss: 0.3262 - val_accuracy: 0.8940\n",
      "Epoch 12/150\n",
      "334/334 [==============================] - 4s 13ms/step - loss: 0.2059 - accuracy: 0.9229 - val_loss: 0.7572 - val_accuracy: 0.7816\n",
      "Epoch 13/150\n",
      "334/334 [==============================] - 4s 13ms/step - loss: 0.1958 - accuracy: 0.9299 - val_loss: 0.3654 - val_accuracy: 0.8806\n",
      "Epoch 14/150\n",
      "334/334 [==============================] - 4s 13ms/step - loss: 0.1722 - accuracy: 0.9379 - val_loss: 0.4006 - val_accuracy: 0.8827\n",
      "Epoch 15/150\n",
      "334/334 [==============================] - 4s 13ms/step - loss: 0.1801 - accuracy: 0.9347 - val_loss: 0.8388 - val_accuracy: 0.7739\n",
      "Epoch 16/150\n",
      "334/334 [==============================] - 4s 13ms/step - loss: 0.1452 - accuracy: 0.9467 - val_loss: 0.4095 - val_accuracy: 0.9087\n",
      "Epoch 17/150\n",
      "334/334 [==============================] - 4s 13ms/step - loss: 0.1508 - accuracy: 0.9473 - val_loss: 0.3348 - val_accuracy: 0.8933\n",
      "Epoch 18/150\n",
      "334/334 [==============================] - 4s 13ms/step - loss: 0.1225 - accuracy: 0.9578 - val_loss: 1.2099 - val_accuracy: 0.7676\n",
      "Epoch 19/150\n",
      "334/334 [==============================] - 4s 13ms/step - loss: 0.1339 - accuracy: 0.9553 - val_loss: 0.4558 - val_accuracy: 0.8912\n",
      "Epoch 20/150\n",
      "334/334 [==============================] - 4s 13ms/step - loss: 0.1278 - accuracy: 0.9569 - val_loss: 0.3614 - val_accuracy: 0.9080\n",
      "Epoch 21/150\n",
      "334/334 [==============================] - 4s 13ms/step - loss: 0.1139 - accuracy: 0.9622 - val_loss: 0.3649 - val_accuracy: 0.9045\n",
      "Epoch 22/150\n",
      "334/334 [==============================] - 4s 13ms/step - loss: 0.0808 - accuracy: 0.9721 - val_loss: 0.3603 - val_accuracy: 0.9073\n",
      "Epoch 23/150\n",
      "334/334 [==============================] - 4s 13ms/step - loss: 0.1002 - accuracy: 0.9679 - val_loss: 0.5186 - val_accuracy: 0.8792\n",
      "Epoch 24/150\n",
      "334/334 [==============================] - 4s 13ms/step - loss: 0.0961 - accuracy: 0.9700 - val_loss: 0.6639 - val_accuracy: 0.9003\n",
      "Epoch 25/150\n",
      "334/334 [==============================] - 4s 13ms/step - loss: 0.1058 - accuracy: 0.9674 - val_loss: 0.4506 - val_accuracy: 0.9017\n",
      "Epoch 26/150\n",
      "334/334 [==============================] - 4s 13ms/step - loss: 0.0816 - accuracy: 0.9759 - val_loss: 0.3129 - val_accuracy: 0.9206\n",
      "Epoch 27/150\n",
      "334/334 [==============================] - 4s 13ms/step - loss: 0.0806 - accuracy: 0.9753 - val_loss: 0.5934 - val_accuracy: 0.8989\n",
      "Epoch 28/150\n",
      "334/334 [==============================] - 4s 13ms/step - loss: 0.0892 - accuracy: 0.9711 - val_loss: 0.4209 - val_accuracy: 0.9101\n",
      "Epoch 29/150\n",
      "334/334 [==============================] - 4s 13ms/step - loss: 0.0767 - accuracy: 0.9771 - val_loss: 0.3771 - val_accuracy: 0.9143\n",
      "Epoch 30/150\n",
      "334/334 [==============================] - 4s 13ms/step - loss: 0.0518 - accuracy: 0.9839 - val_loss: 0.3865 - val_accuracy: 0.9242\n",
      "Epoch 31/150\n",
      "334/334 [==============================] - 4s 13ms/step - loss: 0.0684 - accuracy: 0.9803 - val_loss: 0.2874 - val_accuracy: 0.9347\n",
      "Epoch 32/150\n",
      "334/334 [==============================] - 4s 13ms/step - loss: 0.0700 - accuracy: 0.9790 - val_loss: 0.3128 - val_accuracy: 0.9305\n",
      "Epoch 33/150\n",
      "334/334 [==============================] - 4s 13ms/step - loss: 0.0677 - accuracy: 0.9807 - val_loss: 0.2307 - val_accuracy: 0.9319\n",
      "Epoch 34/150\n",
      "334/334 [==============================] - 4s 13ms/step - loss: 0.0387 - accuracy: 0.9875 - val_loss: 0.5872 - val_accuracy: 0.9206\n",
      "Epoch 35/150\n",
      "334/334 [==============================] - 4s 13ms/step - loss: 0.0779 - accuracy: 0.9786 - val_loss: 0.3466 - val_accuracy: 0.9031\n",
      "Epoch 36/150\n",
      "334/334 [==============================] - 4s 13ms/step - loss: 0.0554 - accuracy: 0.9842 - val_loss: 0.5960 - val_accuracy: 0.8989\n",
      "Epoch 37/150\n",
      "334/334 [==============================] - 4s 13ms/step - loss: 0.0762 - accuracy: 0.9799 - val_loss: 0.4651 - val_accuracy: 0.9150\n",
      "Epoch 38/150\n",
      "334/334 [==============================] - 4s 13ms/step - loss: 0.0461 - accuracy: 0.9868 - val_loss: 0.4055 - val_accuracy: 0.9347\n",
      "Epoch 39/150\n",
      "334/334 [==============================] - 4s 13ms/step - loss: 0.0467 - accuracy: 0.9879 - val_loss: 0.7067 - val_accuracy: 0.9094\n",
      "Epoch 40/150\n",
      "334/334 [==============================] - 4s 13ms/step - loss: 0.0600 - accuracy: 0.9836 - val_loss: 0.3349 - val_accuracy: 0.9256\n",
      "Epoch 41/150\n",
      "334/334 [==============================] - 4s 13ms/step - loss: 0.0766 - accuracy: 0.9813 - val_loss: 0.3630 - val_accuracy: 0.9291\n",
      "Epoch 42/150\n",
      "334/334 [==============================] - 4s 13ms/step - loss: 0.0466 - accuracy: 0.9873 - val_loss: 0.4481 - val_accuracy: 0.9136\n",
      "Epoch 43/150\n",
      "334/334 [==============================] - 4s 13ms/step - loss: 0.0570 - accuracy: 0.9858 - val_loss: 0.6657 - val_accuracy: 0.9024\n",
      "Epoch 44/150\n",
      "334/334 [==============================] - 4s 13ms/step - loss: 0.0368 - accuracy: 0.9904 - val_loss: 0.5003 - val_accuracy: 0.9249\n",
      "Epoch 45/150\n",
      "334/334 [==============================] - 4s 13ms/step - loss: 0.0427 - accuracy: 0.9876 - val_loss: 1.5109 - val_accuracy: 0.8104\n",
      "Epoch 46/150\n",
      "334/334 [==============================] - 4s 13ms/step - loss: 0.0665 - accuracy: 0.9845 - val_loss: 0.4335 - val_accuracy: 0.9263\n",
      "Epoch 47/150\n",
      "334/334 [==============================] - 4s 13ms/step - loss: 0.0463 - accuracy: 0.9870 - val_loss: 0.3715 - val_accuracy: 0.9347\n",
      "Epoch 48/150\n",
      "334/334 [==============================] - 4s 13ms/step - loss: 0.0518 - accuracy: 0.9891 - val_loss: 0.5382 - val_accuracy: 0.9059\n",
      "Epoch 49/150\n",
      "334/334 [==============================] - 4s 13ms/step - loss: 0.0383 - accuracy: 0.9905 - val_loss: 0.5805 - val_accuracy: 0.9291\n",
      "Epoch 50/150\n",
      "334/334 [==============================] - 4s 13ms/step - loss: 0.0268 - accuracy: 0.9928 - val_loss: 0.4130 - val_accuracy: 0.9347\n",
      "Epoch 51/150\n",
      "334/334 [==============================] - 4s 13ms/step - loss: 0.0245 - accuracy: 0.9941 - val_loss: 0.5213 - val_accuracy: 0.9333\n",
      "Epoch 52/150\n",
      "334/334 [==============================] - 4s 13ms/step - loss: 0.0510 - accuracy: 0.9883 - val_loss: 0.4998 - val_accuracy: 0.9178\n",
      "Epoch 53/150\n",
      "334/334 [==============================] - 4s 13ms/step - loss: 0.0412 - accuracy: 0.9898 - val_loss: 0.3717 - val_accuracy: 0.9312\n",
      "Epoch 54/150\n",
      "334/334 [==============================] - 4s 13ms/step - loss: 0.0429 - accuracy: 0.9889 - val_loss: 0.5114 - val_accuracy: 0.9333\n",
      "Epoch 55/150\n",
      "334/334 [==============================] - 4s 13ms/step - loss: 0.0268 - accuracy: 0.9933 - val_loss: 0.4318 - val_accuracy: 0.9242\n",
      "Epoch 56/150\n",
      "334/334 [==============================] - 4s 13ms/step - loss: 0.0567 - accuracy: 0.9872 - val_loss: 0.3684 - val_accuracy: 0.9375\n",
      "Epoch 57/150\n"
     ]
    },
    {
     "name": "stdout",
     "output_type": "stream",
     "text": [
      "334/334 [==============================] - 4s 13ms/step - loss: 0.0118 - accuracy: 0.9972 - val_loss: 0.6021 - val_accuracy: 0.9382\n",
      "Epoch 58/150\n",
      "334/334 [==============================] - 4s 13ms/step - loss: 0.0332 - accuracy: 0.9911 - val_loss: 0.4613 - val_accuracy: 0.9305\n",
      "Epoch 59/150\n",
      "334/334 [==============================] - 4s 13ms/step - loss: 0.0501 - accuracy: 0.9888 - val_loss: 0.4610 - val_accuracy: 0.9368\n",
      "Epoch 60/150\n",
      "334/334 [==============================] - 4s 13ms/step - loss: 0.0406 - accuracy: 0.9914 - val_loss: 0.5052 - val_accuracy: 0.9305\n",
      "Epoch 61/150\n",
      "334/334 [==============================] - 4s 13ms/step - loss: 0.0214 - accuracy: 0.9950 - val_loss: 0.5401 - val_accuracy: 0.9347\n",
      "Epoch 62/150\n",
      "334/334 [==============================] - 4s 13ms/step - loss: 0.0366 - accuracy: 0.9925 - val_loss: 0.7041 - val_accuracy: 0.9164\n",
      "Epoch 63/150\n",
      "334/334 [==============================] - 4s 13ms/step - loss: 0.0188 - accuracy: 0.9957 - val_loss: 0.4317 - val_accuracy: 0.9410\n",
      "Epoch 64/150\n",
      "334/334 [==============================] - 4s 13ms/step - loss: 0.0504 - accuracy: 0.9903 - val_loss: 0.5633 - val_accuracy: 0.9164\n",
      "Epoch 65/150\n",
      "334/334 [==============================] - 4s 13ms/step - loss: 0.0341 - accuracy: 0.9911 - val_loss: 0.5838 - val_accuracy: 0.9382\n",
      "Epoch 66/150\n",
      "334/334 [==============================] - 4s 13ms/step - loss: 0.0222 - accuracy: 0.9948 - val_loss: 0.3901 - val_accuracy: 0.9340\n",
      "Epoch 67/150\n",
      "334/334 [==============================] - 4s 13ms/step - loss: 0.0336 - accuracy: 0.9923 - val_loss: 0.3979 - val_accuracy: 0.9417\n",
      "Epoch 68/150\n",
      "334/334 [==============================] - 4s 13ms/step - loss: 0.0198 - accuracy: 0.9952 - val_loss: 0.4093 - val_accuracy: 0.9501\n",
      "Epoch 69/150\n",
      "334/334 [==============================] - 4s 13ms/step - loss: 0.0290 - accuracy: 0.9927 - val_loss: 0.7171 - val_accuracy: 0.9312\n",
      "Epoch 70/150\n",
      "334/334 [==============================] - 4s 13ms/step - loss: 0.0244 - accuracy: 0.9945 - val_loss: 0.7328 - val_accuracy: 0.9347\n",
      "Epoch 71/150\n",
      "334/334 [==============================] - 4s 13ms/step - loss: 0.0352 - accuracy: 0.9916 - val_loss: 0.4211 - val_accuracy: 0.9319\n",
      "Epoch 72/150\n",
      "334/334 [==============================] - 4s 13ms/step - loss: 0.0217 - accuracy: 0.9944 - val_loss: 0.9300 - val_accuracy: 0.9164\n",
      "Epoch 73/150\n",
      "334/334 [==============================] - 4s 13ms/step - loss: 0.0359 - accuracy: 0.9942 - val_loss: 0.4919 - val_accuracy: 0.9284\n",
      "Epoch 74/150\n",
      "334/334 [==============================] - 4s 13ms/step - loss: 0.0407 - accuracy: 0.9923 - val_loss: 0.4750 - val_accuracy: 0.9305\n",
      "Epoch 75/150\n",
      "334/334 [==============================] - 4s 13ms/step - loss: 0.0407 - accuracy: 0.9928 - val_loss: 0.4603 - val_accuracy: 0.9263\n",
      "Epoch 76/150\n",
      "334/334 [==============================] - 4s 13ms/step - loss: 0.0310 - accuracy: 0.9931 - val_loss: 2.6574 - val_accuracy: 0.8757\n",
      "Epoch 77/150\n",
      "334/334 [==============================] - 4s 13ms/step - loss: 0.0242 - accuracy: 0.9957 - val_loss: 0.5408 - val_accuracy: 0.9354\n",
      "Epoch 78/150\n",
      "334/334 [==============================] - 4s 13ms/step - loss: 0.0176 - accuracy: 0.9960 - val_loss: 0.5446 - val_accuracy: 0.9256\n",
      "Epoch 79/150\n",
      "334/334 [==============================] - 4s 13ms/step - loss: 0.0192 - accuracy: 0.9946 - val_loss: 0.8075 - val_accuracy: 0.9319\n",
      "Epoch 80/150\n",
      "334/334 [==============================] - 4s 13ms/step - loss: 0.0122 - accuracy: 0.9967 - val_loss: 0.6989 - val_accuracy: 0.9382\n"
     ]
    },
    {
     "data": {
      "text/plain": [
       "<keras.callbacks.History at 0x25de904aca0>"
      ]
     },
     "execution_count": 17,
     "metadata": {},
     "output_type": "execute_result"
    }
   ],
   "source": [
    "from tensorflow.keras.callbacks import EarlyStopping\n",
    "early_stop = EarlyStopping(monitor = 'loss', patience = 23 )\n",
    "\n",
    "m1.fit(X_train,y_train,epochs=150,batch_size=32, validation_data=(X_val,y_val), callbacks = [early_stop], verbose=1)"
   ]
  },
  {
   "cell_type": "code",
   "execution_count": 18,
   "metadata": {
    "id": "d6OA7oX-yByT"
   },
   "outputs": [],
   "source": [
    "# Get training history\n",
    "metrics = pd.DataFrame(m1.history.history)"
   ]
  },
  {
   "cell_type": "code",
   "execution_count": 19,
   "metadata": {},
   "outputs": [],
   "source": [
    "import os\n",
    "exp_num = []\n",
    "if not os.path.exists(\"./experiments\"):\n",
    "    os.mkdir(\"./experiments\")\n",
    "folders = os.listdir(\"./experiments\")\n",
    "for folder in folders:\n",
    "    exp_num.append(int(folder.split(\"#\")[1]))\n",
    "\n",
    "\n",
    "if len(exp_num) == 0:\n",
    "    exp_path = r\"./experiments/exp#1\"\n",
    "else:\n",
    "    exp_path = r\"./experiments/exp#\"+str(max(exp_num)+1)\n",
    "\n",
    "\n",
    "\n",
    "\n",
    "os.mkdir(exp_path)\n",
    "os.mkdir(os.path.join(exp_path, \"results\"))\n",
    "os.mkdir(os.path.join(exp_path, \"weights\"))\n",
    "\n",
    "results = os.path.join(exp_path, \"results\")\n",
    "weights = os.path.join(exp_path, \"weights\")"
   ]
  },
  {
   "cell_type": "code",
   "execution_count": 20,
   "metadata": {},
   "outputs": [
    {
     "name": "stdout",
     "output_type": "stream",
     "text": [
      "./experiments/exp#2\\results\n"
     ]
    }
   ],
   "source": [
    "print(results)"
   ]
  },
  {
   "cell_type": "code",
   "execution_count": 21,
   "metadata": {
    "id": "vs5CCwj993FX"
   },
   "outputs": [
    {
     "name": "stdout",
     "output_type": "stream",
     "text": [
      "67/67 [==============================] - 1s 7ms/step - loss: 0.7280 - accuracy: 0.9307\n"
     ]
    }
   ],
   "source": [
    "# Save The Trained model along with it training history   \n",
    "Accuracy = m1.evaluate(X_test, y_test)[-1]\n",
    "name = str(round(Accuracy, 4))\n",
    "\n",
    "metrics.to_pickle(os.path.join(results, name+'.pkl'))\n",
    "m1.save(os.path.join(weights, name + '.h5'))"
   ]
  },
  {
   "cell_type": "code",
   "execution_count": 22,
   "metadata": {
    "id": "5F7i-oCwytup",
    "scrolled": true
   },
   "outputs": [
    {
     "data": {
      "image/png": "[encoded data removed]",
      "text/plain": [
       "<Figure size 720x504 with 1 Axes>"
      ]
     },
     "metadata": {
      "needs_background": "light"
     },
     "output_type": "display_data"
    },
    {
     "data": {
      "image/png": "[encoded data removed]",
      "text/plain": [
       "<Figure size 720x504 with 1 Axes>"
      ]
     },
     "metadata": {
      "needs_background": "light"
     },
     "output_type": "display_data"
    }
   ],
   "source": [
    "## Dispaly the plot of \n",
    "rows = 2\n",
    "columns = 1\n",
    "  \n",
    "# Display Train loss vs Validation loss at each Epoch\n",
    "fig = plt.figure(figsize=(10, 7))\n",
    "fig.add_subplot(rows, columns, 1)\n",
    "plt.plot(metrics['loss'])\n",
    "plt.plot(metrics['val_loss'])\n",
    "plt.title('Model Loss')\n",
    "plt.ylabel('loss')\n",
    "plt.xlabel('epoch')\n",
    "plt.legend(['train', 'val'], loc='upper left')\n",
    "plt.savefig(os.path.join(results, 'loss_epoch.png'))\n",
    "plt.show()\n",
    "\n",
    "  \n",
    "# Display Train loss vs Validation loss at each Epoch\n",
    "fig = plt.figure(figsize=(10, 7))\n",
    "fig.add_subplot(rows, columns, 2)\n",
    "plt.plot(metrics['accuracy'])\n",
    "plt.plot(metrics['val_accuracy'])\n",
    "plt.title('Model Accuracy')\n",
    "plt.ylabel('accuracy')\n",
    "plt.xlabel('epoch')\n",
    "plt.legend(['train', 'val'], loc='upper left')\n",
    "plt.savefig(os.path.join(results, 'acc_epoch.png'))\n",
    "plt.show()\n",
    "\n"
   ]
  },
  {
   "cell_type": "code",
   "execution_count": 23,
   "metadata": {
    "id": "HQOKaA8zfv4K"
   },
   "outputs": [],
   "source": [
    "## Get the \n",
    "predict_x = m1.predict(X_test) \n",
    "predictions = np.argmax(predict_x,axis=1) "
   ]
  },
  {
   "cell_type": "code",
   "execution_count": 24,
   "metadata": {
    "id": "xy9_ZzsYkByi"
   },
   "outputs": [],
   "source": [
    "# Decode the Model's predections  (from [0,1,0,2..] to ['Glioma','Meningioma'...]) of the Test set using the the dictionary 'decode_dict' \n",
    "predictions = np.vectorize(decode_dict.get)(predictions)"
   ]
  },
  {
   "cell_type": "code",
   "execution_count": 25,
   "metadata": {
    "id": "IVYX1MCzjx00"
   },
   "outputs": [
    {
     "name": "stdout",
     "output_type": "stream",
     "text": [
      "              precision    recall  f1-score   support\n",
      "\n",
      "   Glioma II       0.86      0.89      0.87       428\n",
      "  Glioma III       0.92      0.90      0.91       356\n",
      "   Glioma VI       0.89      0.87      0.88       420\n",
      "  Meningioma       1.00      0.98      0.99       456\n",
      "   Pituitary       0.98      1.00      0.99       476\n",
      "\n",
      "    accuracy                           0.93      2136\n",
      "   macro avg       0.93      0.93      0.93      2136\n",
      "weighted avg       0.93      0.93      0.93      2136\n",
      "\n"
     ]
    }
   ],
   "source": [
    "print(classification_report(y_test_eval, predictions))"
   ]
  },
  {
   "cell_type": "code",
   "execution_count": 26,
   "metadata": {
    "id": "HOVPJjy0udhD"
   },
   "outputs": [
    {
     "data": {
      "image/png": "[encoded data removed]",
      "text/plain": [
       "<Figure size 720x504 with 2 Axes>"
      ]
     },
     "metadata": {
      "needs_background": "light"
     },
     "output_type": "display_data"
    }
   ],
   "source": [
    "labels = sorted([\"Glioma II\", \"Glioma III\", \"Glioma VI\", \"Meningioma\", \"Pituitary\"])\n",
    "\n",
    "cm = pd.DataFrame(confusion_matrix(y_test_eval, predictions), index=labels, columns=labels)\n",
    "plt.figure(figsize = (10,7))\n",
    "plt.title('Confusion matrix')\n",
    "sns.heatmap(cm, annot=True, cmap=\"PuBu\",fmt = 'd')\n",
    "plt.ylabel('True labels')\n",
    "plt.xlabel('Predicted labels')\n",
    "plt.savefig(os.path.join(results, 'confusion_matrix.png'))\n",
    "plt.show()"
   ]
  },
  {
   "cell_type": "code",
   "execution_count": null,
   "metadata": {
    "id": "7_fru9v4mHup"
   },
   "outputs": [],
   "source": []
  },
  {
   "cell_type": "code",
   "execution_count": null,
   "metadata": {},
   "outputs": [],
   "source": []
  },
  {
   "cell_type": "code",
   "execution_count": null,
   "metadata": {},
   "outputs": [],
   "source": []
  }
 ],
 "metadata": {
  "accelerator": "GPU",
  "colab": {
   "collapsed_sections": [],
   "name": "5_labels_model_v1.ipynb",
   "provenance": []
  },
  "kernelspec": {
   "display_name": "Python 3 (ipykernel)",
   "language": "python",
   "name": "python3"
  },
  "language_info": {
   "codemirror_mode": {
    "name": "ipython",
    "version": 3
   },
   "file_extension": ".py",
   "mimetype": "text/x-python",
   "name": "python",
   "nbconvert_exporter": "python",
   "pygments_lexer": "ipython3",
   "version": "3.9.7"
  }
 },
 "nbformat": 4,
 "nbformat_minor": 1
}
