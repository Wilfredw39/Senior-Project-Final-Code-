{
 "cells": [
  {
   "cell_type": "markdown",
   "metadata": {
    "id": "vt51_KACTdGf"
   },
   "source": [
    "## 0. Setting up the Environment\n"
   ]
  },
  {
   "cell_type": "code",
   "execution_count": 1,
   "metadata": {
    "colab": {
     "base_uri": "https://localhost:8080/"
    },
    "id": "D4Z6Zv3PSOcg",
    "outputId": "b87040f7-50f1-4633-bcd9-415194d37d2e"
   },
   "outputs": [],
   "source": [
    "## impoort labaries \n",
    "import os \n",
    "import cv2\n",
    "import mat73\n",
    "import time\n",
    "import keras\n",
    "import pandas as pd\n",
    "import numpy as np \n",
    "import seaborn as sns\n",
    "import skimage\n",
    "import tensorflow as tf\n",
    "import matplotlib.pyplot as plt\n",
    "from PIL import Image, ImageOps \n",
    "from skimage.transform import resize\n",
    "from keras.models import Sequential\n",
    "from tensorflow.keras import optimizers\n",
    "from tqdm.notebook import tqdm_notebook as tqdm\n",
    "from sklearn.metrics import classification_report, confusion_matrix\n",
    "from keras.layers import Conv2D, MaxPooling2D, Flatten, Dense, Dropout, BatchNormalization,  Convolution2D"
   ]
  },
  {
   "cell_type": "markdown",
   "metadata": {
    "id": "sYWmkuxOWtm4"
   },
   "source": [
    "## 1. Data Importing "
   ]
  },
  {
   "cell_type": "code",
   "execution_count": 2,
   "metadata": {},
   "outputs": [],
   "source": [
    "SIZE_X = 128\n",
    "SIZE_Y = 128\n",
    "SIZE_Z = 3\n",
    "CLASS_NUM = 6\n",
    "\n",
    "aug_train_DF = pd.read_pickle(r\"../../../Datasets/Dataset_B_2/aug_train_DF_{}.pkl\".format(SIZE_X))\n",
    "aug_val_DF = pd.read_pickle(r\"../../../Datasets/Dataset_B_2/aug_val_DF_{}.pkl\".format(SIZE_X))\n",
    "aug_test_DF = pd.read_pickle(r\"../../../Datasets/Dataset_B_2/aug_test_DF_{}.pkl\".format(SIZE_X))"
   ]
  },
  {
   "cell_type": "code",
   "execution_count": 3,
   "metadata": {
    "colab": {
     "background_save": true
    },
    "id": "kaaNJb4nR5Z5",
    "outputId": "229fd2a5-846a-4168-abdf-2db9f91c282d"
   },
   "outputs": [
    {
     "data": {
      "text/html": [
       "<div>\n",
       "<style scoped>\n",
       "    .dataframe tbody tr th:only-of-type {\n",
       "        vertical-align: middle;\n",
       "    }\n",
       "\n",
       "    .dataframe tbody tr th {\n",
       "        vertical-align: top;\n",
       "    }\n",
       "\n",
       "    .dataframe thead th {\n",
       "        text-align: right;\n",
       "    }\n",
       "</style>\n",
       "<table border=\"1\" class=\"dataframe\">\n",
       "  <thead>\n",
       "    <tr style=\"text-align: right;\">\n",
       "      <th></th>\n",
       "      <th>PID</th>\n",
       "      <th>Label</th>\n",
       "      <th>Image</th>\n",
       "      <th>File</th>\n",
       "    </tr>\n",
       "  </thead>\n",
       "  <tbody>\n",
       "    <tr>\n",
       "      <th>2660</th>\n",
       "      <td>Heatly_dataset_#998</td>\n",
       "      <td>No tumor</td>\n",
       "      <td>[[0.0, 0.0, 0.0, 0.0, 0.0, 0.0, 0.0, 0.0, 0.0,...</td>\n",
       "      <td>no964.jpg</td>\n",
       "    </tr>\n",
       "    <tr>\n",
       "      <th>5018</th>\n",
       "      <td>HF1538</td>\n",
       "      <td>Glioma VI</td>\n",
       "      <td>[[0.0, 0.0, 0.0, 0.0, 0.0, 0.0, 0.0, 0.0, 0.0,...</td>\n",
       "      <td>D:\\Datasets\\manifest-tXudPFfp43472957274060920...</td>\n",
       "    </tr>\n",
       "    <tr>\n",
       "      <th>7397</th>\n",
       "      <td>Heatly_dataset_#998</td>\n",
       "      <td>No tumor</td>\n",
       "      <td>[[0.0, 0.0, 0.0, 0.0, 0.0, 0.0, 0.0, 0.0, 0.0,...</td>\n",
       "      <td>no635.jpg</td>\n",
       "    </tr>\n",
       "    <tr>\n",
       "      <th>12496</th>\n",
       "      <td>HF1185</td>\n",
       "      <td>Glioma III</td>\n",
       "      <td>[[0.0, 0.0, 0.0, 0.0, 0.0, 0.0, 0.0, 0.0, 0.0,...</td>\n",
       "      <td>D:\\Datasets\\manifest-tXudPFfp43472957274060920...</td>\n",
       "    </tr>\n",
       "    <tr>\n",
       "      <th>6365</th>\n",
       "      <td>114018</td>\n",
       "      <td>Meningioma</td>\n",
       "      <td>[[0.0, 0.0, 0.0, 0.0, 0.0, 0.0, 0.0, 0.0, 0.0,...</td>\n",
       "      <td>642.mat</td>\n",
       "    </tr>\n",
       "  </tbody>\n",
       "</table>\n",
       "</div>"
      ],
      "text/plain": [
       "                       PID       Label  \\\n",
       "2660   Heatly_dataset_#998    No tumor   \n",
       "5018                HF1538   Glioma VI   \n",
       "7397   Heatly_dataset_#998    No tumor   \n",
       "12496               HF1185  Glioma III   \n",
       "6365                114018  Meningioma   \n",
       "\n",
       "                                                   Image  \\\n",
       "2660   [[0.0, 0.0, 0.0, 0.0, 0.0, 0.0, 0.0, 0.0, 0.0,...   \n",
       "5018   [[0.0, 0.0, 0.0, 0.0, 0.0, 0.0, 0.0, 0.0, 0.0,...   \n",
       "7397   [[0.0, 0.0, 0.0, 0.0, 0.0, 0.0, 0.0, 0.0, 0.0,...   \n",
       "12496  [[0.0, 0.0, 0.0, 0.0, 0.0, 0.0, 0.0, 0.0, 0.0,...   \n",
       "6365   [[0.0, 0.0, 0.0, 0.0, 0.0, 0.0, 0.0, 0.0, 0.0,...   \n",
       "\n",
       "                                                    File  \n",
       "2660                                           no964.jpg  \n",
       "5018   D:\\Datasets\\manifest-tXudPFfp43472957274060920...  \n",
       "7397                                           no635.jpg  \n",
       "12496  D:\\Datasets\\manifest-tXudPFfp43472957274060920...  \n",
       "6365                                             642.mat  "
      ]
     },
     "execution_count": 3,
     "metadata": {},
     "output_type": "execute_result"
    }
   ],
   "source": [
    "## Combain the df with the Pitutary & Meningioma types with the dataframe of the Glioma grades (I, II,, IV).\n",
    "pd.concat([aug_train_DF, aug_val_DF, aug_test_DF], axis=0, ignore_index = True).sample(5)"
   ]
  },
  {
   "cell_type": "code",
   "execution_count": 4,
   "metadata": {},
   "outputs": [
    {
     "name": "stdout",
     "output_type": "stream",
     "text": [
      "<class 'pandas.core.frame.DataFrame'>\n",
      "RangeIndex: 18612 entries, 0 to 18611\n",
      "Data columns (total 4 columns):\n",
      " #   Column  Non-Null Count  Dtype \n",
      "---  ------  --------------  ----- \n",
      " 0   PID     18612 non-null  object\n",
      " 1   Label   18612 non-null  object\n",
      " 2   Image   18612 non-null  object\n",
      " 3   File    18612 non-null  object\n",
      "dtypes: object(4)\n",
      "memory usage: 581.8+ KB\n"
     ]
    }
   ],
   "source": [
    "pd.concat([aug_train_DF, aug_val_DF, aug_test_DF], axis=0, ignore_index = True).info(5)"
   ]
  },
  {
   "cell_type": "code",
   "execution_count": 5,
   "metadata": {
    "colab": {
     "background_save": true
    },
    "id": "uJEttBBOU9IN",
    "outputId": "d176e92f-d35f-4f92-a264-ead1e87244e6"
   },
   "outputs": [
    {
     "name": "stderr",
     "output_type": "stream",
     "text": [
      "C:\\Users\\Ma7moud\\anaconda3\\envs\\T-UNet\\lib\\site-packages\\seaborn\\_decorators.py:36: FutureWarning: Pass the following variable as a keyword arg: x. From version 0.12, the only valid positional argument will be `data`, and passing other arguments without an explicit keyword will result in an error or misinterpretation.\n",
      "  warnings.warn(\n"
     ]
    },
    {
     "data": {
      "image/png": "[encoded data removed]",
      "text/plain": [
       "<Figure size 432x288 with 1 Axes>"
      ]
     },
     "metadata": {
      "needs_background": "light"
     },
     "output_type": "display_data"
    }
   ],
   "source": [
    "sns.countplot(pd.concat([aug_train_DF, aug_val_DF, aug_test_DF], axis=0, ignore_index = True).Label)\n",
    "plt.show()"
   ]
  },
  {
   "cell_type": "code",
   "execution_count": 6,
   "metadata": {
    "colab": {
     "background_save": true
    },
    "id": "AWLSJpw6WVVo",
    "outputId": "348d3fee-c3a5-442d-96af-5711dec23128"
   },
   "outputs": [
    {
     "data": {
      "image/png": "[encoded data removed]",
      "text/plain": [
       "<Figure size 432x288 with 1 Axes>"
      ]
     },
     "metadata": {},
     "output_type": "display_data"
    }
   ],
   "source": [
    "data = aug_train_DF.groupby(\"Label\")[\"Label\"].count()\n",
    "data.plot.pie(autopct=\"%.1f%%\");"
   ]
  },
  {
   "cell_type": "code",
   "execution_count": 7,
   "metadata": {},
   "outputs": [
    {
     "data": {
      "image/png": "[encoded data removed]",
      "text/plain": [
       "<Figure size 432x288 with 1 Axes>"
      ]
     },
     "metadata": {},
     "output_type": "display_data"
    }
   ],
   "source": [
    "data = aug_val_DF.groupby(\"Label\")[\"Label\"].count()\n",
    "data.plot.pie(autopct=\"%.1f%%\");"
   ]
  },
  {
   "cell_type": "code",
   "execution_count": 8,
   "metadata": {},
   "outputs": [
    {
     "data": {
      "image/png": "[encoded data removed]",
      "text/plain": [
       "<Figure size 432x288 with 1 Axes>"
      ]
     },
     "metadata": {},
     "output_type": "display_data"
    }
   ],
   "source": [
    "data = aug_test_DF.groupby(\"Label\")[\"Label\"].count()\n",
    "data.plot.pie(autopct=\"%.1f%%\");"
   ]
  },
  {
   "cell_type": "markdown",
   "metadata": {
    "id": "Zf3vh4d7w3ZP"
   },
   "source": [
    "## 2. Data-Preprocessing "
   ]
  },
  {
   "cell_type": "markdown",
   "metadata": {
    "id": "Kd502KoZONei"
   },
   "source": [
    "### 2.1 Image Resizing \n"
   ]
  },
  {
   "cell_type": "markdown",
   "metadata": {
    "id": "oDIYJ9-3OWho"
   },
   "source": [
    "### 2.2 Data Augmentation"
   ]
  },
  {
   "cell_type": "markdown",
   "metadata": {},
   "source": [
    "### 2.3 Grayscale to RGB"
   ]
  },
  {
   "cell_type": "code",
   "execution_count": 9,
   "metadata": {
    "colab": {
     "background_save": true
    },
    "id": "hzz5yapeG-M7",
    "outputId": "0d2f1eb1-953a-4141-8ab9-4cb02b8519e8"
   },
   "outputs": [],
   "source": [
    "def normalize(img):\n",
    "    plt.imsave('DR.png', img, cmap='gray')\n",
    "    return cv2.imread('DR.png')[:, :, :]"
   ]
  },
  {
   "cell_type": "code",
   "execution_count": 10,
   "metadata": {},
   "outputs": [],
   "source": [
    "aug_train_DF[\"Image\"] = aug_train_DF[\"Image\"].apply(normalize)\n",
    "aug_val_DF[\"Image\"] = aug_val_DF[\"Image\"].apply(normalize)\n",
    "aug_test_DF[\"Image\"] = aug_test_DF[\"Image\"].apply(normalize)"
   ]
  },
  {
   "cell_type": "markdown",
   "metadata": {
    "id": "yg8moTnTaNeT"
   },
   "source": [
    "### 2.4 Splitting Data into Train, Test, and Validation Sets"
   ]
  },
  {
   "cell_type": "code",
   "execution_count": 11,
   "metadata": {},
   "outputs": [],
   "source": [
    "y_train = aug_train_DF[\"Label\"]\n",
    "X_train = aug_train_DF['Image'].tolist()\n",
    "X_train = np.array(X_train).reshape(-1, SIZE_X, SIZE_Y, SIZE_Z)\n",
    "\n",
    "\n",
    "y_val = aug_val_DF[\"Label\"]\n",
    "X_val = aug_val_DF['Image'].tolist()\n",
    "X_val = np.array(X_val).reshape(-1, SIZE_X, SIZE_Y, SIZE_Z)\n",
    "\n",
    "y_test = aug_test_DF[\"Label\"]\n",
    "X_test = aug_test_DF['Image'].tolist()\n",
    "X_test = np.array(X_test).reshape(-1, SIZE_X, SIZE_Y, SIZE_Z)\n"
   ]
  },
  {
   "cell_type": "code",
   "execution_count": 12,
   "metadata": {},
   "outputs": [
    {
     "name": "stdout",
     "output_type": "stream",
     "text": [
      "X_train shape: (13960, 128, 128, 1) | y_train shape: (13960,)\n",
      "X_val shape  : (1860, 128, 128, 1)  | y_test shape :  (1860,)\n",
      "X_test shape : (2792, 128, 128, 1)  | y_test shape :  (2792,)\n"
     ]
    }
   ],
   "source": [
    "print(\"X_train shape:\", X_train.shape,\"| y_train shape:\", y_train.shape)\n",
    "print(\"X_val shape  :\",X_val.shape,\" | y_test shape : \", y_val.shape)\n",
    "print(\"X_test shape :\",X_test.shape,\" | y_test shape : \", y_test.shape)"
   ]
  },
  {
   "cell_type": "markdown",
   "metadata": {},
   "source": [
    "### 2.5 One-Hot Encode the labels "
   ]
  },
  {
   "cell_type": "code",
   "execution_count": 13,
   "metadata": {
    "colab": {
     "background_save": true
    },
    "id": "uR_Cv0khfpyS",
    "outputId": "0fa96dd1-5899-45b2-9d73-5fcbc132a797"
   },
   "outputs": [],
   "source": [
    "# saving a copy of the testing labels before one hot encoding\n",
    "y_test_eval = y_test\n",
    "# one hot endcoding the labels \n",
    "y_train = pd.get_dummies(y_train)\n",
    "y_test  = pd.get_dummies(y_test)\n",
    "y_val   = pd.get_dummies(y_val)"
   ]
  },
  {
   "cell_type": "code",
   "execution_count": 14,
   "metadata": {},
   "outputs": [
    {
     "name": "stdout",
     "output_type": "stream",
     "text": [
      "X_train shape: (13960, 128, 128, 1) | y_train shape: (13960, 6)\n",
      "X_test shape : (2792, 128, 128, 1)  | y_test shape:  (2792, 6)\n",
      "X_val shape  : (1860, 128, 128, 1)  | y_val shape :  (1860, 6)\n",
      "\n",
      "Total number: 18612\n"
     ]
    }
   ],
   "source": [
    "print(\"X_train shape:\", X_train.shape,\"| y_train shape:\", y_train.shape)\n",
    "print(\"X_test shape :\",X_test.shape,\" | y_test shape: \", y_test.shape)\n",
    "print(\"X_val shape  :\",X_val.shape,\" | y_val shape : \", y_val.shape)\n",
    "print(\"\\nTotal number: {}\".format(len(aug_train_DF)+len(aug_val_DF)+len(aug_test_DF)))"
   ]
  },
  {
   "cell_type": "code",
   "execution_count": 15,
   "metadata": {
    "colab": {
     "background_save": true
    },
    "id": "3DctvR_fVPlF",
    "outputId": "bdf93bfa-b00d-49a3-99c8-f2bde2731658"
   },
   "outputs": [
    {
     "data": {
      "text/html": [
       "<div>\n",
       "<style scoped>\n",
       "    .dataframe tbody tr th:only-of-type {\n",
       "        vertical-align: middle;\n",
       "    }\n",
       "\n",
       "    .dataframe tbody tr th {\n",
       "        vertical-align: top;\n",
       "    }\n",
       "\n",
       "    .dataframe thead th {\n",
       "        text-align: right;\n",
       "    }\n",
       "</style>\n",
       "<table border=\"1\" class=\"dataframe\">\n",
       "  <thead>\n",
       "    <tr style=\"text-align: right;\">\n",
       "      <th></th>\n",
       "      <th>Glioma II</th>\n",
       "      <th>Glioma III</th>\n",
       "      <th>Glioma VI</th>\n",
       "      <th>Meningioma</th>\n",
       "      <th>No tumor</th>\n",
       "      <th>Pituitary</th>\n",
       "    </tr>\n",
       "  </thead>\n",
       "  <tbody>\n",
       "    <tr>\n",
       "      <th>0</th>\n",
       "      <td>0</td>\n",
       "      <td>0</td>\n",
       "      <td>0</td>\n",
       "      <td>0</td>\n",
       "      <td>1</td>\n",
       "      <td>0</td>\n",
       "    </tr>\n",
       "    <tr>\n",
       "      <th>1</th>\n",
       "      <td>0</td>\n",
       "      <td>0</td>\n",
       "      <td>0</td>\n",
       "      <td>0</td>\n",
       "      <td>1</td>\n",
       "      <td>0</td>\n",
       "    </tr>\n",
       "    <tr>\n",
       "      <th>2</th>\n",
       "      <td>0</td>\n",
       "      <td>0</td>\n",
       "      <td>1</td>\n",
       "      <td>0</td>\n",
       "      <td>0</td>\n",
       "      <td>0</td>\n",
       "    </tr>\n",
       "    <tr>\n",
       "      <th>3</th>\n",
       "      <td>0</td>\n",
       "      <td>0</td>\n",
       "      <td>0</td>\n",
       "      <td>0</td>\n",
       "      <td>0</td>\n",
       "      <td>1</td>\n",
       "    </tr>\n",
       "    <tr>\n",
       "      <th>4</th>\n",
       "      <td>0</td>\n",
       "      <td>0</td>\n",
       "      <td>1</td>\n",
       "      <td>0</td>\n",
       "      <td>0</td>\n",
       "      <td>0</td>\n",
       "    </tr>\n",
       "    <tr>\n",
       "      <th>...</th>\n",
       "      <td>...</td>\n",
       "      <td>...</td>\n",
       "      <td>...</td>\n",
       "      <td>...</td>\n",
       "      <td>...</td>\n",
       "      <td>...</td>\n",
       "    </tr>\n",
       "    <tr>\n",
       "      <th>2787</th>\n",
       "      <td>0</td>\n",
       "      <td>0</td>\n",
       "      <td>0</td>\n",
       "      <td>0</td>\n",
       "      <td>0</td>\n",
       "      <td>1</td>\n",
       "    </tr>\n",
       "    <tr>\n",
       "      <th>2788</th>\n",
       "      <td>0</td>\n",
       "      <td>0</td>\n",
       "      <td>0</td>\n",
       "      <td>0</td>\n",
       "      <td>0</td>\n",
       "      <td>1</td>\n",
       "    </tr>\n",
       "    <tr>\n",
       "      <th>2789</th>\n",
       "      <td>0</td>\n",
       "      <td>0</td>\n",
       "      <td>0</td>\n",
       "      <td>0</td>\n",
       "      <td>1</td>\n",
       "      <td>0</td>\n",
       "    </tr>\n",
       "    <tr>\n",
       "      <th>2790</th>\n",
       "      <td>0</td>\n",
       "      <td>1</td>\n",
       "      <td>0</td>\n",
       "      <td>0</td>\n",
       "      <td>0</td>\n",
       "      <td>0</td>\n",
       "    </tr>\n",
       "    <tr>\n",
       "      <th>2791</th>\n",
       "      <td>1</td>\n",
       "      <td>0</td>\n",
       "      <td>0</td>\n",
       "      <td>0</td>\n",
       "      <td>0</td>\n",
       "      <td>0</td>\n",
       "    </tr>\n",
       "  </tbody>\n",
       "</table>\n",
       "<p>2792 rows × 6 columns</p>\n",
       "</div>"
      ],
      "text/plain": [
       "      Glioma II  Glioma III  Glioma VI  Meningioma  No tumor  Pituitary\n",
       "0             0           0          0           0         1          0\n",
       "1             0           0          0           0         1          0\n",
       "2             0           0          1           0         0          0\n",
       "3             0           0          0           0         0          1\n",
       "4             0           0          1           0         0          0\n",
       "...         ...         ...        ...         ...       ...        ...\n",
       "2787          0           0          0           0         0          1\n",
       "2788          0           0          0           0         0          1\n",
       "2789          0           0          0           0         1          0\n",
       "2790          0           1          0           0         0          0\n",
       "2791          1           0          0           0         0          0\n",
       "\n",
       "[2792 rows x 6 columns]"
      ]
     },
     "execution_count": 15,
     "metadata": {},
     "output_type": "execute_result"
    }
   ],
   "source": [
    "y_test"
   ]
  },
  {
   "cell_type": "code",
   "execution_count": 17,
   "metadata": {
    "colab": {
     "background_save": true
    },
    "id": "jWFIvPjtiNio"
   },
   "outputs": [],
   "source": [
    "## This Dictionary is used to decode the model's predicted values.  \n",
    "decode_dict = {0 : \"Glioma II\", 1 : \"Glioma III\", 2 : \"Glioma VI\", 3: \"Meningioma\", 4: \"No tumor\", 5: \"Pituitary\"}"
   ]
  },
  {
   "cell_type": "code",
   "execution_count": 18,
   "metadata": {
    "colab": {
     "background_save": true
    },
    "id": "PcsCoY3jggfU",
    "outputId": "3b3c30b0-a9af-4923-a318-cea2b5587807"
   },
   "outputs": [
    {
     "data": {
      "image/png": "[encoded data removed]",
      "text/plain": [
       "<Figure size 936x576 with 1 Axes>"
      ]
     },
     "metadata": {},
     "output_type": "display_data"
    }
   ],
   "source": [
    "import matplotlib.pyplot as plt\n",
    "import numpy as np\n",
    "##  Creating a Pie chart illustrating the percentage of the train, validation, test sets.\n",
    "Data = np.array([len(y_train), len(y_test), len(y_val)])\n",
    "mylabels = [\"Test Set\", \"Test Set\", \"Validation Set\"]\n",
    "plt.figure(figsize=(13, 8))\n",
    "plt.pie(Data, labels = mylabels, autopct=\"%.1f%%\", )\n",
    "plt.legend()\n",
    "plt.show() "
   ]
  },
  {
   "cell_type": "markdown",
   "metadata": {
    "id": "zDCzea2Klw_1"
   },
   "source": [
    "## 3. Models Creation\n"
   ]
  },
  {
   "cell_type": "code",
   "execution_count": 19,
   "metadata": {
    "colab": {
     "background_save": true
    },
    "id": "K58Sn8Gt_6v9"
   },
   "outputs": [],
   "source": [
    "from keras.models import Sequential\n",
    "from keras.layers import Conv2D, MaxPooling2D, Flatten, Dense, Dropout, BatchNormalization,  Convolution2D, Input, Lambda\n",
    "import tensorflow as tf\n",
    "import time\n",
    "from tensorflow.keras import optimizers\n",
    "from keras.models import Model\n",
    "from keras.applications.inception_v3 import InceptionV3\n",
    "from keras.applications.inception_v3 import preprocess_input\n",
    "from glob import glob\n",
    "\n",
    "\n",
    "\n",
    "InceptionV3 = InceptionV3(include_top=False, weights=None, input_shape = (SIZE_X, SIZE_Y, SIZE_Z))\n",
    "\n",
    "for layer in InceptionV3.layers:\n",
    "    layer.trainable = False\n",
    "\n",
    "# Dense Lyers\n",
    "x = Flatten()(InceptionV3.output)\n",
    "outLayers = Dense(CLASS_NUM, activation='softmax')(x)\n",
    "\n",
    "m1 = Model(inputs = InceptionV3.input, outputs = outLayers)\n",
    "\n",
    "m1.summary()\n",
    "m1.compile(loss='categorical_crossentropy', optimizer='adam', metrics=['accuracy'])"
   ]
  },
  {
   "cell_type": "markdown",
   "metadata": {
    "id": "6aAVYS26t6c3"
   },
   "source": [
    "### 4. Model Training\n"
   ]
  },
  {
   "cell_type": "code",
   "execution_count": null,
   "metadata": {
    "id": "LGT4MVY3tkyz"
   },
   "outputs": [
    {
     "name": "stdout",
     "output_type": "stream",
     "text": [
      "Epoch 1/150\n",
      "873/873 [==============================] - 10s 9ms/step - loss: 0.9500 - accuracy: 0.6181 - val_loss: 0.6757 - val_accuracy: 0.7355\n",
      "Epoch 2/150\n",
      "873/873 [==============================] - 7s 8ms/step - loss: 0.5066 - accuracy: 0.7955 - val_loss: 0.4338 - val_accuracy: 0.8199\n",
      "Epoch 3/150\n",
      "873/873 [==============================] - 7s 8ms/step - loss: 0.3626 - accuracy: 0.8508 - val_loss: 0.3786 - val_accuracy: 0.8511\n",
      "Epoch 4/150\n",
      "873/873 [==============================] - 7s 8ms/step - loss: 0.2981 - accuracy: 0.8804 - val_loss: 0.3088 - val_accuracy: 0.8785\n",
      "Epoch 5/150\n",
      "873/873 [==============================] - 7s 8ms/step - loss: 0.2406 - accuracy: 0.9044 - val_loss: 0.3056 - val_accuracy: 0.8952\n",
      "Epoch 6/150\n",
      "873/873 [==============================] - 7s 8ms/step - loss: 0.2131 - accuracy: 0.9163 - val_loss: 0.3333 - val_accuracy: 0.8855\n",
      "Epoch 7/150\n",
      "873/873 [==============================] - 7s 8ms/step - loss: 0.2001 - accuracy: 0.9221 - val_loss: 0.2457 - val_accuracy: 0.9070\n",
      "Epoch 8/150\n",
      "873/873 [==============================] - 7s 8ms/step - loss: 0.1700 - accuracy: 0.9333 - val_loss: 0.2791 - val_accuracy: 0.8898\n",
      "Epoch 9/150\n",
      "873/873 [==============================] - 7s 8ms/step - loss: 0.1585 - accuracy: 0.9385 - val_loss: 0.3917 - val_accuracy: 0.8769\n",
      "Epoch 10/150\n",
      "873/873 [==============================] - 7s 8ms/step - loss: 0.1459 - accuracy: 0.9440 - val_loss: 0.2309 - val_accuracy: 0.9151\n",
      "Epoch 11/150\n",
      "873/873 [==============================] - 7s 8ms/step - loss: 0.1332 - accuracy: 0.9512 - val_loss: 0.2799 - val_accuracy: 0.9022\n",
      "Epoch 12/150\n",
      "873/873 [==============================] - 7s 8ms/step - loss: 0.1284 - accuracy: 0.9531 - val_loss: 0.2626 - val_accuracy: 0.9059\n",
      "Epoch 13/150\n",
      "873/873 [==============================] - 7s 8ms/step - loss: 0.1183 - accuracy: 0.9562 - val_loss: 0.2967 - val_accuracy: 0.8995\n",
      "Epoch 14/150\n",
      "873/873 [==============================] - 7s 8ms/step - loss: 0.1161 - accuracy: 0.9564 - val_loss: 0.2420 - val_accuracy: 0.9161\n",
      "Epoch 15/150\n",
      "873/873 [==============================] - 7s 8ms/step - loss: 0.1072 - accuracy: 0.9597 - val_loss: 0.2344 - val_accuracy: 0.9059\n",
      "Epoch 16/150\n",
      "873/873 [==============================] - 7s 8ms/step - loss: 0.0978 - accuracy: 0.9624 - val_loss: 0.2556 - val_accuracy: 0.9134\n",
      "Epoch 17/150\n",
      "873/873 [==============================] - 7s 8ms/step - loss: 0.0951 - accuracy: 0.9640 - val_loss: 0.2501 - val_accuracy: 0.9296\n",
      "Epoch 18/150\n",
      "873/873 [==============================] - 7s 8ms/step - loss: 0.0880 - accuracy: 0.9679 - val_loss: 0.3127 - val_accuracy: 0.9065\n",
      "Epoch 19/150\n",
      "873/873 [==============================] - 7s 8ms/step - loss: 0.0875 - accuracy: 0.9681 - val_loss: 0.2662 - val_accuracy: 0.9210\n",
      "Epoch 20/150\n",
      "873/873 [==============================] - 7s 8ms/step - loss: 0.0861 - accuracy: 0.9681 - val_loss: 0.2347 - val_accuracy: 0.9290\n",
      "Epoch 21/150\n",
      "873/873 [==============================] - 7s 8ms/step - loss: 0.0858 - accuracy: 0.9691 - val_loss: 0.2178 - val_accuracy: 0.9317\n",
      "Epoch 22/150\n",
      "873/873 [==============================] - 7s 8ms/step - loss: 0.0779 - accuracy: 0.9717 - val_loss: 0.2380 - val_accuracy: 0.9317\n",
      "Epoch 23/150\n",
      "873/873 [==============================] - 7s 8ms/step - loss: 0.0876 - accuracy: 0.9694 - val_loss: 0.2431 - val_accuracy: 0.9323\n",
      "Epoch 24/150\n",
      "873/873 [==============================] - 7s 8ms/step - loss: 0.0656 - accuracy: 0.9765 - val_loss: 0.2387 - val_accuracy: 0.9301\n",
      "Epoch 25/150\n",
      "873/873 [==============================] - 7s 8ms/step - loss: 0.0738 - accuracy: 0.9741 - val_loss: 0.2358 - val_accuracy: 0.9269\n",
      "Epoch 26/150\n",
      "873/873 [==============================] - 7s 8ms/step - loss: 0.0698 - accuracy: 0.9738 - val_loss: 0.2628 - val_accuracy: 0.9274\n",
      "Epoch 27/150\n",
      "873/873 [==============================] - 7s 8ms/step - loss: 0.0692 - accuracy: 0.9754 - val_loss: 0.2263 - val_accuracy: 0.9258\n",
      "Epoch 28/150\n",
      "873/873 [==============================] - 7s 8ms/step - loss: 0.0675 - accuracy: 0.9752 - val_loss: 0.2259 - val_accuracy: 0.9360\n",
      "Epoch 29/150\n",
      "873/873 [==============================] - 7s 8ms/step - loss: 0.0717 - accuracy: 0.9746 - val_loss: 0.2457 - val_accuracy: 0.9371\n",
      "Epoch 30/150\n",
      "873/873 [==============================] - 7s 8ms/step - loss: 0.0568 - accuracy: 0.9793 - val_loss: 0.2788 - val_accuracy: 0.9306\n",
      "Epoch 31/150\n",
      "873/873 [==============================] - 7s 8ms/step - loss: 0.0634 - accuracy: 0.9787 - val_loss: 0.2519 - val_accuracy: 0.9306\n",
      "Epoch 32/150\n",
      "873/873 [==============================] - 7s 8ms/step - loss: 0.0618 - accuracy: 0.9794 - val_loss: 0.2255 - val_accuracy: 0.9371\n",
      "Epoch 33/150\n",
      "873/873 [==============================] - 7s 8ms/step - loss: 0.0702 - accuracy: 0.9766 - val_loss: 0.2379 - val_accuracy: 0.9392\n",
      "Epoch 34/150\n",
      "873/873 [==============================] - 7s 8ms/step - loss: 0.0582 - accuracy: 0.9792 - val_loss: 0.3192 - val_accuracy: 0.9237\n",
      "Epoch 35/150\n",
      "873/873 [==============================] - 7s 8ms/step - loss: 0.0595 - accuracy: 0.9794 - val_loss: 0.2574 - val_accuracy: 0.9296\n",
      "Epoch 36/150\n",
      "873/873 [==============================] - 7s 8ms/step - loss: 0.0657 - accuracy: 0.9777 - val_loss: 0.2465 - val_accuracy: 0.9226\n",
      "Epoch 37/150\n",
      "873/873 [==============================] - 7s 8ms/step - loss: 0.0597 - accuracy: 0.9794 - val_loss: 0.2376 - val_accuracy: 0.9349\n",
      "Epoch 38/150\n",
      "873/873 [==============================] - 7s 8ms/step - loss: 0.0514 - accuracy: 0.9816 - val_loss: 0.2270 - val_accuracy: 0.9360\n",
      "Epoch 39/150\n",
      "873/873 [==============================] - 7s 8ms/step - loss: 0.0496 - accuracy: 0.9840 - val_loss: 0.2198 - val_accuracy: 0.9371\n",
      "Epoch 40/150\n",
      "162/873 [====>.........................] - ETA: 5s - loss: 0.0712 - accuracy: 0.9757"
     ]
    }
   ],
   "source": [
    "from tensorflow.keras.callbacks import EarlyStopping\n",
    "early_stop = EarlyStopping(monitor = 'val_loss', patience = 40 )\n",
    "\n",
    "m1.fit(X_train,y_train,epochs=150,batch_size=16, validation_data=(X_val,y_val), callbacks = [early_stop], verbose=1)"
   ]
  },
  {
   "cell_type": "code",
   "execution_count": null,
   "metadata": {
    "id": "d6OA7oX-yByT"
   },
   "outputs": [],
   "source": [
    "# Get training history\n",
    "metrics = pd.DataFrame(m1.history.history)"
   ]
  },
  {
   "cell_type": "code",
   "execution_count": null,
   "metadata": {},
   "outputs": [],
   "source": [
    "import os\n",
    "exp_num = []\n",
    "if not os.path.exists(\"./experiments\"):\n",
    "    os.mkdir(\"./experiments\")\n",
    "folders = os.listdir(\"./experiments\")\n",
    "for folder in folders:\n",
    "    exp_num.append(int(folder.split(\"#\")[1]))\n",
    "\n",
    "\n",
    "if len(exp_num) == 0:\n",
    "    exp_path = r\"./experiments/exp#1\"\n",
    "else:\n",
    "    exp_path = r\"./experiments/exp#\"+str(max(exp_num)+1)\n",
    "\n",
    "\n",
    "\n",
    "\n",
    "os.mkdir(exp_path)\n",
    "os.mkdir(os.path.join(exp_path, \"results\"))\n",
    "os.mkdir(os.path.join(exp_path, \"weights\"))\n",
    "\n",
    "results = os.path.join(exp_path, \"results\")\n",
    "weights = os.path.join(exp_path, \"weights\")"
   ]
  },
  {
   "cell_type": "code",
   "execution_count": null,
   "metadata": {},
   "outputs": [],
   "source": [
    "print(results)"
   ]
  },
  {
   "cell_type": "code",
   "execution_count": null,
   "metadata": {
    "id": "vs5CCwj993FX"
   },
   "outputs": [],
   "source": [
    "# Save The Trained model along with it training history   \n",
    "Accuracy = m1.evaluate(X_test, y_test)[-1]\n",
    "name = str(round(Accuracy, 4))\n",
    "\n",
    "metrics.to_pickle(os.path.join(results, name+'.pkl'))\n",
    "m1.save(os.path.join(weights, name + '.h5'))"
   ]
  },
  {
   "cell_type": "code",
   "execution_count": null,
   "metadata": {
    "id": "5F7i-oCwytup",
    "scrolled": true
   },
   "outputs": [],
   "source": [
    "## Dispaly the plot of \n",
    "rows = 2\n",
    "columns = 1\n",
    "  \n",
    "# Display Train loss vs Validation loss at each Epoch\n",
    "fig = plt.figure(figsize=(10, 7))\n",
    "fig.add_subplot(rows, columns, 1)\n",
    "plt.plot(metrics['loss'])\n",
    "plt.plot(metrics['val_loss'])\n",
    "plt.title('Model Loss')\n",
    "plt.ylabel('loss')\n",
    "plt.xlabel('epoch')\n",
    "plt.legend(['train', 'val'], loc='upper left')\n",
    "plt.savefig(os.path.join(results, 'loss_epoch.png'))\n",
    "plt.show()\n",
    "\n",
    "  \n",
    "# Display Train loss vs Validation loss at each Epoch\n",
    "fig = plt.figure(figsize=(10, 7))\n",
    "fig.add_subplot(rows, columns, 2)\n",
    "plt.plot(metrics['accuracy'])\n",
    "plt.plot(metrics['val_accuracy'])\n",
    "plt.title('Model Accuracy')\n",
    "plt.ylabel('accuracy')\n",
    "plt.xlabel('epoch')\n",
    "plt.legend(['train', 'val'], loc='upper left')\n",
    "plt.savefig(os.path.join(results, 'acc_epoch.png'))\n",
    "plt.show()\n",
    "\n"
   ]
  },
  {
   "cell_type": "code",
   "execution_count": null,
   "metadata": {
    "id": "HQOKaA8zfv4K"
   },
   "outputs": [],
   "source": [
    "## Get the \n",
    "predict_x = m1.predict(X_test) \n",
    "predictions = np.argmax(predict_x,axis=1) "
   ]
  },
  {
   "cell_type": "code",
   "execution_count": null,
   "metadata": {
    "id": "xy9_ZzsYkByi"
   },
   "outputs": [],
   "source": [
    "# Decode the Model's predections  (from [0,1,0,2..] to ['Glioma','Meningioma'...]) of the Test set using the the dictionary 'decode_dict' \n",
    "predictions = np.vectorize(decode_dict.get)(predictions)"
   ]
  },
  {
   "cell_type": "code",
   "execution_count": null,
   "metadata": {
    "id": "IVYX1MCzjx00"
   },
   "outputs": [],
   "source": [
    "print(classification_report(y_test_eval, predictions))"
   ]
  },
  {
   "cell_type": "code",
   "execution_count": null,
   "metadata": {
    "id": "HOVPJjy0udhD"
   },
   "outputs": [],
   "source": [
    "labels = sorted(aug_test_DF.Label.unique())\n",
    "\n",
    "cm = pd.DataFrame(confusion_matrix(y_test_eval, predictions), index=labels, columns=labels)\n",
    "plt.figure(figsize = (10,7))\n",
    "plt.title('Confusion matrix')\n",
    "sns.heatmap(cm, annot=True, cmap=\"PuBu\",fmt = 'd')\n",
    "plt.ylabel('True labels')\n",
    "plt.xlabel('Predicted labels')\n",
    "plt.savefig(os.path.join(results, 'confusion_matrix.png'))\n",
    "plt.show()"
   ]
  }
 ],
 "metadata": {
  "accelerator": "GPU",
  "colab": {
   "collapsed_sections": [],
   "name": "5_labels_model_v1.ipynb",
   "provenance": []
  },
  "kernelspec": {
   "display_name": "Python 3 (ipykernel)",
   "language": "python",
   "name": "python3"
  },
  "language_info": {
   "codemirror_mode": {
    "name": "ipython",
    "version": 3
   },
   "file_extension": ".py",
   "mimetype": "text/x-python",
   "name": "python",
   "nbconvert_exporter": "python",
   "pygments_lexer": "ipython3",
   "version": "3.9.7"
  }
 },
 "nbformat": 4,
 "nbformat_minor": 1
}
