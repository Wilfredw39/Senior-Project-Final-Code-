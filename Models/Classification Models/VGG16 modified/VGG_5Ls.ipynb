{
 "cells": [
  {
   "cell_type": "markdown",
   "metadata": {
    "id": "vt51_KACTdGf"
   },
   "source": [
    "## 0. Setting up the Environment\n"
   ]
  },
  {
   "cell_type": "code",
   "execution_count": 1,
   "metadata": {
    "colab": {
     "base_uri": "https://localhost:8080/"
    },
    "id": "D4Z6Zv3PSOcg",
    "outputId": "b87040f7-50f1-4633-bcd9-415194d37d2e"
   },
   "outputs": [],
   "source": [
    "## impoort labaries \n",
    "import os \n",
    "import cv2\n",
    "import mat73\n",
    "import time\n",
    "import keras\n",
    "import pandas as pd\n",
    "import numpy as np \n",
    "import seaborn as sns\n",
    "import skimage\n",
    "import tensorflow as tf\n",
    "import matplotlib.pyplot as plt\n",
    "from PIL import Image, ImageOps \n",
    "from skimage.transform import resize\n",
    "from keras.models import Sequential\n",
    "from tensorflow.keras import optimizers\n",
    "from tqdm.notebook import tqdm_notebook as tqdm\n",
    "from sklearn.metrics import classification_report, confusion_matrix\n",
    "from keras.layers import Conv2D, MaxPooling2D, Flatten, Dense, Dropout, BatchNormalization,  Convolution2D"
   ]
  },
  {
   "cell_type": "markdown",
   "metadata": {
    "id": "sYWmkuxOWtm4"
   },
   "source": [
    "## 1. Data Importing "
   ]
  },
  {
   "cell_type": "code",
   "execution_count": 2,
   "metadata": {},
   "outputs": [],
   "source": [
    "SIZE_X = 128\n",
    "SIZE_Y = 128\n",
    "\n",
    "aug_train_DF = pd.read_pickle(r\"../../../Datasets/Dataset_B/aug_train_DF_{}.pkl\".format(SIZE_X))\n",
    "aug_val_DF = pd.read_pickle(r\"../../../Datasets/Dataset_B/aug_val_DF_{}.pkl\".format(SIZE_X))\n",
    "aug_test_DF = pd.read_pickle(r\"../../../Datasets/Dataset_B/aug_test_DF_{}.pkl\".format(SIZE_X))"
   ]
  },
  {
   "cell_type": "code",
   "execution_count": 3,
   "metadata": {
    "colab": {
     "background_save": true
    },
    "id": "kaaNJb4nR5Z5",
    "outputId": "229fd2a5-846a-4168-abdf-2db9f91c282d"
   },
   "outputs": [
    {
     "data": {
      "text/html": [
       "<div>\n",
       "<style scoped>\n",
       "    .dataframe tbody tr th:only-of-type {\n",
       "        vertical-align: middle;\n",
       "    }\n",
       "\n",
       "    .dataframe tbody tr th {\n",
       "        vertical-align: top;\n",
       "    }\n",
       "\n",
       "    .dataframe thead th {\n",
       "        text-align: right;\n",
       "    }\n",
       "</style>\n",
       "<table border=\"1\" class=\"dataframe\">\n",
       "  <thead>\n",
       "    <tr style=\"text-align: right;\">\n",
       "      <th></th>\n",
       "      <th>PID</th>\n",
       "      <th>Label</th>\n",
       "      <th>Image</th>\n",
       "      <th>File</th>\n",
       "    </tr>\n",
       "  </thead>\n",
       "  <tbody>\n",
       "    <tr>\n",
       "      <th>3529</th>\n",
       "      <td>HF1671</td>\n",
       "      <td>Glioma VI</td>\n",
       "      <td>[[0.0, 0.0, 0.0, 0.0, 0.0, 0.0, 0.0, 0.0, 0.0,...</td>\n",
       "      <td>D:\\Datasets\\manifest-tXudPFfp43472957274060920...</td>\n",
       "    </tr>\n",
       "    <tr>\n",
       "      <th>1398</th>\n",
       "      <td>102935</td>\n",
       "      <td>Meningioma</td>\n",
       "      <td>[[0, 0, 0, 0, 0, 0, 0, 0, 0, 0, 0, 0, 0, 0, 0,...</td>\n",
       "      <td>34.mat</td>\n",
       "    </tr>\n",
       "    <tr>\n",
       "      <th>4590</th>\n",
       "      <td>900-00-5316</td>\n",
       "      <td>Glioma VI</td>\n",
       "      <td>[[1, 1, 0, 1, 0, 2, 0, 3, 2, 0, 1, 1, 1, 2, 2,...</td>\n",
       "      <td>D:\\Datasets\\manifest-tXudPFfp43472957274060920...</td>\n",
       "    </tr>\n",
       "    <tr>\n",
       "      <th>11387</th>\n",
       "      <td>HF1475</td>\n",
       "      <td>Glioma III</td>\n",
       "      <td>[[0, 0, 0, 0, 0, 0, 0, 0, 0, 0, 0, 0, 0, 0, 0,...</td>\n",
       "      <td>D:\\Datasets\\manifest-tXudPFfp43472957274060920...</td>\n",
       "    </tr>\n",
       "    <tr>\n",
       "      <th>3171</th>\n",
       "      <td>900-00-5382</td>\n",
       "      <td>Glioma II</td>\n",
       "      <td>[[0, 0, 0, 0, 0, 0, 0, 0, 0, 0, 0, 0, 0, 0, 0,...</td>\n",
       "      <td>D:\\Datasets\\manifest-tXudPFfp43472957274060920...</td>\n",
       "    </tr>\n",
       "  </tbody>\n",
       "</table>\n",
       "</div>"
      ],
      "text/plain": [
       "               PID       Label  \\\n",
       "3529        HF1671   Glioma VI   \n",
       "1398        102935  Meningioma   \n",
       "4590   900-00-5316   Glioma VI   \n",
       "11387       HF1475  Glioma III   \n",
       "3171   900-00-5382   Glioma II   \n",
       "\n",
       "                                                   Image  \\\n",
       "3529   [[0.0, 0.0, 0.0, 0.0, 0.0, 0.0, 0.0, 0.0, 0.0,...   \n",
       "1398   [[0, 0, 0, 0, 0, 0, 0, 0, 0, 0, 0, 0, 0, 0, 0,...   \n",
       "4590   [[1, 1, 0, 1, 0, 2, 0, 3, 2, 0, 1, 1, 1, 2, 2,...   \n",
       "11387  [[0, 0, 0, 0, 0, 0, 0, 0, 0, 0, 0, 0, 0, 0, 0,...   \n",
       "3171   [[0, 0, 0, 0, 0, 0, 0, 0, 0, 0, 0, 0, 0, 0, 0,...   \n",
       "\n",
       "                                                    File  \n",
       "3529   D:\\Datasets\\manifest-tXudPFfp43472957274060920...  \n",
       "1398                                              34.mat  \n",
       "4590   D:\\Datasets\\manifest-tXudPFfp43472957274060920...  \n",
       "11387  D:\\Datasets\\manifest-tXudPFfp43472957274060920...  \n",
       "3171   D:\\Datasets\\manifest-tXudPFfp43472957274060920...  "
      ]
     },
     "execution_count": 3,
     "metadata": {},
     "output_type": "execute_result"
    }
   ],
   "source": [
    "## Combain the df with the Pitutary & Meningioma types with the dataframe of the Glioma grades (I, II,, IV).\n",
    "\n",
    "pd.concat([aug_train_DF, aug_val_DF, aug_test_DF], axis=0, ignore_index = True).sample(5)"
   ]
  },
  {
   "cell_type": "code",
   "execution_count": 4,
   "metadata": {
    "colab": {
     "background_save": true
    },
    "id": "uJEttBBOU9IN",
    "outputId": "d176e92f-d35f-4f92-a264-ead1e87244e6"
   },
   "outputs": [
    {
     "name": "stderr",
     "output_type": "stream",
     "text": [
      "C:\\Users\\Ma7moud\\anaconda3\\envs\\T-UNet\\lib\\site-packages\\seaborn\\_decorators.py:36: FutureWarning: Pass the following variable as a keyword arg: x. From version 0.12, the only valid positional argument will be `data`, and passing other arguments without an explicit keyword will result in an error or misinterpretation.\n",
      "  warnings.warn(\n"
     ]
    },
    {
     "data": {
      "image/png": "[encoded data removed]",
      "text/plain": [
       "<Figure size 432x288 with 1 Axes>"
      ]
     },
     "metadata": {
      "needs_background": "light"
     },
     "output_type": "display_data"
    }
   ],
   "source": [
    "sns.countplot(pd.concat([aug_train_DF, aug_val_DF, aug_test_DF], axis=0, ignore_index = True).Label)\n",
    "plt.show()"
   ]
  },
  {
   "cell_type": "code",
   "execution_count": 5,
   "metadata": {
    "colab": {
     "background_save": true
    },
    "id": "AWLSJpw6WVVo",
    "outputId": "348d3fee-c3a5-442d-96af-5711dec23128"
   },
   "outputs": [
    {
     "data": {
      "image/png": "[encoded data removed]",
      "text/plain": [
       "<Figure size 432x288 with 1 Axes>"
      ]
     },
     "metadata": {},
     "output_type": "display_data"
    }
   ],
   "source": [
    "data = pd.concat([aug_train_DF, aug_val_DF, aug_test_DF], axis=0, ignore_index = True).groupby(\"Label\")[\"Label\"].count()\n",
    "data.plot.pie(autopct=\"%.1f%%\");"
   ]
  },
  {
   "cell_type": "markdown",
   "metadata": {
    "id": "Zf3vh4d7w3ZP"
   },
   "source": [
    "## 2. Data-Preprocessing "
   ]
  },
  {
   "cell_type": "markdown",
   "metadata": {
    "id": "Kd502KoZONei"
   },
   "source": [
    "### 2.1 Image Resizing \n"
   ]
  },
  {
   "cell_type": "markdown",
   "metadata": {
    "id": "oDIYJ9-3OWho"
   },
   "source": [
    "### 2.2 Data Augmentation"
   ]
  },
  {
   "cell_type": "markdown",
   "metadata": {},
   "source": [
    "### 2.3 Grayscale to RGB"
   ]
  },
  {
   "cell_type": "code",
   "execution_count": 6,
   "metadata": {
    "colab": {
     "background_save": true
    },
    "id": "hzz5yapeG-M7",
    "outputId": "0d2f1eb1-953a-4141-8ab9-4cb02b8519e8"
   },
   "outputs": [],
   "source": [
    "def normalize(img):\n",
    "    plt.imsave('DR.png', img, cmap='gray')\n",
    "    return cv2.imread('DR.png')"
   ]
  },
  {
   "cell_type": "code",
   "execution_count": 7,
   "metadata": {},
   "outputs": [],
   "source": [
    "aug_train_DF[\"Image\"] = aug_train_DF[\"Image\"].apply(normalize)\n",
    "aug_val_DF[\"Image\"] = aug_val_DF[\"Image\"].apply(normalize)\n",
    "aug_test_DF[\"Image\"] = aug_test_DF[\"Image\"].apply(normalize)"
   ]
  },
  {
   "cell_type": "markdown",
   "metadata": {
    "id": "yg8moTnTaNeT"
   },
   "source": [
    "### 2.4 Splitting Data into Train, Test, and Validation Sets"
   ]
  },
  {
   "cell_type": "code",
   "execution_count": 8,
   "metadata": {},
   "outputs": [],
   "source": [
    "y_train = aug_train_DF[\"Label\"]\n",
    "X_train = aug_train_DF['Image'].tolist()\n",
    "X_train = np.array(X_train).reshape(-1, SIZE_X, SIZE_Y, 3)\n",
    "\n",
    "\n",
    "y_val = aug_val_DF[\"Label\"]\n",
    "X_val = aug_val_DF['Image'].tolist()\n",
    "X_val = np.array(X_val).reshape(-1, SIZE_X, SIZE_Y, 3)\n",
    "\n",
    "y_test = aug_test_DF[\"Label\"]\n",
    "X_test = aug_test_DF['Image'].tolist()\n",
    "X_test = np.array(X_test).reshape(-1, SIZE_X, SIZE_Y, 3)\n"
   ]
  },
  {
   "cell_type": "code",
   "execution_count": 9,
   "metadata": {},
   "outputs": [
    {
     "name": "stdout",
     "output_type": "stream",
     "text": [
      "X_train shape: (10676, 128, 128, 3) | y_train shape: (10676,)\n",
      "X_val shape  : (1424, 128, 128, 3)  | y_test shape :  (1424,)\n",
      "X_test shape : (2136, 128, 128, 3)  | y_test shape :  (2136,)\n"
     ]
    }
   ],
   "source": [
    "print(\"X_train shape:\", X_train.shape,\"| y_train shape:\", y_train.shape)\n",
    "print(\"X_val shape  :\",X_val.shape,\" | y_test shape : \", y_val.shape)\n",
    "print(\"X_test shape :\",X_test.shape,\" | y_test shape : \", y_test.shape)"
   ]
  },
  {
   "cell_type": "markdown",
   "metadata": {},
   "source": [
    "### 2.5 One-Hot Encode the labels "
   ]
  },
  {
   "cell_type": "code",
   "execution_count": 10,
   "metadata": {
    "colab": {
     "background_save": true
    },
    "id": "uR_Cv0khfpyS",
    "outputId": "0fa96dd1-5899-45b2-9d73-5fcbc132a797"
   },
   "outputs": [],
   "source": [
    "# saving a copy of the testing labels before one hot encoding\n",
    "y_test_eval = y_test\n",
    "# one hot endcoding the labels \n",
    "y_train = pd.get_dummies(y_train)\n",
    "y_test  = pd.get_dummies(y_test)\n",
    "y_val   = pd.get_dummies(y_val)"
   ]
  },
  {
   "cell_type": "code",
   "execution_count": 11,
   "metadata": {},
   "outputs": [
    {
     "name": "stdout",
     "output_type": "stream",
     "text": [
      "X_train shape: (10676, 128, 128, 3) | y_train shape: (10676, 5)\n",
      "X_test shape : (2136, 128, 128, 3)  | y_test shape:  (2136, 5)\n",
      "X_val shape  : (1424, 128, 128, 3)  | y_val shape :  (1424, 5)\n",
      "\n",
      "Total number: 14236\n"
     ]
    }
   ],
   "source": [
    "print(\"X_train shape:\", X_train.shape,\"| y_train shape:\", y_train.shape)\n",
    "print(\"X_test shape :\",X_test.shape,\" | y_test shape: \", y_test.shape)\n",
    "print(\"X_val shape  :\",X_val.shape,\" | y_val shape : \", y_val.shape)\n",
    "print(\"\\nTotal number: {}\".format(len(aug_train_DF)+len(aug_val_DF)+len(aug_test_DF)))"
   ]
  },
  {
   "cell_type": "code",
   "execution_count": 12,
   "metadata": {
    "colab": {
     "background_save": true
    },
    "id": "3DctvR_fVPlF",
    "outputId": "bdf93bfa-b00d-49a3-99c8-f2bde2731658"
   },
   "outputs": [
    {
     "data": {
      "text/html": [
       "<div>\n",
       "<style scoped>\n",
       "    .dataframe tbody tr th:only-of-type {\n",
       "        vertical-align: middle;\n",
       "    }\n",
       "\n",
       "    .dataframe tbody tr th {\n",
       "        vertical-align: top;\n",
       "    }\n",
       "\n",
       "    .dataframe thead th {\n",
       "        text-align: right;\n",
       "    }\n",
       "</style>\n",
       "<table border=\"1\" class=\"dataframe\">\n",
       "  <thead>\n",
       "    <tr style=\"text-align: right;\">\n",
       "      <th></th>\n",
       "      <th>Glioma II</th>\n",
       "      <th>Glioma III</th>\n",
       "      <th>Glioma VI</th>\n",
       "      <th>Meningioma</th>\n",
       "      <th>Pituitary</th>\n",
       "    </tr>\n",
       "  </thead>\n",
       "  <tbody>\n",
       "    <tr>\n",
       "      <th>0</th>\n",
       "      <td>1</td>\n",
       "      <td>0</td>\n",
       "      <td>0</td>\n",
       "      <td>0</td>\n",
       "      <td>0</td>\n",
       "    </tr>\n",
       "    <tr>\n",
       "      <th>1</th>\n",
       "      <td>0</td>\n",
       "      <td>0</td>\n",
       "      <td>0</td>\n",
       "      <td>0</td>\n",
       "      <td>1</td>\n",
       "    </tr>\n",
       "    <tr>\n",
       "      <th>2</th>\n",
       "      <td>1</td>\n",
       "      <td>0</td>\n",
       "      <td>0</td>\n",
       "      <td>0</td>\n",
       "      <td>0</td>\n",
       "    </tr>\n",
       "    <tr>\n",
       "      <th>3</th>\n",
       "      <td>0</td>\n",
       "      <td>0</td>\n",
       "      <td>0</td>\n",
       "      <td>1</td>\n",
       "      <td>0</td>\n",
       "    </tr>\n",
       "    <tr>\n",
       "      <th>4</th>\n",
       "      <td>0</td>\n",
       "      <td>0</td>\n",
       "      <td>0</td>\n",
       "      <td>0</td>\n",
       "      <td>1</td>\n",
       "    </tr>\n",
       "    <tr>\n",
       "      <th>...</th>\n",
       "      <td>...</td>\n",
       "      <td>...</td>\n",
       "      <td>...</td>\n",
       "      <td>...</td>\n",
       "      <td>...</td>\n",
       "    </tr>\n",
       "    <tr>\n",
       "      <th>2131</th>\n",
       "      <td>0</td>\n",
       "      <td>0</td>\n",
       "      <td>0</td>\n",
       "      <td>0</td>\n",
       "      <td>1</td>\n",
       "    </tr>\n",
       "    <tr>\n",
       "      <th>2132</th>\n",
       "      <td>1</td>\n",
       "      <td>0</td>\n",
       "      <td>0</td>\n",
       "      <td>0</td>\n",
       "      <td>0</td>\n",
       "    </tr>\n",
       "    <tr>\n",
       "      <th>2133</th>\n",
       "      <td>0</td>\n",
       "      <td>0</td>\n",
       "      <td>0</td>\n",
       "      <td>0</td>\n",
       "      <td>1</td>\n",
       "    </tr>\n",
       "    <tr>\n",
       "      <th>2134</th>\n",
       "      <td>0</td>\n",
       "      <td>0</td>\n",
       "      <td>1</td>\n",
       "      <td>0</td>\n",
       "      <td>0</td>\n",
       "    </tr>\n",
       "    <tr>\n",
       "      <th>2135</th>\n",
       "      <td>0</td>\n",
       "      <td>0</td>\n",
       "      <td>0</td>\n",
       "      <td>1</td>\n",
       "      <td>0</td>\n",
       "    </tr>\n",
       "  </tbody>\n",
       "</table>\n",
       "<p>2136 rows × 5 columns</p>\n",
       "</div>"
      ],
      "text/plain": [
       "      Glioma II  Glioma III  Glioma VI  Meningioma  Pituitary\n",
       "0             1           0          0           0          0\n",
       "1             0           0          0           0          1\n",
       "2             1           0          0           0          0\n",
       "3             0           0          0           1          0\n",
       "4             0           0          0           0          1\n",
       "...         ...         ...        ...         ...        ...\n",
       "2131          0           0          0           0          1\n",
       "2132          1           0          0           0          0\n",
       "2133          0           0          0           0          1\n",
       "2134          0           0          1           0          0\n",
       "2135          0           0          0           1          0\n",
       "\n",
       "[2136 rows x 5 columns]"
      ]
     },
     "execution_count": 12,
     "metadata": {},
     "output_type": "execute_result"
    }
   ],
   "source": [
    "y_test"
   ]
  },
  {
   "cell_type": "markdown",
   "metadata": {},
   "source": [
    "### 2.6 Image Normalizatoin"
   ]
  },
  {
   "cell_type": "code",
   "execution_count": 13,
   "metadata": {},
   "outputs": [],
   "source": [
    "X_train = X_train / 255\n",
    "X_val   = X_val / 255\n",
    "X_test  = X_test / 255"
   ]
  },
  {
   "cell_type": "code",
   "execution_count": 14,
   "metadata": {
    "colab": {
     "background_save": true
    },
    "id": "jWFIvPjtiNio"
   },
   "outputs": [],
   "source": [
    "## This Dictionary is used to decode the model's predicted values.  \n",
    "decode_dict = {0 : \"Glioma II\", 1 : \"Glioma III\", 2 : \"Glioma VI\", 3: \"Meningioma\", 4: \"Pituitary\"}"
   ]
  },
  {
   "cell_type": "code",
   "execution_count": 15,
   "metadata": {
    "colab": {
     "background_save": true
    },
    "id": "PcsCoY3jggfU",
    "outputId": "3b3c30b0-a9af-4923-a318-cea2b5587807"
   },
   "outputs": [
    {
     "data": {
      "image/png": "[encoded data removed]",
      "text/plain": [
       "<Figure size 936x576 with 1 Axes>"
      ]
     },
     "metadata": {},
     "output_type": "display_data"
    }
   ],
   "source": [
    "import matplotlib.pyplot as plt\n",
    "import numpy as np\n",
    "##  Creating a Pie chart illustrating the percentage of the train, validation, test sets.\n",
    "Data = np.array([len(y_train), len(y_test), len(y_val)])\n",
    "mylabels = [\"Test Set\", \"Test Set\", \"Validation Set\"]\n",
    "plt.figure(figsize=(13, 8))\n",
    "plt.pie(Data, labels = mylabels, autopct=\"%.1f%%\", )\n",
    "plt.legend()\n",
    "plt.show() "
   ]
  },
  {
   "cell_type": "markdown",
   "metadata": {
    "id": "zDCzea2Klw_1"
   },
   "source": [
    "## 3. Models Creation\n"
   ]
  },
  {
   "cell_type": "code",
   "execution_count": 16,
   "metadata": {
    "colab": {
     "background_save": true
    },
    "id": "K58Sn8Gt_6v9"
   },
   "outputs": [
    {
     "name": "stdout",
     "output_type": "stream",
     "text": [
      "Model: \"sequential\"\n",
      "_________________________________________________________________\n",
      "Layer (type)                 Output Shape              Param #   \n",
      "=================================================================\n",
      "conv2d (Conv2D)              (None, 128, 128, 64)      1792      \n",
      "_________________________________________________________________\n",
      "conv2d_1 (Conv2D)            (None, 128, 128, 64)      36928     \n",
      "_________________________________________________________________\n",
      "conv2d_2 (Conv2D)            (None, 128, 128, 128)     73856     \n",
      "_________________________________________________________________\n",
      "conv2d_3 (Conv2D)            (None, 128, 128, 128)     147584    \n",
      "_________________________________________________________________\n",
      "max_pooling2d (MaxPooling2D) (None, 64, 64, 128)       0         \n",
      "_________________________________________________________________\n",
      "conv2d_4 (Conv2D)            (None, 64, 64, 256)       295168    \n",
      "_________________________________________________________________\n",
      "conv2d_5 (Conv2D)            (None, 64, 64, 256)       590080    \n",
      "_________________________________________________________________\n",
      "conv2d_6 (Conv2D)            (None, 64, 64, 256)       590080    \n",
      "_________________________________________________________________\n",
      "max_pooling2d_1 (MaxPooling2 (None, 32, 32, 256)       0         \n",
      "_________________________________________________________________\n",
      "flatten (Flatten)            (None, 262144)            0         \n",
      "_________________________________________________________________\n",
      "dense (Dense)                (None, 5)                 1310725   \n",
      "=================================================================\n",
      "Total params: 3,046,213\n",
      "Trainable params: 3,046,213\n",
      "Non-trainable params: 0\n",
      "_________________________________________________________________\n"
     ]
    }
   ],
   "source": [
    "m1 = Sequential()\n",
    "m1.add(Conv2D(input_shape=(SIZE_X , SIZE_Y, 3),filters=64,kernel_size=(3,3),padding=\"same\", activation=\"relu\"))\n",
    "m1.add(Conv2D(filters=64,kernel_size=(3,3),padding=\"same\", activation=\"relu\"))\n",
    "m1.add(Conv2D(filters=128, kernel_size=(3,3), padding=\"same\", activation=\"relu\"))\n",
    "m1.add(Conv2D(filters=128, kernel_size=(3,3), padding=\"same\", activation=\"relu\"))\n",
    "m1.add(MaxPooling2D(pool_size=(2,2),strides=(2,2)))\n",
    "\n",
    "m1.add(Conv2D(filters=256, kernel_size=(3,3), padding=\"same\", activation=\"relu\"))\n",
    "m1.add(Conv2D(filters=256, kernel_size=(3,3), padding=\"same\", activation=\"relu\"))\n",
    "m1.add(Conv2D(filters=256, kernel_size=(3,3), padding=\"same\", activation=\"relu\"))\n",
    "m1.add(MaxPooling2D(pool_size=(2,2),strides=(2,2)))\n",
    "\n",
    "m1.add(Flatten())\n",
    "m1.add(Dense(5, activation='softmax'))\n",
    "m1.compile(loss='categorical_crossentropy', optimizer='adam', \n",
    "                  metrics=['accuracy'])\n",
    "\n",
    "\n",
    "m1.summary()"
   ]
  },
  {
   "cell_type": "markdown",
   "metadata": {
    "id": "6aAVYS26t6c3"
   },
   "source": [
    "### 4. Model Training\n"
   ]
  },
  {
   "cell_type": "code",
   "execution_count": 17,
   "metadata": {
    "id": "LGT4MVY3tkyz"
   },
   "outputs": [
    {
     "name": "stdout",
     "output_type": "stream",
     "text": [
      "Epoch 1/150\n",
      "334/334 [==============================] - 60s 157ms/step - loss: 1.0156 - accuracy: 0.5808 - val_loss: 0.7054 - val_accuracy: 0.7100\n",
      "Epoch 2/150\n",
      "334/334 [==============================] - 48s 144ms/step - loss: 0.5134 - accuracy: 0.7914 - val_loss: 0.4902 - val_accuracy: 0.7809\n",
      "Epoch 3/150\n",
      "334/334 [==============================] - 48s 144ms/step - loss: 0.3483 - accuracy: 0.8671 - val_loss: 0.4171 - val_accuracy: 0.8343\n",
      "Epoch 4/150\n",
      "334/334 [==============================] - 48s 144ms/step - loss: 0.2341 - accuracy: 0.9141 - val_loss: 0.4306 - val_accuracy: 0.8378\n",
      "Epoch 5/150\n",
      "334/334 [==============================] - 48s 144ms/step - loss: 0.1666 - accuracy: 0.9372 - val_loss: 0.5613 - val_accuracy: 0.8385\n",
      "Epoch 6/150\n",
      "334/334 [==============================] - 48s 144ms/step - loss: 0.1268 - accuracy: 0.9528 - val_loss: 0.7008 - val_accuracy: 0.8202\n",
      "Epoch 7/150\n",
      "334/334 [==============================] - 48s 144ms/step - loss: 0.0890 - accuracy: 0.9679 - val_loss: 0.6571 - val_accuracy: 0.8560\n",
      "Epoch 8/150\n",
      "334/334 [==============================] - 49s 145ms/step - loss: 0.0524 - accuracy: 0.9821 - val_loss: 0.7168 - val_accuracy: 0.8385\n",
      "Epoch 9/150\n",
      "334/334 [==============================] - 49s 145ms/step - loss: 0.0464 - accuracy: 0.9841 - val_loss: 0.9434 - val_accuracy: 0.8617\n",
      "Epoch 10/150\n",
      "334/334 [==============================] - 48s 143ms/step - loss: 0.0567 - accuracy: 0.9800 - val_loss: 0.8586 - val_accuracy: 0.8188\n",
      "Epoch 11/150\n",
      "334/334 [==============================] - 48s 143ms/step - loss: 0.0357 - accuracy: 0.9891 - val_loss: 0.8389 - val_accuracy: 0.8546\n",
      "Epoch 12/150\n",
      "334/334 [==============================] - 48s 143ms/step - loss: 0.0297 - accuracy: 0.9908 - val_loss: 1.0952 - val_accuracy: 0.8251\n",
      "Epoch 13/150\n",
      "334/334 [==============================] - 48s 143ms/step - loss: 0.0304 - accuracy: 0.9913 - val_loss: 0.9239 - val_accuracy: 0.8596\n",
      "Epoch 14/150\n",
      "334/334 [==============================] - 48s 143ms/step - loss: 0.0287 - accuracy: 0.9912 - val_loss: 1.0144 - val_accuracy: 0.8638\n",
      "Epoch 15/150\n",
      "334/334 [==============================] - 48s 143ms/step - loss: 0.0292 - accuracy: 0.9915 - val_loss: 1.3371 - val_accuracy: 0.8588\n",
      "Epoch 16/150\n",
      "334/334 [==============================] - 48s 143ms/step - loss: 0.0256 - accuracy: 0.9922 - val_loss: 1.1910 - val_accuracy: 0.8406\n",
      "Epoch 17/150\n",
      "334/334 [==============================] - 48s 143ms/step - loss: 0.0346 - accuracy: 0.9905 - val_loss: 0.9504 - val_accuracy: 0.8715\n",
      "Epoch 18/150\n",
      "334/334 [==============================] - 48s 143ms/step - loss: 0.0198 - accuracy: 0.9935 - val_loss: 1.1578 - val_accuracy: 0.8603\n",
      "Epoch 19/150\n",
      "334/334 [==============================] - 48s 144ms/step - loss: 0.0245 - accuracy: 0.9930 - val_loss: 1.1036 - val_accuracy: 0.8687\n",
      "Epoch 20/150\n",
      "334/334 [==============================] - 48s 143ms/step - loss: 0.0217 - accuracy: 0.9929 - val_loss: 0.8880 - val_accuracy: 0.8638\n",
      "Epoch 21/150\n",
      "334/334 [==============================] - 48s 143ms/step - loss: 0.0221 - accuracy: 0.9922 - val_loss: 1.2379 - val_accuracy: 0.8434\n",
      "Epoch 22/150\n",
      "334/334 [==============================] - 48s 143ms/step - loss: 0.0227 - accuracy: 0.9928 - val_loss: 1.1454 - val_accuracy: 0.8574\n",
      "Epoch 23/150\n",
      "334/334 [==============================] - 48s 143ms/step - loss: 0.0200 - accuracy: 0.9939 - val_loss: 1.1017 - val_accuracy: 0.8427\n",
      "Epoch 24/150\n",
      "334/334 [==============================] - 49s 146ms/step - loss: 0.0191 - accuracy: 0.9937 - val_loss: 1.0994 - val_accuracy: 0.8603\n",
      "Epoch 25/150\n",
      "334/334 [==============================] - 48s 144ms/step - loss: 0.0138 - accuracy: 0.9954 - val_loss: 1.1616 - val_accuracy: 0.8525\n",
      "Epoch 26/150\n",
      "334/334 [==============================] - 49s 146ms/step - loss: 0.0288 - accuracy: 0.9928 - val_loss: 0.9381 - val_accuracy: 0.8483\n",
      "Epoch 27/150\n",
      "334/334 [==============================] - 48s 143ms/step - loss: 0.0149 - accuracy: 0.9954 - val_loss: 1.0448 - val_accuracy: 0.8624\n",
      "Epoch 28/150\n",
      "334/334 [==============================] - 48s 143ms/step - loss: 0.0165 - accuracy: 0.9955 - val_loss: 1.3212 - val_accuracy: 0.8427\n",
      "Epoch 29/150\n",
      "334/334 [==============================] - 48s 144ms/step - loss: 0.0106 - accuracy: 0.9966 - val_loss: 1.1396 - val_accuracy: 0.8490\n",
      "Epoch 30/150\n",
      "334/334 [==============================] - 48s 143ms/step - loss: 0.0261 - accuracy: 0.9913 - val_loss: 1.1749 - val_accuracy: 0.8645\n",
      "Epoch 31/150\n",
      "334/334 [==============================] - 49s 146ms/step - loss: 0.0092 - accuracy: 0.9977 - val_loss: 1.1011 - val_accuracy: 0.8715\n",
      "Epoch 32/150\n",
      "334/334 [==============================] - 49s 146ms/step - loss: 0.0170 - accuracy: 0.9948 - val_loss: 0.9899 - val_accuracy: 0.8567\n",
      "Epoch 33/150\n",
      "334/334 [==============================] - 49s 145ms/step - loss: 0.0076 - accuracy: 0.9978 - val_loss: 1.4195 - val_accuracy: 0.8364\n",
      "Epoch 34/150\n",
      "334/334 [==============================] - 48s 144ms/step - loss: 0.0201 - accuracy: 0.9945 - val_loss: 1.1098 - val_accuracy: 0.8638\n",
      "Epoch 35/150\n",
      "334/334 [==============================] - 48s 144ms/step - loss: 0.0125 - accuracy: 0.9956 - val_loss: 1.0037 - val_accuracy: 0.8652\n",
      "Epoch 36/150\n",
      "334/334 [==============================] - 48s 144ms/step - loss: 0.0258 - accuracy: 0.9931 - val_loss: 1.1345 - val_accuracy: 0.8539\n",
      "Epoch 37/150\n",
      "334/334 [==============================] - 48s 144ms/step - loss: 0.0095 - accuracy: 0.9970 - val_loss: 1.5129 - val_accuracy: 0.8652\n",
      "Epoch 38/150\n",
      "334/334 [==============================] - 48s 144ms/step - loss: 0.0145 - accuracy: 0.9963 - val_loss: 1.4595 - val_accuracy: 0.8469\n",
      "Epoch 39/150\n",
      "334/334 [==============================] - 48s 144ms/step - loss: 0.0160 - accuracy: 0.9954 - val_loss: 1.0133 - val_accuracy: 0.8588\n",
      "Epoch 40/150\n",
      "334/334 [==============================] - 48s 145ms/step - loss: 0.0095 - accuracy: 0.9969 - val_loss: 1.2879 - val_accuracy: 0.8610\n",
      "Epoch 41/150\n",
      "334/334 [==============================] - 48s 143ms/step - loss: 6.1913e-04 - accuracy: 0.9998 - val_loss: 1.3255 - val_accuracy: 0.8624\n",
      "Epoch 42/150\n",
      "334/334 [==============================] - 48s 144ms/step - loss: 5.2044e-05 - accuracy: 1.0000 - val_loss: 1.3741 - val_accuracy: 0.8645\n",
      "Epoch 43/150\n",
      "334/334 [==============================] - 49s 146ms/step - loss: 1.8870e-05 - accuracy: 1.0000 - val_loss: 1.3911 - val_accuracy: 0.8610\n",
      "Epoch 44/150\n",
      "334/334 [==============================] - 48s 145ms/step - loss: 1.3779e-05 - accuracy: 1.0000 - val_loss: 1.4099 - val_accuracy: 0.8617\n",
      "Epoch 45/150\n",
      "334/334 [==============================] - 49s 148ms/step - loss: 1.0408e-05 - accuracy: 1.0000 - val_loss: 1.4276 - val_accuracy: 0.8610\n",
      "Epoch 46/150\n",
      "334/334 [==============================] - 49s 146ms/step - loss: 8.0810e-06 - accuracy: 1.0000 - val_loss: 1.4471 - val_accuracy: 0.8610\n",
      "Epoch 47/150\n",
      "334/334 [==============================] - 48s 145ms/step - loss: 6.3086e-06 - accuracy: 1.0000 - val_loss: 1.4688 - val_accuracy: 0.8624\n",
      "Epoch 48/150\n",
      "334/334 [==============================] - 49s 148ms/step - loss: 4.8462e-06 - accuracy: 1.0000 - val_loss: 1.4909 - val_accuracy: 0.8631\n",
      "Epoch 49/150\n",
      "334/334 [==============================] - 49s 145ms/step - loss: 3.7787e-06 - accuracy: 1.0000 - val_loss: 1.5150 - val_accuracy: 0.8624\n",
      "Epoch 50/150\n",
      "334/334 [==============================] - 50s 148ms/step - loss: 2.8213e-06 - accuracy: 1.0000 - val_loss: 1.5402 - val_accuracy: 0.8631\n",
      "Epoch 51/150\n",
      "334/334 [==============================] - 50s 149ms/step - loss: 1.6820e-06 - accuracy: 1.0000 - val_loss: 1.5605 - val_accuracy: 0.8652\n",
      "Epoch 52/150\n",
      "334/334 [==============================] - 50s 149ms/step - loss: 9.0738e-07 - accuracy: 1.0000 - val_loss: 1.5722 - val_accuracy: 0.8701\n",
      "Epoch 53/150\n",
      "334/334 [==============================] - 49s 145ms/step - loss: 5.4232e-07 - accuracy: 1.0000 - val_loss: 1.5915 - val_accuracy: 0.8729\n",
      "Epoch 54/150\n",
      "334/334 [==============================] - 49s 146ms/step - loss: 3.3622e-07 - accuracy: 1.0000 - val_loss: 1.6054 - val_accuracy: 0.8715\n",
      "Epoch 55/150\n",
      "334/334 [==============================] - 48s 145ms/step - loss: 2.4231e-07 - accuracy: 1.0000 - val_loss: 1.6219 - val_accuracy: 0.8715\n",
      "Epoch 56/150\n"
     ]
    },
    {
     "name": "stdout",
     "output_type": "stream",
     "text": [
      "334/334 [==============================] - 49s 145ms/step - loss: 1.8978e-07 - accuracy: 1.0000 - val_loss: 1.6267 - val_accuracy: 0.8715\n",
      "Epoch 57/150\n",
      "334/334 [==============================] - 49s 146ms/step - loss: 1.4549e-07 - accuracy: 1.0000 - val_loss: 1.6335 - val_accuracy: 0.8729\n",
      "Epoch 58/150\n",
      "334/334 [==============================] - 49s 147ms/step - loss: 1.2008e-07 - accuracy: 1.0000 - val_loss: 1.6442 - val_accuracy: 0.8729\n",
      "Epoch 59/150\n",
      "334/334 [==============================] - 49s 147ms/step - loss: 9.7670e-08 - accuracy: 1.0000 - val_loss: 1.6544 - val_accuracy: 0.8743\n",
      "Epoch 60/150\n",
      "334/334 [==============================] - 49s 146ms/step - loss: 8.1579e-08 - accuracy: 1.0000 - val_loss: 1.6607 - val_accuracy: 0.8729\n",
      "Epoch 61/150\n",
      "334/334 [==============================] - 49s 146ms/step - loss: 6.8035e-08 - accuracy: 1.0000 - val_loss: 1.6728 - val_accuracy: 0.8743\n",
      "Epoch 62/150\n",
      "334/334 [==============================] - 48s 144ms/step - loss: 5.7662e-08 - accuracy: 1.0000 - val_loss: 1.6774 - val_accuracy: 0.8743\n",
      "Epoch 63/150\n",
      "334/334 [==============================] - 48s 145ms/step - loss: 4.9421e-08 - accuracy: 1.0000 - val_loss: 1.6836 - val_accuracy: 0.8722\n",
      "Epoch 64/150\n",
      "334/334 [==============================] - 48s 144ms/step - loss: 4.2275e-08 - accuracy: 1.0000 - val_loss: 1.7006 - val_accuracy: 0.8743\n",
      "Epoch 65/150\n",
      "334/334 [==============================] - 48s 144ms/step - loss: 3.6468e-08 - accuracy: 1.0000 - val_loss: 1.7058 - val_accuracy: 0.8750\n",
      "Epoch 66/150\n",
      "334/334 [==============================] - 48s 144ms/step - loss: 3.0964e-08 - accuracy: 1.0000 - val_loss: 1.7166 - val_accuracy: 0.8757\n",
      "Epoch 67/150\n",
      "334/334 [==============================] - 48s 144ms/step - loss: 2.6821e-08 - accuracy: 1.0000 - val_loss: 1.7207 - val_accuracy: 0.8750\n",
      "Epoch 68/150\n",
      "334/334 [==============================] - 48s 144ms/step - loss: 2.2958e-08 - accuracy: 1.0000 - val_loss: 1.7391 - val_accuracy: 0.8764\n",
      "Epoch 69/150\n",
      "334/334 [==============================] - 48s 144ms/step - loss: 2.0032e-08 - accuracy: 1.0000 - val_loss: 1.7477 - val_accuracy: 0.8764\n",
      "Epoch 70/150\n",
      "334/334 [==============================] - 48s 144ms/step - loss: 1.7162e-08 - accuracy: 1.0000 - val_loss: 1.7604 - val_accuracy: 0.8764\n",
      "Epoch 71/150\n",
      "334/334 [==============================] - 48s 144ms/step - loss: 1.4817e-08 - accuracy: 1.0000 - val_loss: 1.7721 - val_accuracy: 0.8757\n",
      "Epoch 72/150\n",
      "334/334 [==============================] - 48s 144ms/step - loss: 1.2674e-08 - accuracy: 1.0000 - val_loss: 1.7856 - val_accuracy: 0.8757\n",
      "Epoch 73/150\n",
      "334/334 [==============================] - 48s 144ms/step - loss: 1.1066e-08 - accuracy: 1.0000 - val_loss: 1.8025 - val_accuracy: 0.8764\n",
      "Epoch 74/150\n",
      "334/334 [==============================] - 48s 144ms/step - loss: 9.8150e-09 - accuracy: 1.0000 - val_loss: 1.8109 - val_accuracy: 0.8764\n",
      "Epoch 75/150\n",
      "334/334 [==============================] - 48s 144ms/step - loss: 8.3076e-09 - accuracy: 1.0000 - val_loss: 1.8314 - val_accuracy: 0.8764\n",
      "Epoch 76/150\n",
      "334/334 [==============================] - 48s 144ms/step - loss: 7.1016e-09 - accuracy: 1.0000 - val_loss: 1.8462 - val_accuracy: 0.8771\n",
      "Epoch 77/150\n",
      "334/334 [==============================] - 49s 146ms/step - loss: 6.4093e-09 - accuracy: 1.0000 - val_loss: 1.8671 - val_accuracy: 0.8771\n",
      "Epoch 78/150\n",
      "334/334 [==============================] - 48s 145ms/step - loss: 5.5942e-09 - accuracy: 1.0000 - val_loss: 1.8850 - val_accuracy: 0.8750\n",
      "Epoch 79/150\n",
      "334/334 [==============================] - 48s 143ms/step - loss: 4.6674e-09 - accuracy: 1.0000 - val_loss: 1.9120 - val_accuracy: 0.8750\n",
      "Epoch 80/150\n",
      "334/334 [==============================] - 48s 143ms/step - loss: 4.2989e-09 - accuracy: 1.0000 - val_loss: 1.9409 - val_accuracy: 0.8743\n",
      "Epoch 81/150\n",
      "334/334 [==============================] - 48s 143ms/step - loss: 3.6848e-09 - accuracy: 1.0000 - val_loss: 1.9634 - val_accuracy: 0.8743\n",
      "Epoch 82/150\n",
      "334/334 [==============================] - 48s 143ms/step - loss: 3.4838e-09 - accuracy: 1.0000 - val_loss: 1.9979 - val_accuracy: 0.8736\n",
      "Epoch 83/150\n",
      "334/334 [==============================] - 49s 146ms/step - loss: 3.0818e-09 - accuracy: 1.0000 - val_loss: 2.0318 - val_accuracy: 0.8722\n",
      "Epoch 84/150\n",
      "334/334 [==============================] - 51s 152ms/step - loss: 2.6017e-09 - accuracy: 1.0000 - val_loss: 2.0656 - val_accuracy: 0.8715\n",
      "Epoch 85/150\n",
      "334/334 [==============================] - 49s 148ms/step - loss: 2.5459e-09 - accuracy: 1.0000 - val_loss: 2.1077 - val_accuracy: 0.8701\n",
      "Epoch 86/150\n",
      "334/334 [==============================] - 49s 148ms/step - loss: 2.2109e-09 - accuracy: 1.0000 - val_loss: 2.1511 - val_accuracy: 0.8715\n",
      "Epoch 87/150\n",
      "334/334 [==============================] - 49s 147ms/step - loss: 2.1662e-09 - accuracy: 1.0000 - val_loss: 2.2181 - val_accuracy: 0.8715\n",
      "Epoch 88/150\n",
      "334/334 [==============================] - 50s 149ms/step - loss: 2.2332e-09 - accuracy: 1.0000 - val_loss: 2.2905 - val_accuracy: 0.8701\n",
      "Epoch 89/150\n",
      "334/334 [==============================] - 49s 146ms/step - loss: 1.6303e-09 - accuracy: 1.0000 - val_loss: 2.3492 - val_accuracy: 0.8687\n",
      "Epoch 90/150\n",
      "334/334 [==============================] - 48s 143ms/step - loss: 1.1278e-09 - accuracy: 1.0000 - val_loss: 2.4248 - val_accuracy: 0.8680\n",
      "Epoch 91/150\n",
      "334/334 [==============================] - 48s 143ms/step - loss: 1.1501e-09 - accuracy: 1.0000 - val_loss: 2.4862 - val_accuracy: 0.8673\n",
      "Epoch 92/150\n",
      "334/334 [==============================] - 49s 145ms/step - loss: 0.1202 - accuracy: 0.9778 - val_loss: 1.2589 - val_accuracy: 0.8434\n",
      "Epoch 93/150\n",
      "334/334 [==============================] - 49s 147ms/step - loss: 0.0184 - accuracy: 0.9939 - val_loss: 1.0637 - val_accuracy: 0.8476\n",
      "Epoch 94/150\n",
      "334/334 [==============================] - 48s 144ms/step - loss: 0.0104 - accuracy: 0.9969 - val_loss: 1.1553 - val_accuracy: 0.8567\n",
      "Epoch 95/150\n",
      "334/334 [==============================] - 48s 143ms/step - loss: 0.0025 - accuracy: 0.9993 - val_loss: 1.1587 - val_accuracy: 0.8701\n",
      "Epoch 96/150\n",
      "334/334 [==============================] - 48s 143ms/step - loss: 0.0133 - accuracy: 0.9967 - val_loss: 1.3054 - val_accuracy: 0.8560\n",
      "Epoch 97/150\n",
      "334/334 [==============================] - 48s 143ms/step - loss: 0.0032 - accuracy: 0.9985 - val_loss: 1.2760 - val_accuracy: 0.8603\n",
      "Epoch 98/150\n",
      "334/334 [==============================] - 48s 143ms/step - loss: 0.0014 - accuracy: 0.9994 - val_loss: 1.3157 - val_accuracy: 0.8666\n",
      "Epoch 99/150\n",
      "334/334 [==============================] - 48s 143ms/step - loss: 0.0027 - accuracy: 0.9993 - val_loss: 1.3906 - val_accuracy: 0.8603\n",
      "Epoch 100/150\n",
      "334/334 [==============================] - 48s 143ms/step - loss: 5.2548e-04 - accuracy: 0.9998 - val_loss: 1.4438 - val_accuracy: 0.8567\n",
      "Epoch 101/150\n",
      "334/334 [==============================] - 48s 143ms/step - loss: 0.0331 - accuracy: 0.9908 - val_loss: 1.2184 - val_accuracy: 0.8560\n",
      "Epoch 102/150\n",
      "334/334 [==============================] - 48s 144ms/step - loss: 0.0066 - accuracy: 0.9984 - val_loss: 1.1314 - val_accuracy: 0.8574\n",
      "Epoch 103/150\n",
      "334/334 [==============================] - 48s 145ms/step - loss: 0.0057 - accuracy: 0.9983 - val_loss: 1.4040 - val_accuracy: 0.8666\n",
      "Epoch 104/150\n",
      "334/334 [==============================] - 48s 144ms/step - loss: 0.0373 - accuracy: 0.9911 - val_loss: 1.2691 - val_accuracy: 0.8448\n",
      "Epoch 105/150\n",
      "334/334 [==============================] - 48s 144ms/step - loss: 0.0079 - accuracy: 0.9976 - val_loss: 1.5699 - val_accuracy: 0.8525\n",
      "Epoch 106/150\n",
      "334/334 [==============================] - 48s 145ms/step - loss: 0.0111 - accuracy: 0.9963 - val_loss: 1.8129 - val_accuracy: 0.8301\n",
      "Epoch 107/150\n",
      "334/334 [==============================] - 48s 145ms/step - loss: 0.0154 - accuracy: 0.9967 - val_loss: 1.3898 - val_accuracy: 0.8532\n",
      "Epoch 108/150\n",
      "334/334 [==============================] - 48s 145ms/step - loss: 0.0034 - accuracy: 0.9991 - val_loss: 1.4409 - val_accuracy: 0.8680\n",
      "Epoch 109/150\n",
      "334/334 [==============================] - 50s 150ms/step - loss: 2.9877e-04 - accuracy: 0.9998 - val_loss: 1.5559 - val_accuracy: 0.8631\n",
      "Epoch 110/150\n",
      "334/334 [==============================] - 49s 146ms/step - loss: 5.3624e-05 - accuracy: 1.0000 - val_loss: 1.5779 - val_accuracy: 0.8666\n"
     ]
    },
    {
     "name": "stdout",
     "output_type": "stream",
     "text": [
      "Epoch 111/150\n",
      "334/334 [==============================] - 48s 144ms/step - loss: 8.2134e-06 - accuracy: 1.0000 - val_loss: 1.5869 - val_accuracy: 0.8673\n",
      "Epoch 112/150\n",
      "334/334 [==============================] - 48s 145ms/step - loss: 6.1371e-06 - accuracy: 1.0000 - val_loss: 1.5953 - val_accuracy: 0.8673\n",
      "Epoch 113/150\n",
      "334/334 [==============================] - 48s 144ms/step - loss: 4.7265e-06 - accuracy: 1.0000 - val_loss: 1.6029 - val_accuracy: 0.8694\n"
     ]
    },
    {
     "data": {
      "text/plain": [
       "<keras.callbacks.History at 0x165f495fbe0>"
      ]
     },
     "execution_count": 17,
     "metadata": {},
     "output_type": "execute_result"
    }
   ],
   "source": [
    "from tensorflow.keras.callbacks import EarlyStopping\n",
    "early_stop = EarlyStopping(monitor = 'loss', patience = 23 )\n",
    "\n",
    "m1.fit(X_train,y_train,epochs=150,batch_size=32, validation_data=(X_val,y_val), callbacks = [early_stop], verbose=1)"
   ]
  },
  {
   "cell_type": "code",
   "execution_count": 18,
   "metadata": {
    "id": "d6OA7oX-yByT"
   },
   "outputs": [],
   "source": [
    "# Get training history\n",
    "metrics = pd.DataFrame(m1.history.history)"
   ]
  },
  {
   "cell_type": "code",
   "execution_count": 19,
   "metadata": {},
   "outputs": [],
   "source": [
    "import os\n",
    "exp_num = []\n",
    "if not os.path.exists(\"./experiments\"):\n",
    "    os.mkdir(\"./experiments\")\n",
    "folders = os.listdir(\"./experiments\")\n",
    "for folder in folders:\n",
    "    exp_num.append(int(folder.split(\"#\")[1]))\n",
    "\n",
    "\n",
    "if len(exp_num) == 0:\n",
    "    exp_path = r\"./experiments/exp#1\"\n",
    "else:\n",
    "    exp_path = r\"./experiments/exp#\"+str(max(exp_num)+1)\n",
    "\n",
    "\n",
    "\n",
    "\n",
    "os.mkdir(exp_path)\n",
    "os.mkdir(os.path.join(exp_path, \"results\"))\n",
    "os.mkdir(os.path.join(exp_path, \"weights\"))\n",
    "\n",
    "results = os.path.join(exp_path, \"results\")\n",
    "weights = os.path.join(exp_path, \"weights\")"
   ]
  },
  {
   "cell_type": "code",
   "execution_count": 20,
   "metadata": {},
   "outputs": [
    {
     "name": "stdout",
     "output_type": "stream",
     "text": [
      "./experiments/exp#1\\results\n"
     ]
    }
   ],
   "source": [
    "print(results)"
   ]
  },
  {
   "cell_type": "code",
   "execution_count": 21,
   "metadata": {
    "id": "vs5CCwj993FX"
   },
   "outputs": [
    {
     "name": "stdout",
     "output_type": "stream",
     "text": [
      "67/67 [==============================] - 4s 66ms/step - loss: 1.6137 - accuracy: 0.8600\n"
     ]
    }
   ],
   "source": [
    "# Save The Trained model along with it training history   \n",
    "Accuracy = m1.evaluate(X_test, y_test)[-1]\n",
    "name = str(round(Accuracy, 4))\n",
    "\n",
    "metrics.to_pickle(os.path.join(results, name+'.pkl'))\n",
    "m1.save(os.path.join(weights, name + '.h5'))"
   ]
  },
  {
   "cell_type": "code",
   "execution_count": 22,
   "metadata": {
    "id": "5F7i-oCwytup",
    "scrolled": true
   },
   "outputs": [
    {
     "data": {
      "image/png": "[encoded data removed]",
      "text/plain": [
       "<Figure size 720x504 with 1 Axes>"
      ]
     },
     "metadata": {
      "needs_background": "light"
     },
     "output_type": "display_data"
    },
    {
     "data": {
      "image/png": "[encoded data removed]",
      "text/plain": [
       "<Figure size 720x504 with 1 Axes>"
      ]
     },
     "metadata": {
      "needs_background": "light"
     },
     "output_type": "display_data"
    }
   ],
   "source": [
    "## Dispaly the plot of \n",
    "rows = 2\n",
    "columns = 1\n",
    "  \n",
    "# Display Train loss vs Validation loss at each Epoch\n",
    "fig = plt.figure(figsize=(10, 7))\n",
    "fig.add_subplot(rows, columns, 1)\n",
    "plt.plot(metrics['loss'])\n",
    "plt.plot(metrics['val_loss'])\n",
    "plt.title('Model Loss')\n",
    "plt.ylabel('loss')\n",
    "plt.xlabel('epoch')\n",
    "plt.legend(['train', 'val'], loc='upper left')\n",
    "plt.savefig(os.path.join(results, 'loss_epoch.png'))\n",
    "plt.show()\n",
    "\n",
    "  \n",
    "# Display Train loss vs Validation loss at each Epoch\n",
    "fig = plt.figure(figsize=(10, 7))\n",
    "fig.add_subplot(rows, columns, 2)\n",
    "plt.plot(metrics['accuracy'])\n",
    "plt.plot(metrics['val_accuracy'])\n",
    "plt.title('Model Accuracy')\n",
    "plt.ylabel('accuracy')\n",
    "plt.xlabel('epoch')\n",
    "plt.legend(['train', 'val'], loc='upper left')\n",
    "plt.savefig(os.path.join(results, 'acc_epoch.png'))\n",
    "plt.show()\n",
    "\n"
   ]
  },
  {
   "cell_type": "code",
   "execution_count": 23,
   "metadata": {
    "id": "HQOKaA8zfv4K"
   },
   "outputs": [],
   "source": [
    "## Get the \n",
    "predict_x = m1.predict(X_test) \n",
    "predictions = np.argmax(predict_x,axis=1) "
   ]
  },
  {
   "cell_type": "code",
   "execution_count": 24,
   "metadata": {
    "id": "xy9_ZzsYkByi"
   },
   "outputs": [],
   "source": [
    "# Decode the Model's predections  (from [0,1,0,2..] to ['Glioma','Meningioma'...]) of the Test set using the the dictionary 'decode_dict' \n",
    "predictions = np.vectorize(decode_dict.get)(predictions)"
   ]
  },
  {
   "cell_type": "code",
   "execution_count": 25,
   "metadata": {
    "id": "IVYX1MCzjx00"
   },
   "outputs": [
    {
     "name": "stdout",
     "output_type": "stream",
     "text": [
      "              precision    recall  f1-score   support\n",
      "\n",
      "   Glioma II       0.77      0.75      0.76       428\n",
      "  Glioma III       0.78      0.78      0.78       356\n",
      "   Glioma VI       0.77      0.79      0.78       420\n",
      "  Meningioma       0.99      0.96      0.97       456\n",
      "   Pituitary       0.96      0.99      0.97       476\n",
      "\n",
      "    accuracy                           0.86      2136\n",
      "   macro avg       0.85      0.85      0.85      2136\n",
      "weighted avg       0.86      0.86      0.86      2136\n",
      "\n"
     ]
    }
   ],
   "source": [
    "print(classification_report(y_test_eval, predictions))"
   ]
  },
  {
   "cell_type": "code",
   "execution_count": 26,
   "metadata": {
    "id": "HOVPJjy0udhD"
   },
   "outputs": [
    {
     "data": {
      "image/png": "[encoded data removed]",
      "text/plain": [
       "<Figure size 720x504 with 2 Axes>"
      ]
     },
     "metadata": {
      "needs_background": "light"
     },
     "output_type": "display_data"
    }
   ],
   "source": [
    "labels = sorted([\"Glioma II\", \"Glioma III\", \"Glioma VI\", \"Meningioma\", \"Pituitary\"])\n",
    "\n",
    "cm = pd.DataFrame(confusion_matrix(y_test_eval, predictions), index=labels, columns=labels)\n",
    "plt.figure(figsize = (10,7))\n",
    "plt.title('Confusion matrix')\n",
    "sns.heatmap(cm, annot=True, cmap=\"PuBu\",fmt = 'd')\n",
    "plt.ylabel('True labels')\n",
    "plt.xlabel('Predicted labels')\n",
    "plt.savefig(os.path.join(results, 'confusion_matrix.png'))\n",
    "plt.show()"
   ]
  },
  {
   "cell_type": "code",
   "execution_count": null,
   "metadata": {
    "id": "7_fru9v4mHup"
   },
   "outputs": [],
   "source": []
  },
  {
   "cell_type": "code",
   "execution_count": null,
   "metadata": {},
   "outputs": [],
   "source": []
  },
  {
   "cell_type": "code",
   "execution_count": null,
   "metadata": {},
   "outputs": [],
   "source": []
  }
 ],
 "metadata": {
  "accelerator": "GPU",
  "colab": {
   "collapsed_sections": [],
   "name": "5_labels_model_v1.ipynb",
   "provenance": []
  },
  "kernelspec": {
   "display_name": "Python 3 (ipykernel)",
   "language": "python",
   "name": "python3"
  },
  "language_info": {
   "codemirror_mode": {
    "name": "ipython",
    "version": 3
   },
   "file_extension": ".py",
   "mimetype": "text/x-python",
   "name": "python",
   "nbconvert_exporter": "python",
   "pygments_lexer": "ipython3",
   "version": "3.9.7"
  }
 },
 "nbformat": 4,
 "nbformat_minor": 1
}
