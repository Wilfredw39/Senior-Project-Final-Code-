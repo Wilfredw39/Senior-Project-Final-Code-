{
 "cells": [
  {
   "cell_type": "code",
   "execution_count": 1,
   "id": "2c25d8e0",
   "metadata": {},
   "outputs": [
    {
     "data": {
      "text/plain": [
       "'./experiments/exp#3\\\\results\\\\VGG16_M_6Ls_ex_3.ipynb'"
      ]
     },
     "execution_count": 1,
     "metadata": {},
     "output_type": "execute_result"
    }
   ],
   "source": [
    "file_name = \"VGG16_M_6Ls\"\n",
    "\n",
    "import os\n",
    "exp_num = []\n",
    "folders = os.listdir(\"./experiments\")\n",
    "for folder in folders:\n",
    "    exp_num.append(int(folder.split(\"#\")[1]))\n",
    "exp_path = r\"./experiments/exp#\"+str(max(exp_num))\n",
    "results = os.path.join(exp_path, \"results\")\n",
    "\n",
    "\n",
    "import shutil\n",
    "original = file_name+\".ipynb\"\n",
    "target = os.path.join(results,\"{}_ex_{}.ipynb\".format(file_name, max(exp_num)))\n",
    "shutil.copyfile(original, target)"
   ]
  },
  {
   "cell_type": "code",
   "execution_count": null,
   "id": "03415b6d",
   "metadata": {},
   "outputs": [],
   "source": []
  },
  {
   "cell_type": "code",
   "execution_count": null,
   "id": "22471c89",
   "metadata": {},
   "outputs": [],
   "source": []
  }
 ],
 "metadata": {
  "kernelspec": {
   "display_name": "Python 3 (ipykernel)",
   "language": "python",
   "name": "python3"
  },
  "language_info": {
   "codemirror_mode": {
    "name": "ipython",
    "version": 3
   },
   "file_extension": ".py",
   "mimetype": "text/x-python",
   "name": "python",
   "nbconvert_exporter": "python",
   "pygments_lexer": "ipython3",
   "version": "3.9.7"
  }
 },
 "nbformat": 4,
 "nbformat_minor": 5
}
