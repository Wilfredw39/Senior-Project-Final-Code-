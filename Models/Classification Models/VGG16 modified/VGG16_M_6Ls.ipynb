{
 "cells": [
  {
   "cell_type": "markdown",
   "metadata": {
    "id": "vt51_KACTdGf"
   },
   "source": [
    "## 0. Setting up the Environment\n"
   ]
  },
  {
   "cell_type": "code",
   "execution_count": 1,
   "metadata": {
    "colab": {
     "base_uri": "https://localhost:8080/"
    },
    "id": "D4Z6Zv3PSOcg",
    "outputId": "b87040f7-50f1-4633-bcd9-415194d37d2e"
   },
   "outputs": [],
   "source": [
    "## impoort labaries \n",
    "import os \n",
    "import cv2\n",
    "import mat73\n",
    "import time\n",
    "import keras\n",
    "import pandas as pd\n",
    "import numpy as np \n",
    "import seaborn as sns\n",
    "import skimage\n",
    "import tensorflow as tf\n",
    "import matplotlib.pyplot as plt\n",
    "from PIL import Image, ImageOps \n",
    "from skimage.transform import resize\n",
    "from keras.models import Sequential\n",
    "from tensorflow.keras import optimizers\n",
    "from tqdm.notebook import tqdm_notebook as tqdm\n",
    "from sklearn.metrics import classification_report, confusion_matrix\n",
    "from keras.layers import Conv2D, MaxPooling2D, Flatten, Dense, Dropout, BatchNormalization,  Convolution2D"
   ]
  },
  {
   "cell_type": "markdown",
   "metadata": {
    "id": "sYWmkuxOWtm4"
   },
   "source": [
    "## 1. Data Importing "
   ]
  },
  {
   "cell_type": "code",
   "execution_count": 2,
   "metadata": {},
   "outputs": [],
   "source": [
    "SIZE_X = 128\n",
    "SIZE_Y = 128\n",
    "SIZE_Z = 1\n",
    "CLASS_NUM = 6\n",
    "\n",
    "aug_train_DF = pd.read_pickle(r\"../../../Datasets/Dataset_B_2/aug_train_DF_{}.pkl\".format(SIZE_X))\n",
    "aug_val_DF = pd.read_pickle(r\"../../../Datasets/Dataset_B_2/aug_val_DF_{}.pkl\".format(SIZE_X))\n",
    "aug_test_DF = pd.read_pickle(r\"../../../Datasets/Dataset_B_2/aug_test_DF_{}.pkl\".format(SIZE_X))"
   ]
  },
  {
   "cell_type": "code",
   "execution_count": 3,
   "metadata": {
    "colab": {
     "background_save": true
    },
    "id": "kaaNJb4nR5Z5",
    "outputId": "229fd2a5-846a-4168-abdf-2db9f91c282d"
   },
   "outputs": [
    {
     "data": {
      "text/html": [
       "<div>\n",
       "<style scoped>\n",
       "    .dataframe tbody tr th:only-of-type {\n",
       "        vertical-align: middle;\n",
       "    }\n",
       "\n",
       "    .dataframe tbody tr th {\n",
       "        vertical-align: top;\n",
       "    }\n",
       "\n",
       "    .dataframe thead th {\n",
       "        text-align: right;\n",
       "    }\n",
       "</style>\n",
       "<table border=\"1\" class=\"dataframe\">\n",
       "  <thead>\n",
       "    <tr style=\"text-align: right;\">\n",
       "      <th></th>\n",
       "      <th>PID</th>\n",
       "      <th>Label</th>\n",
       "      <th>Image</th>\n",
       "      <th>File</th>\n",
       "    </tr>\n",
       "  </thead>\n",
       "  <tbody>\n",
       "    <tr>\n",
       "      <th>5148</th>\n",
       "      <td>HF1551</td>\n",
       "      <td>Glioma II</td>\n",
       "      <td>[[0.0, 0.0, 0.0, 0.0, 0.0, 0.0, 0.0, 0.0, 0.0,...</td>\n",
       "      <td>D:\\Datasets\\manifest-tXudPFfp43472957274060920...</td>\n",
       "    </tr>\n",
       "    <tr>\n",
       "      <th>3661</th>\n",
       "      <td>Heatly_dataset_#998</td>\n",
       "      <td>No tumor</td>\n",
       "      <td>[[0.0, 0.0, 0.0, 0.0, 0.0, 0.0, 0.0, 0.0, 0.0,...</td>\n",
       "      <td>no723.jpg</td>\n",
       "    </tr>\n",
       "    <tr>\n",
       "      <th>1690</th>\n",
       "      <td>97416</td>\n",
       "      <td>Pituitary</td>\n",
       "      <td>[[0.0, 0.0, 0.0, 0.0, 0.0, 0.0, 0.0, 0.0, 0.00...</td>\n",
       "      <td>1579.mat</td>\n",
       "    </tr>\n",
       "    <tr>\n",
       "      <th>15259</th>\n",
       "      <td>112746</td>\n",
       "      <td>Pituitary</td>\n",
       "      <td>[[0.0, 0.0, 0.0, 0.0, 0.0, 0.0, 0.0, 0.0, 0.0,...</td>\n",
       "      <td>1259.mat</td>\n",
       "    </tr>\n",
       "    <tr>\n",
       "      <th>12824</th>\n",
       "      <td>HF1381</td>\n",
       "      <td>Glioma II</td>\n",
       "      <td>[[0.0, 0.0, 0.0, 0.0, 0.0, 0.0, 0.0, 0.0, 0.0,...</td>\n",
       "      <td>D:\\Datasets\\manifest-tXudPFfp43472957274060920...</td>\n",
       "    </tr>\n",
       "  </tbody>\n",
       "</table>\n",
       "</div>"
      ],
      "text/plain": [
       "                       PID      Label  \\\n",
       "5148                HF1551  Glioma II   \n",
       "3661   Heatly_dataset_#998   No tumor   \n",
       "1690                 97416  Pituitary   \n",
       "15259               112746  Pituitary   \n",
       "12824               HF1381  Glioma II   \n",
       "\n",
       "                                                   Image  \\\n",
       "5148   [[0.0, 0.0, 0.0, 0.0, 0.0, 0.0, 0.0, 0.0, 0.0,...   \n",
       "3661   [[0.0, 0.0, 0.0, 0.0, 0.0, 0.0, 0.0, 0.0, 0.0,...   \n",
       "1690   [[0.0, 0.0, 0.0, 0.0, 0.0, 0.0, 0.0, 0.0, 0.00...   \n",
       "15259  [[0.0, 0.0, 0.0, 0.0, 0.0, 0.0, 0.0, 0.0, 0.0,...   \n",
       "12824  [[0.0, 0.0, 0.0, 0.0, 0.0, 0.0, 0.0, 0.0, 0.0,...   \n",
       "\n",
       "                                                    File  \n",
       "5148   D:\\Datasets\\manifest-tXudPFfp43472957274060920...  \n",
       "3661                                           no723.jpg  \n",
       "1690                                            1579.mat  \n",
       "15259                                           1259.mat  \n",
       "12824  D:\\Datasets\\manifest-tXudPFfp43472957274060920...  "
      ]
     },
     "execution_count": 3,
     "metadata": {},
     "output_type": "execute_result"
    }
   ],
   "source": [
    "## Combain the df with the Pitutary & Meningioma types with the dataframe of the Glioma grades (I, II,, IV).\n",
    "pd.concat([aug_train_DF, aug_val_DF, aug_test_DF], axis=0, ignore_index = True).sample(5)"
   ]
  },
  {
   "cell_type": "code",
   "execution_count": 4,
   "metadata": {},
   "outputs": [
    {
     "name": "stdout",
     "output_type": "stream",
     "text": [
      "<class 'pandas.core.frame.DataFrame'>\n",
      "RangeIndex: 18612 entries, 0 to 18611\n",
      "Data columns (total 4 columns):\n",
      " #   Column  Non-Null Count  Dtype \n",
      "---  ------  --------------  ----- \n",
      " 0   PID     18612 non-null  object\n",
      " 1   Label   18612 non-null  object\n",
      " 2   Image   18612 non-null  object\n",
      " 3   File    18612 non-null  object\n",
      "dtypes: object(4)\n",
      "memory usage: 581.8+ KB\n"
     ]
    }
   ],
   "source": [
    "pd.concat([aug_train_DF, aug_val_DF, aug_test_DF], axis=0, ignore_index = True).info(5)"
   ]
  },
  {
   "cell_type": "code",
   "execution_count": 5,
   "metadata": {
    "colab": {
     "background_save": true
    },
    "id": "uJEttBBOU9IN",
    "outputId": "d176e92f-d35f-4f92-a264-ead1e87244e6"
   },
   "outputs": [
    {
     "name": "stderr",
     "output_type": "stream",
     "text": [
      "C:\\Users\\Ma7moud\\anaconda3\\envs\\T-UNet\\lib\\site-packages\\seaborn\\_decorators.py:36: FutureWarning: Pass the following variable as a keyword arg: x. From version 0.12, the only valid positional argument will be `data`, and passing other arguments without an explicit keyword will result in an error or misinterpretation.\n",
      "  warnings.warn(\n"
     ]
    },
    {
     "data": {
      "image/png": "[encoded data removed]",
      "text/plain": [
       "<Figure size 432x288 with 1 Axes>"
      ]
     },
     "metadata": {
      "needs_background": "light"
     },
     "output_type": "display_data"
    }
   ],
   "source": [
    "sns.countplot(pd.concat([aug_train_DF, aug_val_DF, aug_test_DF], axis=0, ignore_index = True).Label)\n",
    "plt.show()"
   ]
  },
  {
   "cell_type": "code",
   "execution_count": 6,
   "metadata": {
    "colab": {
     "background_save": true
    },
    "id": "AWLSJpw6WVVo",
    "outputId": "348d3fee-c3a5-442d-96af-5711dec23128"
   },
   "outputs": [
    {
     "data": {
      "image/png": "[encoded data removed]",
      "text/plain": [
       "<Figure size 432x288 with 1 Axes>"
      ]
     },
     "metadata": {},
     "output_type": "display_data"
    }
   ],
   "source": [
    "data = aug_train_DF.groupby(\"Label\")[\"Label\"].count()\n",
    "data.plot.pie(autopct=\"%.1f%%\");"
   ]
  },
  {
   "cell_type": "code",
   "execution_count": 7,
   "metadata": {},
   "outputs": [
    {
     "data": {
      "image/png": "[encoded data removed]",
      "text/plain": [
       "<Figure size 432x288 with 1 Axes>"
      ]
     },
     "metadata": {},
     "output_type": "display_data"
    }
   ],
   "source": [
    "data = aug_val_DF.groupby(\"Label\")[\"Label\"].count()\n",
    "data.plot.pie(autopct=\"%.1f%%\");"
   ]
  },
  {
   "cell_type": "code",
   "execution_count": 8,
   "metadata": {},
   "outputs": [
    {
     "data": {
      "image/png": "[encoded data removed]",
      "text/plain": [
       "<Figure size 432x288 with 1 Axes>"
      ]
     },
     "metadata": {},
     "output_type": "display_data"
    }
   ],
   "source": [
    "data = aug_test_DF.groupby(\"Label\")[\"Label\"].count()\n",
    "data.plot.pie(autopct=\"%.1f%%\");"
   ]
  },
  {
   "cell_type": "markdown",
   "metadata": {
    "id": "Zf3vh4d7w3ZP"
   },
   "source": [
    "## 2. Data-Preprocessing "
   ]
  },
  {
   "cell_type": "markdown",
   "metadata": {
    "id": "Kd502KoZONei"
   },
   "source": [
    "### 2.1 Image Resizing \n"
   ]
  },
  {
   "cell_type": "markdown",
   "metadata": {
    "id": "oDIYJ9-3OWho"
   },
   "source": [
    "### 2.2 Data Augmentation"
   ]
  },
  {
   "cell_type": "markdown",
   "metadata": {},
   "source": [
    "### 2.3 Grayscale to RGB"
   ]
  },
  {
   "cell_type": "code",
   "execution_count": 9,
   "metadata": {
    "colab": {
     "background_save": true
    },
    "id": "hzz5yapeG-M7",
    "outputId": "0d2f1eb1-953a-4141-8ab9-4cb02b8519e8"
   },
   "outputs": [],
   "source": [
    "def normalize(img):\n",
    "    plt.imsave('DR.png', img, cmap='gray')\n",
    "    return cv2.imread('DR.png')[:, :, SIZE_Z]"
   ]
  },
  {
   "cell_type": "code",
   "execution_count": 10,
   "metadata": {},
   "outputs": [],
   "source": [
    "aug_train_DF[\"Image\"] = aug_train_DF[\"Image\"].apply(normalize)\n",
    "aug_val_DF[\"Image\"] = aug_val_DF[\"Image\"].apply(normalize)\n",
    "aug_test_DF[\"Image\"] = aug_test_DF[\"Image\"].apply(normalize)"
   ]
  },
  {
   "cell_type": "markdown",
   "metadata": {
    "id": "yg8moTnTaNeT"
   },
   "source": [
    "### 2.4 Splitting Data into Train, Test, and Validation Sets"
   ]
  },
  {
   "cell_type": "code",
   "execution_count": 11,
   "metadata": {},
   "outputs": [],
   "source": [
    "y_train = aug_train_DF[\"Label\"]\n",
    "X_train = aug_train_DF['Image'].tolist()\n",
    "X_train = np.array(X_train).reshape(-1, SIZE_X, SIZE_Y, SIZE_Z)\n",
    "\n",
    "\n",
    "y_val = aug_val_DF[\"Label\"]\n",
    "X_val = aug_val_DF['Image'].tolist()\n",
    "X_val = np.array(X_val).reshape(-1, SIZE_X, SIZE_Y, SIZE_Z)\n",
    "\n",
    "y_test = aug_test_DF[\"Label\"]\n",
    "X_test = aug_test_DF['Image'].tolist()\n",
    "X_test = np.array(X_test).reshape(-1, SIZE_X, SIZE_Y, SIZE_Z)\n"
   ]
  },
  {
   "cell_type": "code",
   "execution_count": 12,
   "metadata": {},
   "outputs": [
    {
     "name": "stdout",
     "output_type": "stream",
     "text": [
      "X_train shape: (13960, 128, 128, 1) | y_train shape: (13960,)\n",
      "X_val shape  : (1860, 128, 128, 1)  | y_test shape :  (1860,)\n",
      "X_test shape : (2792, 128, 128, 1)  | y_test shape :  (2792,)\n"
     ]
    }
   ],
   "source": [
    "print(\"X_train shape:\", X_train.shape,\"| y_train shape:\", y_train.shape)\n",
    "print(\"X_val shape  :\",X_val.shape,\" | y_test shape : \", y_val.shape)\n",
    "print(\"X_test shape :\",X_test.shape,\" | y_test shape : \", y_test.shape)"
   ]
  },
  {
   "cell_type": "markdown",
   "metadata": {},
   "source": [
    "### 2.5 One-Hot Encode the labels "
   ]
  },
  {
   "cell_type": "code",
   "execution_count": 13,
   "metadata": {
    "colab": {
     "background_save": true
    },
    "id": "uR_Cv0khfpyS",
    "outputId": "0fa96dd1-5899-45b2-9d73-5fcbc132a797"
   },
   "outputs": [],
   "source": [
    "# saving a copy of the testing labels before one hot encoding\n",
    "y_test_eval = y_test\n",
    "# one hot endcoding the labels \n",
    "y_train = pd.get_dummies(y_train)\n",
    "y_test  = pd.get_dummies(y_test)\n",
    "y_val   = pd.get_dummies(y_val)"
   ]
  },
  {
   "cell_type": "code",
   "execution_count": 14,
   "metadata": {},
   "outputs": [
    {
     "name": "stdout",
     "output_type": "stream",
     "text": [
      "X_train shape: (13960, 128, 128, 1) | y_train shape: (13960, 6)\n",
      "X_test shape : (2792, 128, 128, 1)  | y_test shape:  (2792, 6)\n",
      "X_val shape  : (1860, 128, 128, 1)  | y_val shape :  (1860, 6)\n",
      "\n",
      "Total number: 18612\n"
     ]
    }
   ],
   "source": [
    "print(\"X_train shape:\", X_train.shape,\"| y_train shape:\", y_train.shape)\n",
    "print(\"X_test shape :\",X_test.shape,\" | y_test shape: \", y_test.shape)\n",
    "print(\"X_val shape  :\",X_val.shape,\" | y_val shape : \", y_val.shape)\n",
    "print(\"\\nTotal number: {}\".format(len(aug_train_DF)+len(aug_val_DF)+len(aug_test_DF)))"
   ]
  },
  {
   "cell_type": "code",
   "execution_count": 15,
   "metadata": {
    "colab": {
     "background_save": true
    },
    "id": "3DctvR_fVPlF",
    "outputId": "bdf93bfa-b00d-49a3-99c8-f2bde2731658"
   },
   "outputs": [
    {
     "data": {
      "text/html": [
       "<div>\n",
       "<style scoped>\n",
       "    .dataframe tbody tr th:only-of-type {\n",
       "        vertical-align: middle;\n",
       "    }\n",
       "\n",
       "    .dataframe tbody tr th {\n",
       "        vertical-align: top;\n",
       "    }\n",
       "\n",
       "    .dataframe thead th {\n",
       "        text-align: right;\n",
       "    }\n",
       "</style>\n",
       "<table border=\"1\" class=\"dataframe\">\n",
       "  <thead>\n",
       "    <tr style=\"text-align: right;\">\n",
       "      <th></th>\n",
       "      <th>Glioma II</th>\n",
       "      <th>Glioma III</th>\n",
       "      <th>Glioma VI</th>\n",
       "      <th>Meningioma</th>\n",
       "      <th>No tumor</th>\n",
       "      <th>Pituitary</th>\n",
       "    </tr>\n",
       "  </thead>\n",
       "  <tbody>\n",
       "    <tr>\n",
       "      <th>0</th>\n",
       "      <td>0</td>\n",
       "      <td>0</td>\n",
       "      <td>0</td>\n",
       "      <td>0</td>\n",
       "      <td>1</td>\n",
       "      <td>0</td>\n",
       "    </tr>\n",
       "    <tr>\n",
       "      <th>1</th>\n",
       "      <td>0</td>\n",
       "      <td>0</td>\n",
       "      <td>0</td>\n",
       "      <td>0</td>\n",
       "      <td>1</td>\n",
       "      <td>0</td>\n",
       "    </tr>\n",
       "    <tr>\n",
       "      <th>2</th>\n",
       "      <td>0</td>\n",
       "      <td>0</td>\n",
       "      <td>1</td>\n",
       "      <td>0</td>\n",
       "      <td>0</td>\n",
       "      <td>0</td>\n",
       "    </tr>\n",
       "    <tr>\n",
       "      <th>3</th>\n",
       "      <td>0</td>\n",
       "      <td>0</td>\n",
       "      <td>0</td>\n",
       "      <td>0</td>\n",
       "      <td>0</td>\n",
       "      <td>1</td>\n",
       "    </tr>\n",
       "    <tr>\n",
       "      <th>4</th>\n",
       "      <td>0</td>\n",
       "      <td>0</td>\n",
       "      <td>1</td>\n",
       "      <td>0</td>\n",
       "      <td>0</td>\n",
       "      <td>0</td>\n",
       "    </tr>\n",
       "    <tr>\n",
       "      <th>...</th>\n",
       "      <td>...</td>\n",
       "      <td>...</td>\n",
       "      <td>...</td>\n",
       "      <td>...</td>\n",
       "      <td>...</td>\n",
       "      <td>...</td>\n",
       "    </tr>\n",
       "    <tr>\n",
       "      <th>2787</th>\n",
       "      <td>0</td>\n",
       "      <td>0</td>\n",
       "      <td>0</td>\n",
       "      <td>0</td>\n",
       "      <td>0</td>\n",
       "      <td>1</td>\n",
       "    </tr>\n",
       "    <tr>\n",
       "      <th>2788</th>\n",
       "      <td>0</td>\n",
       "      <td>0</td>\n",
       "      <td>0</td>\n",
       "      <td>0</td>\n",
       "      <td>0</td>\n",
       "      <td>1</td>\n",
       "    </tr>\n",
       "    <tr>\n",
       "      <th>2789</th>\n",
       "      <td>0</td>\n",
       "      <td>0</td>\n",
       "      <td>0</td>\n",
       "      <td>0</td>\n",
       "      <td>1</td>\n",
       "      <td>0</td>\n",
       "    </tr>\n",
       "    <tr>\n",
       "      <th>2790</th>\n",
       "      <td>0</td>\n",
       "      <td>1</td>\n",
       "      <td>0</td>\n",
       "      <td>0</td>\n",
       "      <td>0</td>\n",
       "      <td>0</td>\n",
       "    </tr>\n",
       "    <tr>\n",
       "      <th>2791</th>\n",
       "      <td>1</td>\n",
       "      <td>0</td>\n",
       "      <td>0</td>\n",
       "      <td>0</td>\n",
       "      <td>0</td>\n",
       "      <td>0</td>\n",
       "    </tr>\n",
       "  </tbody>\n",
       "</table>\n",
       "<p>2792 rows × 6 columns</p>\n",
       "</div>"
      ],
      "text/plain": [
       "      Glioma II  Glioma III  Glioma VI  Meningioma  No tumor  Pituitary\n",
       "0             0           0          0           0         1          0\n",
       "1             0           0          0           0         1          0\n",
       "2             0           0          1           0         0          0\n",
       "3             0           0          0           0         0          1\n",
       "4             0           0          1           0         0          0\n",
       "...         ...         ...        ...         ...       ...        ...\n",
       "2787          0           0          0           0         0          1\n",
       "2788          0           0          0           0         0          1\n",
       "2789          0           0          0           0         1          0\n",
       "2790          0           1          0           0         0          0\n",
       "2791          1           0          0           0         0          0\n",
       "\n",
       "[2792 rows x 6 columns]"
      ]
     },
     "execution_count": 15,
     "metadata": {},
     "output_type": "execute_result"
    }
   ],
   "source": [
    "y_test"
   ]
  },
  {
   "cell_type": "markdown",
   "metadata": {},
   "source": [
    "### 2.6 Image Normalizatoin"
   ]
  },
  {
   "cell_type": "code",
   "execution_count": 16,
   "metadata": {},
   "outputs": [],
   "source": [
    "X_train = X_train / 255\n",
    "X_val   = X_val / 255\n",
    "X_test  = X_test / 255"
   ]
  },
  {
   "cell_type": "code",
   "execution_count": 17,
   "metadata": {
    "colab": {
     "background_save": true
    },
    "id": "jWFIvPjtiNio"
   },
   "outputs": [],
   "source": [
    "## This Dictionary is used to decode the model's predicted values.  \n",
    "decode_dict = {0 : \"Glioma II\", 1 : \"Glioma III\", 2 : \"Glioma VI\", 3: \"Meningioma\", 4: \"No tumor\", 5: \"Pituitary\"}"
   ]
  },
  {
   "cell_type": "code",
   "execution_count": 18,
   "metadata": {
    "colab": {
     "background_save": true
    },
    "id": "PcsCoY3jggfU",
    "outputId": "3b3c30b0-a9af-4923-a318-cea2b5587807"
   },
   "outputs": [
    {
     "data": {
      "image/png": "[encoded data removed]",
      "text/plain": [
       "<Figure size 936x576 with 1 Axes>"
      ]
     },
     "metadata": {},
     "output_type": "display_data"
    }
   ],
   "source": [
    "import matplotlib.pyplot as plt\n",
    "import numpy as np\n",
    "##  Creating a Pie chart illustrating the percentage of the train, validation, test sets.\n",
    "Data = np.array([len(y_train), len(y_test), len(y_val)])\n",
    "mylabels = [\"Test Set\", \"Test Set\", \"Validation Set\"]\n",
    "plt.figure(figsize=(13, 8))\n",
    "plt.pie(Data, labels = mylabels, autopct=\"%.1f%%\", )\n",
    "plt.legend()\n",
    "plt.show() "
   ]
  },
  {
   "cell_type": "markdown",
   "metadata": {
    "id": "zDCzea2Klw_1"
   },
   "source": [
    "## 3. Models Creation\n"
   ]
  },
  {
   "cell_type": "code",
   "execution_count": 19,
   "metadata": {
    "colab": {
     "background_save": true
    },
    "id": "K58Sn8Gt_6v9"
   },
   "outputs": [
    {
     "name": "stdout",
     "output_type": "stream",
     "text": [
      "Model: \"sequential\"\n",
      "_________________________________________________________________\n",
      "Layer (type)                 Output Shape              Param #   \n",
      "=================================================================\n",
      "conv2d (Conv2D)              (None, 128, 128, 64)      640       \n",
      "_________________________________________________________________\n",
      "conv2d_1 (Conv2D)            (None, 128, 128, 64)      36928     \n",
      "_________________________________________________________________\n",
      "conv2d_2 (Conv2D)            (None, 128, 128, 128)     73856     \n",
      "_________________________________________________________________\n",
      "conv2d_3 (Conv2D)            (None, 128, 128, 128)     147584    \n",
      "_________________________________________________________________\n",
      "max_pooling2d (MaxPooling2D) (None, 64, 64, 128)       0         \n",
      "_________________________________________________________________\n",
      "conv2d_4 (Conv2D)            (None, 64, 64, 256)       295168    \n",
      "_________________________________________________________________\n",
      "conv2d_5 (Conv2D)            (None, 64, 64, 256)       590080    \n",
      "_________________________________________________________________\n",
      "conv2d_6 (Conv2D)            (None, 64, 64, 256)       590080    \n",
      "_________________________________________________________________\n",
      "max_pooling2d_1 (MaxPooling2 (None, 32, 32, 256)       0         \n",
      "_________________________________________________________________\n",
      "flatten (Flatten)            (None, 262144)            0         \n",
      "_________________________________________________________________\n",
      "dense (Dense)                (None, 6)                 1572870   \n",
      "=================================================================\n",
      "Total params: 3,307,206\n",
      "Trainable params: 3,307,206\n",
      "Non-trainable params: 0\n",
      "_________________________________________________________________\n"
     ]
    }
   ],
   "source": [
    "m1 = Sequential()\n",
    "m1.add(Conv2D(input_shape=(SIZE_X , SIZE_Y, SIZE_Z),filters=64,kernel_size=(3,3),padding=\"same\", activation=\"relu\"))\n",
    "m1.add(Conv2D(filters=64,kernel_size=(3,3),padding=\"same\", activation=\"relu\"))\n",
    "m1.add(Conv2D(filters=128, kernel_size=(3,3), padding=\"same\", activation=\"relu\"))\n",
    "m1.add(Conv2D(filters=128, kernel_size=(3,3), padding=\"same\", activation=\"relu\"))\n",
    "m1.add(MaxPooling2D(pool_size=(2,2),strides=(2,2)))\n",
    "\n",
    "m1.add(Conv2D(filters=256, kernel_size=(3,3), padding=\"same\", activation=\"relu\"))\n",
    "m1.add(Conv2D(filters=256, kernel_size=(3,3), padding=\"same\", activation=\"relu\"))\n",
    "m1.add(Conv2D(filters=256, kernel_size=(3,3), padding=\"same\", activation=\"relu\"))\n",
    "m1.add(MaxPooling2D(pool_size=(2,2),strides=(2,2)))\n",
    "\n",
    "m1.add(Flatten())\n",
    "m1.add(Dense(CLASS_NUM, activation='softmax'))\n",
    "\n",
    "m1.compile(loss='categorical_crossentropy', optimizer='adam', \n",
    "                  metrics=['accuracy'])\n",
    "m1.summary()"
   ]
  },
  {
   "cell_type": "markdown",
   "metadata": {
    "id": "6aAVYS26t6c3"
   },
   "source": [
    "### 4. Model Training\n"
   ]
  },
  {
   "cell_type": "code",
   "execution_count": 20,
   "metadata": {
    "id": "LGT4MVY3tkyz"
   },
   "outputs": [
    {
     "name": "stdout",
     "output_type": "stream",
     "text": [
      "Epoch 1/150\n",
      "437/437 [==============================] - 70s 146ms/step - loss: 0.8074 - accuracy: 0.6877 - val_loss: 0.5787 - val_accuracy: 0.7935\n",
      "Epoch 2/150\n",
      "437/437 [==============================] - 61s 140ms/step - loss: 0.3666 - accuracy: 0.8665 - val_loss: 0.4301 - val_accuracy: 0.8204\n",
      "Epoch 3/150\n",
      "437/437 [==============================] - 61s 140ms/step - loss: 0.2072 - accuracy: 0.9239 - val_loss: 0.4059 - val_accuracy: 0.8516\n",
      "Epoch 4/150\n",
      "437/437 [==============================] - 61s 140ms/step - loss: 0.1202 - accuracy: 0.9577 - val_loss: 0.4838 - val_accuracy: 0.8532\n",
      "Epoch 5/150\n",
      "437/437 [==============================] - 61s 140ms/step - loss: 0.0841 - accuracy: 0.9715 - val_loss: 0.7641 - val_accuracy: 0.8441\n",
      "Epoch 6/150\n",
      "437/437 [==============================] - 61s 140ms/step - loss: 0.0593 - accuracy: 0.9795 - val_loss: 0.7307 - val_accuracy: 0.8538\n",
      "Epoch 7/150\n",
      "437/437 [==============================] - 61s 140ms/step - loss: 0.0479 - accuracy: 0.9837 - val_loss: 0.6891 - val_accuracy: 0.8624\n",
      "Epoch 8/150\n",
      "437/437 [==============================] - 61s 140ms/step - loss: 0.0501 - accuracy: 0.9832 - val_loss: 0.5793 - val_accuracy: 0.8581\n",
      "Epoch 9/150\n",
      "437/437 [==============================] - 61s 140ms/step - loss: 0.0254 - accuracy: 0.9906 - val_loss: 1.0492 - val_accuracy: 0.8656\n",
      "Epoch 10/150\n",
      "437/437 [==============================] - 61s 140ms/step - loss: 0.0386 - accuracy: 0.9893 - val_loss: 0.8526 - val_accuracy: 0.8489\n",
      "Epoch 11/150\n",
      "437/437 [==============================] - 61s 140ms/step - loss: 0.0218 - accuracy: 0.9927 - val_loss: 0.9799 - val_accuracy: 0.8575\n",
      "Epoch 12/150\n",
      "437/437 [==============================] - 61s 140ms/step - loss: 0.0274 - accuracy: 0.9903 - val_loss: 0.8555 - val_accuracy: 0.8581\n",
      "Epoch 13/150\n",
      "437/437 [==============================] - 61s 140ms/step - loss: 0.0276 - accuracy: 0.9903 - val_loss: 1.1508 - val_accuracy: 0.8505\n",
      "Epoch 14/150\n",
      "437/437 [==============================] - 61s 140ms/step - loss: 0.0238 - accuracy: 0.9923 - val_loss: 0.9581 - val_accuracy: 0.8661\n",
      "Epoch 15/150\n",
      "437/437 [==============================] - 61s 140ms/step - loss: 0.0187 - accuracy: 0.9941 - val_loss: 0.8562 - val_accuracy: 0.8554\n",
      "Epoch 16/150\n",
      "437/437 [==============================] - 61s 140ms/step - loss: 0.0223 - accuracy: 0.9920 - val_loss: 0.9454 - val_accuracy: 0.8731\n",
      "Epoch 17/150\n",
      "437/437 [==============================] - 61s 140ms/step - loss: 0.0103 - accuracy: 0.9971 - val_loss: 1.1190 - val_accuracy: 0.8704\n",
      "Epoch 18/150\n",
      "437/437 [==============================] - 61s 140ms/step - loss: 0.0213 - accuracy: 0.9938 - val_loss: 0.9557 - val_accuracy: 0.8656\n",
      "Epoch 19/150\n",
      "437/437 [==============================] - 61s 140ms/step - loss: 0.0212 - accuracy: 0.9933 - val_loss: 0.9726 - val_accuracy: 0.8629\n",
      "Epoch 20/150\n",
      "437/437 [==============================] - 61s 140ms/step - loss: 0.0130 - accuracy: 0.9963 - val_loss: 1.0355 - val_accuracy: 0.8667\n",
      "Epoch 21/150\n",
      "437/437 [==============================] - 61s 140ms/step - loss: 0.0077 - accuracy: 0.9973 - val_loss: 1.3751 - val_accuracy: 0.8505\n",
      "Epoch 22/150\n",
      "437/437 [==============================] - 61s 140ms/step - loss: 0.0164 - accuracy: 0.9951 - val_loss: 1.1407 - val_accuracy: 0.8704\n",
      "Epoch 23/150\n",
      "437/437 [==============================] - 61s 140ms/step - loss: 0.0257 - accuracy: 0.9926 - val_loss: 1.0150 - val_accuracy: 0.8548\n",
      "Epoch 24/150\n",
      "437/437 [==============================] - 61s 140ms/step - loss: 0.0110 - accuracy: 0.9963 - val_loss: 1.2536 - val_accuracy: 0.8543\n",
      "Epoch 25/150\n",
      "437/437 [==============================] - 61s 140ms/step - loss: 0.0031 - accuracy: 0.9991 - val_loss: 1.4010 - val_accuracy: 0.8720\n",
      "Epoch 26/150\n",
      "437/437 [==============================] - 61s 140ms/step - loss: 0.0209 - accuracy: 0.9938 - val_loss: 1.1702 - val_accuracy: 0.8468\n",
      "Epoch 27/150\n",
      "437/437 [==============================] - 61s 140ms/step - loss: 0.0091 - accuracy: 0.9974 - val_loss: 1.4311 - val_accuracy: 0.8618\n",
      "Epoch 28/150\n",
      "437/437 [==============================] - 61s 140ms/step - loss: 0.0151 - accuracy: 0.9951 - val_loss: 1.2000 - val_accuracy: 0.8613\n",
      "Epoch 29/150\n",
      "437/437 [==============================] - 61s 139ms/step - loss: 0.0090 - accuracy: 0.9973 - val_loss: 1.5529 - val_accuracy: 0.8435\n",
      "Epoch 30/150\n",
      "437/437 [==============================] - 61s 140ms/step - loss: 0.0207 - accuracy: 0.9943 - val_loss: 1.0081 - val_accuracy: 0.8720\n",
      "Epoch 31/150\n",
      "437/437 [==============================] - 61s 140ms/step - loss: 0.0086 - accuracy: 0.9967 - val_loss: 1.2501 - val_accuracy: 0.8597\n",
      "Epoch 32/150\n",
      "437/437 [==============================] - 61s 140ms/step - loss: 0.0039 - accuracy: 0.9987 - val_loss: 1.3614 - val_accuracy: 0.8688\n",
      "Epoch 33/150\n",
      "437/437 [==============================] - 61s 140ms/step - loss: 0.0013 - accuracy: 0.9996 - val_loss: 1.4115 - val_accuracy: 0.8683\n",
      "Epoch 34/150\n",
      "437/437 [==============================] - 61s 140ms/step - loss: 0.0233 - accuracy: 0.9923 - val_loss: 1.4272 - val_accuracy: 0.8591\n",
      "Epoch 35/150\n",
      "437/437 [==============================] - 60s 137ms/step - loss: 0.0094 - accuracy: 0.9976 - val_loss: 1.4578 - val_accuracy: 0.8570\n",
      "Epoch 36/150\n",
      "437/437 [==============================] - 59s 134ms/step - loss: 0.0063 - accuracy: 0.9982 - val_loss: 1.3599 - val_accuracy: 0.8710\n",
      "Epoch 37/150\n",
      "437/437 [==============================] - 59s 134ms/step - loss: 0.0102 - accuracy: 0.9968 - val_loss: 1.2262 - val_accuracy: 0.8715\n",
      "Epoch 38/150\n",
      "437/437 [==============================] - 59s 134ms/step - loss: 0.0126 - accuracy: 0.9962 - val_loss: 1.3277 - val_accuracy: 0.8548\n",
      "Epoch 39/150\n",
      "437/437 [==============================] - 59s 134ms/step - loss: 0.0182 - accuracy: 0.9939 - val_loss: 1.2076 - val_accuracy: 0.8661\n",
      "Epoch 40/150\n",
      "437/437 [==============================] - 59s 134ms/step - loss: 0.0120 - accuracy: 0.9966 - val_loss: 1.0858 - val_accuracy: 0.8758\n",
      "Epoch 41/150\n",
      "437/437 [==============================] - 59s 134ms/step - loss: 0.0023 - accuracy: 0.9991 - val_loss: 1.3416 - val_accuracy: 0.8753\n",
      "Epoch 42/150\n",
      "437/437 [==============================] - 59s 134ms/step - loss: 7.5739e-04 - accuracy: 0.9997 - val_loss: 1.4180 - val_accuracy: 0.8672\n",
      "Epoch 43/150\n",
      "437/437 [==============================] - 59s 134ms/step - loss: 8.5593e-05 - accuracy: 1.0000 - val_loss: 1.3781 - val_accuracy: 0.8704\n",
      "Epoch 44/150\n",
      "437/437 [==============================] - 59s 134ms/step - loss: 9.7256e-06 - accuracy: 1.0000 - val_loss: 1.4043 - val_accuracy: 0.8677\n",
      "Epoch 45/150\n",
      "437/437 [==============================] - 59s 134ms/step - loss: 5.6025e-06 - accuracy: 1.0000 - val_loss: 1.4195 - val_accuracy: 0.8667\n",
      "Epoch 46/150\n",
      "437/437 [==============================] - 59s 134ms/step - loss: 4.1658e-06 - accuracy: 1.0000 - val_loss: 1.4332 - val_accuracy: 0.8677\n",
      "Epoch 47/150\n",
      "437/437 [==============================] - 59s 134ms/step - loss: 3.2485e-06 - accuracy: 1.0000 - val_loss: 1.4460 - val_accuracy: 0.8656\n",
      "Epoch 48/150\n",
      "437/437 [==============================] - 61s 139ms/step - loss: 2.5716e-06 - accuracy: 1.0000 - val_loss: 1.4594 - val_accuracy: 0.8672\n",
      "Epoch 49/150\n",
      "437/437 [==============================] - 62s 141ms/step - loss: 2.0598e-06 - accuracy: 1.0000 - val_loss: 1.4727 - val_accuracy: 0.8677\n",
      "Epoch 50/150\n",
      "437/437 [==============================] - 58s 134ms/step - loss: 1.6501e-06 - accuracy: 1.0000 - val_loss: 1.4857 - val_accuracy: 0.8683\n",
      "Epoch 51/150\n",
      "437/437 [==============================] - 59s 136ms/step - loss: 1.3274e-06 - accuracy: 1.0000 - val_loss: 1.4998 - val_accuracy: 0.8683\n",
      "Epoch 52/150\n",
      "437/437 [==============================] - 59s 134ms/step - loss: 1.0706e-06 - accuracy: 1.0000 - val_loss: 1.5137 - val_accuracy: 0.8688\n",
      "Epoch 53/150\n",
      "437/437 [==============================] - 59s 135ms/step - loss: 8.6409e-07 - accuracy: 1.0000 - val_loss: 1.5286 - val_accuracy: 0.8694\n",
      "Epoch 54/150\n",
      "437/437 [==============================] - 62s 141ms/step - loss: 6.9426e-07 - accuracy: 1.0000 - val_loss: 1.5438 - val_accuracy: 0.8704\n",
      "Epoch 55/150\n",
      "437/437 [==============================] - 62s 142ms/step - loss: 5.5675e-07 - accuracy: 1.0000 - val_loss: 1.5598 - val_accuracy: 0.8704\n",
      "Epoch 56/150\n"
     ]
    },
    {
     "name": "stdout",
     "output_type": "stream",
     "text": [
      "437/437 [==============================] - 58s 133ms/step - loss: 4.4593e-07 - accuracy: 1.0000 - val_loss: 1.5774 - val_accuracy: 0.8694\n",
      "Epoch 57/150\n",
      "437/437 [==============================] - 58s 133ms/step - loss: 3.5717e-07 - accuracy: 1.0000 - val_loss: 1.5944 - val_accuracy: 0.8683\n",
      "Epoch 58/150\n",
      "437/437 [==============================] - 58s 134ms/step - loss: 2.8576e-07 - accuracy: 1.0000 - val_loss: 1.6116 - val_accuracy: 0.8683\n",
      "Epoch 59/150\n",
      "437/437 [==============================] - 58s 133ms/step - loss: 2.2793e-07 - accuracy: 1.0000 - val_loss: 1.6302 - val_accuracy: 0.8699\n",
      "Epoch 60/150\n",
      "437/437 [==============================] - 58s 133ms/step - loss: 1.8225e-07 - accuracy: 1.0000 - val_loss: 1.6498 - val_accuracy: 0.8710\n",
      "Epoch 61/150\n",
      "437/437 [==============================] - 58s 133ms/step - loss: 1.4507e-07 - accuracy: 1.0000 - val_loss: 1.6706 - val_accuracy: 0.8710\n",
      "Epoch 62/150\n",
      "437/437 [==============================] - 59s 134ms/step - loss: 1.1525e-07 - accuracy: 1.0000 - val_loss: 1.6894 - val_accuracy: 0.8710\n",
      "Epoch 63/150\n",
      "437/437 [==============================] - 60s 138ms/step - loss: 9.1968e-08 - accuracy: 1.0000 - val_loss: 1.7078 - val_accuracy: 0.8710\n",
      "Epoch 64/150\n",
      "437/437 [==============================] - 60s 137ms/step - loss: 7.3216e-08 - accuracy: 1.0000 - val_loss: 1.7289 - val_accuracy: 0.8710\n",
      "Epoch 65/150\n",
      "437/437 [==============================] - 61s 140ms/step - loss: 5.8307e-08 - accuracy: 1.0000 - val_loss: 1.7500 - val_accuracy: 0.8710\n",
      "Epoch 66/150\n",
      "437/437 [==============================] - 63s 144ms/step - loss: 4.6531e-08 - accuracy: 1.0000 - val_loss: 1.7702 - val_accuracy: 0.8710\n",
      "Epoch 67/150\n",
      "437/437 [==============================] - 60s 138ms/step - loss: 3.6608e-08 - accuracy: 1.0000 - val_loss: 1.7943 - val_accuracy: 0.8710\n",
      "Epoch 68/150\n",
      "437/437 [==============================] - 59s 136ms/step - loss: 2.8786e-08 - accuracy: 1.0000 - val_loss: 1.8164 - val_accuracy: 0.8710\n",
      "Epoch 69/150\n",
      "437/437 [==============================] - 60s 137ms/step - loss: 2.2612e-08 - accuracy: 1.0000 - val_loss: 1.8388 - val_accuracy: 0.8704\n",
      "Epoch 70/150\n",
      "437/437 [==============================] - 59s 135ms/step - loss: 1.8027e-08 - accuracy: 1.0000 - val_loss: 1.8604 - val_accuracy: 0.8704\n",
      "Epoch 71/150\n",
      "437/437 [==============================] - 60s 138ms/step - loss: 1.4372e-08 - accuracy: 1.0000 - val_loss: 1.8805 - val_accuracy: 0.8704\n",
      "Epoch 72/150\n",
      "437/437 [==============================] - 60s 138ms/step - loss: 1.1468e-08 - accuracy: 1.0000 - val_loss: 1.9006 - val_accuracy: 0.8704\n",
      "Epoch 73/150\n",
      "437/437 [==============================] - 58s 134ms/step - loss: 9.0261e-09 - accuracy: 1.0000 - val_loss: 1.9232 - val_accuracy: 0.8710\n",
      "Epoch 74/150\n",
      "437/437 [==============================] - 58s 134ms/step - loss: 7.1133e-09 - accuracy: 1.0000 - val_loss: 1.9460 - val_accuracy: 0.8710\n",
      "Epoch 75/150\n",
      "437/437 [==============================] - 59s 136ms/step - loss: 5.5591e-09 - accuracy: 1.0000 - val_loss: 1.9658 - val_accuracy: 0.8715\n",
      "Epoch 76/150\n",
      "437/437 [==============================] - 60s 138ms/step - loss: 4.3978e-09 - accuracy: 1.0000 - val_loss: 1.9890 - val_accuracy: 0.8715\n",
      "Epoch 77/150\n",
      "437/437 [==============================] - 60s 137ms/step - loss: 3.6548e-09 - accuracy: 1.0000 - val_loss: 2.0113 - val_accuracy: 0.8715\n",
      "Epoch 78/150\n",
      "437/437 [==============================] - 60s 137ms/step - loss: 2.8094e-09 - accuracy: 1.0000 - val_loss: 2.0340 - val_accuracy: 0.8715\n",
      "Epoch 79/150\n",
      "437/437 [==============================] - 60s 137ms/step - loss: 2.1263e-09 - accuracy: 1.0000 - val_loss: 2.0575 - val_accuracy: 0.8704\n",
      "Epoch 80/150\n",
      "437/437 [==============================] - 60s 137ms/step - loss: 1.6566e-09 - accuracy: 1.0000 - val_loss: 2.0803 - val_accuracy: 0.8704\n",
      "Epoch 81/150\n",
      "437/437 [==============================] - 60s 137ms/step - loss: 1.1528e-09 - accuracy: 1.0000 - val_loss: 2.1046 - val_accuracy: 0.8699\n",
      "Epoch 82/150\n",
      "437/437 [==============================] - 60s 137ms/step - loss: 8.8809e-10 - accuracy: 1.0000 - val_loss: 2.1313 - val_accuracy: 0.8694\n",
      "Epoch 83/150\n",
      "437/437 [==============================] - 60s 137ms/step - loss: 6.9169e-10 - accuracy: 1.0000 - val_loss: 2.1571 - val_accuracy: 0.8694\n",
      "Epoch 84/150\n",
      "437/437 [==============================] - 60s 137ms/step - loss: 4.8674e-10 - accuracy: 1.0000 - val_loss: 2.1835 - val_accuracy: 0.8677\n",
      "Epoch 85/150\n",
      "437/437 [==============================] - 60s 138ms/step - loss: 4.0989e-10 - accuracy: 1.0000 - val_loss: 2.2108 - val_accuracy: 0.8688\n",
      "Epoch 86/150\n",
      "437/437 [==============================] - 60s 138ms/step - loss: 3.4157e-10 - accuracy: 1.0000 - val_loss: 2.2410 - val_accuracy: 0.8683\n",
      "Epoch 87/150\n",
      "437/437 [==============================] - 60s 138ms/step - loss: 2.2202e-10 - accuracy: 1.0000 - val_loss: 2.2741 - val_accuracy: 0.8677\n",
      "Epoch 88/150\n",
      "437/437 [==============================] - 60s 137ms/step - loss: 1.8787e-10 - accuracy: 1.0000 - val_loss: 2.3077 - val_accuracy: 0.8677\n",
      "Epoch 89/150\n",
      "437/437 [==============================] - 60s 137ms/step - loss: 1.5371e-10 - accuracy: 1.0000 - val_loss: 2.3480 - val_accuracy: 0.8677\n",
      "Epoch 90/150\n",
      "437/437 [==============================] - 59s 136ms/step - loss: 1.3663e-10 - accuracy: 1.0000 - val_loss: 2.3855 - val_accuracy: 0.8677\n",
      "Epoch 91/150\n",
      "437/437 [==============================] - 59s 136ms/step - loss: 1.3663e-10 - accuracy: 1.0000 - val_loss: 2.4288 - val_accuracy: 0.8667\n",
      "Epoch 92/150\n",
      "437/437 [==============================] - 59s 134ms/step - loss: 8.5393e-11 - accuracy: 1.0000 - val_loss: 2.4810 - val_accuracy: 0.8672\n",
      "Epoch 93/150\n",
      "437/437 [==============================] - 60s 137ms/step - loss: 6.8315e-11 - accuracy: 1.0000 - val_loss: 2.5332 - val_accuracy: 0.8656\n",
      "Epoch 94/150\n",
      "437/437 [==============================] - 60s 138ms/step - loss: 8.5393e-11 - accuracy: 1.0000 - val_loss: 2.5824 - val_accuracy: 0.8656\n",
      "Epoch 95/150\n",
      "437/437 [==============================] - 66s 151ms/step - loss: 2.5618e-11 - accuracy: 1.0000 - val_loss: 2.6426 - val_accuracy: 0.8629\n",
      "Epoch 96/150\n",
      "437/437 [==============================] - 61s 140ms/step - loss: 7.6854e-11 - accuracy: 1.0000 - val_loss: 2.7079 - val_accuracy: 0.8634\n",
      "Epoch 97/150\n",
      "437/437 [==============================] - 72s 164ms/step - loss: 5.9775e-11 - accuracy: 1.0000 - val_loss: 2.7432 - val_accuracy: 0.8634\n",
      "Epoch 98/150\n",
      "437/437 [==============================] - 86s 196ms/step - loss: 3.4157e-11 - accuracy: 1.0000 - val_loss: 2.8150 - val_accuracy: 0.8634\n",
      "Epoch 99/150\n",
      "437/437 [==============================] - 97s 221ms/step - loss: 5.9775e-11 - accuracy: 1.0000 - val_loss: 2.8697 - val_accuracy: 0.8629\n",
      "Epoch 100/150\n",
      "437/437 [==============================] - 94s 216ms/step - loss: 3.4157e-11 - accuracy: 1.0000 - val_loss: 2.9243 - val_accuracy: 0.8640\n",
      "Epoch 101/150\n",
      "437/437 [==============================] - 91s 208ms/step - loss: 2.5618e-11 - accuracy: 1.0000 - val_loss: 2.9992 - val_accuracy: 0.8624\n",
      "Epoch 102/150\n",
      "437/437 [==============================] - 89s 203ms/step - loss: 5.1236e-11 - accuracy: 1.0000 - val_loss: 3.0600 - val_accuracy: 0.8629\n",
      "Epoch 103/150\n",
      "437/437 [==============================] - 94s 215ms/step - loss: 4.2697e-11 - accuracy: 1.0000 - val_loss: 3.1326 - val_accuracy: 0.8640\n",
      "Epoch 104/150\n",
      "437/437 [==============================] - 98s 225ms/step - loss: 2.5618e-11 - accuracy: 1.0000 - val_loss: 3.2030 - val_accuracy: 0.8629\n",
      "Epoch 105/150\n",
      "437/437 [==============================] - 84s 192ms/step - loss: 4.2697e-11 - accuracy: 1.0000 - val_loss: 3.2620 - val_accuracy: 0.8618\n",
      "Epoch 106/150\n",
      "437/437 [==============================] - 95s 218ms/step - loss: 3.4157e-11 - accuracy: 1.0000 - val_loss: 3.3467 - val_accuracy: 0.8634\n",
      "Epoch 107/150\n",
      "437/437 [==============================] - 90s 206ms/step - loss: 0.0623 - accuracy: 0.9895 - val_loss: 1.1918 - val_accuracy: 0.8629\n",
      "Epoch 108/150\n",
      "437/437 [==============================] - 90s 206ms/step - loss: 0.0090 - accuracy: 0.9967 - val_loss: 1.1137 - val_accuracy: 0.8758\n",
      "Epoch 109/150\n",
      "437/437 [==============================] - 94s 216ms/step - loss: 0.0016 - accuracy: 0.9994 - val_loss: 1.1788 - val_accuracy: 0.8812\n",
      "Epoch 110/150\n"
     ]
    },
    {
     "name": "stdout",
     "output_type": "stream",
     "text": [
      "437/437 [==============================] - 88s 202ms/step - loss: 1.0603e-04 - accuracy: 1.0000 - val_loss: 1.2700 - val_accuracy: 0.8817\n",
      "Epoch 111/150\n",
      "437/437 [==============================] - 86s 196ms/step - loss: 2.1582e-05 - accuracy: 1.0000 - val_loss: 1.2672 - val_accuracy: 0.8849\n",
      "Epoch 112/150\n",
      "437/437 [==============================] - 87s 198ms/step - loss: 6.8898e-06 - accuracy: 1.0000 - val_loss: 1.2774 - val_accuracy: 0.8844\n",
      "Epoch 113/150\n",
      "437/437 [==============================] - 89s 204ms/step - loss: 5.0185e-06 - accuracy: 1.0000 - val_loss: 1.2895 - val_accuracy: 0.8833\n",
      "Epoch 114/150\n",
      "437/437 [==============================] - 94s 215ms/step - loss: 3.8623e-06 - accuracy: 1.0000 - val_loss: 1.3025 - val_accuracy: 0.8828\n",
      "Epoch 115/150\n",
      "437/437 [==============================] - 84s 192ms/step - loss: 3.0414e-06 - accuracy: 1.0000 - val_loss: 1.3167 - val_accuracy: 0.8823\n",
      "Epoch 116/150\n",
      "437/437 [==============================] - 87s 199ms/step - loss: 2.3891e-06 - accuracy: 1.0000 - val_loss: 1.3333 - val_accuracy: 0.8828\n",
      "Epoch 117/150\n",
      "437/437 [==============================] - 84s 192ms/step - loss: 1.9006e-06 - accuracy: 1.0000 - val_loss: 1.3494 - val_accuracy: 0.8844\n",
      "Epoch 118/150\n",
      "437/437 [==============================] - 82s 187ms/step - loss: 1.5091e-06 - accuracy: 1.0000 - val_loss: 1.3670 - val_accuracy: 0.8849\n"
     ]
    },
    {
     "data": {
      "text/plain": [
       "<keras.callbacks.History at 0x2c026dace20>"
      ]
     },
     "execution_count": 20,
     "metadata": {},
     "output_type": "execute_result"
    }
   ],
   "source": [
    "from tensorflow.keras.callbacks import EarlyStopping\n",
    "early_stop = EarlyStopping(monitor = 'loss', patience = 23 )\n",
    "\n",
    "m1.fit(X_train,y_train,epochs=150,batch_size=32, validation_data=(X_val,y_val), callbacks = [early_stop], verbose=1)"
   ]
  },
  {
   "cell_type": "code",
   "execution_count": 21,
   "metadata": {
    "id": "d6OA7oX-yByT"
   },
   "outputs": [],
   "source": [
    "# Get training history\n",
    "metrics = pd.DataFrame(m1.history.history)"
   ]
  },
  {
   "cell_type": "code",
   "execution_count": 22,
   "metadata": {},
   "outputs": [],
   "source": [
    "import os\n",
    "exp_num = []\n",
    "if not os.path.exists(\"./experiments\"):\n",
    "    os.mkdir(\"./experiments\")\n",
    "folders = os.listdir(\"./experiments\")\n",
    "for folder in folders:\n",
    "    exp_num.append(int(folder.split(\"#\")[1]))\n",
    "\n",
    "\n",
    "if len(exp_num) == 0:\n",
    "    exp_path = r\"./experiments/exp#1\"\n",
    "else:\n",
    "    exp_path = r\"./experiments/exp#\"+str(max(exp_num)+1)\n",
    "\n",
    "\n",
    "\n",
    "\n",
    "os.mkdir(exp_path)\n",
    "os.mkdir(os.path.join(exp_path, \"results\"))\n",
    "os.mkdir(os.path.join(exp_path, \"weights\"))\n",
    "\n",
    "results = os.path.join(exp_path, \"results\")\n",
    "weights = os.path.join(exp_path, \"weights\")"
   ]
  },
  {
   "cell_type": "code",
   "execution_count": 23,
   "metadata": {},
   "outputs": [
    {
     "name": "stdout",
     "output_type": "stream",
     "text": [
      "./experiments/exp#3\\results\n"
     ]
    }
   ],
   "source": [
    "print(results)"
   ]
  },
  {
   "cell_type": "code",
   "execution_count": 24,
   "metadata": {
    "id": "vs5CCwj993FX"
   },
   "outputs": [
    {
     "name": "stdout",
     "output_type": "stream",
     "text": [
      "88/88 [==============================] - 5s 57ms/step - loss: 1.7678 - accuracy: 0.8546\n"
     ]
    }
   ],
   "source": [
    "# Save The Trained model along with it training history   \n",
    "Accuracy = m1.evaluate(X_test, y_test)[-1]\n",
    "name = str(round(Accuracy, 4))\n",
    "\n",
    "metrics.to_pickle(os.path.join(results, name+'.pkl'))\n",
    "m1.save(os.path.join(weights, name + '.h5'))"
   ]
  },
  {
   "cell_type": "code",
   "execution_count": 25,
   "metadata": {
    "id": "5F7i-oCwytup",
    "scrolled": true
   },
   "outputs": [
    {
     "data": {
      "image/png": "[encoded data removed]",
      "text/plain": [
       "<Figure size 720x504 with 1 Axes>"
      ]
     },
     "metadata": {
      "needs_background": "light"
     },
     "output_type": "display_data"
    },
    {
     "data": {
      "image/png": "[encoded data removed]",
      "text/plain": [
       "<Figure size 720x504 with 1 Axes>"
      ]
     },
     "metadata": {
      "needs_background": "light"
     },
     "output_type": "display_data"
    }
   ],
   "source": [
    "## Dispaly the plot of \n",
    "rows = 2\n",
    "columns = 1\n",
    "  \n",
    "# Display Train loss vs Validation loss at each Epoch\n",
    "fig = plt.figure(figsize=(10, 7))\n",
    "fig.add_subplot(rows, columns, 1)\n",
    "plt.plot(metrics['loss'])\n",
    "plt.plot(metrics['val_loss'])\n",
    "plt.title('Model Loss')\n",
    "plt.ylabel('loss')\n",
    "plt.xlabel('epoch')\n",
    "plt.legend(['train', 'val'], loc='upper left')\n",
    "plt.savefig(os.path.join(results, 'loss_epoch.png'))\n",
    "plt.show()\n",
    "\n",
    "  \n",
    "# Display Train loss vs Validation loss at each Epoch\n",
    "fig = plt.figure(figsize=(10, 7))\n",
    "fig.add_subplot(rows, columns, 2)\n",
    "plt.plot(metrics['accuracy'])\n",
    "plt.plot(metrics['val_accuracy'])\n",
    "plt.title('Model Accuracy')\n",
    "plt.ylabel('accuracy')\n",
    "plt.xlabel('epoch')\n",
    "plt.legend(['train', 'val'], loc='upper left')\n",
    "plt.savefig(os.path.join(results, 'acc_epoch.png'))\n",
    "plt.show()\n",
    "\n"
   ]
  },
  {
   "cell_type": "code",
   "execution_count": 26,
   "metadata": {
    "id": "HQOKaA8zfv4K"
   },
   "outputs": [],
   "source": [
    "## Get the \n",
    "predict_x = m1.predict(X_test) \n",
    "predictions = np.argmax(predict_x,axis=1) "
   ]
  },
  {
   "cell_type": "code",
   "execution_count": 27,
   "metadata": {
    "id": "xy9_ZzsYkByi"
   },
   "outputs": [],
   "source": [
    "# Decode the Model's predections  (from [0,1,0,2..] to ['Glioma','Meningioma'...]) of the Test set using the the dictionary 'decode_dict' \n",
    "predictions = np.vectorize(decode_dict.get)(predictions)"
   ]
  },
  {
   "cell_type": "code",
   "execution_count": 28,
   "metadata": {
    "id": "IVYX1MCzjx00"
   },
   "outputs": [
    {
     "name": "stdout",
     "output_type": "stream",
     "text": [
      "              precision    recall  f1-score   support\n",
      "\n",
      "   Glioma II       0.70      0.74      0.72       420\n",
      "  Glioma III       0.69      0.75      0.72       308\n",
      "   Glioma VI       0.80      0.69      0.74       440\n",
      "  Meningioma       0.93      0.89      0.91       384\n",
      "    No tumor       0.98      0.98      0.98       692\n",
      "   Pituitary       0.91      0.96      0.93       548\n",
      "\n",
      "    accuracy                           0.85      2792\n",
      "   macro avg       0.83      0.83      0.83      2792\n",
      "weighted avg       0.86      0.85      0.85      2792\n",
      "\n"
     ]
    }
   ],
   "source": [
    "print(classification_report(y_test_eval, predictions))"
   ]
  },
  {
   "cell_type": "code",
   "execution_count": 29,
   "metadata": {
    "id": "HOVPJjy0udhD"
   },
   "outputs": [
    {
     "data": {
      "image/png": "[encoded data removed]",
      "text/plain": [
       "<Figure size 720x504 with 2 Axes>"
      ]
     },
     "metadata": {
      "needs_background": "light"
     },
     "output_type": "display_data"
    }
   ],
   "source": [
    "labels = sorted(aug_test_DF.Label.unique())\n",
    "\n",
    "cm = pd.DataFrame(confusion_matrix(y_test_eval, predictions), index=labels, columns=labels)\n",
    "plt.figure(figsize = (10,7))\n",
    "plt.title('Confusion matrix')\n",
    "sns.heatmap(cm, annot=True, cmap=\"PuBu\",fmt = 'd')\n",
    "plt.ylabel('True labels')\n",
    "plt.xlabel('Predicted labels')\n",
    "plt.savefig(os.path.join(results, 'confusion_matrix.png'))\n",
    "plt.show()"
   ]
  },
  {
   "cell_type": "code",
   "execution_count": null,
   "metadata": {},
   "outputs": [],
   "source": []
  }
 ],
 "metadata": {
  "accelerator": "GPU",
  "colab": {
   "collapsed_sections": [],
   "name": "5_labels_model_v1.ipynb",
   "provenance": []
  },
  "kernelspec": {
   "display_name": "Python 3 (ipykernel)",
   "language": "python",
   "name": "python3"
  },
  "language_info": {
   "codemirror_mode": {
    "name": "ipython",
    "version": 3
   },
   "file_extension": ".py",
   "mimetype": "text/x-python",
   "name": "python",
   "nbconvert_exporter": "python",
   "pygments_lexer": "ipython3",
   "version": "3.9.7"
  }
 },
 "nbformat": 4,
 "nbformat_minor": 1
}
