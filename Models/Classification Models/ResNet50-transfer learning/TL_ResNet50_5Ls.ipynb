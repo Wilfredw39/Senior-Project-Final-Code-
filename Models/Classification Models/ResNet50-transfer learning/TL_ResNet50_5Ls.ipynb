{
 "cells": [
  {
   "cell_type": "markdown",
   "metadata": {
    "id": "vt51_KACTdGf"
   },
   "source": [
    "## 0. Setting up the Environment\n"
   ]
  },
  {
   "cell_type": "code",
   "execution_count": 1,
   "metadata": {
    "colab": {
     "base_uri": "https://localhost:8080/"
    },
    "id": "D4Z6Zv3PSOcg",
    "outputId": "b87040f7-50f1-4633-bcd9-415194d37d2e"
   },
   "outputs": [],
   "source": [
    "## impoort labaries \n",
    "import os \n",
    "import cv2\n",
    "import mat73\n",
    "import time\n",
    "import pandas as pd\n",
    "import numpy as np \n",
    "import seaborn as sns\n",
    "import skimage\n",
    "import tensorflow as tf\n",
    "import matplotlib.pyplot as plt\n",
    "from PIL import Image, ImageOps \n",
    "from skimage.transform import resize\n",
    "from keras.models import Sequential\n",
    "from tensorflow.keras import optimizers\n",
    "from tqdm.notebook import tqdm_notebook as tqdm\n",
    "from sklearn.metrics import classification_report, confusion_matrix\n",
    "from keras.layers import Conv2D, MaxPooling2D, Flatten, Dense, Dropout, BatchNormalization,  Convolution2D"
   ]
  },
  {
   "cell_type": "markdown",
   "metadata": {
    "id": "sYWmkuxOWtm4"
   },
   "source": [
    "## 1. Data Importing "
   ]
  },
  {
   "cell_type": "code",
   "execution_count": 2,
   "metadata": {},
   "outputs": [],
   "source": [
    "SIZE_X = 128\n",
    "SIZE_Y = 128\n",
    "\n",
    "aug_train_DF = pd.read_pickle(r\"../../../Datasets/Dataset_B/aug_train_DF_{}.pkl\".format(SIZE_X))\n",
    "aug_val_DF = pd.read_pickle(r\"../../../Datasets/Dataset_B/aug_val_DF_{}.pkl\".format(SIZE_X))\n",
    "aug_test_DF = pd.read_pickle(r\"../../../Datasets/Dataset_B/aug_test_DF_{}.pkl\".format(SIZE_X))"
   ]
  },
  {
   "cell_type": "code",
   "execution_count": 3,
   "metadata": {
    "colab": {
     "background_save": true
    },
    "id": "kaaNJb4nR5Z5",
    "outputId": "229fd2a5-846a-4168-abdf-2db9f91c282d"
   },
   "outputs": [
    {
     "data": {
      "text/html": [
       "<div>\n",
       "<style scoped>\n",
       "    .dataframe tbody tr th:only-of-type {\n",
       "        vertical-align: middle;\n",
       "    }\n",
       "\n",
       "    .dataframe tbody tr th {\n",
       "        vertical-align: top;\n",
       "    }\n",
       "\n",
       "    .dataframe thead th {\n",
       "        text-align: right;\n",
       "    }\n",
       "</style>\n",
       "<table border=\"1\" class=\"dataframe\">\n",
       "  <thead>\n",
       "    <tr style=\"text-align: right;\">\n",
       "      <th></th>\n",
       "      <th>PID</th>\n",
       "      <th>Label</th>\n",
       "      <th>Image</th>\n",
       "      <th>File</th>\n",
       "    </tr>\n",
       "  </thead>\n",
       "  <tbody>\n",
       "    <tr>\n",
       "      <th>12619</th>\n",
       "      <td>108931</td>\n",
       "      <td>Pituitary</td>\n",
       "      <td>[[0.0, 0.0, 0.0, 0.0, 0.0, 0.0, 0.0, 0.0, 0.0,...</td>\n",
       "      <td>1204.mat</td>\n",
       "    </tr>\n",
       "    <tr>\n",
       "      <th>11111</th>\n",
       "      <td>107495</td>\n",
       "      <td>Pituitary</td>\n",
       "      <td>[[0, 0, 0, 0, 0, 0, 1, 1, 1, 1, 1, 1, 1, 1, 1,...</td>\n",
       "      <td>1046.mat</td>\n",
       "    </tr>\n",
       "    <tr>\n",
       "      <th>1589</th>\n",
       "      <td>104019</td>\n",
       "      <td>Pituitary</td>\n",
       "      <td>[[0, 0, 0, 0, 0, 0, 0, 0, 0, 0, 0, 0, 0, 0, 1,...</td>\n",
       "      <td>1533.mat</td>\n",
       "    </tr>\n",
       "    <tr>\n",
       "      <th>4738</th>\n",
       "      <td>HF1077</td>\n",
       "      <td>Glioma VI</td>\n",
       "      <td>[[0.0, 0.0, 0.0, 0.0, 0.0, 0.0, 0.0, 0.0, 0.0,...</td>\n",
       "      <td>D:\\Datasets\\manifest-tXudPFfp43472957274060920...</td>\n",
       "    </tr>\n",
       "    <tr>\n",
       "      <th>3418</th>\n",
       "      <td>HF1708</td>\n",
       "      <td>Glioma II</td>\n",
       "      <td>[[0.0, 0.0, 0.0, 0.0, 0.0, 0.0, 0.0, 0.0, 0.0,...</td>\n",
       "      <td>D:\\Datasets\\manifest-tXudPFfp43472957274060920...</td>\n",
       "    </tr>\n",
       "  </tbody>\n",
       "</table>\n",
       "</div>"
      ],
      "text/plain": [
       "          PID      Label                                              Image  \\\n",
       "12619  108931  Pituitary  [[0.0, 0.0, 0.0, 0.0, 0.0, 0.0, 0.0, 0.0, 0.0,...   \n",
       "11111  107495  Pituitary  [[0, 0, 0, 0, 0, 0, 1, 1, 1, 1, 1, 1, 1, 1, 1,...   \n",
       "1589   104019  Pituitary  [[0, 0, 0, 0, 0, 0, 0, 0, 0, 0, 0, 0, 0, 0, 1,...   \n",
       "4738   HF1077  Glioma VI  [[0.0, 0.0, 0.0, 0.0, 0.0, 0.0, 0.0, 0.0, 0.0,...   \n",
       "3418   HF1708  Glioma II  [[0.0, 0.0, 0.0, 0.0, 0.0, 0.0, 0.0, 0.0, 0.0,...   \n",
       "\n",
       "                                                    File  \n",
       "12619                                           1204.mat  \n",
       "11111                                           1046.mat  \n",
       "1589                                            1533.mat  \n",
       "4738   D:\\Datasets\\manifest-tXudPFfp43472957274060920...  \n",
       "3418   D:\\Datasets\\manifest-tXudPFfp43472957274060920...  "
      ]
     },
     "execution_count": 3,
     "metadata": {},
     "output_type": "execute_result"
    }
   ],
   "source": [
    "## Combain the df with the Pitutary & Meningioma types with the dataframe of the Glioma grades (I, II,, IV).\n",
    "\n",
    "pd.concat([aug_train_DF, aug_val_DF, aug_test_DF], axis=0, ignore_index = True).sample(5)"
   ]
  },
  {
   "cell_type": "code",
   "execution_count": 4,
   "metadata": {
    "colab": {
     "background_save": true
    },
    "id": "uJEttBBOU9IN",
    "outputId": "d176e92f-d35f-4f92-a264-ead1e87244e6"
   },
   "outputs": [
    {
     "name": "stderr",
     "output_type": "stream",
     "text": [
      "C:\\Users\\Ma7moud\\anaconda3\\envs\\T-UNet\\lib\\site-packages\\seaborn\\_decorators.py:36: FutureWarning: Pass the following variable as a keyword arg: x. From version 0.12, the only valid positional argument will be `data`, and passing other arguments without an explicit keyword will result in an error or misinterpretation.\n",
      "  warnings.warn(\n"
     ]
    },
    {
     "data": {
      "image/png": "[encoded data removed]",
      "text/plain": [
       "<Figure size 432x288 with 1 Axes>"
      ]
     },
     "metadata": {
      "needs_background": "light"
     },
     "output_type": "display_data"
    }
   ],
   "source": [
    "sns.countplot(pd.concat([aug_train_DF, aug_val_DF, aug_test_DF], axis=0, ignore_index = True).Label)\n",
    "plt.show()"
   ]
  },
  {
   "cell_type": "code",
   "execution_count": 5,
   "metadata": {
    "colab": {
     "background_save": true
    },
    "id": "AWLSJpw6WVVo",
    "outputId": "348d3fee-c3a5-442d-96af-5711dec23128"
   },
   "outputs": [
    {
     "data": {
      "image/png": "[encoded data removed]",
      "text/plain": [
       "<Figure size 432x288 with 1 Axes>"
      ]
     },
     "metadata": {},
     "output_type": "display_data"
    }
   ],
   "source": [
    "data = pd.concat([aug_train_DF, aug_val_DF, aug_test_DF], axis=0, ignore_index = True).groupby(\"Label\")[\"Label\"].count()\n",
    "data.plot.pie(autopct=\"%.1f%%\");"
   ]
  },
  {
   "cell_type": "markdown",
   "metadata": {
    "id": "Zf3vh4d7w3ZP"
   },
   "source": [
    "## 2. Data-Preprocessing "
   ]
  },
  {
   "cell_type": "markdown",
   "metadata": {
    "id": "Kd502KoZONei"
   },
   "source": [
    "### 2.1 Image Resizing \n"
   ]
  },
  {
   "cell_type": "markdown",
   "metadata": {
    "id": "oDIYJ9-3OWho"
   },
   "source": [
    "### 2.2 Data Augmentation"
   ]
  },
  {
   "cell_type": "markdown",
   "metadata": {},
   "source": [
    "### 2.3 Grayscale to RGB"
   ]
  },
  {
   "cell_type": "code",
   "execution_count": 6,
   "metadata": {
    "colab": {
     "background_save": true
    },
    "id": "hzz5yapeG-M7",
    "outputId": "0d2f1eb1-953a-4141-8ab9-4cb02b8519e8"
   },
   "outputs": [],
   "source": [
    "def normalize(img):\n",
    "    plt.imsave('DR.png', img, cmap='gray')\n",
    "    return cv2.imread('DR.png')"
   ]
  },
  {
   "cell_type": "code",
   "execution_count": 7,
   "metadata": {},
   "outputs": [],
   "source": [
    "aug_train_DF[\"Image\"] = aug_train_DF[\"Image\"].apply(normalize)\n",
    "aug_val_DF[\"Image\"] = aug_val_DF[\"Image\"].apply(normalize)\n",
    "aug_test_DF[\"Image\"] = aug_test_DF[\"Image\"].apply(normalize)"
   ]
  },
  {
   "cell_type": "markdown",
   "metadata": {
    "id": "yg8moTnTaNeT"
   },
   "source": [
    "### 2.4 Splitting Data into Train, Test, and Validation Sets"
   ]
  },
  {
   "cell_type": "code",
   "execution_count": 8,
   "metadata": {},
   "outputs": [],
   "source": [
    "y_train = aug_train_DF[\"Label\"]\n",
    "X_train = aug_train_DF['Image'].tolist()\n",
    "X_train = np.array(X_train).reshape(-1, SIZE_X, SIZE_Y, 3)\n",
    "\n",
    "\n",
    "y_val = aug_val_DF[\"Label\"]\n",
    "X_val = aug_val_DF['Image'].tolist()\n",
    "X_val = np.array(X_val).reshape(-1, SIZE_X, SIZE_Y, 3)\n",
    "\n",
    "y_test = aug_test_DF[\"Label\"]\n",
    "X_test = aug_test_DF['Image'].tolist()\n",
    "X_test = np.array(X_test).reshape(-1, SIZE_X, SIZE_Y, 3)\n"
   ]
  },
  {
   "cell_type": "code",
   "execution_count": 9,
   "metadata": {},
   "outputs": [
    {
     "name": "stdout",
     "output_type": "stream",
     "text": [
      "X_train shape: (10676, 128, 128, 3) | y_train shape: (10676,)\n",
      "X_val shape  : (1424, 128, 128, 3)  | y_test shape :  (1424,)\n",
      "X_test shape : (2136, 128, 128, 3)  | y_test shape :  (2136,)\n"
     ]
    }
   ],
   "source": [
    "print(\"X_train shape:\", X_train.shape,\"| y_train shape:\", y_train.shape)\n",
    "print(\"X_val shape  :\",X_val.shape,\" | y_test shape : \", y_val.shape)\n",
    "print(\"X_test shape :\",X_test.shape,\" | y_test shape : \", y_test.shape)"
   ]
  },
  {
   "cell_type": "markdown",
   "metadata": {},
   "source": [
    "### 2.5 One-Hot Encode the labels "
   ]
  },
  {
   "cell_type": "code",
   "execution_count": 10,
   "metadata": {
    "colab": {
     "background_save": true
    },
    "id": "uR_Cv0khfpyS",
    "outputId": "0fa96dd1-5899-45b2-9d73-5fcbc132a797"
   },
   "outputs": [],
   "source": [
    "# saving a copy of the testing labels before one hot encoding\n",
    "y_test_eval = y_test\n",
    "# one hot endcoding the labels \n",
    "y_train = pd.get_dummies(y_train)\n",
    "y_test  = pd.get_dummies(y_test)\n",
    "y_val   = pd.get_dummies(y_val)"
   ]
  },
  {
   "cell_type": "code",
   "execution_count": 11,
   "metadata": {},
   "outputs": [
    {
     "name": "stdout",
     "output_type": "stream",
     "text": [
      "X_train shape: (10676, 128, 128, 3) | y_train shape: (10676, 5)\n",
      "X_test shape : (2136, 128, 128, 3)  | y_test shape:  (2136, 5)\n",
      "X_val shape  : (1424, 128, 128, 3)  | y_val shape :  (1424, 5)\n",
      "\n",
      "Total number: 14236\n"
     ]
    }
   ],
   "source": [
    "print(\"X_train shape:\", X_train.shape,\"| y_train shape:\", y_train.shape)\n",
    "print(\"X_test shape :\",X_test.shape,\" | y_test shape: \", y_test.shape)\n",
    "print(\"X_val shape  :\",X_val.shape,\" | y_val shape : \", y_val.shape)\n",
    "print(\"\\nTotal number: {}\".format(len(aug_train_DF)+len(aug_val_DF)+len(aug_test_DF)))"
   ]
  },
  {
   "cell_type": "code",
   "execution_count": 12,
   "metadata": {
    "colab": {
     "background_save": true
    },
    "id": "3DctvR_fVPlF",
    "outputId": "bdf93bfa-b00d-49a3-99c8-f2bde2731658"
   },
   "outputs": [
    {
     "data": {
      "text/html": [
       "<div>\n",
       "<style scoped>\n",
       "    .dataframe tbody tr th:only-of-type {\n",
       "        vertical-align: middle;\n",
       "    }\n",
       "\n",
       "    .dataframe tbody tr th {\n",
       "        vertical-align: top;\n",
       "    }\n",
       "\n",
       "    .dataframe thead th {\n",
       "        text-align: right;\n",
       "    }\n",
       "</style>\n",
       "<table border=\"1\" class=\"dataframe\">\n",
       "  <thead>\n",
       "    <tr style=\"text-align: right;\">\n",
       "      <th></th>\n",
       "      <th>Glioma II</th>\n",
       "      <th>Glioma III</th>\n",
       "      <th>Glioma VI</th>\n",
       "      <th>Meningioma</th>\n",
       "      <th>Pituitary</th>\n",
       "    </tr>\n",
       "  </thead>\n",
       "  <tbody>\n",
       "    <tr>\n",
       "      <th>0</th>\n",
       "      <td>1</td>\n",
       "      <td>0</td>\n",
       "      <td>0</td>\n",
       "      <td>0</td>\n",
       "      <td>0</td>\n",
       "    </tr>\n",
       "    <tr>\n",
       "      <th>1</th>\n",
       "      <td>0</td>\n",
       "      <td>0</td>\n",
       "      <td>0</td>\n",
       "      <td>0</td>\n",
       "      <td>1</td>\n",
       "    </tr>\n",
       "    <tr>\n",
       "      <th>2</th>\n",
       "      <td>1</td>\n",
       "      <td>0</td>\n",
       "      <td>0</td>\n",
       "      <td>0</td>\n",
       "      <td>0</td>\n",
       "    </tr>\n",
       "    <tr>\n",
       "      <th>3</th>\n",
       "      <td>0</td>\n",
       "      <td>0</td>\n",
       "      <td>0</td>\n",
       "      <td>1</td>\n",
       "      <td>0</td>\n",
       "    </tr>\n",
       "    <tr>\n",
       "      <th>4</th>\n",
       "      <td>0</td>\n",
       "      <td>0</td>\n",
       "      <td>0</td>\n",
       "      <td>0</td>\n",
       "      <td>1</td>\n",
       "    </tr>\n",
       "    <tr>\n",
       "      <th>...</th>\n",
       "      <td>...</td>\n",
       "      <td>...</td>\n",
       "      <td>...</td>\n",
       "      <td>...</td>\n",
       "      <td>...</td>\n",
       "    </tr>\n",
       "    <tr>\n",
       "      <th>2131</th>\n",
       "      <td>0</td>\n",
       "      <td>0</td>\n",
       "      <td>0</td>\n",
       "      <td>0</td>\n",
       "      <td>1</td>\n",
       "    </tr>\n",
       "    <tr>\n",
       "      <th>2132</th>\n",
       "      <td>1</td>\n",
       "      <td>0</td>\n",
       "      <td>0</td>\n",
       "      <td>0</td>\n",
       "      <td>0</td>\n",
       "    </tr>\n",
       "    <tr>\n",
       "      <th>2133</th>\n",
       "      <td>0</td>\n",
       "      <td>0</td>\n",
       "      <td>0</td>\n",
       "      <td>0</td>\n",
       "      <td>1</td>\n",
       "    </tr>\n",
       "    <tr>\n",
       "      <th>2134</th>\n",
       "      <td>0</td>\n",
       "      <td>0</td>\n",
       "      <td>1</td>\n",
       "      <td>0</td>\n",
       "      <td>0</td>\n",
       "    </tr>\n",
       "    <tr>\n",
       "      <th>2135</th>\n",
       "      <td>0</td>\n",
       "      <td>0</td>\n",
       "      <td>0</td>\n",
       "      <td>1</td>\n",
       "      <td>0</td>\n",
       "    </tr>\n",
       "  </tbody>\n",
       "</table>\n",
       "<p>2136 rows × 5 columns</p>\n",
       "</div>"
      ],
      "text/plain": [
       "      Glioma II  Glioma III  Glioma VI  Meningioma  Pituitary\n",
       "0             1           0          0           0          0\n",
       "1             0           0          0           0          1\n",
       "2             1           0          0           0          0\n",
       "3             0           0          0           1          0\n",
       "4             0           0          0           0          1\n",
       "...         ...         ...        ...         ...        ...\n",
       "2131          0           0          0           0          1\n",
       "2132          1           0          0           0          0\n",
       "2133          0           0          0           0          1\n",
       "2134          0           0          1           0          0\n",
       "2135          0           0          0           1          0\n",
       "\n",
       "[2136 rows x 5 columns]"
      ]
     },
     "execution_count": 12,
     "metadata": {},
     "output_type": "execute_result"
    }
   ],
   "source": [
    "y_test"
   ]
  },
  {
   "cell_type": "code",
   "execution_count": 13,
   "metadata": {
    "colab": {
     "background_save": true
    },
    "id": "jWFIvPjtiNio"
   },
   "outputs": [],
   "source": [
    "## This Dictionary is used to decode the model's predicted values.  \n",
    "decode_dict = {0 : \"Glioma II\", 1 : \"Glioma III\", 2 : \"Glioma VI\", 3: \"Meningioma\", 4: \"Pituitary\"}"
   ]
  },
  {
   "cell_type": "code",
   "execution_count": 14,
   "metadata": {
    "colab": {
     "background_save": true
    },
    "id": "PcsCoY3jggfU",
    "outputId": "3b3c30b0-a9af-4923-a318-cea2b5587807"
   },
   "outputs": [
    {
     "data": {
      "image/png": "[encoded data removed]",
      "text/plain": [
       "<Figure size 936x576 with 1 Axes>"
      ]
     },
     "metadata": {},
     "output_type": "display_data"
    }
   ],
   "source": [
    "import matplotlib.pyplot as plt\n",
    "import numpy as np\n",
    "##  Creating a Pie chart illustrating the percentage of the train, validation, test sets.\n",
    "Data = np.array([len(y_train), len(y_test), len(y_val)])\n",
    "mylabels = [\"Test Set\", \"Test Set\", \"Validation Set\"]\n",
    "plt.figure(figsize=(13, 8))\n",
    "plt.pie(Data, labels = mylabels, autopct=\"%.1f%%\", )\n",
    "plt.legend()\n",
    "plt.show() "
   ]
  },
  {
   "cell_type": "markdown",
   "metadata": {
    "id": "zDCzea2Klw_1"
   },
   "source": [
    "## 3. Models Creation\n"
   ]
  },
  {
   "cell_type": "code",
   "execution_count": 15,
   "metadata": {
    "colab": {
     "background_save": true
    },
    "id": "K58Sn8Gt_6v9"
   },
   "outputs": [
    {
     "name": "stdout",
     "output_type": "stream",
     "text": [
      "Model: \"model\"\n",
      "__________________________________________________________________________________________________\n",
      "Layer (type)                    Output Shape         Param #     Connected to                     \n",
      "==================================================================================================\n",
      "input_1 (InputLayer)            [(None, 128, 128, 3) 0                                            \n",
      "__________________________________________________________________________________________________\n",
      "conv1_pad (ZeroPadding2D)       (None, 134, 134, 3)  0           input_1[0][0]                    \n",
      "__________________________________________________________________________________________________\n",
      "conv1_conv (Conv2D)             (None, 64, 64, 64)   9472        conv1_pad[0][0]                  \n",
      "__________________________________________________________________________________________________\n",
      "conv1_bn (BatchNormalization)   (None, 64, 64, 64)   256         conv1_conv[0][0]                 \n",
      "__________________________________________________________________________________________________\n",
      "conv1_relu (Activation)         (None, 64, 64, 64)   0           conv1_bn[0][0]                   \n",
      "__________________________________________________________________________________________________\n",
      "pool1_pad (ZeroPadding2D)       (None, 66, 66, 64)   0           conv1_relu[0][0]                 \n",
      "__________________________________________________________________________________________________\n",
      "pool1_pool (MaxPooling2D)       (None, 32, 32, 64)   0           pool1_pad[0][0]                  \n",
      "__________________________________________________________________________________________________\n",
      "conv2_block1_1_conv (Conv2D)    (None, 32, 32, 64)   4160        pool1_pool[0][0]                 \n",
      "__________________________________________________________________________________________________\n",
      "conv2_block1_1_bn (BatchNormali (None, 32, 32, 64)   256         conv2_block1_1_conv[0][0]        \n",
      "__________________________________________________________________________________________________\n",
      "conv2_block1_1_relu (Activation (None, 32, 32, 64)   0           conv2_block1_1_bn[0][0]          \n",
      "__________________________________________________________________________________________________\n",
      "conv2_block1_2_conv (Conv2D)    (None, 32, 32, 64)   36928       conv2_block1_1_relu[0][0]        \n",
      "__________________________________________________________________________________________________\n",
      "conv2_block1_2_bn (BatchNormali (None, 32, 32, 64)   256         conv2_block1_2_conv[0][0]        \n",
      "__________________________________________________________________________________________________\n",
      "conv2_block1_2_relu (Activation (None, 32, 32, 64)   0           conv2_block1_2_bn[0][0]          \n",
      "__________________________________________________________________________________________________\n",
      "conv2_block1_0_conv (Conv2D)    (None, 32, 32, 256)  16640       pool1_pool[0][0]                 \n",
      "__________________________________________________________________________________________________\n",
      "conv2_block1_3_conv (Conv2D)    (None, 32, 32, 256)  16640       conv2_block1_2_relu[0][0]        \n",
      "__________________________________________________________________________________________________\n",
      "conv2_block1_0_bn (BatchNormali (None, 32, 32, 256)  1024        conv2_block1_0_conv[0][0]        \n",
      "__________________________________________________________________________________________________\n",
      "conv2_block1_3_bn (BatchNormali (None, 32, 32, 256)  1024        conv2_block1_3_conv[0][0]        \n",
      "__________________________________________________________________________________________________\n",
      "conv2_block1_add (Add)          (None, 32, 32, 256)  0           conv2_block1_0_bn[0][0]          \n",
      "                                                                 conv2_block1_3_bn[0][0]          \n",
      "__________________________________________________________________________________________________\n",
      "conv2_block1_out (Activation)   (None, 32, 32, 256)  0           conv2_block1_add[0][0]           \n",
      "__________________________________________________________________________________________________\n",
      "conv2_block2_1_conv (Conv2D)    (None, 32, 32, 64)   16448       conv2_block1_out[0][0]           \n",
      "__________________________________________________________________________________________________\n",
      "conv2_block2_1_bn (BatchNormali (None, 32, 32, 64)   256         conv2_block2_1_conv[0][0]        \n",
      "__________________________________________________________________________________________________\n",
      "conv2_block2_1_relu (Activation (None, 32, 32, 64)   0           conv2_block2_1_bn[0][0]          \n",
      "__________________________________________________________________________________________________\n",
      "conv2_block2_2_conv (Conv2D)    (None, 32, 32, 64)   36928       conv2_block2_1_relu[0][0]        \n",
      "__________________________________________________________________________________________________\n",
      "conv2_block2_2_bn (BatchNormali (None, 32, 32, 64)   256         conv2_block2_2_conv[0][0]        \n",
      "__________________________________________________________________________________________________\n",
      "conv2_block2_2_relu (Activation (None, 32, 32, 64)   0           conv2_block2_2_bn[0][0]          \n",
      "__________________________________________________________________________________________________\n",
      "conv2_block2_3_conv (Conv2D)    (None, 32, 32, 256)  16640       conv2_block2_2_relu[0][0]        \n",
      "__________________________________________________________________________________________________\n",
      "conv2_block2_3_bn (BatchNormali (None, 32, 32, 256)  1024        conv2_block2_3_conv[0][0]        \n",
      "__________________________________________________________________________________________________\n",
      "conv2_block2_add (Add)          (None, 32, 32, 256)  0           conv2_block1_out[0][0]           \n",
      "                                                                 conv2_block2_3_bn[0][0]          \n",
      "__________________________________________________________________________________________________\n",
      "conv2_block2_out (Activation)   (None, 32, 32, 256)  0           conv2_block2_add[0][0]           \n",
      "__________________________________________________________________________________________________\n",
      "conv2_block3_1_conv (Conv2D)    (None, 32, 32, 64)   16448       conv2_block2_out[0][0]           \n",
      "__________________________________________________________________________________________________\n",
      "conv2_block3_1_bn (BatchNormali (None, 32, 32, 64)   256         conv2_block3_1_conv[0][0]        \n",
      "__________________________________________________________________________________________________\n",
      "conv2_block3_1_relu (Activation (None, 32, 32, 64)   0           conv2_block3_1_bn[0][0]          \n",
      "__________________________________________________________________________________________________\n",
      "conv2_block3_2_conv (Conv2D)    (None, 32, 32, 64)   36928       conv2_block3_1_relu[0][0]        \n",
      "__________________________________________________________________________________________________\n",
      "conv2_block3_2_bn (BatchNormali (None, 32, 32, 64)   256         conv2_block3_2_conv[0][0]        \n",
      "__________________________________________________________________________________________________\n",
      "conv2_block3_2_relu (Activation (None, 32, 32, 64)   0           conv2_block3_2_bn[0][0]          \n",
      "__________________________________________________________________________________________________\n",
      "conv2_block3_3_conv (Conv2D)    (None, 32, 32, 256)  16640       conv2_block3_2_relu[0][0]        \n",
      "__________________________________________________________________________________________________\n",
      "conv2_block3_3_bn (BatchNormali (None, 32, 32, 256)  1024        conv2_block3_3_conv[0][0]        \n",
      "__________________________________________________________________________________________________\n",
      "conv2_block3_add (Add)          (None, 32, 32, 256)  0           conv2_block2_out[0][0]           \n",
      "                                                                 conv2_block3_3_bn[0][0]          \n",
      "__________________________________________________________________________________________________\n",
      "conv2_block3_out (Activation)   (None, 32, 32, 256)  0           conv2_block3_add[0][0]           \n",
      "__________________________________________________________________________________________________\n",
      "conv3_block1_1_conv (Conv2D)    (None, 16, 16, 128)  32896       conv2_block3_out[0][0]           \n",
      "__________________________________________________________________________________________________\n",
      "conv3_block1_1_bn (BatchNormali (None, 16, 16, 128)  512         conv3_block1_1_conv[0][0]        \n",
      "__________________________________________________________________________________________________\n",
      "conv3_block1_1_relu (Activation (None, 16, 16, 128)  0           conv3_block1_1_bn[0][0]          \n",
      "__________________________________________________________________________________________________\n",
      "conv3_block1_2_conv (Conv2D)    (None, 16, 16, 128)  147584      conv3_block1_1_relu[0][0]        \n",
      "__________________________________________________________________________________________________\n",
      "conv3_block1_2_bn (BatchNormali (None, 16, 16, 128)  512         conv3_block1_2_conv[0][0]        \n",
      "__________________________________________________________________________________________________\n",
      "conv3_block1_2_relu (Activation (None, 16, 16, 128)  0           conv3_block1_2_bn[0][0]          \n",
      "__________________________________________________________________________________________________\n",
      "conv3_block1_0_conv (Conv2D)    (None, 16, 16, 512)  131584      conv2_block3_out[0][0]           \n",
      "__________________________________________________________________________________________________\n",
      "conv3_block1_3_conv (Conv2D)    (None, 16, 16, 512)  66048       conv3_block1_2_relu[0][0]        \n",
      "__________________________________________________________________________________________________\n",
      "conv3_block1_0_bn (BatchNormali (None, 16, 16, 512)  2048        conv3_block1_0_conv[0][0]        \n",
      "__________________________________________________________________________________________________\n",
      "conv3_block1_3_bn (BatchNormali (None, 16, 16, 512)  2048        conv3_block1_3_conv[0][0]        \n",
      "__________________________________________________________________________________________________\n",
      "conv3_block1_add (Add)          (None, 16, 16, 512)  0           conv3_block1_0_bn[0][0]          \n",
      "                                                                 conv3_block1_3_bn[0][0]          \n",
      "__________________________________________________________________________________________________\n",
      "conv3_block1_out (Activation)   (None, 16, 16, 512)  0           conv3_block1_add[0][0]           \n",
      "__________________________________________________________________________________________________\n",
      "conv3_block2_1_conv (Conv2D)    (None, 16, 16, 128)  65664       conv3_block1_out[0][0]           \n",
      "__________________________________________________________________________________________________\n",
      "conv3_block2_1_bn (BatchNormali (None, 16, 16, 128)  512         conv3_block2_1_conv[0][0]        \n",
      "__________________________________________________________________________________________________\n",
      "conv3_block2_1_relu (Activation (None, 16, 16, 128)  0           conv3_block2_1_bn[0][0]          \n",
      "__________________________________________________________________________________________________\n",
      "conv3_block2_2_conv (Conv2D)    (None, 16, 16, 128)  147584      conv3_block2_1_relu[0][0]        \n",
      "__________________________________________________________________________________________________\n",
      "conv3_block2_2_bn (BatchNormali (None, 16, 16, 128)  512         conv3_block2_2_conv[0][0]        \n",
      "__________________________________________________________________________________________________\n",
      "conv3_block2_2_relu (Activation (None, 16, 16, 128)  0           conv3_block2_2_bn[0][0]          \n",
      "__________________________________________________________________________________________________\n",
      "conv3_block2_3_conv (Conv2D)    (None, 16, 16, 512)  66048       conv3_block2_2_relu[0][0]        \n",
      "__________________________________________________________________________________________________\n",
      "conv3_block2_3_bn (BatchNormali (None, 16, 16, 512)  2048        conv3_block2_3_conv[0][0]        \n",
      "__________________________________________________________________________________________________\n",
      "conv3_block2_add (Add)          (None, 16, 16, 512)  0           conv3_block1_out[0][0]           \n",
      "                                                                 conv3_block2_3_bn[0][0]          \n",
      "__________________________________________________________________________________________________\n",
      "conv3_block2_out (Activation)   (None, 16, 16, 512)  0           conv3_block2_add[0][0]           \n",
      "__________________________________________________________________________________________________\n",
      "conv3_block3_1_conv (Conv2D)    (None, 16, 16, 128)  65664       conv3_block2_out[0][0]           \n",
      "__________________________________________________________________________________________________\n",
      "conv3_block3_1_bn (BatchNormali (None, 16, 16, 128)  512         conv3_block3_1_conv[0][0]        \n",
      "__________________________________________________________________________________________________\n",
      "conv3_block3_1_relu (Activation (None, 16, 16, 128)  0           conv3_block3_1_bn[0][0]          \n",
      "__________________________________________________________________________________________________\n",
      "conv3_block3_2_conv (Conv2D)    (None, 16, 16, 128)  147584      conv3_block3_1_relu[0][0]        \n",
      "__________________________________________________________________________________________________\n",
      "conv3_block3_2_bn (BatchNormali (None, 16, 16, 128)  512         conv3_block3_2_conv[0][0]        \n",
      "__________________________________________________________________________________________________\n",
      "conv3_block3_2_relu (Activation (None, 16, 16, 128)  0           conv3_block3_2_bn[0][0]          \n",
      "__________________________________________________________________________________________________\n",
      "conv3_block3_3_conv (Conv2D)    (None, 16, 16, 512)  66048       conv3_block3_2_relu[0][0]        \n",
      "__________________________________________________________________________________________________\n",
      "conv3_block3_3_bn (BatchNormali (None, 16, 16, 512)  2048        conv3_block3_3_conv[0][0]        \n",
      "__________________________________________________________________________________________________\n",
      "conv3_block3_add (Add)          (None, 16, 16, 512)  0           conv3_block2_out[0][0]           \n",
      "                                                                 conv3_block3_3_bn[0][0]          \n",
      "__________________________________________________________________________________________________\n",
      "conv3_block3_out (Activation)   (None, 16, 16, 512)  0           conv3_block3_add[0][0]           \n",
      "__________________________________________________________________________________________________\n",
      "conv3_block4_1_conv (Conv2D)    (None, 16, 16, 128)  65664       conv3_block3_out[0][0]           \n",
      "__________________________________________________________________________________________________\n",
      "conv3_block4_1_bn (BatchNormali (None, 16, 16, 128)  512         conv3_block4_1_conv[0][0]        \n",
      "__________________________________________________________________________________________________\n",
      "conv3_block4_1_relu (Activation (None, 16, 16, 128)  0           conv3_block4_1_bn[0][0]          \n",
      "__________________________________________________________________________________________________\n",
      "conv3_block4_2_conv (Conv2D)    (None, 16, 16, 128)  147584      conv3_block4_1_relu[0][0]        \n",
      "__________________________________________________________________________________________________\n",
      "conv3_block4_2_bn (BatchNormali (None, 16, 16, 128)  512         conv3_block4_2_conv[0][0]        \n",
      "__________________________________________________________________________________________________\n",
      "conv3_block4_2_relu (Activation (None, 16, 16, 128)  0           conv3_block4_2_bn[0][0]          \n",
      "__________________________________________________________________________________________________\n",
      "conv3_block4_3_conv (Conv2D)    (None, 16, 16, 512)  66048       conv3_block4_2_relu[0][0]        \n",
      "__________________________________________________________________________________________________\n",
      "conv3_block4_3_bn (BatchNormali (None, 16, 16, 512)  2048        conv3_block4_3_conv[0][0]        \n",
      "__________________________________________________________________________________________________\n",
      "conv3_block4_add (Add)          (None, 16, 16, 512)  0           conv3_block3_out[0][0]           \n",
      "                                                                 conv3_block4_3_bn[0][0]          \n",
      "__________________________________________________________________________________________________\n",
      "conv3_block4_out (Activation)   (None, 16, 16, 512)  0           conv3_block4_add[0][0]           \n",
      "__________________________________________________________________________________________________\n",
      "conv4_block1_1_conv (Conv2D)    (None, 8, 8, 256)    131328      conv3_block4_out[0][0]           \n",
      "__________________________________________________________________________________________________\n",
      "conv4_block1_1_bn (BatchNormali (None, 8, 8, 256)    1024        conv4_block1_1_conv[0][0]        \n",
      "__________________________________________________________________________________________________\n",
      "conv4_block1_1_relu (Activation (None, 8, 8, 256)    0           conv4_block1_1_bn[0][0]          \n",
      "__________________________________________________________________________________________________\n",
      "conv4_block1_2_conv (Conv2D)    (None, 8, 8, 256)    590080      conv4_block1_1_relu[0][0]        \n",
      "__________________________________________________________________________________________________\n",
      "conv4_block1_2_bn (BatchNormali (None, 8, 8, 256)    1024        conv4_block1_2_conv[0][0]        \n",
      "__________________________________________________________________________________________________\n",
      "conv4_block1_2_relu (Activation (None, 8, 8, 256)    0           conv4_block1_2_bn[0][0]          \n",
      "__________________________________________________________________________________________________\n",
      "conv4_block1_0_conv (Conv2D)    (None, 8, 8, 1024)   525312      conv3_block4_out[0][0]           \n",
      "__________________________________________________________________________________________________\n",
      "conv4_block1_3_conv (Conv2D)    (None, 8, 8, 1024)   263168      conv4_block1_2_relu[0][0]        \n",
      "__________________________________________________________________________________________________\n",
      "conv4_block1_0_bn (BatchNormali (None, 8, 8, 1024)   4096        conv4_block1_0_conv[0][0]        \n",
      "__________________________________________________________________________________________________\n",
      "conv4_block1_3_bn (BatchNormali (None, 8, 8, 1024)   4096        conv4_block1_3_conv[0][0]        \n",
      "__________________________________________________________________________________________________\n",
      "conv4_block1_add (Add)          (None, 8, 8, 1024)   0           conv4_block1_0_bn[0][0]          \n",
      "                                                                 conv4_block1_3_bn[0][0]          \n",
      "__________________________________________________________________________________________________\n",
      "conv4_block1_out (Activation)   (None, 8, 8, 1024)   0           conv4_block1_add[0][0]           \n",
      "__________________________________________________________________________________________________\n",
      "conv4_block2_1_conv (Conv2D)    (None, 8, 8, 256)    262400      conv4_block1_out[0][0]           \n",
      "__________________________________________________________________________________________________\n",
      "conv4_block2_1_bn (BatchNormali (None, 8, 8, 256)    1024        conv4_block2_1_conv[0][0]        \n",
      "__________________________________________________________________________________________________\n",
      "conv4_block2_1_relu (Activation (None, 8, 8, 256)    0           conv4_block2_1_bn[0][0]          \n",
      "__________________________________________________________________________________________________\n",
      "conv4_block2_2_conv (Conv2D)    (None, 8, 8, 256)    590080      conv4_block2_1_relu[0][0]        \n",
      "__________________________________________________________________________________________________\n",
      "conv4_block2_2_bn (BatchNormali (None, 8, 8, 256)    1024        conv4_block2_2_conv[0][0]        \n",
      "__________________________________________________________________________________________________\n",
      "conv4_block2_2_relu (Activation (None, 8, 8, 256)    0           conv4_block2_2_bn[0][0]          \n",
      "__________________________________________________________________________________________________\n",
      "conv4_block2_3_conv (Conv2D)    (None, 8, 8, 1024)   263168      conv4_block2_2_relu[0][0]        \n",
      "__________________________________________________________________________________________________\n",
      "conv4_block2_3_bn (BatchNormali (None, 8, 8, 1024)   4096        conv4_block2_3_conv[0][0]        \n",
      "__________________________________________________________________________________________________\n",
      "conv4_block2_add (Add)          (None, 8, 8, 1024)   0           conv4_block1_out[0][0]           \n",
      "                                                                 conv4_block2_3_bn[0][0]          \n",
      "__________________________________________________________________________________________________\n",
      "conv4_block2_out (Activation)   (None, 8, 8, 1024)   0           conv4_block2_add[0][0]           \n",
      "__________________________________________________________________________________________________\n",
      "conv4_block3_1_conv (Conv2D)    (None, 8, 8, 256)    262400      conv4_block2_out[0][0]           \n",
      "__________________________________________________________________________________________________\n",
      "conv4_block3_1_bn (BatchNormali (None, 8, 8, 256)    1024        conv4_block3_1_conv[0][0]        \n",
      "__________________________________________________________________________________________________\n",
      "conv4_block3_1_relu (Activation (None, 8, 8, 256)    0           conv4_block3_1_bn[0][0]          \n",
      "__________________________________________________________________________________________________\n",
      "conv4_block3_2_conv (Conv2D)    (None, 8, 8, 256)    590080      conv4_block3_1_relu[0][0]        \n",
      "__________________________________________________________________________________________________\n",
      "conv4_block3_2_bn (BatchNormali (None, 8, 8, 256)    1024        conv4_block3_2_conv[0][0]        \n",
      "__________________________________________________________________________________________________\n",
      "conv4_block3_2_relu (Activation (None, 8, 8, 256)    0           conv4_block3_2_bn[0][0]          \n",
      "__________________________________________________________________________________________________\n",
      "conv4_block3_3_conv (Conv2D)    (None, 8, 8, 1024)   263168      conv4_block3_2_relu[0][0]        \n",
      "__________________________________________________________________________________________________\n",
      "conv4_block3_3_bn (BatchNormali (None, 8, 8, 1024)   4096        conv4_block3_3_conv[0][0]        \n",
      "__________________________________________________________________________________________________\n",
      "conv4_block3_add (Add)          (None, 8, 8, 1024)   0           conv4_block2_out[0][0]           \n",
      "                                                                 conv4_block3_3_bn[0][0]          \n",
      "__________________________________________________________________________________________________\n",
      "conv4_block3_out (Activation)   (None, 8, 8, 1024)   0           conv4_block3_add[0][0]           \n",
      "__________________________________________________________________________________________________\n",
      "conv4_block4_1_conv (Conv2D)    (None, 8, 8, 256)    262400      conv4_block3_out[0][0]           \n",
      "__________________________________________________________________________________________________\n",
      "conv4_block4_1_bn (BatchNormali (None, 8, 8, 256)    1024        conv4_block4_1_conv[0][0]        \n",
      "__________________________________________________________________________________________________\n",
      "conv4_block4_1_relu (Activation (None, 8, 8, 256)    0           conv4_block4_1_bn[0][0]          \n",
      "__________________________________________________________________________________________________\n",
      "conv4_block4_2_conv (Conv2D)    (None, 8, 8, 256)    590080      conv4_block4_1_relu[0][0]        \n",
      "__________________________________________________________________________________________________\n",
      "conv4_block4_2_bn (BatchNormali (None, 8, 8, 256)    1024        conv4_block4_2_conv[0][0]        \n",
      "__________________________________________________________________________________________________\n",
      "conv4_block4_2_relu (Activation (None, 8, 8, 256)    0           conv4_block4_2_bn[0][0]          \n",
      "__________________________________________________________________________________________________\n",
      "conv4_block4_3_conv (Conv2D)    (None, 8, 8, 1024)   263168      conv4_block4_2_relu[0][0]        \n",
      "__________________________________________________________________________________________________\n",
      "conv4_block4_3_bn (BatchNormali (None, 8, 8, 1024)   4096        conv4_block4_3_conv[0][0]        \n",
      "__________________________________________________________________________________________________\n",
      "conv4_block4_add (Add)          (None, 8, 8, 1024)   0           conv4_block3_out[0][0]           \n",
      "                                                                 conv4_block4_3_bn[0][0]          \n",
      "__________________________________________________________________________________________________\n",
      "conv4_block4_out (Activation)   (None, 8, 8, 1024)   0           conv4_block4_add[0][0]           \n",
      "__________________________________________________________________________________________________\n",
      "conv4_block5_1_conv (Conv2D)    (None, 8, 8, 256)    262400      conv4_block4_out[0][0]           \n",
      "__________________________________________________________________________________________________\n",
      "conv4_block5_1_bn (BatchNormali (None, 8, 8, 256)    1024        conv4_block5_1_conv[0][0]        \n",
      "__________________________________________________________________________________________________\n",
      "conv4_block5_1_relu (Activation (None, 8, 8, 256)    0           conv4_block5_1_bn[0][0]          \n",
      "__________________________________________________________________________________________________\n",
      "conv4_block5_2_conv (Conv2D)    (None, 8, 8, 256)    590080      conv4_block5_1_relu[0][0]        \n",
      "__________________________________________________________________________________________________\n",
      "conv4_block5_2_bn (BatchNormali (None, 8, 8, 256)    1024        conv4_block5_2_conv[0][0]        \n",
      "__________________________________________________________________________________________________\n",
      "conv4_block5_2_relu (Activation (None, 8, 8, 256)    0           conv4_block5_2_bn[0][0]          \n",
      "__________________________________________________________________________________________________\n",
      "conv4_block5_3_conv (Conv2D)    (None, 8, 8, 1024)   263168      conv4_block5_2_relu[0][0]        \n",
      "__________________________________________________________________________________________________\n",
      "conv4_block5_3_bn (BatchNormali (None, 8, 8, 1024)   4096        conv4_block5_3_conv[0][0]        \n",
      "__________________________________________________________________________________________________\n",
      "conv4_block5_add (Add)          (None, 8, 8, 1024)   0           conv4_block4_out[0][0]           \n",
      "                                                                 conv4_block5_3_bn[0][0]          \n",
      "__________________________________________________________________________________________________\n",
      "conv4_block5_out (Activation)   (None, 8, 8, 1024)   0           conv4_block5_add[0][0]           \n",
      "__________________________________________________________________________________________________\n",
      "conv4_block6_1_conv (Conv2D)    (None, 8, 8, 256)    262400      conv4_block5_out[0][0]           \n",
      "__________________________________________________________________________________________________\n",
      "conv4_block6_1_bn (BatchNormali (None, 8, 8, 256)    1024        conv4_block6_1_conv[0][0]        \n",
      "__________________________________________________________________________________________________\n",
      "conv4_block6_1_relu (Activation (None, 8, 8, 256)    0           conv4_block6_1_bn[0][0]          \n",
      "__________________________________________________________________________________________________\n",
      "conv4_block6_2_conv (Conv2D)    (None, 8, 8, 256)    590080      conv4_block6_1_relu[0][0]        \n",
      "__________________________________________________________________________________________________\n",
      "conv4_block6_2_bn (BatchNormali (None, 8, 8, 256)    1024        conv4_block6_2_conv[0][0]        \n",
      "__________________________________________________________________________________________________\n",
      "conv4_block6_2_relu (Activation (None, 8, 8, 256)    0           conv4_block6_2_bn[0][0]          \n",
      "__________________________________________________________________________________________________\n",
      "conv4_block6_3_conv (Conv2D)    (None, 8, 8, 1024)   263168      conv4_block6_2_relu[0][0]        \n",
      "__________________________________________________________________________________________________\n",
      "conv4_block6_3_bn (BatchNormali (None, 8, 8, 1024)   4096        conv4_block6_3_conv[0][0]        \n",
      "__________________________________________________________________________________________________\n",
      "conv4_block6_add (Add)          (None, 8, 8, 1024)   0           conv4_block5_out[0][0]           \n",
      "                                                                 conv4_block6_3_bn[0][0]          \n",
      "__________________________________________________________________________________________________\n",
      "conv4_block6_out (Activation)   (None, 8, 8, 1024)   0           conv4_block6_add[0][0]           \n",
      "__________________________________________________________________________________________________\n",
      "conv5_block1_1_conv (Conv2D)    (None, 4, 4, 512)    524800      conv4_block6_out[0][0]           \n",
      "__________________________________________________________________________________________________\n",
      "conv5_block1_1_bn (BatchNormali (None, 4, 4, 512)    2048        conv5_block1_1_conv[0][0]        \n",
      "__________________________________________________________________________________________________\n",
      "conv5_block1_1_relu (Activation (None, 4, 4, 512)    0           conv5_block1_1_bn[0][0]          \n",
      "__________________________________________________________________________________________________\n",
      "conv5_block1_2_conv (Conv2D)    (None, 4, 4, 512)    2359808     conv5_block1_1_relu[0][0]        \n",
      "__________________________________________________________________________________________________\n",
      "conv5_block1_2_bn (BatchNormali (None, 4, 4, 512)    2048        conv5_block1_2_conv[0][0]        \n",
      "__________________________________________________________________________________________________\n",
      "conv5_block1_2_relu (Activation (None, 4, 4, 512)    0           conv5_block1_2_bn[0][0]          \n",
      "__________________________________________________________________________________________________\n",
      "conv5_block1_0_conv (Conv2D)    (None, 4, 4, 2048)   2099200     conv4_block6_out[0][0]           \n",
      "__________________________________________________________________________________________________\n",
      "conv5_block1_3_conv (Conv2D)    (None, 4, 4, 2048)   1050624     conv5_block1_2_relu[0][0]        \n",
      "__________________________________________________________________________________________________\n",
      "conv5_block1_0_bn (BatchNormali (None, 4, 4, 2048)   8192        conv5_block1_0_conv[0][0]        \n",
      "__________________________________________________________________________________________________\n",
      "conv5_block1_3_bn (BatchNormali (None, 4, 4, 2048)   8192        conv5_block1_3_conv[0][0]        \n",
      "__________________________________________________________________________________________________\n",
      "conv5_block1_add (Add)          (None, 4, 4, 2048)   0           conv5_block1_0_bn[0][0]          \n",
      "                                                                 conv5_block1_3_bn[0][0]          \n",
      "__________________________________________________________________________________________________\n",
      "conv5_block1_out (Activation)   (None, 4, 4, 2048)   0           conv5_block1_add[0][0]           \n",
      "__________________________________________________________________________________________________\n",
      "conv5_block2_1_conv (Conv2D)    (None, 4, 4, 512)    1049088     conv5_block1_out[0][0]           \n",
      "__________________________________________________________________________________________________\n",
      "conv5_block2_1_bn (BatchNormali (None, 4, 4, 512)    2048        conv5_block2_1_conv[0][0]        \n",
      "__________________________________________________________________________________________________\n",
      "conv5_block2_1_relu (Activation (None, 4, 4, 512)    0           conv5_block2_1_bn[0][0]          \n",
      "__________________________________________________________________________________________________\n",
      "conv5_block2_2_conv (Conv2D)    (None, 4, 4, 512)    2359808     conv5_block2_1_relu[0][0]        \n",
      "__________________________________________________________________________________________________\n",
      "conv5_block2_2_bn (BatchNormali (None, 4, 4, 512)    2048        conv5_block2_2_conv[0][0]        \n",
      "__________________________________________________________________________________________________\n",
      "conv5_block2_2_relu (Activation (None, 4, 4, 512)    0           conv5_block2_2_bn[0][0]          \n",
      "__________________________________________________________________________________________________\n",
      "conv5_block2_3_conv (Conv2D)    (None, 4, 4, 2048)   1050624     conv5_block2_2_relu[0][0]        \n",
      "__________________________________________________________________________________________________\n",
      "conv5_block2_3_bn (BatchNormali (None, 4, 4, 2048)   8192        conv5_block2_3_conv[0][0]        \n",
      "__________________________________________________________________________________________________\n",
      "conv5_block2_add (Add)          (None, 4, 4, 2048)   0           conv5_block1_out[0][0]           \n",
      "                                                                 conv5_block2_3_bn[0][0]          \n",
      "__________________________________________________________________________________________________\n",
      "conv5_block2_out (Activation)   (None, 4, 4, 2048)   0           conv5_block2_add[0][0]           \n",
      "__________________________________________________________________________________________________\n",
      "conv5_block3_1_conv (Conv2D)    (None, 4, 4, 512)    1049088     conv5_block2_out[0][0]           \n",
      "__________________________________________________________________________________________________\n",
      "conv5_block3_1_bn (BatchNormali (None, 4, 4, 512)    2048        conv5_block3_1_conv[0][0]        \n",
      "__________________________________________________________________________________________________\n",
      "conv5_block3_1_relu (Activation (None, 4, 4, 512)    0           conv5_block3_1_bn[0][0]          \n",
      "__________________________________________________________________________________________________\n",
      "conv5_block3_2_conv (Conv2D)    (None, 4, 4, 512)    2359808     conv5_block3_1_relu[0][0]        \n",
      "__________________________________________________________________________________________________\n",
      "conv5_block3_2_bn (BatchNormali (None, 4, 4, 512)    2048        conv5_block3_2_conv[0][0]        \n",
      "__________________________________________________________________________________________________\n",
      "conv5_block3_2_relu (Activation (None, 4, 4, 512)    0           conv5_block3_2_bn[0][0]          \n",
      "__________________________________________________________________________________________________\n",
      "conv5_block3_3_conv (Conv2D)    (None, 4, 4, 2048)   1050624     conv5_block3_2_relu[0][0]        \n",
      "__________________________________________________________________________________________________\n",
      "conv5_block3_3_bn (BatchNormali (None, 4, 4, 2048)   8192        conv5_block3_3_conv[0][0]        \n",
      "__________________________________________________________________________________________________\n",
      "conv5_block3_add (Add)          (None, 4, 4, 2048)   0           conv5_block2_out[0][0]           \n",
      "                                                                 conv5_block3_3_bn[0][0]          \n",
      "__________________________________________________________________________________________________\n",
      "conv5_block3_out (Activation)   (None, 4, 4, 2048)   0           conv5_block3_add[0][0]           \n",
      "__________________________________________________________________________________________________\n",
      "flatten (Flatten)               (None, 32768)        0           conv5_block3_out[0][0]           \n",
      "__________________________________________________________________________________________________\n",
      "dense (Dense)                   (None, 5)            163845      flatten[0][0]                    \n",
      "==================================================================================================\n",
      "Total params: 23,751,557\n",
      "Trainable params: 163,845\n",
      "Non-trainable params: 23,587,712\n",
      "__________________________________________________________________________________________________\n"
     ]
    }
   ],
   "source": [
    "from keras.models import Sequential\n",
    "from keras.layers import Conv2D, MaxPooling2D, Flatten, Dense, Dropout, BatchNormalization,  Convolution2D, Input, Lambda\n",
    "import tensorflow as tf\n",
    "import time\n",
    "from tensorflow.keras import optimizers\n",
    "from keras.models import Model\n",
    "from keras.applications.resnet import ResNet50\n",
    "from keras.applications.resnet import preprocess_input\n",
    "from glob import glob\n",
    "\n",
    "X_train = preprocess_input(X_train)\n",
    "X_val = preprocess_input(X_val)\n",
    "X_test = preprocess_input(X_test)\n",
    "\n",
    "ResNet50 = ResNet50(include_top=False, weights=None, input_shape = (SIZE_X, SIZE_Y, 3))\n",
    "\n",
    "for layer in ResNet50.layers:\n",
    "    layer.trainable = False\n",
    "\n",
    "# Dense Lyers\n",
    "x = Flatten()(ResNet50.output)\n",
    "outLayers = Dense(5, activation='softmax')(x)\n",
    "\n",
    "m1 = Model(inputs = ResNet50.input, outputs = outLayers)\n",
    "\n",
    "m1.summary()\n",
    "m1.compile(loss='categorical_crossentropy', optimizer='adam', metrics=['accuracy'])"
   ]
  },
  {
   "cell_type": "markdown",
   "metadata": {
    "id": "6aAVYS26t6c3"
   },
   "source": [
    "### 4. Model Training\n"
   ]
  },
  {
   "cell_type": "code",
   "execution_count": 16,
   "metadata": {
    "id": "LGT4MVY3tkyz"
   },
   "outputs": [
    {
     "name": "stdout",
     "output_type": "stream",
     "text": [
      "Epoch 1/150\n",
      "334/334 [==============================] - 14s 29ms/step - loss: 17.5356 - accuracy: 0.4608 - val_loss: 4.7443 - val_accuracy: 0.5976\n",
      "Epoch 2/150\n",
      "334/334 [==============================] - 8s 24ms/step - loss: 6.9982 - accuracy: 0.5836 - val_loss: 4.4877 - val_accuracy: 0.6096\n",
      "Epoch 3/150\n",
      "334/334 [==============================] - 8s 24ms/step - loss: 5.2373 - accuracy: 0.6444 - val_loss: 19.1423 - val_accuracy: 0.5169\n",
      "Epoch 4/150\n",
      "334/334 [==============================] - 8s 24ms/step - loss: 5.5495 - accuracy: 0.6701 - val_loss: 3.4796 - val_accuracy: 0.7008\n",
      "Epoch 5/150\n",
      "334/334 [==============================] - 8s 24ms/step - loss: 4.8848 - accuracy: 0.6904 - val_loss: 3.6760 - val_accuracy: 0.6924\n",
      "Epoch 6/150\n",
      "334/334 [==============================] - 8s 24ms/step - loss: 4.6612 - accuracy: 0.7081 - val_loss: 10.8892 - val_accuracy: 0.4199\n",
      "Epoch 7/150\n",
      "334/334 [==============================] - 8s 24ms/step - loss: 4.6117 - accuracy: 0.7212 - val_loss: 3.8146 - val_accuracy: 0.7324\n",
      "Epoch 8/150\n",
      "334/334 [==============================] - 8s 24ms/step - loss: 4.5594 - accuracy: 0.7403 - val_loss: 4.5890 - val_accuracy: 0.6973\n",
      "Epoch 9/150\n",
      "334/334 [==============================] - 8s 24ms/step - loss: 3.4509 - accuracy: 0.7632 - val_loss: 4.3141 - val_accuracy: 0.7128\n",
      "Epoch 10/150\n",
      "334/334 [==============================] - 8s 24ms/step - loss: 3.1219 - accuracy: 0.7771 - val_loss: 10.2359 - val_accuracy: 0.6412\n",
      "Epoch 11/150\n",
      "334/334 [==============================] - 8s 24ms/step - loss: 3.6505 - accuracy: 0.7850 - val_loss: 5.9213 - val_accuracy: 0.6910\n",
      "Epoch 12/150\n",
      "334/334 [==============================] - 8s 24ms/step - loss: 3.9254 - accuracy: 0.7684 - val_loss: 2.5326 - val_accuracy: 0.8111\n",
      "Epoch 13/150\n",
      "334/334 [==============================] - 8s 24ms/step - loss: 3.9807 - accuracy: 0.7726 - val_loss: 11.1355 - val_accuracy: 0.5744\n",
      "Epoch 14/150\n",
      "334/334 [==============================] - 8s 24ms/step - loss: 4.0025 - accuracy: 0.7806 - val_loss: 4.4492 - val_accuracy: 0.7331\n",
      "Epoch 15/150\n",
      "334/334 [==============================] - 8s 24ms/step - loss: 3.0514 - accuracy: 0.8076 - val_loss: 7.8700 - val_accuracy: 0.6278\n",
      "Epoch 16/150\n",
      "334/334 [==============================] - 8s 24ms/step - loss: 2.7891 - accuracy: 0.8209 - val_loss: 4.9868 - val_accuracy: 0.7240\n",
      "Epoch 17/150\n",
      "334/334 [==============================] - 8s 24ms/step - loss: 3.4089 - accuracy: 0.8072 - val_loss: 8.0374 - val_accuracy: 0.7114\n",
      "Epoch 18/150\n",
      "334/334 [==============================] - 8s 24ms/step - loss: 3.1358 - accuracy: 0.8169 - val_loss: 4.4168 - val_accuracy: 0.7282\n",
      "Epoch 19/150\n",
      "334/334 [==============================] - 8s 24ms/step - loss: 3.7033 - accuracy: 0.8046 - val_loss: 5.6669 - val_accuracy: 0.7388\n",
      "Epoch 20/150\n",
      "334/334 [==============================] - 8s 24ms/step - loss: 3.5066 - accuracy: 0.8205 - val_loss: 12.6969 - val_accuracy: 0.6074\n",
      "Epoch 21/150\n",
      "334/334 [==============================] - 8s 24ms/step - loss: 3.7393 - accuracy: 0.8133 - val_loss: 12.6417 - val_accuracy: 0.6503\n",
      "Epoch 22/150\n",
      "334/334 [==============================] - 8s 24ms/step - loss: 3.9753 - accuracy: 0.8289 - val_loss: 4.0690 - val_accuracy: 0.7781\n",
      "Epoch 23/150\n",
      "334/334 [==============================] - 8s 24ms/step - loss: 1.9949 - accuracy: 0.8685 - val_loss: 5.0406 - val_accuracy: 0.7556\n",
      "Epoch 24/150\n",
      "334/334 [==============================] - 8s 24ms/step - loss: 3.0114 - accuracy: 0.8416 - val_loss: 5.7105 - val_accuracy: 0.7226\n",
      "Epoch 25/150\n",
      "334/334 [==============================] - 8s 24ms/step - loss: 2.9620 - accuracy: 0.8351 - val_loss: 4.2804 - val_accuracy: 0.7900\n",
      "Epoch 26/150\n",
      "334/334 [==============================] - 8s 24ms/step - loss: 3.8403 - accuracy: 0.8236 - val_loss: 5.6134 - val_accuracy: 0.7753\n",
      "Epoch 27/150\n",
      "334/334 [==============================] - 8s 24ms/step - loss: 1.8768 - accuracy: 0.8720 - val_loss: 5.2933 - val_accuracy: 0.7416\n",
      "Epoch 28/150\n",
      "334/334 [==============================] - 8s 24ms/step - loss: 4.5014 - accuracy: 0.8234 - val_loss: 11.1183 - val_accuracy: 0.6475\n",
      "Epoch 29/150\n",
      "334/334 [==============================] - 8s 24ms/step - loss: 2.0480 - accuracy: 0.8753 - val_loss: 2.9549 - val_accuracy: 0.8279\n",
      "Epoch 30/150\n",
      "334/334 [==============================] - 8s 24ms/step - loss: 3.5743 - accuracy: 0.8473 - val_loss: 12.5232 - val_accuracy: 0.6770\n",
      "Epoch 31/150\n",
      "334/334 [==============================] - 8s 25ms/step - loss: 2.9155 - accuracy: 0.8571 - val_loss: 8.1851 - val_accuracy: 0.7338\n",
      "Epoch 32/150\n",
      "334/334 [==============================] - 8s 24ms/step - loss: 2.6830 - accuracy: 0.8611 - val_loss: 11.1332 - val_accuracy: 0.6692\n",
      "Epoch 33/150\n",
      "334/334 [==============================] - 8s 24ms/step - loss: 2.9924 - accuracy: 0.8572 - val_loss: 3.7357 - val_accuracy: 0.8216\n",
      "Epoch 34/150\n",
      "334/334 [==============================] - 8s 24ms/step - loss: 3.1277 - accuracy: 0.8630 - val_loss: 6.1995 - val_accuracy: 0.7605\n",
      "Epoch 35/150\n",
      "334/334 [==============================] - 8s 25ms/step - loss: 2.2420 - accuracy: 0.8807 - val_loss: 3.9714 - val_accuracy: 0.8181\n",
      "Epoch 36/150\n",
      "334/334 [==============================] - 8s 25ms/step - loss: 2.7485 - accuracy: 0.8660 - val_loss: 7.2470 - val_accuracy: 0.7374\n",
      "Epoch 37/150\n",
      "334/334 [==============================] - 8s 24ms/step - loss: 2.0548 - accuracy: 0.8895 - val_loss: 5.9547 - val_accuracy: 0.7647\n",
      "Epoch 38/150\n",
      "334/334 [==============================] - 8s 23ms/step - loss: 2.7322 - accuracy: 0.8735 - val_loss: 16.4446 - val_accuracy: 0.5920\n",
      "Epoch 39/150\n",
      "334/334 [==============================] - 8s 23ms/step - loss: 1.8661 - accuracy: 0.8930 - val_loss: 5.9678 - val_accuracy: 0.7732\n",
      "Epoch 40/150\n",
      "334/334 [==============================] - 8s 23ms/step - loss: 1.9319 - accuracy: 0.8976 - val_loss: 9.0260 - val_accuracy: 0.7205\n",
      "Epoch 41/150\n",
      "334/334 [==============================] - 8s 24ms/step - loss: 2.0798 - accuracy: 0.8872 - val_loss: 3.8861 - val_accuracy: 0.8258\n",
      "Epoch 42/150\n",
      "334/334 [==============================] - 8s 24ms/step - loss: 1.7282 - accuracy: 0.8992 - val_loss: 13.4922 - val_accuracy: 0.6433\n",
      "Epoch 43/150\n",
      "334/334 [==============================] - 8s 24ms/step - loss: 1.8811 - accuracy: 0.8936 - val_loss: 4.5453 - val_accuracy: 0.8272\n",
      "Epoch 44/150\n",
      "334/334 [==============================] - 8s 24ms/step - loss: 1.8681 - accuracy: 0.9004 - val_loss: 7.7751 - val_accuracy: 0.7528\n",
      "Epoch 45/150\n",
      "334/334 [==============================] - 8s 24ms/step - loss: 1.7572 - accuracy: 0.8972 - val_loss: 4.4966 - val_accuracy: 0.8118\n",
      "Epoch 46/150\n",
      "334/334 [==============================] - 8s 24ms/step - loss: 2.0087 - accuracy: 0.8941 - val_loss: 6.4934 - val_accuracy: 0.7409\n",
      "Epoch 47/150\n",
      "334/334 [==============================] - 8s 24ms/step - loss: 2.2413 - accuracy: 0.8899 - val_loss: 19.2599 - val_accuracy: 0.6039\n",
      "Epoch 48/150\n",
      "334/334 [==============================] - 8s 24ms/step - loss: 1.5409 - accuracy: 0.9119 - val_loss: 10.4454 - val_accuracy: 0.7191\n",
      "Epoch 49/150\n",
      "334/334 [==============================] - 8s 24ms/step - loss: 1.2849 - accuracy: 0.9178 - val_loss: 9.8967 - val_accuracy: 0.7205\n",
      "Epoch 50/150\n",
      "334/334 [==============================] - 8s 23ms/step - loss: 1.9956 - accuracy: 0.9016 - val_loss: 4.4470 - val_accuracy: 0.8287\n",
      "Epoch 51/150\n",
      "334/334 [==============================] - 8s 23ms/step - loss: 1.8153 - accuracy: 0.9075 - val_loss: 8.9375 - val_accuracy: 0.7353\n",
      "Epoch 52/150\n",
      "334/334 [==============================] - 8s 23ms/step - loss: 4.5857 - accuracy: 0.8509 - val_loss: 5.4804 - val_accuracy: 0.8294\n",
      "Epoch 53/150\n",
      "334/334 [==============================] - 8s 23ms/step - loss: 1.5826 - accuracy: 0.9196 - val_loss: 5.4477 - val_accuracy: 0.8006\n",
      "Epoch 54/150\n",
      "334/334 [==============================] - 8s 23ms/step - loss: 1.8899 - accuracy: 0.9048 - val_loss: 6.1266 - val_accuracy: 0.7935\n",
      "Epoch 55/150\n",
      "334/334 [==============================] - 8s 23ms/step - loss: 1.2567 - accuracy: 0.9281 - val_loss: 7.2186 - val_accuracy: 0.7823\n",
      "Epoch 56/150\n",
      "334/334 [==============================] - 8s 23ms/step - loss: 2.6866 - accuracy: 0.8936 - val_loss: 4.1487 - val_accuracy: 0.8364\n",
      "Epoch 57/150\n"
     ]
    },
    {
     "name": "stdout",
     "output_type": "stream",
     "text": [
      "334/334 [==============================] - 8s 23ms/step - loss: 1.2735 - accuracy: 0.9230 - val_loss: 6.5762 - val_accuracy: 0.7858\n",
      "Epoch 58/150\n",
      "334/334 [==============================] - 8s 23ms/step - loss: 1.4614 - accuracy: 0.9265 - val_loss: 7.9844 - val_accuracy: 0.7240\n",
      "Epoch 59/150\n",
      "334/334 [==============================] - 8s 23ms/step - loss: 2.3789 - accuracy: 0.9044 - val_loss: 5.2037 - val_accuracy: 0.8083\n",
      "Epoch 60/150\n",
      "334/334 [==============================] - 8s 23ms/step - loss: 3.0933 - accuracy: 0.8881 - val_loss: 4.0631 - val_accuracy: 0.8539\n",
      "Epoch 61/150\n",
      "334/334 [==============================] - 8s 23ms/step - loss: 1.3208 - accuracy: 0.9258 - val_loss: 6.3596 - val_accuracy: 0.8055\n",
      "Epoch 62/150\n",
      "334/334 [==============================] - 8s 23ms/step - loss: 1.7936 - accuracy: 0.9092 - val_loss: 4.0973 - val_accuracy: 0.8315\n",
      "Epoch 63/150\n",
      "334/334 [==============================] - 8s 23ms/step - loss: 1.0965 - accuracy: 0.9349 - val_loss: 5.1765 - val_accuracy: 0.8181\n",
      "Epoch 64/150\n",
      "334/334 [==============================] - 8s 23ms/step - loss: 1.6730 - accuracy: 0.9220 - val_loss: 4.6698 - val_accuracy: 0.8322\n",
      "Epoch 65/150\n",
      "334/334 [==============================] - 8s 23ms/step - loss: 1.1027 - accuracy: 0.9380 - val_loss: 6.2039 - val_accuracy: 0.7942\n",
      "Epoch 66/150\n",
      "334/334 [==============================] - 8s 23ms/step - loss: 2.2310 - accuracy: 0.9141 - val_loss: 5.2104 - val_accuracy: 0.8406\n",
      "Epoch 67/150\n",
      "334/334 [==============================] - 8s 24ms/step - loss: 1.2139 - accuracy: 0.9345 - val_loss: 14.2139 - val_accuracy: 0.7044\n",
      "Epoch 68/150\n",
      "334/334 [==============================] - 8s 24ms/step - loss: 1.9563 - accuracy: 0.9131 - val_loss: 5.6756 - val_accuracy: 0.8055\n",
      "Epoch 69/150\n",
      "334/334 [==============================] - 8s 24ms/step - loss: 0.7286 - accuracy: 0.9568 - val_loss: 5.4194 - val_accuracy: 0.8111\n",
      "Epoch 70/150\n",
      "334/334 [==============================] - 8s 24ms/step - loss: 1.6340 - accuracy: 0.9238 - val_loss: 16.9129 - val_accuracy: 0.6875\n",
      "Epoch 71/150\n",
      "334/334 [==============================] - 8s 24ms/step - loss: 1.4520 - accuracy: 0.9319 - val_loss: 4.9690 - val_accuracy: 0.8322\n",
      "Epoch 72/150\n",
      "334/334 [==============================] - 8s 23ms/step - loss: 2.1528 - accuracy: 0.9131 - val_loss: 5.4310 - val_accuracy: 0.8209\n",
      "Epoch 73/150\n",
      "334/334 [==============================] - 8s 23ms/step - loss: 2.0591 - accuracy: 0.9063 - val_loss: 8.1426 - val_accuracy: 0.7654\n",
      "Epoch 74/150\n",
      "334/334 [==============================] - 8s 24ms/step - loss: 1.1185 - accuracy: 0.9424 - val_loss: 4.4664 - val_accuracy: 0.8567\n",
      "Epoch 75/150\n",
      "334/334 [==============================] - 8s 23ms/step - loss: 2.2780 - accuracy: 0.9027 - val_loss: 5.7420 - val_accuracy: 0.8251\n",
      "Epoch 76/150\n",
      "334/334 [==============================] - 8s 23ms/step - loss: 0.9285 - accuracy: 0.9496 - val_loss: 4.9642 - val_accuracy: 0.8448\n",
      "Epoch 77/150\n",
      "334/334 [==============================] - 8s 23ms/step - loss: 0.8670 - accuracy: 0.9487 - val_loss: 6.1192 - val_accuracy: 0.8132\n",
      "Epoch 78/150\n",
      "334/334 [==============================] - 8s 23ms/step - loss: 2.3436 - accuracy: 0.9085 - val_loss: 13.0613 - val_accuracy: 0.6973\n",
      "Epoch 79/150\n",
      "334/334 [==============================] - 8s 23ms/step - loss: 0.8136 - accuracy: 0.9539 - val_loss: 5.9918 - val_accuracy: 0.8083\n",
      "Epoch 80/150\n",
      "334/334 [==============================] - 8s 24ms/step - loss: 1.4151 - accuracy: 0.9325 - val_loss: 4.5793 - val_accuracy: 0.8525\n",
      "Epoch 81/150\n",
      "334/334 [==============================] - 8s 23ms/step - loss: 1.5352 - accuracy: 0.9283 - val_loss: 6.1970 - val_accuracy: 0.8055\n",
      "Epoch 82/150\n",
      "334/334 [==============================] - 8s 23ms/step - loss: 0.9273 - accuracy: 0.9503 - val_loss: 5.0159 - val_accuracy: 0.8603\n",
      "Epoch 83/150\n",
      "334/334 [==============================] - 8s 23ms/step - loss: 0.9926 - accuracy: 0.9436 - val_loss: 7.8086 - val_accuracy: 0.8146\n",
      "Epoch 84/150\n",
      "334/334 [==============================] - 8s 24ms/step - loss: 1.2681 - accuracy: 0.9399 - val_loss: 7.0286 - val_accuracy: 0.8202\n",
      "Epoch 85/150\n",
      "334/334 [==============================] - 8s 23ms/step - loss: 1.2077 - accuracy: 0.9407 - val_loss: 7.7311 - val_accuracy: 0.7907\n",
      "Epoch 86/150\n",
      "334/334 [==============================] - 8s 23ms/step - loss: 1.0512 - accuracy: 0.9431 - val_loss: 4.7039 - val_accuracy: 0.8483\n",
      "Epoch 87/150\n",
      "334/334 [==============================] - 8s 23ms/step - loss: 1.3158 - accuracy: 0.9354 - val_loss: 5.2497 - val_accuracy: 0.8251\n",
      "Epoch 88/150\n",
      "334/334 [==============================] - 8s 23ms/step - loss: 3.5149 - accuracy: 0.8978 - val_loss: 6.8953 - val_accuracy: 0.8279\n",
      "Epoch 89/150\n",
      "334/334 [==============================] - 8s 23ms/step - loss: 0.7038 - accuracy: 0.9572 - val_loss: 7.3357 - val_accuracy: 0.8083\n",
      "Epoch 90/150\n",
      "334/334 [==============================] - 8s 23ms/step - loss: 0.9792 - accuracy: 0.9470 - val_loss: 4.6286 - val_accuracy: 0.8413\n",
      "Epoch 91/150\n",
      "334/334 [==============================] - 8s 23ms/step - loss: 0.9574 - accuracy: 0.9554 - val_loss: 12.0239 - val_accuracy: 0.7058\n",
      "Epoch 92/150\n",
      "334/334 [==============================] - 8s 23ms/step - loss: 0.8288 - accuracy: 0.9538 - val_loss: 20.0747 - val_accuracy: 0.7100\n",
      "Epoch 93/150\n",
      "334/334 [==============================] - 8s 23ms/step - loss: 2.6861 - accuracy: 0.9219 - val_loss: 14.7777 - val_accuracy: 0.7100\n",
      "Epoch 94/150\n",
      "334/334 [==============================] - 8s 23ms/step - loss: 1.0856 - accuracy: 0.9502 - val_loss: 4.9428 - val_accuracy: 0.8581\n",
      "Epoch 95/150\n",
      "334/334 [==============================] - 8s 23ms/step - loss: 1.4292 - accuracy: 0.9429 - val_loss: 14.6742 - val_accuracy: 0.7247\n",
      "Epoch 96/150\n",
      "334/334 [==============================] - 8s 23ms/step - loss: 1.0840 - accuracy: 0.9484 - val_loss: 6.3028 - val_accuracy: 0.8181\n",
      "Epoch 97/150\n",
      "334/334 [==============================] - 8s 23ms/step - loss: 3.0434 - accuracy: 0.9170 - val_loss: 5.2405 - val_accuracy: 0.8392\n",
      "Epoch 98/150\n",
      "334/334 [==============================] - 8s 23ms/step - loss: 0.8864 - accuracy: 0.9540 - val_loss: 6.6869 - val_accuracy: 0.8434\n",
      "Epoch 99/150\n",
      "334/334 [==============================] - 8s 23ms/step - loss: 1.7168 - accuracy: 0.9328 - val_loss: 7.8497 - val_accuracy: 0.8111\n",
      "Epoch 100/150\n",
      "334/334 [==============================] - 9s 26ms/step - loss: 0.5194 - accuracy: 0.9663 - val_loss: 6.2226 - val_accuracy: 0.8223\n",
      "Epoch 101/150\n",
      "334/334 [==============================] - 9s 25ms/step - loss: 1.4425 - accuracy: 0.9489 - val_loss: 7.2631 - val_accuracy: 0.8153\n",
      "Epoch 102/150\n",
      "334/334 [==============================] - 8s 24ms/step - loss: 1.7070 - accuracy: 0.9273 - val_loss: 4.8385 - val_accuracy: 0.8581\n",
      "Epoch 103/150\n",
      "334/334 [==============================] - 8s 24ms/step - loss: 0.5622 - accuracy: 0.9673 - val_loss: 5.0960 - val_accuracy: 0.8525\n",
      "Epoch 104/150\n",
      "334/334 [==============================] - 8s 24ms/step - loss: 0.6069 - accuracy: 0.9655 - val_loss: 6.1268 - val_accuracy: 0.8385\n",
      "Epoch 105/150\n",
      "334/334 [==============================] - 8s 24ms/step - loss: 0.5575 - accuracy: 0.9651 - val_loss: 28.1330 - val_accuracy: 0.6039\n",
      "Epoch 106/150\n",
      "334/334 [==============================] - 8s 23ms/step - loss: 1.3118 - accuracy: 0.9414 - val_loss: 9.9007 - val_accuracy: 0.7514\n",
      "Epoch 107/150\n",
      "334/334 [==============================] - 8s 24ms/step - loss: 2.3438 - accuracy: 0.9235 - val_loss: 6.9169 - val_accuracy: 0.8195\n",
      "Epoch 108/150\n",
      "334/334 [==============================] - 8s 24ms/step - loss: 0.2344 - accuracy: 0.9792 - val_loss: 6.0397 - val_accuracy: 0.8546\n",
      "Epoch 109/150\n",
      "334/334 [==============================] - 8s 24ms/step - loss: 2.1954 - accuracy: 0.9242 - val_loss: 6.6693 - val_accuracy: 0.8216\n",
      "Epoch 110/150\n",
      "334/334 [==============================] - 8s 24ms/step - loss: 1.9199 - accuracy: 0.9297 - val_loss: 10.7163 - val_accuracy: 0.7690\n",
      "Epoch 111/150\n",
      "334/334 [==============================] - 8s 24ms/step - loss: 0.8679 - accuracy: 0.9600 - val_loss: 6.6539 - val_accuracy: 0.8244\n",
      "Epoch 112/150\n",
      "334/334 [==============================] - 8s 24ms/step - loss: 1.2649 - accuracy: 0.9534 - val_loss: 5.2067 - val_accuracy: 0.8420\n",
      "Epoch 113/150\n"
     ]
    },
    {
     "name": "stdout",
     "output_type": "stream",
     "text": [
      "334/334 [==============================] - 8s 24ms/step - loss: 1.5380 - accuracy: 0.9380 - val_loss: 7.1598 - val_accuracy: 0.8202\n",
      "Epoch 114/150\n",
      "334/334 [==============================] - 8s 24ms/step - loss: 0.8929 - accuracy: 0.9591 - val_loss: 5.4651 - val_accuracy: 0.8567\n",
      "Epoch 115/150\n",
      "334/334 [==============================] - 8s 24ms/step - loss: 1.4649 - accuracy: 0.9479 - val_loss: 20.9248 - val_accuracy: 0.6622\n",
      "Epoch 116/150\n",
      "334/334 [==============================] - 8s 25ms/step - loss: 1.4635 - accuracy: 0.9470 - val_loss: 6.6557 - val_accuracy: 0.8350\n",
      "Epoch 117/150\n",
      "334/334 [==============================] - 8s 24ms/step - loss: 0.4646 - accuracy: 0.9720 - val_loss: 6.1668 - val_accuracy: 0.8560\n",
      "Epoch 118/150\n",
      "334/334 [==============================] - 8s 24ms/step - loss: 0.5866 - accuracy: 0.9661 - val_loss: 6.6678 - val_accuracy: 0.8125\n",
      "Epoch 119/150\n",
      "334/334 [==============================] - 8s 24ms/step - loss: 1.8891 - accuracy: 0.9283 - val_loss: 5.7371 - val_accuracy: 0.8420\n",
      "Epoch 120/150\n",
      "334/334 [==============================] - 8s 24ms/step - loss: 0.5147 - accuracy: 0.9705 - val_loss: 9.3021 - val_accuracy: 0.8041\n",
      "Epoch 121/150\n",
      "334/334 [==============================] - 8s 25ms/step - loss: 1.4187 - accuracy: 0.9365 - val_loss: 11.9791 - val_accuracy: 0.7739\n",
      "Epoch 122/150\n",
      "334/334 [==============================] - 8s 24ms/step - loss: 1.6394 - accuracy: 0.9348 - val_loss: 11.1209 - val_accuracy: 0.7704\n",
      "Epoch 123/150\n",
      "334/334 [==============================] - 8s 24ms/step - loss: 2.0015 - accuracy: 0.9282 - val_loss: 6.4589 - val_accuracy: 0.8462\n",
      "Epoch 124/150\n",
      "334/334 [==============================] - 8s 24ms/step - loss: 0.5220 - accuracy: 0.9727 - val_loss: 5.9423 - val_accuracy: 0.8406\n",
      "Epoch 125/150\n",
      "334/334 [==============================] - 8s 25ms/step - loss: 0.5660 - accuracy: 0.9711 - val_loss: 9.9167 - val_accuracy: 0.7858\n",
      "Epoch 126/150\n",
      "334/334 [==============================] - 8s 23ms/step - loss: 2.1789 - accuracy: 0.9329 - val_loss: 6.1746 - val_accuracy: 0.8497\n",
      "Epoch 127/150\n",
      "334/334 [==============================] - 8s 25ms/step - loss: 0.8551 - accuracy: 0.9584 - val_loss: 7.6608 - val_accuracy: 0.8097\n",
      "Epoch 128/150\n",
      "334/334 [==============================] - 8s 24ms/step - loss: 0.5463 - accuracy: 0.9717 - val_loss: 10.2077 - val_accuracy: 0.7992\n",
      "Epoch 129/150\n",
      "334/334 [==============================] - 8s 25ms/step - loss: 2.7871 - accuracy: 0.9279 - val_loss: 7.5138 - val_accuracy: 0.8308\n",
      "Epoch 130/150\n",
      "334/334 [==============================] - 9s 26ms/step - loss: 0.4506 - accuracy: 0.9735 - val_loss: 11.0545 - val_accuracy: 0.7654\n",
      "Epoch 131/150\n",
      "334/334 [==============================] - 9s 27ms/step - loss: 1.4330 - accuracy: 0.9481 - val_loss: 9.4135 - val_accuracy: 0.8055\n",
      "Epoch 132/150\n",
      "334/334 [==============================] - 8s 25ms/step - loss: 1.0184 - accuracy: 0.9613 - val_loss: 8.0873 - val_accuracy: 0.8062\n",
      "Epoch 133/150\n",
      "334/334 [==============================] - 8s 25ms/step - loss: 1.2705 - accuracy: 0.9524 - val_loss: 7.3559 - val_accuracy: 0.8462\n",
      "Epoch 134/150\n",
      "334/334 [==============================] - 8s 25ms/step - loss: 0.4543 - accuracy: 0.9718 - val_loss: 5.9676 - val_accuracy: 0.8617\n",
      "Epoch 135/150\n",
      "334/334 [==============================] - 9s 26ms/step - loss: 0.9721 - accuracy: 0.9576 - val_loss: 9.8591 - val_accuracy: 0.7697\n",
      "Epoch 136/150\n",
      "334/334 [==============================] - 8s 25ms/step - loss: 1.6919 - accuracy: 0.9576 - val_loss: 23.1693 - val_accuracy: 0.6987\n",
      "Epoch 137/150\n",
      "334/334 [==============================] - 8s 25ms/step - loss: 0.6364 - accuracy: 0.9673 - val_loss: 6.9588 - val_accuracy: 0.8518\n",
      "Epoch 138/150\n",
      "334/334 [==============================] - 9s 27ms/step - loss: 1.1883 - accuracy: 0.9569 - val_loss: 15.5552 - val_accuracy: 0.7353\n",
      "Epoch 139/150\n",
      "334/334 [==============================] - 8s 25ms/step - loss: 1.0701 - accuracy: 0.9555 - val_loss: 10.8921 - val_accuracy: 0.7795\n",
      "Epoch 140/150\n",
      "334/334 [==============================] - 8s 25ms/step - loss: 2.6551 - accuracy: 0.9337 - val_loss: 7.0240 - val_accuracy: 0.8420\n",
      "Epoch 141/150\n",
      "334/334 [==============================] - 8s 25ms/step - loss: 0.7057 - accuracy: 0.9623 - val_loss: 7.5441 - val_accuracy: 0.8427\n",
      "Epoch 142/150\n",
      "334/334 [==============================] - 9s 27ms/step - loss: 1.1746 - accuracy: 0.9579 - val_loss: 7.0263 - val_accuracy: 0.8216\n",
      "Epoch 143/150\n",
      "334/334 [==============================] - 8s 25ms/step - loss: 0.4978 - accuracy: 0.9741 - val_loss: 10.6993 - val_accuracy: 0.7774\n",
      "Epoch 144/150\n",
      "334/334 [==============================] - 8s 25ms/step - loss: 2.1801 - accuracy: 0.9338 - val_loss: 6.6407 - val_accuracy: 0.8427\n",
      "Epoch 145/150\n",
      "334/334 [==============================] - 9s 27ms/step - loss: 0.2580 - accuracy: 0.9851 - val_loss: 7.3784 - val_accuracy: 0.8448\n",
      "Epoch 146/150\n",
      "334/334 [==============================] - 9s 26ms/step - loss: 0.6688 - accuracy: 0.9649 - val_loss: 6.9491 - val_accuracy: 0.8279\n",
      "Epoch 147/150\n",
      "334/334 [==============================] - 8s 25ms/step - loss: 1.4597 - accuracy: 0.9531 - val_loss: 7.6613 - val_accuracy: 0.8223\n",
      "Epoch 148/150\n",
      "334/334 [==============================] - 9s 27ms/step - loss: 0.9067 - accuracy: 0.9608 - val_loss: 9.0456 - val_accuracy: 0.8111\n",
      "Epoch 149/150\n",
      "334/334 [==============================] - 9s 28ms/step - loss: 0.9530 - accuracy: 0.9621 - val_loss: 8.6061 - val_accuracy: 0.8385\n",
      "Epoch 150/150\n",
      "334/334 [==============================] - 9s 28ms/step - loss: 0.6939 - accuracy: 0.9675 - val_loss: 7.5580 - val_accuracy: 0.8378\n"
     ]
    },
    {
     "data": {
      "text/plain": [
       "<keras.callbacks.History at 0x2a4a001aca0>"
      ]
     },
     "execution_count": 16,
     "metadata": {},
     "output_type": "execute_result"
    }
   ],
   "source": [
    "from tensorflow.keras.callbacks import EarlyStopping\n",
    "early_stop = EarlyStopping(monitor = 'loss', patience = 45 )\n",
    "\n",
    "m1.fit(X_train,y_train,epochs=150, validation_data=(X_val,y_val), verbose=1)"
   ]
  },
  {
   "cell_type": "code",
   "execution_count": 17,
   "metadata": {
    "id": "d6OA7oX-yByT"
   },
   "outputs": [],
   "source": [
    "# Get training history\n",
    "metrics = pd.DataFrame(m1.history.history)"
   ]
  },
  {
   "cell_type": "code",
   "execution_count": 18,
   "metadata": {},
   "outputs": [],
   "source": [
    "import os\n",
    "exp_num = []\n",
    "if not os.path.exists(\"./experiments\"):\n",
    "    os.mkdir(\"./experiments\")\n",
    "folders = os.listdir(\"./experiments\")\n",
    "for folder in folders:\n",
    "    exp_num.append(int(folder.split(\"#\")[1]))\n",
    "\n",
    "\n",
    "if len(exp_num) == 0:\n",
    "    exp_path = r\"./experiments/exp#1\"\n",
    "else:\n",
    "    exp_path = r\"./experiments/exp#\"+str(max(exp_num)+1)\n",
    "\n",
    "\n",
    "\n",
    "\n",
    "os.mkdir(exp_path)\n",
    "os.mkdir(os.path.join(exp_path, \"results\"))\n",
    "os.mkdir(os.path.join(exp_path, \"weights\"))\n",
    "\n",
    "results = os.path.join(exp_path, \"results\")\n",
    "weights = os.path.join(exp_path, \"weights\")"
   ]
  },
  {
   "cell_type": "code",
   "execution_count": 19,
   "metadata": {},
   "outputs": [
    {
     "name": "stdout",
     "output_type": "stream",
     "text": [
      "./experiments/exp#7\\results\n"
     ]
    }
   ],
   "source": [
    "print(results)"
   ]
  },
  {
   "cell_type": "code",
   "execution_count": 20,
   "metadata": {
    "id": "vs5CCwj993FX"
   },
   "outputs": [
    {
     "name": "stdout",
     "output_type": "stream",
     "text": [
      "67/67 [==============================] - 2s 30ms/step - loss: 8.6004 - accuracy: 0.8174\n"
     ]
    },
    {
     "name": "stderr",
     "output_type": "stream",
     "text": [
      "C:\\Users\\Ma7moud\\anaconda3\\envs\\T-UNet\\lib\\site-packages\\keras\\utils\\generic_utils.py:494: CustomMaskWarning: Custom mask layers require a config and must override get_config. When loading, the custom mask layer must be passed to the custom_objects argument.\n",
      "  warnings.warn('Custom mask layers require a config and must override '\n"
     ]
    }
   ],
   "source": [
    "# Save The Trained model along with it training history   \n",
    "Accuracy = m1.evaluate(X_test, y_test)[-1]\n",
    "name = str(round(Accuracy, 4))\n",
    "\n",
    "metrics.to_pickle(os.path.join(results, name+'.pkl'))\n",
    "m1.save(os.path.join(weights, name + '.h5'))"
   ]
  },
  {
   "cell_type": "code",
   "execution_count": 21,
   "metadata": {
    "id": "5F7i-oCwytup",
    "scrolled": true
   },
   "outputs": [
    {
     "data": {
      "image/png": "[encoded data removed]",
      "text/plain": [
       "<Figure size 720x504 with 1 Axes>"
      ]
     },
     "metadata": {
      "needs_background": "light"
     },
     "output_type": "display_data"
    },
    {
     "data": {
      "image/png": "[encoded data removed]",
      "text/plain": [
       "<Figure size 720x504 with 1 Axes>"
      ]
     },
     "metadata": {
      "needs_background": "light"
     },
     "output_type": "display_data"
    }
   ],
   "source": [
    "## Dispaly the plot of \n",
    "rows = 2\n",
    "columns = 1\n",
    "  \n",
    "# Display Train loss vs Validation loss at each Epoch\n",
    "fig = plt.figure(figsize=(10, 7))\n",
    "fig.add_subplot(rows, columns, 1)\n",
    "plt.plot(metrics['loss'])\n",
    "plt.plot(metrics['val_loss'])\n",
    "plt.title('Model Loss')\n",
    "plt.ylabel('loss')\n",
    "plt.xlabel('epoch')\n",
    "plt.legend(['train', 'val'], loc='upper left')\n",
    "plt.savefig(os.path.join(results, 'loss_epoch.png'))\n",
    "plt.show()\n",
    "\n",
    "  \n",
    "# Display Train loss vs Validation loss at each Epoch\n",
    "fig = plt.figure(figsize=(10, 7))\n",
    "fig.add_subplot(rows, columns, 2)\n",
    "plt.plot(metrics['accuracy'])\n",
    "plt.plot(metrics['val_accuracy'])\n",
    "plt.title('Model Accuracy')\n",
    "plt.ylabel('accuracy')\n",
    "plt.xlabel('epoch')\n",
    "plt.legend(['train', 'val'], loc='upper left')\n",
    "plt.savefig(os.path.join(results, 'acc_epoch.png'))\n",
    "plt.show()\n",
    "\n"
   ]
  },
  {
   "cell_type": "code",
   "execution_count": 22,
   "metadata": {
    "id": "HQOKaA8zfv4K"
   },
   "outputs": [],
   "source": [
    "## Get the \n",
    "predict_x = m1.predict(X_test) \n",
    "predictions = np.argmax(predict_x,axis=1) "
   ]
  },
  {
   "cell_type": "code",
   "execution_count": 23,
   "metadata": {
    "id": "xy9_ZzsYkByi"
   },
   "outputs": [],
   "source": [
    "# Decode the Model's predections  (from [0,1,0,2..] to ['Glioma','Meningioma'...]) of the Test set using the the dictionary 'decode_dict' \n",
    "predictions = np.vectorize(decode_dict.get)(predictions)"
   ]
  },
  {
   "cell_type": "code",
   "execution_count": 24,
   "metadata": {
    "id": "IVYX1MCzjx00"
   },
   "outputs": [
    {
     "name": "stdout",
     "output_type": "stream",
     "text": [
      "              precision    recall  f1-score   support\n",
      "\n",
      "   Glioma II       0.79      0.60      0.68       428\n",
      "  Glioma III       0.94      0.61      0.74       356\n",
      "   Glioma VI       0.60      0.91      0.73       420\n",
      "  Meningioma       0.94      0.93      0.94       456\n",
      "   Pituitary       0.94      0.98      0.96       476\n",
      "\n",
      "    accuracy                           0.82      2136\n",
      "   macro avg       0.84      0.81      0.81      2136\n",
      "weighted avg       0.84      0.82      0.82      2136\n",
      "\n"
     ]
    }
   ],
   "source": [
    "print(classification_report(y_test_eval, predictions))"
   ]
  },
  {
   "cell_type": "code",
   "execution_count": 25,
   "metadata": {
    "id": "HOVPJjy0udhD"
   },
   "outputs": [
    {
     "data": {
      "image/png": "[encoded data removed]",
      "text/plain": [
       "<Figure size 720x504 with 2 Axes>"
      ]
     },
     "metadata": {
      "needs_background": "light"
     },
     "output_type": "display_data"
    }
   ],
   "source": [
    "labels = sorted([\"Glioma II\", \"Glioma III\", \"Glioma VI\", \"Meningioma\", \"Pituitary\"])\n",
    "\n",
    "cm = pd.DataFrame(confusion_matrix(y_test_eval, predictions), index=labels, columns=labels)\n",
    "plt.figure(figsize = (10,7))\n",
    "plt.title('Confusion matrix')\n",
    "sns.heatmap(cm, annot=True, cmap=\"PuBu\",fmt = 'd')\n",
    "plt.ylabel('True labels')\n",
    "plt.xlabel('Predicted labels')\n",
    "plt.savefig(os.path.join(results, 'confusion_matrix.png'))\n",
    "plt.show()"
   ]
  },
  {
   "cell_type": "code",
   "execution_count": null,
   "metadata": {
    "id": "7_fru9v4mHup"
   },
   "outputs": [],
   "source": []
  }
 ],
 "metadata": {
  "accelerator": "GPU",
  "colab": {
   "collapsed_sections": [],
   "name": "5_labels_model_v1.ipynb",
   "provenance": []
  },
  "kernelspec": {
   "display_name": "Python 3 (ipykernel)",
   "language": "python",
   "name": "python3"
  },
  "language_info": {
   "codemirror_mode": {
    "name": "ipython",
    "version": 3
   },
   "file_extension": ".py",
   "mimetype": "text/x-python",
   "name": "python",
   "nbconvert_exporter": "python",
   "pygments_lexer": "ipython3",
   "version": "3.9.7"
  }
 },
 "nbformat": 4,
 "nbformat_minor": 1
}
