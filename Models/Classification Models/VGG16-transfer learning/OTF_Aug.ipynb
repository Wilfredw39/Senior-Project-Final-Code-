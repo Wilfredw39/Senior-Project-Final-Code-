{
 "cells": [
  {
   "cell_type": "markdown",
   "metadata": {
    "id": "vt51_KACTdGf"
   },
   "source": [
    "## 0. Setting up the Environment\n"
   ]
  },
  {
   "cell_type": "code",
   "execution_count": 1,
   "metadata": {
    "colab": {
     "base_uri": "https://localhost:8080/"
    },
    "id": "D4Z6Zv3PSOcg",
    "outputId": "b87040f7-50f1-4633-bcd9-415194d37d2e"
   },
   "outputs": [],
   "source": [
    "## impoort labaries \n",
    "import os \n",
    "import cv2\n",
    "import mat73\n",
    "import time\n",
    "import pandas as pd\n",
    "import numpy as np \n",
    "import seaborn as sns\n",
    "import skimage\n",
    "import tensorflow as tf\n",
    "import matplotlib.pyplot as plt\n",
    "from PIL import Image, ImageOps \n",
    "from skimage.transform import resize\n",
    "from keras.models import Sequential\n",
    "from tensorflow.keras import optimizers\n",
    "from tqdm.notebook import tqdm_notebook as tqdm\n",
    "from sklearn.metrics import classification_report, confusion_matrix\n",
    "from keras.layers import Conv2D, MaxPooling2D, Flatten, Dense, Dropout, BatchNormalization,  Convolution2D"
   ]
  },
  {
   "cell_type": "markdown",
   "metadata": {
    "id": "sYWmkuxOWtm4"
   },
   "source": [
    "## 1. Data Importing "
   ]
  },
  {
   "cell_type": "code",
   "execution_count": 2,
   "metadata": {
    "colab": {
     "background_save": true
    },
    "id": "kaaNJb4nR5Z5",
    "outputId": "229fd2a5-846a-4168-abdf-2db9f91c282d"
   },
   "outputs": [
    {
     "data": {
      "text/html": [
       "<div>\n",
       "<style scoped>\n",
       "    .dataframe tbody tr th:only-of-type {\n",
       "        vertical-align: middle;\n",
       "    }\n",
       "\n",
       "    .dataframe tbody tr th {\n",
       "        vertical-align: top;\n",
       "    }\n",
       "\n",
       "    .dataframe thead th {\n",
       "        text-align: right;\n",
       "    }\n",
       "</style>\n",
       "<table border=\"1\" class=\"dataframe\">\n",
       "  <thead>\n",
       "    <tr style=\"text-align: right;\">\n",
       "      <th></th>\n",
       "      <th>PID</th>\n",
       "      <th>Label</th>\n",
       "      <th>Image</th>\n",
       "      <th>File</th>\n",
       "    </tr>\n",
       "  </thead>\n",
       "  <tbody>\n",
       "    <tr>\n",
       "      <th>2975</th>\n",
       "      <td>106284</td>\n",
       "      <td>Meningioma</td>\n",
       "      <td>[[0, 0, 0, 0, 0, 0, 0, 0, 0, 0, 0, 0, 0, 0, 0,...</td>\n",
       "      <td>293.mat</td>\n",
       "    </tr>\n",
       "    <tr>\n",
       "      <th>336</th>\n",
       "      <td>HF1345</td>\n",
       "      <td>Glioma II</td>\n",
       "      <td>[[0, 0, 0, 0, 0, 0, 0, 0, 0, 0, 0, 0, 0, 0, 0,...</td>\n",
       "      <td>D:\\Datasets\\manifest-tXudPFfp43472957274060920...</td>\n",
       "    </tr>\n",
       "    <tr>\n",
       "      <th>2056</th>\n",
       "      <td>108550</td>\n",
       "      <td>Meningioma</td>\n",
       "      <td>[[0, 0, 0, 0, 0, 0, 0, 0, 0, 0, 0, 0, 0, 0, 0,...</td>\n",
       "      <td>112.mat</td>\n",
       "    </tr>\n",
       "    <tr>\n",
       "      <th>199</th>\n",
       "      <td>HF1235</td>\n",
       "      <td>Glioma II</td>\n",
       "      <td>[[0, 0, 0, 0, 0, 0, 0, 0, 0, 0, 0, 0, 1, 0, 0,...</td>\n",
       "      <td>D:\\Datasets\\manifest-tXudPFfp43472957274060920...</td>\n",
       "    </tr>\n",
       "    <tr>\n",
       "      <th>2422</th>\n",
       "      <td>112552</td>\n",
       "      <td>Meningioma</td>\n",
       "      <td>[[0, 0, 0, 0, 0, 0, 0, 0, 0, 0, 0, 0, 0, 0, 0,...</td>\n",
       "      <td>145.mat</td>\n",
       "    </tr>\n",
       "  </tbody>\n",
       "</table>\n",
       "</div>"
      ],
      "text/plain": [
       "         PID       Label                                              Image  \\\n",
       "2975  106284  Meningioma  [[0, 0, 0, 0, 0, 0, 0, 0, 0, 0, 0, 0, 0, 0, 0,...   \n",
       "336   HF1345   Glioma II  [[0, 0, 0, 0, 0, 0, 0, 0, 0, 0, 0, 0, 0, 0, 0,...   \n",
       "2056  108550  Meningioma  [[0, 0, 0, 0, 0, 0, 0, 0, 0, 0, 0, 0, 0, 0, 0,...   \n",
       "199   HF1235   Glioma II  [[0, 0, 0, 0, 0, 0, 0, 0, 0, 0, 0, 0, 1, 0, 0,...   \n",
       "2422  112552  Meningioma  [[0, 0, 0, 0, 0, 0, 0, 0, 0, 0, 0, 0, 0, 0, 0,...   \n",
       "\n",
       "                                                   File  \n",
       "2975                                            293.mat  \n",
       "336   D:\\Datasets\\manifest-tXudPFfp43472957274060920...  \n",
       "2056                                            112.mat  \n",
       "199   D:\\Datasets\\manifest-tXudPFfp43472957274060920...  \n",
       "2422                                            145.mat  "
      ]
     },
     "execution_count": 2,
     "metadata": {},
     "output_type": "execute_result"
    }
   ],
   "source": [
    "## Combain the df with the Pitutary & Meningioma types with the dataframe of the Glioma grades (I, II,, IV).\n",
    "img_size = 256\n",
    "df = pd.read_pickle(r\"../../Datasets/Dataset_B_resized_256.pkl\")\n",
    "df.sample(5)"
   ]
  },
  {
   "cell_type": "code",
   "execution_count": 4,
   "metadata": {
    "colab": {
     "background_save": true
    },
    "id": "uJEttBBOU9IN",
    "outputId": "d176e92f-d35f-4f92-a264-ead1e87244e6"
   },
   "outputs": [
    {
     "name": "stderr",
     "output_type": "stream",
     "text": [
      "C:\\Users\\Ma7moud\\anaconda3\\envs\\UNet\\lib\\site-packages\\seaborn\\_decorators.py:36: FutureWarning: Pass the following variable as a keyword arg: x. From version 0.12, the only valid positional argument will be `data`, and passing other arguments without an explicit keyword will result in an error or misinterpretation.\n",
      "  warnings.warn(\n"
     ]
    },
    {
     "data": {
      "text/plain": [
       "<AxesSubplot:xlabel='Label', ylabel='count'>"
      ]
     },
     "execution_count": 4,
     "metadata": {},
     "output_type": "execute_result"
    },
    {
     "data": {
      "image/png": "[encoded data removed]",
      "text/plain": [
       "<Figure size 432x288 with 1 Axes>"
      ]
     },
     "metadata": {
      "needs_background": "light"
     },
     "output_type": "display_data"
    }
   ],
   "source": [
    "sns.countplot(df.Label)"
   ]
  },
  {
   "cell_type": "code",
   "execution_count": 5,
   "metadata": {
    "colab": {
     "background_save": true
    },
    "id": "AWLSJpw6WVVo",
    "outputId": "348d3fee-c3a5-442d-96af-5711dec23128"
   },
   "outputs": [
    {
     "data": {
      "image/png": "[encoded data removed]",
      "text/plain": [
       "<Figure size 432x288 with 1 Axes>"
      ]
     },
     "metadata": {},
     "output_type": "display_data"
    }
   ],
   "source": [
    "data = df.groupby(\"Label\")[\"Label\"].count()\n",
    "data.plot.pie(autopct=\"%.1f%%\");"
   ]
  },
  {
   "cell_type": "markdown",
   "metadata": {
    "id": "Zf3vh4d7w3ZP"
   },
   "source": [
    "## 2. Data-Preprocessing "
   ]
  },
  {
   "cell_type": "markdown",
   "metadata": {
    "id": "Kd502KoZONei"
   },
   "source": [
    " 2.1 Image Resizing \n"
   ]
  },
  {
   "cell_type": "code",
   "execution_count": 25,
   "metadata": {
    "colab": {
     "background_save": true
    },
    "id": "0VwU3rBZ104u"
   },
   "outputs": [],
   "source": [
    "# ## Image Resizing from (512, 512) pixals to (128, 128)\n",
    "# resized_df  =  df.copy()\n",
    "# new_shape = 256\n",
    "\n",
    "# def imgResize(img):\n",
    "#     return resize(img,(new_shape,new_shape))\n",
    "\n",
    "# resized_df['Image'] = resized_df['Image'].apply(imgResize)"
   ]
  },
  {
   "cell_type": "code",
   "execution_count": 26,
   "metadata": {
    "colab": {
     "background_save": true
    },
    "id": "qFKPfykXFYm-",
    "outputId": "0e35fe6a-5b9d-4762-8c02-c2a973f984c9"
   },
   "outputs": [],
   "source": [
    "# ## This code block displays a random MR Image Befor and After Resizing \n",
    "\n",
    "\n",
    "# randInt = np.random.randint(0,len(df))\n",
    "# # create figure\n",
    "# fig = plt.figure(figsize=(10, 7))\n",
    "  \n",
    "# # setting values to rows and column variables\n",
    "# rows = 1\n",
    "# columns = 2\n",
    "\n",
    "# label = df.Label[randInt]\n",
    "  \n",
    "# # Display a Random Image before resizing\n",
    "# fig.add_subplot(rows, columns, 1)\n",
    "# plt.imshow(df.Image[randInt],cmap='gray')\n",
    "# plt.title('{}\\nOriginal Image Shape: {}'.format(label, df.Image[randInt].shape))\n",
    "# plt.axis('off')\n",
    "  \n",
    "# # Display a Random Image after resizing\n",
    "# fig.add_subplot(rows, columns, 2)\n",
    "# plt.imshow(resized_df.Image[randInt],cmap='gray')\n",
    "# plt.title('{}\\nResized Image Shape: {}'.format(label, resized_df.Image[randInt].shape))\n",
    "# plt.axis('off')\n",
    "  "
   ]
  },
  {
   "cell_type": "markdown",
   "metadata": {
    "id": "oDIYJ9-3OWho"
   },
   "source": [
    "2.2 Data Agumentation"
   ]
  },
  {
   "cell_type": "code",
   "execution_count": null,
   "metadata": {},
   "outputs": [],
   "source": []
  },
  {
   "cell_type": "code",
   "execution_count": 28,
   "metadata": {},
   "outputs": [],
   "source": [
    "# 2.3 Grayscale to RGB\n",
    "def normalize(img):\n",
    "    plt.imsave('DR.png', img, cmap='gray')\n",
    "    return cv2.imread('DR.png')\n",
    "df.Image = df.Image.apply(normalize)"
   ]
  },
  {
   "cell_type": "code",
   "execution_count": 29,
   "metadata": {
    "colab": {
     "background_save": true
    },
    "id": "hzz5yapeG-M7",
    "outputId": "0d2f1eb1-953a-4141-8ab9-4cb02b8519e8"
   },
   "outputs": [
    {
     "data": {
      "text/plain": [
       "3559"
      ]
     },
     "execution_count": 29,
     "metadata": {},
     "output_type": "execute_result"
    }
   ],
   "source": [
    "len(df)"
   ]
  },
  {
   "cell_type": "code",
   "execution_count": 30,
   "metadata": {
    "colab": {
     "background_save": true
    },
    "id": "4iL-lAUYemk_",
    "outputId": "e4eeb597-93e7-4ef9-ca00-6a8de5a0ed0c"
   },
   "outputs": [],
   "source": [
    "# ## select a radom image from the dataframe\n",
    "# randInt = np.random.randint(0,len(df.File.unique()))\n",
    "# random_img = df[df.File == str(randInt) + '.mat'].reset_index(drop=True, inplace=False)\n",
    "\n",
    "# ## plot the same image with it's differenet agumentations. \n",
    "# plt.figure(figsize=(23, 15))\n",
    "# for i in range(len(random_img)):\n",
    "#   plt.subplot(1,5, i+1)\n",
    "#   plt.imshow(random_img.Image[i], cmap='gray')\n",
    "#   plt.title(random_img['Argumentation type'][i])\n",
    "#   plt.axis('off')\n",
    "# plt.show()\n"
   ]
  },
  {
   "cell_type": "markdown",
   "metadata": {
    "id": "yg8moTnTaNeT"
   },
   "source": [
    "2.3 Splitting Data into Train, Test, and Validation Sets"
   ]
  },
  {
   "cell_type": "code",
   "execution_count": 32,
   "metadata": {
    "colab": {
     "background_save": true
    },
    "id": "f9RjYfM_UUWI",
    "outputId": "df5dddf8-97c9-469d-bc6d-add31ecb0f4b"
   },
   "outputs": [
    {
     "name": "stdout",
     "output_type": "stream",
     "text": [
      "shape of Images: (3559, 256, 256, 3), shape of the labels (3559,)\n"
     ]
    }
   ],
   "source": [
    "## Splitting Images form Labels\n",
    "y = df[\"Label\"]\n",
    "\n",
    "X = df['Image'].tolist()\n",
    "## Adding extra Color channel to the grayscale images\n",
    "X = np.array(X).reshape(-1, img_size, img_size, 3)\n",
    "\n",
    "print(f\"shape of Images: {X.shape}, shape of the labels {y.shape}\")"
   ]
  },
  {
   "cell_type": "code",
   "execution_count": 33,
   "metadata": {
    "colab": {
     "background_save": true
    },
    "id": "40FLMUeebpf-"
   },
   "outputs": [],
   "source": [
    "## Splitting Data to : 75% Train set, 15% Test set, and 10% Validation set\n",
    "from sklearn.model_selection import train_test_split\n",
    "X_train, X_test, y_train, y_test = train_test_split(X, y, test_size=0.25, random_state=42)\n",
    "X_test, X_val, y_test, y_val = train_test_split(X_test,y_test, test_size=0.40, random_state=42)"
   ]
  },
  {
   "cell_type": "code",
   "execution_count": 34,
   "metadata": {
    "colab": {
     "background_save": true
    },
    "id": "uR_Cv0khfpyS",
    "outputId": "0fa96dd1-5899-45b2-9d73-5fcbc132a797"
   },
   "outputs": [
    {
     "name": "stdout",
     "output_type": "stream",
     "text": [
      "X_train shape: (2669, 256, 256, 3) | y_train shape: (2669, 5)\n",
      "X_test shape : (534, 256, 256, 3) | y_test shape :  (534, 5)\n",
      "X_val shape  :  (356, 256, 256, 3) | y_val shape  :  (356, 5)\n",
      "\n",
      "Total Data:  3559\n"
     ]
    }
   ],
   "source": [
    "# saving a copy of the testing labels before one hot encoding\n",
    "y_test_eval = y_test\n",
    "# one hot endcoding the labels \n",
    "y_train = pd.get_dummies(y_train)\n",
    "y_test  = pd.get_dummies(y_test)\n",
    "y_val   = pd.get_dummies(y_val)\n",
    "\n",
    "print(\"X_train shape:\", X_train.shape,\"| y_train shape:\", y_train.shape)\n",
    "print(\"X_test shape :\",X_test.shape,\"| y_test shape : \", y_test.shape)\n",
    "print(\"X_val shape  : \",X_val.shape,\"| y_val shape  : \", y_val.shape)\n",
    "print(\"\\nTotal Data: \", len(df))"
   ]
  },
  {
   "cell_type": "code",
   "execution_count": 35,
   "metadata": {
    "colab": {
     "background_save": true
    },
    "id": "3DctvR_fVPlF",
    "outputId": "bdf93bfa-b00d-49a3-99c8-f2bde2731658"
   },
   "outputs": [
    {
     "data": {
      "text/html": [
       "<div>\n",
       "<style scoped>\n",
       "    .dataframe tbody tr th:only-of-type {\n",
       "        vertical-align: middle;\n",
       "    }\n",
       "\n",
       "    .dataframe tbody tr th {\n",
       "        vertical-align: top;\n",
       "    }\n",
       "\n",
       "    .dataframe thead th {\n",
       "        text-align: right;\n",
       "    }\n",
       "</style>\n",
       "<table border=\"1\" class=\"dataframe\">\n",
       "  <thead>\n",
       "    <tr style=\"text-align: right;\">\n",
       "      <th></th>\n",
       "      <th>Glioma II</th>\n",
       "      <th>Glioma III</th>\n",
       "      <th>Glioma VI</th>\n",
       "      <th>Meningioma</th>\n",
       "      <th>Pituitary</th>\n",
       "    </tr>\n",
       "  </thead>\n",
       "  <tbody>\n",
       "    <tr>\n",
       "      <th>2917</th>\n",
       "      <td>0</td>\n",
       "      <td>0</td>\n",
       "      <td>0</td>\n",
       "      <td>1</td>\n",
       "      <td>0</td>\n",
       "    </tr>\n",
       "    <tr>\n",
       "      <th>3026</th>\n",
       "      <td>0</td>\n",
       "      <td>0</td>\n",
       "      <td>0</td>\n",
       "      <td>1</td>\n",
       "      <td>0</td>\n",
       "    </tr>\n",
       "    <tr>\n",
       "      <th>776</th>\n",
       "      <td>0</td>\n",
       "      <td>1</td>\n",
       "      <td>0</td>\n",
       "      <td>0</td>\n",
       "      <td>0</td>\n",
       "    </tr>\n",
       "    <tr>\n",
       "      <th>2383</th>\n",
       "      <td>0</td>\n",
       "      <td>0</td>\n",
       "      <td>0</td>\n",
       "      <td>0</td>\n",
       "      <td>1</td>\n",
       "    </tr>\n",
       "    <tr>\n",
       "      <th>1498</th>\n",
       "      <td>0</td>\n",
       "      <td>0</td>\n",
       "      <td>1</td>\n",
       "      <td>0</td>\n",
       "      <td>0</td>\n",
       "    </tr>\n",
       "    <tr>\n",
       "      <th>...</th>\n",
       "      <td>...</td>\n",
       "      <td>...</td>\n",
       "      <td>...</td>\n",
       "      <td>...</td>\n",
       "      <td>...</td>\n",
       "    </tr>\n",
       "    <tr>\n",
       "      <th>3250</th>\n",
       "      <td>0</td>\n",
       "      <td>0</td>\n",
       "      <td>0</td>\n",
       "      <td>1</td>\n",
       "      <td>0</td>\n",
       "    </tr>\n",
       "    <tr>\n",
       "      <th>1271</th>\n",
       "      <td>0</td>\n",
       "      <td>0</td>\n",
       "      <td>1</td>\n",
       "      <td>0</td>\n",
       "      <td>0</td>\n",
       "    </tr>\n",
       "    <tr>\n",
       "      <th>535</th>\n",
       "      <td>1</td>\n",
       "      <td>0</td>\n",
       "      <td>0</td>\n",
       "      <td>0</td>\n",
       "      <td>0</td>\n",
       "    </tr>\n",
       "    <tr>\n",
       "      <th>2114</th>\n",
       "      <td>0</td>\n",
       "      <td>0</td>\n",
       "      <td>0</td>\n",
       "      <td>0</td>\n",
       "      <td>1</td>\n",
       "    </tr>\n",
       "    <tr>\n",
       "      <th>881</th>\n",
       "      <td>0</td>\n",
       "      <td>1</td>\n",
       "      <td>0</td>\n",
       "      <td>0</td>\n",
       "      <td>0</td>\n",
       "    </tr>\n",
       "  </tbody>\n",
       "</table>\n",
       "<p>534 rows × 5 columns</p>\n",
       "</div>"
      ],
      "text/plain": [
       "      Glioma II  Glioma III  Glioma VI  Meningioma  Pituitary\n",
       "2917          0           0          0           1          0\n",
       "3026          0           0          0           1          0\n",
       "776           0           1          0           0          0\n",
       "2383          0           0          0           0          1\n",
       "1498          0           0          1           0          0\n",
       "...         ...         ...        ...         ...        ...\n",
       "3250          0           0          0           1          0\n",
       "1271          0           0          1           0          0\n",
       "535           1           0          0           0          0\n",
       "2114          0           0          0           0          1\n",
       "881           0           1          0           0          0\n",
       "\n",
       "[534 rows x 5 columns]"
      ]
     },
     "execution_count": 35,
     "metadata": {},
     "output_type": "execute_result"
    }
   ],
   "source": [
    "y_test"
   ]
  },
  {
   "cell_type": "code",
   "execution_count": 36,
   "metadata": {
    "colab": {
     "background_save": true
    },
    "id": "jWFIvPjtiNio"
   },
   "outputs": [],
   "source": [
    "## This Dictionary is used to decode the model's predicted values.  \n",
    "decode_dict = {0 : \"Grade II\", 1 : \"Grade III\", 2 : \"Grade VI\", 3: \"Meningioma\", 4: \"Pituitary\"}"
   ]
  },
  {
   "cell_type": "code",
   "execution_count": 37,
   "metadata": {
    "colab": {
     "background_save": true
    },
    "id": "PcsCoY3jggfU",
    "outputId": "3b3c30b0-a9af-4923-a318-cea2b5587807"
   },
   "outputs": [
    {
     "data": {
      "image/png": "[encoded data removed]",
      "text/plain": [
       "<Figure size 936x576 with 1 Axes>"
      ]
     },
     "metadata": {},
     "output_type": "display_data"
    }
   ],
   "source": [
    "import matplotlib.pyplot as plt\n",
    "import numpy as np\n",
    "##  Creating a Pie chart illustrating the percentage of the train, validation, test sets.\n",
    "Data = np.array([len(y_train), len(y_test), len(y_val)])\n",
    "mylabels = [\"Test Set\", \"Test Set\", \"Validation Set\"]\n",
    "plt.figure(figsize=(13, 8))\n",
    "plt.pie(Data, labels = mylabels, autopct=\"%.1f%%\", )\n",
    "plt.legend()\n",
    "plt.show() "
   ]
  },
  {
   "cell_type": "markdown",
   "metadata": {
    "id": "zDCzea2Klw_1"
   },
   "source": [
    "##3. Models Creation\n"
   ]
  },
  {
   "cell_type": "code",
   "execution_count": 42,
   "metadata": {
    "colab": {
     "background_save": true
    },
    "id": "K58Sn8Gt_6v9"
   },
   "outputs": [
    {
     "name": "stdout",
     "output_type": "stream",
     "text": [
      "Model: \"model_1\"\n",
      "_________________________________________________________________\n",
      "Layer (type)                 Output Shape              Param #   \n",
      "=================================================================\n",
      "input_4 (InputLayer)         [(None, 256, 256, 3)]     0         \n",
      "_________________________________________________________________\n",
      "block1_conv1 (Conv2D)        (None, 256, 256, 64)      1792      \n",
      "_________________________________________________________________\n",
      "block1_conv2 (Conv2D)        (None, 256, 256, 64)      36928     \n",
      "_________________________________________________________________\n",
      "block1_pool (MaxPooling2D)   (None, 128, 128, 64)      0         \n",
      "_________________________________________________________________\n",
      "block2_conv1 (Conv2D)        (None, 128, 128, 128)     73856     \n",
      "_________________________________________________________________\n",
      "block2_conv2 (Conv2D)        (None, 128, 128, 128)     147584    \n",
      "_________________________________________________________________\n",
      "block2_pool (MaxPooling2D)   (None, 64, 64, 128)       0         \n",
      "_________________________________________________________________\n",
      "block3_conv1 (Conv2D)        (None, 64, 64, 256)       295168    \n",
      "_________________________________________________________________\n",
      "block3_conv2 (Conv2D)        (None, 64, 64, 256)       590080    \n",
      "_________________________________________________________________\n",
      "block3_conv3 (Conv2D)        (None, 64, 64, 256)       590080    \n",
      "_________________________________________________________________\n",
      "block3_pool (MaxPooling2D)   (None, 32, 32, 256)       0         \n",
      "_________________________________________________________________\n",
      "block4_conv1 (Conv2D)        (None, 32, 32, 512)       1180160   \n",
      "_________________________________________________________________\n",
      "block4_conv2 (Conv2D)        (None, 32, 32, 512)       2359808   \n",
      "_________________________________________________________________\n",
      "block4_conv3 (Conv2D)        (None, 32, 32, 512)       2359808   \n",
      "_________________________________________________________________\n",
      "block4_pool (MaxPooling2D)   (None, 16, 16, 512)       0         \n",
      "_________________________________________________________________\n",
      "block5_conv1 (Conv2D)        (None, 16, 16, 512)       2359808   \n",
      "_________________________________________________________________\n",
      "block5_conv2 (Conv2D)        (None, 16, 16, 512)       2359808   \n",
      "_________________________________________________________________\n",
      "block5_conv3 (Conv2D)        (None, 16, 16, 512)       2359808   \n",
      "_________________________________________________________________\n",
      "block5_pool (MaxPooling2D)   (None, 8, 8, 512)         0         \n",
      "_________________________________________________________________\n",
      "flatten_1 (Flatten)          (None, 32768)             0         \n",
      "_________________________________________________________________\n",
      "dense_1 (Dense)              (None, 5)                 163845    \n",
      "=================================================================\n",
      "Total params: 14,878,533\n",
      "Trainable params: 163,845\n",
      "Non-trainable params: 14,714,688\n",
      "_________________________________________________________________\n"
     ]
    }
   ],
   "source": [
    "from keras.models import Sequential\n",
    "from keras.layers import Conv2D, MaxPooling2D, Flatten, Dense, Dropout, BatchNormalization,  Convolution2D, Input, Lambda\n",
    "import tensorflow as tf\n",
    "import time\n",
    "from tensorflow.keras import optimizers\n",
    "from keras.models import Model\n",
    "from keras.applications.vgg16 import VGG16\n",
    "from keras.applications.vgg16 import preprocess_input\n",
    "from glob import glob\n",
    "\n",
    "\n",
    "\n",
    "\n",
    "vgg16 = VGG16(include_top=False, weights=None, input_shape = (img_size, img_size, 3))\n",
    "\n",
    "for layer in vgg16.layers:\n",
    "    layer.trainable = False\n",
    "\n",
    "# Dense Lyers\n",
    "x = Flatten()(vgg16.output)\n",
    "outLayers = Dense(5, activation='softmax')(x)\n",
    "\n",
    "m1 = Model(inputs = vgg16.input, outputs = outLayers)\n",
    "\n",
    "m1.summary()\n",
    "m1.compile(loss='categorical_crossentropy', optimizer='adam', metrics=['accuracy'])"
   ]
  },
  {
   "cell_type": "markdown",
   "metadata": {
    "id": "6aAVYS26t6c3"
   },
   "source": [
    "##4. Model Training\n"
   ]
  },
  {
   "cell_type": "code",
   "execution_count": 43,
   "metadata": {
    "id": "LGT4MVY3tkyz"
   },
   "outputs": [
    {
     "name": "stdout",
     "output_type": "stream",
     "text": [
      "Epoch 1/100\n",
      "84/84 [==============================] - 16s 115ms/step - loss: 1.2519 - accuracy: 0.5212 - val_loss: 1.0215 - val_accuracy: 0.5590\n",
      "Epoch 2/100\n",
      "84/84 [==============================] - 7s 82ms/step - loss: 0.8504 - accuracy: 0.6684 - val_loss: 0.9273 - val_accuracy: 0.6039\n",
      "Epoch 3/100\n",
      "84/84 [==============================] - 7s 83ms/step - loss: 0.6792 - accuracy: 0.7508 - val_loss: 0.7592 - val_accuracy: 0.7219\n",
      "Epoch 4/100\n",
      "84/84 [==============================] - 7s 83ms/step - loss: 0.5960 - accuracy: 0.7947 - val_loss: 0.7045 - val_accuracy: 0.7584\n",
      "Epoch 5/100\n",
      "84/84 [==============================] - 7s 83ms/step - loss: 0.5160 - accuracy: 0.8393 - val_loss: 0.6477 - val_accuracy: 0.7781\n",
      "Epoch 6/100\n",
      "84/84 [==============================] - 7s 83ms/step - loss: 0.4458 - accuracy: 0.8606 - val_loss: 0.6334 - val_accuracy: 0.7584\n",
      "Epoch 7/100\n",
      "84/84 [==============================] - 7s 83ms/step - loss: 0.4280 - accuracy: 0.8651 - val_loss: 0.7184 - val_accuracy: 0.7107\n",
      "Epoch 8/100\n",
      "84/84 [==============================] - 7s 83ms/step - loss: 0.4329 - accuracy: 0.8468 - val_loss: 0.6048 - val_accuracy: 0.7640\n",
      "Epoch 9/100\n",
      "84/84 [==============================] - 7s 83ms/step - loss: 0.3703 - accuracy: 0.8824 - val_loss: 0.6558 - val_accuracy: 0.7275\n",
      "Epoch 10/100\n",
      "84/84 [==============================] - 7s 83ms/step - loss: 0.3686 - accuracy: 0.8760 - val_loss: 0.5458 - val_accuracy: 0.7893\n",
      "Epoch 11/100\n",
      "84/84 [==============================] - 7s 83ms/step - loss: 0.2967 - accuracy: 0.9138 - val_loss: 0.4877 - val_accuracy: 0.8371\n",
      "Epoch 12/100\n",
      "84/84 [==============================] - 7s 83ms/step - loss: 0.2573 - accuracy: 0.9404 - val_loss: 0.4687 - val_accuracy: 0.8567\n",
      "Epoch 13/100\n",
      "84/84 [==============================] - 7s 83ms/step - loss: 0.2427 - accuracy: 0.9416 - val_loss: 0.4910 - val_accuracy: 0.8034\n",
      "Epoch 14/100\n",
      "84/84 [==============================] - 7s 83ms/step - loss: 0.2375 - accuracy: 0.9423 - val_loss: 0.4912 - val_accuracy: 0.8118\n",
      "Epoch 15/100\n",
      "84/84 [==============================] - 7s 83ms/step - loss: 0.2346 - accuracy: 0.9408 - val_loss: 0.4575 - val_accuracy: 0.8483\n",
      "Epoch 16/100\n",
      "84/84 [==============================] - 7s 83ms/step - loss: 0.2138 - accuracy: 0.9494 - val_loss: 0.4522 - val_accuracy: 0.8230\n",
      "Epoch 17/100\n",
      "84/84 [==============================] - 7s 83ms/step - loss: 0.2119 - accuracy: 0.9419 - val_loss: 0.4560 - val_accuracy: 0.8511\n",
      "Epoch 18/100\n",
      "84/84 [==============================] - 7s 83ms/step - loss: 0.1825 - accuracy: 0.9625 - val_loss: 0.4263 - val_accuracy: 0.8539\n",
      "Epoch 19/100\n",
      "84/84 [==============================] - 7s 83ms/step - loss: 0.1699 - accuracy: 0.9644 - val_loss: 0.3867 - val_accuracy: 0.8708\n",
      "Epoch 20/100\n",
      "84/84 [==============================] - 7s 83ms/step - loss: 0.1784 - accuracy: 0.9569 - val_loss: 0.4995 - val_accuracy: 0.8034\n",
      "Epoch 21/100\n",
      "84/84 [==============================] - 7s 83ms/step - loss: 0.1637 - accuracy: 0.9682 - val_loss: 0.3966 - val_accuracy: 0.8764\n",
      "Epoch 22/100\n",
      "84/84 [==============================] - 7s 83ms/step - loss: 0.1395 - accuracy: 0.9801 - val_loss: 0.4292 - val_accuracy: 0.8820\n",
      "Epoch 23/100\n",
      "84/84 [==============================] - 7s 83ms/step - loss: 0.1373 - accuracy: 0.9786 - val_loss: 0.3905 - val_accuracy: 0.8567\n",
      "Epoch 24/100\n",
      "84/84 [==============================] - 7s 83ms/step - loss: 0.1189 - accuracy: 0.9858 - val_loss: 0.3962 - val_accuracy: 0.8708\n",
      "Epoch 25/100\n",
      "84/84 [==============================] - 7s 84ms/step - loss: 0.1178 - accuracy: 0.9854 - val_loss: 0.3754 - val_accuracy: 0.8596\n",
      "Epoch 26/100\n",
      "84/84 [==============================] - 7s 84ms/step - loss: 0.1192 - accuracy: 0.9816 - val_loss: 0.3751 - val_accuracy: 0.8736\n",
      "Epoch 27/100\n",
      "84/84 [==============================] - 7s 83ms/step - loss: 0.1164 - accuracy: 0.9813 - val_loss: 0.4393 - val_accuracy: 0.8371\n",
      "Epoch 28/100\n",
      "84/84 [==============================] - 7s 83ms/step - loss: 0.1040 - accuracy: 0.9899 - val_loss: 0.3524 - val_accuracy: 0.8848\n",
      "Epoch 29/100\n",
      "84/84 [==============================] - 7s 83ms/step - loss: 0.0955 - accuracy: 0.9903 - val_loss: 0.3748 - val_accuracy: 0.8624\n",
      "Epoch 30/100\n",
      "84/84 [==============================] - 7s 83ms/step - loss: 0.1006 - accuracy: 0.9888 - val_loss: 0.3891 - val_accuracy: 0.8455\n",
      "Epoch 31/100\n",
      "84/84 [==============================] - 7s 83ms/step - loss: 0.0898 - accuracy: 0.9910 - val_loss: 0.3576 - val_accuracy: 0.8736\n",
      "Epoch 32/100\n",
      "84/84 [==============================] - 7s 83ms/step - loss: 0.0968 - accuracy: 0.9873 - val_loss: 0.4054 - val_accuracy: 0.8792\n",
      "Epoch 33/100\n",
      "84/84 [==============================] - 7s 83ms/step - loss: 0.0894 - accuracy: 0.9895 - val_loss: 0.3984 - val_accuracy: 0.8567\n",
      "Epoch 34/100\n",
      "84/84 [==============================] - 7s 83ms/step - loss: 0.0762 - accuracy: 0.9944 - val_loss: 0.3311 - val_accuracy: 0.8876\n",
      "Epoch 35/100\n",
      "84/84 [==============================] - 7s 83ms/step - loss: 0.0743 - accuracy: 0.9933 - val_loss: 0.3552 - val_accuracy: 0.8792\n",
      "Epoch 36/100\n",
      "84/84 [==============================] - 7s 83ms/step - loss: 0.0733 - accuracy: 0.9933 - val_loss: 0.3276 - val_accuracy: 0.9045\n",
      "Epoch 37/100\n",
      "84/84 [==============================] - 7s 83ms/step - loss: 0.0832 - accuracy: 0.9899 - val_loss: 0.3792 - val_accuracy: 0.8567\n",
      "Epoch 38/100\n",
      "84/84 [==============================] - 7s 83ms/step - loss: 0.0675 - accuracy: 0.9948 - val_loss: 0.3196 - val_accuracy: 0.8989\n",
      "Epoch 39/100\n",
      "84/84 [==============================] - 7s 83ms/step - loss: 0.0690 - accuracy: 0.9951 - val_loss: 0.3197 - val_accuracy: 0.8961\n",
      "Epoch 40/100\n",
      "84/84 [==============================] - 7s 83ms/step - loss: 0.0592 - accuracy: 0.9963 - val_loss: 0.3344 - val_accuracy: 0.8792\n",
      "Epoch 41/100\n",
      "84/84 [==============================] - 7s 83ms/step - loss: 0.0628 - accuracy: 0.9948 - val_loss: 0.3237 - val_accuracy: 0.8848\n",
      "Epoch 42/100\n",
      "84/84 [==============================] - 7s 83ms/step - loss: 0.0530 - accuracy: 0.9974 - val_loss: 0.3164 - val_accuracy: 0.8933\n",
      "Epoch 43/100\n",
      "84/84 [==============================] - 7s 83ms/step - loss: 0.0548 - accuracy: 0.9963 - val_loss: 0.3305 - val_accuracy: 0.8961\n",
      "Epoch 44/100\n",
      "84/84 [==============================] - 7s 83ms/step - loss: 0.0518 - accuracy: 0.9966 - val_loss: 0.3550 - val_accuracy: 0.8820\n",
      "Epoch 45/100\n",
      "84/84 [==============================] - 7s 83ms/step - loss: 0.0509 - accuracy: 0.9959 - val_loss: 0.3685 - val_accuracy: 0.8652\n",
      "Epoch 46/100\n",
      "84/84 [==============================] - 7s 83ms/step - loss: 0.0462 - accuracy: 0.9981 - val_loss: 0.3464 - val_accuracy: 0.8848\n",
      "Epoch 47/100\n",
      "84/84 [==============================] - 7s 83ms/step - loss: 0.0460 - accuracy: 0.9970 - val_loss: 0.3361 - val_accuracy: 0.8904\n",
      "Epoch 48/100\n",
      "84/84 [==============================] - 7s 83ms/step - loss: 0.0418 - accuracy: 0.9974 - val_loss: 0.3179 - val_accuracy: 0.8933\n",
      "Epoch 49/100\n",
      "84/84 [==============================] - 7s 83ms/step - loss: 0.0440 - accuracy: 0.9981 - val_loss: 0.3100 - val_accuracy: 0.8989\n",
      "Epoch 50/100\n",
      "84/84 [==============================] - 7s 83ms/step - loss: 0.0390 - accuracy: 0.9978 - val_loss: 0.3310 - val_accuracy: 0.8792\n",
      "Epoch 51/100\n",
      "84/84 [==============================] - 7s 83ms/step - loss: 0.0487 - accuracy: 0.9940 - val_loss: 0.3295 - val_accuracy: 0.8989\n",
      "Epoch 52/100\n",
      "84/84 [==============================] - 7s 83ms/step - loss: 0.0565 - accuracy: 0.9891 - val_loss: 0.3785 - val_accuracy: 0.8624\n",
      "Epoch 53/100\n",
      "84/84 [==============================] - 7s 83ms/step - loss: 0.0357 - accuracy: 0.9981 - val_loss: 0.3036 - val_accuracy: 0.9017\n",
      "Epoch 54/100\n",
      "84/84 [==============================] - 7s 83ms/step - loss: 0.0335 - accuracy: 0.9985 - val_loss: 0.3043 - val_accuracy: 0.9045\n",
      "Epoch 55/100\n",
      "84/84 [==============================] - 7s 83ms/step - loss: 0.0358 - accuracy: 0.9978 - val_loss: 0.3388 - val_accuracy: 0.8848\n",
      "Epoch 56/100\n",
      "84/84 [==============================] - 7s 83ms/step - loss: 0.0336 - accuracy: 0.9985 - val_loss: 0.3057 - val_accuracy: 0.9045\n",
      "Epoch 57/100\n",
      "84/84 [==============================] - 7s 83ms/step - loss: 0.0298 - accuracy: 0.9989 - val_loss: 0.3185 - val_accuracy: 0.8820\n",
      "Epoch 58/100\n",
      "84/84 [==============================] - 7s 83ms/step - loss: 0.0299 - accuracy: 0.9993 - val_loss: 0.3395 - val_accuracy: 0.8848\n",
      "Epoch 59/100\n",
      "84/84 [==============================] - 7s 83ms/step - loss: 0.0295 - accuracy: 0.9985 - val_loss: 0.2953 - val_accuracy: 0.9157\n",
      "Epoch 60/100\n",
      "84/84 [==============================] - 7s 83ms/step - loss: 0.0265 - accuracy: 0.9989 - val_loss: 0.3006 - val_accuracy: 0.9045\n",
      "Epoch 61/100\n",
      "84/84 [==============================] - 7s 83ms/step - loss: 0.0259 - accuracy: 0.9996 - val_loss: 0.3128 - val_accuracy: 0.9129\n",
      "Epoch 62/100\n",
      "84/84 [==============================] - 7s 83ms/step - loss: 0.0263 - accuracy: 0.9993 - val_loss: 0.3040 - val_accuracy: 0.9129\n",
      "Epoch 63/100\n",
      "84/84 [==============================] - 7s 83ms/step - loss: 0.0249 - accuracy: 0.9989 - val_loss: 0.3188 - val_accuracy: 0.9157\n",
      "Epoch 64/100\n",
      "84/84 [==============================] - 7s 83ms/step - loss: 0.0243 - accuracy: 1.0000 - val_loss: 0.3326 - val_accuracy: 0.8933\n",
      "Epoch 65/100\n",
      "84/84 [==============================] - 7s 83ms/step - loss: 0.0291 - accuracy: 0.9981 - val_loss: 0.3001 - val_accuracy: 0.9045\n",
      "Epoch 66/100\n",
      "84/84 [==============================] - 7s 83ms/step - loss: 0.0212 - accuracy: 0.9996 - val_loss: 0.3081 - val_accuracy: 0.9073\n",
      "Epoch 67/100\n",
      "84/84 [==============================] - 7s 83ms/step - loss: 0.0218 - accuracy: 1.0000 - val_loss: 0.3102 - val_accuracy: 0.9017\n",
      "Epoch 68/100\n",
      "84/84 [==============================] - 7s 83ms/step - loss: 0.0205 - accuracy: 1.0000 - val_loss: 0.3072 - val_accuracy: 0.8989\n",
      "Epoch 69/100\n",
      "84/84 [==============================] - 7s 83ms/step - loss: 0.0208 - accuracy: 1.0000 - val_loss: 0.3133 - val_accuracy: 0.8961\n",
      "Epoch 70/100\n",
      "84/84 [==============================] - 7s 83ms/step - loss: 0.0195 - accuracy: 1.0000 - val_loss: 0.3192 - val_accuracy: 0.8961\n",
      "Epoch 71/100\n",
      "84/84 [==============================] - 7s 83ms/step - loss: 0.0190 - accuracy: 0.9996 - val_loss: 0.3031 - val_accuracy: 0.9101\n",
      "Epoch 72/100\n",
      "84/84 [==============================] - 7s 83ms/step - loss: 0.0170 - accuracy: 1.0000 - val_loss: 0.2989 - val_accuracy: 0.9185\n",
      "Epoch 73/100\n",
      "84/84 [==============================] - 7s 83ms/step - loss: 0.0159 - accuracy: 1.0000 - val_loss: 0.3062 - val_accuracy: 0.9045\n",
      "Epoch 74/100\n",
      "84/84 [==============================] - 7s 83ms/step - loss: 0.0166 - accuracy: 1.0000 - val_loss: 0.3172 - val_accuracy: 0.8989\n",
      "Epoch 75/100\n",
      "84/84 [==============================] - 7s 83ms/step - loss: 0.0160 - accuracy: 1.0000 - val_loss: 0.3035 - val_accuracy: 0.9073\n",
      "Epoch 76/100\n",
      "84/84 [==============================] - 7s 83ms/step - loss: 0.0149 - accuracy: 1.0000 - val_loss: 0.3129 - val_accuracy: 0.8989\n",
      "Epoch 77/100\n",
      "84/84 [==============================] - 7s 83ms/step - loss: 0.0178 - accuracy: 0.9996 - val_loss: 0.3241 - val_accuracy: 0.8876\n",
      "Epoch 78/100\n",
      "84/84 [==============================] - 7s 83ms/step - loss: 0.0157 - accuracy: 1.0000 - val_loss: 0.3183 - val_accuracy: 0.9045\n",
      "Epoch 79/100\n",
      "84/84 [==============================] - 7s 83ms/step - loss: 0.0149 - accuracy: 1.0000 - val_loss: 0.3135 - val_accuracy: 0.8961\n",
      "Epoch 80/100\n",
      "84/84 [==============================] - 7s 83ms/step - loss: 0.0147 - accuracy: 1.0000 - val_loss: 0.3104 - val_accuracy: 0.9017\n",
      "Epoch 81/100\n",
      "84/84 [==============================] - 7s 83ms/step - loss: 0.0139 - accuracy: 1.0000 - val_loss: 0.3041 - val_accuracy: 0.9017\n",
      "Epoch 82/100\n",
      "84/84 [==============================] - 7s 83ms/step - loss: 0.0125 - accuracy: 1.0000 - val_loss: 0.3083 - val_accuracy: 0.8961\n",
      "Epoch 83/100\n",
      "84/84 [==============================] - 7s 83ms/step - loss: 0.0124 - accuracy: 1.0000 - val_loss: 0.2977 - val_accuracy: 0.9185\n",
      "Epoch 84/100\n",
      "84/84 [==============================] - 7s 83ms/step - loss: 0.0122 - accuracy: 1.0000 - val_loss: 0.3001 - val_accuracy: 0.9157\n",
      "Epoch 85/100\n",
      "84/84 [==============================] - 7s 83ms/step - loss: 0.0114 - accuracy: 1.0000 - val_loss: 0.3274 - val_accuracy: 0.8904\n",
      "Epoch 86/100\n",
      "84/84 [==============================] - 7s 83ms/step - loss: 0.0108 - accuracy: 1.0000 - val_loss: 0.3161 - val_accuracy: 0.9045\n",
      "Epoch 87/100\n",
      "84/84 [==============================] - 7s 83ms/step - loss: 0.0101 - accuracy: 1.0000 - val_loss: 0.3095 - val_accuracy: 0.8989\n",
      "Epoch 88/100\n",
      "84/84 [==============================] - 7s 83ms/step - loss: 0.0104 - accuracy: 1.0000 - val_loss: 0.3037 - val_accuracy: 0.9157\n",
      "Epoch 89/100\n",
      "84/84 [==============================] - 7s 83ms/step - loss: 0.0091 - accuracy: 1.0000 - val_loss: 0.3054 - val_accuracy: 0.9129\n",
      "Epoch 90/100\n",
      "84/84 [==============================] - 7s 83ms/step - loss: 0.0103 - accuracy: 1.0000 - val_loss: 0.3108 - val_accuracy: 0.9045\n",
      "Epoch 91/100\n",
      "84/84 [==============================] - 7s 83ms/step - loss: 0.0088 - accuracy: 1.0000 - val_loss: 0.3007 - val_accuracy: 0.9129\n",
      "Epoch 92/100\n",
      "84/84 [==============================] - 7s 83ms/step - loss: 0.0087 - accuracy: 1.0000 - val_loss: 0.3129 - val_accuracy: 0.9017\n",
      "Epoch 93/100\n",
      "84/84 [==============================] - 7s 83ms/step - loss: 0.0081 - accuracy: 1.0000 - val_loss: 0.3056 - val_accuracy: 0.9129\n",
      "Epoch 94/100\n",
      "84/84 [==============================] - 7s 83ms/step - loss: 0.0095 - accuracy: 1.0000 - val_loss: 0.3375 - val_accuracy: 0.8876\n",
      "Epoch 95/100\n",
      "84/84 [==============================] - 7s 83ms/step - loss: 0.2900 - accuracy: 0.9348 - val_loss: 1.3238 - val_accuracy: 0.6657\n",
      "Epoch 96/100\n",
      "84/84 [==============================] - 7s 83ms/step - loss: 0.0710 - accuracy: 0.9786 - val_loss: 0.3385 - val_accuracy: 0.8904\n",
      "Epoch 97/100\n",
      "84/84 [==============================] - 7s 83ms/step - loss: 0.0069 - accuracy: 1.0000 - val_loss: 0.3215 - val_accuracy: 0.8989\n",
      "Epoch 98/100\n",
      "84/84 [==============================] - 7s 83ms/step - loss: 0.0065 - accuracy: 1.0000 - val_loss: 0.3180 - val_accuracy: 0.9101\n",
      "Epoch 99/100\n",
      "84/84 [==============================] - 7s 83ms/step - loss: 0.0063 - accuracy: 1.0000 - val_loss: 0.3139 - val_accuracy: 0.9157\n",
      "Epoch 100/100\n",
      "84/84 [==============================] - 7s 83ms/step - loss: 0.0063 - accuracy: 1.0000 - val_loss: 0.3211 - val_accuracy: 0.9045\n"
     ]
    },
    {
     "data": {
      "text/plain": [
       "<keras.callbacks.History at 0x2afd105ce80>"
      ]
     },
     "execution_count": 43,
     "metadata": {},
     "output_type": "execute_result"
    }
   ],
   "source": [
    "from tensorflow.keras.callbacks import EarlyStopping\n",
    "early_stop = EarlyStopping(monitor = 'loss', patience = 5 )\n",
    "\n",
    "m1.fit(X_train,y_train,epochs=100, validation_data=(X_val,y_val), callbacks = [early_stop], verbose=1)"
   ]
  },
  {
   "cell_type": "code",
   "execution_count": 44,
   "metadata": {
    "id": "d6OA7oX-yByT"
   },
   "outputs": [],
   "source": [
    "# Get training history\n",
    "metrics = pd.DataFrame(m1.history.history)"
   ]
  },
  {
   "cell_type": "code",
   "execution_count": 45,
   "metadata": {
    "id": "2UX2rLb3D5iz"
   },
   "outputs": [
    {
     "name": "stdout",
     "output_type": "stream",
     "text": [
      "17/17 [==============================] - 4s 246ms/step - loss: 0.2746 - accuracy: 0.9120\n"
     ]
    },
    {
     "data": {
      "text/plain": [
       "[0.2745960056781769, 0.9119850397109985]"
      ]
     },
     "execution_count": 45,
     "metadata": {},
     "output_type": "execute_result"
    }
   ],
   "source": [
    "# Evaluate the model's accuarcy \n",
    "m1.evaluate(X_test, y_test)"
   ]
  },
  {
   "cell_type": "code",
   "execution_count": 54,
   "metadata": {},
   "outputs": [],
   "source": [
    "import os\n",
    "\n",
    "if not os.path.exists(\"./experiments\"):\n",
    "    os.mkdir(\"./experiments\")\n",
    "folders = os.listdir(\"./experiments\")\n",
    "exp_num = []\n",
    "for folder in folders:\n",
    "    exp_num.append(int(folder.split(\"#\")[1]))\n",
    "\n",
    "if len(exp_num) == 0:\n",
    "    exp_path = r\"./experiments/exp\"\n",
    "else:\n",
    "    exp_path = r\"./experiments/exp#\"+str(max(exp_num)+1)\n",
    "\n",
    "os.mkdir(exp_path)\n",
    "os.mkdir(os.path.join(exp_path, \"results\"))\n",
    "os.mkdir(os.path.join(exp_path, \"weights\"))\n",
    "\n",
    "results = os.path.join(exp_path, \"results\")\n",
    "weights = os.path.join(exp_path, \"weights\")"
   ]
  },
  {
   "cell_type": "code",
   "execution_count": 55,
   "metadata": {},
   "outputs": [
    {
     "name": "stdout",
     "output_type": "stream",
     "text": [
      "./experiments/exp\\results\n"
     ]
    }
   ],
   "source": [
    "print(results)"
   ]
  },
  {
   "cell_type": "code",
   "execution_count": 57,
   "metadata": {
    "id": "vs5CCwj993FX"
   },
   "outputs": [
    {
     "name": "stdout",
     "output_type": "stream",
     "text": [
      "17/17 [==============================] - 1s 77ms/step - loss: 0.2746 - accuracy: 0.9120\n"
     ]
    }
   ],
   "source": [
    "# Save The Trained model along with it training history   \n",
    "Accuracy = m1.evaluate(X_test, y_test)[-1]\n",
    "name = str(round(Accuracy, 4))\n",
    "\n",
    "metrics.to_pickle(os.path.join(results, name+'.pkl'))\n",
    "m1.save(os.path.join(weights, name + '.h5'))"
   ]
  },
  {
   "cell_type": "code",
   "execution_count": null,
   "metadata": {
    "id": "5F7i-oCwytup"
   },
   "outputs": [],
   "source": [
    "## Dispaly the plot of \n",
    "rows = 2\n",
    "columns = 1\n",
    "  \n",
    "# Display Train loss vs Validation loss at each Epoch\n",
    "fig = plt.figure(figsize=(10, 7))\n",
    "fig.add_subplot(rows, columns, 1)\n",
    "plt.plot(metrics['loss'])\n",
    "plt.plot(metrics['val_loss'])\n",
    "plt.title('Model Lossy')\n",
    "plt.ylabel('loss')\n",
    "plt.xlabel('epoch')\n",
    "plt.legend(['train', 'val'], loc='upper left')\n",
    "plt.show()\n",
    "  \n",
    "# Display Train loss vs Validation loss at each Epoch\n",
    "fig = plt.figure(figsize=(10, 7))\n",
    "fig.add_subplot(rows, columns, 2)\n",
    "plt.plot(metrics['accuracy'])\n",
    "plt.plot(metrics['val_accuracy'])\n",
    "plt.title('Model Accuracy')\n",
    "plt.ylabel('accuracy')\n",
    "plt.xlabel('epoch')\n",
    "plt.legend(['train', 'val'], loc='upper left')\n",
    "plt.show()\n"
   ]
  },
  {
   "cell_type": "code",
   "execution_count": null,
   "metadata": {
    "id": "HQOKaA8zfv4K"
   },
   "outputs": [],
   "source": [
    "## Get the \n",
    "predict_x = m1.predict(X_test) \n",
    "predictions = np.argmax(predict_x,axis=1) "
   ]
  },
  {
   "cell_type": "code",
   "execution_count": null,
   "metadata": {
    "id": "xy9_ZzsYkByi"
   },
   "outputs": [],
   "source": [
    "# Decode the Model's predections  (from [0,1,0,2..] to ['Glioma','Meningioma'...]) of the Test set using the the dictionary 'decode_dict' \n",
    "predictions = np.vectorize(decode_dict.get)(predictions)"
   ]
  },
  {
   "cell_type": "code",
   "execution_count": null,
   "metadata": {
    "id": "IVYX1MCzjx00"
   },
   "outputs": [],
   "source": [
    "print(classification_report(y_test_eval, predictions))"
   ]
  },
  {
   "cell_type": "code",
   "execution_count": null,
   "metadata": {
    "id": "HOVPJjy0udhD"
   },
   "outputs": [],
   "source": [
    "cm = pd.DataFrame(confusion_matrix(y_test_eval, predictions))\n",
    "plt.figure(figsize = (10,7))\n",
    "plt.title('Confusion matrix')\n",
    "sns.heatmap(cm, annot=True, cmap=\"PuBu\",fmt = 'd')\n",
    "plt.ylabel('True labels')\n",
    "plt.xlabel('Predicted labels')"
   ]
  },
  {
   "cell_type": "code",
   "execution_count": null,
   "metadata": {
    "id": "7_fru9v4mHup"
   },
   "outputs": [],
   "source": []
  }
 ],
 "metadata": {
  "accelerator": "GPU",
  "colab": {
   "collapsed_sections": [],
   "name": "5_labels_model_v1.ipynb",
   "provenance": []
  },
  "kernelspec": {
   "display_name": "Python 3 (ipykernel)",
   "language": "python",
   "name": "python3"
  },
  "language_info": {
   "codemirror_mode": {
    "name": "ipython",
    "version": 3
   },
   "file_extension": ".py",
   "mimetype": "text/x-python",
   "name": "python",
   "nbconvert_exporter": "python",
   "pygments_lexer": "ipython3",
   "version": "3.9.7"
  }
 },
 "nbformat": 4,
 "nbformat_minor": 1
}
