{
 "cells": [
  {
   "cell_type": "markdown",
   "metadata": {
    "id": "vt51_KACTdGf"
   },
   "source": [
    "## 0. Setting up the Environment\n"
   ]
  },
  {
   "cell_type": "code",
   "execution_count": 1,
   "metadata": {
    "colab": {
     "base_uri": "https://localhost:8080/"
    },
    "id": "D4Z6Zv3PSOcg",
    "outputId": "b87040f7-50f1-4633-bcd9-415194d37d2e"
   },
   "outputs": [],
   "source": [
    "## impoort labaries \n",
    "import os \n",
    "import cv2\n",
    "import mat73\n",
    "import time\n",
    "import pandas as pd\n",
    "import numpy as np \n",
    "import seaborn as sns\n",
    "import skimage\n",
    "import tensorflow as tf\n",
    "import matplotlib.pyplot as plt\n",
    "from PIL import Image, ImageOps \n",
    "from skimage.transform import resize\n",
    "from keras.models import Sequential\n",
    "from tensorflow.keras import optimizers\n",
    "from tqdm.notebook import tqdm_notebook as tqdm\n",
    "from sklearn.metrics import classification_report, confusion_matrix\n",
    "from keras.layers import Conv2D, MaxPooling2D, Flatten, Dense, Dropout, BatchNormalization,  Convolution2D"
   ]
  },
  {
   "cell_type": "markdown",
   "metadata": {
    "id": "sYWmkuxOWtm4"
   },
   "source": [
    "## 1. Data Importing "
   ]
  },
  {
   "cell_type": "code",
   "execution_count": 2,
   "metadata": {},
   "outputs": [],
   "source": [
    "SIZE_X = 128\n",
    "SIZE_Y = 128\n",
    "\n",
    "aug_train_DF = pd.read_pickle(r\"../../../Datasets/Dataset_B/aug_train_DF_{}.pkl\".format(SIZE_X))\n",
    "aug_val_DF = pd.read_pickle(r\"../../../Datasets/Dataset_B/aug_val_DF_{}.pkl\".format(SIZE_X))\n",
    "aug_test_DF = pd.read_pickle(r\"../../../Datasets/Dataset_B/aug_test_DF_{}.pkl\".format(SIZE_X))"
   ]
  },
  {
   "cell_type": "code",
   "execution_count": 3,
   "metadata": {
    "colab": {
     "background_save": true
    },
    "id": "kaaNJb4nR5Z5",
    "outputId": "229fd2a5-846a-4168-abdf-2db9f91c282d"
   },
   "outputs": [
    {
     "data": {
      "text/html": [
       "<div>\n",
       "<style scoped>\n",
       "    .dataframe tbody tr th:only-of-type {\n",
       "        vertical-align: middle;\n",
       "    }\n",
       "\n",
       "    .dataframe tbody tr th {\n",
       "        vertical-align: top;\n",
       "    }\n",
       "\n",
       "    .dataframe thead th {\n",
       "        text-align: right;\n",
       "    }\n",
       "</style>\n",
       "<table border=\"1\" class=\"dataframe\">\n",
       "  <thead>\n",
       "    <tr style=\"text-align: right;\">\n",
       "      <th></th>\n",
       "      <th>PID</th>\n",
       "      <th>Label</th>\n",
       "      <th>Image</th>\n",
       "      <th>File</th>\n",
       "    </tr>\n",
       "  </thead>\n",
       "  <tbody>\n",
       "    <tr>\n",
       "      <th>6048</th>\n",
       "      <td>103582</td>\n",
       "      <td>Pituitary</td>\n",
       "      <td>[[0, 0, 0, 0, 0, 0, 0, 0, 0, 0, 0, 0, 0, 0, 0,...</td>\n",
       "      <td>1507.mat</td>\n",
       "    </tr>\n",
       "    <tr>\n",
       "      <th>538</th>\n",
       "      <td>HF1122</td>\n",
       "      <td>Glioma VI</td>\n",
       "      <td>[[0, 0, 0, 0, 0, 0, 0, 0, 0, 0, 0, 0, 0, 0, 0,...</td>\n",
       "      <td>D:\\Datasets\\manifest-tXudPFfp43472957274060920...</td>\n",
       "    </tr>\n",
       "    <tr>\n",
       "      <th>4263</th>\n",
       "      <td>103582</td>\n",
       "      <td>Pituitary</td>\n",
       "      <td>[[0, 0, 0, 0, 0, 0, 0, 0, 0, 0, 0, 0, 0, 0, 0,...</td>\n",
       "      <td>1699.mat</td>\n",
       "    </tr>\n",
       "    <tr>\n",
       "      <th>13609</th>\n",
       "      <td>HF1058</td>\n",
       "      <td>Glioma VI</td>\n",
       "      <td>[[0, 0, 0, 0, 0, 0, 0, 0, 1, 0, 0, 0, 0, 0, 0,...</td>\n",
       "      <td>D:\\Datasets\\manifest-tXudPFfp43472957274060920...</td>\n",
       "    </tr>\n",
       "    <tr>\n",
       "      <th>7724</th>\n",
       "      <td>104912</td>\n",
       "      <td>Pituitary</td>\n",
       "      <td>[[0.0, 0.0, 0.0, 0.0, 0.0, 0.0, 0.0, 0.0, 0.0,...</td>\n",
       "      <td>1741.mat</td>\n",
       "    </tr>\n",
       "  </tbody>\n",
       "</table>\n",
       "</div>"
      ],
      "text/plain": [
       "          PID      Label                                              Image  \\\n",
       "6048   103582  Pituitary  [[0, 0, 0, 0, 0, 0, 0, 0, 0, 0, 0, 0, 0, 0, 0,...   \n",
       "538    HF1122  Glioma VI  [[0, 0, 0, 0, 0, 0, 0, 0, 0, 0, 0, 0, 0, 0, 0,...   \n",
       "4263   103582  Pituitary  [[0, 0, 0, 0, 0, 0, 0, 0, 0, 0, 0, 0, 0, 0, 0,...   \n",
       "13609  HF1058  Glioma VI  [[0, 0, 0, 0, 0, 0, 0, 0, 1, 0, 0, 0, 0, 0, 0,...   \n",
       "7724   104912  Pituitary  [[0.0, 0.0, 0.0, 0.0, 0.0, 0.0, 0.0, 0.0, 0.0,...   \n",
       "\n",
       "                                                    File  \n",
       "6048                                            1507.mat  \n",
       "538    D:\\Datasets\\manifest-tXudPFfp43472957274060920...  \n",
       "4263                                            1699.mat  \n",
       "13609  D:\\Datasets\\manifest-tXudPFfp43472957274060920...  \n",
       "7724                                            1741.mat  "
      ]
     },
     "execution_count": 3,
     "metadata": {},
     "output_type": "execute_result"
    }
   ],
   "source": [
    "## Combain the df with the Pitutary & Meningioma types with the dataframe of the Glioma grades (I, II,, IV).\n",
    "\n",
    "pd.concat([aug_train_DF, aug_val_DF, aug_test_DF], axis=0, ignore_index = True).sample(5)"
   ]
  },
  {
   "cell_type": "code",
   "execution_count": 4,
   "metadata": {
    "colab": {
     "background_save": true
    },
    "id": "uJEttBBOU9IN",
    "outputId": "d176e92f-d35f-4f92-a264-ead1e87244e6"
   },
   "outputs": [
    {
     "name": "stderr",
     "output_type": "stream",
     "text": [
      "C:\\Users\\Ma7moud\\anaconda3\\envs\\T-UNet\\lib\\site-packages\\seaborn\\_decorators.py:36: FutureWarning: Pass the following variable as a keyword arg: x. From version 0.12, the only valid positional argument will be `data`, and passing other arguments without an explicit keyword will result in an error or misinterpretation.\n",
      "  warnings.warn(\n"
     ]
    },
    {
     "data": {
      "image/png": "[encoded data removed]",
      "text/plain": [
       "<Figure size 432x288 with 1 Axes>"
      ]
     },
     "metadata": {
      "needs_background": "light"
     },
     "output_type": "display_data"
    }
   ],
   "source": [
    "sns.countplot(pd.concat([aug_train_DF, aug_val_DF, aug_test_DF], axis=0, ignore_index = True).Label)\n",
    "plt.show()"
   ]
  },
  {
   "cell_type": "code",
   "execution_count": 5,
   "metadata": {
    "colab": {
     "background_save": true
    },
    "id": "AWLSJpw6WVVo",
    "outputId": "348d3fee-c3a5-442d-96af-5711dec23128"
   },
   "outputs": [
    {
     "data": {
      "image/png": "[encoded data removed]",
      "text/plain": [
       "<Figure size 432x288 with 1 Axes>"
      ]
     },
     "metadata": {},
     "output_type": "display_data"
    }
   ],
   "source": [
    "data = pd.concat([aug_train_DF, aug_val_DF, aug_test_DF], axis=0, ignore_index = True).groupby(\"Label\")[\"Label\"].count()\n",
    "data.plot.pie(autopct=\"%.1f%%\");"
   ]
  },
  {
   "cell_type": "markdown",
   "metadata": {
    "id": "Zf3vh4d7w3ZP"
   },
   "source": [
    "## 2. Data-Preprocessing "
   ]
  },
  {
   "cell_type": "markdown",
   "metadata": {
    "id": "Kd502KoZONei"
   },
   "source": [
    "### 2.1 Image Resizing \n"
   ]
  },
  {
   "cell_type": "markdown",
   "metadata": {
    "id": "oDIYJ9-3OWho"
   },
   "source": [
    "### 2.2 Data Augmentation"
   ]
  },
  {
   "cell_type": "markdown",
   "metadata": {},
   "source": [
    "### 2.3 Grayscale to RGB"
   ]
  },
  {
   "cell_type": "code",
   "execution_count": 6,
   "metadata": {
    "colab": {
     "background_save": true
    },
    "id": "hzz5yapeG-M7",
    "outputId": "0d2f1eb1-953a-4141-8ab9-4cb02b8519e8"
   },
   "outputs": [],
   "source": [
    "def normalize(img):\n",
    "    plt.imsave('DR.png', img, cmap='gray')\n",
    "    return cv2.imread('DR.png')"
   ]
  },
  {
   "cell_type": "code",
   "execution_count": 7,
   "metadata": {},
   "outputs": [],
   "source": [
    "aug_train_DF[\"Image\"] = aug_train_DF[\"Image\"].apply(normalize)\n",
    "aug_val_DF[\"Image\"] = aug_val_DF[\"Image\"].apply(normalize)\n",
    "aug_test_DF[\"Image\"] = aug_test_DF[\"Image\"].apply(normalize)"
   ]
  },
  {
   "cell_type": "markdown",
   "metadata": {
    "id": "yg8moTnTaNeT"
   },
   "source": [
    "### 2.4 Splitting Data into Train, Test, and Validation Sets"
   ]
  },
  {
   "cell_type": "code",
   "execution_count": 8,
   "metadata": {},
   "outputs": [],
   "source": [
    "y_train = aug_train_DF[\"Label\"]\n",
    "X_train = aug_train_DF['Image'].tolist()\n",
    "X_train = np.array(X_train).reshape(-1, SIZE_X, SIZE_Y, 3)\n",
    "\n",
    "\n",
    "y_val = aug_val_DF[\"Label\"]\n",
    "X_val = aug_val_DF['Image'].tolist()\n",
    "X_val = np.array(X_val).reshape(-1, SIZE_X, SIZE_Y, 3)\n",
    "\n",
    "y_test = aug_test_DF[\"Label\"]\n",
    "X_test = aug_test_DF['Image'].tolist()\n",
    "X_test = np.array(X_test).reshape(-1, SIZE_X, SIZE_Y, 3)\n"
   ]
  },
  {
   "cell_type": "code",
   "execution_count": 9,
   "metadata": {},
   "outputs": [
    {
     "name": "stdout",
     "output_type": "stream",
     "text": [
      "X_train shape: (10676, 128, 128, 3) | y_train shape: (10676,)\n",
      "X_val shape  : (1424, 128, 128, 3)  | y_test shape :  (1424,)\n",
      "X_test shape : (2136, 128, 128, 3)  | y_test shape :  (2136,)\n"
     ]
    }
   ],
   "source": [
    "print(\"X_train shape:\", X_train.shape,\"| y_train shape:\", y_train.shape)\n",
    "print(\"X_val shape  :\",X_val.shape,\" | y_test shape : \", y_val.shape)\n",
    "print(\"X_test shape :\",X_test.shape,\" | y_test shape : \", y_test.shape)"
   ]
  },
  {
   "cell_type": "markdown",
   "metadata": {},
   "source": [
    "### 2.5 One-Hot Encode the labels "
   ]
  },
  {
   "cell_type": "code",
   "execution_count": 10,
   "metadata": {
    "colab": {
     "background_save": true
    },
    "id": "uR_Cv0khfpyS",
    "outputId": "0fa96dd1-5899-45b2-9d73-5fcbc132a797"
   },
   "outputs": [],
   "source": [
    "# saving a copy of the testing labels before one hot encoding\n",
    "y_test_eval = y_test\n",
    "# one hot endcoding the labels \n",
    "y_train = pd.get_dummies(y_train)\n",
    "y_test  = pd.get_dummies(y_test)\n",
    "y_val   = pd.get_dummies(y_val)"
   ]
  },
  {
   "cell_type": "code",
   "execution_count": 11,
   "metadata": {},
   "outputs": [
    {
     "name": "stdout",
     "output_type": "stream",
     "text": [
      "X_train shape: (10676, 128, 128, 3) | y_train shape: (10676, 5)\n",
      "X_test shape : (2136, 128, 128, 3)  | y_test shape:  (2136, 5)\n",
      "X_val shape  : (1424, 128, 128, 3)  | y_val shape :  (1424, 5)\n",
      "\n",
      "Total number: 14236\n"
     ]
    }
   ],
   "source": [
    "print(\"X_train shape:\", X_train.shape,\"| y_train shape:\", y_train.shape)\n",
    "print(\"X_test shape :\",X_test.shape,\" | y_test shape: \", y_test.shape)\n",
    "print(\"X_val shape  :\",X_val.shape,\" | y_val shape : \", y_val.shape)\n",
    "print(\"\\nTotal number: {}\".format(len(aug_train_DF)+len(aug_val_DF)+len(aug_test_DF)))"
   ]
  },
  {
   "cell_type": "code",
   "execution_count": 12,
   "metadata": {
    "colab": {
     "background_save": true
    },
    "id": "3DctvR_fVPlF",
    "outputId": "bdf93bfa-b00d-49a3-99c8-f2bde2731658"
   },
   "outputs": [
    {
     "data": {
      "text/html": [
       "<div>\n",
       "<style scoped>\n",
       "    .dataframe tbody tr th:only-of-type {\n",
       "        vertical-align: middle;\n",
       "    }\n",
       "\n",
       "    .dataframe tbody tr th {\n",
       "        vertical-align: top;\n",
       "    }\n",
       "\n",
       "    .dataframe thead th {\n",
       "        text-align: right;\n",
       "    }\n",
       "</style>\n",
       "<table border=\"1\" class=\"dataframe\">\n",
       "  <thead>\n",
       "    <tr style=\"text-align: right;\">\n",
       "      <th></th>\n",
       "      <th>Glioma II</th>\n",
       "      <th>Glioma III</th>\n",
       "      <th>Glioma VI</th>\n",
       "      <th>Meningioma</th>\n",
       "      <th>Pituitary</th>\n",
       "    </tr>\n",
       "  </thead>\n",
       "  <tbody>\n",
       "    <tr>\n",
       "      <th>0</th>\n",
       "      <td>1</td>\n",
       "      <td>0</td>\n",
       "      <td>0</td>\n",
       "      <td>0</td>\n",
       "      <td>0</td>\n",
       "    </tr>\n",
       "    <tr>\n",
       "      <th>1</th>\n",
       "      <td>0</td>\n",
       "      <td>0</td>\n",
       "      <td>0</td>\n",
       "      <td>0</td>\n",
       "      <td>1</td>\n",
       "    </tr>\n",
       "    <tr>\n",
       "      <th>2</th>\n",
       "      <td>1</td>\n",
       "      <td>0</td>\n",
       "      <td>0</td>\n",
       "      <td>0</td>\n",
       "      <td>0</td>\n",
       "    </tr>\n",
       "    <tr>\n",
       "      <th>3</th>\n",
       "      <td>0</td>\n",
       "      <td>0</td>\n",
       "      <td>0</td>\n",
       "      <td>1</td>\n",
       "      <td>0</td>\n",
       "    </tr>\n",
       "    <tr>\n",
       "      <th>4</th>\n",
       "      <td>0</td>\n",
       "      <td>0</td>\n",
       "      <td>0</td>\n",
       "      <td>0</td>\n",
       "      <td>1</td>\n",
       "    </tr>\n",
       "    <tr>\n",
       "      <th>...</th>\n",
       "      <td>...</td>\n",
       "      <td>...</td>\n",
       "      <td>...</td>\n",
       "      <td>...</td>\n",
       "      <td>...</td>\n",
       "    </tr>\n",
       "    <tr>\n",
       "      <th>2131</th>\n",
       "      <td>0</td>\n",
       "      <td>0</td>\n",
       "      <td>0</td>\n",
       "      <td>0</td>\n",
       "      <td>1</td>\n",
       "    </tr>\n",
       "    <tr>\n",
       "      <th>2132</th>\n",
       "      <td>1</td>\n",
       "      <td>0</td>\n",
       "      <td>0</td>\n",
       "      <td>0</td>\n",
       "      <td>0</td>\n",
       "    </tr>\n",
       "    <tr>\n",
       "      <th>2133</th>\n",
       "      <td>0</td>\n",
       "      <td>0</td>\n",
       "      <td>0</td>\n",
       "      <td>0</td>\n",
       "      <td>1</td>\n",
       "    </tr>\n",
       "    <tr>\n",
       "      <th>2134</th>\n",
       "      <td>0</td>\n",
       "      <td>0</td>\n",
       "      <td>1</td>\n",
       "      <td>0</td>\n",
       "      <td>0</td>\n",
       "    </tr>\n",
       "    <tr>\n",
       "      <th>2135</th>\n",
       "      <td>0</td>\n",
       "      <td>0</td>\n",
       "      <td>0</td>\n",
       "      <td>1</td>\n",
       "      <td>0</td>\n",
       "    </tr>\n",
       "  </tbody>\n",
       "</table>\n",
       "<p>2136 rows × 5 columns</p>\n",
       "</div>"
      ],
      "text/plain": [
       "      Glioma II  Glioma III  Glioma VI  Meningioma  Pituitary\n",
       "0             1           0          0           0          0\n",
       "1             0           0          0           0          1\n",
       "2             1           0          0           0          0\n",
       "3             0           0          0           1          0\n",
       "4             0           0          0           0          1\n",
       "...         ...         ...        ...         ...        ...\n",
       "2131          0           0          0           0          1\n",
       "2132          1           0          0           0          0\n",
       "2133          0           0          0           0          1\n",
       "2134          0           0          1           0          0\n",
       "2135          0           0          0           1          0\n",
       "\n",
       "[2136 rows x 5 columns]"
      ]
     },
     "execution_count": 12,
     "metadata": {},
     "output_type": "execute_result"
    }
   ],
   "source": [
    "y_test"
   ]
  },
  {
   "cell_type": "code",
   "execution_count": 13,
   "metadata": {
    "colab": {
     "background_save": true
    },
    "id": "jWFIvPjtiNio"
   },
   "outputs": [],
   "source": [
    "## This Dictionary is used to decode the model's predicted values.  \n",
    "decode_dict = {0 : \"Glioma II\", 1 : \"Glioma III\", 2 : \"Glioma VI\", 3: \"Meningioma\", 4: \"Pituitary\"}"
   ]
  },
  {
   "cell_type": "code",
   "execution_count": 14,
   "metadata": {
    "colab": {
     "background_save": true
    },
    "id": "PcsCoY3jggfU",
    "outputId": "3b3c30b0-a9af-4923-a318-cea2b5587807"
   },
   "outputs": [
    {
     "data": {
      "image/png": "[encoded data removed]",
      "text/plain": [
       "<Figure size 936x576 with 1 Axes>"
      ]
     },
     "metadata": {},
     "output_type": "display_data"
    }
   ],
   "source": [
    "import matplotlib.pyplot as plt\n",
    "import numpy as np\n",
    "##  Creating a Pie chart illustrating the percentage of the train, validation, test sets.\n",
    "Data = np.array([len(y_train), len(y_test), len(y_val)])\n",
    "mylabels = [\"Test Set\", \"Test Set\", \"Validation Set\"]\n",
    "plt.figure(figsize=(13, 8))\n",
    "plt.pie(Data, labels = mylabels, autopct=\"%.1f%%\", )\n",
    "plt.legend()\n",
    "plt.show() "
   ]
  },
  {
   "cell_type": "markdown",
   "metadata": {
    "id": "zDCzea2Klw_1"
   },
   "source": [
    "## 3. Models Creation\n"
   ]
  },
  {
   "cell_type": "code",
   "execution_count": 15,
   "metadata": {
    "colab": {
     "background_save": true
    },
    "id": "K58Sn8Gt_6v9"
   },
   "outputs": [
    {
     "name": "stdout",
     "output_type": "stream",
     "text": [
      "Model: \"model\"\n",
      "_________________________________________________________________\n",
      "Layer (type)                 Output Shape              Param #   \n",
      "=================================================================\n",
      "input_1 (InputLayer)         [(None, 128, 128, 3)]     0         \n",
      "_________________________________________________________________\n",
      "block1_conv1 (Conv2D)        (None, 128, 128, 64)      1792      \n",
      "_________________________________________________________________\n",
      "block1_conv2 (Conv2D)        (None, 128, 128, 64)      36928     \n",
      "_________________________________________________________________\n",
      "block1_pool (MaxPooling2D)   (None, 64, 64, 64)        0         \n",
      "_________________________________________________________________\n",
      "block2_conv1 (Conv2D)        (None, 64, 64, 128)       73856     \n",
      "_________________________________________________________________\n",
      "block2_conv2 (Conv2D)        (None, 64, 64, 128)       147584    \n",
      "_________________________________________________________________\n",
      "block2_pool (MaxPooling2D)   (None, 32, 32, 128)       0         \n",
      "_________________________________________________________________\n",
      "block3_conv1 (Conv2D)        (None, 32, 32, 256)       295168    \n",
      "_________________________________________________________________\n",
      "block3_conv2 (Conv2D)        (None, 32, 32, 256)       590080    \n",
      "_________________________________________________________________\n",
      "block3_conv3 (Conv2D)        (None, 32, 32, 256)       590080    \n",
      "_________________________________________________________________\n",
      "block3_pool (MaxPooling2D)   (None, 16, 16, 256)       0         \n",
      "_________________________________________________________________\n",
      "block4_conv1 (Conv2D)        (None, 16, 16, 512)       1180160   \n",
      "_________________________________________________________________\n",
      "block4_conv2 (Conv2D)        (None, 16, 16, 512)       2359808   \n",
      "_________________________________________________________________\n",
      "block4_conv3 (Conv2D)        (None, 16, 16, 512)       2359808   \n",
      "_________________________________________________________________\n",
      "block4_pool (MaxPooling2D)   (None, 8, 8, 512)         0         \n",
      "_________________________________________________________________\n",
      "block5_conv1 (Conv2D)        (None, 8, 8, 512)         2359808   \n",
      "_________________________________________________________________\n",
      "block5_conv2 (Conv2D)        (None, 8, 8, 512)         2359808   \n",
      "_________________________________________________________________\n",
      "block5_conv3 (Conv2D)        (None, 8, 8, 512)         2359808   \n",
      "_________________________________________________________________\n",
      "block5_pool (MaxPooling2D)   (None, 4, 4, 512)         0         \n",
      "_________________________________________________________________\n",
      "flatten (Flatten)            (None, 8192)              0         \n",
      "_________________________________________________________________\n",
      "dense (Dense)                (None, 5)                 40965     \n",
      "=================================================================\n",
      "Total params: 14,755,653\n",
      "Trainable params: 40,965\n",
      "Non-trainable params: 14,714,688\n",
      "_________________________________________________________________\n"
     ]
    }
   ],
   "source": [
    "from keras.models import Sequential\n",
    "from keras.layers import Conv2D, MaxPooling2D, Flatten, Dense, Dropout, BatchNormalization,  Convolution2D, Input, Lambda\n",
    "import tensorflow as tf\n",
    "import time\n",
    "from tensorflow.keras import optimizers\n",
    "from keras.models import Model\n",
    "from keras.applications.vgg16 import VGG16\n",
    "from keras.applications.vgg16 import preprocess_input\n",
    "from glob import glob\n",
    "\n",
    "X_train = preprocess_input(X_train)\n",
    "X_val = preprocess_input(X_val)\n",
    "X_test = preprocess_input(X_test)\n",
    "\n",
    "VGG16 = VGG16(include_top=False, weights=None, input_shape = (SIZE_X, SIZE_Y, 3))\n",
    "\n",
    "for layer in VGG16.layers:\n",
    "    layer.trainable = False\n",
    "\n",
    "# Dense Lyers\n",
    "x = Flatten()(VGG16.output)\n",
    "outLayers = Dense(5, activation='softmax')(x)\n",
    "\n",
    "m1 = Model(inputs = VGG16.input, outputs = outLayers)\n",
    "\n",
    "m1.summary()\n",
    "m1.compile(loss='categorical_crossentropy', optimizer='adam', metrics=['accuracy'])"
   ]
  },
  {
   "cell_type": "markdown",
   "metadata": {
    "id": "6aAVYS26t6c3"
   },
   "source": [
    "### 4. Model Training\n"
   ]
  },
  {
   "cell_type": "code",
   "execution_count": 17,
   "metadata": {
    "id": "LGT4MVY3tkyz"
   },
   "outputs": [
    {
     "name": "stdout",
     "output_type": "stream",
     "text": [
      "Epoch 1/150\n",
      "334/334 [==============================] - 15s 35ms/step - loss: 1.2063 - accuracy: 0.5042 - val_loss: 1.0226 - val_accuracy: 0.5906\n",
      "Epoch 2/150\n",
      "334/334 [==============================] - 9s 27ms/step - loss: 0.9545 - accuracy: 0.6112 - val_loss: 0.9212 - val_accuracy: 0.6124\n",
      "Epoch 3/150\n",
      "334/334 [==============================] - 9s 27ms/step - loss: 0.8547 - accuracy: 0.6576 - val_loss: 0.8231 - val_accuracy: 0.6728\n",
      "Epoch 4/150\n",
      "334/334 [==============================] - 9s 27ms/step - loss: 0.7866 - accuracy: 0.6968 - val_loss: 0.9317 - val_accuracy: 0.6426\n",
      "Epoch 5/150\n",
      "334/334 [==============================] - 9s 27ms/step - loss: 0.7523 - accuracy: 0.7010 - val_loss: 0.7966 - val_accuracy: 0.6770\n",
      "Epoch 6/150\n",
      "334/334 [==============================] - 9s 27ms/step - loss: 0.6910 - accuracy: 0.7379 - val_loss: 0.6993 - val_accuracy: 0.7205\n",
      "Epoch 7/150\n",
      "334/334 [==============================] - 9s 27ms/step - loss: 0.6703 - accuracy: 0.7454 - val_loss: 0.6730 - val_accuracy: 0.7437\n",
      "Epoch 8/150\n",
      "334/334 [==============================] - 9s 27ms/step - loss: 0.6463 - accuracy: 0.7554 - val_loss: 0.6355 - val_accuracy: 0.7591\n",
      "Epoch 9/150\n",
      "334/334 [==============================] - 9s 27ms/step - loss: 0.6095 - accuracy: 0.7719 - val_loss: 0.6609 - val_accuracy: 0.7381\n",
      "Epoch 10/150\n",
      "334/334 [==============================] - 9s 27ms/step - loss: 0.5884 - accuracy: 0.7796 - val_loss: 0.6369 - val_accuracy: 0.7360\n",
      "Epoch 11/150\n",
      "334/334 [==============================] - 9s 27ms/step - loss: 0.5709 - accuracy: 0.7879 - val_loss: 0.6418 - val_accuracy: 0.7346\n",
      "Epoch 12/150\n",
      "334/334 [==============================] - 9s 27ms/step - loss: 0.5514 - accuracy: 0.7977 - val_loss: 0.6973 - val_accuracy: 0.7044\n",
      "Epoch 13/150\n",
      "334/334 [==============================] - 9s 27ms/step - loss: 0.5418 - accuracy: 0.7958 - val_loss: 0.5596 - val_accuracy: 0.7865\n",
      "Epoch 14/150\n",
      "334/334 [==============================] - 9s 27ms/step - loss: 0.5189 - accuracy: 0.8123 - val_loss: 0.5735 - val_accuracy: 0.7858\n",
      "Epoch 15/150\n",
      "334/334 [==============================] - 9s 27ms/step - loss: 0.5022 - accuracy: 0.8200 - val_loss: 0.5754 - val_accuracy: 0.7662\n",
      "Epoch 16/150\n",
      "334/334 [==============================] - 9s 27ms/step - loss: 0.4918 - accuracy: 0.8167 - val_loss: 0.5459 - val_accuracy: 0.7992\n",
      "Epoch 17/150\n",
      "334/334 [==============================] - 9s 27ms/step - loss: 0.4828 - accuracy: 0.8217 - val_loss: 0.6358 - val_accuracy: 0.7107\n",
      "Epoch 18/150\n",
      "334/334 [==============================] - 9s 27ms/step - loss: 0.4503 - accuracy: 0.8432 - val_loss: 0.5342 - val_accuracy: 0.7985\n",
      "Epoch 19/150\n",
      "334/334 [==============================] - 9s 27ms/step - loss: 0.4589 - accuracy: 0.8360 - val_loss: 0.5113 - val_accuracy: 0.8076\n",
      "Epoch 20/150\n",
      "334/334 [==============================] - 9s 27ms/step - loss: 0.4464 - accuracy: 0.8398 - val_loss: 0.5052 - val_accuracy: 0.8118\n",
      "Epoch 21/150\n",
      "334/334 [==============================] - 9s 27ms/step - loss: 0.4260 - accuracy: 0.8541 - val_loss: 0.5168 - val_accuracy: 0.7942\n",
      "Epoch 22/150\n",
      "334/334 [==============================] - 9s 27ms/step - loss: 0.4199 - accuracy: 0.8562 - val_loss: 0.4861 - val_accuracy: 0.8244\n",
      "Epoch 23/150\n",
      "334/334 [==============================] - 9s 27ms/step - loss: 0.4147 - accuracy: 0.8506 - val_loss: 0.4941 - val_accuracy: 0.8230\n",
      "Epoch 24/150\n",
      "334/334 [==============================] - 9s 27ms/step - loss: 0.4027 - accuracy: 0.8597 - val_loss: 0.5826 - val_accuracy: 0.7374\n",
      "Epoch 25/150\n",
      "334/334 [==============================] - 9s 27ms/step - loss: 0.3942 - accuracy: 0.8626 - val_loss: 0.4761 - val_accuracy: 0.8294\n",
      "Epoch 26/150\n",
      "334/334 [==============================] - 9s 27ms/step - loss: 0.3814 - accuracy: 0.8725 - val_loss: 0.4863 - val_accuracy: 0.8308\n",
      "Epoch 27/150\n",
      "334/334 [==============================] - 9s 28ms/step - loss: 0.3672 - accuracy: 0.8809 - val_loss: 0.4438 - val_accuracy: 0.8371\n",
      "Epoch 28/150\n",
      "334/334 [==============================] - 9s 27ms/step - loss: 0.3692 - accuracy: 0.8716 - val_loss: 0.6373 - val_accuracy: 0.7367\n",
      "Epoch 29/150\n",
      "334/334 [==============================] - 9s 27ms/step - loss: 0.3649 - accuracy: 0.8747 - val_loss: 0.4621 - val_accuracy: 0.8301\n",
      "Epoch 30/150\n",
      "334/334 [==============================] - 9s 27ms/step - loss: 0.3523 - accuracy: 0.8839 - val_loss: 0.4457 - val_accuracy: 0.8378\n",
      "Epoch 31/150\n",
      "334/334 [==============================] - 9s 27ms/step - loss: 0.3453 - accuracy: 0.8894 - val_loss: 0.4845 - val_accuracy: 0.8153\n",
      "Epoch 32/150\n",
      "334/334 [==============================] - 9s 27ms/step - loss: 0.3382 - accuracy: 0.8929 - val_loss: 0.5052 - val_accuracy: 0.7928\n",
      "Epoch 33/150\n",
      "334/334 [==============================] - 9s 27ms/step - loss: 0.3500 - accuracy: 0.8787 - val_loss: 0.4540 - val_accuracy: 0.8308\n",
      "Epoch 34/150\n",
      "334/334 [==============================] - 9s 27ms/step - loss: 0.3247 - accuracy: 0.8964 - val_loss: 0.4949 - val_accuracy: 0.8104\n",
      "Epoch 35/150\n",
      "334/334 [==============================] - 9s 27ms/step - loss: 0.3145 - accuracy: 0.9006 - val_loss: 0.4258 - val_accuracy: 0.8441\n",
      "Epoch 36/150\n",
      "334/334 [==============================] - 9s 27ms/step - loss: 0.3199 - accuracy: 0.8975 - val_loss: 0.5042 - val_accuracy: 0.8013\n",
      "Epoch 37/150\n",
      "334/334 [==============================] - 9s 27ms/step - loss: 0.3159 - accuracy: 0.8960 - val_loss: 0.4714 - val_accuracy: 0.8118\n",
      "Epoch 38/150\n",
      "334/334 [==============================] - 9s 27ms/step - loss: 0.2987 - accuracy: 0.9095 - val_loss: 0.4507 - val_accuracy: 0.8230\n",
      "Epoch 39/150\n",
      "334/334 [==============================] - 9s 27ms/step - loss: 0.3095 - accuracy: 0.8972 - val_loss: 0.4415 - val_accuracy: 0.8174\n",
      "Epoch 40/150\n",
      "334/334 [==============================] - 9s 27ms/step - loss: 0.2976 - accuracy: 0.9082 - val_loss: 0.4626 - val_accuracy: 0.8167\n",
      "Epoch 41/150\n",
      "334/334 [==============================] - 9s 28ms/step - loss: 0.2962 - accuracy: 0.9038 - val_loss: 0.4150 - val_accuracy: 0.8378\n",
      "Epoch 42/150\n",
      "334/334 [==============================] - 9s 27ms/step - loss: 0.2848 - accuracy: 0.9133 - val_loss: 0.4061 - val_accuracy: 0.8469\n",
      "Epoch 43/150\n",
      "334/334 [==============================] - 9s 27ms/step - loss: 0.2795 - accuracy: 0.9151 - val_loss: 0.4234 - val_accuracy: 0.8336\n",
      "Epoch 44/150\n",
      "334/334 [==============================] - 9s 27ms/step - loss: 0.2720 - accuracy: 0.9158 - val_loss: 0.4615 - val_accuracy: 0.8223\n",
      "Epoch 45/150\n",
      "334/334 [==============================] - 9s 27ms/step - loss: 0.2727 - accuracy: 0.9185 - val_loss: 0.3973 - val_accuracy: 0.8462\n",
      "Epoch 46/150\n",
      "334/334 [==============================] - 9s 27ms/step - loss: 0.2737 - accuracy: 0.9159 - val_loss: 0.3953 - val_accuracy: 0.8476\n",
      "Epoch 47/150\n",
      "334/334 [==============================] - 9s 27ms/step - loss: 0.2648 - accuracy: 0.9223 - val_loss: 0.4133 - val_accuracy: 0.8511\n",
      "Epoch 48/150\n",
      "334/334 [==============================] - 9s 27ms/step - loss: 0.2607 - accuracy: 0.9234 - val_loss: 0.4186 - val_accuracy: 0.8469\n",
      "Epoch 49/150\n",
      "334/334 [==============================] - 9s 27ms/step - loss: 0.2576 - accuracy: 0.9262 - val_loss: 0.4037 - val_accuracy: 0.8392\n",
      "Epoch 50/150\n",
      "334/334 [==============================] - 9s 27ms/step - loss: 0.2507 - accuracy: 0.9288 - val_loss: 0.3748 - val_accuracy: 0.8553\n",
      "Epoch 51/150\n",
      "334/334 [==============================] - 9s 27ms/step - loss: 0.2436 - accuracy: 0.9298 - val_loss: 0.4073 - val_accuracy: 0.8350\n",
      "Epoch 52/150\n",
      "334/334 [==============================] - 9s 28ms/step - loss: 0.2419 - accuracy: 0.9305 - val_loss: 0.3820 - val_accuracy: 0.8532\n",
      "Epoch 53/150\n",
      "334/334 [==============================] - 9s 27ms/step - loss: 0.2405 - accuracy: 0.9302 - val_loss: 0.3877 - val_accuracy: 0.8427\n",
      "Epoch 54/150\n",
      "334/334 [==============================] - 9s 27ms/step - loss: 0.2324 - accuracy: 0.9383 - val_loss: 0.4129 - val_accuracy: 0.8441\n",
      "Epoch 55/150\n",
      "334/334 [==============================] - 9s 27ms/step - loss: 0.2333 - accuracy: 0.9358 - val_loss: 0.4049 - val_accuracy: 0.8434\n",
      "Epoch 56/150\n",
      "334/334 [==============================] - 9s 27ms/step - loss: 0.2462 - accuracy: 0.9268 - val_loss: 0.3847 - val_accuracy: 0.8448\n",
      "Epoch 57/150\n"
     ]
    },
    {
     "name": "stdout",
     "output_type": "stream",
     "text": [
      "334/334 [==============================] - 9s 27ms/step - loss: 0.2257 - accuracy: 0.9371 - val_loss: 0.4007 - val_accuracy: 0.8504\n",
      "Epoch 58/150\n",
      "334/334 [==============================] - 9s 27ms/step - loss: 0.2245 - accuracy: 0.9383 - val_loss: 0.3749 - val_accuracy: 0.8596\n",
      "Epoch 59/150\n",
      "334/334 [==============================] - 9s 27ms/step - loss: 0.2206 - accuracy: 0.9403 - val_loss: 0.4476 - val_accuracy: 0.8083\n",
      "Epoch 60/150\n",
      "334/334 [==============================] - 9s 27ms/step - loss: 0.2256 - accuracy: 0.9355 - val_loss: 0.3655 - val_accuracy: 0.8525\n",
      "Epoch 61/150\n",
      "334/334 [==============================] - 9s 27ms/step - loss: 0.2160 - accuracy: 0.9396 - val_loss: 0.3904 - val_accuracy: 0.8434\n",
      "Epoch 62/150\n",
      "334/334 [==============================] - 9s 27ms/step - loss: 0.2151 - accuracy: 0.9404 - val_loss: 0.3791 - val_accuracy: 0.8574\n",
      "Epoch 63/150\n",
      "334/334 [==============================] - 9s 27ms/step - loss: 0.2165 - accuracy: 0.9389 - val_loss: 0.3852 - val_accuracy: 0.8420\n",
      "Epoch 64/150\n",
      "334/334 [==============================] - 9s 27ms/step - loss: 0.2111 - accuracy: 0.9406 - val_loss: 0.3616 - val_accuracy: 0.8659\n",
      "Epoch 65/150\n",
      "334/334 [==============================] - 9s 27ms/step - loss: 0.2013 - accuracy: 0.9472 - val_loss: 0.3847 - val_accuracy: 0.8539\n",
      "Epoch 66/150\n",
      "334/334 [==============================] - 9s 27ms/step - loss: 0.1997 - accuracy: 0.9486 - val_loss: 0.3766 - val_accuracy: 0.8448\n",
      "Epoch 67/150\n",
      "334/334 [==============================] - 9s 27ms/step - loss: 0.1988 - accuracy: 0.9457 - val_loss: 0.3960 - val_accuracy: 0.8518\n",
      "Epoch 68/150\n",
      "334/334 [==============================] - 9s 27ms/step - loss: 0.2077 - accuracy: 0.9392 - val_loss: 0.3550 - val_accuracy: 0.8680\n",
      "Epoch 69/150\n",
      "334/334 [==============================] - 9s 27ms/step - loss: 0.1949 - accuracy: 0.9497 - val_loss: 0.4357 - val_accuracy: 0.8329\n",
      "Epoch 70/150\n",
      "334/334 [==============================] - 9s 27ms/step - loss: 0.1924 - accuracy: 0.9517 - val_loss: 0.3848 - val_accuracy: 0.8448\n",
      "Epoch 71/150\n",
      "334/334 [==============================] - 9s 28ms/step - loss: 0.1931 - accuracy: 0.9474 - val_loss: 0.3664 - val_accuracy: 0.8476\n",
      "Epoch 72/150\n",
      "334/334 [==============================] - 9s 27ms/step - loss: 0.1847 - accuracy: 0.9538 - val_loss: 0.4586 - val_accuracy: 0.8202\n",
      "Epoch 73/150\n",
      "334/334 [==============================] - 9s 28ms/step - loss: 0.1901 - accuracy: 0.9477 - val_loss: 0.3692 - val_accuracy: 0.8546\n",
      "Epoch 74/150\n",
      "334/334 [==============================] - 9s 28ms/step - loss: 0.1821 - accuracy: 0.9539 - val_loss: 0.3836 - val_accuracy: 0.8483\n",
      "Epoch 75/150\n",
      "334/334 [==============================] - 9s 28ms/step - loss: 0.1884 - accuracy: 0.9473 - val_loss: 0.3654 - val_accuracy: 0.8532\n",
      "Epoch 76/150\n",
      "334/334 [==============================] - 9s 28ms/step - loss: 0.1865 - accuracy: 0.9490 - val_loss: 0.4108 - val_accuracy: 0.8504\n",
      "Epoch 77/150\n",
      "334/334 [==============================] - 9s 28ms/step - loss: 0.1779 - accuracy: 0.9534 - val_loss: 0.4030 - val_accuracy: 0.8476\n",
      "Epoch 78/150\n",
      "334/334 [==============================] - 9s 27ms/step - loss: 0.1810 - accuracy: 0.9526 - val_loss: 0.3716 - val_accuracy: 0.8532\n",
      "Epoch 79/150\n",
      "334/334 [==============================] - 9s 28ms/step - loss: 0.1726 - accuracy: 0.9554 - val_loss: 0.3554 - val_accuracy: 0.8581\n",
      "Epoch 80/150\n",
      "334/334 [==============================] - 9s 28ms/step - loss: 0.1717 - accuracy: 0.9563 - val_loss: 0.3828 - val_accuracy: 0.8476\n",
      "Epoch 81/150\n",
      "334/334 [==============================] - 9s 28ms/step - loss: 0.1762 - accuracy: 0.9535 - val_loss: 0.3586 - val_accuracy: 0.8560\n",
      "Epoch 82/150\n",
      "334/334 [==============================] - 9s 28ms/step - loss: 0.1684 - accuracy: 0.9593 - val_loss: 0.3987 - val_accuracy: 0.8413\n",
      "Epoch 83/150\n",
      "334/334 [==============================] - 9s 28ms/step - loss: 0.1630 - accuracy: 0.9626 - val_loss: 0.3937 - val_accuracy: 0.8539\n",
      "Epoch 84/150\n",
      "334/334 [==============================] - 9s 28ms/step - loss: 0.1707 - accuracy: 0.9547 - val_loss: 0.3598 - val_accuracy: 0.8567\n",
      "Epoch 85/150\n",
      "334/334 [==============================] - 9s 28ms/step - loss: 0.1605 - accuracy: 0.9615 - val_loss: 0.3538 - val_accuracy: 0.8659\n",
      "Epoch 86/150\n",
      "334/334 [==============================] - 9s 27ms/step - loss: 0.1593 - accuracy: 0.9599 - val_loss: 0.3594 - val_accuracy: 0.8504\n",
      "Epoch 87/150\n",
      "334/334 [==============================] - 9s 27ms/step - loss: 0.1581 - accuracy: 0.9624 - val_loss: 0.3428 - val_accuracy: 0.8666\n",
      "Epoch 88/150\n",
      "334/334 [==============================] - 9s 26ms/step - loss: 0.1656 - accuracy: 0.9556 - val_loss: 0.4898 - val_accuracy: 0.8174\n",
      "Epoch 89/150\n",
      "334/334 [==============================] - 9s 26ms/step - loss: 0.1588 - accuracy: 0.9589 - val_loss: 0.3773 - val_accuracy: 0.8448\n",
      "Epoch 90/150\n",
      "334/334 [==============================] - 8s 25ms/step - loss: 0.1587 - accuracy: 0.9611 - val_loss: 0.3653 - val_accuracy: 0.8560\n",
      "Epoch 91/150\n",
      "334/334 [==============================] - 8s 25ms/step - loss: 0.1530 - accuracy: 0.9623 - val_loss: 0.3923 - val_accuracy: 0.8378\n",
      "Epoch 92/150\n",
      "334/334 [==============================] - 8s 25ms/step - loss: 0.1509 - accuracy: 0.9663 - val_loss: 0.3799 - val_accuracy: 0.8434\n",
      "Epoch 93/150\n",
      "334/334 [==============================] - 8s 25ms/step - loss: 0.1589 - accuracy: 0.9582 - val_loss: 0.5058 - val_accuracy: 0.8083\n",
      "Epoch 94/150\n",
      "334/334 [==============================] - 8s 25ms/step - loss: 0.1471 - accuracy: 0.9658 - val_loss: 0.3483 - val_accuracy: 0.8624\n",
      "Epoch 95/150\n",
      "334/334 [==============================] - 8s 25ms/step - loss: 0.1452 - accuracy: 0.9668 - val_loss: 0.3619 - val_accuracy: 0.8567\n",
      "Epoch 96/150\n",
      "334/334 [==============================] - 8s 25ms/step - loss: 0.1423 - accuracy: 0.9660 - val_loss: 0.3455 - val_accuracy: 0.8617\n",
      "Epoch 97/150\n",
      "334/334 [==============================] - 8s 25ms/step - loss: 0.1398 - accuracy: 0.9701 - val_loss: 0.3775 - val_accuracy: 0.8574\n",
      "Epoch 98/150\n",
      "334/334 [==============================] - 9s 26ms/step - loss: 0.1399 - accuracy: 0.9682 - val_loss: 0.3881 - val_accuracy: 0.8567\n",
      "Epoch 99/150\n",
      "334/334 [==============================] - 9s 26ms/step - loss: 0.1400 - accuracy: 0.9681 - val_loss: 0.3615 - val_accuracy: 0.8581\n",
      "Epoch 100/150\n",
      "334/334 [==============================] - 8s 25ms/step - loss: 0.1411 - accuracy: 0.9665 - val_loss: 0.3445 - val_accuracy: 0.8596\n",
      "Epoch 101/150\n",
      "334/334 [==============================] - 8s 25ms/step - loss: 0.1377 - accuracy: 0.9696 - val_loss: 0.3949 - val_accuracy: 0.8532\n",
      "Epoch 102/150\n",
      "334/334 [==============================] - 9s 25ms/step - loss: 0.1442 - accuracy: 0.9639 - val_loss: 0.4206 - val_accuracy: 0.8462\n",
      "Epoch 103/150\n",
      "334/334 [==============================] - 8s 25ms/step - loss: 0.1321 - accuracy: 0.9711 - val_loss: 0.3607 - val_accuracy: 0.8574\n",
      "Epoch 104/150\n",
      "334/334 [==============================] - 8s 25ms/step - loss: 0.1282 - accuracy: 0.9753 - val_loss: 0.3457 - val_accuracy: 0.8666\n",
      "Epoch 105/150\n",
      "334/334 [==============================] - 9s 26ms/step - loss: 0.1314 - accuracy: 0.9708 - val_loss: 0.3931 - val_accuracy: 0.8511\n",
      "Epoch 106/150\n",
      "334/334 [==============================] - 9s 27ms/step - loss: 0.1346 - accuracy: 0.9655 - val_loss: 0.4195 - val_accuracy: 0.8343\n",
      "Epoch 107/150\n",
      "334/334 [==============================] - 9s 27ms/step - loss: 0.1272 - accuracy: 0.9723 - val_loss: 0.4039 - val_accuracy: 0.8588\n",
      "Epoch 108/150\n",
      "334/334 [==============================] - 9s 28ms/step - loss: 0.1304 - accuracy: 0.9689 - val_loss: 0.3506 - val_accuracy: 0.8588\n",
      "Epoch 109/150\n",
      "334/334 [==============================] - 9s 28ms/step - loss: 0.1289 - accuracy: 0.9702 - val_loss: 0.3797 - val_accuracy: 0.8567\n",
      "Epoch 110/150\n",
      "334/334 [==============================] - 9s 28ms/step - loss: 0.1284 - accuracy: 0.9700 - val_loss: 0.3957 - val_accuracy: 0.8371\n",
      "Epoch 111/150\n",
      "334/334 [==============================] - 9s 28ms/step - loss: 0.1213 - accuracy: 0.9742 - val_loss: 0.3595 - val_accuracy: 0.8596\n",
      "Epoch 112/150\n",
      "334/334 [==============================] - 9s 28ms/step - loss: 0.1217 - accuracy: 0.9721 - val_loss: 0.3944 - val_accuracy: 0.8567\n",
      "Epoch 113/150\n"
     ]
    },
    {
     "name": "stdout",
     "output_type": "stream",
     "text": [
      "334/334 [==============================] - 9s 27ms/step - loss: 0.1227 - accuracy: 0.9745 - val_loss: 0.4000 - val_accuracy: 0.8427\n",
      "Epoch 114/150\n",
      "334/334 [==============================] - 9s 28ms/step - loss: 0.1260 - accuracy: 0.9707 - val_loss: 0.3372 - val_accuracy: 0.8687\n",
      "Epoch 115/150\n",
      "334/334 [==============================] - 9s 27ms/step - loss: 0.1248 - accuracy: 0.9701 - val_loss: 0.3864 - val_accuracy: 0.8518\n",
      "Epoch 116/150\n",
      "334/334 [==============================] - 9s 28ms/step - loss: 0.1233 - accuracy: 0.9707 - val_loss: 0.3410 - val_accuracy: 0.8715\n",
      "Epoch 117/150\n",
      "334/334 [==============================] - 9s 27ms/step - loss: 0.1203 - accuracy: 0.9726 - val_loss: 0.3685 - val_accuracy: 0.8525\n",
      "Epoch 118/150\n",
      "334/334 [==============================] - 9s 27ms/step - loss: 0.1242 - accuracy: 0.9729 - val_loss: 0.3353 - val_accuracy: 0.8659\n",
      "Epoch 119/150\n",
      "334/334 [==============================] - 9s 27ms/step - loss: 0.1126 - accuracy: 0.9779 - val_loss: 0.3529 - val_accuracy: 0.8567\n",
      "Epoch 120/150\n",
      "334/334 [==============================] - 9s 27ms/step - loss: 0.1178 - accuracy: 0.9727 - val_loss: 0.3642 - val_accuracy: 0.8645\n",
      "Epoch 121/150\n",
      "334/334 [==============================] - 9s 27ms/step - loss: 0.1114 - accuracy: 0.9784 - val_loss: 0.3688 - val_accuracy: 0.8546\n",
      "Epoch 122/150\n",
      "334/334 [==============================] - 9s 27ms/step - loss: 0.1102 - accuracy: 0.9760 - val_loss: 0.3610 - val_accuracy: 0.8659\n",
      "Epoch 123/150\n",
      "334/334 [==============================] - 9s 27ms/step - loss: 0.1140 - accuracy: 0.9768 - val_loss: 0.3433 - val_accuracy: 0.8694\n",
      "Epoch 124/150\n",
      "334/334 [==============================] - 9s 28ms/step - loss: 0.1106 - accuracy: 0.9771 - val_loss: 0.3511 - val_accuracy: 0.8560\n",
      "Epoch 125/150\n",
      "334/334 [==============================] - 9s 28ms/step - loss: 0.1173 - accuracy: 0.9722 - val_loss: 0.3705 - val_accuracy: 0.8574\n",
      "Epoch 126/150\n",
      "334/334 [==============================] - 9s 27ms/step - loss: 0.1099 - accuracy: 0.9748 - val_loss: 0.3474 - val_accuracy: 0.8645\n",
      "Epoch 127/150\n",
      "334/334 [==============================] - 9s 27ms/step - loss: 0.1091 - accuracy: 0.9748 - val_loss: 0.3441 - val_accuracy: 0.8638\n",
      "Epoch 128/150\n",
      "334/334 [==============================] - 9s 27ms/step - loss: 0.1033 - accuracy: 0.9816 - val_loss: 0.3645 - val_accuracy: 0.8610\n",
      "Epoch 129/150\n",
      "334/334 [==============================] - 9s 27ms/step - loss: 0.1058 - accuracy: 0.9763 - val_loss: 0.4407 - val_accuracy: 0.8518\n",
      "Epoch 130/150\n",
      "334/334 [==============================] - 9s 28ms/step - loss: 0.1088 - accuracy: 0.9760 - val_loss: 0.3371 - val_accuracy: 0.8652\n",
      "Epoch 131/150\n",
      "334/334 [==============================] - 9s 28ms/step - loss: 0.1029 - accuracy: 0.9802 - val_loss: 0.3396 - val_accuracy: 0.8652\n",
      "Epoch 132/150\n",
      "334/334 [==============================] - 9s 28ms/step - loss: 0.1008 - accuracy: 0.9811 - val_loss: 0.3896 - val_accuracy: 0.8596\n",
      "Epoch 133/150\n",
      "334/334 [==============================] - 9s 28ms/step - loss: 0.1002 - accuracy: 0.9795 - val_loss: 0.3333 - val_accuracy: 0.8673\n",
      "Epoch 134/150\n",
      "334/334 [==============================] - 9s 27ms/step - loss: 0.1020 - accuracy: 0.9791 - val_loss: 0.3433 - val_accuracy: 0.8666\n",
      "Epoch 135/150\n",
      "334/334 [==============================] - 9s 27ms/step - loss: 0.1038 - accuracy: 0.9782 - val_loss: 0.3851 - val_accuracy: 0.8588\n",
      "Epoch 136/150\n",
      "334/334 [==============================] - 8s 25ms/step - loss: 0.0946 - accuracy: 0.9834 - val_loss: 0.4133 - val_accuracy: 0.8378\n",
      "Epoch 137/150\n",
      "334/334 [==============================] - 8s 25ms/step - loss: 0.1025 - accuracy: 0.9778 - val_loss: 0.3464 - val_accuracy: 0.8659\n",
      "Epoch 138/150\n",
      "334/334 [==============================] - 9s 25ms/step - loss: 0.0972 - accuracy: 0.9816 - val_loss: 0.4068 - val_accuracy: 0.8539\n",
      "Epoch 139/150\n",
      "334/334 [==============================] - 9s 26ms/step - loss: 0.1027 - accuracy: 0.9783 - val_loss: 0.3525 - val_accuracy: 0.8666\n",
      "Epoch 140/150\n",
      "334/334 [==============================] - 9s 28ms/step - loss: 0.0970 - accuracy: 0.9814 - val_loss: 0.3554 - val_accuracy: 0.8680\n",
      "Epoch 141/150\n",
      "334/334 [==============================] - 9s 28ms/step - loss: 0.0935 - accuracy: 0.9827 - val_loss: 0.4063 - val_accuracy: 0.8553\n",
      "Epoch 142/150\n",
      "334/334 [==============================] - 9s 28ms/step - loss: 0.0967 - accuracy: 0.9819 - val_loss: 0.3625 - val_accuracy: 0.8596\n",
      "Epoch 143/150\n",
      "334/334 [==============================] - 9s 27ms/step - loss: 0.0896 - accuracy: 0.9851 - val_loss: 0.4050 - val_accuracy: 0.8539\n",
      "Epoch 144/150\n",
      "334/334 [==============================] - 9s 26ms/step - loss: 0.0895 - accuracy: 0.9848 - val_loss: 0.3697 - val_accuracy: 0.8694\n",
      "Epoch 145/150\n",
      "334/334 [==============================] - 9s 26ms/step - loss: 0.0908 - accuracy: 0.9833 - val_loss: 0.3463 - val_accuracy: 0.8567\n",
      "Epoch 146/150\n",
      "334/334 [==============================] - 9s 26ms/step - loss: 0.0962 - accuracy: 0.9804 - val_loss: 0.3789 - val_accuracy: 0.8617\n",
      "Epoch 147/150\n",
      "334/334 [==============================] - 9s 26ms/step - loss: 0.0873 - accuracy: 0.9853 - val_loss: 0.3863 - val_accuracy: 0.8631\n",
      "Epoch 148/150\n",
      "334/334 [==============================] - 9s 26ms/step - loss: 0.0898 - accuracy: 0.9838 - val_loss: 0.3504 - val_accuracy: 0.8603\n",
      "Epoch 149/150\n",
      "334/334 [==============================] - 9s 26ms/step - loss: 0.0916 - accuracy: 0.9813 - val_loss: 0.3998 - val_accuracy: 0.8497\n",
      "Epoch 150/150\n",
      "334/334 [==============================] - 9s 26ms/step - loss: 0.0897 - accuracy: 0.9830 - val_loss: 0.3722 - val_accuracy: 0.8504\n"
     ]
    },
    {
     "data": {
      "text/plain": [
       "<keras.callbacks.History at 0x1e8ab929f70>"
      ]
     },
     "execution_count": 17,
     "metadata": {},
     "output_type": "execute_result"
    }
   ],
   "source": [
    "from tensorflow.keras.callbacks import EarlyStopping\n",
    "early_stop = EarlyStopping(monitor = 'loss', patience = 15 )\n",
    "\n",
    "m1.fit(X_train,y_train,epochs=150,batch_size=32, validation_data=(X_val,y_val), callbacks = [early_stop], verbose=1)"
   ]
  },
  {
   "cell_type": "code",
   "execution_count": 18,
   "metadata": {
    "id": "d6OA7oX-yByT"
   },
   "outputs": [],
   "source": [
    "# Get training history\n",
    "metrics = pd.DataFrame(m1.history.history)"
   ]
  },
  {
   "cell_type": "code",
   "execution_count": 19,
   "metadata": {},
   "outputs": [],
   "source": [
    "import os\n",
    "exp_num = []\n",
    "if not os.path.exists(\"./experiments\"):\n",
    "    os.mkdir(\"./experiments\")\n",
    "folders = os.listdir(\"./experiments\")\n",
    "for folder in folders:\n",
    "    exp_num.append(int(folder.split(\"#\")[1]))\n",
    "\n",
    "\n",
    "if len(exp_num) == 0:\n",
    "    exp_path = r\"./experiments/exp#1\"\n",
    "else:\n",
    "    exp_path = r\"./experiments/exp#\"+str(max(exp_num)+1)\n",
    "\n",
    "\n",
    "\n",
    "\n",
    "os.mkdir(exp_path)\n",
    "os.mkdir(os.path.join(exp_path, \"results\"))\n",
    "os.mkdir(os.path.join(exp_path, \"weights\"))\n",
    "\n",
    "results = os.path.join(exp_path, \"results\")\n",
    "weights = os.path.join(exp_path, \"weights\")"
   ]
  },
  {
   "cell_type": "code",
   "execution_count": 20,
   "metadata": {},
   "outputs": [
    {
     "name": "stdout",
     "output_type": "stream",
     "text": [
      "./experiments/exp#4\\results\n"
     ]
    }
   ],
   "source": [
    "print(results)"
   ]
  },
  {
   "cell_type": "code",
   "execution_count": 21,
   "metadata": {
    "id": "vs5CCwj993FX"
   },
   "outputs": [
    {
     "name": "stdout",
     "output_type": "stream",
     "text": [
      "67/67 [==============================] - 3s 39ms/step - loss: 0.4084 - accuracy: 0.8521\n"
     ]
    }
   ],
   "source": [
    "# Save The Trained model along with it training history   \n",
    "Accuracy = m1.evaluate(X_test, y_test)[-1]\n",
    "name = str(round(Accuracy, 4))\n",
    "\n",
    "metrics.to_pickle(os.path.join(results, name+'.pkl'))\n",
    "m1.save(os.path.join(weights, name + '.h5'))"
   ]
  },
  {
   "cell_type": "code",
   "execution_count": 22,
   "metadata": {
    "id": "5F7i-oCwytup",
    "scrolled": true
   },
   "outputs": [
    {
     "data": {
      "image/png": "[encoded data removed]",
      "text/plain": [
       "<Figure size 720x504 with 1 Axes>"
      ]
     },
     "metadata": {
      "needs_background": "light"
     },
     "output_type": "display_data"
    },
    {
     "data": {
      "image/png": "[encoded data removed]",
      "text/plain": [
       "<Figure size 720x504 with 1 Axes>"
      ]
     },
     "metadata": {
      "needs_background": "light"
     },
     "output_type": "display_data"
    }
   ],
   "source": [
    "## Dispaly the plot of \n",
    "rows = 2\n",
    "columns = 1\n",
    "  \n",
    "# Display Train loss vs Validation loss at each Epoch\n",
    "fig = plt.figure(figsize=(10, 7))\n",
    "fig.add_subplot(rows, columns, 1)\n",
    "plt.plot(metrics['loss'])\n",
    "plt.plot(metrics['val_loss'])\n",
    "plt.title('Model Loss')\n",
    "plt.ylabel('loss')\n",
    "plt.xlabel('epoch')\n",
    "plt.legend(['train', 'val'], loc='upper left')\n",
    "plt.savefig(os.path.join(results, 'loss_epoch.png'))\n",
    "plt.show()\n",
    "\n",
    "  \n",
    "# Display Train loss vs Validation loss at each Epoch\n",
    "fig = plt.figure(figsize=(10, 7))\n",
    "fig.add_subplot(rows, columns, 2)\n",
    "plt.plot(metrics['accuracy'])\n",
    "plt.plot(metrics['val_accuracy'])\n",
    "plt.title('Model Accuracy')\n",
    "plt.ylabel('accuracy')\n",
    "plt.xlabel('epoch')\n",
    "plt.legend(['train', 'val'], loc='upper left')\n",
    "plt.savefig(os.path.join(results, 'acc_epoch.png'))\n",
    "plt.show()\n",
    "\n"
   ]
  },
  {
   "cell_type": "code",
   "execution_count": 23,
   "metadata": {
    "id": "HQOKaA8zfv4K"
   },
   "outputs": [],
   "source": [
    "## Get the \n",
    "predict_x = m1.predict(X_test) \n",
    "predictions = np.argmax(predict_x,axis=1) "
   ]
  },
  {
   "cell_type": "code",
   "execution_count": 24,
   "metadata": {
    "id": "xy9_ZzsYkByi"
   },
   "outputs": [],
   "source": [
    "# Decode the Model's predections  (from [0,1,0,2..] to ['Glioma','Meningioma'...]) of the Test set using the the dictionary 'decode_dict' \n",
    "predictions = np.vectorize(decode_dict.get)(predictions)"
   ]
  },
  {
   "cell_type": "code",
   "execution_count": 25,
   "metadata": {
    "id": "IVYX1MCzjx00"
   },
   "outputs": [
    {
     "name": "stdout",
     "output_type": "stream",
     "text": [
      "              precision    recall  f1-score   support\n",
      "\n",
      "   Glioma II       0.78      0.73      0.76       428\n",
      "  Glioma III       0.91      0.68      0.78       356\n",
      "   Glioma VI       0.69      0.89      0.78       420\n",
      "  Meningioma       0.97      0.93      0.95       456\n",
      "   Pituitary       0.95      0.99      0.97       476\n",
      "\n",
      "    accuracy                           0.85      2136\n",
      "   macro avg       0.86      0.84      0.85      2136\n",
      "weighted avg       0.86      0.85      0.85      2136\n",
      "\n"
     ]
    }
   ],
   "source": [
    "print(classification_report(y_test_eval, predictions))"
   ]
  },
  {
   "cell_type": "code",
   "execution_count": 26,
   "metadata": {
    "id": "HOVPJjy0udhD"
   },
   "outputs": [
    {
     "data": {
      "image/png": "[encoded data removed]",
      "text/plain": [
       "<Figure size 720x504 with 2 Axes>"
      ]
     },
     "metadata": {
      "needs_background": "light"
     },
     "output_type": "display_data"
    }
   ],
   "source": [
    "labels = sorted([\"Glioma II\", \"Glioma III\", \"Glioma VI\", \"Meningioma\", \"Pituitary\"])\n",
    "\n",
    "cm = pd.DataFrame(confusion_matrix(y_test_eval, predictions), index=labels, columns=labels)\n",
    "plt.figure(figsize = (10,7))\n",
    "plt.title('Confusion matrix')\n",
    "sns.heatmap(cm, annot=True, cmap=\"PuBu\",fmt = 'd')\n",
    "plt.ylabel('True labels')\n",
    "plt.xlabel('Predicted labels')\n",
    "plt.savefig(os.path.join(results, 'confusion_matrix.png'))\n",
    "plt.show()"
   ]
  },
  {
   "cell_type": "code",
   "execution_count": null,
   "metadata": {
    "id": "7_fru9v4mHup"
   },
   "outputs": [],
   "source": []
  },
  {
   "cell_type": "code",
   "execution_count": null,
   "metadata": {},
   "outputs": [],
   "source": []
  }
 ],
 "metadata": {
  "accelerator": "GPU",
  "colab": {
   "collapsed_sections": [],
   "name": "5_labels_model_v1.ipynb",
   "provenance": []
  },
  "kernelspec": {
   "display_name": "Python 3 (ipykernel)",
   "language": "python",
   "name": "python3"
  },
  "language_info": {
   "codemirror_mode": {
    "name": "ipython",
    "version": 3
   },
   "file_extension": ".py",
   "mimetype": "text/x-python",
   "name": "python",
   "nbconvert_exporter": "python",
   "pygments_lexer": "ipython3",
   "version": "3.9.7"
  }
 },
 "nbformat": 4,
 "nbformat_minor": 1
}
