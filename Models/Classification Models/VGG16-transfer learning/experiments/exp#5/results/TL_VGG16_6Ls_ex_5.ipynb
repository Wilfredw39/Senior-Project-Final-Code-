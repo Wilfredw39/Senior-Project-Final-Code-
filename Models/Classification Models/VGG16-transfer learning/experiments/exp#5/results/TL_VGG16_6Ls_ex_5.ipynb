{
 "cells": [
  {
   "cell_type": "markdown",
   "metadata": {
    "id": "vt51_KACTdGf"
   },
   "source": [
    "## 0. Setting up the Environment\n"
   ]
  },
  {
   "cell_type": "code",
   "execution_count": 1,
   "metadata": {
    "colab": {
     "base_uri": "https://localhost:8080/"
    },
    "id": "D4Z6Zv3PSOcg",
    "outputId": "b87040f7-50f1-4633-bcd9-415194d37d2e"
   },
   "outputs": [],
   "source": [
    "## impoort labaries \n",
    "import os \n",
    "import cv2\n",
    "import mat73\n",
    "import time\n",
    "import keras\n",
    "import pandas as pd\n",
    "import numpy as np \n",
    "import seaborn as sns\n",
    "import skimage\n",
    "import tensorflow as tf\n",
    "import matplotlib.pyplot as plt\n",
    "from PIL import Image, ImageOps \n",
    "from skimage.transform import resize\n",
    "from keras.models import Sequential\n",
    "from tensorflow.keras import optimizers\n",
    "from tqdm.notebook import tqdm_notebook as tqdm\n",
    "from sklearn.metrics import classification_report, confusion_matrix\n",
    "from keras.layers import Conv2D, MaxPooling2D, Flatten, Dense, Dropout, BatchNormalization,  Convolution2D"
   ]
  },
  {
   "cell_type": "markdown",
   "metadata": {
    "id": "sYWmkuxOWtm4"
   },
   "source": [
    "## 1. Data Importing "
   ]
  },
  {
   "cell_type": "code",
   "execution_count": 2,
   "metadata": {},
   "outputs": [],
   "source": [
    "SIZE_X = 128\n",
    "SIZE_Y = 128\n",
    "SIZE_Z = 3\n",
    "CLASS_NUM = 6\n",
    "\n",
    "aug_train_DF = pd.read_pickle(r\"../../../Datasets/Dataset_B_2/aug_train_DF_{}.pkl\".format(SIZE_X))\n",
    "aug_val_DF = pd.read_pickle(r\"../../../Datasets/Dataset_B_2/aug_val_DF_{}.pkl\".format(SIZE_X))\n",
    "aug_test_DF = pd.read_pickle(r\"../../../Datasets/Dataset_B_2/aug_test_DF_{}.pkl\".format(SIZE_X))"
   ]
  },
  {
   "cell_type": "code",
   "execution_count": 3,
   "metadata": {
    "colab": {
     "background_save": true
    },
    "id": "kaaNJb4nR5Z5",
    "outputId": "229fd2a5-846a-4168-abdf-2db9f91c282d"
   },
   "outputs": [
    {
     "data": {
      "text/html": [
       "<div>\n",
       "<style scoped>\n",
       "    .dataframe tbody tr th:only-of-type {\n",
       "        vertical-align: middle;\n",
       "    }\n",
       "\n",
       "    .dataframe tbody tr th {\n",
       "        vertical-align: top;\n",
       "    }\n",
       "\n",
       "    .dataframe thead th {\n",
       "        text-align: right;\n",
       "    }\n",
       "</style>\n",
       "<table border=\"1\" class=\"dataframe\">\n",
       "  <thead>\n",
       "    <tr style=\"text-align: right;\">\n",
       "      <th></th>\n",
       "      <th>PID</th>\n",
       "      <th>Label</th>\n",
       "      <th>Image</th>\n",
       "      <th>File</th>\n",
       "    </tr>\n",
       "  </thead>\n",
       "  <tbody>\n",
       "    <tr>\n",
       "      <th>6918</th>\n",
       "      <td>HF1232</td>\n",
       "      <td>Glioma III</td>\n",
       "      <td>[[0.0, 0.0, 0.0, 0.0, 0.0, 0.0, 0.0, 0.0, 0.0,...</td>\n",
       "      <td>D:\\Datasets\\manifest-tXudPFfp43472957274060920...</td>\n",
       "    </tr>\n",
       "    <tr>\n",
       "      <th>717</th>\n",
       "      <td>900-00-5385</td>\n",
       "      <td>Glioma III</td>\n",
       "      <td>[[0.0, 0.0, 0.0, 0.0, 0.0, 0.0, 0.0, 0.0, 0.0,...</td>\n",
       "      <td>D:\\Datasets\\manifest-tXudPFfp43472957274060920...</td>\n",
       "    </tr>\n",
       "    <tr>\n",
       "      <th>12781</th>\n",
       "      <td>HF1325</td>\n",
       "      <td>Glioma II</td>\n",
       "      <td>[[0.0, 0.0, 0.0, 0.0, 0.0, 0.0, 0.0, 0.0, 0.0,...</td>\n",
       "      <td>D:\\Datasets\\manifest-tXudPFfp43472957274060920...</td>\n",
       "    </tr>\n",
       "    <tr>\n",
       "      <th>15989</th>\n",
       "      <td>Heatly_dataset_#998</td>\n",
       "      <td>No tumor</td>\n",
       "      <td>[[0.0, 0.0, 0.0, 0.0, 0.0, 0.0, 0.0, 0.0, 0.0,...</td>\n",
       "      <td>no1262.jpg</td>\n",
       "    </tr>\n",
       "    <tr>\n",
       "      <th>8808</th>\n",
       "      <td>HF1490</td>\n",
       "      <td>Glioma III</td>\n",
       "      <td>[[0.0, 0.0, 0.0, 0.0, 0.0, 0.0, 0.0, 0.0, 0.0,...</td>\n",
       "      <td>D:\\Datasets\\manifest-tXudPFfp43472957274060920...</td>\n",
       "    </tr>\n",
       "  </tbody>\n",
       "</table>\n",
       "</div>"
      ],
      "text/plain": [
       "                       PID       Label  \\\n",
       "6918                HF1232  Glioma III   \n",
       "717            900-00-5385  Glioma III   \n",
       "12781               HF1325   Glioma II   \n",
       "15989  Heatly_dataset_#998    No tumor   \n",
       "8808                HF1490  Glioma III   \n",
       "\n",
       "                                                   Image  \\\n",
       "6918   [[0.0, 0.0, 0.0, 0.0, 0.0, 0.0, 0.0, 0.0, 0.0,...   \n",
       "717    [[0.0, 0.0, 0.0, 0.0, 0.0, 0.0, 0.0, 0.0, 0.0,...   \n",
       "12781  [[0.0, 0.0, 0.0, 0.0, 0.0, 0.0, 0.0, 0.0, 0.0,...   \n",
       "15989  [[0.0, 0.0, 0.0, 0.0, 0.0, 0.0, 0.0, 0.0, 0.0,...   \n",
       "8808   [[0.0, 0.0, 0.0, 0.0, 0.0, 0.0, 0.0, 0.0, 0.0,...   \n",
       "\n",
       "                                                    File  \n",
       "6918   D:\\Datasets\\manifest-tXudPFfp43472957274060920...  \n",
       "717    D:\\Datasets\\manifest-tXudPFfp43472957274060920...  \n",
       "12781  D:\\Datasets\\manifest-tXudPFfp43472957274060920...  \n",
       "15989                                         no1262.jpg  \n",
       "8808   D:\\Datasets\\manifest-tXudPFfp43472957274060920...  "
      ]
     },
     "execution_count": 3,
     "metadata": {},
     "output_type": "execute_result"
    }
   ],
   "source": [
    "## Combain the df with the Pitutary & Meningioma types with the dataframe of the Glioma grades (I, II,, IV).\n",
    "pd.concat([aug_train_DF, aug_val_DF, aug_test_DF], axis=0, ignore_index = True).sample(5)"
   ]
  },
  {
   "cell_type": "code",
   "execution_count": 4,
   "metadata": {},
   "outputs": [
    {
     "name": "stdout",
     "output_type": "stream",
     "text": [
      "<class 'pandas.core.frame.DataFrame'>\n",
      "RangeIndex: 18612 entries, 0 to 18611\n",
      "Data columns (total 4 columns):\n",
      " #   Column  Non-Null Count  Dtype \n",
      "---  ------  --------------  ----- \n",
      " 0   PID     18612 non-null  object\n",
      " 1   Label   18612 non-null  object\n",
      " 2   Image   18612 non-null  object\n",
      " 3   File    18612 non-null  object\n",
      "dtypes: object(4)\n",
      "memory usage: 581.8+ KB\n"
     ]
    }
   ],
   "source": [
    "pd.concat([aug_train_DF, aug_val_DF, aug_test_DF], axis=0, ignore_index = True).info(5)"
   ]
  },
  {
   "cell_type": "code",
   "execution_count": 5,
   "metadata": {
    "colab": {
     "background_save": true
    },
    "id": "uJEttBBOU9IN",
    "outputId": "d176e92f-d35f-4f92-a264-ead1e87244e6"
   },
   "outputs": [
    {
     "name": "stderr",
     "output_type": "stream",
     "text": [
      "C:\\Users\\Ma7moud\\anaconda3\\envs\\T-UNet\\lib\\site-packages\\seaborn\\_decorators.py:36: FutureWarning: Pass the following variable as a keyword arg: x. From version 0.12, the only valid positional argument will be `data`, and passing other arguments without an explicit keyword will result in an error or misinterpretation.\n",
      "  warnings.warn(\n"
     ]
    },
    {
     "data": {
      "image/png": "[encoded data removed]",
      "text/plain": [
       "<Figure size 432x288 with 1 Axes>"
      ]
     },
     "metadata": {
      "needs_background": "light"
     },
     "output_type": "display_data"
    }
   ],
   "source": [
    "sns.countplot(pd.concat([aug_train_DF, aug_val_DF, aug_test_DF], axis=0, ignore_index = True).Label)\n",
    "plt.show()"
   ]
  },
  {
   "cell_type": "code",
   "execution_count": 6,
   "metadata": {
    "colab": {
     "background_save": true
    },
    "id": "AWLSJpw6WVVo",
    "outputId": "348d3fee-c3a5-442d-96af-5711dec23128"
   },
   "outputs": [
    {
     "data": {
      "image/png": "[encoded data removed]",
      "text/plain": [
       "<Figure size 432x288 with 1 Axes>"
      ]
     },
     "metadata": {},
     "output_type": "display_data"
    }
   ],
   "source": [
    "data = aug_train_DF.groupby(\"Label\")[\"Label\"].count()\n",
    "data.plot.pie(autopct=\"%.1f%%\");"
   ]
  },
  {
   "cell_type": "code",
   "execution_count": 7,
   "metadata": {},
   "outputs": [
    {
     "data": {
      "image/png": "[encoded data removed]",
      "text/plain": [
       "<Figure size 432x288 with 1 Axes>"
      ]
     },
     "metadata": {},
     "output_type": "display_data"
    }
   ],
   "source": [
    "data = aug_val_DF.groupby(\"Label\")[\"Label\"].count()\n",
    "data.plot.pie(autopct=\"%.1f%%\");"
   ]
  },
  {
   "cell_type": "code",
   "execution_count": 8,
   "metadata": {},
   "outputs": [
    {
     "data": {
      "image/png": "[encoded data removed]",
      "text/plain": [
       "<Figure size 432x288 with 1 Axes>"
      ]
     },
     "metadata": {},
     "output_type": "display_data"
    }
   ],
   "source": [
    "data = aug_test_DF.groupby(\"Label\")[\"Label\"].count()\n",
    "data.plot.pie(autopct=\"%.1f%%\");"
   ]
  },
  {
   "cell_type": "markdown",
   "metadata": {
    "id": "Zf3vh4d7w3ZP"
   },
   "source": [
    "## 2. Data-Preprocessing "
   ]
  },
  {
   "cell_type": "markdown",
   "metadata": {
    "id": "Kd502KoZONei"
   },
   "source": [
    "### 2.1 Image Resizing \n"
   ]
  },
  {
   "cell_type": "markdown",
   "metadata": {
    "id": "oDIYJ9-3OWho"
   },
   "source": [
    "### 2.2 Data Augmentation"
   ]
  },
  {
   "cell_type": "markdown",
   "metadata": {},
   "source": [
    "### 2.3 Grayscale to RGB"
   ]
  },
  {
   "cell_type": "code",
   "execution_count": 9,
   "metadata": {
    "colab": {
     "background_save": true
    },
    "id": "hzz5yapeG-M7",
    "outputId": "0d2f1eb1-953a-4141-8ab9-4cb02b8519e8"
   },
   "outputs": [],
   "source": [
    "def normalize(img):\n",
    "    plt.imsave('DR.png', img, cmap='gray')\n",
    "    return cv2.imread('DR.png')"
   ]
  },
  {
   "cell_type": "code",
   "execution_count": 10,
   "metadata": {},
   "outputs": [],
   "source": [
    "aug_train_DF[\"Image\"] = aug_train_DF[\"Image\"].apply(normalize)\n",
    "aug_val_DF[\"Image\"] = aug_val_DF[\"Image\"].apply(normalize)\n",
    "aug_test_DF[\"Image\"] = aug_test_DF[\"Image\"].apply(normalize)"
   ]
  },
  {
   "cell_type": "markdown",
   "metadata": {
    "id": "yg8moTnTaNeT"
   },
   "source": [
    "### 2.4 Splitting Data into Train, Test, and Validation Sets"
   ]
  },
  {
   "cell_type": "code",
   "execution_count": 11,
   "metadata": {},
   "outputs": [],
   "source": [
    "y_train = aug_train_DF[\"Label\"]\n",
    "X_train = aug_train_DF['Image'].tolist()\n",
    "X_train = np.array(X_train).reshape(-1, SIZE_X, SIZE_Y, SIZE_Z)\n",
    "\n",
    "\n",
    "y_val = aug_val_DF[\"Label\"]\n",
    "X_val = aug_val_DF['Image'].tolist()\n",
    "X_val = np.array(X_val).reshape(-1, SIZE_X, SIZE_Y, SIZE_Z)\n",
    "\n",
    "y_test = aug_test_DF[\"Label\"]\n",
    "X_test = aug_test_DF['Image'].tolist()\n",
    "X_test = np.array(X_test).reshape(-1, SIZE_X, SIZE_Y, SIZE_Z)\n"
   ]
  },
  {
   "cell_type": "code",
   "execution_count": 12,
   "metadata": {},
   "outputs": [
    {
     "name": "stdout",
     "output_type": "stream",
     "text": [
      "X_train shape: (13960, 128, 128, 3) | y_train shape: (13960,)\n",
      "X_val shape  : (1860, 128, 128, 3)  | y_test shape :  (1860,)\n",
      "X_test shape : (2792, 128, 128, 3)  | y_test shape :  (2792,)\n"
     ]
    }
   ],
   "source": [
    "print(\"X_train shape:\", X_train.shape,\"| y_train shape:\", y_train.shape)\n",
    "print(\"X_val shape  :\",X_val.shape,\" | y_test shape : \", y_val.shape)\n",
    "print(\"X_test shape :\",X_test.shape,\" | y_test shape : \", y_test.shape)"
   ]
  },
  {
   "cell_type": "markdown",
   "metadata": {},
   "source": [
    "### 2.5 One-Hot Encode the labels "
   ]
  },
  {
   "cell_type": "code",
   "execution_count": 13,
   "metadata": {
    "colab": {
     "background_save": true
    },
    "id": "uR_Cv0khfpyS",
    "outputId": "0fa96dd1-5899-45b2-9d73-5fcbc132a797"
   },
   "outputs": [],
   "source": [
    "# saving a copy of the testing labels before one hot encoding\n",
    "y_test_eval = y_test\n",
    "# one hot endcoding the labels \n",
    "y_train = pd.get_dummies(y_train)\n",
    "y_test  = pd.get_dummies(y_test)\n",
    "y_val   = pd.get_dummies(y_val)"
   ]
  },
  {
   "cell_type": "code",
   "execution_count": 14,
   "metadata": {},
   "outputs": [
    {
     "name": "stdout",
     "output_type": "stream",
     "text": [
      "X_train shape: (13960, 128, 128, 3) | y_train shape: (13960, 6)\n",
      "X_test shape : (2792, 128, 128, 3)  | y_test shape:  (2792, 6)\n",
      "X_val shape  : (1860, 128, 128, 3)  | y_val shape :  (1860, 6)\n",
      "\n",
      "Total number: 18612\n"
     ]
    }
   ],
   "source": [
    "print(\"X_train shape:\", X_train.shape,\"| y_train shape:\", y_train.shape)\n",
    "print(\"X_test shape :\",X_test.shape,\" | y_test shape: \", y_test.shape)\n",
    "print(\"X_val shape  :\",X_val.shape,\" | y_val shape : \", y_val.shape)\n",
    "print(\"\\nTotal number: {}\".format(len(aug_train_DF)+len(aug_val_DF)+len(aug_test_DF)))"
   ]
  },
  {
   "cell_type": "code",
   "execution_count": 15,
   "metadata": {
    "colab": {
     "background_save": true
    },
    "id": "3DctvR_fVPlF",
    "outputId": "bdf93bfa-b00d-49a3-99c8-f2bde2731658"
   },
   "outputs": [
    {
     "data": {
      "text/html": [
       "<div>\n",
       "<style scoped>\n",
       "    .dataframe tbody tr th:only-of-type {\n",
       "        vertical-align: middle;\n",
       "    }\n",
       "\n",
       "    .dataframe tbody tr th {\n",
       "        vertical-align: top;\n",
       "    }\n",
       "\n",
       "    .dataframe thead th {\n",
       "        text-align: right;\n",
       "    }\n",
       "</style>\n",
       "<table border=\"1\" class=\"dataframe\">\n",
       "  <thead>\n",
       "    <tr style=\"text-align: right;\">\n",
       "      <th></th>\n",
       "      <th>Glioma II</th>\n",
       "      <th>Glioma III</th>\n",
       "      <th>Glioma VI</th>\n",
       "      <th>Meningioma</th>\n",
       "      <th>No tumor</th>\n",
       "      <th>Pituitary</th>\n",
       "    </tr>\n",
       "  </thead>\n",
       "  <tbody>\n",
       "    <tr>\n",
       "      <th>0</th>\n",
       "      <td>0</td>\n",
       "      <td>0</td>\n",
       "      <td>0</td>\n",
       "      <td>0</td>\n",
       "      <td>1</td>\n",
       "      <td>0</td>\n",
       "    </tr>\n",
       "    <tr>\n",
       "      <th>1</th>\n",
       "      <td>0</td>\n",
       "      <td>0</td>\n",
       "      <td>0</td>\n",
       "      <td>0</td>\n",
       "      <td>1</td>\n",
       "      <td>0</td>\n",
       "    </tr>\n",
       "    <tr>\n",
       "      <th>2</th>\n",
       "      <td>0</td>\n",
       "      <td>0</td>\n",
       "      <td>1</td>\n",
       "      <td>0</td>\n",
       "      <td>0</td>\n",
       "      <td>0</td>\n",
       "    </tr>\n",
       "    <tr>\n",
       "      <th>3</th>\n",
       "      <td>0</td>\n",
       "      <td>0</td>\n",
       "      <td>0</td>\n",
       "      <td>0</td>\n",
       "      <td>0</td>\n",
       "      <td>1</td>\n",
       "    </tr>\n",
       "    <tr>\n",
       "      <th>4</th>\n",
       "      <td>0</td>\n",
       "      <td>0</td>\n",
       "      <td>1</td>\n",
       "      <td>0</td>\n",
       "      <td>0</td>\n",
       "      <td>0</td>\n",
       "    </tr>\n",
       "    <tr>\n",
       "      <th>...</th>\n",
       "      <td>...</td>\n",
       "      <td>...</td>\n",
       "      <td>...</td>\n",
       "      <td>...</td>\n",
       "      <td>...</td>\n",
       "      <td>...</td>\n",
       "    </tr>\n",
       "    <tr>\n",
       "      <th>2787</th>\n",
       "      <td>0</td>\n",
       "      <td>0</td>\n",
       "      <td>0</td>\n",
       "      <td>0</td>\n",
       "      <td>0</td>\n",
       "      <td>1</td>\n",
       "    </tr>\n",
       "    <tr>\n",
       "      <th>2788</th>\n",
       "      <td>0</td>\n",
       "      <td>0</td>\n",
       "      <td>0</td>\n",
       "      <td>0</td>\n",
       "      <td>0</td>\n",
       "      <td>1</td>\n",
       "    </tr>\n",
       "    <tr>\n",
       "      <th>2789</th>\n",
       "      <td>0</td>\n",
       "      <td>0</td>\n",
       "      <td>0</td>\n",
       "      <td>0</td>\n",
       "      <td>1</td>\n",
       "      <td>0</td>\n",
       "    </tr>\n",
       "    <tr>\n",
       "      <th>2790</th>\n",
       "      <td>0</td>\n",
       "      <td>1</td>\n",
       "      <td>0</td>\n",
       "      <td>0</td>\n",
       "      <td>0</td>\n",
       "      <td>0</td>\n",
       "    </tr>\n",
       "    <tr>\n",
       "      <th>2791</th>\n",
       "      <td>1</td>\n",
       "      <td>0</td>\n",
       "      <td>0</td>\n",
       "      <td>0</td>\n",
       "      <td>0</td>\n",
       "      <td>0</td>\n",
       "    </tr>\n",
       "  </tbody>\n",
       "</table>\n",
       "<p>2792 rows × 6 columns</p>\n",
       "</div>"
      ],
      "text/plain": [
       "      Glioma II  Glioma III  Glioma VI  Meningioma  No tumor  Pituitary\n",
       "0             0           0          0           0         1          0\n",
       "1             0           0          0           0         1          0\n",
       "2             0           0          1           0         0          0\n",
       "3             0           0          0           0         0          1\n",
       "4             0           0          1           0         0          0\n",
       "...         ...         ...        ...         ...       ...        ...\n",
       "2787          0           0          0           0         0          1\n",
       "2788          0           0          0           0         0          1\n",
       "2789          0           0          0           0         1          0\n",
       "2790          0           1          0           0         0          0\n",
       "2791          1           0          0           0         0          0\n",
       "\n",
       "[2792 rows x 6 columns]"
      ]
     },
     "execution_count": 15,
     "metadata": {},
     "output_type": "execute_result"
    }
   ],
   "source": [
    "y_test"
   ]
  },
  {
   "cell_type": "code",
   "execution_count": 16,
   "metadata": {
    "colab": {
     "background_save": true
    },
    "id": "jWFIvPjtiNio"
   },
   "outputs": [],
   "source": [
    "## This Dictionary is used to decode the model's predicted values.  \n",
    "decode_dict = {0 : \"Glioma II\", 1 : \"Glioma III\", 2 : \"Glioma VI\", 3: \"Meningioma\", 4: \"No tumor\", 5: \"Pituitary\"}"
   ]
  },
  {
   "cell_type": "code",
   "execution_count": 17,
   "metadata": {
    "colab": {
     "background_save": true
    },
    "id": "PcsCoY3jggfU",
    "outputId": "3b3c30b0-a9af-4923-a318-cea2b5587807"
   },
   "outputs": [
    {
     "data": {
      "image/png": "[encoded data removed]",
      "text/plain": [
       "<Figure size 936x576 with 1 Axes>"
      ]
     },
     "metadata": {},
     "output_type": "display_data"
    }
   ],
   "source": [
    "import matplotlib.pyplot as plt\n",
    "import numpy as np\n",
    "##  Creating a Pie chart illustrating the percentage of the train, validation, test sets.\n",
    "Data = np.array([len(y_train), len(y_test), len(y_val)])\n",
    "mylabels = [\"Test Set\", \"Test Set\", \"Validation Set\"]\n",
    "plt.figure(figsize=(13, 8))\n",
    "plt.pie(Data, labels = mylabels, autopct=\"%.1f%%\", )\n",
    "plt.legend()\n",
    "plt.show() "
   ]
  },
  {
   "cell_type": "markdown",
   "metadata": {
    "id": "zDCzea2Klw_1"
   },
   "source": [
    "## 3. Models Creation\n"
   ]
  },
  {
   "cell_type": "code",
   "execution_count": 18,
   "metadata": {
    "colab": {
     "background_save": true
    },
    "id": "K58Sn8Gt_6v9"
   },
   "outputs": [
    {
     "name": "stdout",
     "output_type": "stream",
     "text": [
      "Model: \"model\"\n",
      "_________________________________________________________________\n",
      "Layer (type)                 Output Shape              Param #   \n",
      "=================================================================\n",
      "input_1 (InputLayer)         [(None, 128, 128, 3)]     0         \n",
      "_________________________________________________________________\n",
      "block1_conv1 (Conv2D)        (None, 128, 128, 64)      1792      \n",
      "_________________________________________________________________\n",
      "block1_conv2 (Conv2D)        (None, 128, 128, 64)      36928     \n",
      "_________________________________________________________________\n",
      "block1_pool (MaxPooling2D)   (None, 64, 64, 64)        0         \n",
      "_________________________________________________________________\n",
      "block2_conv1 (Conv2D)        (None, 64, 64, 128)       73856     \n",
      "_________________________________________________________________\n",
      "block2_conv2 (Conv2D)        (None, 64, 64, 128)       147584    \n",
      "_________________________________________________________________\n",
      "block2_pool (MaxPooling2D)   (None, 32, 32, 128)       0         \n",
      "_________________________________________________________________\n",
      "block3_conv1 (Conv2D)        (None, 32, 32, 256)       295168    \n",
      "_________________________________________________________________\n",
      "block3_conv2 (Conv2D)        (None, 32, 32, 256)       590080    \n",
      "_________________________________________________________________\n",
      "block3_conv3 (Conv2D)        (None, 32, 32, 256)       590080    \n",
      "_________________________________________________________________\n",
      "block3_pool (MaxPooling2D)   (None, 16, 16, 256)       0         \n",
      "_________________________________________________________________\n",
      "block4_conv1 (Conv2D)        (None, 16, 16, 512)       1180160   \n",
      "_________________________________________________________________\n",
      "block4_conv2 (Conv2D)        (None, 16, 16, 512)       2359808   \n",
      "_________________________________________________________________\n",
      "block4_conv3 (Conv2D)        (None, 16, 16, 512)       2359808   \n",
      "_________________________________________________________________\n",
      "block4_pool (MaxPooling2D)   (None, 8, 8, 512)         0         \n",
      "_________________________________________________________________\n",
      "block5_conv1 (Conv2D)        (None, 8, 8, 512)         2359808   \n",
      "_________________________________________________________________\n",
      "block5_conv2 (Conv2D)        (None, 8, 8, 512)         2359808   \n",
      "_________________________________________________________________\n",
      "block5_conv3 (Conv2D)        (None, 8, 8, 512)         2359808   \n",
      "_________________________________________________________________\n",
      "block5_pool (MaxPooling2D)   (None, 4, 4, 512)         0         \n",
      "_________________________________________________________________\n",
      "flatten (Flatten)            (None, 8192)              0         \n",
      "_________________________________________________________________\n",
      "dense (Dense)                (None, 6)                 49158     \n",
      "=================================================================\n",
      "Total params: 14,763,846\n",
      "Trainable params: 49,158\n",
      "Non-trainable params: 14,714,688\n",
      "_________________________________________________________________\n"
     ]
    }
   ],
   "source": [
    "from keras.models import Sequential\n",
    "from keras.layers import Conv2D, MaxPooling2D, Flatten, Dense, Dropout, BatchNormalization,  Convolution2D, Input, Lambda\n",
    "import tensorflow as tf\n",
    "import time\n",
    "from tensorflow.keras import optimizers\n",
    "from keras.models import Model\n",
    "from keras.applications.vgg16 import VGG16\n",
    "from keras.applications.vgg16 import preprocess_input\n",
    "from glob import glob\n",
    "\n",
    "X_train = preprocess_input(X_train)\n",
    "X_val = preprocess_input(X_val)\n",
    "X_test = preprocess_input(X_test)\n",
    "\n",
    "VGG16 = VGG16(include_top=False, weights=None, input_shape = (SIZE_X, SIZE_Y, SIZE_Z))\n",
    "\n",
    "for layer in VGG16.layers:\n",
    "    layer.trainable = False\n",
    "\n",
    "# Dense Lyers\n",
    "x = Flatten()(VGG16.output)\n",
    "outLayers = Dense(CLASS_NUM, activation='softmax')(x)\n",
    "\n",
    "m1 = Model(inputs = VGG16.input, outputs = outLayers)\n",
    "\n",
    "m1.summary()\n",
    "m1.compile(loss='categorical_crossentropy', optimizer='adam', metrics=['accuracy'])"
   ]
  },
  {
   "cell_type": "markdown",
   "metadata": {
    "id": "6aAVYS26t6c3"
   },
   "source": [
    "### 4. Model Training\n"
   ]
  },
  {
   "cell_type": "code",
   "execution_count": 19,
   "metadata": {
    "id": "LGT4MVY3tkyz",
    "scrolled": true
   },
   "outputs": [
    {
     "name": "stdout",
     "output_type": "stream",
     "text": [
      "Epoch 1/150\n",
      "873/873 [==============================] - 17s 16ms/step - loss: 1.1055 - accuracy: 0.5789 - val_loss: 0.8631 - val_accuracy: 0.7075\n",
      "Epoch 2/150\n",
      "873/873 [==============================] - 12s 14ms/step - loss: 0.8016 - accuracy: 0.6968 - val_loss: 0.7410 - val_accuracy: 0.7188\n",
      "Epoch 3/150\n",
      "873/873 [==============================] - 12s 14ms/step - loss: 0.6801 - accuracy: 0.7423 - val_loss: 0.6560 - val_accuracy: 0.7710\n",
      "Epoch 4/150\n",
      "873/873 [==============================] - 12s 14ms/step - loss: 0.6015 - accuracy: 0.7756 - val_loss: 0.7809 - val_accuracy: 0.6871\n",
      "Epoch 5/150\n",
      "873/873 [==============================] - 12s 14ms/step - loss: 0.5559 - accuracy: 0.7970 - val_loss: 0.6414 - val_accuracy: 0.7446\n",
      "Epoch 6/150\n",
      "873/873 [==============================] - 12s 14ms/step - loss: 0.5119 - accuracy: 0.8137 - val_loss: 0.6627 - val_accuracy: 0.7204\n",
      "Epoch 7/150\n",
      "873/873 [==============================] - 12s 14ms/step - loss: 0.4763 - accuracy: 0.8312 - val_loss: 0.5659 - val_accuracy: 0.7957\n",
      "Epoch 8/150\n",
      "873/873 [==============================] - 12s 14ms/step - loss: 0.4346 - accuracy: 0.8489 - val_loss: 0.5367 - val_accuracy: 0.8086\n",
      "Epoch 9/150\n",
      "873/873 [==============================] - 12s 14ms/step - loss: 0.4152 - accuracy: 0.8537 - val_loss: 0.4979 - val_accuracy: 0.8328\n",
      "Epoch 10/150\n",
      "873/873 [==============================] - 12s 14ms/step - loss: 0.3943 - accuracy: 0.8623 - val_loss: 0.5172 - val_accuracy: 0.8065\n",
      "Epoch 11/150\n",
      "873/873 [==============================] - 13s 14ms/step - loss: 0.3713 - accuracy: 0.8724 - val_loss: 0.4593 - val_accuracy: 0.8409\n",
      "Epoch 12/150\n",
      "873/873 [==============================] - 13s 14ms/step - loss: 0.3525 - accuracy: 0.8808 - val_loss: 0.4529 - val_accuracy: 0.8360\n",
      "Epoch 13/150\n",
      "873/873 [==============================] - 12s 14ms/step - loss: 0.3342 - accuracy: 0.8898 - val_loss: 0.4578 - val_accuracy: 0.8425\n",
      "Epoch 14/150\n",
      "873/873 [==============================] - 13s 14ms/step - loss: 0.3242 - accuracy: 0.8896 - val_loss: 0.4372 - val_accuracy: 0.8430\n",
      "Epoch 15/150\n",
      "873/873 [==============================] - 13s 14ms/step - loss: 0.3096 - accuracy: 0.8972 - val_loss: 0.4589 - val_accuracy: 0.8258\n",
      "Epoch 16/150\n",
      "873/873 [==============================] - 12s 14ms/step - loss: 0.2979 - accuracy: 0.9019 - val_loss: 0.4690 - val_accuracy: 0.8328\n",
      "Epoch 17/150\n",
      "873/873 [==============================] - 12s 14ms/step - loss: 0.2902 - accuracy: 0.9030 - val_loss: 0.4104 - val_accuracy: 0.8484\n",
      "Epoch 18/150\n",
      "873/873 [==============================] - 13s 14ms/step - loss: 0.2746 - accuracy: 0.9131 - val_loss: 0.4654 - val_accuracy: 0.8140\n",
      "Epoch 19/150\n",
      "873/873 [==============================] - 13s 14ms/step - loss: 0.2610 - accuracy: 0.9198 - val_loss: 0.4683 - val_accuracy: 0.8220\n",
      "Epoch 20/150\n",
      "873/873 [==============================] - 13s 14ms/step - loss: 0.2526 - accuracy: 0.9214 - val_loss: 0.4620 - val_accuracy: 0.8301\n",
      "Epoch 21/150\n",
      "873/873 [==============================] - 13s 14ms/step - loss: 0.2473 - accuracy: 0.9221 - val_loss: 0.3876 - val_accuracy: 0.8656\n",
      "Epoch 22/150\n",
      "873/873 [==============================] - 13s 14ms/step - loss: 0.2377 - accuracy: 0.9251 - val_loss: 0.4199 - val_accuracy: 0.8516\n",
      "Epoch 23/150\n",
      "873/873 [==============================] - 13s 14ms/step - loss: 0.2307 - accuracy: 0.9292 - val_loss: 0.4256 - val_accuracy: 0.8478\n",
      "Epoch 24/150\n",
      "873/873 [==============================] - 13s 14ms/step - loss: 0.2302 - accuracy: 0.9247 - val_loss: 0.3786 - val_accuracy: 0.8602\n",
      "Epoch 25/150\n",
      "873/873 [==============================] - 13s 14ms/step - loss: 0.2179 - accuracy: 0.9337 - val_loss: 0.4162 - val_accuracy: 0.8398\n",
      "Epoch 26/150\n",
      "873/873 [==============================] - 13s 14ms/step - loss: 0.2121 - accuracy: 0.9342 - val_loss: 0.3932 - val_accuracy: 0.8349\n",
      "Epoch 27/150\n",
      "873/873 [==============================] - 13s 15ms/step - loss: 0.2035 - accuracy: 0.9396 - val_loss: 0.4957 - val_accuracy: 0.8032\n",
      "Epoch 28/150\n",
      "873/873 [==============================] - 13s 14ms/step - loss: 0.2031 - accuracy: 0.9391 - val_loss: 0.4390 - val_accuracy: 0.8263\n",
      "Epoch 29/150\n",
      "873/873 [==============================] - 13s 14ms/step - loss: 0.1967 - accuracy: 0.9396 - val_loss: 0.3672 - val_accuracy: 0.8575\n",
      "Epoch 30/150\n",
      "873/873 [==============================] - 13s 14ms/step - loss: 0.1882 - accuracy: 0.9443 - val_loss: 0.3843 - val_accuracy: 0.8532\n",
      "Epoch 31/150\n",
      "873/873 [==============================] - 13s 14ms/step - loss: 0.1835 - accuracy: 0.9456 - val_loss: 0.3578 - val_accuracy: 0.8624\n",
      "Epoch 32/150\n",
      "873/873 [==============================] - 13s 14ms/step - loss: 0.1843 - accuracy: 0.9449 - val_loss: 0.3630 - val_accuracy: 0.8618\n",
      "Epoch 33/150\n",
      "873/873 [==============================] - 13s 14ms/step - loss: 0.1771 - accuracy: 0.9484 - val_loss: 0.3473 - val_accuracy: 0.8688\n",
      "Epoch 34/150\n",
      "873/873 [==============================] - 13s 14ms/step - loss: 0.1678 - accuracy: 0.9524 - val_loss: 0.4803 - val_accuracy: 0.7978\n",
      "Epoch 35/150\n",
      "873/873 [==============================] - 13s 14ms/step - loss: 0.1651 - accuracy: 0.9520 - val_loss: 0.3450 - val_accuracy: 0.8753\n",
      "Epoch 36/150\n",
      "873/873 [==============================] - 13s 14ms/step - loss: 0.1600 - accuracy: 0.9558 - val_loss: 0.3458 - val_accuracy: 0.8720\n",
      "Epoch 37/150\n",
      "873/873 [==============================] - 13s 14ms/step - loss: 0.1598 - accuracy: 0.9542 - val_loss: 0.3731 - val_accuracy: 0.8602\n",
      "Epoch 38/150\n",
      "873/873 [==============================] - 13s 14ms/step - loss: 0.1501 - accuracy: 0.9602 - val_loss: 0.4413 - val_accuracy: 0.8253\n",
      "Epoch 39/150\n",
      "873/873 [==============================] - 13s 14ms/step - loss: 0.1515 - accuracy: 0.9564 - val_loss: 0.3847 - val_accuracy: 0.8591\n",
      "Epoch 40/150\n",
      "873/873 [==============================] - 13s 14ms/step - loss: 0.1459 - accuracy: 0.9596 - val_loss: 0.3667 - val_accuracy: 0.8591\n",
      "Epoch 41/150\n",
      "873/873 [==============================] - 13s 14ms/step - loss: 0.1475 - accuracy: 0.9583 - val_loss: 0.3658 - val_accuracy: 0.8527\n",
      "Epoch 42/150\n",
      "873/873 [==============================] - 13s 14ms/step - loss: 0.1414 - accuracy: 0.9633 - val_loss: 0.3350 - val_accuracy: 0.8769\n",
      "Epoch 43/150\n",
      "873/873 [==============================] - 13s 14ms/step - loss: 0.1375 - accuracy: 0.9633 - val_loss: 0.3336 - val_accuracy: 0.8801\n",
      "Epoch 44/150\n",
      "873/873 [==============================] - 13s 14ms/step - loss: 0.1344 - accuracy: 0.9629 - val_loss: 0.5090 - val_accuracy: 0.8075\n",
      "Epoch 45/150\n",
      "873/873 [==============================] - 13s 14ms/step - loss: 0.1302 - accuracy: 0.9653 - val_loss: 0.3822 - val_accuracy: 0.8462\n",
      "Epoch 46/150\n",
      "873/873 [==============================] - 13s 14ms/step - loss: 0.1290 - accuracy: 0.9655 - val_loss: 0.3749 - val_accuracy: 0.8548\n",
      "Epoch 47/150\n",
      "873/873 [==============================] - 13s 14ms/step - loss: 0.1248 - accuracy: 0.9670 - val_loss: 0.3799 - val_accuracy: 0.8478\n",
      "Epoch 48/150\n",
      "873/873 [==============================] - 13s 14ms/step - loss: 0.1245 - accuracy: 0.9702 - val_loss: 0.3218 - val_accuracy: 0.8780\n",
      "Epoch 49/150\n",
      "873/873 [==============================] - 13s 14ms/step - loss: 0.1143 - accuracy: 0.9743 - val_loss: 0.3567 - val_accuracy: 0.8645\n",
      "Epoch 50/150\n",
      "873/873 [==============================] - 13s 14ms/step - loss: 0.1181 - accuracy: 0.9696 - val_loss: 0.3328 - val_accuracy: 0.8720\n",
      "Epoch 51/150\n",
      "873/873 [==============================] - 13s 14ms/step - loss: 0.1186 - accuracy: 0.9696 - val_loss: 0.4056 - val_accuracy: 0.8505\n",
      "Epoch 52/150\n",
      "873/873 [==============================] - 13s 14ms/step - loss: 0.1101 - accuracy: 0.9728 - val_loss: 0.4034 - val_accuracy: 0.8409\n",
      "Epoch 53/150\n",
      "873/873 [==============================] - 13s 14ms/step - loss: 0.1118 - accuracy: 0.9720 - val_loss: 0.3271 - val_accuracy: 0.8710\n",
      "Epoch 54/150\n",
      "873/873 [==============================] - 13s 14ms/step - loss: 0.1046 - accuracy: 0.9754 - val_loss: 0.3496 - val_accuracy: 0.8683\n",
      "Epoch 55/150\n",
      "873/873 [==============================] - 13s 14ms/step - loss: 0.1109 - accuracy: 0.9708 - val_loss: 0.3278 - val_accuracy: 0.8737\n",
      "Epoch 56/150\n",
      "873/873 [==============================] - 13s 14ms/step - loss: 0.1043 - accuracy: 0.9751 - val_loss: 0.3312 - val_accuracy: 0.8790\n",
      "Epoch 57/150\n"
     ]
    },
    {
     "name": "stdout",
     "output_type": "stream",
     "text": [
      "873/873 [==============================] - 13s 14ms/step - loss: 0.1007 - accuracy: 0.9766 - val_loss: 0.3306 - val_accuracy: 0.8645\n",
      "Epoch 58/150\n",
      "873/873 [==============================] - 13s 14ms/step - loss: 0.1004 - accuracy: 0.9764 - val_loss: 0.3221 - val_accuracy: 0.8758\n",
      "Epoch 59/150\n",
      "873/873 [==============================] - 13s 14ms/step - loss: 0.0942 - accuracy: 0.9793 - val_loss: 0.3655 - val_accuracy: 0.8602\n",
      "Epoch 60/150\n",
      "873/873 [==============================] - 13s 14ms/step - loss: 0.0988 - accuracy: 0.9775 - val_loss: 0.3500 - val_accuracy: 0.8548\n",
      "Epoch 61/150\n",
      "873/873 [==============================] - 13s 14ms/step - loss: 0.0935 - accuracy: 0.9791 - val_loss: 0.3821 - val_accuracy: 0.8473\n",
      "Epoch 62/150\n",
      "873/873 [==============================] - 13s 14ms/step - loss: 0.0888 - accuracy: 0.9813 - val_loss: 0.3316 - val_accuracy: 0.8737\n",
      "Epoch 63/150\n",
      "873/873 [==============================] - 13s 14ms/step - loss: 0.0903 - accuracy: 0.9808 - val_loss: 0.3358 - val_accuracy: 0.8774\n",
      "Epoch 64/150\n",
      "873/873 [==============================] - 13s 14ms/step - loss: 0.0872 - accuracy: 0.9824 - val_loss: 0.3666 - val_accuracy: 0.8710\n",
      "Epoch 65/150\n",
      "873/873 [==============================] - 13s 14ms/step - loss: 0.0872 - accuracy: 0.9806 - val_loss: 0.3513 - val_accuracy: 0.8667\n",
      "Epoch 66/150\n",
      "873/873 [==============================] - 13s 14ms/step - loss: 0.0832 - accuracy: 0.9832 - val_loss: 0.3167 - val_accuracy: 0.8866\n",
      "Epoch 67/150\n",
      "873/873 [==============================] - 13s 14ms/step - loss: 0.0840 - accuracy: 0.9816 - val_loss: 0.3341 - val_accuracy: 0.8699\n",
      "Epoch 68/150\n",
      "873/873 [==============================] - 13s 14ms/step - loss: 0.0832 - accuracy: 0.9824 - val_loss: 0.3249 - val_accuracy: 0.8763\n",
      "Epoch 69/150\n",
      "873/873 [==============================] - 13s 14ms/step - loss: 0.0822 - accuracy: 0.9814 - val_loss: 0.3363 - val_accuracy: 0.8747\n",
      "Epoch 70/150\n",
      "873/873 [==============================] - 13s 14ms/step - loss: 0.0756 - accuracy: 0.9851 - val_loss: 0.3208 - val_accuracy: 0.8817\n",
      "Epoch 71/150\n",
      "873/873 [==============================] - 13s 14ms/step - loss: 0.0768 - accuracy: 0.9849 - val_loss: 0.3434 - val_accuracy: 0.8790\n",
      "Epoch 72/150\n",
      "873/873 [==============================] - 13s 14ms/step - loss: 0.0756 - accuracy: 0.9855 - val_loss: 0.3725 - val_accuracy: 0.8667\n",
      "Epoch 73/150\n",
      "873/873 [==============================] - 13s 14ms/step - loss: 0.0796 - accuracy: 0.9823 - val_loss: 0.3311 - val_accuracy: 0.8833\n",
      "Epoch 74/150\n",
      "873/873 [==============================] - 13s 14ms/step - loss: 0.0737 - accuracy: 0.9858 - val_loss: 0.3614 - val_accuracy: 0.8704\n",
      "Epoch 75/150\n",
      "873/873 [==============================] - 13s 14ms/step - loss: 0.0712 - accuracy: 0.9861 - val_loss: 0.3433 - val_accuracy: 0.8699\n",
      "Epoch 76/150\n",
      "873/873 [==============================] - 13s 14ms/step - loss: 0.0706 - accuracy: 0.9880 - val_loss: 0.3657 - val_accuracy: 0.8645\n",
      "Epoch 77/150\n",
      "873/873 [==============================] - 13s 14ms/step - loss: 0.0716 - accuracy: 0.9847 - val_loss: 0.3194 - val_accuracy: 0.8839\n",
      "Epoch 78/150\n",
      "873/873 [==============================] - 13s 14ms/step - loss: 0.0673 - accuracy: 0.9872 - val_loss: 0.3535 - val_accuracy: 0.8694\n",
      "Epoch 79/150\n",
      "873/873 [==============================] - 13s 14ms/step - loss: 0.0673 - accuracy: 0.9872 - val_loss: 0.3544 - val_accuracy: 0.8656\n",
      "Epoch 80/150\n",
      "873/873 [==============================] - 13s 14ms/step - loss: 0.0663 - accuracy: 0.9891 - val_loss: 0.3992 - val_accuracy: 0.8495\n",
      "Epoch 81/150\n",
      "873/873 [==============================] - 13s 14ms/step - loss: 0.0676 - accuracy: 0.9852 - val_loss: 0.3597 - val_accuracy: 0.8683\n",
      "Epoch 82/150\n",
      "873/873 [==============================] - 13s 14ms/step - loss: 0.0619 - accuracy: 0.9899 - val_loss: 0.3581 - val_accuracy: 0.8634\n",
      "Epoch 83/150\n",
      "873/873 [==============================] - 13s 14ms/step - loss: 0.0691 - accuracy: 0.9860 - val_loss: 0.3469 - val_accuracy: 0.8769\n",
      "Epoch 84/150\n",
      "873/873 [==============================] - 13s 14ms/step - loss: 0.0595 - accuracy: 0.9910 - val_loss: 0.3346 - val_accuracy: 0.8796\n",
      "Epoch 85/150\n",
      "873/873 [==============================] - 13s 14ms/step - loss: 0.0633 - accuracy: 0.9878 - val_loss: 0.3137 - val_accuracy: 0.8801\n",
      "Epoch 86/150\n",
      "873/873 [==============================] - 13s 14ms/step - loss: 0.0624 - accuracy: 0.9879 - val_loss: 0.3678 - val_accuracy: 0.8758\n",
      "Epoch 87/150\n",
      "873/873 [==============================] - 13s 14ms/step - loss: 0.0580 - accuracy: 0.9907 - val_loss: 0.3404 - val_accuracy: 0.8699\n",
      "Epoch 88/150\n",
      "873/873 [==============================] - 13s 14ms/step - loss: 0.0602 - accuracy: 0.9883 - val_loss: 0.3227 - val_accuracy: 0.8747\n",
      "Epoch 89/150\n",
      "873/873 [==============================] - 13s 14ms/step - loss: 0.0564 - accuracy: 0.9915 - val_loss: 0.3216 - val_accuracy: 0.8887\n",
      "Epoch 90/150\n",
      "873/873 [==============================] - 13s 14ms/step - loss: 0.0537 - accuracy: 0.9915 - val_loss: 0.3181 - val_accuracy: 0.8855\n",
      "Epoch 91/150\n",
      "873/873 [==============================] - 13s 14ms/step - loss: 0.0544 - accuracy: 0.9913 - val_loss: 0.3333 - val_accuracy: 0.8790\n",
      "Epoch 92/150\n",
      "873/873 [==============================] - 13s 14ms/step - loss: 0.0526 - accuracy: 0.9930 - val_loss: 0.3700 - val_accuracy: 0.8629\n",
      "Epoch 93/150\n",
      "873/873 [==============================] - 13s 14ms/step - loss: 0.0524 - accuracy: 0.9918 - val_loss: 0.3418 - val_accuracy: 0.8704\n",
      "Epoch 94/150\n",
      "873/873 [==============================] - 13s 14ms/step - loss: 0.0537 - accuracy: 0.9905 - val_loss: 0.3539 - val_accuracy: 0.8634\n",
      "Epoch 95/150\n",
      "873/873 [==============================] - 13s 14ms/step - loss: 0.0494 - accuracy: 0.9932 - val_loss: 0.3469 - val_accuracy: 0.8823\n",
      "Epoch 96/150\n",
      "873/873 [==============================] - 13s 14ms/step - loss: 0.0546 - accuracy: 0.9895 - val_loss: 0.3248 - val_accuracy: 0.8909\n",
      "Epoch 97/150\n",
      "873/873 [==============================] - 13s 14ms/step - loss: 0.0495 - accuracy: 0.9934 - val_loss: 0.3269 - val_accuracy: 0.8925\n",
      "Epoch 98/150\n",
      "873/873 [==============================] - 13s 14ms/step - loss: 0.0492 - accuracy: 0.9937 - val_loss: 0.3533 - val_accuracy: 0.8742\n",
      "Epoch 99/150\n",
      "873/873 [==============================] - 13s 14ms/step - loss: 0.0484 - accuracy: 0.9932 - val_loss: 0.3417 - val_accuracy: 0.8742\n",
      "Epoch 100/150\n",
      "873/873 [==============================] - 13s 14ms/step - loss: 0.0467 - accuracy: 0.9936 - val_loss: 0.4992 - val_accuracy: 0.8323\n",
      "Epoch 101/150\n",
      "873/873 [==============================] - 13s 14ms/step - loss: 0.0481 - accuracy: 0.9918 - val_loss: 0.3453 - val_accuracy: 0.8801\n",
      "Epoch 102/150\n",
      "873/873 [==============================] - 13s 14ms/step - loss: 0.0458 - accuracy: 0.9929 - val_loss: 0.3419 - val_accuracy: 0.8828\n",
      "Epoch 103/150\n",
      "873/873 [==============================] - 13s 14ms/step - loss: 0.0482 - accuracy: 0.9924 - val_loss: 0.3239 - val_accuracy: 0.8817\n",
      "Epoch 104/150\n",
      "873/873 [==============================] - 13s 14ms/step - loss: 0.0418 - accuracy: 0.9951 - val_loss: 0.3218 - val_accuracy: 0.8796\n",
      "Epoch 105/150\n",
      "873/873 [==============================] - 13s 14ms/step - loss: 0.0447 - accuracy: 0.9942 - val_loss: 0.3665 - val_accuracy: 0.8602\n",
      "Epoch 106/150\n",
      "873/873 [==============================] - 13s 14ms/step - loss: 0.0422 - accuracy: 0.9956 - val_loss: 0.3523 - val_accuracy: 0.8726\n",
      "Epoch 107/150\n",
      "873/873 [==============================] - 13s 14ms/step - loss: 0.0429 - accuracy: 0.9942 - val_loss: 0.3247 - val_accuracy: 0.8849\n",
      "Epoch 108/150\n",
      "873/873 [==============================] - 13s 14ms/step - loss: 0.0425 - accuracy: 0.9944 - val_loss: 0.3311 - val_accuracy: 0.8866\n",
      "Epoch 109/150\n",
      "873/873 [==============================] - 13s 14ms/step - loss: 0.0413 - accuracy: 0.9948 - val_loss: 0.3359 - val_accuracy: 0.8758\n",
      "Epoch 110/150\n",
      "873/873 [==============================] - 13s 14ms/step - loss: 0.0443 - accuracy: 0.9926 - val_loss: 0.3551 - val_accuracy: 0.8747\n",
      "Epoch 111/150\n",
      "873/873 [==============================] - 13s 14ms/step - loss: 0.0376 - accuracy: 0.9959 - val_loss: 0.3978 - val_accuracy: 0.8597\n",
      "Epoch 112/150\n",
      "873/873 [==============================] - 13s 14ms/step - loss: 0.0407 - accuracy: 0.9940 - val_loss: 0.3422 - val_accuracy: 0.8801\n",
      "Epoch 113/150\n"
     ]
    },
    {
     "name": "stdout",
     "output_type": "stream",
     "text": [
      "873/873 [==============================] - 12s 14ms/step - loss: 0.0391 - accuracy: 0.9950 - val_loss: 0.3633 - val_accuracy: 0.8688\n",
      "Epoch 114/150\n",
      "873/873 [==============================] - 13s 14ms/step - loss: 0.0406 - accuracy: 0.9941 - val_loss: 0.3276 - val_accuracy: 0.8871\n",
      "Epoch 115/150\n",
      "873/873 [==============================] - 13s 14ms/step - loss: 0.0373 - accuracy: 0.9961 - val_loss: 0.3290 - val_accuracy: 0.8876\n",
      "Epoch 116/150\n",
      "873/873 [==============================] - 12s 14ms/step - loss: 0.0378 - accuracy: 0.9955 - val_loss: 0.3515 - val_accuracy: 0.8866\n",
      "Epoch 117/150\n",
      "873/873 [==============================] - 13s 14ms/step - loss: 0.0358 - accuracy: 0.9966 - val_loss: 0.3681 - val_accuracy: 0.8645\n",
      "Epoch 118/150\n",
      "873/873 [==============================] - 13s 14ms/step - loss: 0.0402 - accuracy: 0.9941 - val_loss: 0.3357 - val_accuracy: 0.8828\n",
      "Epoch 119/150\n",
      "873/873 [==============================] - 13s 14ms/step - loss: 0.0375 - accuracy: 0.9957 - val_loss: 0.3321 - val_accuracy: 0.8914\n",
      "Epoch 120/150\n",
      "873/873 [==============================] - 13s 14ms/step - loss: 0.0360 - accuracy: 0.9957 - val_loss: 0.3546 - val_accuracy: 0.8790\n",
      "Epoch 121/150\n",
      "873/873 [==============================] - 13s 14ms/step - loss: 0.0349 - accuracy: 0.9961 - val_loss: 0.3316 - val_accuracy: 0.8866\n",
      "Epoch 122/150\n",
      "873/873 [==============================] - 13s 14ms/step - loss: 0.0420 - accuracy: 0.9930 - val_loss: 0.3443 - val_accuracy: 0.8769\n",
      "Epoch 123/150\n",
      "873/873 [==============================] - 13s 14ms/step - loss: 0.0321 - accuracy: 0.9971 - val_loss: 0.3345 - val_accuracy: 0.8844\n",
      "Epoch 124/150\n",
      "873/873 [==============================] - 12s 14ms/step - loss: 0.0325 - accuracy: 0.9965 - val_loss: 0.3500 - val_accuracy: 0.8769\n",
      "Epoch 125/150\n",
      "873/873 [==============================] - 12s 14ms/step - loss: 0.0317 - accuracy: 0.9971 - val_loss: 0.3339 - val_accuracy: 0.8849\n"
     ]
    },
    {
     "data": {
      "text/plain": [
       "<keras.callbacks.History at 0x27c98b3a0d0>"
      ]
     },
     "execution_count": 19,
     "metadata": {},
     "output_type": "execute_result"
    }
   ],
   "source": [
    "from tensorflow.keras.callbacks import EarlyStopping\n",
    "early_stop = EarlyStopping(monitor = 'val_loss', patience = 40 )\n",
    "\n",
    "m1.fit(X_train,y_train,epochs=150,batch_size=16, validation_data=(X_val,y_val), callbacks = [early_stop], verbose=1)"
   ]
  },
  {
   "cell_type": "code",
   "execution_count": 20,
   "metadata": {
    "id": "d6OA7oX-yByT"
   },
   "outputs": [],
   "source": [
    "# Get training history\n",
    "metrics = pd.DataFrame(m1.history.history)"
   ]
  },
  {
   "cell_type": "code",
   "execution_count": 21,
   "metadata": {},
   "outputs": [],
   "source": [
    "import os\n",
    "exp_num = []\n",
    "if not os.path.exists(\"./experiments\"):\n",
    "    os.mkdir(\"./experiments\")\n",
    "folders = os.listdir(\"./experiments\")\n",
    "for folder in folders:\n",
    "    exp_num.append(int(folder.split(\"#\")[1]))\n",
    "\n",
    "\n",
    "if len(exp_num) == 0:\n",
    "    exp_path = r\"./experiments/exp#1\"\n",
    "else:\n",
    "    exp_path = r\"./experiments/exp#\"+str(max(exp_num)+1)\n",
    "\n",
    "\n",
    "\n",
    "\n",
    "os.mkdir(exp_path)\n",
    "os.mkdir(os.path.join(exp_path, \"results\"))\n",
    "os.mkdir(os.path.join(exp_path, \"weights\"))\n",
    "\n",
    "results = os.path.join(exp_path, \"results\")\n",
    "weights = os.path.join(exp_path, \"weights\")"
   ]
  },
  {
   "cell_type": "code",
   "execution_count": 22,
   "metadata": {},
   "outputs": [
    {
     "name": "stdout",
     "output_type": "stream",
     "text": [
      "./experiments/exp#5\\results\n"
     ]
    }
   ],
   "source": [
    "print(results)"
   ]
  },
  {
   "cell_type": "code",
   "execution_count": 23,
   "metadata": {
    "id": "vs5CCwj993FX"
   },
   "outputs": [
    {
     "name": "stdout",
     "output_type": "stream",
     "text": [
      "88/88 [==============================] - 3s 21ms/step - loss: 0.3305 - accuracy: 0.8908\n"
     ]
    }
   ],
   "source": [
    "# Save The Trained model along with it training history   \n",
    "Accuracy = m1.evaluate(X_test, y_test)[-1]\n",
    "name = str(round(Accuracy, 4))\n",
    "\n",
    "metrics.to_pickle(os.path.join(results, name+'.pkl'))\n",
    "m1.save(os.path.join(weights, name + '.h5'))"
   ]
  },
  {
   "cell_type": "code",
   "execution_count": 24,
   "metadata": {
    "id": "5F7i-oCwytup",
    "scrolled": true
   },
   "outputs": [
    {
     "data": {
      "image/png": "[encoded data removed]",
      "text/plain": [
       "<Figure size 720x504 with 1 Axes>"
      ]
     },
     "metadata": {
      "needs_background": "light"
     },
     "output_type": "display_data"
    },
    {
     "data": {
      "image/png": "[encoded data removed]",
      "text/plain": [
       "<Figure size 720x504 with 1 Axes>"
      ]
     },
     "metadata": {
      "needs_background": "light"
     },
     "output_type": "display_data"
    }
   ],
   "source": [
    "## Dispaly the plot of \n",
    "rows = 2\n",
    "columns = 1\n",
    "  \n",
    "# Display Train loss vs Validation loss at each Epoch\n",
    "fig = plt.figure(figsize=(10, 7))\n",
    "fig.add_subplot(rows, columns, 1)\n",
    "plt.plot(metrics['loss'])\n",
    "plt.plot(metrics['val_loss'])\n",
    "plt.title('Model Loss')\n",
    "plt.ylabel('loss')\n",
    "plt.xlabel('epoch')\n",
    "plt.legend(['train', 'val'], loc='upper left')\n",
    "plt.savefig(os.path.join(results, 'loss_epoch.png'))\n",
    "plt.show()\n",
    "\n",
    "  \n",
    "# Display Train loss vs Validation loss at each Epoch\n",
    "fig = plt.figure(figsize=(10, 7))\n",
    "fig.add_subplot(rows, columns, 2)\n",
    "plt.plot(metrics['accuracy'])\n",
    "plt.plot(metrics['val_accuracy'])\n",
    "plt.title('Model Accuracy')\n",
    "plt.ylabel('accuracy')\n",
    "plt.xlabel('epoch')\n",
    "plt.legend(['train', 'val'], loc='upper left')\n",
    "plt.savefig(os.path.join(results, 'acc_epoch.png'))\n",
    "plt.show()\n",
    "\n"
   ]
  },
  {
   "cell_type": "code",
   "execution_count": 25,
   "metadata": {
    "id": "HQOKaA8zfv4K"
   },
   "outputs": [],
   "source": [
    "## Get the \n",
    "predict_x = m1.predict(X_test) \n",
    "predictions = np.argmax(predict_x,axis=1) "
   ]
  },
  {
   "cell_type": "code",
   "execution_count": 26,
   "metadata": {
    "id": "xy9_ZzsYkByi"
   },
   "outputs": [],
   "source": [
    "# Decode the Model's predections  (from [0,1,0,2..] to ['Glioma','Meningioma'...]) of the Test set using the the dictionary 'decode_dict' \n",
    "predictions = np.vectorize(decode_dict.get)(predictions)"
   ]
  },
  {
   "cell_type": "code",
   "execution_count": 27,
   "metadata": {
    "id": "IVYX1MCzjx00"
   },
   "outputs": [
    {
     "name": "stdout",
     "output_type": "stream",
     "text": [
      "              precision    recall  f1-score   support\n",
      "\n",
      "   Glioma II       0.82      0.78      0.80       420\n",
      "  Glioma III       0.73      0.81      0.77       308\n",
      "   Glioma VI       0.82      0.77      0.80       440\n",
      "  Meningioma       0.94      0.91      0.92       384\n",
      "    No tumor       0.99      0.99      0.99       692\n",
      "   Pituitary       0.94      0.97      0.96       548\n",
      "\n",
      "    accuracy                           0.89      2792\n",
      "   macro avg       0.87      0.87      0.87      2792\n",
      "weighted avg       0.89      0.89      0.89      2792\n",
      "\n"
     ]
    }
   ],
   "source": [
    "print(classification_report(y_test_eval, predictions))"
   ]
  },
  {
   "cell_type": "code",
   "execution_count": 28,
   "metadata": {
    "id": "HOVPJjy0udhD"
   },
   "outputs": [
    {
     "data": {
      "image/png": "[encoded data removed]",
      "text/plain": [
       "<Figure size 720x504 with 2 Axes>"
      ]
     },
     "metadata": {
      "needs_background": "light"
     },
     "output_type": "display_data"
    }
   ],
   "source": [
    "labels = sorted(aug_test_DF.Label.unique())\n",
    "\n",
    "cm = pd.DataFrame(confusion_matrix(y_test_eval, predictions), index=labels, columns=labels)\n",
    "plt.figure(figsize = (10,7))\n",
    "plt.title('Confusion matrix')\n",
    "sns.heatmap(cm, annot=True, cmap=\"PuBu\",fmt = 'd')\n",
    "plt.ylabel('True labels')\n",
    "plt.xlabel('Predicted labels')\n",
    "plt.savefig(os.path.join(results, 'confusion_matrix.png'))\n",
    "plt.show()"
   ]
  }
 ],
 "metadata": {
  "accelerator": "GPU",
  "colab": {
   "collapsed_sections": [],
   "name": "5_labels_model_v1.ipynb",
   "provenance": []
  },
  "kernelspec": {
   "display_name": "Python 3 (ipykernel)",
   "language": "python",
   "name": "python3"
  },
  "language_info": {
   "codemirror_mode": {
    "name": "ipython",
    "version": 3
   },
   "file_extension": ".py",
   "mimetype": "text/x-python",
   "name": "python",
   "nbconvert_exporter": "python",
   "pygments_lexer": "ipython3",
   "version": "3.9.7"
  }
 },
 "nbformat": 4,
 "nbformat_minor": 1
}
