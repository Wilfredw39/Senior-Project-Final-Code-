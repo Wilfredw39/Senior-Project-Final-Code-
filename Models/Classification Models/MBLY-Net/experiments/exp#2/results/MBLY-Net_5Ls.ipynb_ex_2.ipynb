{
 "cells": [
  {
   "cell_type": "markdown",
   "metadata": {
    "id": "vt51_KACTdGf"
   },
   "source": [
    "## 0. Setting up the Environment\n"
   ]
  },
  {
   "cell_type": "code",
   "execution_count": 1,
   "metadata": {
    "colab": {
     "base_uri": "https://localhost:8080/"
    },
    "id": "D4Z6Zv3PSOcg",
    "outputId": "b87040f7-50f1-4633-bcd9-415194d37d2e"
   },
   "outputs": [],
   "source": [
    "## impoort labaries \n",
    "import os \n",
    "import cv2\n",
    "import mat73\n",
    "import time\n",
    "import keras\n",
    "import pandas as pd\n",
    "import numpy as np \n",
    "import seaborn as sns\n",
    "import skimage\n",
    "import tensorflow as tf\n",
    "import matplotlib.pyplot as plt\n",
    "from PIL import Image, ImageOps \n",
    "from skimage.transform import resize\n",
    "from keras.models import Sequential\n",
    "from tensorflow.keras import optimizers\n",
    "from tqdm.notebook import tqdm_notebook as tqdm\n",
    "from sklearn.metrics import classification_report, confusion_matrix\n",
    "from keras.layers import Conv2D, MaxPooling2D, Flatten, Dense, Dropout, BatchNormalization,  Convolution2D"
   ]
  },
  {
   "cell_type": "markdown",
   "metadata": {
    "id": "sYWmkuxOWtm4"
   },
   "source": [
    "## 1. Data Importing "
   ]
  },
  {
   "cell_type": "code",
   "execution_count": 2,
   "metadata": {},
   "outputs": [],
   "source": [
    "SIZE_X = 128\n",
    "SIZE_Y = 128\n",
    "\n",
    "aug_train_DF = pd.read_pickle(r\"../../../Datasets/Dataset_B/aug_train_DF_{}.pkl\".format(SIZE_X))\n",
    "aug_val_DF = pd.read_pickle(r\"../../../Datasets/Dataset_B/aug_val_DF_{}.pkl\".format(SIZE_X))\n",
    "aug_test_DF = pd.read_pickle(r\"../../../Datasets/Dataset_B/aug_test_DF_{}.pkl\".format(SIZE_X))"
   ]
  },
  {
   "cell_type": "code",
   "execution_count": 3,
   "metadata": {
    "colab": {
     "background_save": true
    },
    "id": "kaaNJb4nR5Z5",
    "outputId": "229fd2a5-846a-4168-abdf-2db9f91c282d"
   },
   "outputs": [
    {
     "data": {
      "text/html": [
       "<div>\n",
       "<style scoped>\n",
       "    .dataframe tbody tr th:only-of-type {\n",
       "        vertical-align: middle;\n",
       "    }\n",
       "\n",
       "    .dataframe tbody tr th {\n",
       "        vertical-align: top;\n",
       "    }\n",
       "\n",
       "    .dataframe thead th {\n",
       "        text-align: right;\n",
       "    }\n",
       "</style>\n",
       "<table border=\"1\" class=\"dataframe\">\n",
       "  <thead>\n",
       "    <tr style=\"text-align: right;\">\n",
       "      <th></th>\n",
       "      <th>PID</th>\n",
       "      <th>Label</th>\n",
       "      <th>Image</th>\n",
       "      <th>File</th>\n",
       "    </tr>\n",
       "  </thead>\n",
       "  <tbody>\n",
       "    <tr>\n",
       "      <th>923</th>\n",
       "      <td>HF1489</td>\n",
       "      <td>Glioma II</td>\n",
       "      <td>[[0, 0, 0, 0, 0, 0, 0, 0, 0, 0, 0, 0, 0, 0, 0,...</td>\n",
       "      <td>D:\\Datasets\\manifest-tXudPFfp43472957274060920...</td>\n",
       "    </tr>\n",
       "    <tr>\n",
       "      <th>6895</th>\n",
       "      <td>900-00-5404</td>\n",
       "      <td>Glioma VI</td>\n",
       "      <td>[[0, 1, 1, 0, 0, 0, 1, 1, 0, 0, 0, 1, 0, 1, 1,...</td>\n",
       "      <td>D:\\Datasets\\manifest-tXudPFfp43472957274060920...</td>\n",
       "    </tr>\n",
       "    <tr>\n",
       "      <th>940</th>\n",
       "      <td>113741</td>\n",
       "      <td>Pituitary</td>\n",
       "      <td>[[0, 0, 0, 0, 0, 0, 0, 0, 0, 0, 1, 1, 0, 1, 1,...</td>\n",
       "      <td>1153.mat</td>\n",
       "    </tr>\n",
       "    <tr>\n",
       "      <th>6566</th>\n",
       "      <td>111366</td>\n",
       "      <td>Meningioma</td>\n",
       "      <td>[[0.0, 0.0, 0.0, 0.0, 0.0, 0.0, 0.0, 0.0, 0.0,...</td>\n",
       "      <td>590.mat</td>\n",
       "    </tr>\n",
       "    <tr>\n",
       "      <th>1870</th>\n",
       "      <td>900-00-5299</td>\n",
       "      <td>Glioma VI</td>\n",
       "      <td>[[1, 1, 4, 5, 2, 0, 2, 1, 2, 3, 2, 1, 0, 2, 3,...</td>\n",
       "      <td>D:\\Datasets\\manifest-tXudPFfp43472957274060920...</td>\n",
       "    </tr>\n",
       "  </tbody>\n",
       "</table>\n",
       "</div>"
      ],
      "text/plain": [
       "              PID       Label  \\\n",
       "923        HF1489   Glioma II   \n",
       "6895  900-00-5404   Glioma VI   \n",
       "940        113741   Pituitary   \n",
       "6566       111366  Meningioma   \n",
       "1870  900-00-5299   Glioma VI   \n",
       "\n",
       "                                                  Image  \\\n",
       "923   [[0, 0, 0, 0, 0, 0, 0, 0, 0, 0, 0, 0, 0, 0, 0,...   \n",
       "6895  [[0, 1, 1, 0, 0, 0, 1, 1, 0, 0, 0, 1, 0, 1, 1,...   \n",
       "940   [[0, 0, 0, 0, 0, 0, 0, 0, 0, 0, 1, 1, 0, 1, 1,...   \n",
       "6566  [[0.0, 0.0, 0.0, 0.0, 0.0, 0.0, 0.0, 0.0, 0.0,...   \n",
       "1870  [[1, 1, 4, 5, 2, 0, 2, 1, 2, 3, 2, 1, 0, 2, 3,...   \n",
       "\n",
       "                                                   File  \n",
       "923   D:\\Datasets\\manifest-tXudPFfp43472957274060920...  \n",
       "6895  D:\\Datasets\\manifest-tXudPFfp43472957274060920...  \n",
       "940                                            1153.mat  \n",
       "6566                                            590.mat  \n",
       "1870  D:\\Datasets\\manifest-tXudPFfp43472957274060920...  "
      ]
     },
     "execution_count": 3,
     "metadata": {},
     "output_type": "execute_result"
    }
   ],
   "source": [
    "## Combain the df with the Pitutary & Meningioma types with the dataframe of the Glioma grades (I, II,, IV).\n",
    "\n",
    "pd.concat([aug_train_DF, aug_val_DF, aug_test_DF], axis=0, ignore_index = True).sample(5)"
   ]
  },
  {
   "cell_type": "code",
   "execution_count": 4,
   "metadata": {
    "colab": {
     "background_save": true
    },
    "id": "uJEttBBOU9IN",
    "outputId": "d176e92f-d35f-4f92-a264-ead1e87244e6"
   },
   "outputs": [
    {
     "name": "stderr",
     "output_type": "stream",
     "text": [
      "C:\\Users\\Ma7moud\\anaconda3\\envs\\T-UNet\\lib\\site-packages\\seaborn\\_decorators.py:36: FutureWarning: Pass the following variable as a keyword arg: x. From version 0.12, the only valid positional argument will be `data`, and passing other arguments without an explicit keyword will result in an error or misinterpretation.\n",
      "  warnings.warn(\n"
     ]
    },
    {
     "data": {
      "image/png": "[encoded data removed]",
      "text/plain": [
       "<Figure size 432x288 with 1 Axes>"
      ]
     },
     "metadata": {
      "needs_background": "light"
     },
     "output_type": "display_data"
    }
   ],
   "source": [
    "sns.countplot(pd.concat([aug_train_DF, aug_val_DF, aug_test_DF], axis=0, ignore_index = True).Label)\n",
    "plt.show()"
   ]
  },
  {
   "cell_type": "code",
   "execution_count": 5,
   "metadata": {
    "colab": {
     "background_save": true
    },
    "id": "AWLSJpw6WVVo",
    "outputId": "348d3fee-c3a5-442d-96af-5711dec23128"
   },
   "outputs": [
    {
     "data": {
      "image/png": "[encoded data removed]",
      "text/plain": [
       "<Figure size 432x288 with 1 Axes>"
      ]
     },
     "metadata": {},
     "output_type": "display_data"
    }
   ],
   "source": [
    "data = pd.concat([aug_train_DF, aug_val_DF, aug_test_DF], axis=0, ignore_index = True).groupby(\"Label\")[\"Label\"].count()\n",
    "data.plot.pie(autopct=\"%.1f%%\");"
   ]
  },
  {
   "cell_type": "markdown",
   "metadata": {
    "id": "Zf3vh4d7w3ZP"
   },
   "source": [
    "## 2. Data-Preprocessing "
   ]
  },
  {
   "cell_type": "markdown",
   "metadata": {
    "id": "Kd502KoZONei"
   },
   "source": [
    "### 2.1 Image Resizing \n"
   ]
  },
  {
   "cell_type": "markdown",
   "metadata": {
    "id": "oDIYJ9-3OWho"
   },
   "source": [
    "### 2.2 Data Augmentation"
   ]
  },
  {
   "cell_type": "markdown",
   "metadata": {},
   "source": [
    "### 2.3 Grayscale to RGB"
   ]
  },
  {
   "cell_type": "code",
   "execution_count": 6,
   "metadata": {
    "colab": {
     "background_save": true
    },
    "id": "hzz5yapeG-M7",
    "outputId": "0d2f1eb1-953a-4141-8ab9-4cb02b8519e8"
   },
   "outputs": [],
   "source": [
    "def normalize(img):\n",
    "    plt.imsave('DR.png', img, cmap='gray')\n",
    "    return cv2.imread('DR.png')"
   ]
  },
  {
   "cell_type": "code",
   "execution_count": 7,
   "metadata": {},
   "outputs": [],
   "source": [
    "aug_train_DF[\"Image\"] = aug_train_DF[\"Image\"].apply(normalize)\n",
    "aug_val_DF[\"Image\"] = aug_val_DF[\"Image\"].apply(normalize)\n",
    "aug_test_DF[\"Image\"] = aug_test_DF[\"Image\"].apply(normalize)"
   ]
  },
  {
   "cell_type": "markdown",
   "metadata": {
    "id": "yg8moTnTaNeT"
   },
   "source": [
    "### 2.4 Splitting Data into Train, Test, and Validation Sets"
   ]
  },
  {
   "cell_type": "code",
   "execution_count": 8,
   "metadata": {},
   "outputs": [],
   "source": [
    "y_train = aug_train_DF[\"Label\"]\n",
    "X_train = aug_train_DF['Image'].tolist()\n",
    "X_train = np.array(X_train).reshape(-1, SIZE_X, SIZE_Y, 3)\n",
    "\n",
    "\n",
    "y_val = aug_val_DF[\"Label\"]\n",
    "X_val = aug_val_DF['Image'].tolist()\n",
    "X_val = np.array(X_val).reshape(-1, SIZE_X, SIZE_Y, 3)\n",
    "\n",
    "y_test = aug_test_DF[\"Label\"]\n",
    "X_test = aug_test_DF['Image'].tolist()\n",
    "X_test = np.array(X_test).reshape(-1, SIZE_X, SIZE_Y, 3)\n"
   ]
  },
  {
   "cell_type": "code",
   "execution_count": 9,
   "metadata": {},
   "outputs": [
    {
     "name": "stdout",
     "output_type": "stream",
     "text": [
      "X_train shape: (10676, 128, 128, 3) | y_train shape: (10676,)\n",
      "X_val shape  : (1424, 128, 128, 3)  | y_test shape :  (1424,)\n",
      "X_test shape : (2136, 128, 128, 3)  | y_test shape :  (2136,)\n"
     ]
    }
   ],
   "source": [
    "print(\"X_train shape:\", X_train.shape,\"| y_train shape:\", y_train.shape)\n",
    "print(\"X_val shape  :\",X_val.shape,\" | y_test shape : \", y_val.shape)\n",
    "print(\"X_test shape :\",X_test.shape,\" | y_test shape : \", y_test.shape)"
   ]
  },
  {
   "cell_type": "markdown",
   "metadata": {},
   "source": [
    "### 2.5 One-Hot Encode the labels "
   ]
  },
  {
   "cell_type": "code",
   "execution_count": 10,
   "metadata": {
    "colab": {
     "background_save": true
    },
    "id": "uR_Cv0khfpyS",
    "outputId": "0fa96dd1-5899-45b2-9d73-5fcbc132a797"
   },
   "outputs": [],
   "source": [
    "# saving a copy of the testing labels before one hot encoding\n",
    "y_test_eval = y_test\n",
    "# one hot endcoding the labels \n",
    "y_train = pd.get_dummies(y_train)\n",
    "y_test  = pd.get_dummies(y_test)\n",
    "y_val   = pd.get_dummies(y_val)"
   ]
  },
  {
   "cell_type": "code",
   "execution_count": 11,
   "metadata": {},
   "outputs": [
    {
     "name": "stdout",
     "output_type": "stream",
     "text": [
      "X_train shape: (10676, 128, 128, 3) | y_train shape: (10676, 5)\n",
      "X_test shape : (2136, 128, 128, 3)  | y_test shape:  (2136, 5)\n",
      "X_val shape  : (1424, 128, 128, 3)  | y_val shape :  (1424, 5)\n",
      "\n",
      "Total number: 14236\n"
     ]
    }
   ],
   "source": [
    "print(\"X_train shape:\", X_train.shape,\"| y_train shape:\", y_train.shape)\n",
    "print(\"X_test shape :\",X_test.shape,\" | y_test shape: \", y_test.shape)\n",
    "print(\"X_val shape  :\",X_val.shape,\" | y_val shape : \", y_val.shape)\n",
    "print(\"\\nTotal number: {}\".format(len(aug_train_DF)+len(aug_val_DF)+len(aug_test_DF)))"
   ]
  },
  {
   "cell_type": "code",
   "execution_count": 12,
   "metadata": {
    "colab": {
     "background_save": true
    },
    "id": "3DctvR_fVPlF",
    "outputId": "bdf93bfa-b00d-49a3-99c8-f2bde2731658"
   },
   "outputs": [
    {
     "data": {
      "text/html": [
       "<div>\n",
       "<style scoped>\n",
       "    .dataframe tbody tr th:only-of-type {\n",
       "        vertical-align: middle;\n",
       "    }\n",
       "\n",
       "    .dataframe tbody tr th {\n",
       "        vertical-align: top;\n",
       "    }\n",
       "\n",
       "    .dataframe thead th {\n",
       "        text-align: right;\n",
       "    }\n",
       "</style>\n",
       "<table border=\"1\" class=\"dataframe\">\n",
       "  <thead>\n",
       "    <tr style=\"text-align: right;\">\n",
       "      <th></th>\n",
       "      <th>Glioma II</th>\n",
       "      <th>Glioma III</th>\n",
       "      <th>Glioma VI</th>\n",
       "      <th>Meningioma</th>\n",
       "      <th>Pituitary</th>\n",
       "    </tr>\n",
       "  </thead>\n",
       "  <tbody>\n",
       "    <tr>\n",
       "      <th>0</th>\n",
       "      <td>1</td>\n",
       "      <td>0</td>\n",
       "      <td>0</td>\n",
       "      <td>0</td>\n",
       "      <td>0</td>\n",
       "    </tr>\n",
       "    <tr>\n",
       "      <th>1</th>\n",
       "      <td>0</td>\n",
       "      <td>0</td>\n",
       "      <td>0</td>\n",
       "      <td>0</td>\n",
       "      <td>1</td>\n",
       "    </tr>\n",
       "    <tr>\n",
       "      <th>2</th>\n",
       "      <td>1</td>\n",
       "      <td>0</td>\n",
       "      <td>0</td>\n",
       "      <td>0</td>\n",
       "      <td>0</td>\n",
       "    </tr>\n",
       "    <tr>\n",
       "      <th>3</th>\n",
       "      <td>0</td>\n",
       "      <td>0</td>\n",
       "      <td>0</td>\n",
       "      <td>1</td>\n",
       "      <td>0</td>\n",
       "    </tr>\n",
       "    <tr>\n",
       "      <th>4</th>\n",
       "      <td>0</td>\n",
       "      <td>0</td>\n",
       "      <td>0</td>\n",
       "      <td>0</td>\n",
       "      <td>1</td>\n",
       "    </tr>\n",
       "    <tr>\n",
       "      <th>...</th>\n",
       "      <td>...</td>\n",
       "      <td>...</td>\n",
       "      <td>...</td>\n",
       "      <td>...</td>\n",
       "      <td>...</td>\n",
       "    </tr>\n",
       "    <tr>\n",
       "      <th>2131</th>\n",
       "      <td>0</td>\n",
       "      <td>0</td>\n",
       "      <td>0</td>\n",
       "      <td>0</td>\n",
       "      <td>1</td>\n",
       "    </tr>\n",
       "    <tr>\n",
       "      <th>2132</th>\n",
       "      <td>1</td>\n",
       "      <td>0</td>\n",
       "      <td>0</td>\n",
       "      <td>0</td>\n",
       "      <td>0</td>\n",
       "    </tr>\n",
       "    <tr>\n",
       "      <th>2133</th>\n",
       "      <td>0</td>\n",
       "      <td>0</td>\n",
       "      <td>0</td>\n",
       "      <td>0</td>\n",
       "      <td>1</td>\n",
       "    </tr>\n",
       "    <tr>\n",
       "      <th>2134</th>\n",
       "      <td>0</td>\n",
       "      <td>0</td>\n",
       "      <td>1</td>\n",
       "      <td>0</td>\n",
       "      <td>0</td>\n",
       "    </tr>\n",
       "    <tr>\n",
       "      <th>2135</th>\n",
       "      <td>0</td>\n",
       "      <td>0</td>\n",
       "      <td>0</td>\n",
       "      <td>1</td>\n",
       "      <td>0</td>\n",
       "    </tr>\n",
       "  </tbody>\n",
       "</table>\n",
       "<p>2136 rows × 5 columns</p>\n",
       "</div>"
      ],
      "text/plain": [
       "      Glioma II  Glioma III  Glioma VI  Meningioma  Pituitary\n",
       "0             1           0          0           0          0\n",
       "1             0           0          0           0          1\n",
       "2             1           0          0           0          0\n",
       "3             0           0          0           1          0\n",
       "4             0           0          0           0          1\n",
       "...         ...         ...        ...         ...        ...\n",
       "2131          0           0          0           0          1\n",
       "2132          1           0          0           0          0\n",
       "2133          0           0          0           0          1\n",
       "2134          0           0          1           0          0\n",
       "2135          0           0          0           1          0\n",
       "\n",
       "[2136 rows x 5 columns]"
      ]
     },
     "execution_count": 12,
     "metadata": {},
     "output_type": "execute_result"
    }
   ],
   "source": [
    "y_test"
   ]
  },
  {
   "cell_type": "markdown",
   "metadata": {},
   "source": [
    "### 2.6 Image Normalizatoin"
   ]
  },
  {
   "cell_type": "code",
   "execution_count": 13,
   "metadata": {},
   "outputs": [],
   "source": [
    "X_train = X_train / 255\n",
    "X_val   = X_val / 255\n",
    "X_test  = X_test / 255"
   ]
  },
  {
   "cell_type": "code",
   "execution_count": 14,
   "metadata": {
    "colab": {
     "background_save": true
    },
    "id": "jWFIvPjtiNio"
   },
   "outputs": [],
   "source": [
    "## This Dictionary is used to decode the model's predicted values.  \n",
    "decode_dict = {0 : \"Glioma II\", 1 : \"Glioma III\", 2 : \"Glioma VI\", 3: \"Meningioma\", 4: \"Pituitary\"}"
   ]
  },
  {
   "cell_type": "code",
   "execution_count": 15,
   "metadata": {
    "colab": {
     "background_save": true
    },
    "id": "PcsCoY3jggfU",
    "outputId": "3b3c30b0-a9af-4923-a318-cea2b5587807"
   },
   "outputs": [
    {
     "data": {
      "image/png": "[encoded data removed]",
      "text/plain": [
       "<Figure size 936x576 with 1 Axes>"
      ]
     },
     "metadata": {},
     "output_type": "display_data"
    }
   ],
   "source": [
    "import matplotlib.pyplot as plt\n",
    "import numpy as np\n",
    "##  Creating a Pie chart illustrating the percentage of the train, validation, test sets.\n",
    "Data = np.array([len(y_train), len(y_test), len(y_val)])\n",
    "mylabels = [\"Test Set\", \"Test Set\", \"Validation Set\"]\n",
    "plt.figure(figsize=(13, 8))\n",
    "plt.pie(Data, labels = mylabels, autopct=\"%.1f%%\", )\n",
    "plt.legend()\n",
    "plt.show() "
   ]
  },
  {
   "cell_type": "markdown",
   "metadata": {
    "id": "zDCzea2Klw_1"
   },
   "source": [
    "## 3. Models Creation\n"
   ]
  },
  {
   "cell_type": "code",
   "execution_count": 16,
   "metadata": {
    "colab": {
     "background_save": true
    },
    "id": "K58Sn8Gt_6v9"
   },
   "outputs": [],
   "source": [
    "m1 = Sequential()\n",
    "\n",
    "m1.add(Convolution2D( 32, (3,3), activation ='relu', input_shape = (SIZE_X, SIZE_Y, 3))) \n",
    "m1.add(MaxPooling2D(pool_size=2))\n",
    "m1.add(Convolution2D(filters=64, kernel_size=4, padding='same', activation='relu'))\n",
    "m1.add(MaxPooling2D(pool_size=2))\n",
    "m1.add(Convolution2D(filters=128, kernel_size=3, padding='same', activation='relu'))\n",
    "m1.add(MaxPooling2D(pool_size=2))\n",
    "m1.add(Dropout(0.50))\n",
    "m1.add(Convolution2D(filters=128, kernel_size=2, padding='same', activation='relu'))\n",
    "m1.add(MaxPooling2D(pool_size=2))\n",
    "m1.add(Dropout(0.50))\n",
    "m1.add(Flatten()) \n",
    "m1.add(Dense(units = 128, activation = 'relu'))\n",
    "m1.add(Dense(units = 32, activation = 'relu'))\n",
    "m1.add(Dense(units = 5, activation = 'softmax'))\n",
    "\n",
    "m1.compile(optimizer='adam', loss = 'categorical_crossentropy', metrics = ['accuracy'])"
   ]
  },
  {
   "cell_type": "code",
   "execution_count": null,
   "metadata": {},
   "outputs": [],
   "source": []
  },
  {
   "cell_type": "markdown",
   "metadata": {
    "id": "6aAVYS26t6c3"
   },
   "source": [
    "### 4. Model Training\n"
   ]
  },
  {
   "cell_type": "code",
   "execution_count": 17,
   "metadata": {
    "id": "LGT4MVY3tkyz"
   },
   "outputs": [
    {
     "name": "stdout",
     "output_type": "stream",
     "text": [
      "Epoch 1/150\n",
      "334/334 [==============================] - 8s 16ms/step - loss: 0.9337 - accuracy: 0.5858 - val_loss: 0.6271 - val_accuracy: 0.7205\n",
      "Epoch 2/150\n",
      "334/334 [==============================] - 5s 14ms/step - loss: 0.5475 - accuracy: 0.7540 - val_loss: 0.4836 - val_accuracy: 0.7830\n",
      "Epoch 3/150\n",
      "334/334 [==============================] - 5s 14ms/step - loss: 0.4397 - accuracy: 0.8081 - val_loss: 0.4514 - val_accuracy: 0.7928\n",
      "Epoch 4/150\n",
      "334/334 [==============================] - 5s 14ms/step - loss: 0.3524 - accuracy: 0.8537 - val_loss: 0.3506 - val_accuracy: 0.8574\n",
      "Epoch 5/150\n",
      "334/334 [==============================] - 5s 15ms/step - loss: 0.2988 - accuracy: 0.8806 - val_loss: 0.2889 - val_accuracy: 0.8841\n",
      "Epoch 6/150\n",
      "334/334 [==============================] - 5s 14ms/step - loss: 0.2471 - accuracy: 0.9018 - val_loss: 0.2704 - val_accuracy: 0.8996\n",
      "Epoch 7/150\n",
      "334/334 [==============================] - 5s 14ms/step - loss: 0.2009 - accuracy: 0.9204 - val_loss: 0.2593 - val_accuracy: 0.9038\n",
      "Epoch 8/150\n",
      "334/334 [==============================] - 5s 14ms/step - loss: 0.1984 - accuracy: 0.9204 - val_loss: 0.2397 - val_accuracy: 0.9185\n",
      "Epoch 9/150\n",
      "334/334 [==============================] - 5s 14ms/step - loss: 0.1535 - accuracy: 0.9414 - val_loss: 0.2425 - val_accuracy: 0.9080\n",
      "Epoch 10/150\n",
      "334/334 [==============================] - 5s 14ms/step - loss: 0.1423 - accuracy: 0.9453 - val_loss: 0.2171 - val_accuracy: 0.9164\n",
      "Epoch 11/150\n",
      "334/334 [==============================] - 5s 14ms/step - loss: 0.1264 - accuracy: 0.9524 - val_loss: 0.2863 - val_accuracy: 0.8940\n",
      "Epoch 12/150\n",
      "334/334 [==============================] - 5s 14ms/step - loss: 0.1198 - accuracy: 0.9542 - val_loss: 0.2166 - val_accuracy: 0.9129\n",
      "Epoch 13/150\n",
      "334/334 [==============================] - 5s 14ms/step - loss: 0.1087 - accuracy: 0.9598 - val_loss: 0.1778 - val_accuracy: 0.9354\n",
      "Epoch 14/150\n",
      "334/334 [==============================] - 5s 14ms/step - loss: 0.1059 - accuracy: 0.9609 - val_loss: 0.2545 - val_accuracy: 0.9150\n",
      "Epoch 15/150\n",
      "334/334 [==============================] - 5s 14ms/step - loss: 0.0869 - accuracy: 0.9667 - val_loss: 0.2495 - val_accuracy: 0.9249\n",
      "Epoch 16/150\n",
      "334/334 [==============================] - 5s 15ms/step - loss: 0.0864 - accuracy: 0.9676 - val_loss: 0.2349 - val_accuracy: 0.9242\n",
      "Epoch 17/150\n",
      "334/334 [==============================] - 5s 14ms/step - loss: 0.0853 - accuracy: 0.9689 - val_loss: 0.2138 - val_accuracy: 0.9312\n",
      "Epoch 18/150\n",
      "334/334 [==============================] - 5s 14ms/step - loss: 0.0854 - accuracy: 0.9689 - val_loss: 0.2334 - val_accuracy: 0.9284\n",
      "Epoch 19/150\n",
      "334/334 [==============================] - 5s 14ms/step - loss: 0.0651 - accuracy: 0.9753 - val_loss: 0.1990 - val_accuracy: 0.9312\n",
      "Epoch 20/150\n",
      "334/334 [==============================] - 5s 14ms/step - loss: 0.0640 - accuracy: 0.9781 - val_loss: 0.2057 - val_accuracy: 0.9326\n",
      "Epoch 21/150\n",
      "334/334 [==============================] - 5s 14ms/step - loss: 0.0619 - accuracy: 0.9788 - val_loss: 0.2356 - val_accuracy: 0.9298\n",
      "Epoch 22/150\n",
      "334/334 [==============================] - 5s 14ms/step - loss: 0.0632 - accuracy: 0.9773 - val_loss: 0.2138 - val_accuracy: 0.9340\n",
      "Epoch 23/150\n",
      "334/334 [==============================] - 5s 14ms/step - loss: 0.0668 - accuracy: 0.9779 - val_loss: 0.2060 - val_accuracy: 0.9424\n",
      "Epoch 24/150\n",
      "334/334 [==============================] - 5s 14ms/step - loss: 0.0568 - accuracy: 0.9817 - val_loss: 0.2128 - val_accuracy: 0.9396\n",
      "Epoch 25/150\n",
      "334/334 [==============================] - 5s 14ms/step - loss: 0.0575 - accuracy: 0.9805 - val_loss: 0.2145 - val_accuracy: 0.9319\n",
      "Epoch 26/150\n",
      "334/334 [==============================] - 5s 14ms/step - loss: 0.0563 - accuracy: 0.9795 - val_loss: 0.2078 - val_accuracy: 0.9361\n",
      "Epoch 27/150\n",
      "334/334 [==============================] - 5s 14ms/step - loss: 0.0655 - accuracy: 0.9786 - val_loss: 0.2019 - val_accuracy: 0.9340\n",
      "Epoch 28/150\n",
      "334/334 [==============================] - 5s 14ms/step - loss: 0.0498 - accuracy: 0.9844 - val_loss: 0.2044 - val_accuracy: 0.9354\n",
      "Epoch 29/150\n",
      "334/334 [==============================] - 5s 14ms/step - loss: 0.0385 - accuracy: 0.9864 - val_loss: 0.2404 - val_accuracy: 0.9312\n",
      "Epoch 30/150\n",
      "334/334 [==============================] - 5s 14ms/step - loss: 0.0474 - accuracy: 0.9845 - val_loss: 0.1989 - val_accuracy: 0.9459\n",
      "Epoch 31/150\n",
      "334/334 [==============================] - 5s 14ms/step - loss: 0.0455 - accuracy: 0.9859 - val_loss: 0.2651 - val_accuracy: 0.9312\n",
      "Epoch 32/150\n",
      "334/334 [==============================] - 5s 14ms/step - loss: 0.0529 - accuracy: 0.9826 - val_loss: 0.2069 - val_accuracy: 0.9466\n",
      "Epoch 33/150\n",
      "334/334 [==============================] - 5s 15ms/step - loss: 0.0438 - accuracy: 0.9851 - val_loss: 0.2423 - val_accuracy: 0.9347\n",
      "Epoch 34/150\n",
      "334/334 [==============================] - 5s 15ms/step - loss: 0.0323 - accuracy: 0.9889 - val_loss: 0.2338 - val_accuracy: 0.9333\n",
      "Epoch 35/150\n",
      "334/334 [==============================] - 5s 14ms/step - loss: 0.0433 - accuracy: 0.9861 - val_loss: 0.2441 - val_accuracy: 0.9403\n",
      "Epoch 36/150\n",
      "334/334 [==============================] - 5s 14ms/step - loss: 0.0392 - accuracy: 0.9859 - val_loss: 0.2481 - val_accuracy: 0.9291\n",
      "Epoch 37/150\n",
      "334/334 [==============================] - 5s 14ms/step - loss: 0.0406 - accuracy: 0.9866 - val_loss: 0.2098 - val_accuracy: 0.9403\n",
      "Epoch 38/150\n",
      "334/334 [==============================] - 5s 14ms/step - loss: 0.0328 - accuracy: 0.9889 - val_loss: 0.2680 - val_accuracy: 0.9298\n",
      "Epoch 39/150\n",
      "334/334 [==============================] - 5s 14ms/step - loss: 0.0500 - accuracy: 0.9834 - val_loss: 0.2886 - val_accuracy: 0.9221\n",
      "Epoch 40/150\n",
      "334/334 [==============================] - 5s 14ms/step - loss: 0.0372 - accuracy: 0.9867 - val_loss: 0.2684 - val_accuracy: 0.9263\n",
      "Epoch 41/150\n",
      "334/334 [==============================] - 5s 14ms/step - loss: 0.0460 - accuracy: 0.9864 - val_loss: 0.2443 - val_accuracy: 0.9333\n",
      "Epoch 42/150\n",
      "334/334 [==============================] - 5s 14ms/step - loss: 0.0484 - accuracy: 0.9835 - val_loss: 0.2597 - val_accuracy: 0.9319\n",
      "Epoch 43/150\n",
      "334/334 [==============================] - 5s 14ms/step - loss: 0.0312 - accuracy: 0.9912 - val_loss: 0.2353 - val_accuracy: 0.9361\n",
      "Epoch 44/150\n",
      "334/334 [==============================] - 5s 14ms/step - loss: 0.0367 - accuracy: 0.9881 - val_loss: 0.2305 - val_accuracy: 0.9417\n",
      "Epoch 45/150\n",
      "334/334 [==============================] - 5s 14ms/step - loss: 0.0358 - accuracy: 0.9870 - val_loss: 0.2004 - val_accuracy: 0.9459\n",
      "Epoch 46/150\n",
      "334/334 [==============================] - 5s 14ms/step - loss: 0.0419 - accuracy: 0.9871 - val_loss: 0.2565 - val_accuracy: 0.9347\n",
      "Epoch 47/150\n",
      "334/334 [==============================] - 5s 14ms/step - loss: 0.0218 - accuracy: 0.9925 - val_loss: 0.2550 - val_accuracy: 0.9424\n",
      "Epoch 48/150\n",
      "334/334 [==============================] - 5s 14ms/step - loss: 0.0306 - accuracy: 0.9899 - val_loss: 0.3106 - val_accuracy: 0.9333\n",
      "Epoch 49/150\n",
      "334/334 [==============================] - 5s 14ms/step - loss: 0.0538 - accuracy: 0.9845 - val_loss: 0.2721 - val_accuracy: 0.9192\n",
      "Epoch 50/150\n",
      "334/334 [==============================] - 5s 14ms/step - loss: 0.0400 - accuracy: 0.9875 - val_loss: 0.2225 - val_accuracy: 0.9382\n",
      "Epoch 51/150\n",
      "334/334 [==============================] - 5s 14ms/step - loss: 0.0297 - accuracy: 0.9903 - val_loss: 0.2384 - val_accuracy: 0.9354\n",
      "Epoch 52/150\n",
      "334/334 [==============================] - 5s 14ms/step - loss: 0.0366 - accuracy: 0.9880 - val_loss: 0.2123 - val_accuracy: 0.9431\n",
      "Epoch 53/150\n",
      "334/334 [==============================] - 5s 14ms/step - loss: 0.0329 - accuracy: 0.9901 - val_loss: 0.2446 - val_accuracy: 0.9242\n",
      "Epoch 54/150\n",
      "334/334 [==============================] - 5s 14ms/step - loss: 0.0358 - accuracy: 0.9876 - val_loss: 0.2602 - val_accuracy: 0.9326\n",
      "Epoch 55/150\n",
      "334/334 [==============================] - 5s 14ms/step - loss: 0.0316 - accuracy: 0.9891 - val_loss: 0.2439 - val_accuracy: 0.9368\n",
      "Epoch 56/150\n",
      "334/334 [==============================] - 5s 14ms/step - loss: 0.0322 - accuracy: 0.9904 - val_loss: 0.2476 - val_accuracy: 0.9347\n",
      "Epoch 57/150\n"
     ]
    },
    {
     "name": "stdout",
     "output_type": "stream",
     "text": [
      "334/334 [==============================] - 5s 14ms/step - loss: 0.0244 - accuracy: 0.9906 - val_loss: 0.2725 - val_accuracy: 0.9424\n",
      "Epoch 58/150\n",
      "334/334 [==============================] - 5s 14ms/step - loss: 0.0303 - accuracy: 0.9897 - val_loss: 0.2413 - val_accuracy: 0.9361\n",
      "Epoch 59/150\n",
      "334/334 [==============================] - 5s 14ms/step - loss: 0.0312 - accuracy: 0.9893 - val_loss: 0.2652 - val_accuracy: 0.9361\n",
      "Epoch 60/150\n",
      "334/334 [==============================] - 5s 14ms/step - loss: 0.0261 - accuracy: 0.9914 - val_loss: 0.2457 - val_accuracy: 0.9389\n",
      "Epoch 61/150\n",
      "334/334 [==============================] - 5s 14ms/step - loss: 0.0378 - accuracy: 0.9893 - val_loss: 0.3171 - val_accuracy: 0.9312\n",
      "Epoch 62/150\n",
      "334/334 [==============================] - 5s 14ms/step - loss: 0.0296 - accuracy: 0.9904 - val_loss: 0.2617 - val_accuracy: 0.9375\n",
      "Epoch 63/150\n",
      "334/334 [==============================] - 5s 14ms/step - loss: 0.0224 - accuracy: 0.9919 - val_loss: 0.2546 - val_accuracy: 0.9459\n",
      "Epoch 64/150\n",
      "334/334 [==============================] - 5s 14ms/step - loss: 0.0221 - accuracy: 0.9927 - val_loss: 0.3397 - val_accuracy: 0.9368\n",
      "Epoch 65/150\n",
      "334/334 [==============================] - 5s 14ms/step - loss: 0.0340 - accuracy: 0.9903 - val_loss: 0.2785 - val_accuracy: 0.9333\n",
      "Epoch 66/150\n",
      "334/334 [==============================] - 5s 14ms/step - loss: 0.0329 - accuracy: 0.9893 - val_loss: 0.2558 - val_accuracy: 0.9459\n",
      "Epoch 67/150\n",
      "334/334 [==============================] - 5s 14ms/step - loss: 0.0202 - accuracy: 0.9923 - val_loss: 0.2698 - val_accuracy: 0.9445\n",
      "Epoch 68/150\n",
      "334/334 [==============================] - 5s 14ms/step - loss: 0.0399 - accuracy: 0.9866 - val_loss: 0.2807 - val_accuracy: 0.9291\n",
      "Epoch 69/150\n",
      "334/334 [==============================] - 5s 14ms/step - loss: 0.0251 - accuracy: 0.9929 - val_loss: 0.2554 - val_accuracy: 0.9424\n",
      "Epoch 70/150\n",
      "334/334 [==============================] - 5s 14ms/step - loss: 0.0219 - accuracy: 0.9925 - val_loss: 0.2546 - val_accuracy: 0.9347\n",
      "Epoch 71/150\n",
      "334/334 [==============================] - 5s 14ms/step - loss: 0.0265 - accuracy: 0.9928 - val_loss: 0.2227 - val_accuracy: 0.9431\n",
      "Epoch 72/150\n",
      "334/334 [==============================] - 5s 14ms/step - loss: 0.0311 - accuracy: 0.9895 - val_loss: 0.2378 - val_accuracy: 0.9396\n",
      "Epoch 73/150\n",
      "334/334 [==============================] - 5s 14ms/step - loss: 0.0327 - accuracy: 0.9899 - val_loss: 0.2409 - val_accuracy: 0.9431\n",
      "Epoch 74/150\n",
      "334/334 [==============================] - 5s 14ms/step - loss: 0.0260 - accuracy: 0.9920 - val_loss: 0.2622 - val_accuracy: 0.9452\n",
      "Epoch 75/150\n",
      "334/334 [==============================] - 5s 14ms/step - loss: 0.0320 - accuracy: 0.9899 - val_loss: 0.2608 - val_accuracy: 0.9403\n",
      "Epoch 76/150\n",
      "334/334 [==============================] - 5s 14ms/step - loss: 0.0161 - accuracy: 0.9947 - val_loss: 0.2452 - val_accuracy: 0.9445\n",
      "Epoch 77/150\n",
      "334/334 [==============================] - 5s 14ms/step - loss: 0.0258 - accuracy: 0.9919 - val_loss: 0.2961 - val_accuracy: 0.9459\n",
      "Epoch 78/150\n",
      "334/334 [==============================] - 5s 14ms/step - loss: 0.0251 - accuracy: 0.9920 - val_loss: 0.2984 - val_accuracy: 0.9382\n",
      "Epoch 79/150\n",
      "334/334 [==============================] - 5s 14ms/step - loss: 0.0421 - accuracy: 0.9881 - val_loss: 0.2738 - val_accuracy: 0.9424\n",
      "Epoch 80/150\n",
      "334/334 [==============================] - 5s 14ms/step - loss: 0.0348 - accuracy: 0.9908 - val_loss: 0.2621 - val_accuracy: 0.9396\n",
      "Epoch 81/150\n",
      "334/334 [==============================] - 5s 14ms/step - loss: 0.0267 - accuracy: 0.9912 - val_loss: 0.2752 - val_accuracy: 0.9431\n",
      "Epoch 82/150\n",
      "334/334 [==============================] - 5s 14ms/step - loss: 0.0182 - accuracy: 0.9936 - val_loss: 0.3125 - val_accuracy: 0.9501\n",
      "Epoch 83/150\n",
      "334/334 [==============================] - 5s 14ms/step - loss: 0.0194 - accuracy: 0.9947 - val_loss: 0.2960 - val_accuracy: 0.9396\n",
      "Epoch 84/150\n",
      "334/334 [==============================] - 5s 14ms/step - loss: 0.0171 - accuracy: 0.9941 - val_loss: 0.2466 - val_accuracy: 0.9424\n",
      "Epoch 85/150\n",
      "334/334 [==============================] - 5s 14ms/step - loss: 0.0250 - accuracy: 0.9926 - val_loss: 0.2514 - val_accuracy: 0.9487\n",
      "Epoch 86/150\n",
      "334/334 [==============================] - 5s 14ms/step - loss: 0.0258 - accuracy: 0.9927 - val_loss: 0.2773 - val_accuracy: 0.9515\n",
      "Epoch 87/150\n",
      "334/334 [==============================] - 5s 14ms/step - loss: 0.0197 - accuracy: 0.9941 - val_loss: 0.2530 - val_accuracy: 0.9368\n",
      "Epoch 88/150\n",
      "334/334 [==============================] - 5s 14ms/step - loss: 0.0278 - accuracy: 0.9924 - val_loss: 0.2303 - val_accuracy: 0.9354\n",
      "Epoch 89/150\n",
      "334/334 [==============================] - 5s 14ms/step - loss: 0.0264 - accuracy: 0.9926 - val_loss: 0.1992 - val_accuracy: 0.9375\n",
      "Epoch 90/150\n",
      "334/334 [==============================] - 5s 14ms/step - loss: 0.0284 - accuracy: 0.9919 - val_loss: 0.2313 - val_accuracy: 0.9459\n",
      "Epoch 91/150\n",
      "334/334 [==============================] - 5s 14ms/step - loss: 0.0251 - accuracy: 0.9929 - val_loss: 0.2958 - val_accuracy: 0.9291\n",
      "Epoch 92/150\n",
      "334/334 [==============================] - 5s 14ms/step - loss: 0.0378 - accuracy: 0.9892 - val_loss: 0.2439 - val_accuracy: 0.9501\n",
      "Epoch 93/150\n",
      "334/334 [==============================] - 5s 14ms/step - loss: 0.0194 - accuracy: 0.9941 - val_loss: 0.2702 - val_accuracy: 0.9445\n",
      "Epoch 94/150\n",
      "334/334 [==============================] - 2s 7ms/step - loss: 0.0235 - accuracy: 0.9931 - val_loss: 0.2902 - val_accuracy: 0.9466\n",
      "Epoch 95/150\n",
      "334/334 [==============================] - 5s 14ms/step - loss: 0.0278 - accuracy: 0.9920 - val_loss: 0.3309 - val_accuracy: 0.9396\n",
      "Epoch 96/150\n",
      "334/334 [==============================] - 5s 14ms/step - loss: 0.0204 - accuracy: 0.9940 - val_loss: 0.3386 - val_accuracy: 0.9417\n",
      "Epoch 97/150\n",
      "334/334 [==============================] - 5s 14ms/step - loss: 0.0169 - accuracy: 0.9948 - val_loss: 0.2531 - val_accuracy: 0.9410\n",
      "Epoch 98/150\n",
      "334/334 [==============================] - 5s 14ms/step - loss: 0.0159 - accuracy: 0.9955 - val_loss: 0.2980 - val_accuracy: 0.9403\n",
      "Epoch 99/150\n",
      "334/334 [==============================] - 5s 14ms/step - loss: 0.0266 - accuracy: 0.9922 - val_loss: 0.3600 - val_accuracy: 0.9242\n",
      "Epoch 100/150\n",
      "334/334 [==============================] - 5s 14ms/step - loss: 0.0298 - accuracy: 0.9912 - val_loss: 0.2880 - val_accuracy: 0.9431\n",
      "Epoch 101/150\n",
      "334/334 [==============================] - 5s 14ms/step - loss: 0.0214 - accuracy: 0.9930 - val_loss: 0.2741 - val_accuracy: 0.9473\n",
      "Epoch 102/150\n",
      "334/334 [==============================] - 5s 14ms/step - loss: 0.0151 - accuracy: 0.9956 - val_loss: 0.2292 - val_accuracy: 0.9537\n",
      "Epoch 103/150\n",
      "334/334 [==============================] - 5s 14ms/step - loss: 0.0213 - accuracy: 0.9942 - val_loss: 0.2465 - val_accuracy: 0.9494\n",
      "Epoch 104/150\n",
      "334/334 [==============================] - 5s 14ms/step - loss: 0.0168 - accuracy: 0.9953 - val_loss: 0.2415 - val_accuracy: 0.9424\n",
      "Epoch 105/150\n",
      "334/334 [==============================] - 5s 14ms/step - loss: 0.0213 - accuracy: 0.9940 - val_loss: 0.2640 - val_accuracy: 0.9445\n",
      "Epoch 106/150\n",
      "334/334 [==============================] - 5s 14ms/step - loss: 0.0322 - accuracy: 0.9911 - val_loss: 0.3526 - val_accuracy: 0.9340\n",
      "Epoch 107/150\n",
      "334/334 [==============================] - 5s 14ms/step - loss: 0.0280 - accuracy: 0.9916 - val_loss: 0.2524 - val_accuracy: 0.9473\n",
      "Epoch 108/150\n",
      "334/334 [==============================] - 5s 14ms/step - loss: 0.0100 - accuracy: 0.9962 - val_loss: 0.2859 - val_accuracy: 0.9431\n",
      "Epoch 109/150\n",
      "334/334 [==============================] - 5s 14ms/step - loss: 0.0285 - accuracy: 0.9906 - val_loss: 0.2372 - val_accuracy: 0.9375\n",
      "Epoch 110/150\n",
      "334/334 [==============================] - 5s 14ms/step - loss: 0.0218 - accuracy: 0.9934 - val_loss: 0.2376 - val_accuracy: 0.9459\n",
      "Epoch 111/150\n",
      "334/334 [==============================] - 5s 14ms/step - loss: 0.0275 - accuracy: 0.9927 - val_loss: 0.2568 - val_accuracy: 0.9452\n",
      "Epoch 112/150\n",
      "334/334 [==============================] - 5s 14ms/step - loss: 0.0175 - accuracy: 0.9950 - val_loss: 0.3016 - val_accuracy: 0.9368\n",
      "Epoch 113/150\n"
     ]
    },
    {
     "name": "stdout",
     "output_type": "stream",
     "text": [
      "334/334 [==============================] - 5s 14ms/step - loss: 0.0223 - accuracy: 0.9932 - val_loss: 0.3005 - val_accuracy: 0.9382\n",
      "Epoch 114/150\n",
      "334/334 [==============================] - 5s 14ms/step - loss: 0.0296 - accuracy: 0.9921 - val_loss: 0.2776 - val_accuracy: 0.9354\n",
      "Epoch 115/150\n",
      "334/334 [==============================] - 5s 14ms/step - loss: 0.0198 - accuracy: 0.9943 - val_loss: 0.2162 - val_accuracy: 0.9466\n",
      "Epoch 116/150\n",
      "334/334 [==============================] - 5s 14ms/step - loss: 0.0088 - accuracy: 0.9972 - val_loss: 0.2707 - val_accuracy: 0.9445\n",
      "Epoch 117/150\n",
      "334/334 [==============================] - 5s 14ms/step - loss: 0.0229 - accuracy: 0.9944 - val_loss: 0.2722 - val_accuracy: 0.9424\n",
      "Epoch 118/150\n",
      "334/334 [==============================] - 5s 14ms/step - loss: 0.0165 - accuracy: 0.9946 - val_loss: 0.2793 - val_accuracy: 0.9417\n",
      "Epoch 119/150\n",
      "334/334 [==============================] - 5s 14ms/step - loss: 0.0291 - accuracy: 0.9920 - val_loss: 0.2194 - val_accuracy: 0.9537\n",
      "Epoch 120/150\n",
      "334/334 [==============================] - 5s 14ms/step - loss: 0.0292 - accuracy: 0.9919 - val_loss: 0.2626 - val_accuracy: 0.9445\n",
      "Epoch 121/150\n",
      "334/334 [==============================] - 5s 14ms/step - loss: 0.0207 - accuracy: 0.9948 - val_loss: 0.2463 - val_accuracy: 0.9452\n",
      "Epoch 122/150\n",
      "334/334 [==============================] - 5s 14ms/step - loss: 0.0147 - accuracy: 0.9953 - val_loss: 0.2675 - val_accuracy: 0.9424\n",
      "Epoch 123/150\n",
      "334/334 [==============================] - 5s 14ms/step - loss: 0.0193 - accuracy: 0.9943 - val_loss: 0.2761 - val_accuracy: 0.9424\n",
      "Epoch 124/150\n",
      "334/334 [==============================] - 5s 14ms/step - loss: 0.0124 - accuracy: 0.9963 - val_loss: 0.2236 - val_accuracy: 0.9466\n",
      "Epoch 125/150\n",
      "334/334 [==============================] - 5s 14ms/step - loss: 0.0198 - accuracy: 0.9947 - val_loss: 0.2413 - val_accuracy: 0.9459\n",
      "Epoch 126/150\n",
      "334/334 [==============================] - 5s 14ms/step - loss: 0.0218 - accuracy: 0.9939 - val_loss: 0.2603 - val_accuracy: 0.9417\n",
      "Epoch 127/150\n",
      "334/334 [==============================] - 5s 14ms/step - loss: 0.0299 - accuracy: 0.9917 - val_loss: 0.2775 - val_accuracy: 0.9459\n",
      "Epoch 128/150\n",
      "334/334 [==============================] - 5s 14ms/step - loss: 0.0157 - accuracy: 0.9950 - val_loss: 0.2893 - val_accuracy: 0.9515\n",
      "Epoch 129/150\n",
      "334/334 [==============================] - 5s 14ms/step - loss: 0.0216 - accuracy: 0.9935 - val_loss: 0.3009 - val_accuracy: 0.9494\n",
      "Epoch 130/150\n",
      "334/334 [==============================] - 5s 14ms/step - loss: 0.0317 - accuracy: 0.9917 - val_loss: 0.2471 - val_accuracy: 0.9494\n",
      "Epoch 131/150\n",
      "334/334 [==============================] - 5s 14ms/step - loss: 0.0163 - accuracy: 0.9946 - val_loss: 0.2570 - val_accuracy: 0.9487\n",
      "Epoch 132/150\n",
      "334/334 [==============================] - 5s 14ms/step - loss: 0.0160 - accuracy: 0.9958 - val_loss: 0.2333 - val_accuracy: 0.9501\n",
      "Epoch 133/150\n",
      "334/334 [==============================] - 5s 14ms/step - loss: 0.0147 - accuracy: 0.9957 - val_loss: 0.2318 - val_accuracy: 0.9508\n",
      "Epoch 134/150\n",
      "334/334 [==============================] - 5s 14ms/step - loss: 0.0214 - accuracy: 0.9945 - val_loss: 0.2295 - val_accuracy: 0.9403\n",
      "Epoch 135/150\n",
      "334/334 [==============================] - 5s 14ms/step - loss: 0.0135 - accuracy: 0.9956 - val_loss: 0.2885 - val_accuracy: 0.9445\n",
      "Epoch 136/150\n",
      "334/334 [==============================] - 5s 14ms/step - loss: 0.0305 - accuracy: 0.9919 - val_loss: 0.2733 - val_accuracy: 0.9424\n",
      "Epoch 137/150\n",
      "334/334 [==============================] - 5s 14ms/step - loss: 0.0148 - accuracy: 0.9945 - val_loss: 0.3029 - val_accuracy: 0.9438\n",
      "Epoch 138/150\n",
      "334/334 [==============================] - 5s 14ms/step - loss: 0.0175 - accuracy: 0.9944 - val_loss: 0.2863 - val_accuracy: 0.9431\n",
      "Epoch 139/150\n",
      "334/334 [==============================] - 5s 14ms/step - loss: 0.0189 - accuracy: 0.9954 - val_loss: 0.3769 - val_accuracy: 0.9326\n"
     ]
    },
    {
     "data": {
      "text/plain": [
       "<keras.callbacks.History at 0x2807f1f7130>"
      ]
     },
     "execution_count": 17,
     "metadata": {},
     "output_type": "execute_result"
    }
   ],
   "source": [
    "from tensorflow.keras.callbacks import EarlyStopping\n",
    "early_stop = EarlyStopping(monitor = 'loss', patience = 23 )\n",
    "\n",
    "m1.fit(X_train,y_train,epochs=150,batch_size=32, validation_data=(X_val,y_val), callbacks = [early_stop], verbose=1)"
   ]
  },
  {
   "cell_type": "code",
   "execution_count": 18,
   "metadata": {
    "id": "d6OA7oX-yByT"
   },
   "outputs": [],
   "source": [
    "# Get training history\n",
    "metrics = pd.DataFrame(m1.history.history)"
   ]
  },
  {
   "cell_type": "code",
   "execution_count": 19,
   "metadata": {},
   "outputs": [],
   "source": [
    "import os\n",
    "exp_num = []\n",
    "if not os.path.exists(\"./experiments\"):\n",
    "    os.mkdir(\"./experiments\")\n",
    "folders = os.listdir(\"./experiments\")\n",
    "for folder in folders:\n",
    "    exp_num.append(int(folder.split(\"#\")[1]))\n",
    "\n",
    "\n",
    "if len(exp_num) == 0:\n",
    "    exp_path = r\"./experiments/exp#1\"\n",
    "else:\n",
    "    exp_path = r\"./experiments/exp#\"+str(max(exp_num)+1)\n",
    "\n",
    "\n",
    "\n",
    "\n",
    "os.mkdir(exp_path)\n",
    "os.mkdir(os.path.join(exp_path, \"results\"))\n",
    "os.mkdir(os.path.join(exp_path, \"weights\"))\n",
    "\n",
    "results = os.path.join(exp_path, \"results\")\n",
    "weights = os.path.join(exp_path, \"weights\")"
   ]
  },
  {
   "cell_type": "code",
   "execution_count": 20,
   "metadata": {},
   "outputs": [
    {
     "name": "stdout",
     "output_type": "stream",
     "text": [
      "./experiments/exp#2\\results\n"
     ]
    }
   ],
   "source": [
    "print(results)"
   ]
  },
  {
   "cell_type": "code",
   "execution_count": 21,
   "metadata": {
    "id": "vs5CCwj993FX"
   },
   "outputs": [
    {
     "name": "stdout",
     "output_type": "stream",
     "text": [
      "67/67 [==============================] - 0s 7ms/step - loss: 0.6405 - accuracy: 0.9125\n"
     ]
    }
   ],
   "source": [
    "# Save The Trained model along with it training history   \n",
    "Accuracy = m1.evaluate(X_test, y_test)[-1]\n",
    "name = str(round(Accuracy, 4))\n",
    "\n",
    "metrics.to_pickle(os.path.join(results, name+'.pkl'))\n",
    "m1.save(os.path.join(weights, name + '.h5'))"
   ]
  },
  {
   "cell_type": "code",
   "execution_count": 22,
   "metadata": {
    "id": "5F7i-oCwytup",
    "scrolled": true
   },
   "outputs": [
    {
     "data": {
      "image/png": "[encoded data removed]",
      "text/plain": [
       "<Figure size 720x504 with 1 Axes>"
      ]
     },
     "metadata": {
      "needs_background": "light"
     },
     "output_type": "display_data"
    },
    {
     "data": {
      "image/png": "[encoded data removed]",
      "text/plain": [
       "<Figure size 720x504 with 1 Axes>"
      ]
     },
     "metadata": {
      "needs_background": "light"
     },
     "output_type": "display_data"
    }
   ],
   "source": [
    "## Dispaly the plot of \n",
    "rows = 2\n",
    "columns = 1\n",
    "  \n",
    "# Display Train loss vs Validation loss at each Epoch\n",
    "fig = plt.figure(figsize=(10, 7))\n",
    "fig.add_subplot(rows, columns, 1)\n",
    "plt.plot(metrics['loss'])\n",
    "plt.plot(metrics['val_loss'])\n",
    "plt.title('Model Loss')\n",
    "plt.ylabel('loss')\n",
    "plt.xlabel('epoch')\n",
    "plt.legend(['train', 'val'], loc='upper left')\n",
    "plt.savefig(os.path.join(results, 'loss_epoch.png'))\n",
    "plt.show()\n",
    "\n",
    "  \n",
    "# Display Train loss vs Validation loss at each Epoch\n",
    "fig = plt.figure(figsize=(10, 7))\n",
    "fig.add_subplot(rows, columns, 2)\n",
    "plt.plot(metrics['accuracy'])\n",
    "plt.plot(metrics['val_accuracy'])\n",
    "plt.title('Model Accuracy')\n",
    "plt.ylabel('accuracy')\n",
    "plt.xlabel('epoch')\n",
    "plt.legend(['train', 'val'], loc='upper left')\n",
    "plt.savefig(os.path.join(results, 'acc_epoch.png'))\n",
    "plt.show()\n",
    "\n"
   ]
  },
  {
   "cell_type": "code",
   "execution_count": 23,
   "metadata": {
    "id": "HQOKaA8zfv4K"
   },
   "outputs": [],
   "source": [
    "## Get the \n",
    "predict_x = m1.predict(X_test) \n",
    "predictions = np.argmax(predict_x,axis=1) "
   ]
  },
  {
   "cell_type": "code",
   "execution_count": 24,
   "metadata": {
    "id": "xy9_ZzsYkByi"
   },
   "outputs": [],
   "source": [
    "# Decode the Model's predections  (from [0,1,0,2..] to ['Glioma','Meningioma'...]) of the Test set using the the dictionary 'decode_dict' \n",
    "predictions = np.vectorize(decode_dict.get)(predictions)"
   ]
  },
  {
   "cell_type": "code",
   "execution_count": 25,
   "metadata": {
    "id": "IVYX1MCzjx00"
   },
   "outputs": [
    {
     "name": "stdout",
     "output_type": "stream",
     "text": [
      "              precision    recall  f1-score   support\n",
      "\n",
      "   Glioma II       0.82      0.87      0.85       428\n",
      "  Glioma III       0.90      0.83      0.86       356\n",
      "   Glioma VI       0.85      0.84      0.84       420\n",
      "  Meningioma       0.98      0.99      0.99       456\n",
      "   Pituitary       0.99      1.00      0.99       476\n",
      "\n",
      "    accuracy                           0.91      2136\n",
      "   macro avg       0.91      0.91      0.91      2136\n",
      "weighted avg       0.91      0.91      0.91      2136\n",
      "\n"
     ]
    }
   ],
   "source": [
    "print(classification_report(y_test_eval, predictions))"
   ]
  },
  {
   "cell_type": "code",
   "execution_count": 26,
   "metadata": {
    "id": "HOVPJjy0udhD"
   },
   "outputs": [
    {
     "data": {
      "image/png": "[encoded data removed]",
      "text/plain": [
       "<Figure size 720x504 with 2 Axes>"
      ]
     },
     "metadata": {
      "needs_background": "light"
     },
     "output_type": "display_data"
    }
   ],
   "source": [
    "labels = sorted([\"Glioma II\", \"Glioma III\", \"Glioma VI\", \"Meningioma\", \"Pituitary\"])\n",
    "\n",
    "cm = pd.DataFrame(confusion_matrix(y_test_eval, predictions), index=labels, columns=labels)\n",
    "plt.figure(figsize = (10,7))\n",
    "plt.title('Confusion matrix')\n",
    "sns.heatmap(cm, annot=True, cmap=\"PuBu\",fmt = 'd')\n",
    "plt.ylabel('True labels')\n",
    "plt.xlabel('Predicted labels')\n",
    "plt.savefig(os.path.join(results, 'confusion_matrix.png'))\n",
    "plt.show()"
   ]
  },
  {
   "cell_type": "code",
   "execution_count": null,
   "metadata": {
    "id": "7_fru9v4mHup"
   },
   "outputs": [],
   "source": []
  },
  {
   "cell_type": "code",
   "execution_count": null,
   "metadata": {},
   "outputs": [],
   "source": []
  },
  {
   "cell_type": "code",
   "execution_count": null,
   "metadata": {},
   "outputs": [],
   "source": []
  }
 ],
 "metadata": {
  "accelerator": "GPU",
  "colab": {
   "collapsed_sections": [],
   "name": "5_labels_model_v1.ipynb",
   "provenance": []
  },
  "kernelspec": {
   "display_name": "Python 3 (ipykernel)",
   "language": "python",
   "name": "python3"
  },
  "language_info": {
   "codemirror_mode": {
    "name": "ipython",
    "version": 3
   },
   "file_extension": ".py",
   "mimetype": "text/x-python",
   "name": "python",
   "nbconvert_exporter": "python",
   "pygments_lexer": "ipython3",
   "version": "3.9.7"
  }
 },
 "nbformat": 4,
 "nbformat_minor": 1
}
