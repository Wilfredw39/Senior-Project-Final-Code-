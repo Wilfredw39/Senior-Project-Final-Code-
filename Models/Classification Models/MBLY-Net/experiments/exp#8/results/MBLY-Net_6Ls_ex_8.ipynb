{
 "cells": [
  {
   "cell_type": "markdown",
   "metadata": {
    "id": "vt51_KACTdGf"
   },
   "source": [
    "## 0. Setting up the Environment\n"
   ]
  },
  {
   "cell_type": "code",
   "execution_count": 1,
   "metadata": {
    "colab": {
     "base_uri": "https://localhost:8080/"
    },
    "id": "D4Z6Zv3PSOcg",
    "outputId": "b87040f7-50f1-4633-bcd9-415194d37d2e"
   },
   "outputs": [],
   "source": [
    "## impoort labaries \n",
    "import os \n",
    "import cv2\n",
    "import mat73\n",
    "import time\n",
    "import keras\n",
    "import pandas as pd\n",
    "import numpy as np \n",
    "import seaborn as sns\n",
    "import skimage\n",
    "import tensorflow as tf\n",
    "import matplotlib.pyplot as plt\n",
    "from PIL import Image, ImageOps \n",
    "from skimage.transform import resize\n",
    "from keras.models import Sequential\n",
    "from tensorflow.keras import optimizers\n",
    "from tqdm.notebook import tqdm_notebook as tqdm\n",
    "from sklearn.metrics import classification_report, confusion_matrix\n",
    "from keras.layers import Conv2D, MaxPooling2D, Flatten, Dense, Dropout, BatchNormalization,  Convolution2D"
   ]
  },
  {
   "cell_type": "markdown",
   "metadata": {
    "id": "sYWmkuxOWtm4"
   },
   "source": [
    "## 1. Data Importing "
   ]
  },
  {
   "cell_type": "code",
   "execution_count": 2,
   "metadata": {},
   "outputs": [],
   "source": [
    "SIZE_X = 128\n",
    "SIZE_Y = 128\n",
    "SIZE_Z = 1\n",
    "CLASS_NUM = 6\n",
    "\n",
    "aug_train_DF = pd.read_pickle(r\"../../../Datasets/Dataset_B_2/aug_train_DF_{}.pkl\".format(SIZE_X))\n",
    "aug_val_DF = pd.read_pickle(r\"../../../Datasets/Dataset_B_2/aug_val_DF_{}.pkl\".format(SIZE_X))\n",
    "aug_test_DF = pd.read_pickle(r\"../../../Datasets/Dataset_B_2/aug_test_DF_{}.pkl\".format(SIZE_X))"
   ]
  },
  {
   "cell_type": "code",
   "execution_count": 3,
   "metadata": {
    "colab": {
     "background_save": true
    },
    "id": "kaaNJb4nR5Z5",
    "outputId": "229fd2a5-846a-4168-abdf-2db9f91c282d"
   },
   "outputs": [
    {
     "data": {
      "text/html": [
       "<div>\n",
       "<style scoped>\n",
       "    .dataframe tbody tr th:only-of-type {\n",
       "        vertical-align: middle;\n",
       "    }\n",
       "\n",
       "    .dataframe tbody tr th {\n",
       "        vertical-align: top;\n",
       "    }\n",
       "\n",
       "    .dataframe thead th {\n",
       "        text-align: right;\n",
       "    }\n",
       "</style>\n",
       "<table border=\"1\" class=\"dataframe\">\n",
       "  <thead>\n",
       "    <tr style=\"text-align: right;\">\n",
       "      <th></th>\n",
       "      <th>PID</th>\n",
       "      <th>Label</th>\n",
       "      <th>Image</th>\n",
       "      <th>File</th>\n",
       "    </tr>\n",
       "  </thead>\n",
       "  <tbody>\n",
       "    <tr>\n",
       "      <th>2660</th>\n",
       "      <td>Heatly_dataset_#998</td>\n",
       "      <td>No tumor</td>\n",
       "      <td>[[0.0, 0.0, 0.0, 0.0, 0.0, 0.0, 0.0, 0.0, 0.0,...</td>\n",
       "      <td>no964.jpg</td>\n",
       "    </tr>\n",
       "    <tr>\n",
       "      <th>5018</th>\n",
       "      <td>HF1538</td>\n",
       "      <td>Glioma VI</td>\n",
       "      <td>[[0.0, 0.0, 0.0, 0.0, 0.0, 0.0, 0.0, 0.0, 0.0,...</td>\n",
       "      <td>D:\\Datasets\\manifest-tXudPFfp43472957274060920...</td>\n",
       "    </tr>\n",
       "    <tr>\n",
       "      <th>7397</th>\n",
       "      <td>Heatly_dataset_#998</td>\n",
       "      <td>No tumor</td>\n",
       "      <td>[[0.0, 0.0, 0.0, 0.0, 0.0, 0.0, 0.0, 0.0, 0.0,...</td>\n",
       "      <td>no635.jpg</td>\n",
       "    </tr>\n",
       "    <tr>\n",
       "      <th>12496</th>\n",
       "      <td>HF1185</td>\n",
       "      <td>Glioma III</td>\n",
       "      <td>[[0.0, 0.0, 0.0, 0.0, 0.0, 0.0, 0.0, 0.0, 0.0,...</td>\n",
       "      <td>D:\\Datasets\\manifest-tXudPFfp43472957274060920...</td>\n",
       "    </tr>\n",
       "    <tr>\n",
       "      <th>6365</th>\n",
       "      <td>114018</td>\n",
       "      <td>Meningioma</td>\n",
       "      <td>[[0.0, 0.0, 0.0, 0.0, 0.0, 0.0, 0.0, 0.0, 0.0,...</td>\n",
       "      <td>642.mat</td>\n",
       "    </tr>\n",
       "  </tbody>\n",
       "</table>\n",
       "</div>"
      ],
      "text/plain": [
       "                       PID       Label  \\\n",
       "2660   Heatly_dataset_#998    No tumor   \n",
       "5018                HF1538   Glioma VI   \n",
       "7397   Heatly_dataset_#998    No tumor   \n",
       "12496               HF1185  Glioma III   \n",
       "6365                114018  Meningioma   \n",
       "\n",
       "                                                   Image  \\\n",
       "2660   [[0.0, 0.0, 0.0, 0.0, 0.0, 0.0, 0.0, 0.0, 0.0,...   \n",
       "5018   [[0.0, 0.0, 0.0, 0.0, 0.0, 0.0, 0.0, 0.0, 0.0,...   \n",
       "7397   [[0.0, 0.0, 0.0, 0.0, 0.0, 0.0, 0.0, 0.0, 0.0,...   \n",
       "12496  [[0.0, 0.0, 0.0, 0.0, 0.0, 0.0, 0.0, 0.0, 0.0,...   \n",
       "6365   [[0.0, 0.0, 0.0, 0.0, 0.0, 0.0, 0.0, 0.0, 0.0,...   \n",
       "\n",
       "                                                    File  \n",
       "2660                                           no964.jpg  \n",
       "5018   D:\\Datasets\\manifest-tXudPFfp43472957274060920...  \n",
       "7397                                           no635.jpg  \n",
       "12496  D:\\Datasets\\manifest-tXudPFfp43472957274060920...  \n",
       "6365                                             642.mat  "
      ]
     },
     "execution_count": 3,
     "metadata": {},
     "output_type": "execute_result"
    }
   ],
   "source": [
    "## Combain the df with the Pitutary & Meningioma types with the dataframe of the Glioma grades (I, II,, IV).\n",
    "pd.concat([aug_train_DF, aug_val_DF, aug_test_DF], axis=0, ignore_index = True).sample(5)"
   ]
  },
  {
   "cell_type": "code",
   "execution_count": 4,
   "metadata": {},
   "outputs": [
    {
     "name": "stdout",
     "output_type": "stream",
     "text": [
      "<class 'pandas.core.frame.DataFrame'>\n",
      "RangeIndex: 18612 entries, 0 to 18611\n",
      "Data columns (total 4 columns):\n",
      " #   Column  Non-Null Count  Dtype \n",
      "---  ------  --------------  ----- \n",
      " 0   PID     18612 non-null  object\n",
      " 1   Label   18612 non-null  object\n",
      " 2   Image   18612 non-null  object\n",
      " 3   File    18612 non-null  object\n",
      "dtypes: object(4)\n",
      "memory usage: 581.8+ KB\n"
     ]
    }
   ],
   "source": [
    "pd.concat([aug_train_DF, aug_val_DF, aug_test_DF], axis=0, ignore_index = True).info(5)"
   ]
  },
  {
   "cell_type": "code",
   "execution_count": 5,
   "metadata": {
    "colab": {
     "background_save": true
    },
    "id": "uJEttBBOU9IN",
    "outputId": "d176e92f-d35f-4f92-a264-ead1e87244e6"
   },
   "outputs": [
    {
     "name": "stderr",
     "output_type": "stream",
     "text": [
      "C:\\Users\\Ma7moud\\anaconda3\\envs\\T-UNet\\lib\\site-packages\\seaborn\\_decorators.py:36: FutureWarning: Pass the following variable as a keyword arg: x. From version 0.12, the only valid positional argument will be `data`, and passing other arguments without an explicit keyword will result in an error or misinterpretation.\n",
      "  warnings.warn(\n"
     ]
    },
    {
     "data": {
      "image/png": "[encoded data removed]",
      "text/plain": [
       "<Figure size 432x288 with 1 Axes>"
      ]
     },
     "metadata": {
      "needs_background": "light"
     },
     "output_type": "display_data"
    }
   ],
   "source": [
    "sns.countplot(pd.concat([aug_train_DF, aug_val_DF, aug_test_DF], axis=0, ignore_index = True).Label)\n",
    "plt.show()"
   ]
  },
  {
   "cell_type": "code",
   "execution_count": 6,
   "metadata": {
    "colab": {
     "background_save": true
    },
    "id": "AWLSJpw6WVVo",
    "outputId": "348d3fee-c3a5-442d-96af-5711dec23128"
   },
   "outputs": [
    {
     "data": {
      "image/png": "[encoded data removed]",
      "text/plain": [
       "<Figure size 432x288 with 1 Axes>"
      ]
     },
     "metadata": {},
     "output_type": "display_data"
    }
   ],
   "source": [
    "data = aug_train_DF.groupby(\"Label\")[\"Label\"].count()\n",
    "data.plot.pie(autopct=\"%.1f%%\");"
   ]
  },
  {
   "cell_type": "code",
   "execution_count": 7,
   "metadata": {},
   "outputs": [
    {
     "data": {
      "image/png": "[encoded data removed]",
      "text/plain": [
       "<Figure size 432x288 with 1 Axes>"
      ]
     },
     "metadata": {},
     "output_type": "display_data"
    }
   ],
   "source": [
    "data = aug_val_DF.groupby(\"Label\")[\"Label\"].count()\n",
    "data.plot.pie(autopct=\"%.1f%%\");"
   ]
  },
  {
   "cell_type": "code",
   "execution_count": 8,
   "metadata": {},
   "outputs": [
    {
     "data": {
      "image/png": "[encoded data removed]",
      "text/plain": [
       "<Figure size 432x288 with 1 Axes>"
      ]
     },
     "metadata": {},
     "output_type": "display_data"
    }
   ],
   "source": [
    "data = aug_test_DF.groupby(\"Label\")[\"Label\"].count()\n",
    "data.plot.pie(autopct=\"%.1f%%\");"
   ]
  },
  {
   "cell_type": "markdown",
   "metadata": {
    "id": "Zf3vh4d7w3ZP"
   },
   "source": [
    "## 2. Data-Preprocessing "
   ]
  },
  {
   "cell_type": "markdown",
   "metadata": {
    "id": "Kd502KoZONei"
   },
   "source": [
    "### 2.1 Image Resizing \n"
   ]
  },
  {
   "cell_type": "markdown",
   "metadata": {
    "id": "oDIYJ9-3OWho"
   },
   "source": [
    "### 2.2 Data Augmentation"
   ]
  },
  {
   "cell_type": "markdown",
   "metadata": {},
   "source": [
    "### 2.3 Grayscale to RGB"
   ]
  },
  {
   "cell_type": "code",
   "execution_count": 9,
   "metadata": {
    "colab": {
     "background_save": true
    },
    "id": "hzz5yapeG-M7",
    "outputId": "0d2f1eb1-953a-4141-8ab9-4cb02b8519e8"
   },
   "outputs": [],
   "source": [
    "def normalize(img):\n",
    "    plt.imsave('DR.png', img, cmap='gray')\n",
    "    return cv2.imread('DR.png')[:, :, SIZE_Z]"
   ]
  },
  {
   "cell_type": "code",
   "execution_count": 10,
   "metadata": {},
   "outputs": [],
   "source": [
    "aug_train_DF[\"Image\"] = aug_train_DF[\"Image\"].apply(normalize)\n",
    "aug_val_DF[\"Image\"] = aug_val_DF[\"Image\"].apply(normalize)\n",
    "aug_test_DF[\"Image\"] = aug_test_DF[\"Image\"].apply(normalize)"
   ]
  },
  {
   "cell_type": "markdown",
   "metadata": {
    "id": "yg8moTnTaNeT"
   },
   "source": [
    "### 2.4 Splitting Data into Train, Test, and Validation Sets"
   ]
  },
  {
   "cell_type": "code",
   "execution_count": 11,
   "metadata": {},
   "outputs": [],
   "source": [
    "y_train = aug_train_DF[\"Label\"]\n",
    "X_train = aug_train_DF['Image'].tolist()\n",
    "X_train = np.array(X_train).reshape(-1, SIZE_X, SIZE_Y, SIZE_Z)\n",
    "\n",
    "\n",
    "y_val = aug_val_DF[\"Label\"]\n",
    "X_val = aug_val_DF['Image'].tolist()\n",
    "X_val = np.array(X_val).reshape(-1, SIZE_X, SIZE_Y, SIZE_Z)\n",
    "\n",
    "y_test = aug_test_DF[\"Label\"]\n",
    "X_test = aug_test_DF['Image'].tolist()\n",
    "X_test = np.array(X_test).reshape(-1, SIZE_X, SIZE_Y, SIZE_Z)\n"
   ]
  },
  {
   "cell_type": "code",
   "execution_count": 12,
   "metadata": {},
   "outputs": [
    {
     "name": "stdout",
     "output_type": "stream",
     "text": [
      "X_train shape: (13960, 128, 128, 1) | y_train shape: (13960,)\n",
      "X_val shape  : (1860, 128, 128, 1)  | y_test shape :  (1860,)\n",
      "X_test shape : (2792, 128, 128, 1)  | y_test shape :  (2792,)\n"
     ]
    }
   ],
   "source": [
    "print(\"X_train shape:\", X_train.shape,\"| y_train shape:\", y_train.shape)\n",
    "print(\"X_val shape  :\",X_val.shape,\" | y_test shape : \", y_val.shape)\n",
    "print(\"X_test shape :\",X_test.shape,\" | y_test shape : \", y_test.shape)"
   ]
  },
  {
   "cell_type": "markdown",
   "metadata": {},
   "source": [
    "### 2.5 One-Hot Encode the labels "
   ]
  },
  {
   "cell_type": "code",
   "execution_count": 13,
   "metadata": {
    "colab": {
     "background_save": true
    },
    "id": "uR_Cv0khfpyS",
    "outputId": "0fa96dd1-5899-45b2-9d73-5fcbc132a797"
   },
   "outputs": [],
   "source": [
    "# saving a copy of the testing labels before one hot encoding\n",
    "y_test_eval = y_test\n",
    "# one hot endcoding the labels \n",
    "y_train = pd.get_dummies(y_train)\n",
    "y_test  = pd.get_dummies(y_test)\n",
    "y_val   = pd.get_dummies(y_val)"
   ]
  },
  {
   "cell_type": "code",
   "execution_count": 14,
   "metadata": {},
   "outputs": [
    {
     "name": "stdout",
     "output_type": "stream",
     "text": [
      "X_train shape: (13960, 128, 128, 1) | y_train shape: (13960, 6)\n",
      "X_test shape : (2792, 128, 128, 1)  | y_test shape:  (2792, 6)\n",
      "X_val shape  : (1860, 128, 128, 1)  | y_val shape :  (1860, 6)\n",
      "\n",
      "Total number: 18612\n"
     ]
    }
   ],
   "source": [
    "print(\"X_train shape:\", X_train.shape,\"| y_train shape:\", y_train.shape)\n",
    "print(\"X_test shape :\",X_test.shape,\" | y_test shape: \", y_test.shape)\n",
    "print(\"X_val shape  :\",X_val.shape,\" | y_val shape : \", y_val.shape)\n",
    "print(\"\\nTotal number: {}\".format(len(aug_train_DF)+len(aug_val_DF)+len(aug_test_DF)))"
   ]
  },
  {
   "cell_type": "code",
   "execution_count": 15,
   "metadata": {
    "colab": {
     "background_save": true
    },
    "id": "3DctvR_fVPlF",
    "outputId": "bdf93bfa-b00d-49a3-99c8-f2bde2731658"
   },
   "outputs": [
    {
     "data": {
      "text/html": [
       "<div>\n",
       "<style scoped>\n",
       "    .dataframe tbody tr th:only-of-type {\n",
       "        vertical-align: middle;\n",
       "    }\n",
       "\n",
       "    .dataframe tbody tr th {\n",
       "        vertical-align: top;\n",
       "    }\n",
       "\n",
       "    .dataframe thead th {\n",
       "        text-align: right;\n",
       "    }\n",
       "</style>\n",
       "<table border=\"1\" class=\"dataframe\">\n",
       "  <thead>\n",
       "    <tr style=\"text-align: right;\">\n",
       "      <th></th>\n",
       "      <th>Glioma II</th>\n",
       "      <th>Glioma III</th>\n",
       "      <th>Glioma VI</th>\n",
       "      <th>Meningioma</th>\n",
       "      <th>No tumor</th>\n",
       "      <th>Pituitary</th>\n",
       "    </tr>\n",
       "  </thead>\n",
       "  <tbody>\n",
       "    <tr>\n",
       "      <th>0</th>\n",
       "      <td>0</td>\n",
       "      <td>0</td>\n",
       "      <td>0</td>\n",
       "      <td>0</td>\n",
       "      <td>1</td>\n",
       "      <td>0</td>\n",
       "    </tr>\n",
       "    <tr>\n",
       "      <th>1</th>\n",
       "      <td>0</td>\n",
       "      <td>0</td>\n",
       "      <td>0</td>\n",
       "      <td>0</td>\n",
       "      <td>1</td>\n",
       "      <td>0</td>\n",
       "    </tr>\n",
       "    <tr>\n",
       "      <th>2</th>\n",
       "      <td>0</td>\n",
       "      <td>0</td>\n",
       "      <td>1</td>\n",
       "      <td>0</td>\n",
       "      <td>0</td>\n",
       "      <td>0</td>\n",
       "    </tr>\n",
       "    <tr>\n",
       "      <th>3</th>\n",
       "      <td>0</td>\n",
       "      <td>0</td>\n",
       "      <td>0</td>\n",
       "      <td>0</td>\n",
       "      <td>0</td>\n",
       "      <td>1</td>\n",
       "    </tr>\n",
       "    <tr>\n",
       "      <th>4</th>\n",
       "      <td>0</td>\n",
       "      <td>0</td>\n",
       "      <td>1</td>\n",
       "      <td>0</td>\n",
       "      <td>0</td>\n",
       "      <td>0</td>\n",
       "    </tr>\n",
       "    <tr>\n",
       "      <th>...</th>\n",
       "      <td>...</td>\n",
       "      <td>...</td>\n",
       "      <td>...</td>\n",
       "      <td>...</td>\n",
       "      <td>...</td>\n",
       "      <td>...</td>\n",
       "    </tr>\n",
       "    <tr>\n",
       "      <th>2787</th>\n",
       "      <td>0</td>\n",
       "      <td>0</td>\n",
       "      <td>0</td>\n",
       "      <td>0</td>\n",
       "      <td>0</td>\n",
       "      <td>1</td>\n",
       "    </tr>\n",
       "    <tr>\n",
       "      <th>2788</th>\n",
       "      <td>0</td>\n",
       "      <td>0</td>\n",
       "      <td>0</td>\n",
       "      <td>0</td>\n",
       "      <td>0</td>\n",
       "      <td>1</td>\n",
       "    </tr>\n",
       "    <tr>\n",
       "      <th>2789</th>\n",
       "      <td>0</td>\n",
       "      <td>0</td>\n",
       "      <td>0</td>\n",
       "      <td>0</td>\n",
       "      <td>1</td>\n",
       "      <td>0</td>\n",
       "    </tr>\n",
       "    <tr>\n",
       "      <th>2790</th>\n",
       "      <td>0</td>\n",
       "      <td>1</td>\n",
       "      <td>0</td>\n",
       "      <td>0</td>\n",
       "      <td>0</td>\n",
       "      <td>0</td>\n",
       "    </tr>\n",
       "    <tr>\n",
       "      <th>2791</th>\n",
       "      <td>1</td>\n",
       "      <td>0</td>\n",
       "      <td>0</td>\n",
       "      <td>0</td>\n",
       "      <td>0</td>\n",
       "      <td>0</td>\n",
       "    </tr>\n",
       "  </tbody>\n",
       "</table>\n",
       "<p>2792 rows × 6 columns</p>\n",
       "</div>"
      ],
      "text/plain": [
       "      Glioma II  Glioma III  Glioma VI  Meningioma  No tumor  Pituitary\n",
       "0             0           0          0           0         1          0\n",
       "1             0           0          0           0         1          0\n",
       "2             0           0          1           0         0          0\n",
       "3             0           0          0           0         0          1\n",
       "4             0           0          1           0         0          0\n",
       "...         ...         ...        ...         ...       ...        ...\n",
       "2787          0           0          0           0         0          1\n",
       "2788          0           0          0           0         0          1\n",
       "2789          0           0          0           0         1          0\n",
       "2790          0           1          0           0         0          0\n",
       "2791          1           0          0           0         0          0\n",
       "\n",
       "[2792 rows x 6 columns]"
      ]
     },
     "execution_count": 15,
     "metadata": {},
     "output_type": "execute_result"
    }
   ],
   "source": [
    "y_test"
   ]
  },
  {
   "cell_type": "markdown",
   "metadata": {},
   "source": [
    "### 2.6 Image Normalizatoin"
   ]
  },
  {
   "cell_type": "code",
   "execution_count": 16,
   "metadata": {},
   "outputs": [],
   "source": [
    "X_train = X_train / 255\n",
    "X_val   = X_val / 255\n",
    "X_test  = X_test / 255"
   ]
  },
  {
   "cell_type": "code",
   "execution_count": 17,
   "metadata": {
    "colab": {
     "background_save": true
    },
    "id": "jWFIvPjtiNio"
   },
   "outputs": [],
   "source": [
    "## This Dictionary is used to decode the model's predicted values.  \n",
    "decode_dict = {0 : \"Glioma II\", 1 : \"Glioma III\", 2 : \"Glioma VI\", 3: \"Meningioma\", 4: \"No tumor\", 5: \"Pituitary\"}"
   ]
  },
  {
   "cell_type": "code",
   "execution_count": 18,
   "metadata": {
    "colab": {
     "background_save": true
    },
    "id": "PcsCoY3jggfU",
    "outputId": "3b3c30b0-a9af-4923-a318-cea2b5587807"
   },
   "outputs": [
    {
     "data": {
      "image/png": "[encoded data removed]",
      "text/plain": [
       "<Figure size 936x576 with 1 Axes>"
      ]
     },
     "metadata": {},
     "output_type": "display_data"
    }
   ],
   "source": [
    "import matplotlib.pyplot as plt\n",
    "import numpy as np\n",
    "##  Creating a Pie chart illustrating the percentage of the train, validation, test sets.\n",
    "Data = np.array([len(y_train), len(y_test), len(y_val)])\n",
    "mylabels = [\"Test Set\", \"Test Set\", \"Validation Set\"]\n",
    "plt.figure(figsize=(13, 8))\n",
    "plt.pie(Data, labels = mylabels, autopct=\"%.1f%%\", )\n",
    "plt.legend()\n",
    "plt.show() "
   ]
  },
  {
   "cell_type": "markdown",
   "metadata": {
    "id": "zDCzea2Klw_1"
   },
   "source": [
    "## 3. Models Creation\n"
   ]
  },
  {
   "cell_type": "code",
   "execution_count": 19,
   "metadata": {
    "colab": {
     "background_save": true
    },
    "id": "K58Sn8Gt_6v9"
   },
   "outputs": [],
   "source": [
    "m1 = Sequential()\n",
    "\n",
    "m1.add(Convolution2D( 32, (3,3), activation ='relu', input_shape = (SIZE_X, SIZE_Y, SIZE_Z))) \n",
    "m1.add(MaxPooling2D(pool_size=2))\n",
    "m1.add(Convolution2D(filters=64, kernel_size=4, padding='same', activation='relu'))\n",
    "m1.add(MaxPooling2D(pool_size=2))\n",
    "m1.add(Convolution2D(filters=128, kernel_size=3, padding='same', activation='relu'))\n",
    "m1.add(MaxPooling2D(pool_size=2))\n",
    "m1.add(Dropout(0.50))\n",
    "m1.add(Convolution2D(filters=128, kernel_size=2, padding='same', activation='relu'))\n",
    "m1.add(MaxPooling2D(pool_size=2))\n",
    "m1.add(Dropout(0.50))\n",
    "m1.add(Flatten()) \n",
    "m1.add(Dense(units = 128, activation = 'relu'))\n",
    "m1.add(Dense(units = 32, activation = 'relu'))\n",
    "m1.add(Dense(units = CLASS_NUM, activation = 'softmax'))\n",
    "\n",
    "m1.compile(optimizer='adam', loss = 'categorical_crossentropy', metrics = ['accuracy'])"
   ]
  },
  {
   "cell_type": "markdown",
   "metadata": {
    "id": "6aAVYS26t6c3"
   },
   "source": [
    "### 4. Model Training\n"
   ]
  },
  {
   "cell_type": "code",
   "execution_count": 20,
   "metadata": {
    "id": "LGT4MVY3tkyz"
   },
   "outputs": [
    {
     "name": "stdout",
     "output_type": "stream",
     "text": [
      "Epoch 1/150\n",
      "873/873 [==============================] - 10s 9ms/step - loss: 0.9500 - accuracy: 0.6181 - val_loss: 0.6757 - val_accuracy: 0.7355\n",
      "Epoch 2/150\n",
      "873/873 [==============================] - 7s 8ms/step - loss: 0.5066 - accuracy: 0.7955 - val_loss: 0.4338 - val_accuracy: 0.8199\n",
      "Epoch 3/150\n",
      "873/873 [==============================] - 7s 8ms/step - loss: 0.3626 - accuracy: 0.8508 - val_loss: 0.3786 - val_accuracy: 0.8511\n",
      "Epoch 4/150\n",
      "873/873 [==============================] - 7s 8ms/step - loss: 0.2981 - accuracy: 0.8804 - val_loss: 0.3088 - val_accuracy: 0.8785\n",
      "Epoch 5/150\n",
      "873/873 [==============================] - 7s 8ms/step - loss: 0.2406 - accuracy: 0.9044 - val_loss: 0.3056 - val_accuracy: 0.8952\n",
      "Epoch 6/150\n",
      "873/873 [==============================] - 7s 8ms/step - loss: 0.2131 - accuracy: 0.9163 - val_loss: 0.3333 - val_accuracy: 0.8855\n",
      "Epoch 7/150\n",
      "873/873 [==============================] - 7s 8ms/step - loss: 0.2001 - accuracy: 0.9221 - val_loss: 0.2457 - val_accuracy: 0.9070\n",
      "Epoch 8/150\n",
      "873/873 [==============================] - 7s 8ms/step - loss: 0.1700 - accuracy: 0.9333 - val_loss: 0.2791 - val_accuracy: 0.8898\n",
      "Epoch 9/150\n",
      "873/873 [==============================] - 7s 8ms/step - loss: 0.1585 - accuracy: 0.9385 - val_loss: 0.3917 - val_accuracy: 0.8769\n",
      "Epoch 10/150\n",
      "873/873 [==============================] - 7s 8ms/step - loss: 0.1459 - accuracy: 0.9440 - val_loss: 0.2309 - val_accuracy: 0.9151\n",
      "Epoch 11/150\n",
      "873/873 [==============================] - 7s 8ms/step - loss: 0.1332 - accuracy: 0.9512 - val_loss: 0.2799 - val_accuracy: 0.9022\n",
      "Epoch 12/150\n",
      "873/873 [==============================] - 7s 8ms/step - loss: 0.1284 - accuracy: 0.9531 - val_loss: 0.2626 - val_accuracy: 0.9059\n",
      "Epoch 13/150\n",
      "873/873 [==============================] - 7s 8ms/step - loss: 0.1183 - accuracy: 0.9562 - val_loss: 0.2967 - val_accuracy: 0.8995\n",
      "Epoch 14/150\n",
      "873/873 [==============================] - 7s 8ms/step - loss: 0.1161 - accuracy: 0.9564 - val_loss: 0.2420 - val_accuracy: 0.9161\n",
      "Epoch 15/150\n",
      "873/873 [==============================] - 7s 8ms/step - loss: 0.1072 - accuracy: 0.9597 - val_loss: 0.2344 - val_accuracy: 0.9059\n",
      "Epoch 16/150\n",
      "873/873 [==============================] - 7s 8ms/step - loss: 0.0978 - accuracy: 0.9624 - val_loss: 0.2556 - val_accuracy: 0.9134\n",
      "Epoch 17/150\n",
      "873/873 [==============================] - 7s 8ms/step - loss: 0.0951 - accuracy: 0.9640 - val_loss: 0.2501 - val_accuracy: 0.9296\n",
      "Epoch 18/150\n",
      "873/873 [==============================] - 7s 8ms/step - loss: 0.0880 - accuracy: 0.9679 - val_loss: 0.3127 - val_accuracy: 0.9065\n",
      "Epoch 19/150\n",
      "873/873 [==============================] - 7s 8ms/step - loss: 0.0875 - accuracy: 0.9681 - val_loss: 0.2662 - val_accuracy: 0.9210\n",
      "Epoch 20/150\n",
      "873/873 [==============================] - 7s 8ms/step - loss: 0.0861 - accuracy: 0.9681 - val_loss: 0.2347 - val_accuracy: 0.9290\n",
      "Epoch 21/150\n",
      "873/873 [==============================] - 7s 8ms/step - loss: 0.0858 - accuracy: 0.9691 - val_loss: 0.2178 - val_accuracy: 0.9317\n",
      "Epoch 22/150\n",
      "873/873 [==============================] - 7s 8ms/step - loss: 0.0779 - accuracy: 0.9717 - val_loss: 0.2380 - val_accuracy: 0.9317\n",
      "Epoch 23/150\n",
      "873/873 [==============================] - 7s 8ms/step - loss: 0.0876 - accuracy: 0.9694 - val_loss: 0.2431 - val_accuracy: 0.9323\n",
      "Epoch 24/150\n",
      "873/873 [==============================] - 7s 8ms/step - loss: 0.0656 - accuracy: 0.9765 - val_loss: 0.2387 - val_accuracy: 0.9301\n",
      "Epoch 25/150\n",
      "873/873 [==============================] - 7s 8ms/step - loss: 0.0738 - accuracy: 0.9741 - val_loss: 0.2358 - val_accuracy: 0.9269\n",
      "Epoch 26/150\n",
      "873/873 [==============================] - 7s 8ms/step - loss: 0.0698 - accuracy: 0.9738 - val_loss: 0.2628 - val_accuracy: 0.9274\n",
      "Epoch 27/150\n",
      "873/873 [==============================] - 7s 8ms/step - loss: 0.0692 - accuracy: 0.9754 - val_loss: 0.2263 - val_accuracy: 0.9258\n",
      "Epoch 28/150\n",
      "873/873 [==============================] - 7s 8ms/step - loss: 0.0675 - accuracy: 0.9752 - val_loss: 0.2259 - val_accuracy: 0.9360\n",
      "Epoch 29/150\n",
      "873/873 [==============================] - 7s 8ms/step - loss: 0.0717 - accuracy: 0.9746 - val_loss: 0.2457 - val_accuracy: 0.9371\n",
      "Epoch 30/150\n",
      "873/873 [==============================] - 7s 8ms/step - loss: 0.0568 - accuracy: 0.9793 - val_loss: 0.2788 - val_accuracy: 0.9306\n",
      "Epoch 31/150\n",
      "873/873 [==============================] - 7s 8ms/step - loss: 0.0634 - accuracy: 0.9787 - val_loss: 0.2519 - val_accuracy: 0.9306\n",
      "Epoch 32/150\n",
      "873/873 [==============================] - 7s 8ms/step - loss: 0.0618 - accuracy: 0.9794 - val_loss: 0.2255 - val_accuracy: 0.9371\n",
      "Epoch 33/150\n",
      "873/873 [==============================] - 7s 8ms/step - loss: 0.0702 - accuracy: 0.9766 - val_loss: 0.2379 - val_accuracy: 0.9392\n",
      "Epoch 34/150\n",
      "873/873 [==============================] - 7s 8ms/step - loss: 0.0582 - accuracy: 0.9792 - val_loss: 0.3192 - val_accuracy: 0.9237\n",
      "Epoch 35/150\n",
      "873/873 [==============================] - 7s 8ms/step - loss: 0.0595 - accuracy: 0.9794 - val_loss: 0.2574 - val_accuracy: 0.9296\n",
      "Epoch 36/150\n",
      "873/873 [==============================] - 7s 8ms/step - loss: 0.0657 - accuracy: 0.9777 - val_loss: 0.2465 - val_accuracy: 0.9226\n",
      "Epoch 37/150\n",
      "873/873 [==============================] - 7s 8ms/step - loss: 0.0597 - accuracy: 0.9794 - val_loss: 0.2376 - val_accuracy: 0.9349\n",
      "Epoch 38/150\n",
      "873/873 [==============================] - 7s 8ms/step - loss: 0.0514 - accuracy: 0.9816 - val_loss: 0.2270 - val_accuracy: 0.9360\n",
      "Epoch 39/150\n",
      "873/873 [==============================] - 7s 8ms/step - loss: 0.0496 - accuracy: 0.9840 - val_loss: 0.2198 - val_accuracy: 0.9371\n",
      "Epoch 40/150\n",
      "873/873 [==============================] - 7s 8ms/step - loss: 0.0655 - accuracy: 0.9786 - val_loss: 0.2608 - val_accuracy: 0.9323\n",
      "Epoch 41/150\n",
      "873/873 [==============================] - 7s 8ms/step - loss: 0.0462 - accuracy: 0.9856 - val_loss: 0.2292 - val_accuracy: 0.9328\n",
      "Epoch 42/150\n",
      "873/873 [==============================] - 7s 8ms/step - loss: 0.0493 - accuracy: 0.9840 - val_loss: 0.2431 - val_accuracy: 0.9419\n",
      "Epoch 43/150\n",
      "873/873 [==============================] - 7s 8ms/step - loss: 0.0576 - accuracy: 0.9814 - val_loss: 0.2611 - val_accuracy: 0.9344\n",
      "Epoch 44/150\n",
      "873/873 [==============================] - 7s 8ms/step - loss: 0.0519 - accuracy: 0.9841 - val_loss: 0.1939 - val_accuracy: 0.9328\n",
      "Epoch 45/150\n",
      "873/873 [==============================] - 7s 8ms/step - loss: 0.0465 - accuracy: 0.9843 - val_loss: 0.2343 - val_accuracy: 0.9360\n",
      "Epoch 46/150\n",
      "873/873 [==============================] - 7s 8ms/step - loss: 0.0529 - accuracy: 0.9822 - val_loss: 0.2782 - val_accuracy: 0.9215\n",
      "Epoch 47/150\n",
      "873/873 [==============================] - 7s 8ms/step - loss: 0.0450 - accuracy: 0.9855 - val_loss: 0.2285 - val_accuracy: 0.9425\n",
      "Epoch 48/150\n",
      "873/873 [==============================] - 7s 8ms/step - loss: 0.0401 - accuracy: 0.9847 - val_loss: 0.2732 - val_accuracy: 0.9344\n",
      "Epoch 49/150\n",
      "873/873 [==============================] - 7s 8ms/step - loss: 0.0484 - accuracy: 0.9848 - val_loss: 0.2777 - val_accuracy: 0.9435\n",
      "Epoch 50/150\n",
      "873/873 [==============================] - 7s 8ms/step - loss: 0.0489 - accuracy: 0.9833 - val_loss: 0.2848 - val_accuracy: 0.9371\n",
      "Epoch 51/150\n",
      "873/873 [==============================] - 7s 8ms/step - loss: 0.0489 - accuracy: 0.9847 - val_loss: 0.2659 - val_accuracy: 0.9317\n",
      "Epoch 52/150\n",
      "873/873 [==============================] - 7s 8ms/step - loss: 0.0451 - accuracy: 0.9845 - val_loss: 0.3047 - val_accuracy: 0.9355\n",
      "Epoch 53/150\n",
      "873/873 [==============================] - 7s 8ms/step - loss: 0.0477 - accuracy: 0.9846 - val_loss: 0.2806 - val_accuracy: 0.9360\n",
      "Epoch 54/150\n",
      "873/873 [==============================] - 7s 8ms/step - loss: 0.0456 - accuracy: 0.9857 - val_loss: 0.2177 - val_accuracy: 0.9366\n",
      "Epoch 55/150\n",
      "873/873 [==============================] - 7s 8ms/step - loss: 0.0502 - accuracy: 0.9834 - val_loss: 0.2642 - val_accuracy: 0.9366\n",
      "Epoch 56/150\n",
      "873/873 [==============================] - 7s 8ms/step - loss: 0.0437 - accuracy: 0.9853 - val_loss: 0.2267 - val_accuracy: 0.9392\n",
      "Epoch 57/150\n",
      "873/873 [==============================] - 7s 8ms/step - loss: 0.0415 - accuracy: 0.9862 - val_loss: 0.2146 - val_accuracy: 0.9376\n"
     ]
    },
    {
     "name": "stdout",
     "output_type": "stream",
     "text": [
      "Epoch 58/150\n",
      "873/873 [==============================] - 7s 8ms/step - loss: 0.0467 - accuracy: 0.9846 - val_loss: 0.2494 - val_accuracy: 0.9366\n",
      "Epoch 59/150\n",
      "873/873 [==============================] - 7s 8ms/step - loss: 0.0462 - accuracy: 0.9861 - val_loss: 0.2580 - val_accuracy: 0.9457\n",
      "Epoch 60/150\n",
      "873/873 [==============================] - 7s 8ms/step - loss: 0.0532 - accuracy: 0.9834 - val_loss: 0.2467 - val_accuracy: 0.9339\n",
      "Epoch 61/150\n",
      "873/873 [==============================] - 7s 8ms/step - loss: 0.0382 - accuracy: 0.9878 - val_loss: 0.2572 - val_accuracy: 0.9387\n",
      "Epoch 62/150\n",
      "873/873 [==============================] - 7s 8ms/step - loss: 0.0451 - accuracy: 0.9841 - val_loss: 0.2571 - val_accuracy: 0.9371\n",
      "Epoch 63/150\n",
      "873/873 [==============================] - 7s 8ms/step - loss: 0.0458 - accuracy: 0.9856 - val_loss: 0.3028 - val_accuracy: 0.9430\n",
      "Epoch 64/150\n",
      "873/873 [==============================] - 7s 8ms/step - loss: 0.0438 - accuracy: 0.9857 - val_loss: 0.2654 - val_accuracy: 0.9392\n",
      "Epoch 65/150\n",
      "873/873 [==============================] - 7s 8ms/step - loss: 0.0411 - accuracy: 0.9872 - val_loss: 0.2888 - val_accuracy: 0.9398\n",
      "Epoch 66/150\n",
      "873/873 [==============================] - 7s 8ms/step - loss: 0.0435 - accuracy: 0.9865 - val_loss: 0.2710 - val_accuracy: 0.9339\n",
      "Epoch 67/150\n",
      "873/873 [==============================] - 7s 8ms/step - loss: 0.0389 - accuracy: 0.9881 - val_loss: 0.2771 - val_accuracy: 0.9333\n",
      "Epoch 68/150\n",
      "873/873 [==============================] - 7s 8ms/step - loss: 0.0426 - accuracy: 0.9870 - val_loss: 0.2469 - val_accuracy: 0.9371\n",
      "Epoch 69/150\n",
      "873/873 [==============================] - 7s 8ms/step - loss: 0.0352 - accuracy: 0.9886 - val_loss: 0.2383 - val_accuracy: 0.9392\n",
      "Epoch 70/150\n",
      "873/873 [==============================] - 7s 8ms/step - loss: 0.0372 - accuracy: 0.9882 - val_loss: 0.2802 - val_accuracy: 0.9317\n",
      "Epoch 71/150\n",
      "873/873 [==============================] - 7s 8ms/step - loss: 0.0386 - accuracy: 0.9878 - val_loss: 0.2707 - val_accuracy: 0.9387\n",
      "Epoch 72/150\n",
      "873/873 [==============================] - 7s 8ms/step - loss: 0.0390 - accuracy: 0.9885 - val_loss: 0.2693 - val_accuracy: 0.9312\n",
      "Epoch 73/150\n",
      "873/873 [==============================] - 7s 8ms/step - loss: 0.0387 - accuracy: 0.9873 - val_loss: 0.3062 - val_accuracy: 0.9333\n",
      "Epoch 74/150\n",
      "873/873 [==============================] - 7s 8ms/step - loss: 0.0333 - accuracy: 0.9910 - val_loss: 0.2517 - val_accuracy: 0.9446\n",
      "Epoch 75/150\n",
      "873/873 [==============================] - 7s 8ms/step - loss: 0.0430 - accuracy: 0.9870 - val_loss: 0.2351 - val_accuracy: 0.9366\n",
      "Epoch 76/150\n",
      "873/873 [==============================] - 7s 8ms/step - loss: 0.0390 - accuracy: 0.9887 - val_loss: 0.2441 - val_accuracy: 0.9387\n",
      "Epoch 77/150\n",
      "873/873 [==============================] - 7s 8ms/step - loss: 0.0358 - accuracy: 0.9886 - val_loss: 0.2698 - val_accuracy: 0.9360\n",
      "Epoch 78/150\n",
      "873/873 [==============================] - 7s 8ms/step - loss: 0.0335 - accuracy: 0.9895 - val_loss: 0.2721 - val_accuracy: 0.9349\n",
      "Epoch 79/150\n",
      "873/873 [==============================] - 7s 8ms/step - loss: 0.0348 - accuracy: 0.9886 - val_loss: 0.3180 - val_accuracy: 0.9269\n",
      "Epoch 80/150\n",
      "873/873 [==============================] - 7s 8ms/step - loss: 0.0445 - accuracy: 0.9880 - val_loss: 0.2677 - val_accuracy: 0.9376\n",
      "Epoch 81/150\n",
      "873/873 [==============================] - 7s 8ms/step - loss: 0.0336 - accuracy: 0.9903 - val_loss: 0.2880 - val_accuracy: 0.9398\n",
      "Epoch 82/150\n",
      "873/873 [==============================] - 7s 8ms/step - loss: 0.0461 - accuracy: 0.9868 - val_loss: 0.2899 - val_accuracy: 0.9360\n",
      "Epoch 83/150\n",
      "873/873 [==============================] - 7s 8ms/step - loss: 0.0308 - accuracy: 0.9906 - val_loss: 0.2628 - val_accuracy: 0.9366\n",
      "Epoch 84/150\n",
      "873/873 [==============================] - 7s 8ms/step - loss: 0.0373 - accuracy: 0.9890 - val_loss: 0.2677 - val_accuracy: 0.9398\n"
     ]
    },
    {
     "data": {
      "text/plain": [
       "<keras.callbacks.History at 0x27afff7d1f0>"
      ]
     },
     "execution_count": 20,
     "metadata": {},
     "output_type": "execute_result"
    }
   ],
   "source": [
    "from tensorflow.keras.callbacks import EarlyStopping\n",
    "early_stop = EarlyStopping(monitor = 'val_loss', patience = 40 )\n",
    "\n",
    "m1.fit(X_train,y_train,epochs=150,batch_size=16, validation_data=(X_val,y_val), callbacks = [early_stop], verbose=1)"
   ]
  },
  {
   "cell_type": "code",
   "execution_count": 21,
   "metadata": {
    "id": "d6OA7oX-yByT"
   },
   "outputs": [],
   "source": [
    "# Get training history\n",
    "metrics = pd.DataFrame(m1.history.history)"
   ]
  },
  {
   "cell_type": "code",
   "execution_count": 22,
   "metadata": {},
   "outputs": [],
   "source": [
    "import os\n",
    "exp_num = []\n",
    "if not os.path.exists(\"./experiments\"):\n",
    "    os.mkdir(\"./experiments\")\n",
    "folders = os.listdir(\"./experiments\")\n",
    "for folder in folders:\n",
    "    exp_num.append(int(folder.split(\"#\")[1]))\n",
    "\n",
    "\n",
    "if len(exp_num) == 0:\n",
    "    exp_path = r\"./experiments/exp#1\"\n",
    "else:\n",
    "    exp_path = r\"./experiments/exp#\"+str(max(exp_num)+1)\n",
    "\n",
    "\n",
    "\n",
    "\n",
    "os.mkdir(exp_path)\n",
    "os.mkdir(os.path.join(exp_path, \"results\"))\n",
    "os.mkdir(os.path.join(exp_path, \"weights\"))\n",
    "\n",
    "results = os.path.join(exp_path, \"results\")\n",
    "weights = os.path.join(exp_path, \"weights\")"
   ]
  },
  {
   "cell_type": "code",
   "execution_count": 23,
   "metadata": {},
   "outputs": [
    {
     "name": "stdout",
     "output_type": "stream",
     "text": [
      "./experiments/exp#8\\results\n"
     ]
    }
   ],
   "source": [
    "print(results)"
   ]
  },
  {
   "cell_type": "code",
   "execution_count": 24,
   "metadata": {
    "id": "vs5CCwj993FX"
   },
   "outputs": [
    {
     "name": "stdout",
     "output_type": "stream",
     "text": [
      "88/88 [==============================] - 1s 5ms/step - loss: 0.3647 - accuracy: 0.9330\n"
     ]
    }
   ],
   "source": [
    "# Save The Trained model along with it training history   \n",
    "Accuracy = m1.evaluate(X_test, y_test)[-1]\n",
    "name = str(round(Accuracy, 4))\n",
    "\n",
    "metrics.to_pickle(os.path.join(results, name+'.pkl'))\n",
    "m1.save(os.path.join(weights, name + '.h5'))"
   ]
  },
  {
   "cell_type": "code",
   "execution_count": 25,
   "metadata": {
    "id": "5F7i-oCwytup",
    "scrolled": true
   },
   "outputs": [
    {
     "data": {
      "image/png": "[encoded data removed]",
      "text/plain": [
       "<Figure size 720x504 with 1 Axes>"
      ]
     },
     "metadata": {
      "needs_background": "light"
     },
     "output_type": "display_data"
    },
    {
     "data": {
      "image/png": "[encoded data removed]",
      "text/plain": [
       "<Figure size 720x504 with 1 Axes>"
      ]
     },
     "metadata": {
      "needs_background": "light"
     },
     "output_type": "display_data"
    }
   ],
   "source": [
    "## Dispaly the plot of \n",
    "rows = 2\n",
    "columns = 1\n",
    "  \n",
    "# Display Train loss vs Validation loss at each Epoch\n",
    "fig = plt.figure(figsize=(10, 7))\n",
    "fig.add_subplot(rows, columns, 1)\n",
    "plt.plot(metrics['loss'])\n",
    "plt.plot(metrics['val_loss'])\n",
    "plt.title('Model Loss')\n",
    "plt.ylabel('loss')\n",
    "plt.xlabel('epoch')\n",
    "plt.legend(['train', 'val'], loc='upper left')\n",
    "plt.savefig(os.path.join(results, 'loss_epoch.png'))\n",
    "plt.show()\n",
    "\n",
    "  \n",
    "# Display Train loss vs Validation loss at each Epoch\n",
    "fig = plt.figure(figsize=(10, 7))\n",
    "fig.add_subplot(rows, columns, 2)\n",
    "plt.plot(metrics['accuracy'])\n",
    "plt.plot(metrics['val_accuracy'])\n",
    "plt.title('Model Accuracy')\n",
    "plt.ylabel('accuracy')\n",
    "plt.xlabel('epoch')\n",
    "plt.legend(['train', 'val'], loc='upper left')\n",
    "plt.savefig(os.path.join(results, 'acc_epoch.png'))\n",
    "plt.show()\n",
    "\n"
   ]
  },
  {
   "cell_type": "code",
   "execution_count": 26,
   "metadata": {
    "id": "HQOKaA8zfv4K"
   },
   "outputs": [],
   "source": [
    "## Get the \n",
    "predict_x = m1.predict(X_test) \n",
    "predictions = np.argmax(predict_x,axis=1) "
   ]
  },
  {
   "cell_type": "code",
   "execution_count": 27,
   "metadata": {
    "id": "xy9_ZzsYkByi"
   },
   "outputs": [],
   "source": [
    "# Decode the Model's predections  (from [0,1,0,2..] to ['Glioma','Meningioma'...]) of the Test set using the the dictionary 'decode_dict' \n",
    "predictions = np.vectorize(decode_dict.get)(predictions)"
   ]
  },
  {
   "cell_type": "code",
   "execution_count": 28,
   "metadata": {
    "id": "IVYX1MCzjx00"
   },
   "outputs": [
    {
     "name": "stdout",
     "output_type": "stream",
     "text": [
      "              precision    recall  f1-score   support\n",
      "\n",
      "   Glioma II       0.85      0.86      0.86       420\n",
      "  Glioma III       0.90      0.87      0.88       308\n",
      "   Glioma VI       0.88      0.86      0.87       440\n",
      "  Meningioma       0.97      0.96      0.96       384\n",
      "    No tumor       0.99      1.00      0.99       692\n",
      "   Pituitary       0.97      0.98      0.97       548\n",
      "\n",
      "    accuracy                           0.93      2792\n",
      "   macro avg       0.92      0.92      0.92      2792\n",
      "weighted avg       0.93      0.93      0.93      2792\n",
      "\n"
     ]
    }
   ],
   "source": [
    "print(classification_report(y_test_eval, predictions))"
   ]
  },
  {
   "cell_type": "code",
   "execution_count": 29,
   "metadata": {
    "id": "HOVPJjy0udhD"
   },
   "outputs": [
    {
     "data": {
      "image/png": "[encoded data removed]",
      "text/plain": [
       "<Figure size 720x504 with 2 Axes>"
      ]
     },
     "metadata": {
      "needs_background": "light"
     },
     "output_type": "display_data"
    }
   ],
   "source": [
    "labels = sorted(aug_test_DF.Label.unique())\n",
    "\n",
    "cm = pd.DataFrame(confusion_matrix(y_test_eval, predictions), index=labels, columns=labels)\n",
    "plt.figure(figsize = (10,7))\n",
    "plt.title('Confusion matrix')\n",
    "sns.heatmap(cm, annot=True, cmap=\"PuBu\",fmt = 'd')\n",
    "plt.ylabel('True labels')\n",
    "plt.xlabel('Predicted labels')\n",
    "plt.savefig(os.path.join(results, 'confusion_matrix.png'))\n",
    "plt.show()"
   ]
  },
  {
   "cell_type": "code",
   "execution_count": null,
   "metadata": {},
   "outputs": [],
   "source": []
  }
 ],
 "metadata": {
  "accelerator": "GPU",
  "colab": {
   "collapsed_sections": [],
   "name": "5_labels_model_v1.ipynb",
   "provenance": []
  },
  "kernelspec": {
   "display_name": "Python 3 (ipykernel)",
   "language": "python",
   "name": "python3"
  },
  "language_info": {
   "codemirror_mode": {
    "name": "ipython",
    "version": 3
   },
   "file_extension": ".py",
   "mimetype": "text/x-python",
   "name": "python",
   "nbconvert_exporter": "python",
   "pygments_lexer": "ipython3",
   "version": "3.9.7"
  }
 },
 "nbformat": 4,
 "nbformat_minor": 1
}
