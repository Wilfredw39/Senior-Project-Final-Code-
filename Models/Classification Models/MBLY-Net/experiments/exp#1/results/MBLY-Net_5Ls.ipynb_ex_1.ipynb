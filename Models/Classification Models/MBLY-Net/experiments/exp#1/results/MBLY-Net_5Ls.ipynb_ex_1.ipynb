{
 "cells": [
  {
   "cell_type": "markdown",
   "metadata": {
    "id": "vt51_KACTdGf"
   },
   "source": [
    "## 0. Setting up the Environment\n"
   ]
  },
  {
   "cell_type": "code",
   "execution_count": 1,
   "metadata": {
    "colab": {
     "base_uri": "https://localhost:8080/"
    },
    "id": "D4Z6Zv3PSOcg",
    "outputId": "b87040f7-50f1-4633-bcd9-415194d37d2e"
   },
   "outputs": [],
   "source": [
    "## impoort labaries \n",
    "import os \n",
    "import cv2\n",
    "import mat73\n",
    "import time\n",
    "import keras\n",
    "import pandas as pd\n",
    "import numpy as np \n",
    "import seaborn as sns\n",
    "import skimage\n",
    "import tensorflow as tf\n",
    "import matplotlib.pyplot as plt\n",
    "from PIL import Image, ImageOps \n",
    "from skimage.transform import resize\n",
    "from keras.models import Sequential\n",
    "from tensorflow.keras import optimizers\n",
    "from tqdm.notebook import tqdm_notebook as tqdm\n",
    "from sklearn.metrics import classification_report, confusion_matrix\n",
    "from keras.layers import Conv2D, MaxPooling2D, Flatten, Dense, Dropout, BatchNormalization,  Convolution2D"
   ]
  },
  {
   "cell_type": "markdown",
   "metadata": {
    "id": "sYWmkuxOWtm4"
   },
   "source": [
    "## 1. Data Importing "
   ]
  },
  {
   "cell_type": "code",
   "execution_count": 2,
   "metadata": {},
   "outputs": [],
   "source": [
    "SIZE_X = 128\n",
    "SIZE_Y = 128\n",
    "\n",
    "aug_train_DF = pd.read_pickle(r\"../../../Datasets/Dataset_B/aug_train_DF_{}.pkl\".format(SIZE_X))\n",
    "aug_val_DF = pd.read_pickle(r\"../../../Datasets/Dataset_B/aug_val_DF_{}.pkl\".format(SIZE_X))\n",
    "aug_test_DF = pd.read_pickle(r\"../../../Datasets/Dataset_B/aug_test_DF_{}.pkl\".format(SIZE_X))"
   ]
  },
  {
   "cell_type": "code",
   "execution_count": 3,
   "metadata": {
    "colab": {
     "background_save": true
    },
    "id": "kaaNJb4nR5Z5",
    "outputId": "229fd2a5-846a-4168-abdf-2db9f91c282d"
   },
   "outputs": [
    {
     "data": {
      "text/html": [
       "<div>\n",
       "<style scoped>\n",
       "    .dataframe tbody tr th:only-of-type {\n",
       "        vertical-align: middle;\n",
       "    }\n",
       "\n",
       "    .dataframe tbody tr th {\n",
       "        vertical-align: top;\n",
       "    }\n",
       "\n",
       "    .dataframe thead th {\n",
       "        text-align: right;\n",
       "    }\n",
       "</style>\n",
       "<table border=\"1\" class=\"dataframe\">\n",
       "  <thead>\n",
       "    <tr style=\"text-align: right;\">\n",
       "      <th></th>\n",
       "      <th>PID</th>\n",
       "      <th>Label</th>\n",
       "      <th>Image</th>\n",
       "      <th>File</th>\n",
       "    </tr>\n",
       "  </thead>\n",
       "  <tbody>\n",
       "    <tr>\n",
       "      <th>10406</th>\n",
       "      <td>HF1139</td>\n",
       "      <td>Glioma VI</td>\n",
       "      <td>[[0.0, 0.0, 0.0, 0.0, 0.0, 0.0, 0.0, 0.0, 0.0,...</td>\n",
       "      <td>D:\\Datasets\\manifest-tXudPFfp43472957274060920...</td>\n",
       "    </tr>\n",
       "    <tr>\n",
       "      <th>11278</th>\n",
       "      <td>106062</td>\n",
       "      <td>Pituitary</td>\n",
       "      <td>[[0.0, 0.0, 0.0, 0.0, 0.0, 0.0, 0.0, 0.0, 0.0,...</td>\n",
       "      <td>1041.mat</td>\n",
       "    </tr>\n",
       "    <tr>\n",
       "      <th>12271</th>\n",
       "      <td>900-00-5382</td>\n",
       "      <td>Glioma II</td>\n",
       "      <td>[[0.0, 0.0, 0.0, 0.0, 0.000606394883845064, 0....</td>\n",
       "      <td>D:\\Datasets\\manifest-tXudPFfp43472957274060920...</td>\n",
       "    </tr>\n",
       "    <tr>\n",
       "      <th>314</th>\n",
       "      <td>105638</td>\n",
       "      <td>Pituitary</td>\n",
       "      <td>[[0.0, 0.0, 0.0, 0.0, 0.0, 0.0, 0.0, 0.0, 0.0,...</td>\n",
       "      <td>1383.mat</td>\n",
       "    </tr>\n",
       "    <tr>\n",
       "      <th>11309</th>\n",
       "      <td>HF0899</td>\n",
       "      <td>Glioma II</td>\n",
       "      <td>[[0, 1, 1, 1, 0, 0, 0, 0, 1, 1, 0, 0, 2, 1, 0,...</td>\n",
       "      <td>D:\\Datasets\\manifest-tXudPFfp43472957274060920...</td>\n",
       "    </tr>\n",
       "  </tbody>\n",
       "</table>\n",
       "</div>"
      ],
      "text/plain": [
       "               PID      Label  \\\n",
       "10406       HF1139  Glioma VI   \n",
       "11278       106062  Pituitary   \n",
       "12271  900-00-5382  Glioma II   \n",
       "314         105638  Pituitary   \n",
       "11309       HF0899  Glioma II   \n",
       "\n",
       "                                                   Image  \\\n",
       "10406  [[0.0, 0.0, 0.0, 0.0, 0.0, 0.0, 0.0, 0.0, 0.0,...   \n",
       "11278  [[0.0, 0.0, 0.0, 0.0, 0.0, 0.0, 0.0, 0.0, 0.0,...   \n",
       "12271  [[0.0, 0.0, 0.0, 0.0, 0.000606394883845064, 0....   \n",
       "314    [[0.0, 0.0, 0.0, 0.0, 0.0, 0.0, 0.0, 0.0, 0.0,...   \n",
       "11309  [[0, 1, 1, 1, 0, 0, 0, 0, 1, 1, 0, 0, 2, 1, 0,...   \n",
       "\n",
       "                                                    File  \n",
       "10406  D:\\Datasets\\manifest-tXudPFfp43472957274060920...  \n",
       "11278                                           1041.mat  \n",
       "12271  D:\\Datasets\\manifest-tXudPFfp43472957274060920...  \n",
       "314                                             1383.mat  \n",
       "11309  D:\\Datasets\\manifest-tXudPFfp43472957274060920...  "
      ]
     },
     "execution_count": 3,
     "metadata": {},
     "output_type": "execute_result"
    }
   ],
   "source": [
    "## Combain the df with the Pitutary & Meningioma types with the dataframe of the Glioma grades (I, II,, IV).\n",
    "\n",
    "pd.concat([aug_train_DF, aug_val_DF, aug_test_DF], axis=0, ignore_index = True).sample(5)"
   ]
  },
  {
   "cell_type": "code",
   "execution_count": 4,
   "metadata": {
    "colab": {
     "background_save": true
    },
    "id": "uJEttBBOU9IN",
    "outputId": "d176e92f-d35f-4f92-a264-ead1e87244e6"
   },
   "outputs": [
    {
     "name": "stderr",
     "output_type": "stream",
     "text": [
      "C:\\Users\\Ma7moud\\anaconda3\\envs\\T-UNet\\lib\\site-packages\\seaborn\\_decorators.py:36: FutureWarning: Pass the following variable as a keyword arg: x. From version 0.12, the only valid positional argument will be `data`, and passing other arguments without an explicit keyword will result in an error or misinterpretation.\n",
      "  warnings.warn(\n"
     ]
    },
    {
     "data": {
      "image/png": "[encoded data removed]",
      "text/plain": [
       "<Figure size 432x288 with 1 Axes>"
      ]
     },
     "metadata": {
      "needs_background": "light"
     },
     "output_type": "display_data"
    }
   ],
   "source": [
    "sns.countplot(pd.concat([aug_train_DF, aug_val_DF, aug_test_DF], axis=0, ignore_index = True).Label)\n",
    "plt.show()"
   ]
  },
  {
   "cell_type": "code",
   "execution_count": 5,
   "metadata": {
    "colab": {
     "background_save": true
    },
    "id": "AWLSJpw6WVVo",
    "outputId": "348d3fee-c3a5-442d-96af-5711dec23128"
   },
   "outputs": [
    {
     "data": {
      "image/png": "[encoded data removed]",
      "text/plain": [
       "<Figure size 432x288 with 1 Axes>"
      ]
     },
     "metadata": {},
     "output_type": "display_data"
    }
   ],
   "source": [
    "data = pd.concat([aug_train_DF, aug_val_DF, aug_test_DF], axis=0, ignore_index = True).groupby(\"Label\")[\"Label\"].count()\n",
    "data.plot.pie(autopct=\"%.1f%%\");"
   ]
  },
  {
   "cell_type": "markdown",
   "metadata": {
    "id": "Zf3vh4d7w3ZP"
   },
   "source": [
    "## 2. Data-Preprocessing "
   ]
  },
  {
   "cell_type": "markdown",
   "metadata": {
    "id": "Kd502KoZONei"
   },
   "source": [
    "### 2.1 Image Resizing \n"
   ]
  },
  {
   "cell_type": "markdown",
   "metadata": {
    "id": "oDIYJ9-3OWho"
   },
   "source": [
    "### 2.2 Data Augmentation"
   ]
  },
  {
   "cell_type": "markdown",
   "metadata": {},
   "source": [
    "### 2.3 Grayscale to RGB"
   ]
  },
  {
   "cell_type": "code",
   "execution_count": 6,
   "metadata": {
    "colab": {
     "background_save": true
    },
    "id": "hzz5yapeG-M7",
    "outputId": "0d2f1eb1-953a-4141-8ab9-4cb02b8519e8"
   },
   "outputs": [],
   "source": [
    "def normalize(img):\n",
    "    plt.imsave('DR.png', img, cmap='gray')\n",
    "    return cv2.imread('DR.png')"
   ]
  },
  {
   "cell_type": "code",
   "execution_count": 7,
   "metadata": {},
   "outputs": [],
   "source": [
    "aug_train_DF[\"Image\"] = aug_train_DF[\"Image\"].apply(normalize)\n",
    "aug_val_DF[\"Image\"] = aug_val_DF[\"Image\"].apply(normalize)\n",
    "aug_test_DF[\"Image\"] = aug_test_DF[\"Image\"].apply(normalize)"
   ]
  },
  {
   "cell_type": "markdown",
   "metadata": {
    "id": "yg8moTnTaNeT"
   },
   "source": [
    "### 2.4 Splitting Data into Train, Test, and Validation Sets"
   ]
  },
  {
   "cell_type": "code",
   "execution_count": 8,
   "metadata": {},
   "outputs": [],
   "source": [
    "y_train = aug_train_DF[\"Label\"]\n",
    "X_train = aug_train_DF['Image'].tolist()\n",
    "X_train = np.array(X_train).reshape(-1, SIZE_X, SIZE_Y, 3)\n",
    "\n",
    "\n",
    "y_val = aug_val_DF[\"Label\"]\n",
    "X_val = aug_val_DF['Image'].tolist()\n",
    "X_val = np.array(X_val).reshape(-1, SIZE_X, SIZE_Y, 3)\n",
    "\n",
    "y_test = aug_test_DF[\"Label\"]\n",
    "X_test = aug_test_DF['Image'].tolist()\n",
    "X_test = np.array(X_test).reshape(-1, SIZE_X, SIZE_Y, 3)\n"
   ]
  },
  {
   "cell_type": "code",
   "execution_count": 9,
   "metadata": {},
   "outputs": [
    {
     "name": "stdout",
     "output_type": "stream",
     "text": [
      "X_train shape: (10676, 128, 128, 3) | y_train shape: (10676,)\n",
      "X_val shape  : (1424, 128, 128, 3)  | y_test shape :  (1424,)\n",
      "X_test shape : (2136, 128, 128, 3)  | y_test shape :  (2136,)\n"
     ]
    }
   ],
   "source": [
    "print(\"X_train shape:\", X_train.shape,\"| y_train shape:\", y_train.shape)\n",
    "print(\"X_val shape  :\",X_val.shape,\" | y_test shape : \", y_val.shape)\n",
    "print(\"X_test shape :\",X_test.shape,\" | y_test shape : \", y_test.shape)"
   ]
  },
  {
   "cell_type": "markdown",
   "metadata": {},
   "source": [
    "### 2.5 One-Hot Encode the labels "
   ]
  },
  {
   "cell_type": "code",
   "execution_count": 10,
   "metadata": {
    "colab": {
     "background_save": true
    },
    "id": "uR_Cv0khfpyS",
    "outputId": "0fa96dd1-5899-45b2-9d73-5fcbc132a797"
   },
   "outputs": [],
   "source": [
    "# saving a copy of the testing labels before one hot encoding\n",
    "y_test_eval = y_test\n",
    "# one hot endcoding the labels \n",
    "y_train = pd.get_dummies(y_train)\n",
    "y_test  = pd.get_dummies(y_test)\n",
    "y_val   = pd.get_dummies(y_val)"
   ]
  },
  {
   "cell_type": "code",
   "execution_count": 11,
   "metadata": {},
   "outputs": [
    {
     "name": "stdout",
     "output_type": "stream",
     "text": [
      "X_train shape: (10676, 128, 128, 3) | y_train shape: (10676, 5)\n",
      "X_test shape : (2136, 128, 128, 3)  | y_test shape:  (2136, 5)\n",
      "X_val shape  : (1424, 128, 128, 3)  | y_val shape :  (1424, 5)\n",
      "\n",
      "Total number: 14236\n"
     ]
    }
   ],
   "source": [
    "print(\"X_train shape:\", X_train.shape,\"| y_train shape:\", y_train.shape)\n",
    "print(\"X_test shape :\",X_test.shape,\" | y_test shape: \", y_test.shape)\n",
    "print(\"X_val shape  :\",X_val.shape,\" | y_val shape : \", y_val.shape)\n",
    "print(\"\\nTotal number: {}\".format(len(aug_train_DF)+len(aug_val_DF)+len(aug_test_DF)))"
   ]
  },
  {
   "cell_type": "code",
   "execution_count": 12,
   "metadata": {
    "colab": {
     "background_save": true
    },
    "id": "3DctvR_fVPlF",
    "outputId": "bdf93bfa-b00d-49a3-99c8-f2bde2731658"
   },
   "outputs": [
    {
     "data": {
      "text/html": [
       "<div>\n",
       "<style scoped>\n",
       "    .dataframe tbody tr th:only-of-type {\n",
       "        vertical-align: middle;\n",
       "    }\n",
       "\n",
       "    .dataframe tbody tr th {\n",
       "        vertical-align: top;\n",
       "    }\n",
       "\n",
       "    .dataframe thead th {\n",
       "        text-align: right;\n",
       "    }\n",
       "</style>\n",
       "<table border=\"1\" class=\"dataframe\">\n",
       "  <thead>\n",
       "    <tr style=\"text-align: right;\">\n",
       "      <th></th>\n",
       "      <th>Glioma II</th>\n",
       "      <th>Glioma III</th>\n",
       "      <th>Glioma VI</th>\n",
       "      <th>Meningioma</th>\n",
       "      <th>Pituitary</th>\n",
       "    </tr>\n",
       "  </thead>\n",
       "  <tbody>\n",
       "    <tr>\n",
       "      <th>0</th>\n",
       "      <td>1</td>\n",
       "      <td>0</td>\n",
       "      <td>0</td>\n",
       "      <td>0</td>\n",
       "      <td>0</td>\n",
       "    </tr>\n",
       "    <tr>\n",
       "      <th>1</th>\n",
       "      <td>0</td>\n",
       "      <td>0</td>\n",
       "      <td>0</td>\n",
       "      <td>0</td>\n",
       "      <td>1</td>\n",
       "    </tr>\n",
       "    <tr>\n",
       "      <th>2</th>\n",
       "      <td>1</td>\n",
       "      <td>0</td>\n",
       "      <td>0</td>\n",
       "      <td>0</td>\n",
       "      <td>0</td>\n",
       "    </tr>\n",
       "    <tr>\n",
       "      <th>3</th>\n",
       "      <td>0</td>\n",
       "      <td>0</td>\n",
       "      <td>0</td>\n",
       "      <td>1</td>\n",
       "      <td>0</td>\n",
       "    </tr>\n",
       "    <tr>\n",
       "      <th>4</th>\n",
       "      <td>0</td>\n",
       "      <td>0</td>\n",
       "      <td>0</td>\n",
       "      <td>0</td>\n",
       "      <td>1</td>\n",
       "    </tr>\n",
       "    <tr>\n",
       "      <th>...</th>\n",
       "      <td>...</td>\n",
       "      <td>...</td>\n",
       "      <td>...</td>\n",
       "      <td>...</td>\n",
       "      <td>...</td>\n",
       "    </tr>\n",
       "    <tr>\n",
       "      <th>2131</th>\n",
       "      <td>0</td>\n",
       "      <td>0</td>\n",
       "      <td>0</td>\n",
       "      <td>0</td>\n",
       "      <td>1</td>\n",
       "    </tr>\n",
       "    <tr>\n",
       "      <th>2132</th>\n",
       "      <td>1</td>\n",
       "      <td>0</td>\n",
       "      <td>0</td>\n",
       "      <td>0</td>\n",
       "      <td>0</td>\n",
       "    </tr>\n",
       "    <tr>\n",
       "      <th>2133</th>\n",
       "      <td>0</td>\n",
       "      <td>0</td>\n",
       "      <td>0</td>\n",
       "      <td>0</td>\n",
       "      <td>1</td>\n",
       "    </tr>\n",
       "    <tr>\n",
       "      <th>2134</th>\n",
       "      <td>0</td>\n",
       "      <td>0</td>\n",
       "      <td>1</td>\n",
       "      <td>0</td>\n",
       "      <td>0</td>\n",
       "    </tr>\n",
       "    <tr>\n",
       "      <th>2135</th>\n",
       "      <td>0</td>\n",
       "      <td>0</td>\n",
       "      <td>0</td>\n",
       "      <td>1</td>\n",
       "      <td>0</td>\n",
       "    </tr>\n",
       "  </tbody>\n",
       "</table>\n",
       "<p>2136 rows × 5 columns</p>\n",
       "</div>"
      ],
      "text/plain": [
       "      Glioma II  Glioma III  Glioma VI  Meningioma  Pituitary\n",
       "0             1           0          0           0          0\n",
       "1             0           0          0           0          1\n",
       "2             1           0          0           0          0\n",
       "3             0           0          0           1          0\n",
       "4             0           0          0           0          1\n",
       "...         ...         ...        ...         ...        ...\n",
       "2131          0           0          0           0          1\n",
       "2132          1           0          0           0          0\n",
       "2133          0           0          0           0          1\n",
       "2134          0           0          1           0          0\n",
       "2135          0           0          0           1          0\n",
       "\n",
       "[2136 rows x 5 columns]"
      ]
     },
     "execution_count": 12,
     "metadata": {},
     "output_type": "execute_result"
    }
   ],
   "source": [
    "y_test"
   ]
  },
  {
   "cell_type": "markdown",
   "metadata": {},
   "source": [
    "### 2.6 Image Normalizatoin"
   ]
  },
  {
   "cell_type": "code",
   "execution_count": 13,
   "metadata": {},
   "outputs": [],
   "source": [
    "X_train = X_train / 255\n",
    "X_val   = X_val / 255\n",
    "X_test  = X_test / 255"
   ]
  },
  {
   "cell_type": "code",
   "execution_count": 14,
   "metadata": {
    "colab": {
     "background_save": true
    },
    "id": "jWFIvPjtiNio"
   },
   "outputs": [],
   "source": [
    "## This Dictionary is used to decode the model's predicted values.  \n",
    "decode_dict = {0 : \"Glioma II\", 1 : \"Glioma III\", 2 : \"Glioma VI\", 3: \"Meningioma\", 4: \"Pituitary\"}"
   ]
  },
  {
   "cell_type": "code",
   "execution_count": 15,
   "metadata": {
    "colab": {
     "background_save": true
    },
    "id": "PcsCoY3jggfU",
    "outputId": "3b3c30b0-a9af-4923-a318-cea2b5587807"
   },
   "outputs": [
    {
     "data": {
      "image/png": "[encoded data removed]",
      "text/plain": [
       "<Figure size 936x576 with 1 Axes>"
      ]
     },
     "metadata": {},
     "output_type": "display_data"
    }
   ],
   "source": [
    "import matplotlib.pyplot as plt\n",
    "import numpy as np\n",
    "##  Creating a Pie chart illustrating the percentage of the train, validation, test sets.\n",
    "Data = np.array([len(y_train), len(y_test), len(y_val)])\n",
    "mylabels = [\"Test Set\", \"Test Set\", \"Validation Set\"]\n",
    "plt.figure(figsize=(13, 8))\n",
    "plt.pie(Data, labels = mylabels, autopct=\"%.1f%%\", )\n",
    "plt.legend()\n",
    "plt.show() "
   ]
  },
  {
   "cell_type": "markdown",
   "metadata": {
    "id": "zDCzea2Klw_1"
   },
   "source": [
    "## 3. Models Creation\n"
   ]
  },
  {
   "cell_type": "code",
   "execution_count": 16,
   "metadata": {
    "colab": {
     "background_save": true
    },
    "id": "K58Sn8Gt_6v9"
   },
   "outputs": [],
   "source": [
    "m1 = Sequential()\n",
    "\n",
    "m1.add(Convolution2D( 32, (3,3), activation ='relu', input_shape = (SIZE_X, SIZE_Y, 3))) \n",
    "m1.add(MaxPooling2D(pool_size=2))\n",
    "m1.add(Convolution2D(filters=64, kernel_size=4, padding='same', activation='relu'))\n",
    "m1.add(MaxPooling2D(pool_size=2))\n",
    "m1.add(Convolution2D(filters=128, kernel_size=3, padding='same', activation='relu'))\n",
    "m1.add(MaxPooling2D(pool_size=2))\n",
    "m1.add(Dropout(0.50))\n",
    "m1.add(Convolution2D(filters=128, kernel_size=2, padding='same', activation='relu'))\n",
    "m1.add(MaxPooling2D(pool_size=2))\n",
    "m1.add(Dropout(0.50))\n",
    "m1.add(Flatten()) \n",
    "m1.add(Dense(units = 128, activation = 'relu'))\n",
    "m1.add(Dense(units = 32, activation = 'relu'))\n",
    "m1.add(Dense(units = 5, activation = 'softmax'))\n",
    "\n",
    "m1.compile(optimizer='adam', loss = 'categorical_crossentropy', metrics = ['accuracy'])"
   ]
  },
  {
   "cell_type": "code",
   "execution_count": null,
   "metadata": {},
   "outputs": [],
   "source": []
  },
  {
   "cell_type": "markdown",
   "metadata": {
    "id": "6aAVYS26t6c3"
   },
   "source": [
    "### 4. Model Training\n"
   ]
  },
  {
   "cell_type": "code",
   "execution_count": 17,
   "metadata": {
    "id": "LGT4MVY3tkyz"
   },
   "outputs": [
    {
     "name": "stdout",
     "output_type": "stream",
     "text": [
      "Epoch 1/150\n",
      "167/167 [==============================] - 8s 29ms/step - loss: 0.9808 - accuracy: 0.5705 - val_loss: 0.6333 - val_accuracy: 0.7317\n",
      "Epoch 2/150\n",
      "167/167 [==============================] - 4s 24ms/step - loss: 0.5994 - accuracy: 0.7396 - val_loss: 0.4907 - val_accuracy: 0.7872\n",
      "Epoch 3/150\n",
      "167/167 [==============================] - 4s 24ms/step - loss: 0.4857 - accuracy: 0.7864 - val_loss: 0.4376 - val_accuracy: 0.8195\n",
      "Epoch 4/150\n",
      "167/167 [==============================] - 4s 24ms/step - loss: 0.4003 - accuracy: 0.8302 - val_loss: 0.3842 - val_accuracy: 0.8357\n",
      "Epoch 5/150\n",
      "167/167 [==============================] - 4s 24ms/step - loss: 0.3438 - accuracy: 0.8572 - val_loss: 0.3879 - val_accuracy: 0.8392\n",
      "Epoch 6/150\n",
      "167/167 [==============================] - 4s 24ms/step - loss: 0.3078 - accuracy: 0.8697 - val_loss: 0.3089 - val_accuracy: 0.8666\n",
      "Epoch 7/150\n",
      "167/167 [==============================] - 4s 24ms/step - loss: 0.2626 - accuracy: 0.8885 - val_loss: 0.2788 - val_accuracy: 0.8904\n",
      "Epoch 8/150\n",
      "167/167 [==============================] - 4s 24ms/step - loss: 0.2411 - accuracy: 0.9051 - val_loss: 0.2666 - val_accuracy: 0.8996\n",
      "Epoch 9/150\n",
      "167/167 [==============================] - 4s 25ms/step - loss: 0.2126 - accuracy: 0.9173 - val_loss: 0.2996 - val_accuracy: 0.8890\n",
      "Epoch 10/150\n",
      "167/167 [==============================] - 4s 24ms/step - loss: 0.1887 - accuracy: 0.9243 - val_loss: 0.2322 - val_accuracy: 0.9157\n",
      "Epoch 11/150\n",
      "167/167 [==============================] - 4s 24ms/step - loss: 0.1595 - accuracy: 0.9368 - val_loss: 0.2330 - val_accuracy: 0.9143\n",
      "Epoch 12/150\n",
      "167/167 [==============================] - 4s 24ms/step - loss: 0.1440 - accuracy: 0.9445 - val_loss: 0.2719 - val_accuracy: 0.8982\n",
      "Epoch 13/150\n",
      "167/167 [==============================] - 4s 24ms/step - loss: 0.1365 - accuracy: 0.9450 - val_loss: 0.2876 - val_accuracy: 0.9059\n",
      "Epoch 14/150\n",
      "167/167 [==============================] - 4s 24ms/step - loss: 0.1361 - accuracy: 0.9463 - val_loss: 0.2056 - val_accuracy: 0.9213\n",
      "Epoch 15/150\n",
      "167/167 [==============================] - 4s 24ms/step - loss: 0.1145 - accuracy: 0.9539 - val_loss: 0.2103 - val_accuracy: 0.9221\n",
      "Epoch 16/150\n",
      "167/167 [==============================] - 4s 24ms/step - loss: 0.1024 - accuracy: 0.9616 - val_loss: 0.2080 - val_accuracy: 0.9171\n",
      "Epoch 17/150\n",
      "167/167 [==============================] - 4s 24ms/step - loss: 0.0942 - accuracy: 0.9632 - val_loss: 0.2451 - val_accuracy: 0.9178\n",
      "Epoch 18/150\n",
      "167/167 [==============================] - 4s 25ms/step - loss: 0.0924 - accuracy: 0.9637 - val_loss: 0.2365 - val_accuracy: 0.9150\n",
      "Epoch 19/150\n",
      "167/167 [==============================] - 4s 25ms/step - loss: 0.0876 - accuracy: 0.9678 - val_loss: 0.2087 - val_accuracy: 0.9277\n",
      "Epoch 20/150\n",
      "167/167 [==============================] - 4s 24ms/step - loss: 0.0797 - accuracy: 0.9713 - val_loss: 0.4423 - val_accuracy: 0.8841\n",
      "Epoch 21/150\n",
      "167/167 [==============================] - 4s 25ms/step - loss: 0.0884 - accuracy: 0.9697 - val_loss: 0.2486 - val_accuracy: 0.9206\n",
      "Epoch 22/150\n",
      "167/167 [==============================] - 4s 24ms/step - loss: 0.0749 - accuracy: 0.9719 - val_loss: 0.2126 - val_accuracy: 0.9263\n",
      "Epoch 23/150\n",
      "167/167 [==============================] - 4s 24ms/step - loss: 0.0611 - accuracy: 0.9785 - val_loss: 0.2019 - val_accuracy: 0.9291\n",
      "Epoch 24/150\n",
      "167/167 [==============================] - 4s 24ms/step - loss: 0.0970 - accuracy: 0.9693 - val_loss: 0.1882 - val_accuracy: 0.9298\n",
      "Epoch 25/150\n",
      "167/167 [==============================] - 4s 24ms/step - loss: 0.0577 - accuracy: 0.9793 - val_loss: 0.2410 - val_accuracy: 0.9242\n",
      "Epoch 26/150\n",
      "167/167 [==============================] - 4s 24ms/step - loss: 0.0552 - accuracy: 0.9785 - val_loss: 0.2432 - val_accuracy: 0.9249\n",
      "Epoch 27/150\n",
      "167/167 [==============================] - 4s 24ms/step - loss: 0.0536 - accuracy: 0.9830 - val_loss: 0.2341 - val_accuracy: 0.9382\n",
      "Epoch 28/150\n",
      "167/167 [==============================] - 4s 24ms/step - loss: 0.0550 - accuracy: 0.9816 - val_loss: 0.2423 - val_accuracy: 0.9291\n",
      "Epoch 29/150\n",
      "167/167 [==============================] - 4s 25ms/step - loss: 0.0657 - accuracy: 0.9751 - val_loss: 0.2321 - val_accuracy: 0.9178\n",
      "Epoch 30/150\n",
      "167/167 [==============================] - 4s 26ms/step - loss: 0.0465 - accuracy: 0.9836 - val_loss: 0.2774 - val_accuracy: 0.9312\n",
      "Epoch 31/150\n",
      "167/167 [==============================] - 4s 24ms/step - loss: 0.0533 - accuracy: 0.9817 - val_loss: 0.2597 - val_accuracy: 0.9277\n",
      "Epoch 32/150\n",
      "167/167 [==============================] - 4s 24ms/step - loss: 0.0490 - accuracy: 0.9823 - val_loss: 0.2145 - val_accuracy: 0.9277\n",
      "Epoch 33/150\n",
      "167/167 [==============================] - 4s 24ms/step - loss: 0.0526 - accuracy: 0.9839 - val_loss: 0.2164 - val_accuracy: 0.9340\n",
      "Epoch 34/150\n",
      "167/167 [==============================] - 4s 24ms/step - loss: 0.0416 - accuracy: 0.9845 - val_loss: 0.2448 - val_accuracy: 0.9284\n",
      "Epoch 35/150\n",
      "167/167 [==============================] - 4s 24ms/step - loss: 0.0674 - accuracy: 0.9760 - val_loss: 0.2029 - val_accuracy: 0.9368\n",
      "Epoch 36/150\n",
      "167/167 [==============================] - 4s 24ms/step - loss: 0.0410 - accuracy: 0.9860 - val_loss: 0.2274 - val_accuracy: 0.9263\n",
      "Epoch 37/150\n",
      "167/167 [==============================] - 4s 24ms/step - loss: 0.0412 - accuracy: 0.9860 - val_loss: 0.2268 - val_accuracy: 0.9368\n",
      "Epoch 38/150\n",
      "167/167 [==============================] - 4s 24ms/step - loss: 0.0429 - accuracy: 0.9848 - val_loss: 0.2036 - val_accuracy: 0.9424\n",
      "Epoch 39/150\n",
      "167/167 [==============================] - 4s 24ms/step - loss: 0.0331 - accuracy: 0.9889 - val_loss: 0.2871 - val_accuracy: 0.9375\n",
      "Epoch 40/150\n",
      "167/167 [==============================] - 4s 24ms/step - loss: 0.0365 - accuracy: 0.9876 - val_loss: 0.2648 - val_accuracy: 0.9333\n",
      "Epoch 41/150\n",
      "167/167 [==============================] - 4s 24ms/step - loss: 0.0321 - accuracy: 0.9890 - val_loss: 0.2050 - val_accuracy: 0.9431\n",
      "Epoch 42/150\n",
      "167/167 [==============================] - 4s 24ms/step - loss: 0.0316 - accuracy: 0.9902 - val_loss: 0.2463 - val_accuracy: 0.9305\n",
      "Epoch 43/150\n",
      "167/167 [==============================] - 4s 24ms/step - loss: 0.0309 - accuracy: 0.9894 - val_loss: 0.2667 - val_accuracy: 0.9298\n",
      "Epoch 44/150\n",
      "167/167 [==============================] - 4s 25ms/step - loss: 0.0360 - accuracy: 0.9875 - val_loss: 0.2162 - val_accuracy: 0.9375\n",
      "Epoch 45/150\n",
      "167/167 [==============================] - 4s 24ms/step - loss: 0.0279 - accuracy: 0.9903 - val_loss: 0.2228 - val_accuracy: 0.9375\n",
      "Epoch 46/150\n",
      "167/167 [==============================] - 4s 24ms/step - loss: 0.0399 - accuracy: 0.9863 - val_loss: 0.2145 - val_accuracy: 0.9445\n",
      "Epoch 47/150\n",
      "167/167 [==============================] - 4s 24ms/step - loss: 0.0530 - accuracy: 0.9848 - val_loss: 0.2620 - val_accuracy: 0.9249\n",
      "Epoch 48/150\n",
      "167/167 [==============================] - 4s 25ms/step - loss: 0.0324 - accuracy: 0.9892 - val_loss: 0.2945 - val_accuracy: 0.9206\n",
      "Epoch 49/150\n",
      "167/167 [==============================] - 4s 24ms/step - loss: 0.0253 - accuracy: 0.9921 - val_loss: 0.3067 - val_accuracy: 0.9305\n",
      "Epoch 50/150\n",
      "167/167 [==============================] - 4s 24ms/step - loss: 0.0269 - accuracy: 0.9905 - val_loss: 0.2621 - val_accuracy: 0.9298\n",
      "Epoch 51/150\n",
      "167/167 [==============================] - 4s 24ms/step - loss: 0.0236 - accuracy: 0.9918 - val_loss: 0.3673 - val_accuracy: 0.9213\n",
      "Epoch 52/150\n",
      "167/167 [==============================] - 4s 24ms/step - loss: 0.0335 - accuracy: 0.9875 - val_loss: 0.2125 - val_accuracy: 0.9396\n",
      "Epoch 53/150\n",
      "167/167 [==============================] - 4s 24ms/step - loss: 0.0322 - accuracy: 0.9899 - val_loss: 0.2226 - val_accuracy: 0.9410\n",
      "Epoch 54/150\n",
      "167/167 [==============================] - 4s 24ms/step - loss: 0.0266 - accuracy: 0.9910 - val_loss: 0.3455 - val_accuracy: 0.9129\n",
      "Epoch 55/150\n",
      "167/167 [==============================] - 4s 24ms/step - loss: 0.0506 - accuracy: 0.9840 - val_loss: 0.2753 - val_accuracy: 0.9228\n",
      "Epoch 56/150\n",
      "167/167 [==============================] - 4s 24ms/step - loss: 0.0226 - accuracy: 0.9928 - val_loss: 0.2564 - val_accuracy: 0.9347\n",
      "Epoch 57/150\n"
     ]
    },
    {
     "name": "stdout",
     "output_type": "stream",
     "text": [
      "167/167 [==============================] - 4s 24ms/step - loss: 0.0271 - accuracy: 0.9917 - val_loss: 0.2496 - val_accuracy: 0.9389\n",
      "Epoch 58/150\n",
      "167/167 [==============================] - 4s 24ms/step - loss: 0.0347 - accuracy: 0.9892 - val_loss: 0.2063 - val_accuracy: 0.9445\n",
      "Epoch 59/150\n",
      "167/167 [==============================] - 4s 24ms/step - loss: 0.0231 - accuracy: 0.9924 - val_loss: 0.2634 - val_accuracy: 0.9347\n",
      "Epoch 60/150\n",
      "167/167 [==============================] - 4s 24ms/step - loss: 0.0268 - accuracy: 0.9908 - val_loss: 0.2605 - val_accuracy: 0.9326\n",
      "Epoch 61/150\n",
      "167/167 [==============================] - 4s 24ms/step - loss: 0.0296 - accuracy: 0.9908 - val_loss: 0.2948 - val_accuracy: 0.9263\n",
      "Epoch 62/150\n",
      "167/167 [==============================] - 4s 24ms/step - loss: 0.0224 - accuracy: 0.9921 - val_loss: 0.2689 - val_accuracy: 0.9319\n",
      "Epoch 63/150\n",
      "167/167 [==============================] - 4s 24ms/step - loss: 0.0302 - accuracy: 0.9900 - val_loss: 0.2880 - val_accuracy: 0.9270\n",
      "Epoch 64/150\n",
      "167/167 [==============================] - 4s 24ms/step - loss: 0.0248 - accuracy: 0.9926 - val_loss: 0.2938 - val_accuracy: 0.9256\n",
      "Epoch 65/150\n",
      "167/167 [==============================] - 4s 24ms/step - loss: 0.0264 - accuracy: 0.9912 - val_loss: 0.2193 - val_accuracy: 0.9417\n",
      "Epoch 66/150\n",
      "167/167 [==============================] - 4s 24ms/step - loss: 0.0222 - accuracy: 0.9934 - val_loss: 0.3053 - val_accuracy: 0.9361\n",
      "Epoch 67/150\n",
      "167/167 [==============================] - 4s 24ms/step - loss: 0.0214 - accuracy: 0.9933 - val_loss: 0.2597 - val_accuracy: 0.9403\n",
      "Epoch 68/150\n",
      "167/167 [==============================] - 4s 24ms/step - loss: 0.0260 - accuracy: 0.9913 - val_loss: 0.3074 - val_accuracy: 0.9206\n",
      "Epoch 69/150\n",
      "167/167 [==============================] - 4s 24ms/step - loss: 0.0219 - accuracy: 0.9927 - val_loss: 0.2734 - val_accuracy: 0.9326\n",
      "Epoch 70/150\n",
      "167/167 [==============================] - 4s 24ms/step - loss: 0.0245 - accuracy: 0.9923 - val_loss: 0.2028 - val_accuracy: 0.9424\n",
      "Epoch 71/150\n",
      "167/167 [==============================] - 4s 24ms/step - loss: 0.0245 - accuracy: 0.9927 - val_loss: 0.2327 - val_accuracy: 0.9361\n",
      "Epoch 72/150\n",
      "167/167 [==============================] - 4s 24ms/step - loss: 0.0245 - accuracy: 0.9922 - val_loss: 0.2722 - val_accuracy: 0.9389\n",
      "Epoch 73/150\n",
      "167/167 [==============================] - 4s 24ms/step - loss: 0.0240 - accuracy: 0.9930 - val_loss: 0.2357 - val_accuracy: 0.9424\n",
      "Epoch 74/150\n",
      "167/167 [==============================] - 4s 24ms/step - loss: 0.0147 - accuracy: 0.9938 - val_loss: 0.2781 - val_accuracy: 0.9368\n",
      "Epoch 75/150\n",
      "167/167 [==============================] - 4s 24ms/step - loss: 0.0339 - accuracy: 0.9904 - val_loss: 0.2507 - val_accuracy: 0.9326\n",
      "Epoch 76/150\n",
      "167/167 [==============================] - 4s 24ms/step - loss: 0.0251 - accuracy: 0.9920 - val_loss: 0.2676 - val_accuracy: 0.9389\n",
      "Epoch 77/150\n",
      "167/167 [==============================] - 4s 24ms/step - loss: 0.0368 - accuracy: 0.9890 - val_loss: 0.2481 - val_accuracy: 0.9431\n",
      "Epoch 78/150\n",
      "167/167 [==============================] - 4s 24ms/step - loss: 0.0161 - accuracy: 0.9946 - val_loss: 0.2177 - val_accuracy: 0.9396\n",
      "Epoch 79/150\n",
      "167/167 [==============================] - 4s 24ms/step - loss: 0.0149 - accuracy: 0.9953 - val_loss: 0.2238 - val_accuracy: 0.9403\n",
      "Epoch 80/150\n",
      "167/167 [==============================] - 4s 25ms/step - loss: 0.0218 - accuracy: 0.9933 - val_loss: 0.2296 - val_accuracy: 0.9368\n",
      "Epoch 81/150\n",
      "167/167 [==============================] - 4s 24ms/step - loss: 0.0081 - accuracy: 0.9974 - val_loss: 0.2102 - val_accuracy: 0.9508\n",
      "Epoch 82/150\n",
      "167/167 [==============================] - 4s 24ms/step - loss: 0.0355 - accuracy: 0.9897 - val_loss: 0.2776 - val_accuracy: 0.9305\n",
      "Epoch 83/150\n",
      "167/167 [==============================] - 4s 24ms/step - loss: 0.0329 - accuracy: 0.9899 - val_loss: 0.2292 - val_accuracy: 0.9410\n",
      "Epoch 84/150\n",
      "167/167 [==============================] - 4s 24ms/step - loss: 0.0168 - accuracy: 0.9946 - val_loss: 0.2336 - val_accuracy: 0.9410\n",
      "Epoch 85/150\n",
      "167/167 [==============================] - 4s 24ms/step - loss: 0.0309 - accuracy: 0.9904 - val_loss: 0.2045 - val_accuracy: 0.9431\n",
      "Epoch 86/150\n",
      "167/167 [==============================] - 4s 24ms/step - loss: 0.0186 - accuracy: 0.9935 - val_loss: 0.2582 - val_accuracy: 0.9347\n",
      "Epoch 87/150\n",
      "167/167 [==============================] - 4s 24ms/step - loss: 0.0201 - accuracy: 0.9942 - val_loss: 0.2064 - val_accuracy: 0.9466\n",
      "Epoch 88/150\n",
      "167/167 [==============================] - 4s 24ms/step - loss: 0.0135 - accuracy: 0.9961 - val_loss: 0.2967 - val_accuracy: 0.9354\n",
      "Epoch 89/150\n",
      "167/167 [==============================] - 4s 24ms/step - loss: 0.0104 - accuracy: 0.9963 - val_loss: 0.2675 - val_accuracy: 0.9445\n",
      "Epoch 90/150\n",
      "167/167 [==============================] - 4s 24ms/step - loss: 0.0125 - accuracy: 0.9956 - val_loss: 0.2496 - val_accuracy: 0.9375\n",
      "Epoch 91/150\n",
      "167/167 [==============================] - 4s 24ms/step - loss: 0.0222 - accuracy: 0.9938 - val_loss: 0.3114 - val_accuracy: 0.9256\n",
      "Epoch 92/150\n",
      "167/167 [==============================] - 4s 24ms/step - loss: 0.0233 - accuracy: 0.9925 - val_loss: 0.3215 - val_accuracy: 0.9326\n",
      "Epoch 93/150\n",
      "167/167 [==============================] - 4s 24ms/step - loss: 0.0282 - accuracy: 0.9918 - val_loss: 0.2430 - val_accuracy: 0.9340\n",
      "Epoch 94/150\n",
      "167/167 [==============================] - 4s 24ms/step - loss: 0.0215 - accuracy: 0.9931 - val_loss: 0.2374 - val_accuracy: 0.9410\n",
      "Epoch 95/150\n",
      "167/167 [==============================] - 4s 24ms/step - loss: 0.0103 - accuracy: 0.9971 - val_loss: 0.2282 - val_accuracy: 0.9431\n",
      "Epoch 96/150\n",
      "167/167 [==============================] - 4s 24ms/step - loss: 0.0075 - accuracy: 0.9976 - val_loss: 0.2612 - val_accuracy: 0.9403\n",
      "Epoch 97/150\n",
      "167/167 [==============================] - 4s 24ms/step - loss: 0.0256 - accuracy: 0.9919 - val_loss: 0.2764 - val_accuracy: 0.9354\n",
      "Epoch 98/150\n",
      "167/167 [==============================] - 4s 24ms/step - loss: 0.0146 - accuracy: 0.9953 - val_loss: 0.3354 - val_accuracy: 0.9277\n",
      "Epoch 99/150\n",
      "167/167 [==============================] - 4s 24ms/step - loss: 0.0179 - accuracy: 0.9945 - val_loss: 0.3071 - val_accuracy: 0.9221\n",
      "Epoch 100/150\n",
      "167/167 [==============================] - 4s 24ms/step - loss: 0.0257 - accuracy: 0.9926 - val_loss: 0.2345 - val_accuracy: 0.9466\n",
      "Epoch 101/150\n",
      "167/167 [==============================] - 4s 24ms/step - loss: 0.0193 - accuracy: 0.9933 - val_loss: 0.2818 - val_accuracy: 0.9382\n",
      "Epoch 102/150\n",
      "167/167 [==============================] - 4s 24ms/step - loss: 0.0166 - accuracy: 0.9937 - val_loss: 0.2737 - val_accuracy: 0.9333\n",
      "Epoch 103/150\n",
      "167/167 [==============================] - 4s 24ms/step - loss: 0.0184 - accuracy: 0.9938 - val_loss: 0.2796 - val_accuracy: 0.9403\n",
      "Epoch 104/150\n",
      "167/167 [==============================] - 4s 24ms/step - loss: 0.0244 - accuracy: 0.9931 - val_loss: 0.2681 - val_accuracy: 0.9326\n",
      "Epoch 105/150\n",
      "167/167 [==============================] - 4s 24ms/step - loss: 0.0419 - accuracy: 0.9879 - val_loss: 0.2705 - val_accuracy: 0.9417\n",
      "Epoch 106/150\n",
      "167/167 [==============================] - 4s 24ms/step - loss: 0.0145 - accuracy: 0.9947 - val_loss: 0.2760 - val_accuracy: 0.9459\n",
      "Epoch 107/150\n",
      "167/167 [==============================] - 4s 24ms/step - loss: 0.0137 - accuracy: 0.9952 - val_loss: 0.2595 - val_accuracy: 0.9424\n",
      "Epoch 108/150\n",
      "167/167 [==============================] - 4s 24ms/step - loss: 0.0130 - accuracy: 0.9963 - val_loss: 0.3211 - val_accuracy: 0.9305\n",
      "Epoch 109/150\n",
      "167/167 [==============================] - 4s 24ms/step - loss: 0.0118 - accuracy: 0.9969 - val_loss: 0.2502 - val_accuracy: 0.9473\n",
      "Epoch 110/150\n",
      "167/167 [==============================] - 4s 24ms/step - loss: 0.0089 - accuracy: 0.9978 - val_loss: 0.2550 - val_accuracy: 0.9459\n",
      "Epoch 111/150\n",
      "167/167 [==============================] - 4s 24ms/step - loss: 0.0133 - accuracy: 0.9959 - val_loss: 0.2939 - val_accuracy: 0.9445\n",
      "Epoch 112/150\n",
      "167/167 [==============================] - 4s 24ms/step - loss: 0.0157 - accuracy: 0.9954 - val_loss: 0.3420 - val_accuracy: 0.9354\n",
      "Epoch 113/150\n"
     ]
    },
    {
     "name": "stdout",
     "output_type": "stream",
     "text": [
      "167/167 [==============================] - 4s 24ms/step - loss: 0.0282 - accuracy: 0.9919 - val_loss: 0.2486 - val_accuracy: 0.9340\n",
      "Epoch 114/150\n",
      "167/167 [==============================] - 4s 24ms/step - loss: 0.0105 - accuracy: 0.9968 - val_loss: 0.2393 - val_accuracy: 0.9424\n",
      "Epoch 115/150\n",
      "167/167 [==============================] - 4s 24ms/step - loss: 0.0076 - accuracy: 0.9977 - val_loss: 0.2864 - val_accuracy: 0.9403\n",
      "Epoch 116/150\n",
      "167/167 [==============================] - 4s 24ms/step - loss: 0.0111 - accuracy: 0.9970 - val_loss: 0.3187 - val_accuracy: 0.9340\n",
      "Epoch 117/150\n",
      "167/167 [==============================] - 4s 24ms/step - loss: 0.0288 - accuracy: 0.9927 - val_loss: 0.3269 - val_accuracy: 0.9242\n",
      "Epoch 118/150\n",
      "167/167 [==============================] - 4s 24ms/step - loss: 0.0264 - accuracy: 0.9926 - val_loss: 0.2613 - val_accuracy: 0.9291\n",
      "Epoch 119/150\n",
      "167/167 [==============================] - 4s 24ms/step - loss: 0.0189 - accuracy: 0.9948 - val_loss: 0.2279 - val_accuracy: 0.9382\n"
     ]
    },
    {
     "data": {
      "text/plain": [
       "<keras.callbacks.History at 0x21a5cdb0130>"
      ]
     },
     "execution_count": 17,
     "metadata": {},
     "output_type": "execute_result"
    }
   ],
   "source": [
    "from tensorflow.keras.callbacks import EarlyStopping\n",
    "early_stop = EarlyStopping(monitor = 'loss', patience = 23 )\n",
    "\n",
    "m1.fit(X_train,y_train,epochs=150,batch_size=64, validation_data=(X_val,y_val), callbacks = [early_stop], verbose=1)"
   ]
  },
  {
   "cell_type": "code",
   "execution_count": 18,
   "metadata": {
    "id": "d6OA7oX-yByT"
   },
   "outputs": [],
   "source": [
    "# Get training history\n",
    "metrics = pd.DataFrame(m1.history.history)"
   ]
  },
  {
   "cell_type": "code",
   "execution_count": 19,
   "metadata": {},
   "outputs": [],
   "source": [
    "import os\n",
    "exp_num = []\n",
    "if not os.path.exists(\"./experiments\"):\n",
    "    os.mkdir(\"./experiments\")\n",
    "folders = os.listdir(\"./experiments\")\n",
    "for folder in folders:\n",
    "    exp_num.append(int(folder.split(\"#\")[1]))\n",
    "\n",
    "\n",
    "if len(exp_num) == 0:\n",
    "    exp_path = r\"./experiments/exp#1\"\n",
    "else:\n",
    "    exp_path = r\"./experiments/exp#\"+str(max(exp_num)+1)\n",
    "\n",
    "\n",
    "\n",
    "\n",
    "os.mkdir(exp_path)\n",
    "os.mkdir(os.path.join(exp_path, \"results\"))\n",
    "os.mkdir(os.path.join(exp_path, \"weights\"))\n",
    "\n",
    "results = os.path.join(exp_path, \"results\")\n",
    "weights = os.path.join(exp_path, \"weights\")"
   ]
  },
  {
   "cell_type": "code",
   "execution_count": 20,
   "metadata": {},
   "outputs": [
    {
     "name": "stdout",
     "output_type": "stream",
     "text": [
      "./experiments/exp#1\\results\n"
     ]
    }
   ],
   "source": [
    "print(results)"
   ]
  },
  {
   "cell_type": "code",
   "execution_count": 21,
   "metadata": {
    "id": "vs5CCwj993FX"
   },
   "outputs": [
    {
     "name": "stdout",
     "output_type": "stream",
     "text": [
      "67/67 [==============================] - 1s 7ms/step - loss: 0.3912 - accuracy: 0.9298\n"
     ]
    }
   ],
   "source": [
    "# Save The Trained model along with it training history   \n",
    "Accuracy = m1.evaluate(X_test, y_test)[-1]\n",
    "name = str(round(Accuracy, 4))\n",
    "\n",
    "metrics.to_pickle(os.path.join(results, name+'.pkl'))\n",
    "m1.save(os.path.join(weights, name + '.h5'))"
   ]
  },
  {
   "cell_type": "code",
   "execution_count": 22,
   "metadata": {
    "id": "5F7i-oCwytup",
    "scrolled": true
   },
   "outputs": [
    {
     "data": {
      "image/png": "[encoded data removed]",
      "text/plain": [
       "<Figure size 720x504 with 1 Axes>"
      ]
     },
     "metadata": {
      "needs_background": "light"
     },
     "output_type": "display_data"
    },
    {
     "data": {
      "image/png": "[encoded data removed]",
      "text/plain": [
       "<Figure size 720x504 with 1 Axes>"
      ]
     },
     "metadata": {
      "needs_background": "light"
     },
     "output_type": "display_data"
    }
   ],
   "source": [
    "## Dispaly the plot of \n",
    "rows = 2\n",
    "columns = 1\n",
    "  \n",
    "# Display Train loss vs Validation loss at each Epoch\n",
    "fig = plt.figure(figsize=(10, 7))\n",
    "fig.add_subplot(rows, columns, 1)\n",
    "plt.plot(metrics['loss'])\n",
    "plt.plot(metrics['val_loss'])\n",
    "plt.title('Model Loss')\n",
    "plt.ylabel('loss')\n",
    "plt.xlabel('epoch')\n",
    "plt.legend(['train', 'val'], loc='upper left')\n",
    "plt.savefig(os.path.join(results, 'loss_epoch.png'))\n",
    "plt.show()\n",
    "\n",
    "  \n",
    "# Display Train loss vs Validation loss at each Epoch\n",
    "fig = plt.figure(figsize=(10, 7))\n",
    "fig.add_subplot(rows, columns, 2)\n",
    "plt.plot(metrics['accuracy'])\n",
    "plt.plot(metrics['val_accuracy'])\n",
    "plt.title('Model Accuracy')\n",
    "plt.ylabel('accuracy')\n",
    "plt.xlabel('epoch')\n",
    "plt.legend(['train', 'val'], loc='upper left')\n",
    "plt.savefig(os.path.join(results, 'acc_epoch.png'))\n",
    "plt.show()\n",
    "\n"
   ]
  },
  {
   "cell_type": "code",
   "execution_count": 23,
   "metadata": {
    "id": "HQOKaA8zfv4K"
   },
   "outputs": [],
   "source": [
    "## Get the \n",
    "predict_x = m1.predict(X_test) \n",
    "predictions = np.argmax(predict_x,axis=1) "
   ]
  },
  {
   "cell_type": "code",
   "execution_count": 24,
   "metadata": {
    "id": "xy9_ZzsYkByi"
   },
   "outputs": [],
   "source": [
    "# Decode the Model's predections  (from [0,1,0,2..] to ['Glioma','Meningioma'...]) of the Test set using the the dictionary 'decode_dict' \n",
    "predictions = np.vectorize(decode_dict.get)(predictions)"
   ]
  },
  {
   "cell_type": "code",
   "execution_count": 25,
   "metadata": {
    "id": "IVYX1MCzjx00"
   },
   "outputs": [
    {
     "name": "stdout",
     "output_type": "stream",
     "text": [
      "              precision    recall  f1-score   support\n",
      "\n",
      "   Glioma II       0.87      0.86      0.86       428\n",
      "  Glioma III       0.89      0.92      0.90       356\n",
      "   Glioma VI       0.89      0.87      0.88       420\n",
      "  Meningioma       0.99      1.00      0.99       456\n",
      "   Pituitary       1.00      0.99      0.99       476\n",
      "\n",
      "    accuracy                           0.93      2136\n",
      "   macro avg       0.93      0.93      0.93      2136\n",
      "weighted avg       0.93      0.93      0.93      2136\n",
      "\n"
     ]
    }
   ],
   "source": [
    "print(classification_report(y_test_eval, predictions))"
   ]
  },
  {
   "cell_type": "code",
   "execution_count": 26,
   "metadata": {
    "id": "HOVPJjy0udhD"
   },
   "outputs": [
    {
     "data": {
      "image/png": "[encoded data removed]",
      "text/plain": [
       "<Figure size 720x504 with 2 Axes>"
      ]
     },
     "metadata": {
      "needs_background": "light"
     },
     "output_type": "display_data"
    }
   ],
   "source": [
    "labels = sorted([\"Glioma II\", \"Glioma III\", \"Glioma VI\", \"Meningioma\", \"Pituitary\"])\n",
    "\n",
    "cm = pd.DataFrame(confusion_matrix(y_test_eval, predictions), index=labels, columns=labels)\n",
    "plt.figure(figsize = (10,7))\n",
    "plt.title('Confusion matrix')\n",
    "sns.heatmap(cm, annot=True, cmap=\"PuBu\",fmt = 'd')\n",
    "plt.ylabel('True labels')\n",
    "plt.xlabel('Predicted labels')\n",
    "plt.savefig(os.path.join(results, 'confusion_matrix.png'))\n",
    "plt.show()"
   ]
  },
  {
   "cell_type": "code",
   "execution_count": null,
   "metadata": {
    "id": "7_fru9v4mHup"
   },
   "outputs": [],
   "source": []
  },
  {
   "cell_type": "code",
   "execution_count": null,
   "metadata": {},
   "outputs": [],
   "source": []
  },
  {
   "cell_type": "code",
   "execution_count": null,
   "metadata": {},
   "outputs": [],
   "source": []
  }
 ],
 "metadata": {
  "accelerator": "GPU",
  "colab": {
   "collapsed_sections": [],
   "name": "5_labels_model_v1.ipynb",
   "provenance": []
  },
  "kernelspec": {
   "display_name": "Python 3 (ipykernel)",
   "language": "python",
   "name": "python3"
  },
  "language_info": {
   "codemirror_mode": {
    "name": "ipython",
    "version": 3
   },
   "file_extension": ".py",
   "mimetype": "text/x-python",
   "name": "python",
   "nbconvert_exporter": "python",
   "pygments_lexer": "ipython3",
   "version": "3.9.7"
  }
 },
 "nbformat": 4,
 "nbformat_minor": 1
}
