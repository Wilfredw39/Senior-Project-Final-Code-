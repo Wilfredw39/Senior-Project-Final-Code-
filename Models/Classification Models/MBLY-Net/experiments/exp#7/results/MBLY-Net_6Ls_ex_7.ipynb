{
 "cells": [
  {
   "cell_type": "markdown",
   "metadata": {
    "id": "vt51_KACTdGf"
   },
   "source": [
    "## 0. Setting up the Environment\n"
   ]
  },
  {
   "cell_type": "code",
   "execution_count": 1,
   "metadata": {
    "colab": {
     "base_uri": "https://localhost:8080/"
    },
    "id": "D4Z6Zv3PSOcg",
    "outputId": "b87040f7-50f1-4633-bcd9-415194d37d2e"
   },
   "outputs": [],
   "source": [
    "## impoort labaries \n",
    "import os \n",
    "import cv2\n",
    "import mat73\n",
    "import time\n",
    "import keras\n",
    "import pandas as pd\n",
    "import numpy as np \n",
    "import seaborn as sns\n",
    "import skimage\n",
    "import tensorflow as tf\n",
    "import matplotlib.pyplot as plt\n",
    "from PIL import Image, ImageOps \n",
    "from skimage.transform import resize\n",
    "from keras.models import Sequential\n",
    "from tensorflow.keras import optimizers\n",
    "from tqdm.notebook import tqdm_notebook as tqdm\n",
    "from sklearn.metrics import classification_report, confusion_matrix\n",
    "from keras.layers import Conv2D, MaxPooling2D, Flatten, Dense, Dropout, BatchNormalization,  Convolution2D"
   ]
  },
  {
   "cell_type": "markdown",
   "metadata": {
    "id": "sYWmkuxOWtm4"
   },
   "source": [
    "## 1. Data Importing "
   ]
  },
  {
   "cell_type": "code",
   "execution_count": 2,
   "metadata": {},
   "outputs": [],
   "source": [
    "SIZE_X = 128\n",
    "SIZE_Y = 128\n",
    "SIZE_Z = 1\n",
    "CLASS_NUM = 6\n",
    "\n",
    "aug_train_DF = pd.read_pickle(r\"../../../Datasets/Dataset_B_2/aug_train_DF_{}.pkl\".format(SIZE_X))\n",
    "aug_val_DF = pd.read_pickle(r\"../../../Datasets/Dataset_B_2/aug_val_DF_{}.pkl\".format(SIZE_X))\n",
    "aug_test_DF = pd.read_pickle(r\"../../../Datasets/Dataset_B_2/aug_test_DF_{}.pkl\".format(SIZE_X))"
   ]
  },
  {
   "cell_type": "code",
   "execution_count": 3,
   "metadata": {
    "colab": {
     "background_save": true
    },
    "id": "kaaNJb4nR5Z5",
    "outputId": "229fd2a5-846a-4168-abdf-2db9f91c282d"
   },
   "outputs": [
    {
     "data": {
      "text/html": [
       "<div>\n",
       "<style scoped>\n",
       "    .dataframe tbody tr th:only-of-type {\n",
       "        vertical-align: middle;\n",
       "    }\n",
       "\n",
       "    .dataframe tbody tr th {\n",
       "        vertical-align: top;\n",
       "    }\n",
       "\n",
       "    .dataframe thead th {\n",
       "        text-align: right;\n",
       "    }\n",
       "</style>\n",
       "<table border=\"1\" class=\"dataframe\">\n",
       "  <thead>\n",
       "    <tr style=\"text-align: right;\">\n",
       "      <th></th>\n",
       "      <th>PID</th>\n",
       "      <th>Label</th>\n",
       "      <th>Image</th>\n",
       "      <th>File</th>\n",
       "    </tr>\n",
       "  </thead>\n",
       "  <tbody>\n",
       "    <tr>\n",
       "      <th>3101</th>\n",
       "      <td>Heatly_dataset_#998</td>\n",
       "      <td>No tumor</td>\n",
       "      <td>[[0.0, 0.0, 0.0, 0.0, 0.0, 0.0, 0.0, 0.0, 0.0,...</td>\n",
       "      <td>no331.jpg</td>\n",
       "    </tr>\n",
       "    <tr>\n",
       "      <th>12013</th>\n",
       "      <td>Heatly_dataset_#998</td>\n",
       "      <td>No tumor</td>\n",
       "      <td>[[0.0, 0.0, 0.0, 0.0, 0.0, 0.0, 0.0, 0.0, 0.0,...</td>\n",
       "      <td>no1263.jpg</td>\n",
       "    </tr>\n",
       "    <tr>\n",
       "      <th>1400</th>\n",
       "      <td>HF1397</td>\n",
       "      <td>Glioma VI</td>\n",
       "      <td>[[0.0, 0.0, 0.0, 0.0, 0.0, 0.0, 0.0, 0.0, 0.0,...</td>\n",
       "      <td>D:\\Datasets\\manifest-tXudPFfp43472957274060920...</td>\n",
       "    </tr>\n",
       "    <tr>\n",
       "      <th>15074</th>\n",
       "      <td>97607</td>\n",
       "      <td>Meningioma</td>\n",
       "      <td>[[0.0, 0.0, 0.0, 0.0, 0.0, 0.0, 0.0, 0.0, 0.0,...</td>\n",
       "      <td>665.mat</td>\n",
       "    </tr>\n",
       "    <tr>\n",
       "      <th>4063</th>\n",
       "      <td>107505</td>\n",
       "      <td>Pituitary</td>\n",
       "      <td>[[0.0, 0.0009803921568628277, 0.00196078431372...</td>\n",
       "      <td>1190.mat</td>\n",
       "    </tr>\n",
       "  </tbody>\n",
       "</table>\n",
       "</div>"
      ],
      "text/plain": [
       "                       PID       Label  \\\n",
       "3101   Heatly_dataset_#998    No tumor   \n",
       "12013  Heatly_dataset_#998    No tumor   \n",
       "1400                HF1397   Glioma VI   \n",
       "15074                97607  Meningioma   \n",
       "4063                107505   Pituitary   \n",
       "\n",
       "                                                   Image  \\\n",
       "3101   [[0.0, 0.0, 0.0, 0.0, 0.0, 0.0, 0.0, 0.0, 0.0,...   \n",
       "12013  [[0.0, 0.0, 0.0, 0.0, 0.0, 0.0, 0.0, 0.0, 0.0,...   \n",
       "1400   [[0.0, 0.0, 0.0, 0.0, 0.0, 0.0, 0.0, 0.0, 0.0,...   \n",
       "15074  [[0.0, 0.0, 0.0, 0.0, 0.0, 0.0, 0.0, 0.0, 0.0,...   \n",
       "4063   [[0.0, 0.0009803921568628277, 0.00196078431372...   \n",
       "\n",
       "                                                    File  \n",
       "3101                                           no331.jpg  \n",
       "12013                                         no1263.jpg  \n",
       "1400   D:\\Datasets\\manifest-tXudPFfp43472957274060920...  \n",
       "15074                                            665.mat  \n",
       "4063                                            1190.mat  "
      ]
     },
     "execution_count": 3,
     "metadata": {},
     "output_type": "execute_result"
    }
   ],
   "source": [
    "## Combain the df with the Pitutary & Meningioma types with the dataframe of the Glioma grades (I, II,, IV).\n",
    "pd.concat([aug_train_DF, aug_val_DF, aug_test_DF], axis=0, ignore_index = True).sample(5)"
   ]
  },
  {
   "cell_type": "code",
   "execution_count": 4,
   "metadata": {},
   "outputs": [
    {
     "name": "stdout",
     "output_type": "stream",
     "text": [
      "<class 'pandas.core.frame.DataFrame'>\n",
      "RangeIndex: 18612 entries, 0 to 18611\n",
      "Data columns (total 4 columns):\n",
      " #   Column  Non-Null Count  Dtype \n",
      "---  ------  --------------  ----- \n",
      " 0   PID     18612 non-null  object\n",
      " 1   Label   18612 non-null  object\n",
      " 2   Image   18612 non-null  object\n",
      " 3   File    18612 non-null  object\n",
      "dtypes: object(4)\n",
      "memory usage: 581.8+ KB\n"
     ]
    }
   ],
   "source": [
    "pd.concat([aug_train_DF, aug_val_DF, aug_test_DF], axis=0, ignore_index = True).info(5)"
   ]
  },
  {
   "cell_type": "code",
   "execution_count": 5,
   "metadata": {
    "colab": {
     "background_save": true
    },
    "id": "uJEttBBOU9IN",
    "outputId": "d176e92f-d35f-4f92-a264-ead1e87244e6"
   },
   "outputs": [
    {
     "name": "stderr",
     "output_type": "stream",
     "text": [
      "C:\\Users\\Ma7moud\\anaconda3\\envs\\T-UNet\\lib\\site-packages\\seaborn\\_decorators.py:36: FutureWarning: Pass the following variable as a keyword arg: x. From version 0.12, the only valid positional argument will be `data`, and passing other arguments without an explicit keyword will result in an error or misinterpretation.\n",
      "  warnings.warn(\n"
     ]
    },
    {
     "data": {
      "image/png": "[encoded data removed]",
      "text/plain": [
       "<Figure size 432x288 with 1 Axes>"
      ]
     },
     "metadata": {
      "needs_background": "light"
     },
     "output_type": "display_data"
    }
   ],
   "source": [
    "sns.countplot(pd.concat([aug_train_DF, aug_val_DF, aug_test_DF], axis=0, ignore_index = True).Label)\n",
    "plt.show()"
   ]
  },
  {
   "cell_type": "code",
   "execution_count": 6,
   "metadata": {
    "colab": {
     "background_save": true
    },
    "id": "AWLSJpw6WVVo",
    "outputId": "348d3fee-c3a5-442d-96af-5711dec23128"
   },
   "outputs": [
    {
     "data": {
      "image/png": "[encoded data removed]",
      "text/plain": [
       "<Figure size 432x288 with 1 Axes>"
      ]
     },
     "metadata": {},
     "output_type": "display_data"
    }
   ],
   "source": [
    "data = aug_train_DF.groupby(\"Label\")[\"Label\"].count()\n",
    "data.plot.pie(autopct=\"%.1f%%\");"
   ]
  },
  {
   "cell_type": "code",
   "execution_count": 7,
   "metadata": {},
   "outputs": [
    {
     "data": {
      "image/png": "[encoded data removed]",
      "text/plain": [
       "<Figure size 432x288 with 1 Axes>"
      ]
     },
     "metadata": {},
     "output_type": "display_data"
    }
   ],
   "source": [
    "data = aug_val_DF.groupby(\"Label\")[\"Label\"].count()\n",
    "data.plot.pie(autopct=\"%.1f%%\");"
   ]
  },
  {
   "cell_type": "code",
   "execution_count": 8,
   "metadata": {},
   "outputs": [
    {
     "data": {
      "image/png": "[encoded data removed]",
      "text/plain": [
       "<Figure size 432x288 with 1 Axes>"
      ]
     },
     "metadata": {},
     "output_type": "display_data"
    }
   ],
   "source": [
    "data = aug_test_DF.groupby(\"Label\")[\"Label\"].count()\n",
    "data.plot.pie(autopct=\"%.1f%%\");"
   ]
  },
  {
   "cell_type": "markdown",
   "metadata": {
    "id": "Zf3vh4d7w3ZP"
   },
   "source": [
    "## 2. Data-Preprocessing "
   ]
  },
  {
   "cell_type": "markdown",
   "metadata": {
    "id": "Kd502KoZONei"
   },
   "source": [
    "### 2.1 Image Resizing \n"
   ]
  },
  {
   "cell_type": "markdown",
   "metadata": {
    "id": "oDIYJ9-3OWho"
   },
   "source": [
    "### 2.2 Data Augmentation"
   ]
  },
  {
   "cell_type": "markdown",
   "metadata": {},
   "source": [
    "### 2.3 Grayscale to RGB"
   ]
  },
  {
   "cell_type": "code",
   "execution_count": 9,
   "metadata": {
    "colab": {
     "background_save": true
    },
    "id": "hzz5yapeG-M7",
    "outputId": "0d2f1eb1-953a-4141-8ab9-4cb02b8519e8"
   },
   "outputs": [],
   "source": [
    "def normalize(img):\n",
    "    plt.imsave('DR.png', img, cmap='gray')\n",
    "    return cv2.imread('DR.png')[:, :, SIZE_Z]"
   ]
  },
  {
   "cell_type": "code",
   "execution_count": 10,
   "metadata": {},
   "outputs": [],
   "source": [
    "aug_train_DF[\"Image\"] = aug_train_DF[\"Image\"].apply(normalize)\n",
    "aug_val_DF[\"Image\"] = aug_val_DF[\"Image\"].apply(normalize)\n",
    "aug_test_DF[\"Image\"] = aug_test_DF[\"Image\"].apply(normalize)"
   ]
  },
  {
   "cell_type": "markdown",
   "metadata": {
    "id": "yg8moTnTaNeT"
   },
   "source": [
    "### 2.4 Splitting Data into Train, Test, and Validation Sets"
   ]
  },
  {
   "cell_type": "code",
   "execution_count": 11,
   "metadata": {},
   "outputs": [],
   "source": [
    "y_train = aug_train_DF[\"Label\"]\n",
    "X_train = aug_train_DF['Image'].tolist()\n",
    "X_train = np.array(X_train).reshape(-1, SIZE_X, SIZE_Y, SIZE_Z)\n",
    "\n",
    "\n",
    "y_val = aug_val_DF[\"Label\"]\n",
    "X_val = aug_val_DF['Image'].tolist()\n",
    "X_val = np.array(X_val).reshape(-1, SIZE_X, SIZE_Y, SIZE_Z)\n",
    "\n",
    "y_test = aug_test_DF[\"Label\"]\n",
    "X_test = aug_test_DF['Image'].tolist()\n",
    "X_test = np.array(X_test).reshape(-1, SIZE_X, SIZE_Y, SIZE_Z)\n"
   ]
  },
  {
   "cell_type": "code",
   "execution_count": 12,
   "metadata": {},
   "outputs": [
    {
     "name": "stdout",
     "output_type": "stream",
     "text": [
      "X_train shape: (13960, 128, 128, 1) | y_train shape: (13960,)\n",
      "X_val shape  : (1860, 128, 128, 1)  | y_test shape :  (1860,)\n",
      "X_test shape : (2792, 128, 128, 1)  | y_test shape :  (2792,)\n"
     ]
    }
   ],
   "source": [
    "print(\"X_train shape:\", X_train.shape,\"| y_train shape:\", y_train.shape)\n",
    "print(\"X_val shape  :\",X_val.shape,\" | y_test shape : \", y_val.shape)\n",
    "print(\"X_test shape :\",X_test.shape,\" | y_test shape : \", y_test.shape)"
   ]
  },
  {
   "cell_type": "markdown",
   "metadata": {},
   "source": [
    "### 2.5 One-Hot Encode the labels "
   ]
  },
  {
   "cell_type": "code",
   "execution_count": 13,
   "metadata": {
    "colab": {
     "background_save": true
    },
    "id": "uR_Cv0khfpyS",
    "outputId": "0fa96dd1-5899-45b2-9d73-5fcbc132a797"
   },
   "outputs": [],
   "source": [
    "# saving a copy of the testing labels before one hot encoding\n",
    "y_test_eval = y_test\n",
    "# one hot endcoding the labels \n",
    "y_train = pd.get_dummies(y_train)\n",
    "y_test  = pd.get_dummies(y_test)\n",
    "y_val   = pd.get_dummies(y_val)"
   ]
  },
  {
   "cell_type": "code",
   "execution_count": 14,
   "metadata": {},
   "outputs": [
    {
     "name": "stdout",
     "output_type": "stream",
     "text": [
      "X_train shape: (13960, 128, 128, 1) | y_train shape: (13960, 6)\n",
      "X_test shape : (2792, 128, 128, 1)  | y_test shape:  (2792, 6)\n",
      "X_val shape  : (1860, 128, 128, 1)  | y_val shape :  (1860, 6)\n",
      "\n",
      "Total number: 18612\n"
     ]
    }
   ],
   "source": [
    "print(\"X_train shape:\", X_train.shape,\"| y_train shape:\", y_train.shape)\n",
    "print(\"X_test shape :\",X_test.shape,\" | y_test shape: \", y_test.shape)\n",
    "print(\"X_val shape  :\",X_val.shape,\" | y_val shape : \", y_val.shape)\n",
    "print(\"\\nTotal number: {}\".format(len(aug_train_DF)+len(aug_val_DF)+len(aug_test_DF)))"
   ]
  },
  {
   "cell_type": "code",
   "execution_count": 15,
   "metadata": {
    "colab": {
     "background_save": true
    },
    "id": "3DctvR_fVPlF",
    "outputId": "bdf93bfa-b00d-49a3-99c8-f2bde2731658"
   },
   "outputs": [
    {
     "data": {
      "text/html": [
       "<div>\n",
       "<style scoped>\n",
       "    .dataframe tbody tr th:only-of-type {\n",
       "        vertical-align: middle;\n",
       "    }\n",
       "\n",
       "    .dataframe tbody tr th {\n",
       "        vertical-align: top;\n",
       "    }\n",
       "\n",
       "    .dataframe thead th {\n",
       "        text-align: right;\n",
       "    }\n",
       "</style>\n",
       "<table border=\"1\" class=\"dataframe\">\n",
       "  <thead>\n",
       "    <tr style=\"text-align: right;\">\n",
       "      <th></th>\n",
       "      <th>Glioma II</th>\n",
       "      <th>Glioma III</th>\n",
       "      <th>Glioma VI</th>\n",
       "      <th>Meningioma</th>\n",
       "      <th>No tumor</th>\n",
       "      <th>Pituitary</th>\n",
       "    </tr>\n",
       "  </thead>\n",
       "  <tbody>\n",
       "    <tr>\n",
       "      <th>0</th>\n",
       "      <td>0</td>\n",
       "      <td>0</td>\n",
       "      <td>0</td>\n",
       "      <td>0</td>\n",
       "      <td>1</td>\n",
       "      <td>0</td>\n",
       "    </tr>\n",
       "    <tr>\n",
       "      <th>1</th>\n",
       "      <td>0</td>\n",
       "      <td>0</td>\n",
       "      <td>0</td>\n",
       "      <td>0</td>\n",
       "      <td>1</td>\n",
       "      <td>0</td>\n",
       "    </tr>\n",
       "    <tr>\n",
       "      <th>2</th>\n",
       "      <td>0</td>\n",
       "      <td>0</td>\n",
       "      <td>1</td>\n",
       "      <td>0</td>\n",
       "      <td>0</td>\n",
       "      <td>0</td>\n",
       "    </tr>\n",
       "    <tr>\n",
       "      <th>3</th>\n",
       "      <td>0</td>\n",
       "      <td>0</td>\n",
       "      <td>0</td>\n",
       "      <td>0</td>\n",
       "      <td>0</td>\n",
       "      <td>1</td>\n",
       "    </tr>\n",
       "    <tr>\n",
       "      <th>4</th>\n",
       "      <td>0</td>\n",
       "      <td>0</td>\n",
       "      <td>1</td>\n",
       "      <td>0</td>\n",
       "      <td>0</td>\n",
       "      <td>0</td>\n",
       "    </tr>\n",
       "    <tr>\n",
       "      <th>...</th>\n",
       "      <td>...</td>\n",
       "      <td>...</td>\n",
       "      <td>...</td>\n",
       "      <td>...</td>\n",
       "      <td>...</td>\n",
       "      <td>...</td>\n",
       "    </tr>\n",
       "    <tr>\n",
       "      <th>2787</th>\n",
       "      <td>0</td>\n",
       "      <td>0</td>\n",
       "      <td>0</td>\n",
       "      <td>0</td>\n",
       "      <td>0</td>\n",
       "      <td>1</td>\n",
       "    </tr>\n",
       "    <tr>\n",
       "      <th>2788</th>\n",
       "      <td>0</td>\n",
       "      <td>0</td>\n",
       "      <td>0</td>\n",
       "      <td>0</td>\n",
       "      <td>0</td>\n",
       "      <td>1</td>\n",
       "    </tr>\n",
       "    <tr>\n",
       "      <th>2789</th>\n",
       "      <td>0</td>\n",
       "      <td>0</td>\n",
       "      <td>0</td>\n",
       "      <td>0</td>\n",
       "      <td>1</td>\n",
       "      <td>0</td>\n",
       "    </tr>\n",
       "    <tr>\n",
       "      <th>2790</th>\n",
       "      <td>0</td>\n",
       "      <td>1</td>\n",
       "      <td>0</td>\n",
       "      <td>0</td>\n",
       "      <td>0</td>\n",
       "      <td>0</td>\n",
       "    </tr>\n",
       "    <tr>\n",
       "      <th>2791</th>\n",
       "      <td>1</td>\n",
       "      <td>0</td>\n",
       "      <td>0</td>\n",
       "      <td>0</td>\n",
       "      <td>0</td>\n",
       "      <td>0</td>\n",
       "    </tr>\n",
       "  </tbody>\n",
       "</table>\n",
       "<p>2792 rows × 6 columns</p>\n",
       "</div>"
      ],
      "text/plain": [
       "      Glioma II  Glioma III  Glioma VI  Meningioma  No tumor  Pituitary\n",
       "0             0           0          0           0         1          0\n",
       "1             0           0          0           0         1          0\n",
       "2             0           0          1           0         0          0\n",
       "3             0           0          0           0         0          1\n",
       "4             0           0          1           0         0          0\n",
       "...         ...         ...        ...         ...       ...        ...\n",
       "2787          0           0          0           0         0          1\n",
       "2788          0           0          0           0         0          1\n",
       "2789          0           0          0           0         1          0\n",
       "2790          0           1          0           0         0          0\n",
       "2791          1           0          0           0         0          0\n",
       "\n",
       "[2792 rows x 6 columns]"
      ]
     },
     "execution_count": 15,
     "metadata": {},
     "output_type": "execute_result"
    }
   ],
   "source": [
    "y_test"
   ]
  },
  {
   "cell_type": "markdown",
   "metadata": {},
   "source": [
    "### 2.6 Image Normalizatoin"
   ]
  },
  {
   "cell_type": "code",
   "execution_count": 16,
   "metadata": {},
   "outputs": [],
   "source": [
    "X_train = X_train / 255\n",
    "X_val   = X_val / 255\n",
    "X_test  = X_test / 255"
   ]
  },
  {
   "cell_type": "code",
   "execution_count": 17,
   "metadata": {
    "colab": {
     "background_save": true
    },
    "id": "jWFIvPjtiNio"
   },
   "outputs": [],
   "source": [
    "## This Dictionary is used to decode the model's predicted values.  \n",
    "decode_dict = {0 : \"Glioma II\", 1 : \"Glioma III\", 2 : \"Glioma VI\", 3: \"Meningioma\", 4: \"No tumor\", 5: \"Pituitary\"}"
   ]
  },
  {
   "cell_type": "code",
   "execution_count": 18,
   "metadata": {
    "colab": {
     "background_save": true
    },
    "id": "PcsCoY3jggfU",
    "outputId": "3b3c30b0-a9af-4923-a318-cea2b5587807"
   },
   "outputs": [
    {
     "data": {
      "image/png": "[encoded data removed]",
      "text/plain": [
       "<Figure size 936x576 with 1 Axes>"
      ]
     },
     "metadata": {},
     "output_type": "display_data"
    }
   ],
   "source": [
    "import matplotlib.pyplot as plt\n",
    "import numpy as np\n",
    "##  Creating a Pie chart illustrating the percentage of the train, validation, test sets.\n",
    "Data = np.array([len(y_train), len(y_test), len(y_val)])\n",
    "mylabels = [\"Test Set\", \"Test Set\", \"Validation Set\"]\n",
    "plt.figure(figsize=(13, 8))\n",
    "plt.pie(Data, labels = mylabels, autopct=\"%.1f%%\", )\n",
    "plt.legend()\n",
    "plt.show() "
   ]
  },
  {
   "cell_type": "markdown",
   "metadata": {
    "id": "zDCzea2Klw_1"
   },
   "source": [
    "## 3. Models Creation\n"
   ]
  },
  {
   "cell_type": "code",
   "execution_count": 19,
   "metadata": {
    "colab": {
     "background_save": true
    },
    "id": "K58Sn8Gt_6v9"
   },
   "outputs": [],
   "source": [
    "m1 = Sequential()\n",
    "\n",
    "m1.add(Convolution2D( 32, (3,3), activation ='relu', input_shape = (SIZE_X, SIZE_Y, SIZE_Z))) \n",
    "m1.add(MaxPooling2D(pool_size=2))\n",
    "m1.add(Convolution2D(filters=64, kernel_size=4, padding='same', activation='relu'))\n",
    "m1.add(MaxPooling2D(pool_size=2))\n",
    "m1.add(Convolution2D(filters=128, kernel_size=3, padding='same', activation='relu'))\n",
    "m1.add(MaxPooling2D(pool_size=2))\n",
    "m1.add(Dropout(0.50))\n",
    "m1.add(Convolution2D(filters=128, kernel_size=2, padding='same', activation='relu'))\n",
    "m1.add(MaxPooling2D(pool_size=2))\n",
    "m1.add(Dropout(0.50))\n",
    "m1.add(Flatten()) \n",
    "m1.add(Dense(units = 128, activation = 'relu'))\n",
    "m1.add(Dense(units = 32, activation = 'relu'))\n",
    "m1.add(Dense(units = CLASS_NUM, activation = 'softmax'))\n",
    "\n",
    "m1.compile(optimizer='adam', loss = 'categorical_crossentropy', metrics = ['accuracy'])"
   ]
  },
  {
   "cell_type": "markdown",
   "metadata": {
    "id": "6aAVYS26t6c3"
   },
   "source": [
    "### 4. Model Training\n"
   ]
  },
  {
   "cell_type": "code",
   "execution_count": 20,
   "metadata": {
    "id": "LGT4MVY3tkyz"
   },
   "outputs": [
    {
     "name": "stdout",
     "output_type": "stream",
     "text": [
      "Epoch 1/150\n",
      "873/873 [==============================] - 10s 9ms/step - loss: 0.8918 - accuracy: 0.6390 - val_loss: 0.5222 - val_accuracy: 0.7935\n",
      "Epoch 2/150\n",
      "873/873 [==============================] - 7s 8ms/step - loss: 0.4610 - accuracy: 0.8112 - val_loss: 0.3993 - val_accuracy: 0.8382\n",
      "Epoch 3/150\n",
      "873/873 [==============================] - 7s 8ms/step - loss: 0.3565 - accuracy: 0.8564 - val_loss: 0.3511 - val_accuracy: 0.8688\n",
      "Epoch 4/150\n",
      "873/873 [==============================] - 7s 8ms/step - loss: 0.2840 - accuracy: 0.8895 - val_loss: 0.3251 - val_accuracy: 0.8640\n",
      "Epoch 5/150\n",
      "873/873 [==============================] - 7s 8ms/step - loss: 0.2423 - accuracy: 0.9055 - val_loss: 0.2818 - val_accuracy: 0.8941\n",
      "Epoch 6/150\n",
      "873/873 [==============================] - 7s 8ms/step - loss: 0.2060 - accuracy: 0.9186 - val_loss: 0.2424 - val_accuracy: 0.8984\n",
      "Epoch 7/150\n",
      "873/873 [==============================] - 7s 8ms/step - loss: 0.1831 - accuracy: 0.9282 - val_loss: 0.2335 - val_accuracy: 0.9000\n",
      "Epoch 8/150\n",
      "873/873 [==============================] - 7s 8ms/step - loss: 0.1613 - accuracy: 0.9395 - val_loss: 0.2223 - val_accuracy: 0.9118\n",
      "Epoch 9/150\n",
      "873/873 [==============================] - 7s 8ms/step - loss: 0.1461 - accuracy: 0.9461 - val_loss: 0.2144 - val_accuracy: 0.9059\n",
      "Epoch 10/150\n",
      "873/873 [==============================] - 7s 8ms/step - loss: 0.1384 - accuracy: 0.9468 - val_loss: 0.2792 - val_accuracy: 0.9059\n",
      "Epoch 11/150\n",
      "873/873 [==============================] - 7s 8ms/step - loss: 0.1331 - accuracy: 0.9491 - val_loss: 0.2200 - val_accuracy: 0.9226\n",
      "Epoch 12/150\n",
      "873/873 [==============================] - 7s 8ms/step - loss: 0.1057 - accuracy: 0.9604 - val_loss: 0.2246 - val_accuracy: 0.9237\n",
      "Epoch 13/150\n",
      "873/873 [==============================] - 7s 8ms/step - loss: 0.1079 - accuracy: 0.9612 - val_loss: 0.2012 - val_accuracy: 0.9258\n",
      "Epoch 14/150\n",
      "873/873 [==============================] - 7s 8ms/step - loss: 0.0992 - accuracy: 0.9648 - val_loss: 0.2272 - val_accuracy: 0.9253\n",
      "Epoch 15/150\n",
      "873/873 [==============================] - 7s 8ms/step - loss: 0.0946 - accuracy: 0.9667 - val_loss: 0.2326 - val_accuracy: 0.9306\n",
      "Epoch 16/150\n",
      "873/873 [==============================] - 7s 8ms/step - loss: 0.0862 - accuracy: 0.9679 - val_loss: 0.2354 - val_accuracy: 0.9258\n",
      "Epoch 17/150\n",
      "873/873 [==============================] - 7s 8ms/step - loss: 0.0857 - accuracy: 0.9692 - val_loss: 0.2788 - val_accuracy: 0.9220\n",
      "Epoch 18/150\n",
      "873/873 [==============================] - 7s 8ms/step - loss: 0.0872 - accuracy: 0.9688 - val_loss: 0.2179 - val_accuracy: 0.9258\n",
      "Epoch 19/150\n",
      "873/873 [==============================] - 7s 8ms/step - loss: 0.0780 - accuracy: 0.9715 - val_loss: 0.2166 - val_accuracy: 0.9344\n",
      "Epoch 20/150\n",
      "873/873 [==============================] - 7s 8ms/step - loss: 0.0678 - accuracy: 0.9753 - val_loss: 0.3175 - val_accuracy: 0.9355\n",
      "Epoch 21/150\n",
      "873/873 [==============================] - 7s 8ms/step - loss: 0.0822 - accuracy: 0.9734 - val_loss: 0.2542 - val_accuracy: 0.9301\n",
      "Epoch 22/150\n",
      "873/873 [==============================] - 7s 8ms/step - loss: 0.0706 - accuracy: 0.9758 - val_loss: 0.2782 - val_accuracy: 0.9290\n",
      "Epoch 23/150\n",
      "873/873 [==============================] - 7s 8ms/step - loss: 0.0730 - accuracy: 0.9747 - val_loss: 0.2584 - val_accuracy: 0.9285\n",
      "Epoch 24/150\n",
      "873/873 [==============================] - 7s 8ms/step - loss: 0.0782 - accuracy: 0.9737 - val_loss: 0.2789 - val_accuracy: 0.9263\n",
      "Epoch 25/150\n",
      "873/873 [==============================] - 7s 8ms/step - loss: 0.0571 - accuracy: 0.9805 - val_loss: 0.2737 - val_accuracy: 0.9344\n",
      "Epoch 26/150\n",
      "873/873 [==============================] - 7s 8ms/step - loss: 0.0655 - accuracy: 0.9763 - val_loss: 0.3124 - val_accuracy: 0.9263\n",
      "Epoch 27/150\n",
      "873/873 [==============================] - 7s 8ms/step - loss: 0.0665 - accuracy: 0.9778 - val_loss: 0.2331 - val_accuracy: 0.9355\n",
      "Epoch 28/150\n",
      "873/873 [==============================] - 7s 8ms/step - loss: 0.0640 - accuracy: 0.9775 - val_loss: 0.2278 - val_accuracy: 0.9333\n",
      "Epoch 29/150\n",
      "873/873 [==============================] - 7s 8ms/step - loss: 0.0622 - accuracy: 0.9783 - val_loss: 0.3387 - val_accuracy: 0.9258\n",
      "Epoch 30/150\n",
      "873/873 [==============================] - 7s 8ms/step - loss: 0.0599 - accuracy: 0.9803 - val_loss: 0.2864 - val_accuracy: 0.9237\n",
      "Epoch 31/150\n",
      "873/873 [==============================] - 7s 8ms/step - loss: 0.0569 - accuracy: 0.9812 - val_loss: 0.3202 - val_accuracy: 0.9188\n",
      "Epoch 32/150\n",
      "873/873 [==============================] - 7s 8ms/step - loss: 0.0484 - accuracy: 0.9836 - val_loss: 0.2467 - val_accuracy: 0.9355\n",
      "Epoch 33/150\n",
      "873/873 [==============================] - 7s 8ms/step - loss: 0.0581 - accuracy: 0.9824 - val_loss: 0.2379 - val_accuracy: 0.9344\n",
      "Epoch 34/150\n",
      "873/873 [==============================] - 7s 8ms/step - loss: 0.0624 - accuracy: 0.9807 - val_loss: 0.2140 - val_accuracy: 0.9441\n",
      "Epoch 35/150\n",
      "873/873 [==============================] - 7s 8ms/step - loss: 0.0542 - accuracy: 0.9824 - val_loss: 0.2842 - val_accuracy: 0.9355\n",
      "Epoch 36/150\n",
      "873/873 [==============================] - 7s 8ms/step - loss: 0.0587 - accuracy: 0.9801 - val_loss: 0.2451 - val_accuracy: 0.9376\n",
      "Epoch 37/150\n",
      "873/873 [==============================] - 7s 8ms/step - loss: 0.0513 - accuracy: 0.9827 - val_loss: 0.2499 - val_accuracy: 0.9387\n",
      "Epoch 38/150\n",
      "873/873 [==============================] - 7s 8ms/step - loss: 0.0466 - accuracy: 0.9854 - val_loss: 0.2455 - val_accuracy: 0.9441\n",
      "Epoch 39/150\n",
      "873/873 [==============================] - 7s 8ms/step - loss: 0.0545 - accuracy: 0.9836 - val_loss: 0.2632 - val_accuracy: 0.9317\n",
      "Epoch 40/150\n",
      "873/873 [==============================] - 7s 8ms/step - loss: 0.0423 - accuracy: 0.9855 - val_loss: 0.2377 - val_accuracy: 0.9360\n",
      "Epoch 41/150\n",
      "873/873 [==============================] - 7s 8ms/step - loss: 0.0525 - accuracy: 0.9845 - val_loss: 0.2273 - val_accuracy: 0.9441\n",
      "Epoch 42/150\n",
      "873/873 [==============================] - 7s 8ms/step - loss: 0.0568 - accuracy: 0.9813 - val_loss: 0.3647 - val_accuracy: 0.9263\n",
      "Epoch 43/150\n",
      "873/873 [==============================] - 7s 8ms/step - loss: 0.0430 - accuracy: 0.9869 - val_loss: 0.2884 - val_accuracy: 0.9409\n"
     ]
    },
    {
     "data": {
      "text/plain": [
       "<keras.callbacks.History at 0x1e16a3101f0>"
      ]
     },
     "execution_count": 20,
     "metadata": {},
     "output_type": "execute_result"
    }
   ],
   "source": [
    "from tensorflow.keras.callbacks import EarlyStopping\n",
    "early_stop = EarlyStopping(monitor = 'val_loss', patience = 30 )\n",
    "\n",
    "m1.fit(X_train,y_train,epochs=150,batch_size=16, validation_data=(X_val,y_val), callbacks = [early_stop], verbose=1)"
   ]
  },
  {
   "cell_type": "code",
   "execution_count": 21,
   "metadata": {
    "id": "d6OA7oX-yByT"
   },
   "outputs": [],
   "source": [
    "# Get training history\n",
    "metrics = pd.DataFrame(m1.history.history)"
   ]
  },
  {
   "cell_type": "code",
   "execution_count": 22,
   "metadata": {},
   "outputs": [],
   "source": [
    "import os\n",
    "exp_num = []\n",
    "if not os.path.exists(\"./experiments\"):\n",
    "    os.mkdir(\"./experiments\")\n",
    "folders = os.listdir(\"./experiments\")\n",
    "for folder in folders:\n",
    "    exp_num.append(int(folder.split(\"#\")[1]))\n",
    "\n",
    "\n",
    "if len(exp_num) == 0:\n",
    "    exp_path = r\"./experiments/exp#1\"\n",
    "else:\n",
    "    exp_path = r\"./experiments/exp#\"+str(max(exp_num)+1)\n",
    "\n",
    "\n",
    "\n",
    "\n",
    "os.mkdir(exp_path)\n",
    "os.mkdir(os.path.join(exp_path, \"results\"))\n",
    "os.mkdir(os.path.join(exp_path, \"weights\"))\n",
    "\n",
    "results = os.path.join(exp_path, \"results\")\n",
    "weights = os.path.join(exp_path, \"weights\")"
   ]
  },
  {
   "cell_type": "code",
   "execution_count": 23,
   "metadata": {},
   "outputs": [
    {
     "name": "stdout",
     "output_type": "stream",
     "text": [
      "./experiments/exp#7\\results\n"
     ]
    }
   ],
   "source": [
    "print(results)"
   ]
  },
  {
   "cell_type": "code",
   "execution_count": 24,
   "metadata": {
    "id": "vs5CCwj993FX"
   },
   "outputs": [
    {
     "name": "stdout",
     "output_type": "stream",
     "text": [
      "88/88 [==============================] - 1s 5ms/step - loss: 0.2873 - accuracy: 0.9391\n"
     ]
    }
   ],
   "source": [
    "# Save The Trained model along with it training history   \n",
    "Accuracy = m1.evaluate(X_test, y_test)[-1]\n",
    "name = str(round(Accuracy, 4))\n",
    "\n",
    "metrics.to_pickle(os.path.join(results, name+'.pkl'))\n",
    "m1.save(os.path.join(weights, name + '.h5'))"
   ]
  },
  {
   "cell_type": "code",
   "execution_count": 25,
   "metadata": {
    "id": "5F7i-oCwytup",
    "scrolled": true
   },
   "outputs": [
    {
     "data": {
      "image/png": "[encoded data removed]",
      "text/plain": [
       "<Figure size 720x504 with 1 Axes>"
      ]
     },
     "metadata": {
      "needs_background": "light"
     },
     "output_type": "display_data"
    },
    {
     "data": {
      "image/png": "[encoded data removed]",
      "text/plain": [
       "<Figure size 720x504 with 1 Axes>"
      ]
     },
     "metadata": {
      "needs_background": "light"
     },
     "output_type": "display_data"
    }
   ],
   "source": [
    "## Dispaly the plot of \n",
    "rows = 2\n",
    "columns = 1\n",
    "  \n",
    "# Display Train loss vs Validation loss at each Epoch\n",
    "fig = plt.figure(figsize=(10, 7))\n",
    "fig.add_subplot(rows, columns, 1)\n",
    "plt.plot(metrics['loss'])\n",
    "plt.plot(metrics['val_loss'])\n",
    "plt.title('Model Loss')\n",
    "plt.ylabel('loss')\n",
    "plt.xlabel('epoch')\n",
    "plt.legend(['train', 'val'], loc='upper left')\n",
    "plt.savefig(os.path.join(results, 'loss_epoch.png'))\n",
    "plt.show()\n",
    "\n",
    "  \n",
    "# Display Train loss vs Validation loss at each Epoch\n",
    "fig = plt.figure(figsize=(10, 7))\n",
    "fig.add_subplot(rows, columns, 2)\n",
    "plt.plot(metrics['accuracy'])\n",
    "plt.plot(metrics['val_accuracy'])\n",
    "plt.title('Model Accuracy')\n",
    "plt.ylabel('accuracy')\n",
    "plt.xlabel('epoch')\n",
    "plt.legend(['train', 'val'], loc='upper left')\n",
    "plt.savefig(os.path.join(results, 'acc_epoch.png'))\n",
    "plt.show()\n",
    "\n"
   ]
  },
  {
   "cell_type": "code",
   "execution_count": 26,
   "metadata": {
    "id": "HQOKaA8zfv4K"
   },
   "outputs": [],
   "source": [
    "## Get the \n",
    "predict_x = m1.predict(X_test) \n",
    "predictions = np.argmax(predict_x,axis=1) "
   ]
  },
  {
   "cell_type": "code",
   "execution_count": 27,
   "metadata": {
    "id": "xy9_ZzsYkByi"
   },
   "outputs": [],
   "source": [
    "# Decode the Model's predections  (from [0,1,0,2..] to ['Glioma','Meningioma'...]) of the Test set using the the dictionary 'decode_dict' \n",
    "predictions = np.vectorize(decode_dict.get)(predictions)"
   ]
  },
  {
   "cell_type": "code",
   "execution_count": 28,
   "metadata": {
    "id": "IVYX1MCzjx00"
   },
   "outputs": [
    {
     "name": "stdout",
     "output_type": "stream",
     "text": [
      "              precision    recall  f1-score   support\n",
      "\n",
      "   Glioma II       0.87      0.90      0.88       420\n",
      "  Glioma III       0.85      0.86      0.86       308\n",
      "   Glioma VI       0.92      0.89      0.91       440\n",
      "  Meningioma       0.95      0.97      0.96       384\n",
      "    No tumor       0.99      1.00      0.99       692\n",
      "   Pituitary       0.98      0.96      0.97       548\n",
      "\n",
      "    accuracy                           0.94      2792\n",
      "   macro avg       0.93      0.93      0.93      2792\n",
      "weighted avg       0.94      0.94      0.94      2792\n",
      "\n"
     ]
    }
   ],
   "source": [
    "print(classification_report(y_test_eval, predictions))"
   ]
  },
  {
   "cell_type": "code",
   "execution_count": 29,
   "metadata": {
    "id": "HOVPJjy0udhD"
   },
   "outputs": [
    {
     "data": {
      "image/png": "[encoded data removed]",
      "text/plain": [
       "<Figure size 720x504 with 2 Axes>"
      ]
     },
     "metadata": {
      "needs_background": "light"
     },
     "output_type": "display_data"
    }
   ],
   "source": [
    "labels = sorted(aug_test_DF.Label.unique())\n",
    "\n",
    "cm = pd.DataFrame(confusion_matrix(y_test_eval, predictions), index=labels, columns=labels)\n",
    "plt.figure(figsize = (10,7))\n",
    "plt.title('Confusion matrix')\n",
    "sns.heatmap(cm, annot=True, cmap=\"PuBu\",fmt = 'd')\n",
    "plt.ylabel('True labels')\n",
    "plt.xlabel('Predicted labels')\n",
    "plt.savefig(os.path.join(results, 'confusion_matrix.png'))\n",
    "plt.show()"
   ]
  },
  {
   "cell_type": "code",
   "execution_count": null,
   "metadata": {
    "id": "7_fru9v4mHup"
   },
   "outputs": [],
   "source": []
  },
  {
   "cell_type": "code",
   "execution_count": 30,
   "metadata": {},
   "outputs": [
    {
     "data": {
      "text/plain": [
       "['Glioma II', 'Glioma III', 'Glioma VI', 'Meningioma', 'No tumor', 'Pituitary']"
      ]
     },
     "execution_count": 30,
     "metadata": {},
     "output_type": "execute_result"
    }
   ],
   "source": [
    "sorted(aug_test_DF.Label.unique())"
   ]
  },
  {
   "cell_type": "code",
   "execution_count": 31,
   "metadata": {},
   "outputs": [
    {
     "data": {
      "text/plain": [
       "692"
      ]
     },
     "execution_count": 31,
     "metadata": {},
     "output_type": "execute_result"
    }
   ],
   "source": [
    "len(aug_test_DF[aug_test_DF.Label == \"No tumor\"])"
   ]
  },
  {
   "cell_type": "code",
   "execution_count": null,
   "metadata": {},
   "outputs": [],
   "source": []
  }
 ],
 "metadata": {
  "accelerator": "GPU",
  "colab": {
   "collapsed_sections": [],
   "name": "5_labels_model_v1.ipynb",
   "provenance": []
  },
  "kernelspec": {
   "display_name": "Python 3",
   "language": "python",
   "name": "python3"
  },
  "language_info": {
   "codemirror_mode": {
    "name": "ipython",
    "version": 3
   },
   "file_extension": ".py",
   "mimetype": "text/x-python",
   "name": "python",
   "nbconvert_exporter": "python",
   "pygments_lexer": "ipython3",
   "version": "3.9.7"
  }
 },
 "nbformat": 4,
 "nbformat_minor": 1
}
