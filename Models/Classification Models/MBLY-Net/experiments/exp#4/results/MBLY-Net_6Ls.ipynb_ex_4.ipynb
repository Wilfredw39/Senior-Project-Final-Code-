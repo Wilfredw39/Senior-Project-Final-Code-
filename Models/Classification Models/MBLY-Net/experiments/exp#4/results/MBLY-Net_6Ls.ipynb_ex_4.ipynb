{
 "cells": [
  {
   "cell_type": "markdown",
   "metadata": {
    "id": "vt51_KACTdGf"
   },
   "source": [
    "## 0. Setting up the Environment\n"
   ]
  },
  {
   "cell_type": "code",
   "execution_count": 8,
   "metadata": {
    "colab": {
     "base_uri": "https://localhost:8080/"
    },
    "id": "D4Z6Zv3PSOcg",
    "outputId": "b87040f7-50f1-4633-bcd9-415194d37d2e"
   },
   "outputs": [],
   "source": [
    "## impoort labaries \n",
    "import os \n",
    "import cv2\n",
    "import mat73\n",
    "import time\n",
    "import keras\n",
    "import pandas as pd\n",
    "import numpy as np \n",
    "import seaborn as sns\n",
    "import skimage\n",
    "import tensorflow as tf\n",
    "import matplotlib.pyplot as plt\n",
    "from PIL import Image, ImageOps \n",
    "from skimage.transform import resize\n",
    "from keras.models import Sequential\n",
    "from tensorflow.keras import optimizers\n",
    "from tqdm.notebook import tqdm_notebook as tqdm\n",
    "from sklearn.metrics import classification_report, confusion_matrix\n",
    "from keras.layers import Conv2D, MaxPooling2D, Flatten, Dense, Dropout, BatchNormalization,  Convolution2D"
   ]
  },
  {
   "cell_type": "markdown",
   "metadata": {
    "id": "sYWmkuxOWtm4"
   },
   "source": [
    "## 1. Data Importing "
   ]
  },
  {
   "cell_type": "code",
   "execution_count": 9,
   "metadata": {},
   "outputs": [],
   "source": [
    "SIZE_X = 128\n",
    "SIZE_Y = 128\n",
    "SIZE_Z = 1\n",
    "CLASS_NUM = 6\n",
    "\n",
    "aug_train_DF = pd.read_pickle(r\"../../../Datasets/Dataset_B_2/aug_train_DF_{}.pkl\".format(SIZE_X))\n",
    "aug_val_DF = pd.read_pickle(r\"../../../Datasets/Dataset_B_2/aug_val_DF_{}.pkl\".format(SIZE_X))\n",
    " = pd.read_pickle(r\"../../../Datasets/Dataset_B_2/aug_test_DF_{}.pkl\".format(SIZE_X))"
   ]
  },
  {
   "cell_type": "code",
   "execution_count": 10,
   "metadata": {
    "colab": {
     "background_save": true
    },
    "id": "kaaNJb4nR5Z5",
    "outputId": "229fd2a5-846a-4168-abdf-2db9f91c282d"
   },
   "outputs": [
    {
     "data": {
      "text/html": [
       "<div>\n",
       "<style scoped>\n",
       "    .dataframe tbody tr th:only-of-type {\n",
       "        vertical-align: middle;\n",
       "    }\n",
       "\n",
       "    .dataframe tbody tr th {\n",
       "        vertical-align: top;\n",
       "    }\n",
       "\n",
       "    .dataframe thead th {\n",
       "        text-align: right;\n",
       "    }\n",
       "</style>\n",
       "<table border=\"1\" class=\"dataframe\">\n",
       "  <thead>\n",
       "    <tr style=\"text-align: right;\">\n",
       "      <th></th>\n",
       "      <th>PID</th>\n",
       "      <th>Label</th>\n",
       "      <th>Image</th>\n",
       "      <th>File</th>\n",
       "    </tr>\n",
       "  </thead>\n",
       "  <tbody>\n",
       "    <tr>\n",
       "      <th>12327</th>\n",
       "      <td>HF1280</td>\n",
       "      <td>Glioma III</td>\n",
       "      <td>[[0.0, 0.0, 0.0, 0.0, 0.0, 0.0, 0.0, 0.0, 0.0,...</td>\n",
       "      <td>D:\\Datasets\\manifest-tXudPFfp43472957274060920...</td>\n",
       "    </tr>\n",
       "    <tr>\n",
       "      <th>13657</th>\n",
       "      <td>HF1397</td>\n",
       "      <td>Glioma VI</td>\n",
       "      <td>[[0.0, 0.0, 0.0, 0.0, 0.0, 0.0, 0.0, 0.0, 0.0,...</td>\n",
       "      <td>D:\\Datasets\\manifest-tXudPFfp43472957274060920...</td>\n",
       "    </tr>\n",
       "    <tr>\n",
       "      <th>10412</th>\n",
       "      <td>Heatly_dataset_#998</td>\n",
       "      <td>No tumor</td>\n",
       "      <td>[[0.0, 0.0, 0.0, 0.0, 0.0, 0.0, 0.0, 0.0, 0.0,...</td>\n",
       "      <td>no243.jpg</td>\n",
       "    </tr>\n",
       "    <tr>\n",
       "      <th>14348</th>\n",
       "      <td>HF1538</td>\n",
       "      <td>Glioma VI</td>\n",
       "      <td>[[0.0, 0.0, 0.0, 0.0, 0.0, 0.0, 0.0, 0.0, 0.0,...</td>\n",
       "      <td>D:\\Datasets\\manifest-tXudPFfp43472957274060920...</td>\n",
       "    </tr>\n",
       "    <tr>\n",
       "      <th>119</th>\n",
       "      <td>HF1185</td>\n",
       "      <td>Glioma III</td>\n",
       "      <td>[[0.0, 0.0, 0.0, 0.0, 0.0, 0.0, 0.0, 0.0, 0.0,...</td>\n",
       "      <td>D:\\Datasets\\manifest-tXudPFfp43472957274060920...</td>\n",
       "    </tr>\n",
       "  </tbody>\n",
       "</table>\n",
       "</div>"
      ],
      "text/plain": [
       "                       PID       Label  \\\n",
       "12327               HF1280  Glioma III   \n",
       "13657               HF1397   Glioma VI   \n",
       "10412  Heatly_dataset_#998    No tumor   \n",
       "14348               HF1538   Glioma VI   \n",
       "119                 HF1185  Glioma III   \n",
       "\n",
       "                                                   Image  \\\n",
       "12327  [[0.0, 0.0, 0.0, 0.0, 0.0, 0.0, 0.0, 0.0, 0.0,...   \n",
       "13657  [[0.0, 0.0, 0.0, 0.0, 0.0, 0.0, 0.0, 0.0, 0.0,...   \n",
       "10412  [[0.0, 0.0, 0.0, 0.0, 0.0, 0.0, 0.0, 0.0, 0.0,...   \n",
       "14348  [[0.0, 0.0, 0.0, 0.0, 0.0, 0.0, 0.0, 0.0, 0.0,...   \n",
       "119    [[0.0, 0.0, 0.0, 0.0, 0.0, 0.0, 0.0, 0.0, 0.0,...   \n",
       "\n",
       "                                                    File  \n",
       "12327  D:\\Datasets\\manifest-tXudPFfp43472957274060920...  \n",
       "13657  D:\\Datasets\\manifest-tXudPFfp43472957274060920...  \n",
       "10412                                          no243.jpg  \n",
       "14348  D:\\Datasets\\manifest-tXudPFfp43472957274060920...  \n",
       "119    D:\\Datasets\\manifest-tXudPFfp43472957274060920...  "
      ]
     },
     "execution_count": 10,
     "metadata": {},
     "output_type": "execute_result"
    }
   ],
   "source": [
    "## Combain the df with the Pitutary & Meningioma types with the dataframe of the Glioma grades (I, II,, IV).\n",
    "pd.concat([aug_train_DF, aug_val_DF, aug_test_DF], axis=0, ignore_index = True).sample(5)"
   ]
  },
  {
   "cell_type": "code",
   "execution_count": 11,
   "metadata": {},
   "outputs": [
    {
     "name": "stdout",
     "output_type": "stream",
     "text": [
      "<class 'pandas.core.frame.DataFrame'>\n",
      "RangeIndex: 16980 entries, 0 to 16979\n",
      "Data columns (total 4 columns):\n",
      " #   Column  Non-Null Count  Dtype \n",
      "---  ------  --------------  ----- \n",
      " 0   PID     16980 non-null  object\n",
      " 1   Label   16980 non-null  object\n",
      " 2   Image   16980 non-null  object\n",
      " 3   File    16980 non-null  object\n",
      "dtypes: object(4)\n",
      "memory usage: 530.8+ KB\n"
     ]
    }
   ],
   "source": [
    "pd.concat([aug_train_DF, aug_val_DF, aug_test_DF], axis=0, ignore_index = True).info(5)"
   ]
  },
  {
   "cell_type": "code",
   "execution_count": 12,
   "metadata": {
    "colab": {
     "background_save": true
    },
    "id": "uJEttBBOU9IN",
    "outputId": "d176e92f-d35f-4f92-a264-ead1e87244e6"
   },
   "outputs": [
    {
     "name": "stderr",
     "output_type": "stream",
     "text": [
      "C:\\Users\\Ma7moud\\anaconda3\\envs\\T-UNet\\lib\\site-packages\\seaborn\\_decorators.py:36: FutureWarning: Pass the following variable as a keyword arg: x. From version 0.12, the only valid positional argument will be `data`, and passing other arguments without an explicit keyword will result in an error or misinterpretation.\n",
      "  warnings.warn(\n"
     ]
    },
    {
     "data": {
      "image/png": "[encoded data removed]",
      "text/plain": [
       "<Figure size 432x288 with 1 Axes>"
      ]
     },
     "metadata": {
      "needs_background": "light"
     },
     "output_type": "display_data"
    }
   ],
   "source": [
    "sns.countplot(pd.concat([aug_train_DF, aug_val_DF, aug_test_DF], axis=0, ignore_index = True).Label)\n",
    "plt.show()"
   ]
  },
  {
   "cell_type": "code",
   "execution_count": 13,
   "metadata": {
    "colab": {
     "background_save": true
    },
    "id": "AWLSJpw6WVVo",
    "outputId": "348d3fee-c3a5-442d-96af-5711dec23128"
   },
   "outputs": [
    {
     "data": {
      "image/png": "[encoded data removed]",
      "text/plain": [
       "<Figure size 432x288 with 1 Axes>"
      ]
     },
     "metadata": {},
     "output_type": "display_data"
    }
   ],
   "source": [
    "data = pd.concat([aug_train_DF, aug_val_DF, aug_test_DF], axis=0, ignore_index = True).groupby(\"Label\")[\"Label\"].count()\n",
    "data.plot.pie(autopct=\"%.1f%%\");"
   ]
  },
  {
   "cell_type": "markdown",
   "metadata": {
    "id": "Zf3vh4d7w3ZP"
   },
   "source": [
    "## 2. Data-Preprocessing "
   ]
  },
  {
   "cell_type": "markdown",
   "metadata": {
    "id": "Kd502KoZONei"
   },
   "source": [
    "### 2.1 Image Resizing \n"
   ]
  },
  {
   "cell_type": "markdown",
   "metadata": {
    "id": "oDIYJ9-3OWho"
   },
   "source": [
    "### 2.2 Data Augmentation"
   ]
  },
  {
   "cell_type": "markdown",
   "metadata": {},
   "source": [
    "### 2.3 Grayscale to RGB"
   ]
  },
  {
   "cell_type": "code",
   "execution_count": 14,
   "metadata": {
    "colab": {
     "background_save": true
    },
    "id": "hzz5yapeG-M7",
    "outputId": "0d2f1eb1-953a-4141-8ab9-4cb02b8519e8"
   },
   "outputs": [],
   "source": [
    "def normalize(img):\n",
    "    plt.imsave('DR.png', img, cmap='gray')\n",
    "    return cv2.imread('DR.png')[:, :, SIZE_Z]"
   ]
  },
  {
   "cell_type": "code",
   "execution_count": 15,
   "metadata": {},
   "outputs": [],
   "source": [
    "aug_train_DF[\"Image\"] = aug_train_DF[\"Image\"].apply(normalize)\n",
    "aug_val_DF[\"Image\"] = aug_val_DF[\"Image\"].apply(normalize)\n",
    "aug_test_DF[\"Image\"] = aug_test_DF[\"Image\"].apply(normalize)"
   ]
  },
  {
   "cell_type": "markdown",
   "metadata": {
    "id": "yg8moTnTaNeT"
   },
   "source": [
    "### 2.4 Splitting Data into Train, Test, and Validation Sets"
   ]
  },
  {
   "cell_type": "code",
   "execution_count": 16,
   "metadata": {},
   "outputs": [],
   "source": [
    "y_train = aug_train_DF[\"Label\"]\n",
    "X_train = aug_train_DF['Image'].tolist()\n",
    "X_train = np.array(X_train).reshape(-1, SIZE_X, SIZE_Y, SIZE_Z)\n",
    "\n",
    "\n",
    "y_val = aug_val_DF[\"Label\"]\n",
    "X_val = aug_val_DF['Image'].tolist()\n",
    "X_val = np.array(X_val).reshape(-1, SIZE_X, SIZE_Y, SIZE_Z)\n",
    "\n",
    "y_test = aug_test_DF[\"Label\"]\n",
    "X_test = aug_test_DF['Image'].tolist()\n",
    "X_test = np.array(X_test).reshape(-1, SIZE_X, SIZE_Y, SIZE_Z)\n"
   ]
  },
  {
   "cell_type": "code",
   "execution_count": 17,
   "metadata": {},
   "outputs": [
    {
     "name": "stdout",
     "output_type": "stream",
     "text": [
      "X_train shape: (13960, 128, 128, 1) | y_train shape: (13960,)\n",
      "X_val shape  : (1112, 128, 128, 1)  | y_test shape :  (1112,)\n",
      "X_test shape : (1908, 128, 128, 1)  | y_test shape :  (1908,)\n"
     ]
    }
   ],
   "source": [
    "print(\"X_train shape:\", X_train.shape,\"| y_train shape:\", y_train.shape)\n",
    "print(\"X_val shape  :\",X_val.shape,\" | y_test shape : \", y_val.shape)\n",
    "print(\"X_test shape :\",X_test.shape,\" | y_test shape : \", y_test.shape)"
   ]
  },
  {
   "cell_type": "markdown",
   "metadata": {},
   "source": [
    "### 2.5 One-Hot Encode the labels "
   ]
  },
  {
   "cell_type": "code",
   "execution_count": 18,
   "metadata": {
    "colab": {
     "background_save": true
    },
    "id": "uR_Cv0khfpyS",
    "outputId": "0fa96dd1-5899-45b2-9d73-5fcbc132a797"
   },
   "outputs": [],
   "source": [
    "# saving a copy of the testing labels before one hot encoding\n",
    "y_test_eval = y_test\n",
    "# one hot endcoding the labels \n",
    "y_train = pd.get_dummies(y_train)\n",
    "y_test  = pd.get_dummies(y_test)\n",
    "y_val   = pd.get_dummies(y_val)"
   ]
  },
  {
   "cell_type": "code",
   "execution_count": 19,
   "metadata": {},
   "outputs": [
    {
     "name": "stdout",
     "output_type": "stream",
     "text": [
      "X_train shape: (13960, 128, 128, 1) | y_train shape: (13960, 6)\n",
      "X_test shape : (1908, 128, 128, 1)  | y_test shape:  (1908, 6)\n",
      "X_val shape  : (1112, 128, 128, 1)  | y_val shape :  (1112, 6)\n",
      "\n",
      "Total number: 16980\n"
     ]
    }
   ],
   "source": [
    "print(\"X_train shape:\", X_train.shape,\"| y_train shape:\", y_train.shape)\n",
    "print(\"X_test shape :\",X_test.shape,\" | y_test shape: \", y_test.shape)\n",
    "print(\"X_val shape  :\",X_val.shape,\" | y_val shape : \", y_val.shape)\n",
    "print(\"\\nTotal number: {}\".format(len(aug_train_DF)+len(aug_val_DF)+len(aug_test_DF)))"
   ]
  },
  {
   "cell_type": "code",
   "execution_count": 20,
   "metadata": {
    "colab": {
     "background_save": true
    },
    "id": "3DctvR_fVPlF",
    "outputId": "bdf93bfa-b00d-49a3-99c8-f2bde2731658"
   },
   "outputs": [
    {
     "data": {
      "text/html": [
       "<div>\n",
       "<style scoped>\n",
       "    .dataframe tbody tr th:only-of-type {\n",
       "        vertical-align: middle;\n",
       "    }\n",
       "\n",
       "    .dataframe tbody tr th {\n",
       "        vertical-align: top;\n",
       "    }\n",
       "\n",
       "    .dataframe thead th {\n",
       "        text-align: right;\n",
       "    }\n",
       "</style>\n",
       "<table border=\"1\" class=\"dataframe\">\n",
       "  <thead>\n",
       "    <tr style=\"text-align: right;\">\n",
       "      <th></th>\n",
       "      <th>Glioma II</th>\n",
       "      <th>Glioma III</th>\n",
       "      <th>Glioma VI</th>\n",
       "      <th>Meningioma</th>\n",
       "      <th>No tumor</th>\n",
       "      <th>Pituitary</th>\n",
       "    </tr>\n",
       "  </thead>\n",
       "  <tbody>\n",
       "    <tr>\n",
       "      <th>0</th>\n",
       "      <td>0</td>\n",
       "      <td>0</td>\n",
       "      <td>0</td>\n",
       "      <td>1</td>\n",
       "      <td>0</td>\n",
       "      <td>0</td>\n",
       "    </tr>\n",
       "    <tr>\n",
       "      <th>1</th>\n",
       "      <td>1</td>\n",
       "      <td>0</td>\n",
       "      <td>0</td>\n",
       "      <td>0</td>\n",
       "      <td>0</td>\n",
       "      <td>0</td>\n",
       "    </tr>\n",
       "    <tr>\n",
       "      <th>2</th>\n",
       "      <td>0</td>\n",
       "      <td>0</td>\n",
       "      <td>0</td>\n",
       "      <td>1</td>\n",
       "      <td>0</td>\n",
       "      <td>0</td>\n",
       "    </tr>\n",
       "    <tr>\n",
       "      <th>3</th>\n",
       "      <td>0</td>\n",
       "      <td>0</td>\n",
       "      <td>0</td>\n",
       "      <td>0</td>\n",
       "      <td>0</td>\n",
       "      <td>1</td>\n",
       "    </tr>\n",
       "    <tr>\n",
       "      <th>4</th>\n",
       "      <td>0</td>\n",
       "      <td>0</td>\n",
       "      <td>0</td>\n",
       "      <td>1</td>\n",
       "      <td>0</td>\n",
       "      <td>0</td>\n",
       "    </tr>\n",
       "    <tr>\n",
       "      <th>...</th>\n",
       "      <td>...</td>\n",
       "      <td>...</td>\n",
       "      <td>...</td>\n",
       "      <td>...</td>\n",
       "      <td>...</td>\n",
       "      <td>...</td>\n",
       "    </tr>\n",
       "    <tr>\n",
       "      <th>1903</th>\n",
       "      <td>0</td>\n",
       "      <td>0</td>\n",
       "      <td>0</td>\n",
       "      <td>1</td>\n",
       "      <td>0</td>\n",
       "      <td>0</td>\n",
       "    </tr>\n",
       "    <tr>\n",
       "      <th>1904</th>\n",
       "      <td>0</td>\n",
       "      <td>0</td>\n",
       "      <td>0</td>\n",
       "      <td>0</td>\n",
       "      <td>0</td>\n",
       "      <td>1</td>\n",
       "    </tr>\n",
       "    <tr>\n",
       "      <th>1905</th>\n",
       "      <td>0</td>\n",
       "      <td>0</td>\n",
       "      <td>1</td>\n",
       "      <td>0</td>\n",
       "      <td>0</td>\n",
       "      <td>0</td>\n",
       "    </tr>\n",
       "    <tr>\n",
       "      <th>1906</th>\n",
       "      <td>0</td>\n",
       "      <td>0</td>\n",
       "      <td>0</td>\n",
       "      <td>0</td>\n",
       "      <td>0</td>\n",
       "      <td>1</td>\n",
       "    </tr>\n",
       "    <tr>\n",
       "      <th>1907</th>\n",
       "      <td>0</td>\n",
       "      <td>0</td>\n",
       "      <td>1</td>\n",
       "      <td>0</td>\n",
       "      <td>0</td>\n",
       "      <td>0</td>\n",
       "    </tr>\n",
       "  </tbody>\n",
       "</table>\n",
       "<p>1908 rows × 6 columns</p>\n",
       "</div>"
      ],
      "text/plain": [
       "      Glioma II  Glioma III  Glioma VI  Meningioma  No tumor  Pituitary\n",
       "0             0           0          0           1         0          0\n",
       "1             1           0          0           0         0          0\n",
       "2             0           0          0           1         0          0\n",
       "3             0           0          0           0         0          1\n",
       "4             0           0          0           1         0          0\n",
       "...         ...         ...        ...         ...       ...        ...\n",
       "1903          0           0          0           1         0          0\n",
       "1904          0           0          0           0         0          1\n",
       "1905          0           0          1           0         0          0\n",
       "1906          0           0          0           0         0          1\n",
       "1907          0           0          1           0         0          0\n",
       "\n",
       "[1908 rows x 6 columns]"
      ]
     },
     "execution_count": 20,
     "metadata": {},
     "output_type": "execute_result"
    }
   ],
   "source": [
    "y_test"
   ]
  },
  {
   "cell_type": "markdown",
   "metadata": {},
   "source": [
    "### 2.6 Image Normalizatoin"
   ]
  },
  {
   "cell_type": "code",
   "execution_count": 21,
   "metadata": {},
   "outputs": [],
   "source": [
    "X_train = X_train / 255\n",
    "X_val   = X_val / 255\n",
    "X_test  = X_test / 255"
   ]
  },
  {
   "cell_type": "code",
   "execution_count": 49,
   "metadata": {
    "colab": {
     "background_save": true
    },
    "id": "jWFIvPjtiNio"
   },
   "outputs": [],
   "source": [
    "## This Dictionary is used to decode the model's predicted values.  \n",
    "decode_dict = {0 : \"Glioma II\", 1 : \"Glioma III\", 2 : \"Glioma VI\", 3: \"Meningioma\", 4: \"No tumor\", 5: \"Pituitary\"}"
   ]
  },
  {
   "cell_type": "code",
   "execution_count": 23,
   "metadata": {
    "colab": {
     "background_save": true
    },
    "id": "PcsCoY3jggfU",
    "outputId": "3b3c30b0-a9af-4923-a318-cea2b5587807"
   },
   "outputs": [
    {
     "data": {
      "image/png": "[encoded data removed]",
      "text/plain": [
       "<Figure size 936x576 with 1 Axes>"
      ]
     },
     "metadata": {},
     "output_type": "display_data"
    }
   ],
   "source": [
    "import matplotlib.pyplot as plt\n",
    "import numpy as np\n",
    "##  Creating a Pie chart illustrating the percentage of the train, validation, test sets.\n",
    "Data = np.array([len(y_train), len(y_test), len(y_val)])\n",
    "mylabels = [\"Test Set\", \"Test Set\", \"Validation Set\"]\n",
    "plt.figure(figsize=(13, 8))\n",
    "plt.pie(Data, labels = mylabels, autopct=\"%.1f%%\", )\n",
    "plt.legend()\n",
    "plt.show() "
   ]
  },
  {
   "cell_type": "markdown",
   "metadata": {
    "id": "zDCzea2Klw_1"
   },
   "source": [
    "## 3. Models Creation\n"
   ]
  },
  {
   "cell_type": "code",
   "execution_count": 24,
   "metadata": {
    "colab": {
     "background_save": true
    },
    "id": "K58Sn8Gt_6v9"
   },
   "outputs": [],
   "source": [
    "m1 = Sequential()\n",
    "\n",
    "m1.add(Convolution2D( 32, (3,3), activation ='relu', input_shape = (SIZE_X, SIZE_Y, SIZE_Z))) \n",
    "m1.add(MaxPooling2D(pool_size=2))\n",
    "m1.add(Convolution2D(filters=64, kernel_size=4, padding='same', activation='relu'))\n",
    "m1.add(MaxPooling2D(pool_size=2))\n",
    "m1.add(Convolution2D(filters=128, kernel_size=3, padding='same', activation='relu'))\n",
    "m1.add(MaxPooling2D(pool_size=2))\n",
    "m1.add(Dropout(0.50))\n",
    "m1.add(Convolution2D(filters=128, kernel_size=2, padding='same', activation='relu'))\n",
    "m1.add(MaxPooling2D(pool_size=2))\n",
    "m1.add(Dropout(0.50))\n",
    "m1.add(Flatten()) \n",
    "m1.add(Dense(units = 128, activation = 'relu'))\n",
    "m1.add(Dense(units = 32, activation = 'relu'))\n",
    "m1.add(Dense(units = CLASS_NUM, activation = 'softmax'))\n",
    "\n",
    "m1.compile(optimizer='adam', loss = 'categorical_crossentropy', metrics = ['accuracy'])"
   ]
  },
  {
   "cell_type": "markdown",
   "metadata": {
    "id": "6aAVYS26t6c3"
   },
   "source": [
    "### 4. Model Training\n"
   ]
  },
  {
   "cell_type": "code",
   "execution_count": 25,
   "metadata": {
    "id": "LGT4MVY3tkyz"
   },
   "outputs": [
    {
     "name": "stdout",
     "output_type": "stream",
     "text": [
      "Epoch 1/150\n",
      "873/873 [==============================] - 11s 8ms/step - loss: 0.8545 - accuracy: 0.6561 - val_loss: 0.5422 - val_accuracy: 0.7914\n",
      "Epoch 2/150\n",
      "873/873 [==============================] - 7s 8ms/step - loss: 0.4528 - accuracy: 0.8160 - val_loss: 0.3640 - val_accuracy: 0.8498\n",
      "Epoch 3/150\n",
      "873/873 [==============================] - 7s 8ms/step - loss: 0.3459 - accuracy: 0.8595 - val_loss: 0.2841 - val_accuracy: 0.8804\n",
      "Epoch 4/150\n",
      "873/873 [==============================] - 7s 8ms/step - loss: 0.2796 - accuracy: 0.8879 - val_loss: 0.2982 - val_accuracy: 0.8669\n",
      "Epoch 5/150\n",
      "873/873 [==============================] - 7s 8ms/step - loss: 0.2421 - accuracy: 0.9047 - val_loss: 0.2132 - val_accuracy: 0.9110\n",
      "Epoch 6/150\n",
      "873/873 [==============================] - 7s 8ms/step - loss: 0.2054 - accuracy: 0.9203 - val_loss: 0.2096 - val_accuracy: 0.9227\n",
      "Epoch 7/150\n",
      "873/873 [==============================] - 7s 8ms/step - loss: 0.1845 - accuracy: 0.9289 - val_loss: 0.2476 - val_accuracy: 0.9101\n",
      "Epoch 8/150\n",
      "873/873 [==============================] - 7s 8ms/step - loss: 0.1611 - accuracy: 0.9371 - val_loss: 0.2223 - val_accuracy: 0.9227\n",
      "Epoch 9/150\n",
      "873/873 [==============================] - 7s 8ms/step - loss: 0.1537 - accuracy: 0.9437 - val_loss: 0.2582 - val_accuracy: 0.9119\n",
      "Epoch 10/150\n",
      "873/873 [==============================] - 7s 8ms/step - loss: 0.1470 - accuracy: 0.9457 - val_loss: 0.2304 - val_accuracy: 0.9236\n",
      "Epoch 11/150\n",
      "873/873 [==============================] - 7s 8ms/step - loss: 0.1255 - accuracy: 0.9534 - val_loss: 0.2470 - val_accuracy: 0.9164\n",
      "Epoch 12/150\n",
      "873/873 [==============================] - 7s 8ms/step - loss: 0.1231 - accuracy: 0.9554 - val_loss: 0.1737 - val_accuracy: 0.9433\n",
      "Epoch 13/150\n",
      "873/873 [==============================] - 7s 8ms/step - loss: 0.1073 - accuracy: 0.9604 - val_loss: 0.2028 - val_accuracy: 0.9335\n",
      "Epoch 14/150\n",
      "873/873 [==============================] - 7s 8ms/step - loss: 0.1089 - accuracy: 0.9600 - val_loss: 0.2146 - val_accuracy: 0.9209\n",
      "Epoch 15/150\n",
      "873/873 [==============================] - 7s 8ms/step - loss: 0.0978 - accuracy: 0.9638 - val_loss: 0.2379 - val_accuracy: 0.9236\n",
      "Epoch 16/150\n",
      "873/873 [==============================] - 7s 8ms/step - loss: 0.0855 - accuracy: 0.9688 - val_loss: 0.2401 - val_accuracy: 0.9272\n",
      "Epoch 17/150\n",
      "873/873 [==============================] - 7s 8ms/step - loss: 0.0932 - accuracy: 0.9675 - val_loss: 0.2135 - val_accuracy: 0.9317\n",
      "Epoch 18/150\n",
      "873/873 [==============================] - 7s 8ms/step - loss: 0.0868 - accuracy: 0.9696 - val_loss: 0.2254 - val_accuracy: 0.9272\n",
      "Epoch 19/150\n",
      "873/873 [==============================] - 7s 8ms/step - loss: 0.0930 - accuracy: 0.9689 - val_loss: 0.3000 - val_accuracy: 0.9209\n",
      "Epoch 20/150\n",
      "873/873 [==============================] - 7s 8ms/step - loss: 0.0784 - accuracy: 0.9728 - val_loss: 0.2151 - val_accuracy: 0.9236\n",
      "Epoch 21/150\n",
      "873/873 [==============================] - 7s 8ms/step - loss: 0.0813 - accuracy: 0.9713 - val_loss: 0.3240 - val_accuracy: 0.9263\n",
      "Epoch 22/150\n",
      "873/873 [==============================] - 7s 8ms/step - loss: 0.0770 - accuracy: 0.9729 - val_loss: 0.2401 - val_accuracy: 0.9344\n",
      "Epoch 23/150\n",
      "873/873 [==============================] - 7s 8ms/step - loss: 0.0814 - accuracy: 0.9728 - val_loss: 0.2734 - val_accuracy: 0.9209\n",
      "Epoch 24/150\n",
      "873/873 [==============================] - 7s 8ms/step - loss: 0.0589 - accuracy: 0.9799 - val_loss: 0.2303 - val_accuracy: 0.9353\n",
      "Epoch 25/150\n",
      "873/873 [==============================] - 7s 8ms/step - loss: 0.0657 - accuracy: 0.9771 - val_loss: 0.2717 - val_accuracy: 0.9353\n",
      "Epoch 26/150\n",
      "873/873 [==============================] - 7s 8ms/step - loss: 0.0705 - accuracy: 0.9743 - val_loss: 0.2417 - val_accuracy: 0.9379\n",
      "Epoch 27/150\n",
      "873/873 [==============================] - 7s 8ms/step - loss: 0.0636 - accuracy: 0.9784 - val_loss: 0.2211 - val_accuracy: 0.9299\n",
      "Epoch 28/150\n",
      "873/873 [==============================] - 7s 8ms/step - loss: 0.0619 - accuracy: 0.9803 - val_loss: 0.2117 - val_accuracy: 0.9371\n",
      "Epoch 29/150\n",
      "873/873 [==============================] - 7s 8ms/step - loss: 0.0699 - accuracy: 0.9779 - val_loss: 0.2557 - val_accuracy: 0.9290\n",
      "Epoch 30/150\n",
      "873/873 [==============================] - 7s 8ms/step - loss: 0.0569 - accuracy: 0.9798 - val_loss: 0.2567 - val_accuracy: 0.9281\n",
      "Epoch 31/150\n",
      "873/873 [==============================] - 7s 8ms/step - loss: 0.0583 - accuracy: 0.9793 - val_loss: 0.2795 - val_accuracy: 0.9371\n",
      "Epoch 32/150\n",
      "873/873 [==============================] - 7s 8ms/step - loss: 0.0610 - accuracy: 0.9796 - val_loss: 0.2591 - val_accuracy: 0.9344\n",
      "Epoch 33/150\n",
      "873/873 [==============================] - 7s 8ms/step - loss: 0.0589 - accuracy: 0.9822 - val_loss: 0.2896 - val_accuracy: 0.9245\n",
      "Epoch 34/150\n",
      "873/873 [==============================] - 7s 8ms/step - loss: 0.0568 - accuracy: 0.9804 - val_loss: 0.2528 - val_accuracy: 0.9362\n",
      "Epoch 35/150\n",
      "873/873 [==============================] - 7s 8ms/step - loss: 0.0525 - accuracy: 0.9824 - val_loss: 0.2467 - val_accuracy: 0.9317\n",
      "Epoch 36/150\n",
      "873/873 [==============================] - 7s 8ms/step - loss: 0.0651 - accuracy: 0.9797 - val_loss: 0.2663 - val_accuracy: 0.9245\n",
      "Epoch 37/150\n",
      "873/873 [==============================] - 7s 8ms/step - loss: 0.0537 - accuracy: 0.9827 - val_loss: 0.2558 - val_accuracy: 0.9388\n",
      "Epoch 38/150\n",
      "873/873 [==============================] - 7s 8ms/step - loss: 0.0424 - accuracy: 0.9848 - val_loss: 0.2057 - val_accuracy: 0.9406\n",
      "Epoch 39/150\n",
      "873/873 [==============================] - 7s 8ms/step - loss: 0.0594 - accuracy: 0.9820 - val_loss: 0.2377 - val_accuracy: 0.9308\n",
      "Epoch 40/150\n",
      "873/873 [==============================] - 7s 8ms/step - loss: 0.0487 - accuracy: 0.9843 - val_loss: 0.2610 - val_accuracy: 0.9326\n",
      "Epoch 41/150\n",
      "873/873 [==============================] - 7s 8ms/step - loss: 0.0489 - accuracy: 0.9847 - val_loss: 0.3200 - val_accuracy: 0.9308\n",
      "Epoch 42/150\n",
      "873/873 [==============================] - 7s 8ms/step - loss: 0.0507 - accuracy: 0.9831 - val_loss: 0.2283 - val_accuracy: 0.9388\n",
      "Epoch 43/150\n",
      "873/873 [==============================] - 7s 8ms/step - loss: 0.0600 - accuracy: 0.9806 - val_loss: 0.2839 - val_accuracy: 0.9326\n",
      "Epoch 44/150\n",
      "873/873 [==============================] - 7s 8ms/step - loss: 0.0500 - accuracy: 0.9838 - val_loss: 0.2929 - val_accuracy: 0.9290\n",
      "Epoch 45/150\n",
      "873/873 [==============================] - 7s 8ms/step - loss: 0.0446 - accuracy: 0.9868 - val_loss: 0.3346 - val_accuracy: 0.9326\n",
      "Epoch 46/150\n",
      "873/873 [==============================] - 7s 8ms/step - loss: 0.0490 - accuracy: 0.9830 - val_loss: 0.2880 - val_accuracy: 0.9362\n",
      "Epoch 47/150\n",
      "873/873 [==============================] - 7s 8ms/step - loss: 0.0434 - accuracy: 0.9862 - val_loss: 0.2723 - val_accuracy: 0.9344\n",
      "Epoch 48/150\n",
      "873/873 [==============================] - 7s 8ms/step - loss: 0.0424 - accuracy: 0.9874 - val_loss: 0.2754 - val_accuracy: 0.9371\n",
      "Epoch 49/150\n",
      "873/873 [==============================] - 7s 8ms/step - loss: 0.0435 - accuracy: 0.9860 - val_loss: 0.2636 - val_accuracy: 0.9397\n",
      "Epoch 50/150\n",
      "873/873 [==============================] - 7s 8ms/step - loss: 0.0415 - accuracy: 0.9872 - val_loss: 0.2459 - val_accuracy: 0.9236\n",
      "Epoch 51/150\n",
      "873/873 [==============================] - 7s 8ms/step - loss: 0.0375 - accuracy: 0.9881 - val_loss: 0.3403 - val_accuracy: 0.9290\n",
      "Epoch 52/150\n",
      "873/873 [==============================] - 7s 8ms/step - loss: 0.0415 - accuracy: 0.9868 - val_loss: 0.2490 - val_accuracy: 0.9371\n",
      "Epoch 53/150\n",
      "873/873 [==============================] - 7s 8ms/step - loss: 0.0489 - accuracy: 0.9830 - val_loss: 0.3099 - val_accuracy: 0.9344\n",
      "Epoch 54/150\n",
      "873/873 [==============================] - 7s 8ms/step - loss: 0.0420 - accuracy: 0.9870 - val_loss: 0.3073 - val_accuracy: 0.9451\n",
      "Epoch 55/150\n",
      "873/873 [==============================] - 7s 8ms/step - loss: 0.0425 - accuracy: 0.9870 - val_loss: 0.3016 - val_accuracy: 0.9415\n",
      "Epoch 56/150\n",
      "873/873 [==============================] - 7s 8ms/step - loss: 0.0411 - accuracy: 0.9878 - val_loss: 0.3341 - val_accuracy: 0.9388\n",
      "Epoch 57/150\n",
      "873/873 [==============================] - 7s 8ms/step - loss: 0.0386 - accuracy: 0.9882 - val_loss: 0.2202 - val_accuracy: 0.9451\n"
     ]
    },
    {
     "name": "stdout",
     "output_type": "stream",
     "text": [
      "Epoch 58/150\n",
      "873/873 [==============================] - 7s 8ms/step - loss: 0.0366 - accuracy: 0.9891 - val_loss: 0.3080 - val_accuracy: 0.9371\n",
      "Epoch 59/150\n",
      "873/873 [==============================] - 7s 8ms/step - loss: 0.0437 - accuracy: 0.9872 - val_loss: 0.4119 - val_accuracy: 0.9326\n",
      "Epoch 60/150\n",
      "873/873 [==============================] - 7s 8ms/step - loss: 0.0454 - accuracy: 0.9869 - val_loss: 0.3160 - val_accuracy: 0.9388\n",
      "Epoch 61/150\n",
      "873/873 [==============================] - 7s 8ms/step - loss: 0.0429 - accuracy: 0.9872 - val_loss: 0.3066 - val_accuracy: 0.9317\n",
      "Epoch 62/150\n",
      "873/873 [==============================] - 7s 8ms/step - loss: 0.0350 - accuracy: 0.9889 - val_loss: 0.3645 - val_accuracy: 0.9164\n",
      "Epoch 63/150\n",
      "873/873 [==============================] - 7s 8ms/step - loss: 0.0449 - accuracy: 0.9860 - val_loss: 0.2585 - val_accuracy: 0.9344\n",
      "Epoch 64/150\n",
      "873/873 [==============================] - 7s 8ms/step - loss: 0.0325 - accuracy: 0.9902 - val_loss: 0.2544 - val_accuracy: 0.9388\n",
      "Epoch 65/150\n",
      "873/873 [==============================] - 7s 8ms/step - loss: 0.0479 - accuracy: 0.9868 - val_loss: 0.3069 - val_accuracy: 0.9344\n",
      "Epoch 66/150\n",
      "873/873 [==============================] - 7s 8ms/step - loss: 0.0336 - accuracy: 0.9905 - val_loss: 0.3725 - val_accuracy: 0.9344\n",
      "Epoch 67/150\n",
      "873/873 [==============================] - 7s 8ms/step - loss: 0.0341 - accuracy: 0.9892 - val_loss: 0.2799 - val_accuracy: 0.9415\n",
      "Epoch 68/150\n",
      "873/873 [==============================] - 7s 8ms/step - loss: 0.0390 - accuracy: 0.9877 - val_loss: 0.2939 - val_accuracy: 0.9379\n",
      "Epoch 69/150\n",
      "873/873 [==============================] - 7s 8ms/step - loss: 0.0367 - accuracy: 0.9891 - val_loss: 0.3795 - val_accuracy: 0.9236\n",
      "Epoch 70/150\n",
      "873/873 [==============================] - 7s 8ms/step - loss: 0.0388 - accuracy: 0.9872 - val_loss: 0.3457 - val_accuracy: 0.9353\n",
      "Epoch 71/150\n",
      "873/873 [==============================] - 7s 8ms/step - loss: 0.0372 - accuracy: 0.9883 - val_loss: 0.4192 - val_accuracy: 0.9379\n",
      "Epoch 72/150\n",
      "873/873 [==============================] - 7s 8ms/step - loss: 0.0395 - accuracy: 0.9888 - val_loss: 0.3534 - val_accuracy: 0.9362\n",
      "Epoch 73/150\n",
      "873/873 [==============================] - 7s 8ms/step - loss: 0.0399 - accuracy: 0.9889 - val_loss: 0.2570 - val_accuracy: 0.9326\n",
      "Epoch 74/150\n",
      "873/873 [==============================] - 7s 8ms/step - loss: 0.0377 - accuracy: 0.9889 - val_loss: 0.2142 - val_accuracy: 0.9532\n",
      "Epoch 75/150\n",
      "873/873 [==============================] - 7s 8ms/step - loss: 0.0365 - accuracy: 0.9897 - val_loss: 0.3666 - val_accuracy: 0.9299\n",
      "Epoch 76/150\n",
      "873/873 [==============================] - 7s 8ms/step - loss: 0.0432 - accuracy: 0.9880 - val_loss: 0.2823 - val_accuracy: 0.9388\n",
      "Epoch 77/150\n",
      "873/873 [==============================] - 7s 8ms/step - loss: 0.0278 - accuracy: 0.9914 - val_loss: 0.2794 - val_accuracy: 0.9362\n",
      "Epoch 78/150\n",
      "873/873 [==============================] - 7s 8ms/step - loss: 0.0462 - accuracy: 0.9874 - val_loss: 0.3518 - val_accuracy: 0.9299\n",
      "Epoch 79/150\n",
      "873/873 [==============================] - 7s 8ms/step - loss: 0.0282 - accuracy: 0.9919 - val_loss: 0.3288 - val_accuracy: 0.9299\n",
      "Epoch 80/150\n",
      "873/873 [==============================] - 7s 8ms/step - loss: 0.0442 - accuracy: 0.9879 - val_loss: 0.4151 - val_accuracy: 0.9281\n",
      "Epoch 81/150\n",
      "873/873 [==============================] - 7s 8ms/step - loss: 0.0425 - accuracy: 0.9878 - val_loss: 0.3230 - val_accuracy: 0.9371\n",
      "Epoch 82/150\n",
      "873/873 [==============================] - 7s 8ms/step - loss: 0.0347 - accuracy: 0.9894 - val_loss: 0.3597 - val_accuracy: 0.9344\n",
      "Epoch 83/150\n",
      "873/873 [==============================] - 7s 8ms/step - loss: 0.0425 - accuracy: 0.9882 - val_loss: 0.2954 - val_accuracy: 0.9451\n",
      "Epoch 84/150\n",
      "873/873 [==============================] - 7s 8ms/step - loss: 0.0306 - accuracy: 0.9906 - val_loss: 0.3125 - val_accuracy: 0.9308\n",
      "Epoch 85/150\n",
      "873/873 [==============================] - 7s 8ms/step - loss: 0.0356 - accuracy: 0.9885 - val_loss: 0.3263 - val_accuracy: 0.9406\n",
      "Epoch 86/150\n",
      "873/873 [==============================] - 7s 8ms/step - loss: 0.0279 - accuracy: 0.9923 - val_loss: 0.4380 - val_accuracy: 0.9155\n",
      "Epoch 87/150\n",
      "873/873 [==============================] - 7s 8ms/step - loss: 0.0400 - accuracy: 0.9892 - val_loss: 0.2595 - val_accuracy: 0.9451\n",
      "Epoch 88/150\n",
      "873/873 [==============================] - 7s 8ms/step - loss: 0.0317 - accuracy: 0.9913 - val_loss: 0.4162 - val_accuracy: 0.9326\n",
      "Epoch 89/150\n",
      "873/873 [==============================] - 7s 8ms/step - loss: 0.0275 - accuracy: 0.9929 - val_loss: 0.3098 - val_accuracy: 0.9353\n",
      "Epoch 90/150\n",
      "873/873 [==============================] - 7s 8ms/step - loss: 0.0354 - accuracy: 0.9890 - val_loss: 0.2571 - val_accuracy: 0.9478\n",
      "Epoch 91/150\n",
      "873/873 [==============================] - 7s 8ms/step - loss: 0.0373 - accuracy: 0.9900 - val_loss: 0.2835 - val_accuracy: 0.9505\n",
      "Epoch 92/150\n",
      "873/873 [==============================] - 7s 8ms/step - loss: 0.0305 - accuracy: 0.9905 - val_loss: 0.2594 - val_accuracy: 0.9397\n",
      "Epoch 93/150\n",
      "873/873 [==============================] - 7s 8ms/step - loss: 0.0342 - accuracy: 0.9900 - val_loss: 0.3353 - val_accuracy: 0.9478\n",
      "Epoch 94/150\n",
      "873/873 [==============================] - 7s 8ms/step - loss: 0.0374 - accuracy: 0.9898 - val_loss: 0.2484 - val_accuracy: 0.9505\n",
      "Epoch 95/150\n",
      "873/873 [==============================] - 7s 8ms/step - loss: 0.0292 - accuracy: 0.9910 - val_loss: 0.3148 - val_accuracy: 0.9451\n",
      "Epoch 96/150\n",
      "873/873 [==============================] - 7s 8ms/step - loss: 0.0265 - accuracy: 0.9930 - val_loss: 0.3662 - val_accuracy: 0.9433\n",
      "Epoch 97/150\n",
      "873/873 [==============================] - 7s 8ms/step - loss: 0.0290 - accuracy: 0.9924 - val_loss: 0.2900 - val_accuracy: 0.9415\n",
      "Epoch 98/150\n",
      "873/873 [==============================] - 7s 8ms/step - loss: 0.0308 - accuracy: 0.9908 - val_loss: 0.3572 - val_accuracy: 0.9424\n",
      "Epoch 99/150\n",
      "873/873 [==============================] - 7s 8ms/step - loss: 0.0265 - accuracy: 0.9922 - val_loss: 0.2425 - val_accuracy: 0.9514\n",
      "Epoch 100/150\n",
      "873/873 [==============================] - 7s 8ms/step - loss: 0.0395 - accuracy: 0.9893 - val_loss: 0.3634 - val_accuracy: 0.9344\n",
      "Epoch 101/150\n",
      "873/873 [==============================] - 7s 8ms/step - loss: 0.0308 - accuracy: 0.9913 - val_loss: 0.3355 - val_accuracy: 0.9397\n",
      "Epoch 102/150\n",
      "873/873 [==============================] - 7s 8ms/step - loss: 0.0293 - accuracy: 0.9910 - val_loss: 0.3800 - val_accuracy: 0.9335\n",
      "Epoch 103/150\n",
      "873/873 [==============================] - 7s 8ms/step - loss: 0.0437 - accuracy: 0.9890 - val_loss: 0.2810 - val_accuracy: 0.9362\n",
      "Epoch 104/150\n",
      "873/873 [==============================] - 7s 8ms/step - loss: 0.0353 - accuracy: 0.9907 - val_loss: 0.2852 - val_accuracy: 0.9415\n",
      "Epoch 105/150\n",
      "873/873 [==============================] - 7s 8ms/step - loss: 0.0303 - accuracy: 0.9918 - val_loss: 0.3404 - val_accuracy: 0.9371\n",
      "Epoch 106/150\n",
      "873/873 [==============================] - 7s 8ms/step - loss: 0.0198 - accuracy: 0.9941 - val_loss: 0.3390 - val_accuracy: 0.9335\n",
      "Epoch 107/150\n",
      "873/873 [==============================] - 7s 8ms/step - loss: 0.0398 - accuracy: 0.9904 - val_loss: 0.3546 - val_accuracy: 0.9371\n",
      "Epoch 108/150\n",
      "873/873 [==============================] - 7s 8ms/step - loss: 0.0335 - accuracy: 0.9919 - val_loss: 0.2987 - val_accuracy: 0.9505\n",
      "Epoch 109/150\n",
      "873/873 [==============================] - 7s 8ms/step - loss: 0.0386 - accuracy: 0.9905 - val_loss: 0.2677 - val_accuracy: 0.9415\n",
      "Epoch 110/150\n",
      "873/873 [==============================] - 7s 8ms/step - loss: 0.0244 - accuracy: 0.9934 - val_loss: 0.2822 - val_accuracy: 0.9397\n",
      "Epoch 111/150\n",
      "873/873 [==============================] - 7s 8ms/step - loss: 0.0305 - accuracy: 0.9913 - val_loss: 0.2490 - val_accuracy: 0.9424\n",
      "Epoch 112/150\n",
      "873/873 [==============================] - 7s 8ms/step - loss: 0.0310 - accuracy: 0.9915 - val_loss: 0.2961 - val_accuracy: 0.9424\n",
      "Epoch 113/150\n",
      "873/873 [==============================] - 7s 8ms/step - loss: 0.0365 - accuracy: 0.9896 - val_loss: 0.2646 - val_accuracy: 0.9469\n",
      "Epoch 114/150\n",
      "873/873 [==============================] - 7s 8ms/step - loss: 0.0280 - accuracy: 0.9923 - val_loss: 0.2959 - val_accuracy: 0.9460\n"
     ]
    },
    {
     "name": "stdout",
     "output_type": "stream",
     "text": [
      "Epoch 115/150\n",
      "873/873 [==============================] - 7s 8ms/step - loss: 0.0381 - accuracy: 0.9913 - val_loss: 0.3087 - val_accuracy: 0.9469\n",
      "Epoch 116/150\n",
      "873/873 [==============================] - 7s 8ms/step - loss: 0.0251 - accuracy: 0.9922 - val_loss: 0.3411 - val_accuracy: 0.9496\n",
      "Epoch 117/150\n",
      "873/873 [==============================] - 7s 8ms/step - loss: 0.0261 - accuracy: 0.9928 - val_loss: 0.4056 - val_accuracy: 0.9379\n",
      "Epoch 118/150\n",
      "873/873 [==============================] - 7s 8ms/step - loss: 0.0269 - accuracy: 0.9919 - val_loss: 0.3472 - val_accuracy: 0.9424\n",
      "Epoch 119/150\n",
      "873/873 [==============================] - 7s 8ms/step - loss: 0.0410 - accuracy: 0.9903 - val_loss: 0.3406 - val_accuracy: 0.9415\n",
      "Epoch 120/150\n",
      "873/873 [==============================] - 7s 8ms/step - loss: 0.0197 - accuracy: 0.9938 - val_loss: 0.3230 - val_accuracy: 0.9532\n",
      "Epoch 121/150\n",
      "873/873 [==============================] - 7s 8ms/step - loss: 0.0360 - accuracy: 0.9918 - val_loss: 0.3665 - val_accuracy: 0.9335\n",
      "Epoch 122/150\n",
      "873/873 [==============================] - 7s 8ms/step - loss: 0.0238 - accuracy: 0.9924 - val_loss: 0.3838 - val_accuracy: 0.9433\n",
      "Epoch 123/150\n",
      "873/873 [==============================] - 7s 8ms/step - loss: 0.0372 - accuracy: 0.9912 - val_loss: 0.3560 - val_accuracy: 0.9388\n",
      "Epoch 124/150\n",
      "873/873 [==============================] - 7s 8ms/step - loss: 0.0238 - accuracy: 0.9936 - val_loss: 0.2592 - val_accuracy: 0.9550\n",
      "Epoch 125/150\n",
      "873/873 [==============================] - 7s 8ms/step - loss: 0.0246 - accuracy: 0.9931 - val_loss: 0.4203 - val_accuracy: 0.9397\n",
      "Epoch 126/150\n",
      "873/873 [==============================] - 7s 8ms/step - loss: 0.0320 - accuracy: 0.9912 - val_loss: 0.2346 - val_accuracy: 0.9532\n",
      "Epoch 127/150\n",
      "873/873 [==============================] - 7s 8ms/step - loss: 0.0215 - accuracy: 0.9936 - val_loss: 0.2735 - val_accuracy: 0.9496\n",
      "Epoch 128/150\n",
      "873/873 [==============================] - 7s 8ms/step - loss: 0.0393 - accuracy: 0.9900 - val_loss: 0.2706 - val_accuracy: 0.9523\n",
      "Epoch 129/150\n",
      "873/873 [==============================] - 7s 8ms/step - loss: 0.0289 - accuracy: 0.9920 - val_loss: 0.3317 - val_accuracy: 0.9460\n",
      "Epoch 130/150\n",
      "873/873 [==============================] - 7s 8ms/step - loss: 0.0244 - accuracy: 0.9931 - val_loss: 0.3127 - val_accuracy: 0.9505\n",
      "Epoch 131/150\n",
      "873/873 [==============================] - 7s 8ms/step - loss: 0.0329 - accuracy: 0.9920 - val_loss: 0.3959 - val_accuracy: 0.9442\n",
      "Epoch 132/150\n",
      "873/873 [==============================] - 7s 8ms/step - loss: 0.0280 - accuracy: 0.9927 - val_loss: 0.3600 - val_accuracy: 0.9326\n",
      "Epoch 133/150\n",
      "873/873 [==============================] - 7s 8ms/step - loss: 0.0379 - accuracy: 0.9915 - val_loss: 0.3213 - val_accuracy: 0.9397\n",
      "Epoch 134/150\n",
      "873/873 [==============================] - 7s 8ms/step - loss: 0.0236 - accuracy: 0.9930 - val_loss: 0.3292 - val_accuracy: 0.9478\n",
      "Epoch 135/150\n",
      "873/873 [==============================] - 7s 8ms/step - loss: 0.0250 - accuracy: 0.9933 - val_loss: 0.3582 - val_accuracy: 0.9442\n",
      "Epoch 136/150\n",
      "873/873 [==============================] - 7s 8ms/step - loss: 0.0457 - accuracy: 0.9887 - val_loss: 0.3003 - val_accuracy: 0.9379\n",
      "Epoch 137/150\n",
      "873/873 [==============================] - 7s 8ms/step - loss: 0.0316 - accuracy: 0.9917 - val_loss: 0.2506 - val_accuracy: 0.9451\n",
      "Epoch 138/150\n",
      "873/873 [==============================] - 7s 8ms/step - loss: 0.0272 - accuracy: 0.9923 - val_loss: 0.3732 - val_accuracy: 0.9397\n",
      "Epoch 139/150\n",
      "873/873 [==============================] - 7s 8ms/step - loss: 0.0276 - accuracy: 0.9928 - val_loss: 0.3958 - val_accuracy: 0.9353\n",
      "Epoch 140/150\n",
      "873/873 [==============================] - 7s 8ms/step - loss: 0.0383 - accuracy: 0.9911 - val_loss: 0.3365 - val_accuracy: 0.9424\n",
      "Epoch 141/150\n",
      "873/873 [==============================] - 7s 8ms/step - loss: 0.0388 - accuracy: 0.9906 - val_loss: 0.2951 - val_accuracy: 0.9406\n",
      "Epoch 142/150\n",
      "873/873 [==============================] - 7s 8ms/step - loss: 0.0289 - accuracy: 0.9927 - val_loss: 0.3389 - val_accuracy: 0.9478\n",
      "Epoch 143/150\n",
      "873/873 [==============================] - 7s 8ms/step - loss: 0.0222 - accuracy: 0.9938 - val_loss: 0.3098 - val_accuracy: 0.9379\n"
     ]
    },
    {
     "data": {
      "text/plain": [
       "<keras.callbacks.History at 0x251d895c400>"
      ]
     },
     "execution_count": 25,
     "metadata": {},
     "output_type": "execute_result"
    }
   ],
   "source": [
    "from tensorflow.keras.callbacks import EarlyStopping\n",
    "early_stop = EarlyStopping(monitor = 'loss', patience = 23 )\n",
    "\n",
    "m1.fit(X_train,y_train,epochs=150,batch_size=16, validation_data=(X_val,y_val), callbacks = [early_stop], verbose=1)"
   ]
  },
  {
   "cell_type": "code",
   "execution_count": 26,
   "metadata": {
    "id": "d6OA7oX-yByT"
   },
   "outputs": [],
   "source": [
    "# Get training history\n",
    "metrics = pd.DataFrame(m1.history.history)"
   ]
  },
  {
   "cell_type": "code",
   "execution_count": 27,
   "metadata": {},
   "outputs": [],
   "source": [
    "import os\n",
    "exp_num = []\n",
    "if not os.path.exists(\"./experiments\"):\n",
    "    os.mkdir(\"./experiments\")\n",
    "folders = os.listdir(\"./experiments\")\n",
    "for folder in folders:\n",
    "    exp_num.append(int(folder.split(\"#\")[1]))\n",
    "\n",
    "\n",
    "if len(exp_num) == 0:\n",
    "    exp_path = r\"./experiments/exp#1\"\n",
    "else:\n",
    "    exp_path = r\"./experiments/exp#\"+str(max(exp_num)+1)\n",
    "\n",
    "\n",
    "\n",
    "\n",
    "os.mkdir(exp_path)\n",
    "os.mkdir(os.path.join(exp_path, \"results\"))\n",
    "os.mkdir(os.path.join(exp_path, \"weights\"))\n",
    "\n",
    "results = os.path.join(exp_path, \"results\")\n",
    "weights = os.path.join(exp_path, \"weights\")"
   ]
  },
  {
   "cell_type": "code",
   "execution_count": 28,
   "metadata": {},
   "outputs": [
    {
     "name": "stdout",
     "output_type": "stream",
     "text": [
      "./experiments/exp#4\\results\n"
     ]
    }
   ],
   "source": [
    "print(results)"
   ]
  },
  {
   "cell_type": "code",
   "execution_count": 29,
   "metadata": {
    "id": "vs5CCwj993FX"
   },
   "outputs": [
    {
     "name": "stdout",
     "output_type": "stream",
     "text": [
      "60/60 [==============================] - 1s 6ms/step - loss: 0.2034 - accuracy: 0.9544\n"
     ]
    }
   ],
   "source": [
    "# Save The Trained model along with it training history   \n",
    "Accuracy = m1.evaluate(X_test, y_test)[-1]\n",
    "name = str(round(Accuracy, 4))\n",
    "\n",
    "metrics.to_pickle(os.path.join(results, name+'.pkl'))\n",
    "m1.save(os.path.join(weights, name + '.h5'))"
   ]
  },
  {
   "cell_type": "code",
   "execution_count": 45,
   "metadata": {
    "id": "5F7i-oCwytup",
    "scrolled": true
   },
   "outputs": [
    {
     "data": {
      "image/png": "[encoded data removed]",
      "text/plain": [
       "<Figure size 720x504 with 1 Axes>"
      ]
     },
     "metadata": {
      "needs_background": "light"
     },
     "output_type": "display_data"
    },
    {
     "data": {
      "image/png": "[encoded data removed]",
      "text/plain": [
       "<Figure size 720x504 with 1 Axes>"
      ]
     },
     "metadata": {
      "needs_background": "light"
     },
     "output_type": "display_data"
    }
   ],
   "source": [
    "## Dispaly the plot of \n",
    "rows = 2\n",
    "columns = 1\n",
    "  \n",
    "# Display Train loss vs Validation loss at each Epoch\n",
    "fig = plt.figure(figsize=(10, 7))\n",
    "fig.add_subplot(rows, columns, 1)\n",
    "plt.plot(metrics['loss'])\n",
    "plt.plot(metrics['val_loss'])\n",
    "plt.title('Model Loss')\n",
    "plt.ylabel('loss')\n",
    "plt.xlabel('epoch')\n",
    "plt.legend(['train', 'val'], loc='upper left')\n",
    "plt.savefig(os.path.join(results, 'loss_epoch.png'))\n",
    "plt.show()\n",
    "\n",
    "  \n",
    "# Display Train loss vs Validation loss at each Epoch\n",
    "fig = plt.figure(figsize=(10, 7))\n",
    "fig.add_subplot(rows, columns, 2)\n",
    "plt.plot(metrics['accuracy'])\n",
    "plt.plot(metrics['val_accuracy'])\n",
    "plt.title('Model Accuracy')\n",
    "plt.ylabel('accuracy')\n",
    "plt.xlabel('epoch')\n",
    "plt.legend(['train', 'val'], loc='upper left')\n",
    "plt.savefig(os.path.join(results, 'acc_epoch.png'))\n",
    "plt.show()\n",
    "\n"
   ]
  },
  {
   "cell_type": "code",
   "execution_count": 50,
   "metadata": {
    "id": "HQOKaA8zfv4K"
   },
   "outputs": [],
   "source": [
    "## Get the \n",
    "predict_x = m1.predict(X_test) \n",
    "predictions = np.argmax(predict_x,axis=1) "
   ]
  },
  {
   "cell_type": "code",
   "execution_count": 51,
   "metadata": {
    "id": "xy9_ZzsYkByi"
   },
   "outputs": [],
   "source": [
    "# Decode the Model's predections  (from [0,1,0,2..] to ['Glioma','Meningioma'...]) of the Test set using the the dictionary 'decode_dict' \n",
    "predictions = np.vectorize(decode_dict.get)(predictions)"
   ]
  },
  {
   "cell_type": "code",
   "execution_count": 52,
   "metadata": {
    "id": "IVYX1MCzjx00"
   },
   "outputs": [
    {
     "name": "stdout",
     "output_type": "stream",
     "text": [
      "              precision    recall  f1-score   support\n",
      "\n",
      "   Glioma II       0.75      0.96      0.84       112\n",
      "  Glioma III       0.93      0.96      0.94       188\n",
      "   Glioma VI       0.98      0.85      0.91       360\n",
      "  Meningioma       0.99      0.96      0.97       432\n",
      "    No tumor       0.97      1.00      0.99       204\n",
      "   Pituitary       0.97      1.00      0.98       612\n",
      "\n",
      "    accuracy                           0.95      1908\n",
      "   macro avg       0.93      0.95      0.94      1908\n",
      "weighted avg       0.96      0.95      0.95      1908\n",
      "\n"
     ]
    }
   ],
   "source": [
    "print(classification_report(y_test_eval, predictions))"
   ]
  },
  {
   "cell_type": "code",
   "execution_count": 61,
   "metadata": {
    "id": "HOVPJjy0udhD"
   },
   "outputs": [
    {
     "data": {
      "image/png": "[encoded data removed]",
      "text/plain": [
       "<Figure size 720x504 with 2 Axes>"
      ]
     },
     "metadata": {
      "needs_background": "light"
     },
     "output_type": "display_data"
    }
   ],
   "source": [
    "labels = sorted(aug_test_DF.Label.unique())\n",
    "\n",
    "cm = pd.DataFrame(confusion_matrix(y_test_eval, predictions), index=labels, columns=labels)\n",
    "plt.figure(figsize = (10,7))\n",
    "plt.title('Confusion matrix')\n",
    "sns.heatmap(cm, annot=True, cmap=\"jet\",fmt = 'd')\n",
    "plt.ylabel('True labels')\n",
    "plt.xlabel('Predicted labels')\n",
    "plt.savefig(os.path.join(results, 'confusion_matrix.png'))\n",
    "plt.show()"
   ]
  },
  {
   "cell_type": "code",
   "execution_count": null,
   "metadata": {
    "id": "7_fru9v4mHup"
   },
   "outputs": [],
   "source": []
  },
  {
   "cell_type": "code",
   "execution_count": 54,
   "metadata": {},
   "outputs": [
    {
     "data": {
      "text/plain": [
       "['Glioma II', 'Glioma III', 'Glioma VI', 'Meningioma', 'No tumor', 'Pituitary']"
      ]
     },
     "execution_count": 54,
     "metadata": {},
     "output_type": "execute_result"
    }
   ],
   "source": [
    "sorted(aug_test_DF.Label.unique())"
   ]
  },
  {
   "cell_type": "code",
   "execution_count": 73,
   "metadata": {},
   "outputs": [
    {
     "data": {
      "text/plain": [
       "204"
      ]
     },
     "execution_count": 73,
     "metadata": {},
     "output_type": "execute_result"
    }
   ],
   "source": [
    "len(aug_test_DF[aug_test_DF.Label == \"No tumor\"])"
   ]
  },
  {
   "cell_type": "code",
   "execution_count": null,
   "metadata": {},
   "outputs": [],
   "source": []
  }
 ],
 "metadata": {
  "accelerator": "GPU",
  "colab": {
   "collapsed_sections": [],
   "name": "5_labels_model_v1.ipynb",
   "provenance": []
  },
  "kernelspec": {
   "display_name": "Python 3 (ipykernel)",
   "language": "python",
   "name": "python3"
  },
  "language_info": {
   "codemirror_mode": {
    "name": "ipython",
    "version": 3
   },
   "file_extension": ".py",
   "mimetype": "text/x-python",
   "name": "python",
   "nbconvert_exporter": "python",
   "pygments_lexer": "ipython3",
   "version": "3.9.7"
  }
 },
 "nbformat": 4,
 "nbformat_minor": 1
}
