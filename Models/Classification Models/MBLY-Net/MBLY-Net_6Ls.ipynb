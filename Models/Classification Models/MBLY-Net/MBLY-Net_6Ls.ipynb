{
 "cells": [
  {
   "cell_type": "markdown",
   "metadata": {
    "id": "vt51_KACTdGf"
   },
   "source": [
    "## 0. Setting up the Environment\n"
   ]
  },
  {
   "cell_type": "code",
   "execution_count": 1,
   "metadata": {
    "colab": {
     "base_uri": "https://localhost:8080/"
    },
    "id": "D4Z6Zv3PSOcg",
    "outputId": "b87040f7-50f1-4633-bcd9-415194d37d2e"
   },
   "outputs": [],
   "source": [
    "## impoort labaries \n",
    "import os \n",
    "import cv2\n",
    "import mat73\n",
    "import time\n",
    "import keras\n",
    "import pandas as pd\n",
    "import numpy as np \n",
    "import seaborn as sns\n",
    "import skimage\n",
    "import tensorflow as tf\n",
    "import matplotlib.pyplot as plt\n",
    "from PIL import Image, ImageOps \n",
    "from skimage.transform import resize\n",
    "from keras.models import Sequential\n",
    "from tensorflow.keras import optimizers\n",
    "from tqdm.notebook import tqdm_notebook as tqdm\n",
    "from sklearn.metrics import classification_report, confusion_matrix\n",
    "from keras.layers import Conv2D, MaxPooling2D, Flatten, Dense, Dropout, BatchNormalization,  Convolution2D"
   ]
  },
  {
   "cell_type": "markdown",
   "metadata": {
    "id": "sYWmkuxOWtm4"
   },
   "source": [
    "## 1. Data Importing "
   ]
  },
  {
   "cell_type": "code",
   "execution_count": 2,
   "metadata": {},
   "outputs": [],
   "source": [
    "SIZE_X = 128\n",
    "SIZE_Y = 128\n",
    "SIZE_Z = 1\n",
    "CLASS_NUM = 6\n",
    "\n",
    "aug_train_DF = pd.read_pickle(r\"../../../Datasets/Dataset_B_2/aug_train_DF_{}.pkl\".format(SIZE_X))\n",
    "aug_val_DF = pd.read_pickle(r\"../../../Datasets/Dataset_B_2/aug_val_DF_{}.pkl\".format(SIZE_X))\n",
    "aug_test_DF = pd.read_pickle(r\"../../../Datasets/Dataset_B_2/aug_test_DF_{}.pkl\".format(SIZE_X))"
   ]
  },
  {
   "cell_type": "code",
   "execution_count": 3,
   "metadata": {
    "colab": {
     "background_save": true
    },
    "id": "kaaNJb4nR5Z5",
    "outputId": "229fd2a5-846a-4168-abdf-2db9f91c282d"
   },
   "outputs": [
    {
     "data": {
      "text/html": [
       "<div>\n",
       "<style scoped>\n",
       "    .dataframe tbody tr th:only-of-type {\n",
       "        vertical-align: middle;\n",
       "    }\n",
       "\n",
       "    .dataframe tbody tr th {\n",
       "        vertical-align: top;\n",
       "    }\n",
       "\n",
       "    .dataframe thead th {\n",
       "        text-align: right;\n",
       "    }\n",
       "</style>\n",
       "<table border=\"1\" class=\"dataframe\">\n",
       "  <thead>\n",
       "    <tr style=\"text-align: right;\">\n",
       "      <th></th>\n",
       "      <th>PID</th>\n",
       "      <th>Label</th>\n",
       "      <th>Image</th>\n",
       "      <th>File</th>\n",
       "    </tr>\n",
       "  </thead>\n",
       "  <tbody>\n",
       "    <tr>\n",
       "      <th>1804</th>\n",
       "      <td>Heatly_dataset_#998</td>\n",
       "      <td>No tumor</td>\n",
       "      <td>[[0.0, 0.0, 0.0, 0.0, 0.0, 0.0, 0.0, 0.0, 0.0,...</td>\n",
       "      <td>no299.jpg</td>\n",
       "    </tr>\n",
       "    <tr>\n",
       "      <th>6600</th>\n",
       "      <td>HF1398</td>\n",
       "      <td>Glioma III</td>\n",
       "      <td>[[0.0, 0.0, 0.0, 0.0, 0.0, 0.0, 0.0, 0.0, 0.0,...</td>\n",
       "      <td>D:\\Datasets\\manifest-tXudPFfp43472957274060920...</td>\n",
       "    </tr>\n",
       "    <tr>\n",
       "      <th>1042</th>\n",
       "      <td>103925</td>\n",
       "      <td>Meningioma</td>\n",
       "      <td>[[0.0, 0.0, 0.0, 0.0, 0.0, 0.0, 0.0, 0.0, 0.0,...</td>\n",
       "      <td>42.mat</td>\n",
       "    </tr>\n",
       "    <tr>\n",
       "      <th>18139</th>\n",
       "      <td>Heatly_dataset_#998</td>\n",
       "      <td>No tumor</td>\n",
       "      <td>[[0.00784313725490196, 0.00784313725490196, 0....</td>\n",
       "      <td>no524.jpg</td>\n",
       "    </tr>\n",
       "    <tr>\n",
       "      <th>7436</th>\n",
       "      <td>105538</td>\n",
       "      <td>Pituitary</td>\n",
       "      <td>[[0.0, 0.0, 0.0, 0.0, 0.0, 0.0, 0.0, 0.0, 0.0,...</td>\n",
       "      <td>1567.mat</td>\n",
       "    </tr>\n",
       "  </tbody>\n",
       "</table>\n",
       "</div>"
      ],
      "text/plain": [
       "                       PID       Label  \\\n",
       "1804   Heatly_dataset_#998    No tumor   \n",
       "6600                HF1398  Glioma III   \n",
       "1042                103925  Meningioma   \n",
       "18139  Heatly_dataset_#998    No tumor   \n",
       "7436                105538   Pituitary   \n",
       "\n",
       "                                                   Image  \\\n",
       "1804   [[0.0, 0.0, 0.0, 0.0, 0.0, 0.0, 0.0, 0.0, 0.0,...   \n",
       "6600   [[0.0, 0.0, 0.0, 0.0, 0.0, 0.0, 0.0, 0.0, 0.0,...   \n",
       "1042   [[0.0, 0.0, 0.0, 0.0, 0.0, 0.0, 0.0, 0.0, 0.0,...   \n",
       "18139  [[0.00784313725490196, 0.00784313725490196, 0....   \n",
       "7436   [[0.0, 0.0, 0.0, 0.0, 0.0, 0.0, 0.0, 0.0, 0.0,...   \n",
       "\n",
       "                                                    File  \n",
       "1804                                           no299.jpg  \n",
       "6600   D:\\Datasets\\manifest-tXudPFfp43472957274060920...  \n",
       "1042                                              42.mat  \n",
       "18139                                          no524.jpg  \n",
       "7436                                            1567.mat  "
      ]
     },
     "execution_count": 3,
     "metadata": {},
     "output_type": "execute_result"
    }
   ],
   "source": [
    "## Combain the df with the Pitutary & Meningioma types with the dataframe of the Glioma grades (I, II,, IV).\n",
    "pd.concat([aug_train_DF, aug_val_DF, aug_test_DF], axis=0, ignore_index = True).sample(5)"
   ]
  },
  {
   "cell_type": "code",
   "execution_count": 4,
   "metadata": {},
   "outputs": [
    {
     "name": "stdout",
     "output_type": "stream",
     "text": [
      "<class 'pandas.core.frame.DataFrame'>\n",
      "RangeIndex: 18612 entries, 0 to 18611\n",
      "Data columns (total 4 columns):\n",
      " #   Column  Non-Null Count  Dtype \n",
      "---  ------  --------------  ----- \n",
      " 0   PID     18612 non-null  object\n",
      " 1   Label   18612 non-null  object\n",
      " 2   Image   18612 non-null  object\n",
      " 3   File    18612 non-null  object\n",
      "dtypes: object(4)\n",
      "memory usage: 581.8+ KB\n"
     ]
    }
   ],
   "source": [
    "pd.concat([aug_train_DF, aug_val_DF, aug_test_DF], axis=0, ignore_index = True).info(5)"
   ]
  },
  {
   "cell_type": "code",
   "execution_count": 5,
   "metadata": {
    "colab": {
     "background_save": true
    },
    "id": "uJEttBBOU9IN",
    "outputId": "d176e92f-d35f-4f92-a264-ead1e87244e6"
   },
   "outputs": [
    {
     "name": "stderr",
     "output_type": "stream",
     "text": [
      "C:\\Users\\Ma7moud\\anaconda3\\envs\\T-UNet\\lib\\site-packages\\seaborn\\_decorators.py:36: FutureWarning: Pass the following variable as a keyword arg: x. From version 0.12, the only valid positional argument will be `data`, and passing other arguments without an explicit keyword will result in an error or misinterpretation.\n",
      "  warnings.warn(\n"
     ]
    },
    {
     "data": {
      "image/png": "[encoded data removed]",
      "text/plain": [
       "<Figure size 432x288 with 1 Axes>"
      ]
     },
     "metadata": {
      "needs_background": "light"
     },
     "output_type": "display_data"
    }
   ],
   "source": [
    "sns.countplot(pd.concat([aug_train_DF, aug_val_DF, aug_test_DF], axis=0, ignore_index = True).Label)\n",
    "plt.show()"
   ]
  },
  {
   "cell_type": "code",
   "execution_count": 6,
   "metadata": {
    "colab": {
     "background_save": true
    },
    "id": "AWLSJpw6WVVo",
    "outputId": "348d3fee-c3a5-442d-96af-5711dec23128"
   },
   "outputs": [
    {
     "data": {
      "image/png": "[encoded data removed]",
      "text/plain": [
       "<Figure size 432x288 with 1 Axes>"
      ]
     },
     "metadata": {},
     "output_type": "display_data"
    }
   ],
   "source": [
    "data = aug_train_DF.groupby(\"Label\")[\"Label\"].count()\n",
    "data.plot.pie(autopct=\"%.1f%%\");"
   ]
  },
  {
   "cell_type": "code",
   "execution_count": 7,
   "metadata": {},
   "outputs": [
    {
     "data": {
      "image/png": "[encoded data removed]",
      "text/plain": [
       "<Figure size 432x288 with 1 Axes>"
      ]
     },
     "metadata": {},
     "output_type": "display_data"
    }
   ],
   "source": [
    "data = aug_val_DF.groupby(\"Label\")[\"Label\"].count()\n",
    "data.plot.pie(autopct=\"%.1f%%\");"
   ]
  },
  {
   "cell_type": "code",
   "execution_count": 8,
   "metadata": {},
   "outputs": [
    {
     "data": {
      "image/png": "[encoded data removed]",
      "text/plain": [
       "<Figure size 432x288 with 1 Axes>"
      ]
     },
     "metadata": {},
     "output_type": "display_data"
    }
   ],
   "source": [
    "data = aug_test_DF.groupby(\"Label\")[\"Label\"].count()\n",
    "data.plot.pie(autopct=\"%.1f%%\");"
   ]
  },
  {
   "cell_type": "markdown",
   "metadata": {
    "id": "Zf3vh4d7w3ZP"
   },
   "source": [
    "## 2. Data-Preprocessing "
   ]
  },
  {
   "cell_type": "markdown",
   "metadata": {
    "id": "Kd502KoZONei"
   },
   "source": [
    "### 2.1 Image Resizing \n"
   ]
  },
  {
   "cell_type": "markdown",
   "metadata": {
    "id": "oDIYJ9-3OWho"
   },
   "source": [
    "### 2.2 Data Augmentation"
   ]
  },
  {
   "cell_type": "markdown",
   "metadata": {},
   "source": [
    "### 2.3 Grayscale to RGB"
   ]
  },
  {
   "cell_type": "code",
   "execution_count": 9,
   "metadata": {
    "colab": {
     "background_save": true
    },
    "id": "hzz5yapeG-M7",
    "outputId": "0d2f1eb1-953a-4141-8ab9-4cb02b8519e8"
   },
   "outputs": [],
   "source": [
    "def normalize(img):\n",
    "    plt.imsave('DR.png', img, cmap='gray')\n",
    "    return cv2.imread('DR.png')[:, :, SIZE_Z]"
   ]
  },
  {
   "cell_type": "code",
   "execution_count": 10,
   "metadata": {},
   "outputs": [],
   "source": [
    "aug_train_DF[\"Image\"] = aug_train_DF[\"Image\"].apply(normalize)\n",
    "aug_val_DF[\"Image\"] = aug_val_DF[\"Image\"].apply(normalize)\n",
    "aug_test_DF[\"Image\"] = aug_test_DF[\"Image\"].apply(normalize)"
   ]
  },
  {
   "cell_type": "markdown",
   "metadata": {
    "id": "yg8moTnTaNeT"
   },
   "source": [
    "### 2.4 Splitting Data into Train, Test, and Validation Sets"
   ]
  },
  {
   "cell_type": "code",
   "execution_count": 11,
   "metadata": {},
   "outputs": [],
   "source": [
    "y_train = aug_train_DF[\"Label\"]\n",
    "X_train = aug_train_DF['Image'].tolist()\n",
    "X_train = np.array(X_train).reshape(-1, SIZE_X, SIZE_Y, SIZE_Z)\n",
    "\n",
    "\n",
    "y_val = aug_val_DF[\"Label\"]\n",
    "X_val = aug_val_DF['Image'].tolist()\n",
    "X_val = np.array(X_val).reshape(-1, SIZE_X, SIZE_Y, SIZE_Z)\n",
    "\n",
    "y_test = aug_test_DF[\"Label\"]\n",
    "X_test = aug_test_DF['Image'].tolist()\n",
    "X_test = np.array(X_test).reshape(-1, SIZE_X, SIZE_Y, SIZE_Z)\n"
   ]
  },
  {
   "cell_type": "code",
   "execution_count": 12,
   "metadata": {},
   "outputs": [
    {
     "name": "stdout",
     "output_type": "stream",
     "text": [
      "X_train shape: (13960, 128, 128, 1) | y_train shape: (13960,)\n",
      "X_val shape  : (1860, 128, 128, 1)  | y_test shape :  (1860,)\n",
      "X_test shape : (2792, 128, 128, 1)  | y_test shape :  (2792,)\n"
     ]
    }
   ],
   "source": [
    "print(\"X_train shape:\", X_train.shape,\"| y_train shape:\", y_train.shape)\n",
    "print(\"X_val shape  :\",X_val.shape,\" | y_test shape : \", y_val.shape)\n",
    "print(\"X_test shape :\",X_test.shape,\" | y_test shape : \", y_test.shape)"
   ]
  },
  {
   "cell_type": "markdown",
   "metadata": {},
   "source": [
    "### 2.5 One-Hot Encode the labels "
   ]
  },
  {
   "cell_type": "code",
   "execution_count": 13,
   "metadata": {
    "colab": {
     "background_save": true
    },
    "id": "uR_Cv0khfpyS",
    "outputId": "0fa96dd1-5899-45b2-9d73-5fcbc132a797"
   },
   "outputs": [],
   "source": [
    "# saving a copy of the testing labels before one hot encoding\n",
    "y_test_eval = y_test\n",
    "# one hot endcoding the labels \n",
    "y_train = pd.get_dummies(y_train)\n",
    "y_test  = pd.get_dummies(y_test)\n",
    "y_val   = pd.get_dummies(y_val)"
   ]
  },
  {
   "cell_type": "code",
   "execution_count": 14,
   "metadata": {},
   "outputs": [
    {
     "name": "stdout",
     "output_type": "stream",
     "text": [
      "X_train shape: (13960, 128, 128, 1) | y_train shape: (13960, 6)\n",
      "X_test shape : (2792, 128, 128, 1)  | y_test shape:  (2792, 6)\n",
      "X_val shape  : (1860, 128, 128, 1)  | y_val shape :  (1860, 6)\n",
      "\n",
      "Total number: 18612\n"
     ]
    }
   ],
   "source": [
    "print(\"X_train shape:\", X_train.shape,\"| y_train shape:\", y_train.shape)\n",
    "print(\"X_test shape :\",X_test.shape,\" | y_test shape: \", y_test.shape)\n",
    "print(\"X_val shape  :\",X_val.shape,\" | y_val shape : \", y_val.shape)\n",
    "print(\"\\nTotal number: {}\".format(len(aug_train_DF)+len(aug_val_DF)+len(aug_test_DF)))"
   ]
  },
  {
   "cell_type": "code",
   "execution_count": 15,
   "metadata": {
    "colab": {
     "background_save": true
    },
    "id": "3DctvR_fVPlF",
    "outputId": "bdf93bfa-b00d-49a3-99c8-f2bde2731658"
   },
   "outputs": [
    {
     "data": {
      "text/html": [
       "<div>\n",
       "<style scoped>\n",
       "    .dataframe tbody tr th:only-of-type {\n",
       "        vertical-align: middle;\n",
       "    }\n",
       "\n",
       "    .dataframe tbody tr th {\n",
       "        vertical-align: top;\n",
       "    }\n",
       "\n",
       "    .dataframe thead th {\n",
       "        text-align: right;\n",
       "    }\n",
       "</style>\n",
       "<table border=\"1\" class=\"dataframe\">\n",
       "  <thead>\n",
       "    <tr style=\"text-align: right;\">\n",
       "      <th></th>\n",
       "      <th>Glioma II</th>\n",
       "      <th>Glioma III</th>\n",
       "      <th>Glioma VI</th>\n",
       "      <th>Meningioma</th>\n",
       "      <th>No tumor</th>\n",
       "      <th>Pituitary</th>\n",
       "    </tr>\n",
       "  </thead>\n",
       "  <tbody>\n",
       "    <tr>\n",
       "      <th>0</th>\n",
       "      <td>0</td>\n",
       "      <td>0</td>\n",
       "      <td>0</td>\n",
       "      <td>0</td>\n",
       "      <td>1</td>\n",
       "      <td>0</td>\n",
       "    </tr>\n",
       "    <tr>\n",
       "      <th>1</th>\n",
       "      <td>0</td>\n",
       "      <td>0</td>\n",
       "      <td>0</td>\n",
       "      <td>0</td>\n",
       "      <td>1</td>\n",
       "      <td>0</td>\n",
       "    </tr>\n",
       "    <tr>\n",
       "      <th>2</th>\n",
       "      <td>0</td>\n",
       "      <td>0</td>\n",
       "      <td>1</td>\n",
       "      <td>0</td>\n",
       "      <td>0</td>\n",
       "      <td>0</td>\n",
       "    </tr>\n",
       "    <tr>\n",
       "      <th>3</th>\n",
       "      <td>0</td>\n",
       "      <td>0</td>\n",
       "      <td>0</td>\n",
       "      <td>0</td>\n",
       "      <td>0</td>\n",
       "      <td>1</td>\n",
       "    </tr>\n",
       "    <tr>\n",
       "      <th>4</th>\n",
       "      <td>0</td>\n",
       "      <td>0</td>\n",
       "      <td>1</td>\n",
       "      <td>0</td>\n",
       "      <td>0</td>\n",
       "      <td>0</td>\n",
       "    </tr>\n",
       "    <tr>\n",
       "      <th>...</th>\n",
       "      <td>...</td>\n",
       "      <td>...</td>\n",
       "      <td>...</td>\n",
       "      <td>...</td>\n",
       "      <td>...</td>\n",
       "      <td>...</td>\n",
       "    </tr>\n",
       "    <tr>\n",
       "      <th>2787</th>\n",
       "      <td>0</td>\n",
       "      <td>0</td>\n",
       "      <td>0</td>\n",
       "      <td>0</td>\n",
       "      <td>0</td>\n",
       "      <td>1</td>\n",
       "    </tr>\n",
       "    <tr>\n",
       "      <th>2788</th>\n",
       "      <td>0</td>\n",
       "      <td>0</td>\n",
       "      <td>0</td>\n",
       "      <td>0</td>\n",
       "      <td>0</td>\n",
       "      <td>1</td>\n",
       "    </tr>\n",
       "    <tr>\n",
       "      <th>2789</th>\n",
       "      <td>0</td>\n",
       "      <td>0</td>\n",
       "      <td>0</td>\n",
       "      <td>0</td>\n",
       "      <td>1</td>\n",
       "      <td>0</td>\n",
       "    </tr>\n",
       "    <tr>\n",
       "      <th>2790</th>\n",
       "      <td>0</td>\n",
       "      <td>1</td>\n",
       "      <td>0</td>\n",
       "      <td>0</td>\n",
       "      <td>0</td>\n",
       "      <td>0</td>\n",
       "    </tr>\n",
       "    <tr>\n",
       "      <th>2791</th>\n",
       "      <td>1</td>\n",
       "      <td>0</td>\n",
       "      <td>0</td>\n",
       "      <td>0</td>\n",
       "      <td>0</td>\n",
       "      <td>0</td>\n",
       "    </tr>\n",
       "  </tbody>\n",
       "</table>\n",
       "<p>2792 rows × 6 columns</p>\n",
       "</div>"
      ],
      "text/plain": [
       "      Glioma II  Glioma III  Glioma VI  Meningioma  No tumor  Pituitary\n",
       "0             0           0          0           0         1          0\n",
       "1             0           0          0           0         1          0\n",
       "2             0           0          1           0         0          0\n",
       "3             0           0          0           0         0          1\n",
       "4             0           0          1           0         0          0\n",
       "...         ...         ...        ...         ...       ...        ...\n",
       "2787          0           0          0           0         0          1\n",
       "2788          0           0          0           0         0          1\n",
       "2789          0           0          0           0         1          0\n",
       "2790          0           1          0           0         0          0\n",
       "2791          1           0          0           0         0          0\n",
       "\n",
       "[2792 rows x 6 columns]"
      ]
     },
     "execution_count": 15,
     "metadata": {},
     "output_type": "execute_result"
    }
   ],
   "source": [
    "y_test"
   ]
  },
  {
   "cell_type": "markdown",
   "metadata": {},
   "source": [
    "### 2.6 Image Normalizatoin"
   ]
  },
  {
   "cell_type": "code",
   "execution_count": 16,
   "metadata": {},
   "outputs": [],
   "source": [
    "X_train = X_train / 255\n",
    "X_val   = X_val / 255\n",
    "X_test  = X_test / 255"
   ]
  },
  {
   "cell_type": "code",
   "execution_count": 17,
   "metadata": {
    "colab": {
     "background_save": true
    },
    "id": "jWFIvPjtiNio"
   },
   "outputs": [],
   "source": [
    "## This Dictionary is used to decode the model's predicted values.  \n",
    "decode_dict = {0 : \"Glioma II\", 1 : \"Glioma III\", 2 : \"Glioma VI\", 3: \"Meningioma\", 4: \"No tumor\", 5: \"Pituitary\"}"
   ]
  },
  {
   "cell_type": "code",
   "execution_count": 18,
   "metadata": {
    "colab": {
     "background_save": true
    },
    "id": "PcsCoY3jggfU",
    "outputId": "3b3c30b0-a9af-4923-a318-cea2b5587807"
   },
   "outputs": [
    {
     "data": {
      "image/png": "[encoded data removed]",
      "text/plain": [
       "<Figure size 936x576 with 1 Axes>"
      ]
     },
     "metadata": {},
     "output_type": "display_data"
    }
   ],
   "source": [
    "import matplotlib.pyplot as plt\n",
    "import numpy as np\n",
    "##  Creating a Pie chart illustrating the percentage of the train, validation, test sets.\n",
    "Data = np.array([len(y_train), len(y_test), len(y_val)])\n",
    "mylabels = [\"Test Set\", \"Test Set\", \"Validation Set\"]\n",
    "plt.figure(figsize=(13, 8))\n",
    "plt.pie(Data, labels = mylabels, autopct=\"%.1f%%\", )\n",
    "plt.legend()\n",
    "plt.show() "
   ]
  },
  {
   "cell_type": "markdown",
   "metadata": {
    "id": "zDCzea2Klw_1"
   },
   "source": [
    "## 3. Models Creation\n"
   ]
  },
  {
   "cell_type": "code",
   "execution_count": 19,
   "metadata": {
    "colab": {
     "background_save": true
    },
    "id": "K58Sn8Gt_6v9"
   },
   "outputs": [],
   "source": [
    "m1 = Sequential()\n",
    "\n",
    "m1.add(Convolution2D( 32, (3,3), activation ='relu', input_shape = (SIZE_X, SIZE_Y, SIZE_Z))) \n",
    "m1.add(MaxPooling2D(pool_size=2))\n",
    "m1.add(Convolution2D(filters=64, kernel_size=4, padding='same', activation='relu'))\n",
    "m1.add(MaxPooling2D(pool_size=2))\n",
    "m1.add(Convolution2D(filters=128, kernel_size=3, padding='same', activation='relu'))\n",
    "m1.add(MaxPooling2D(pool_size=2))\n",
    "m1.add(Dropout(0.50))\n",
    "m1.add(Convolution2D(filters=128, kernel_size=2, padding='same', activation='relu'))\n",
    "m1.add(MaxPooling2D(pool_size=2))\n",
    "m1.add(Dropout(0.50))\n",
    "m1.add(Flatten()) \n",
    "m1.add(Dense(units = 128, activation = 'relu'))\n",
    "m1.add(Dense(units = 32, activation = 'relu'))\n",
    "m1.add(Dense(units = CLASS_NUM, activation = 'softmax'))\n",
    "\n",
    "m1.compile(optimizer='adam', loss = 'categorical_crossentropy', metrics = ['accuracy'])"
   ]
  },
  {
   "cell_type": "markdown",
   "metadata": {
    "id": "6aAVYS26t6c3"
   },
   "source": [
    "### 4. Model Training\n"
   ]
  },
  {
   "cell_type": "code",
   "execution_count": 20,
   "metadata": {
    "id": "LGT4MVY3tkyz"
   },
   "outputs": [
    {
     "name": "stdout",
     "output_type": "stream",
     "text": [
      "Epoch 1/150\n",
      "873/873 [==============================] - 10s 9ms/step - loss: 0.8180 - accuracy: 0.6707 - val_loss: 0.5544 - val_accuracy: 0.7699\n",
      "Epoch 2/150\n",
      "873/873 [==============================] - 7s 8ms/step - loss: 0.4228 - accuracy: 0.8271 - val_loss: 0.4095 - val_accuracy: 0.8118\n",
      "Epoch 3/150\n",
      "873/873 [==============================] - 7s 8ms/step - loss: 0.3238 - accuracy: 0.8691 - val_loss: 0.3250 - val_accuracy: 0.8634\n",
      "Epoch 4/150\n",
      "873/873 [==============================] - 7s 8ms/step - loss: 0.2589 - accuracy: 0.8957 - val_loss: 0.2931 - val_accuracy: 0.8806\n",
      "Epoch 5/150\n",
      "873/873 [==============================] - 7s 8ms/step - loss: 0.2316 - accuracy: 0.9085 - val_loss: 0.2913 - val_accuracy: 0.8866\n",
      "Epoch 6/150\n",
      "873/873 [==============================] - 7s 8ms/step - loss: 0.2026 - accuracy: 0.9223 - val_loss: 0.2829 - val_accuracy: 0.8957\n",
      "Epoch 7/150\n",
      "873/873 [==============================] - 7s 8ms/step - loss: 0.1707 - accuracy: 0.9329 - val_loss: 0.2885 - val_accuracy: 0.8919\n",
      "Epoch 8/150\n",
      "873/873 [==============================] - 7s 8ms/step - loss: 0.1524 - accuracy: 0.9411 - val_loss: 0.2795 - val_accuracy: 0.8952\n",
      "Epoch 9/150\n",
      "873/873 [==============================] - 7s 8ms/step - loss: 0.1441 - accuracy: 0.9464 - val_loss: 0.2446 - val_accuracy: 0.9070\n",
      "Epoch 10/150\n",
      "873/873 [==============================] - 7s 8ms/step - loss: 0.1375 - accuracy: 0.9485 - val_loss: 0.2758 - val_accuracy: 0.8892\n",
      "Epoch 11/150\n",
      "873/873 [==============================] - 7s 8ms/step - loss: 0.1185 - accuracy: 0.9560 - val_loss: 0.2161 - val_accuracy: 0.9183\n",
      "Epoch 12/150\n",
      "873/873 [==============================] - 7s 8ms/step - loss: 0.1002 - accuracy: 0.9633 - val_loss: 0.2310 - val_accuracy: 0.9199\n",
      "Epoch 13/150\n",
      "873/873 [==============================] - 7s 8ms/step - loss: 0.1133 - accuracy: 0.9598 - val_loss: 0.2394 - val_accuracy: 0.9145\n",
      "Epoch 14/150\n",
      "873/873 [==============================] - 7s 8ms/step - loss: 0.0896 - accuracy: 0.9672 - val_loss: 0.2112 - val_accuracy: 0.9237\n",
      "Epoch 15/150\n",
      "873/873 [==============================] - 7s 8ms/step - loss: 0.0911 - accuracy: 0.9671 - val_loss: 0.2818 - val_accuracy: 0.9108\n",
      "Epoch 16/150\n",
      "873/873 [==============================] - 7s 8ms/step - loss: 0.0912 - accuracy: 0.9667 - val_loss: 0.2096 - val_accuracy: 0.9215\n",
      "Epoch 17/150\n",
      "873/873 [==============================] - 7s 8ms/step - loss: 0.0803 - accuracy: 0.9740 - val_loss: 0.2445 - val_accuracy: 0.9161\n",
      "Epoch 18/150\n",
      "873/873 [==============================] - 7s 8ms/step - loss: 0.0788 - accuracy: 0.9741 - val_loss: 0.2576 - val_accuracy: 0.9215\n",
      "Epoch 19/150\n",
      "873/873 [==============================] - 7s 8ms/step - loss: 0.0798 - accuracy: 0.9726 - val_loss: 0.2717 - val_accuracy: 0.9215\n",
      "Epoch 20/150\n",
      "873/873 [==============================] - 7s 8ms/step - loss: 0.0697 - accuracy: 0.9742 - val_loss: 0.2745 - val_accuracy: 0.9199\n",
      "Epoch 21/150\n",
      "873/873 [==============================] - 7s 8ms/step - loss: 0.0710 - accuracy: 0.9746 - val_loss: 0.2491 - val_accuracy: 0.9167\n",
      "Epoch 22/150\n",
      "873/873 [==============================] - 7s 8ms/step - loss: 0.0604 - accuracy: 0.9784 - val_loss: 0.3204 - val_accuracy: 0.9177\n",
      "Epoch 23/150\n",
      "873/873 [==============================] - 7s 8ms/step - loss: 0.0658 - accuracy: 0.9784 - val_loss: 0.3223 - val_accuracy: 0.9204\n",
      "Epoch 24/150\n",
      "873/873 [==============================] - 7s 8ms/step - loss: 0.0631 - accuracy: 0.9777 - val_loss: 0.3010 - val_accuracy: 0.9226\n",
      "Epoch 25/150\n",
      "873/873 [==============================] - 7s 8ms/step - loss: 0.0626 - accuracy: 0.9794 - val_loss: 0.2523 - val_accuracy: 0.9258\n",
      "Epoch 26/150\n",
      "873/873 [==============================] - 7s 8ms/step - loss: 0.0665 - accuracy: 0.9777 - val_loss: 0.2852 - val_accuracy: 0.9301\n",
      "Epoch 27/150\n",
      "873/873 [==============================] - 7s 8ms/step - loss: 0.0580 - accuracy: 0.9822 - val_loss: 0.2524 - val_accuracy: 0.9263\n",
      "Epoch 28/150\n",
      "873/873 [==============================] - 7s 8ms/step - loss: 0.0497 - accuracy: 0.9817 - val_loss: 0.3535 - val_accuracy: 0.9237\n",
      "Epoch 29/150\n",
      "873/873 [==============================] - 7s 8ms/step - loss: 0.0594 - accuracy: 0.9804 - val_loss: 0.2861 - val_accuracy: 0.9247\n",
      "Epoch 30/150\n",
      "873/873 [==============================] - 7s 8ms/step - loss: 0.0540 - accuracy: 0.9818 - val_loss: 0.3092 - val_accuracy: 0.9226\n",
      "Epoch 31/150\n",
      "873/873 [==============================] - 7s 8ms/step - loss: 0.0571 - accuracy: 0.9822 - val_loss: 0.2681 - val_accuracy: 0.9296\n",
      "Epoch 32/150\n",
      "873/873 [==============================] - 7s 8ms/step - loss: 0.0519 - accuracy: 0.9823 - val_loss: 0.2830 - val_accuracy: 0.9194\n",
      "Epoch 33/150\n",
      "873/873 [==============================] - 7s 8ms/step - loss: 0.0491 - accuracy: 0.9837 - val_loss: 0.2537 - val_accuracy: 0.9296\n",
      "Epoch 34/150\n",
      "873/873 [==============================] - 7s 8ms/step - loss: 0.0567 - accuracy: 0.9819 - val_loss: 0.2745 - val_accuracy: 0.9215\n",
      "Epoch 35/150\n",
      "873/873 [==============================] - 7s 8ms/step - loss: 0.0527 - accuracy: 0.9818 - val_loss: 0.2349 - val_accuracy: 0.9317\n",
      "Epoch 36/150\n",
      "873/873 [==============================] - 7s 8ms/step - loss: 0.0529 - accuracy: 0.9850 - val_loss: 0.2774 - val_accuracy: 0.9226\n",
      "Epoch 37/150\n",
      "873/873 [==============================] - 7s 8ms/step - loss: 0.0517 - accuracy: 0.9837 - val_loss: 0.2603 - val_accuracy: 0.9274\n",
      "Epoch 38/150\n",
      "873/873 [==============================] - 7s 8ms/step - loss: 0.0366 - accuracy: 0.9884 - val_loss: 0.2612 - val_accuracy: 0.9414\n",
      "Epoch 39/150\n",
      "873/873 [==============================] - 7s 8ms/step - loss: 0.0497 - accuracy: 0.9838 - val_loss: 0.2990 - val_accuracy: 0.9306\n",
      "Epoch 40/150\n",
      "873/873 [==============================] - 7s 8ms/step - loss: 0.0520 - accuracy: 0.9826 - val_loss: 0.2375 - val_accuracy: 0.9317\n",
      "Epoch 41/150\n",
      "873/873 [==============================] - 7s 8ms/step - loss: 0.0491 - accuracy: 0.9847 - val_loss: 0.3077 - val_accuracy: 0.9285\n",
      "Epoch 42/150\n",
      "873/873 [==============================] - 7s 8ms/step - loss: 0.0448 - accuracy: 0.9842 - val_loss: 0.3344 - val_accuracy: 0.9339\n",
      "Epoch 43/150\n",
      "873/873 [==============================] - 7s 8ms/step - loss: 0.0511 - accuracy: 0.9844 - val_loss: 0.2516 - val_accuracy: 0.9285\n",
      "Epoch 44/150\n",
      "873/873 [==============================] - 7s 8ms/step - loss: 0.0431 - accuracy: 0.9855 - val_loss: 0.2264 - val_accuracy: 0.9419\n",
      "Epoch 45/150\n",
      "873/873 [==============================] - 7s 8ms/step - loss: 0.0378 - accuracy: 0.9876 - val_loss: 0.2832 - val_accuracy: 0.9323\n",
      "Epoch 46/150\n",
      "873/873 [==============================] - 7s 8ms/step - loss: 0.0497 - accuracy: 0.9862 - val_loss: 0.2959 - val_accuracy: 0.9339\n",
      "Epoch 47/150\n",
      "873/873 [==============================] - 7s 8ms/step - loss: 0.0496 - accuracy: 0.9859 - val_loss: 0.2502 - val_accuracy: 0.9387\n",
      "Epoch 48/150\n",
      "873/873 [==============================] - 7s 8ms/step - loss: 0.0385 - accuracy: 0.9873 - val_loss: 0.3320 - val_accuracy: 0.9328\n",
      "Epoch 49/150\n",
      "873/873 [==============================] - 7s 8ms/step - loss: 0.0494 - accuracy: 0.9849 - val_loss: 0.2386 - val_accuracy: 0.9333\n",
      "Epoch 50/150\n",
      "873/873 [==============================] - 7s 8ms/step - loss: 0.0379 - accuracy: 0.9872 - val_loss: 0.3002 - val_accuracy: 0.9344\n",
      "Epoch 51/150\n",
      "873/873 [==============================] - 7s 8ms/step - loss: 0.0371 - accuracy: 0.9878 - val_loss: 0.2938 - val_accuracy: 0.9312\n",
      "Epoch 52/150\n",
      "873/873 [==============================] - 7s 8ms/step - loss: 0.0436 - accuracy: 0.9871 - val_loss: 0.3560 - val_accuracy: 0.9231\n",
      "Epoch 53/150\n",
      "873/873 [==============================] - 7s 8ms/step - loss: 0.0425 - accuracy: 0.9869 - val_loss: 0.3473 - val_accuracy: 0.9258\n",
      "Epoch 54/150\n",
      "873/873 [==============================] - 7s 8ms/step - loss: 0.0370 - accuracy: 0.9867 - val_loss: 0.2708 - val_accuracy: 0.9387\n",
      "Epoch 55/150\n",
      "873/873 [==============================] - 7s 8ms/step - loss: 0.0345 - accuracy: 0.9896 - val_loss: 0.2945 - val_accuracy: 0.9398\n",
      "Epoch 56/150\n",
      "873/873 [==============================] - 7s 8ms/step - loss: 0.0499 - accuracy: 0.9849 - val_loss: 0.2708 - val_accuracy: 0.9392\n",
      "Epoch 57/150\n",
      "873/873 [==============================] - 7s 8ms/step - loss: 0.0430 - accuracy: 0.9875 - val_loss: 0.2711 - val_accuracy: 0.9371\n"
     ]
    },
    {
     "name": "stdout",
     "output_type": "stream",
     "text": [
      "Epoch 58/150\n",
      "873/873 [==============================] - 7s 8ms/step - loss: 0.0285 - accuracy: 0.9912 - val_loss: 0.3348 - val_accuracy: 0.9371\n",
      "Epoch 59/150\n",
      "873/873 [==============================] - 7s 8ms/step - loss: 0.0509 - accuracy: 0.9858 - val_loss: 0.3682 - val_accuracy: 0.9274\n",
      "Epoch 60/150\n",
      "873/873 [==============================] - 7s 8ms/step - loss: 0.0342 - accuracy: 0.9892 - val_loss: 0.2881 - val_accuracy: 0.9392\n",
      "Epoch 61/150\n",
      "873/873 [==============================] - 7s 8ms/step - loss: 0.0312 - accuracy: 0.9904 - val_loss: 0.3267 - val_accuracy: 0.9435\n",
      "Epoch 62/150\n",
      "873/873 [==============================] - 7s 8ms/step - loss: 0.0382 - accuracy: 0.9880 - val_loss: 0.3100 - val_accuracy: 0.9414\n",
      "Epoch 63/150\n",
      "873/873 [==============================] - 7s 8ms/step - loss: 0.0381 - accuracy: 0.9880 - val_loss: 0.2126 - val_accuracy: 0.9425\n",
      "Epoch 64/150\n",
      "873/873 [==============================] - 7s 8ms/step - loss: 0.0326 - accuracy: 0.9884 - val_loss: 0.3285 - val_accuracy: 0.9339\n",
      "Epoch 65/150\n",
      "873/873 [==============================] - 7s 8ms/step - loss: 0.0458 - accuracy: 0.9868 - val_loss: 0.2328 - val_accuracy: 0.9328\n",
      "Epoch 66/150\n",
      "873/873 [==============================] - 7s 8ms/step - loss: 0.0399 - accuracy: 0.9883 - val_loss: 0.2694 - val_accuracy: 0.9344\n",
      "Epoch 67/150\n",
      "873/873 [==============================] - 7s 8ms/step - loss: 0.0246 - accuracy: 0.9924 - val_loss: 0.2398 - val_accuracy: 0.9403\n",
      "Epoch 68/150\n",
      "873/873 [==============================] - 7s 8ms/step - loss: 0.0345 - accuracy: 0.9901 - val_loss: 0.3483 - val_accuracy: 0.9323\n",
      "Epoch 69/150\n",
      "873/873 [==============================] - 7s 8ms/step - loss: 0.0329 - accuracy: 0.9898 - val_loss: 0.2946 - val_accuracy: 0.9419\n",
      "Epoch 70/150\n",
      "873/873 [==============================] - 7s 8ms/step - loss: 0.0370 - accuracy: 0.9887 - val_loss: 0.3439 - val_accuracy: 0.9333\n",
      "Epoch 71/150\n",
      "873/873 [==============================] - 7s 8ms/step - loss: 0.0402 - accuracy: 0.9882 - val_loss: 0.4124 - val_accuracy: 0.9403\n",
      "Epoch 72/150\n",
      "873/873 [==============================] - 7s 8ms/step - loss: 0.0317 - accuracy: 0.9909 - val_loss: 0.3229 - val_accuracy: 0.9317\n",
      "Epoch 73/150\n",
      "873/873 [==============================] - 7s 8ms/step - loss: 0.0377 - accuracy: 0.9892 - val_loss: 0.3332 - val_accuracy: 0.9419\n",
      "Epoch 74/150\n",
      "873/873 [==============================] - 7s 8ms/step - loss: 0.0389 - accuracy: 0.9885 - val_loss: 0.3300 - val_accuracy: 0.9344\n",
      "Epoch 75/150\n",
      "873/873 [==============================] - 7s 8ms/step - loss: 0.0294 - accuracy: 0.9904 - val_loss: 0.2727 - val_accuracy: 0.9446\n",
      "Epoch 76/150\n",
      "873/873 [==============================] - 7s 8ms/step - loss: 0.0352 - accuracy: 0.9891 - val_loss: 0.2791 - val_accuracy: 0.9430\n",
      "Epoch 77/150\n",
      "873/873 [==============================] - 7s 8ms/step - loss: 0.0403 - accuracy: 0.9886 - val_loss: 0.2293 - val_accuracy: 0.9500\n",
      "Epoch 78/150\n",
      "873/873 [==============================] - 7s 8ms/step - loss: 0.0227 - accuracy: 0.9931 - val_loss: 0.2944 - val_accuracy: 0.9419\n",
      "Epoch 79/150\n",
      "873/873 [==============================] - 7s 8ms/step - loss: 0.0419 - accuracy: 0.9883 - val_loss: 0.2605 - val_accuracy: 0.9452\n",
      "Epoch 80/150\n",
      "873/873 [==============================] - 7s 8ms/step - loss: 0.0235 - accuracy: 0.9925 - val_loss: 0.3020 - val_accuracy: 0.9366\n",
      "Epoch 81/150\n",
      "873/873 [==============================] - 7s 8ms/step - loss: 0.0352 - accuracy: 0.9901 - val_loss: 0.3125 - val_accuracy: 0.9366\n",
      "Epoch 82/150\n",
      "873/873 [==============================] - 7s 8ms/step - loss: 0.0331 - accuracy: 0.9900 - val_loss: 0.2989 - val_accuracy: 0.9387\n",
      "Epoch 83/150\n",
      "873/873 [==============================] - 7s 8ms/step - loss: 0.0262 - accuracy: 0.9921 - val_loss: 0.2913 - val_accuracy: 0.9462\n",
      "Epoch 84/150\n",
      "873/873 [==============================] - 7s 8ms/step - loss: 0.0469 - accuracy: 0.9882 - val_loss: 0.3072 - val_accuracy: 0.9301\n",
      "Epoch 85/150\n",
      "873/873 [==============================] - 7s 8ms/step - loss: 0.0270 - accuracy: 0.9919 - val_loss: 0.2839 - val_accuracy: 0.9392\n",
      "Epoch 86/150\n",
      "873/873 [==============================] - 7s 8ms/step - loss: 0.0433 - accuracy: 0.9883 - val_loss: 0.2997 - val_accuracy: 0.9371\n",
      "Epoch 87/150\n",
      "873/873 [==============================] - 7s 8ms/step - loss: 0.0291 - accuracy: 0.9914 - val_loss: 0.3056 - val_accuracy: 0.9360\n",
      "Epoch 88/150\n",
      "873/873 [==============================] - 7s 8ms/step - loss: 0.0329 - accuracy: 0.9905 - val_loss: 0.3641 - val_accuracy: 0.9333\n",
      "Epoch 89/150\n",
      "873/873 [==============================] - 7s 8ms/step - loss: 0.0349 - accuracy: 0.9900 - val_loss: 0.2519 - val_accuracy: 0.9366\n",
      "Epoch 90/150\n",
      "873/873 [==============================] - 7s 8ms/step - loss: 0.0405 - accuracy: 0.9890 - val_loss: 0.3178 - val_accuracy: 0.9403\n",
      "Epoch 91/150\n",
      "873/873 [==============================] - 7s 8ms/step - loss: 0.0233 - accuracy: 0.9938 - val_loss: 0.3451 - val_accuracy: 0.9403\n",
      "Epoch 92/150\n",
      "873/873 [==============================] - 7s 8ms/step - loss: 0.0251 - accuracy: 0.9926 - val_loss: 0.3000 - val_accuracy: 0.9414\n",
      "Epoch 93/150\n",
      "873/873 [==============================] - 7s 8ms/step - loss: 0.0307 - accuracy: 0.9913 - val_loss: 0.3746 - val_accuracy: 0.9398\n",
      "Epoch 94/150\n",
      "873/873 [==============================] - 7s 8ms/step - loss: 0.0345 - accuracy: 0.9909 - val_loss: 0.3330 - val_accuracy: 0.9296\n",
      "Epoch 95/150\n",
      "873/873 [==============================] - 7s 8ms/step - loss: 0.0269 - accuracy: 0.9923 - val_loss: 0.3639 - val_accuracy: 0.9419\n",
      "Epoch 96/150\n",
      "873/873 [==============================] - 7s 8ms/step - loss: 0.0404 - accuracy: 0.9898 - val_loss: 0.3186 - val_accuracy: 0.9403\n",
      "Epoch 97/150\n",
      "873/873 [==============================] - 7s 8ms/step - loss: 0.0282 - accuracy: 0.9917 - val_loss: 0.3611 - val_accuracy: 0.9409\n",
      "Epoch 98/150\n",
      "873/873 [==============================] - 7s 8ms/step - loss: 0.0257 - accuracy: 0.9921 - val_loss: 0.2759 - val_accuracy: 0.9414\n",
      "Epoch 99/150\n",
      "873/873 [==============================] - 7s 8ms/step - loss: 0.0355 - accuracy: 0.9907 - val_loss: 0.2341 - val_accuracy: 0.9435\n",
      "Epoch 100/150\n",
      "873/873 [==============================] - 7s 8ms/step - loss: 0.0379 - accuracy: 0.9903 - val_loss: 0.2815 - val_accuracy: 0.9452\n",
      "Epoch 101/150\n",
      "873/873 [==============================] - 7s 8ms/step - loss: 0.0280 - accuracy: 0.9918 - val_loss: 0.3745 - val_accuracy: 0.9323\n"
     ]
    },
    {
     "data": {
      "text/plain": [
       "<keras.callbacks.History at 0x1d1d217c1f0>"
      ]
     },
     "execution_count": 20,
     "metadata": {},
     "output_type": "execute_result"
    }
   ],
   "source": [
    "from tensorflow.keras.callbacks import EarlyStopping\n",
    "early_stop = EarlyStopping(monitor = 'loss', patience = 23 )\n",
    "\n",
    "m1.fit(X_train,y_train,epochs=150,batch_size=16, validation_data=(X_val,y_val), callbacks = [early_stop], verbose=1)"
   ]
  },
  {
   "cell_type": "code",
   "execution_count": 21,
   "metadata": {
    "id": "d6OA7oX-yByT"
   },
   "outputs": [],
   "source": [
    "# Get training history\n",
    "metrics = pd.DataFrame(m1.history.history)"
   ]
  },
  {
   "cell_type": "code",
   "execution_count": 22,
   "metadata": {},
   "outputs": [],
   "source": [
    "import os\n",
    "exp_num = []\n",
    "if not os.path.exists(\"./experiments\"):\n",
    "    os.mkdir(\"./experiments\")\n",
    "folders = os.listdir(\"./experiments\")\n",
    "for folder in folders:\n",
    "    exp_num.append(int(folder.split(\"#\")[1]))\n",
    "\n",
    "\n",
    "if len(exp_num) == 0:\n",
    "    exp_path = r\"./experiments/exp#1\"\n",
    "else:\n",
    "    exp_path = r\"./experiments/exp#\"+str(max(exp_num)+1)\n",
    "\n",
    "\n",
    "\n",
    "\n",
    "os.mkdir(exp_path)\n",
    "os.mkdir(os.path.join(exp_path, \"results\"))\n",
    "os.mkdir(os.path.join(exp_path, \"weights\"))\n",
    "\n",
    "results = os.path.join(exp_path, \"results\")\n",
    "weights = os.path.join(exp_path, \"weights\")"
   ]
  },
  {
   "cell_type": "code",
   "execution_count": 23,
   "metadata": {},
   "outputs": [
    {
     "name": "stdout",
     "output_type": "stream",
     "text": [
      "./experiments/exp#9\\results\n"
     ]
    }
   ],
   "source": [
    "print(results)"
   ]
  },
  {
   "cell_type": "code",
   "execution_count": 24,
   "metadata": {
    "id": "vs5CCwj993FX"
   },
   "outputs": [
    {
     "name": "stdout",
     "output_type": "stream",
     "text": [
      "88/88 [==============================] - 1s 5ms/step - loss: 0.3320 - accuracy: 0.9352\n"
     ]
    }
   ],
   "source": [
    "# Save The Trained model along with it training history   \n",
    "Accuracy = m1.evaluate(X_test, y_test)[-1]\n",
    "name = str(round(Accuracy, 4))\n",
    "\n",
    "metrics.to_pickle(os.path.join(results, name+'.pkl'))\n",
    "m1.save(os.path.join(weights, name + '.h5'))"
   ]
  },
  {
   "cell_type": "code",
   "execution_count": 25,
   "metadata": {
    "id": "5F7i-oCwytup",
    "scrolled": true
   },
   "outputs": [
    {
     "data": {
      "image/png": "[encoded data removed]",
      "text/plain": [
       "<Figure size 720x504 with 1 Axes>"
      ]
     },
     "metadata": {
      "needs_background": "light"
     },
     "output_type": "display_data"
    },
    {
     "data": {
      "image/png": "[encoded data removed]",
      "text/plain": [
       "<Figure size 720x504 with 1 Axes>"
      ]
     },
     "metadata": {
      "needs_background": "light"
     },
     "output_type": "display_data"
    }
   ],
   "source": [
    "## Dispaly the plot of \n",
    "rows = 2\n",
    "columns = 1\n",
    "  \n",
    "# Display Train loss vs Validation loss at each Epoch\n",
    "fig = plt.figure(figsize=(10, 7))\n",
    "fig.add_subplot(rows, columns, 1)\n",
    "plt.plot(metrics['loss'])\n",
    "plt.plot(metrics['val_loss'])\n",
    "plt.title('Model Loss')\n",
    "plt.ylabel('loss')\n",
    "plt.xlabel('epoch')\n",
    "plt.legend(['train', 'val'], loc='upper left')\n",
    "plt.savefig(os.path.join(results, 'loss_epoch.png'))\n",
    "plt.show()\n",
    "\n",
    "  \n",
    "# Display Train loss vs Validation loss at each Epoch\n",
    "fig = plt.figure(figsize=(10, 7))\n",
    "fig.add_subplot(rows, columns, 2)\n",
    "plt.plot(metrics['accuracy'])\n",
    "plt.plot(metrics['val_accuracy'])\n",
    "plt.title('Model Accuracy')\n",
    "plt.ylabel('accuracy')\n",
    "plt.xlabel('epoch')\n",
    "plt.legend(['train', 'val'], loc='upper left')\n",
    "plt.savefig(os.path.join(results, 'acc_epoch.png'))\n",
    "plt.show()\n",
    "\n"
   ]
  },
  {
   "cell_type": "code",
   "execution_count": 26,
   "metadata": {
    "id": "HQOKaA8zfv4K"
   },
   "outputs": [],
   "source": [
    "## Get the \n",
    "predict_x = m1.predict(X_test) \n",
    "predictions = np.argmax(predict_x,axis=1) "
   ]
  },
  {
   "cell_type": "code",
   "execution_count": 27,
   "metadata": {
    "id": "xy9_ZzsYkByi"
   },
   "outputs": [],
   "source": [
    "# Decode the Model's predections  (from [0,1,0,2..] to ['Glioma','Meningioma'...]) of the Test set using the the dictionary 'decode_dict' \n",
    "predictions = np.vectorize(decode_dict.get)(predictions)"
   ]
  },
  {
   "cell_type": "code",
   "execution_count": 28,
   "metadata": {
    "id": "IVYX1MCzjx00"
   },
   "outputs": [
    {
     "name": "stdout",
     "output_type": "stream",
     "text": [
      "              precision    recall  f1-score   support\n",
      "\n",
      "   Glioma II       0.87      0.87      0.87       420\n",
      "  Glioma III       0.83      0.90      0.86       308\n",
      "   Glioma VI       0.91      0.83      0.87       440\n",
      "  Meningioma       0.98      0.96      0.97       384\n",
      "    No tumor       0.99      0.99      0.99       692\n",
      "   Pituitary       0.96      0.99      0.98       548\n",
      "\n",
      "    accuracy                           0.94      2792\n",
      "   macro avg       0.92      0.93      0.92      2792\n",
      "weighted avg       0.94      0.94      0.94      2792\n",
      "\n"
     ]
    }
   ],
   "source": [
    "print(classification_report(y_test_eval, predictions))"
   ]
  },
  {
   "cell_type": "code",
   "execution_count": 29,
   "metadata": {
    "id": "HOVPJjy0udhD"
   },
   "outputs": [
    {
     "data": {
      "image/png": "[encoded data removed]",
      "text/plain": [
       "<Figure size 720x504 with 2 Axes>"
      ]
     },
     "metadata": {
      "needs_background": "light"
     },
     "output_type": "display_data"
    }
   ],
   "source": [
    "labels = sorted(aug_test_DF.Label.unique())\n",
    "\n",
    "cm = pd.DataFrame(confusion_matrix(y_test_eval, predictions), index=labels, columns=labels)\n",
    "plt.figure(figsize = (10,7))\n",
    "plt.title('Confusion matrix')\n",
    "sns.heatmap(cm, annot=True, cmap=\"PuBu\",fmt = 'd')\n",
    "plt.ylabel('True labels')\n",
    "plt.xlabel('Predicted labels')\n",
    "plt.savefig(os.path.join(results, 'confusion_matrix.png'))\n",
    "plt.show()"
   ]
  },
  {
   "cell_type": "code",
   "execution_count": null,
   "metadata": {},
   "outputs": [],
   "source": []
  }
 ],
 "metadata": {
  "accelerator": "GPU",
  "colab": {
   "collapsed_sections": [],
   "name": "5_labels_model_v1.ipynb",
   "provenance": []
  },
  "kernelspec": {
   "display_name": "Python 3 (ipykernel)",
   "language": "python",
   "name": "python3"
  },
  "language_info": {
   "codemirror_mode": {
    "name": "ipython",
    "version": 3
   },
   "file_extension": ".py",
   "mimetype": "text/x-python",
   "name": "python",
   "nbconvert_exporter": "python",
   "pygments_lexer": "ipython3",
   "version": "3.9.7"
  }
 },
 "nbformat": 4,
 "nbformat_minor": 1
}
