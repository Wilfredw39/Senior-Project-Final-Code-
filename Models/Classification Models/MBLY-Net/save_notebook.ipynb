{
 "cells": [
  {
   "cell_type": "code",
   "execution_count": 21,
   "id": "2c25d8e0",
   "metadata": {},
   "outputs": [
    {
     "data": {
      "text/plain": [
       "'./experiments/exp#9\\\\results\\\\MBLY-Net_6Ls_ex_9.ipynb'"
      ]
     },
     "execution_count": 21,
     "metadata": {},
     "output_type": "execute_result"
    }
   ],
   "source": [
    "file_name = \"MBLY-Net_6Ls\"\n",
    "\n",
    "import os\n",
    "exp_num = []\n",
    "folders = os.listdir(\"./experiments\")\n",
    "for folder in folders:\n",
    "    exp_num.append(int(folder.split(\"#\")[1]))\n",
    "exp_path = r\"./experiments/exp#\"+str(max(exp_num))\n",
    "results = os.path.join(exp_path, \"results\")\n",
    "\n",
    "\n",
    "import shutil\n",
    "original = file_name+\".ipynb\"\n",
    "target = os.path.join(results,\"{}_ex_{}.ipynb\".format(file_name, max(exp_num)))\n",
    "shutil.copyfile(original, target)"
   ]
  },
  {
   "cell_type": "code",
   "execution_count": null,
   "id": "7fde55ec",
   "metadata": {},
   "outputs": [],
   "source": []
  }
 ],
 "metadata": {
  "kernelspec": {
   "display_name": "Python 3 (ipykernel)",
   "language": "python",
   "name": "python3"
  },
  "language_info": {
   "codemirror_mode": {
    "name": "ipython",
    "version": 3
   },
   "file_extension": ".py",
   "mimetype": "text/x-python",
   "name": "python",
   "nbconvert_exporter": "python",
   "pygments_lexer": "ipython3",
   "version": "3.9.7"
  }
 },
 "nbformat": 4,
 "nbformat_minor": 5
}
